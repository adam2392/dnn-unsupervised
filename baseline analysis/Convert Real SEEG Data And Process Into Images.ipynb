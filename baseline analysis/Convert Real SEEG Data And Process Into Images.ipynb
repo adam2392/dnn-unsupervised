{
 "cells": [
  {
   "cell_type": "code",
   "execution_count": 1,
   "metadata": {},
   "outputs": [
    {
     "name": "stderr",
     "output_type": "stream",
     "text": [
      "/Users/adam2392/Documents/dnn-unsupervised/.venv/lib/python3.6/site-packages/h5py/__init__.py:36: FutureWarning: Conversion of the second argument of issubdtype from `float` to `np.floating` is deprecated. In future, it will be treated as `np.float64 == np.dtype(float).type`.\n",
      "  from ._conv import register_converters as _register_converters\n",
      "Using TensorFlow backend.\n",
      "/Users/adam2392/Documents/dnn-unsupervised/.venv/lib/python3.6/importlib/_bootstrap.py:219: RuntimeWarning: compiletime version 3.5 of module 'tensorflow.python.framework.fast_tensor_util' does not match runtime version 3.6\n",
      "  return f(*args, **kwds)\n"
     ]
    }
   ],
   "source": [
    "from __future__ import print_function\n",
    "import numpy as np\n",
    "import pandas as pd\n",
    "import scipy\n",
    "import sys\n",
    "import os\n",
    "from time import time\n",
    "np.random.seed(1234567)\n",
    "\n",
    "sys.path.append('../')\n",
    "sys.path.append('../../')\n",
    "sys.path.append('/Users/adam2392/Documents/tvb/')\n",
    "sys.path.append('/Users/adam2392/Documents/tvb/_tvbdata/')\n",
    "sys.path.append('/Users/adam2392/Documents/tvb/_tvblibrary/')\n",
    "import processing.preprocessfft as preprocess\n",
    "import processing.frequencytransform as ft\n",
    "import processing.util as util\n",
    "\n",
    "sys.path.append('/Users/adam2392/Documents/fragility_analysis/')\n",
    "import fragility\n",
    "import fragility.util.utils as futil\n",
    "import datainterface\n",
    "from datainterface import patient as Pat\n",
    "\n",
    "\n",
    "import matplotlib\n",
    "import matplotlib.pyplot as plt\n",
    "import seaborn as sns\n",
    "\n",
    "import ntpath\n",
    "from sklearn.metrics import r2_score\n",
    "from scipy.stats import spearmanr, pearsonr\n",
    "from sklearn.decomposition import PCA\n",
    "\n",
    "%load_ext autoreload\n",
    "%autoreload 2"
   ]
  },
  {
   "cell_type": "markdown",
   "metadata": {},
   "source": [
    "# Convert Data\n",
    "\n",
    "Data will be stored either as edf files, or .eeg files. We can use our eegreader to read .eeg files (if no bugs) and pyedflib to read the .edf files.\n",
    "\n",
    "Then, we want to make sure we have the vital information regarding each dataset."
   ]
  },
  {
   "cell_type": "code",
   "execution_count": 9,
   "metadata": {},
   "outputs": [
    {
     "name": "stdout",
     "output_type": "stream",
     "text": [
      "reading header from <open file '/Users/adam2392/Downloads/tngrawdata/id001_ac/crise1/crise cabrol.eeg', mode 'rb' at 0x113dc8f60>\n"
     ]
    },
    {
     "ename": "IOError",
     "evalue": "<open file '/Users/adam2392/Downloads/tngrawdata/id001_ac/crise1/crise cabrol.eeg', mode 'rb' at 0x113dc8f60> is not a valid EEG file",
     "output_type": "error",
     "traceback": [
      "\u001b[0;31m---------------------------------------------------------------------------\u001b[0m",
      "\u001b[0;31mIOError\u001b[0m                                   Traceback (most recent call last)",
      "\u001b[0;32m<ipython-input-9-81b8fc292922>\u001b[0m in \u001b[0;36m<module>\u001b[0;34m()\u001b[0m\n\u001b[1;32m      1\u001b[0m \u001b[0mfilename\u001b[0m \u001b[0;34m=\u001b[0m \u001b[0;34m'/Users/adam2392/Downloads/tngrawdata/id001_ac/crise1/crise cabrol.eeg'\u001b[0m\u001b[0;34m\u001b[0m\u001b[0m\n\u001b[0;32m----> 2\u001b[0;31m \u001b[0meegreader\u001b[0m \u001b[0;34m=\u001b[0m \u001b[0mdatainterface\u001b[0m\u001b[0;34m.\u001b[0m\u001b[0mread_eeg\u001b[0m\u001b[0;34m.\u001b[0m\u001b[0mEEG\u001b[0m\u001b[0;34m(\u001b[0m\u001b[0mfilename\u001b[0m\u001b[0;34m)\u001b[0m\u001b[0;34m\u001b[0m\u001b[0m\n\u001b[0m",
      "\u001b[0;32m/Users/adam2392/Documents/fragility_analysis/datainterface/read_eeg.pyc\u001b[0m in \u001b[0;36m__init__\u001b[0;34m(self, filename, verbose)\u001b[0m\n\u001b[1;32m    154\u001b[0m         \u001b[0mident\u001b[0m \u001b[0;34m=\u001b[0m \u001b[0mnp\u001b[0m\u001b[0;34m.\u001b[0m\u001b[0mfromfile\u001b[0m\u001b[0;34m(\u001b[0m\u001b[0mfd\u001b[0m\u001b[0;34m,\u001b[0m \u001b[0midentificateur\u001b[0m\u001b[0;34m,\u001b[0m \u001b[0;36m1\u001b[0m\u001b[0;34m)\u001b[0m\u001b[0;34m\u001b[0m\u001b[0m\n\u001b[1;32m    155\u001b[0m         \u001b[0;32mif\u001b[0m \u001b[0;32mnot\u001b[0m \u001b[0mident\u001b[0m\u001b[0;34m[\u001b[0m\u001b[0;34m'coherence'\u001b[0m\u001b[0;34m]\u001b[0m\u001b[0;34m[\u001b[0m\u001b[0;36m0\u001b[0m\u001b[0;34m]\u001b[0m \u001b[0;34m==\u001b[0m \u001b[0;34mb'COHERENCE'\u001b[0m\u001b[0;34m:\u001b[0m\u001b[0;34m\u001b[0m\u001b[0m\n\u001b[0;32m--> 156\u001b[0;31m             \u001b[0;32mraise\u001b[0m \u001b[0mIOError\u001b[0m\u001b[0;34m(\u001b[0m\u001b[0;34m'%r is not a valid EEG file'\u001b[0m \u001b[0;34m%\u001b[0m \u001b[0mfd\u001b[0m\u001b[0;34m)\u001b[0m\u001b[0;34m\u001b[0m\u001b[0m\n\u001b[0m\u001b[1;32m    157\u001b[0m         \u001b[0;31m# go to data\u001b[0m\u001b[0;34m\u001b[0m\u001b[0;34m\u001b[0m\u001b[0m\n\u001b[1;32m    158\u001b[0m         \u001b[0mfd\u001b[0m\u001b[0;34m.\u001b[0m\u001b[0mseek\u001b[0m\u001b[0;34m(\u001b[0m\u001b[0mident\u001b[0m\u001b[0;34m[\u001b[0m\u001b[0;34m'firstBlockPos'\u001b[0m\u001b[0;34m]\u001b[0m\u001b[0;34m[\u001b[0m\u001b[0;36m0\u001b[0m\u001b[0;34m]\u001b[0m\u001b[0;34m)\u001b[0m\u001b[0;34m\u001b[0m\u001b[0m\n",
      "\u001b[0;31mIOError\u001b[0m: <open file '/Users/adam2392/Downloads/tngrawdata/id001_ac/crise1/crise cabrol.eeg', mode 'rb' at 0x113dc8f60> is not a valid EEG file"
     ]
    }
   ],
   "source": [
    "filename = '/Users/adam2392/Downloads/tngrawdata/id001_ac/crise1/crise cabrol.eeg'\n",
    "eegreader = datainterface.read_eeg.EEG(filename)\n"
   ]
  },
  {
   "cell_type": "code",
   "execution_count": 2,
   "metadata": {
    "collapsed": true
   },
   "outputs": [],
   "source": [
    "#### 1. first run data conversion\n",
    "patient = 'id001_ac'\n",
    "outputdir = os.path.join('/Volumes/ADAM LI/pydata/convertedtng/', patient)\n",
    "if not os.path.exists(outputdir):\n",
    "    os.makedirs(outputdir)\n",
    "\n",
    "edfdir = os.path.join('/Users/adam2392/Downloads/tngrawdata/', patient)\n",
    "edffile = os.path.join(edfdir, '')\n",
    "edffile ='/Users/adam2392/Downloads/tngrawdata/id001_ac/crise2/crise_fin/091126B-BEX_0006.edf'"
   ]
  },
  {
   "cell_type": "code",
   "execution_count": 3,
   "metadata": {},
   "outputs": [
    {
     "ename": "AttributeError",
     "evalue": "module 'datainterface' has no attribute 'dataconversion'",
     "output_type": "error",
     "traceback": [
      "\u001b[0;31m---------------------------------------------------------------------------\u001b[0m",
      "\u001b[0;31mAttributeError\u001b[0m                            Traceback (most recent call last)",
      "\u001b[0;32m<ipython-input-3-611b225857cd>\u001b[0m in \u001b[0;36m<module>\u001b[0;34m()\u001b[0m\n\u001b[1;32m      6\u001b[0m \u001b[0;34m\u001b[0m\u001b[0m\n\u001b[1;32m      7\u001b[0m \u001b[0;31m# convert data into csv files and numpy raw data file\u001b[0m\u001b[0;34m\u001b[0m\u001b[0;34m\u001b[0m\u001b[0m\n\u001b[0;32m----> 8\u001b[0;31m \u001b[0mconverter\u001b[0m \u001b[0;34m=\u001b[0m \u001b[0mdatainterface\u001b[0m\u001b[0;34m.\u001b[0m\u001b[0mdataconversion\u001b[0m\u001b[0;34m.\u001b[0m\u001b[0mEDFConverter\u001b[0m\u001b[0;34m(\u001b[0m\u001b[0medffile\u001b[0m\u001b[0;34m)\u001b[0m\u001b[0;34m\u001b[0m\u001b[0m\n\u001b[0m\u001b[1;32m      9\u001b[0m \u001b[0mconverter\u001b[0m\u001b[0;34m.\u001b[0m\u001b[0medfrawtonumpy\u001b[0m\u001b[0;34m(\u001b[0m\u001b[0mnpyfile\u001b[0m\u001b[0;34m)\u001b[0m\u001b[0;34m\u001b[0m\u001b[0m\n\u001b[1;32m     10\u001b[0m \u001b[0mconverter\u001b[0m\u001b[0;34m.\u001b[0m\u001b[0medfmetatocsv\u001b[0m\u001b[0;34m(\u001b[0m\u001b[0mheaderfile\u001b[0m\u001b[0;34m,\u001b[0m                     \u001b[0mchanfile\u001b[0m\u001b[0;34m,\u001b[0m                     \u001b[0mannotationsfile\u001b[0m\u001b[0;34m)\u001b[0m\u001b[0;34m\u001b[0m\u001b[0m\n",
      "\u001b[0;31mAttributeError\u001b[0m: module 'datainterface' has no attribute 'dataconversion'"
     ]
    }
   ],
   "source": [
    "#### 1. setting filename \n",
    "npyfile = os.path.join(outputdir,  patient.lower() + '_rawnpy.npy')\n",
    "chanfile =  os.path.join(outputdir,  patient.lower() + '_chans.csv')\n",
    "headerfile = os.path.join(outputdir,  patient.lower() + '_headers.csv')\n",
    "annotationsfile = os.path.join(outputdir, patient.lower() + '_annotations.csv')\n",
    "\n",
    "# convert data into csv files and numpy raw data file\n",
    "converter = datainterface.dataconversion.EDFConverter(edffile)\n",
    "converter.edfrawtonumpy(npyfile)\n",
    "converter.edfmetatocsv(headerfile, \\\n",
    "                    chanfile, \\\n",
    "                    annotationsfile)\n",
    "f1=open(os.path.join(outputdir, 'datadescrip.txt'), 'w+')\n",
    "f1.write(edffile)\n",
    "f1.close()"
   ]
  },
  {
   "cell_type": "markdown",
   "metadata": {
    "collapsed": true
   },
   "source": [
    "# 1. Run FFT Analysis "
   ]
  },
  {
   "cell_type": "code",
   "execution_count": 82,
   "metadata": {
    "collapsed": true
   },
   "outputs": [],
   "source": [
    "def path_leaf(path):\n",
    "    head, tail = ntpath.split(path)\n",
    "    return tail or ntpath.basename(head)\n",
    "\n",
    "def extractrawdata(patient, datadir, fileend=None):\n",
    "    '''\n",
    "    This function takes in:\n",
    "    1. patient name\n",
    "    2. results directory (perturbation model)\n",
    "    3. data directory, where all the raw metadata is held\n",
    "    \n",
    "    And extracts the data necessary for plotting\n",
    "    '''\n",
    "    # files to get resulting data and the original raw data / annotations\n",
    "    rawdatafile = os.path.join(datadir,  patient + fileend, patient+'_rawnpy.npy')\n",
    "    chanfile =  os.path.join(datadir,  patient + fileend, patient + '_chans.csv')\n",
    "    headerfile = os.path.join(datadir,  patient + fileend, patient + '_headers.csv')\n",
    "    annotationsfile = os.path.join(datadir,  patient + fileend, patient + '_annotations.csv')\n",
    "\n",
    "    ################################ 1. LOAD DATA ###########################\n",
    "    # instantiate a datainterface object to analyze data\n",
    "    patieeg = Pat.PatientIEEG(patient, clinoutcome=None, engelscore=None, logfile=None)\n",
    "    # get relevant channel data\n",
    "    patid, seizid = futil.splitpatient(patient)\n",
    "    included_chans, onsetchans, clinresult = fragility.util.utils.returnindices(patid, seizid)\n",
    "    \n",
    "    # set metadata to be used in analysis\n",
    "    patieeg.setincludedchans(included_chans)\n",
    "    patieeg.setmetadata_fromfile(headersfile=headerfile)\n",
    "    patieeg.setchannels_fromfile(channelsfile=chanfile)\n",
    "    patieeg.setannotations_fromfile(annotationsfile=annotationsfile)\n",
    "\n",
    "    # get the data from files\n",
    "    data = np.load(rawdatafile)\n",
    "    \n",
    "    return patieeg, data, included_chans, onsetchans"
   ]
  },
  {
   "cell_type": "code",
   "execution_count": 3,
   "metadata": {},
   "outputs": [
    {
     "name": "stdout",
     "output_type": "stream",
     "text": [
      "Default method of tapering is eigen\n",
      "/Volumes/ADAM LI/pydata/dnn/testdata/fft/id001_ac\n"
     ]
    }
   ],
   "source": [
    "expname = 'id001_ac'\n",
    "traindir = os.path.join('/Volumes/ADAM LI/pydata/dnn/testdata/fft/', \n",
    "                        expname)\n",
    "if not os.path.exists(traindir):\n",
    "    os.makedirs(traindir)\n",
    "\n",
    "# establish frequency bands\n",
    "freqbands = {\n",
    "        'dalpha':[0,15],\n",
    "        'beta':[15,30],\n",
    "        'gamma':[30,90],\n",
    "        'high':[90,200],\n",
    "    }\n",
    "postprocessfft = preprocess.PreProcess(freqbands=freqbands)\n",
    "# FFT Parameters\n",
    "fs = 500\n",
    "winsize = 1000 # winsize in milliseconds\n",
    "stepsize = 500 # stepsize in milliseconds\n",
    "typetransform = 'fourier'\n",
    "mtbandwidth = 4\n",
    "mtfreqs = []\n",
    "\n",
    "mtaper = ft.MultiTaperFFT(winsize, stepsize, fs, mtbandwidth, mtfreqs)\n",
    "\n",
    "print(traindir)"
   ]
  },
  {
   "cell_type": "code",
   "execution_count": 41,
   "metadata": {},
   "outputs": [
    {
     "name": "stderr",
     "output_type": "stream",
     "text": [
      "INFO:datainterface.patient:Initialized Patient IEEG object. Should run channels, metadata and annotations next!\n",
      "INFO:datainterface.patient:Ran setup of meta data!\n",
      "INFO:datainterface.patient:Ran setup of channels data!\n",
      "INFO:datainterface.patient:Ran setup of annotations data!\n"
     ]
    },
    {
     "name": "stdout",
     "output_type": "stream",
     "text": [
      "<datainterface.patient.PatientIEEG object at 0x125cca160>\n",
      "(84, 306688)\n",
      "(0,)\n",
      "None\n"
     ]
    }
   ],
   "source": [
    "datadir = '/Volumes/ADAM LI/pydata/convertedtng/'\n",
    "patient='id001_ac'\n",
    "# load in the data for a real patient\n",
    "patieeg, rawdata, included_chans, onsetchans = extractrawdata(patient, datadir, '_sz2')\n",
    "\n",
    "rawdata=rawdata.T\n",
    "print(patieeg)\n",
    "print(rawdata.shape)\n",
    "print(included_chans.shape)\n",
    "print(onsetchans)"
   ]
  },
  {
   "cell_type": "code",
   "execution_count": 77,
   "metadata": {},
   "outputs": [
    {
     "name": "stdout",
     "output_type": "stream",
     "text": [
      "(70, 306688)\n"
     ]
    }
   ],
   "source": [
    "metadatadir = os.path.join('/Volumes/ADAM LI/pydata/metadata/', patient)  \n",
    "# load in seegxyz\n",
    "seeg = pd.read_csv(os.path.join(metadatadir, \"seeg.txt\"), names=['x', 'y', 'z'], delim_whitespace=True)\n",
    "chanlabels = seeg.index\n",
    "seeg_xyz = seeg.as_matrix() \n",
    "\n",
    "allchans = patieeg.chanlabels\n",
    "chanindices = [i for i, x in enumerate(allchans) if any(thing == x for thing in chanlabels)]\n",
    "\n",
    "rawdata = rawdata[chanindices,:]\n",
    "\n",
    "print(rawdata.shape)"
   ]
  },
  {
   "cell_type": "code",
   "execution_count": 78,
   "metadata": {},
   "outputs": [
    {
     "name": "stdout",
     "output_type": "stream",
     "text": [
      "Loaded raw data in MultiTaperFFT!\n"
     ]
    },
    {
     "name": "stderr",
     "output_type": "stream",
     "text": [
      "../processing/preprocessfft.py:80: ComplexWarning: Casting complex values to real discards the imaginary part\n",
      "  power_binned[:,idx,:] = np.mean(power[:,indices[0]:indices[1]+1,:], axis=1) #[np.newaxis,:,:]\n"
     ]
    }
   ],
   "source": [
    "# run FFT analysis\n",
    "mtaper.loadrawdata(rawdata)\n",
    "power, freqs, timepoints, _ = mtaper.mtwelch()\n",
    "power = postprocessfft.binFrequencyValues(power, freqs)"
   ]
  },
  {
   "cell_type": "code",
   "execution_count": 100,
   "metadata": {},
   "outputs": [
    {
     "name": "stdout",
     "output_type": "stream",
     "text": [
      "/Volumes/ADAM LI/pydata/dnn/testdata/fft/id001_ac/id001_ac_fft.npz\n",
      "(70, 4, 1225)\n",
      "(251,)\n",
      "(1225, 2)\n",
      "\n",
      "\n",
      "\n"
     ]
    }
   ],
   "source": [
    "onsettime = patieeg.onset_time\n",
    "offsettime = patieeg.offset_time\n",
    "# fs = patieeg.samplefreq\n",
    "# get seiztimes given onset/offset\n",
    "# if onsettime: \n",
    "#     onset_indice = fragility.util.utils.converttimestowindow(timepoints, onsettime*fs)\n",
    "# if offsettime:\n",
    "#     offset_indice = fragility.util.utils.converttimestowindow(timepoints, offsettime*fs)\n",
    "# seiztimes = zip(onset_indice, offset_indice)\n",
    "# print(seiztimes)\n",
    "filename = os.path.join(traindir, \n",
    "                        patient + '_fft.npz')\n",
    "\n",
    "np.savez_compressed(filename, \n",
    "                    power=power, \n",
    "                    timepoints=timepoints,\n",
    "                    seizonsets=np.array([onsettime*fs]),\n",
    "                    seizoffsets=np.array([offsettime*fs]),\n",
    "                    locs=seeg_xyz,\n",
    "                    seeg_contacts=chanlabels)\n",
    "print(filename)\n",
    "print(power.shape)\n",
    "print(freqs.shape)\n",
    "print(timepoints.shape)\n",
    "print('\\n\\n')"
   ]
  },
  {
   "cell_type": "code",
   "execution_count": 52,
   "metadata": {},
   "outputs": [
    {
     "name": "stdout",
     "output_type": "stream",
     "text": [
      "532.7539062\n",
      "1\n",
      "(1225, 2)\n",
      "1064\n"
     ]
    }
   ],
   "source": [
    "print(offsettime)\n",
    "print(offsettime.size)\n",
    "print(timepoints.shape)\n",
    "\n",
    "print(np.where(np.logical_and(timepoints[:,0] < offsettime*fs, timepoints[:,1] > offsettime*fs))[0][0])\n",
    "# print(np.where(timepoints[:,1] > offsettime)[0])\n",
    "# print(np.where(timepoints[:,0] < offsettime))"
   ]
  },
  {
   "cell_type": "markdown",
   "metadata": {},
   "source": [
    "# 2. Run Image Creation for 2D Mesh"
   ]
  },
  {
   "cell_type": "code",
   "execution_count": 4,
   "metadata": {},
   "outputs": [
    {
     "ename": "NameError",
     "evalue": "name 'metadatadir' is not defined",
     "output_type": "error",
     "traceback": [
      "\u001b[0;31m---------------------------------------------------------------------------\u001b[0m",
      "\u001b[0;31mNameError\u001b[0m                                 Traceback (most recent call last)",
      "\u001b[0;32m<ipython-input-4-f566f0158065>\u001b[0m in \u001b[0;36m<module>\u001b[0;34m()\u001b[0m\n\u001b[1;32m      3\u001b[0m \u001b[0;34m\u001b[0m\u001b[0m\n\u001b[1;32m      4\u001b[0m \u001b[0;31m# load in meta data\u001b[0m\u001b[0;34m\u001b[0m\u001b[0;34m\u001b[0m\u001b[0m\n\u001b[0;32m----> 5\u001b[0;31m \u001b[0mconfile\u001b[0m \u001b[0;34m=\u001b[0m \u001b[0mos\u001b[0m\u001b[0;34m.\u001b[0m\u001b[0mpath\u001b[0m\u001b[0;34m.\u001b[0m\u001b[0mjoin\u001b[0m\u001b[0;34m(\u001b[0m\u001b[0mmetadatadir\u001b[0m\u001b[0;34m,\u001b[0m \u001b[0;34m\"connectivity.zip\"\u001b[0m\u001b[0;34m)\u001b[0m\u001b[0;34m\u001b[0m\u001b[0m\n\u001b[0m\u001b[1;32m      6\u001b[0m \u001b[0;34m\u001b[0m\u001b[0m\n\u001b[1;32m      7\u001b[0m \u001b[0;31m# get the regions, and region_centers from connectivity\u001b[0m\u001b[0;34m\u001b[0m\u001b[0;34m\u001b[0m\u001b[0m\n",
      "\u001b[0;31mNameError\u001b[0m: name 'metadatadir' is not defined"
     ]
    }
   ],
   "source": [
    "expname = 'id001_ac'\n",
    "datadir = os.path.join('/Volumes/ADAM LI/pydata/dnn/testdata/fft/', expname) \n",
    "\n",
    "# load in meta data\n",
    "confile = os.path.join(metadatadir, \"connectivity.zip\")\n",
    "\n",
    "# get the regions, and region_centers from connectivity\n",
    "# reader = util.ZipReader(confile)\n",
    "# region_centers = reader.read_array_from_file(\"centres\", use_cols=(1, 2, 3))\n",
    "# regions = reader.read_array_from_file(\"centres\", dtype=np.str, use_cols=(0,))\n",
    "\n",
    "# fftdatafile, seeg contacts, \n",
    "datafile = os.path.join(datadir, patient+'_fft.npz')"
   ]
  },
  {
   "cell_type": "code",
   "execution_count": 6,
   "metadata": {},
   "outputs": [
    {
     "ename": "NameError",
     "evalue": "name 'datafile' is not defined",
     "output_type": "error",
     "traceback": [
      "\u001b[0;31m---------------------------------------------------------------------------\u001b[0m",
      "\u001b[0;31mNameError\u001b[0m                                 Traceback (most recent call last)",
      "\u001b[0;32m<ipython-input-6-63dffc0b5958>\u001b[0m in \u001b[0;36m<module>\u001b[0;34m()\u001b[0m\n\u001b[1;32m      7\u001b[0m \u001b[0;34m\u001b[0m\u001b[0m\n\u001b[1;32m      8\u001b[0m \u001b[0;31m# loop through each data file and get grid\u001b[0m\u001b[0;34m\u001b[0m\u001b[0;34m\u001b[0m\u001b[0m\n\u001b[0;32m----> 9\u001b[0;31m \u001b[0mdata\u001b[0m \u001b[0;34m=\u001b[0m \u001b[0mnp\u001b[0m\u001b[0;34m.\u001b[0m\u001b[0mload\u001b[0m\u001b[0;34m(\u001b[0m\u001b[0mdatafile\u001b[0m\u001b[0;34m,\u001b[0m \u001b[0mencoding\u001b[0m\u001b[0;34m=\u001b[0m\u001b[0;34m'bytes'\u001b[0m\u001b[0;34m)\u001b[0m\u001b[0;34m\u001b[0m\u001b[0m\n\u001b[0m\u001b[1;32m     10\u001b[0m \u001b[0mpower\u001b[0m \u001b[0;34m=\u001b[0m \u001b[0mdata\u001b[0m\u001b[0;34m[\u001b[0m\u001b[0;34m'power'\u001b[0m\u001b[0;34m]\u001b[0m\u001b[0;34m\u001b[0m\u001b[0m\n\u001b[1;32m     11\u001b[0m \u001b[0mprint\u001b[0m\u001b[0;34m(\u001b[0m\u001b[0mpower\u001b[0m\u001b[0;34m.\u001b[0m\u001b[0mshape\u001b[0m\u001b[0;34m)\u001b[0m\u001b[0;34m\u001b[0m\u001b[0m\n",
      "\u001b[0;31mNameError\u001b[0m: name 'datafile' is not defined"
     ]
    }
   ],
   "source": [
    "# define the data handler \n",
    "datahandler = util.DataHandler()\n",
    "pca = PCA(n_components=2)\n",
    "trainimagedir = os.path.join('/Volumes/ADAM LI/pydata/dnn/testdata/image_2d/', expname)\n",
    "if not os.path.exists(trainimagedir):\n",
    "    os.makedirs(trainimagedir)\n",
    "    \n",
    "# loop through each data file and get grid\n",
    "data = np.load(datafile, encoding='bytes')\n",
    "power = data['power']\n",
    "print(power.shape)\n",
    "print(data.keys())\n",
    "\n",
    "# load xyz data for this particular dataset\n",
    "xyz_data = data['locs']\n",
    "seeg_contacts = data['seeg_contacts']\n",
    "seizonsets = data['seizonsets']\n",
    "seizoffsets = data['seizoffsets']\n",
    "timepoints = data['timepoints']\n",
    "\n",
    "# project xyz data\n",
    "new_locs = pca.fit_transform(xyz_data)\n",
    "\n",
    "print(seizonsets)\n",
    "print(seizoffsets)\n",
    "ylabels = datahandler.computelabels(seizonsets,seizoffsets, timepoints)\n",
    "\n",
    "if len(seizonsets) <= 1 and seizonsets[0] == np.nan:\n",
    "    print(\"skipping \", datafile)\n",
    "else:\n",
    "    # Tensor of size [samples, freqbands, W, H] containing generated images.\n",
    "    image_tensor = datahandler.gen_images(new_locs, power, \n",
    "                            n_gridpoints=32, normalize=True, augment=False, \n",
    "                            pca=False, std_mult=0.1, edgeless=False)\n",
    "\n",
    "print(image_tensor.shape)\n",
    "# set saving file paths for image and corresponding meta data\n",
    "filename = path_leaf(datafile)\n",
    "imagefilename = os.path.join(trainimagedir, filename)\n",
    "\n",
    "# instantiate metadata hash table\n",
    "metadata = dict()\n",
    "metadata['seeg_contacts'] = seeg_contacts\n",
    "metadata['new_locs'] = new_locs\n",
    "metadata['ylabels'] = ylabels\n",
    "\n",
    "# save image and meta data\n",
    "np.savez(imagefilename, image_tensor=image_tensor, metadata=metadata)\n",
    "\n",
    "print(new_locs.shape)"
   ]
  },
  {
   "cell_type": "code",
   "execution_count": 60,
   "metadata": {},
   "outputs": [
    {
     "name": "stdout",
     "output_type": "stream",
     "text": [
      "(70, 3)\n",
      "(70, 2)\n",
      "(84, 4, 1225)\n"
     ]
    }
   ],
   "source": [
    "print(xyz_data.shape)\n",
    "print(new_locs.shape)\n",
    "print(power.shape)"
   ]
  },
  {
   "cell_type": "code",
   "execution_count": 104,
   "metadata": {},
   "outputs": [
    {
     "name": "stdout",
     "output_type": "stream",
     "text": [
      "[85876.9531]\n",
      "[266376.9531]\n",
      "342 1064\n",
      "Baseline testing prediction of all seizure:  0.5893877551020408\n"
     ]
    },
    {
     "data": {
      "image/png": "[encoded data removed]",
      "text/plain": [
       "<matplotlib.figure.Figure at 0x11025d860>"
      ]
     },
     "metadata": {},
     "output_type": "display_data"
    }
   ],
   "source": [
    "print(seizonsets)\n",
    "print(seizoffsets)\n",
    "ydata = datahandler.computelabels(seizonsets,seizoffsets, timepoints)\n",
    "plt.figure()\n",
    "sns.distplot(ydata, kde=False, axlabel='Seizure or Not', label='Testing Dataset')\n",
    "ax=plt.gca()\n",
    "ax.set_title('Training Data Distribution')\n",
    "ax.set_xticks([0,1])\n",
    "ax.set_xticklabels(['Normal', 'Seizure'])\n",
    "ax.legend()\n",
    "\n",
    "print(\"Baseline testing prediction of all seizure: \", np.sum(ydata)/len(ydata))"
   ]
  },
  {
   "cell_type": "code",
   "execution_count": 113,
   "metadata": {},
   "outputs": [
    {
     "name": "stdout",
     "output_type": "stream",
     "text": [
      "(1225, 32, 32, 4)\n",
      "(1, 4)\n",
      "(1254400, 4)\n",
      "(1225, 32, 32, 4)\n"
     ]
    }
   ],
   "source": [
    "images = image_tensor.swapaxes(1,3)\n",
    "print(images.shape)\n",
    "\n",
    "avg = np.mean(images.reshape((-1,4)), axis=0, keepdims=True)\n",
    "std = np.std(images.reshape((-1,4)), axis=0, keepdims=True)\n",
    "print(avg.shape)\n",
    "\n",
    "def normalizeimage(imagetensor):\n",
    "    # assumes imagetensor shape is [nsamps, width, height, nchans]\n",
    "    temptensor = imagetensor.reshape((-1, 4))\n",
    "    \n",
    "    # get average/std and store temporary\n",
    "    avg = np.mean(temptensor, axis=0, keepdims=True)\n",
    "    std = np.std(temptensor, axis=0, keepdims=True)\n",
    "    \n",
    "    temptensor = np.subtract(temptensor, avg)\n",
    "    temptensor = np.divide(temptensor,std)\n",
    "    print(temptensor.shape)\n",
    "    imagetensor = temptensor.reshape((-1, 32, 32, 4))\n",
    "    return imagetensor\n",
    "\n",
    "test = normalizeimage(images)\n",
    "print(test.shape)"
   ]
  },
  {
   "cell_type": "code",
   "execution_count": 8,
   "metadata": {},
   "outputs": [
    {
     "name": "stdout",
     "output_type": "stream",
     "text": [
      "/Volumes/ADAM LI/pydata/dnn/testdata/image_2d/id001_ac/id001_ac_fft.npz\n",
      "['image_tensor', 'metadata']\n"
     ]
    }
   ],
   "source": [
    "imagefilename = os.path.join(trainimagedir, 'id001_ac_fft.npz')\n",
    "print(imagefilename)\n",
    "data = np.load(imagefilename)\n",
    "print(data.keys())"
   ]
  },
  {
   "cell_type": "code",
   "execution_count": null,
   "metadata": {
    "collapsed": true
   },
   "outputs": [],
   "source": []
  }
 ],
 "metadata": {
  "kernelspec": {
   "display_name": "dnn",
   "language": "python",
   "name": "dnn"
  },
  "language_info": {
   "codemirror_mode": {
    "name": "ipython",
    "version": 3
   },
   "file_extension": ".py",
   "mimetype": "text/x-python",
   "name": "python",
   "nbconvert_exporter": "python",
   "pygments_lexer": "ipython3",
   "version": "3.6.3"
  }
 },
 "nbformat": 4,
 "nbformat_minor": 2
}
