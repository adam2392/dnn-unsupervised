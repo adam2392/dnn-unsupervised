{
 "cells": [
  {
   "cell_type": "code",
   "execution_count": 1,
   "metadata": {},
   "outputs": [],
   "source": [
    "import sys\n",
    "sys.path.append('../')\n",
    "# from fragility.signalprocessing import frequencyanalysis\n",
    "# from datainterface import readmat\n",
    "\n",
    "# sys.path.append('/home/adamli/tng_tvb/')\n",
    "# from tvbsim import visualize\n",
    "\n",
    "import os\n",
    "import time\n",
    "\n",
    "import numpy as np\n",
    "import pandas as pd\n",
    "import scipy.io\n",
    "\n",
    "import processing.frequencytransform as ft\n",
    "import peakdetect\n",
    "import processing.preprocessfft as preprocess\n",
    "%load_ext autoreload\n",
    "%autoreload 2"
   ]
  },
  {
   "cell_type": "code",
   "execution_count": 7,
   "metadata": {
    "collapsed": true
   },
   "outputs": [],
   "source": [
    "from scipy.signal import butter, lfilter\n",
    "def butter_bandpass(lowcut, highcut, fs, order=5):\n",
    "    nyq = 0.5 * fs\n",
    "    low = lowcut / nyq\n",
    "    high = highcut / nyq\n",
    "    b, a = butter(order, [low, high], btype='band', analog=False)\n",
    "    return b, a\n",
    "def butter_bandpass_filter(data, lowcut, highcut, fs, order=5):\n",
    "    b, a = butter_bandpass(lowcut, highcut, fs, order=order)\n",
    "    y = scipy.signal.filtfilt(b, a, data)\n",
    "    return y\n",
    "def butter_highpass(lowcut, fs, order=5):\n",
    "    nyq = 0.5 * fs\n",
    "    low = lowcut / nyq\n",
    "    b, a = butter(order, low, btype='highpass', analog=False)\n",
    "    return b, a\n",
    "def butter_highpass_filter(data, lowcut, fs, order=5):\n",
    "    b, a = butter_highpass(lowcut, fs, order=order)\n",
    "    y = scipy.signal.filtfilt(b, a, data)\n",
    "    return y\n",
    "\n",
    "def getseiztimes(onsettimes, offsettimes):\n",
    "    minsize = np.min((len(onsettimes),len(offsettimes)))\n",
    "    seizonsets = []\n",
    "    seizoffsets = []\n",
    "    \n",
    "    # perform some checks\n",
    "    if minsize == 0:\n",
    "        print(\"no full onset/offset available!\")\n",
    "        return 0\n",
    "    \n",
    "    idx = 0\n",
    "    # to store the ones we are checking rn\n",
    "    _onset = onsettimes[idx]\n",
    "    _offset = offsettimes[idx]\n",
    "    seizonsets.append(_onset)\n",
    "    \n",
    "    # start loop after the first onset/offset pair\n",
    "    for i in range(1,minsize):        \n",
    "        # to store the previoius values\n",
    "        _nextonset = onsettimes[i]\n",
    "        _nextoffset = offsettimes[i]\n",
    "        \n",
    "        # check this range and add the offset if it was a full seizure\n",
    "        # before the next seizure\n",
    "        if _nextonset < _offset:\n",
    "            _offset = _nextoffset\n",
    "        else:\n",
    "            seizoffsets.append(_offset)\n",
    "            idx = i\n",
    "            # to store the ones we are checking rn\n",
    "            _onset = onsettimes[idx]\n",
    "            _offset = offsettimes[idx]\n",
    "            seizonsets.append(_onset)\n",
    "    if len(seizonsets) != len(seizoffsets):\n",
    "        seizonsets = seizonsets[0:len(seizoffsets)]\n",
    "    return seizonsets, seizoffsets\n",
    "def findonsetoffset(zts, delta=0.2/8):\n",
    "    maxpeaks, minpeaks = peakdetect.peakdetect(zts, delta=delta)\n",
    "\n",
    "    # get every other peaks\n",
    "    onsettime, _ = zip(*minpeaks)\n",
    "    offsettime, _ = zip(*maxpeaks)\n",
    "\n",
    "    return onsettime, offsettime\n",
    "def getonsetsoffsets(zts, ezindices, pzindices, delta=0.2/8):\n",
    "    # create lambda function for checking the indices\n",
    "    check = lambda indices: isinstance(indices,np.ndarray) and len(indices)>=1\n",
    "\n",
    "    onsettimes=np.array([])\n",
    "    offsettimes=np.array([])\n",
    "    if check(ezindices):\n",
    "        for ezindex in ezindices:\n",
    "            _onsettimes, _offsettimes = findonsetoffset(zts[ezindex, :].squeeze(), \n",
    "                                                                    delta=delta)\n",
    "            onsettimes = np.append(onsettimes, np.asarray(_onsettimes))\n",
    "            offsettimes = np.append(offsettimes, np.asarray(_offsettimes))\n",
    "\n",
    "    if check(pzindices):\n",
    "        for pzindex in pzindices:\n",
    "            _onsettimes, _offsettimes = findonsetoffset(zts[pzindex, :].squeeze(), \n",
    "                                                                    delta=delta)\n",
    "            onsettimes = np.append(onsettimes, np.asarray(_onsettimes))\n",
    "            offsettimes = np.append(offsettimes, np.asarray(_offsettimes))\n",
    "\n",
    "    # first sort onsettimes and offsettimes\n",
    "    onsettimes.sort()\n",
    "    offsettimes.sort()\n",
    "    \n",
    "    return onsettimes, offsettimes\n",
    "\n",
    "def computefreqindices(freqs, freqbands):\n",
    "    freqbandindices = {}\n",
    "    for band in freqbands:\n",
    "        lowerband = freqbands[band][0]\n",
    "        upperband = freqbands[band][1]\n",
    "\n",
    "        # get indices where the freq bands are put in\n",
    "        freqbandindices[band] = np.where((freqs >= lowerband) & (freqs < upperband))\n",
    "        freqbandindices[band] = [freqbandindices[band][0][0], freqbandindices[band][0][-1]]\n",
    "    return freqbandindices\n",
    "\n",
    "def binFrequencyValues(power, freqs):\n",
    "    # List of physiological frequency ranges\n",
    "    freqbands = {\n",
    "            'low':[0,14],\n",
    "            'theta':[15,30],\n",
    "            'gamma':[31,100],\n",
    "            'high':[100,250]\n",
    "    }\n",
    "    \n",
    "    # Create an empty array\n",
    "    power_binned = np.zeros(shape=(power.shape[0],\n",
    "                                    len(freqbands),\n",
    "                                    power.shape[2]))\n",
    "    \n",
    "    # compute the freq indices for each band\n",
    "    freqbandindices = computefreqindices(freqs,freqbands)\n",
    "\n",
    "    # compress data using frequency bands\n",
    "    for idx, band in enumerate(freqbandindices):\n",
    "        indices = freqbandindices[band]\n",
    "        # average between these two indices\n",
    "        power_binned[:,idx,:] = np.mean(power[:,indices[0]:indices[1]+1,:], axis=1) #[np.newaxis,:,:]\n",
    "\n",
    "    return power_binned\n",
    "\n",
    "  \n",
    "import ntpath\n",
    "def path_leaf(path):\n",
    "    head, tail = ntpath.split(path)\n",
    "    return tail or ntpath.basename(head)\n"
   ]
  },
  {
   "cell_type": "markdown",
   "metadata": {},
   "source": [
    "# End of Transform code here"
   ]
  },
  {
   "cell_type": "code",
   "execution_count": 3,
   "metadata": {},
   "outputs": [
    {
     "name": "stdout",
     "output_type": "stream",
     "text": [
      "Default method of tapering is eigen\n"
     ]
    }
   ],
   "source": [
    "# FFT Parameters\n",
    "fs = 500\n",
    "winsize = 1000\n",
    "stepsize = 500\n",
    "typetransform = 'fourier'\n",
    "mtbandwidth = 4\n",
    "mtfreqs = []\n",
    "\n",
    "mtaper = ft.MultiTaperFFT(winsize, stepsize, fs, mtbandwidth, mtfreqs)"
   ]
  },
  {
   "cell_type": "code",
   "execution_count": 12,
   "metadata": {
    "scrolled": true
   },
   "outputs": [
    {
     "name": "stdout",
     "output_type": "stream",
     "text": [
      "70\n",
      "['/Volumes/ADAM LI/pydata/tvbforwardsim/randmoved/_03/id002_cj/id002_cj_sim_nez1_npz0.npz', '/Volumes/ADAM LI/pydata/tvbforwardsim/randmoved/_03/id014_rb/id014_rb_sim_nez1_npz0.npz', '/Volumes/ADAM LI/pydata/tvbforwardsim/moved_v2/nez1_npz1/id001_ac_sim_nez1_npz1.npz', '/Volumes/ADAM LI/pydata/tvbforwardsim/moved_v2/nez1_npz1/id014_rb_sim_nez1_npz1.npz', '/Volumes/ADAM LI/pydata/tvbforwardsim/moved_v2/nez1_npz1/id002_cj_sim_nez1_npz1.npz', '/Volumes/ADAM LI/pydata/tvbforwardsim/moved_v2/nez1_npz3/id014_rb_sim_nez1_npz3.npz', '/Volumes/ADAM LI/pydata/tvbforwardsim/moved_v2/nez1_npz3/id001_ac_sim_nez1_npz3.npz', '/Volumes/ADAM LI/pydata/tvbforwardsim/moved_v2/nez1_npz3/id002_cj_sim_nez1_npz3.npz', '/Volumes/ADAM LI/pydata/tvbforwardsim/moved_v2/nez1_npz2/id014_rb_sim_nez1_npz2.npz', '/Volumes/ADAM LI/pydata/tvbforwardsim/moved_v2/nez1_npz2/id001_ac_sim_nez1_npz2.npz', '/Volumes/ADAM LI/pydata/tvbforwardsim/moved_v2/nez1_npz2/id002_cj_sim_nez1_npz2.npz', '/Volumes/ADAM LI/pydata/tvbforwardsim/moved_v2/nez2_npz2/id002_cj_sim_nez2_npz2.npz', '/Volumes/ADAM LI/pydata/tvbforwardsim/moved_v2/nez2_npz2/id001_ac_sim_nez2_npz2.npz', '/Volumes/ADAM LI/pydata/tvbforwardsim/moved_v2/nez2_npz2/id014_rb_sim_nez2_npz2.npz', '/Volumes/ADAM LI/pydata/tvbforwardsim/moved_v2/nez2_npz3/id002_cj_sim_nez2_npz3.npz', '/Volumes/ADAM LI/pydata/tvbforwardsim/moved_v2/nez2_npz3/id001_ac_sim_nez2_npz3.npz', '/Volumes/ADAM LI/pydata/tvbforwardsim/moved_v2/nez2_npz3/id014_rb_sim_nez2_npz3.npz', '/Volumes/ADAM LI/pydata/tvbforwardsim/moved_v2/nez2_npz1/id002_cj_sim_nez2_npz1.npz', '/Volumes/ADAM LI/pydata/tvbforwardsim/moved_v2/nez2_npz1/id014_rb_sim_nez2_npz1.npz', '/Volumes/ADAM LI/pydata/tvbforwardsim/moved_v2/nez2_npz1/id001_ac_sim_nez2_npz1.npz']\n"
     ]
    }
   ],
   "source": [
    "datadir = '/Volumes/ADAM LI/pydata/tvbforwardsim/'\n",
    "metadatadir = '/Volumes/ADAM LI/pydata/metadata/'    \n",
    "\n",
    "# Get ALL datafiles from all downstream files\n",
    "datafiles = []\n",
    "for root, dirs, files in os.walk(datadir):\n",
    "    for file in files:\n",
    "        if file.endswith(\".npz\"):\n",
    "             datafiles.append(os.path.join(root, file))\n",
    "print(len(datafiles))\n",
    "print(datafiles[50:])"
   ]
  },
  {
   "cell_type": "code",
   "execution_count": 13,
   "metadata": {
    "scrolled": true
   },
   "outputs": [
    {
     "name": "stdout",
     "output_type": "stream",
     "text": [
      "Loaded raw data in MultiTaperFFT!\n"
     ]
    },
    {
     "name": "stderr",
     "output_type": "stream",
     "text": [
      "/Users/adam2392/Documents/dnn-unsupervised/.venv/lib/python3.6/site-packages/ipykernel_launcher.py:124: ComplexWarning: Casting complex values to real discards the imaginary part\n"
     ]
    },
    {
     "name": "stdout",
     "output_type": "stream",
     "text": [
      "(70, 4, 719)\n",
      "(251,)\n",
      "(719, 2)\n",
      "(70, 3)\n",
      "(70,)\n",
      "\n",
      "\n",
      "\n",
      "Loaded raw data in MultiTaperFFT!\n",
      "(165, 4, 719)\n",
      "(251,)\n",
      "(719, 2)\n",
      "(165, 3)\n",
      "(165,)\n",
      "\n",
      "\n",
      "\n",
      "Loaded raw data in MultiTaperFFT!\n",
      "(162, 4, 719)\n",
      "(251,)\n",
      "(719, 2)\n",
      "(162, 3)\n",
      "(162,)\n",
      "\n",
      "\n",
      "\n"
     ]
    },
    {
     "ename": "ValueError",
     "evalue": "not enough values to unpack (expected 2, got 0)",
     "output_type": "error",
     "traceback": [
      "\u001b[0;31m---------------------------------------------------------------------------\u001b[0m",
      "\u001b[0;31mValueError\u001b[0m                                Traceback (most recent call last)",
      "\u001b[0;32m<ipython-input-13-df2b8d9f3a21>\u001b[0m in \u001b[0;36m<module>\u001b[0;34m()\u001b[0m\n\u001b[1;32m     23\u001b[0m \u001b[0;31m#     print(metadata.keys())\u001b[0m\u001b[0;34m\u001b[0m\u001b[0;34m\u001b[0m\u001b[0m\n\u001b[1;32m     24\u001b[0m     \u001b[0;31m# get onset/offset times correctly\u001b[0m\u001b[0;34m\u001b[0m\u001b[0;34m\u001b[0m\u001b[0m\n\u001b[0;32m---> 25\u001b[0;31m     \u001b[0monsettimes\u001b[0m\u001b[0;34m,\u001b[0m \u001b[0moffsettimes\u001b[0m \u001b[0;34m=\u001b[0m \u001b[0mgetonsetsoffsets\u001b[0m\u001b[0;34m(\u001b[0m\u001b[0mzts\u001b[0m\u001b[0;34m,\u001b[0m \u001b[0mnp\u001b[0m\u001b[0;34m.\u001b[0m\u001b[0marray\u001b[0m\u001b[0;34m(\u001b[0m\u001b[0mezindices\u001b[0m\u001b[0;34m)\u001b[0m\u001b[0;34m,\u001b[0m \u001b[0mnp\u001b[0m\u001b[0;34m.\u001b[0m\u001b[0marray\u001b[0m\u001b[0;34m(\u001b[0m\u001b[0mpzindices\u001b[0m\u001b[0;34m)\u001b[0m\u001b[0;34m)\u001b[0m\u001b[0;34m\u001b[0m\u001b[0m\n\u001b[0m\u001b[1;32m     26\u001b[0m \u001b[0;34m\u001b[0m\u001b[0m\n\u001b[1;32m     27\u001b[0m     \u001b[0;31m# get the actual seizure times and offsets\u001b[0m\u001b[0;34m\u001b[0m\u001b[0;34m\u001b[0m\u001b[0m\n",
      "\u001b[0;32m<ipython-input-7-8ea53c12ed54>\u001b[0m in \u001b[0;36mgetonsetsoffsets\u001b[0;34m(zts, ezindices, pzindices, delta)\u001b[0m\n\u001b[1;32m     80\u001b[0m         \u001b[0;32mfor\u001b[0m \u001b[0mpzindex\u001b[0m \u001b[0;32min\u001b[0m \u001b[0mpzindices\u001b[0m\u001b[0;34m:\u001b[0m\u001b[0;34m\u001b[0m\u001b[0m\n\u001b[1;32m     81\u001b[0m             _onsettimes, _offsettimes = findonsetoffset(zts[pzindex, :].squeeze(), \n\u001b[0;32m---> 82\u001b[0;31m                                                                     delta=delta)\n\u001b[0m\u001b[1;32m     83\u001b[0m             \u001b[0monsettimes\u001b[0m \u001b[0;34m=\u001b[0m \u001b[0mnp\u001b[0m\u001b[0;34m.\u001b[0m\u001b[0mappend\u001b[0m\u001b[0;34m(\u001b[0m\u001b[0monsettimes\u001b[0m\u001b[0;34m,\u001b[0m \u001b[0mnp\u001b[0m\u001b[0;34m.\u001b[0m\u001b[0masarray\u001b[0m\u001b[0;34m(\u001b[0m\u001b[0m_onsettimes\u001b[0m\u001b[0;34m)\u001b[0m\u001b[0;34m)\u001b[0m\u001b[0;34m\u001b[0m\u001b[0m\n\u001b[1;32m     84\u001b[0m             \u001b[0moffsettimes\u001b[0m \u001b[0;34m=\u001b[0m \u001b[0mnp\u001b[0m\u001b[0;34m.\u001b[0m\u001b[0mappend\u001b[0m\u001b[0;34m(\u001b[0m\u001b[0moffsettimes\u001b[0m\u001b[0;34m,\u001b[0m \u001b[0mnp\u001b[0m\u001b[0;34m.\u001b[0m\u001b[0masarray\u001b[0m\u001b[0;34m(\u001b[0m\u001b[0m_offsettimes\u001b[0m\u001b[0;34m)\u001b[0m\u001b[0;34m)\u001b[0m\u001b[0;34m\u001b[0m\u001b[0m\n",
      "\u001b[0;32m<ipython-input-7-8ea53c12ed54>\u001b[0m in \u001b[0;36mfindonsetoffset\u001b[0;34m(zts, delta)\u001b[0m\n\u001b[1;32m     60\u001b[0m \u001b[0;34m\u001b[0m\u001b[0m\n\u001b[1;32m     61\u001b[0m     \u001b[0;31m# get every other peaks\u001b[0m\u001b[0;34m\u001b[0m\u001b[0;34m\u001b[0m\u001b[0m\n\u001b[0;32m---> 62\u001b[0;31m     \u001b[0monsettime\u001b[0m\u001b[0;34m,\u001b[0m \u001b[0m_\u001b[0m \u001b[0;34m=\u001b[0m \u001b[0mzip\u001b[0m\u001b[0;34m(\u001b[0m\u001b[0;34m*\u001b[0m\u001b[0mminpeaks\u001b[0m\u001b[0;34m)\u001b[0m\u001b[0;34m\u001b[0m\u001b[0m\n\u001b[0m\u001b[1;32m     63\u001b[0m     \u001b[0moffsettime\u001b[0m\u001b[0;34m,\u001b[0m \u001b[0m_\u001b[0m \u001b[0;34m=\u001b[0m \u001b[0mzip\u001b[0m\u001b[0;34m(\u001b[0m\u001b[0;34m*\u001b[0m\u001b[0mmaxpeaks\u001b[0m\u001b[0;34m)\u001b[0m\u001b[0;34m\u001b[0m\u001b[0m\n\u001b[1;32m     64\u001b[0m \u001b[0;34m\u001b[0m\u001b[0m\n",
      "\u001b[0;31mValueError\u001b[0m: not enough values to unpack (expected 2, got 0)"
     ]
    }
   ],
   "source": [
    "for idx, datafile in enumerate(datafiles[52:]):\n",
    "    data = np.load(datafile, encoding='bytes')\n",
    "    metadata = data['metadata'].item()\n",
    "    zts = data['zts']\n",
    "    seegts = data['seegts']\n",
    "    \n",
    "    # Extract location coordinates\n",
    "    locations = metadata[b'seeg_xyz']\n",
    "    try:\n",
    "        patient_id = metadata[b'patient'].decode(\"utf-8\") \n",
    "    except:\n",
    "        patient = '_'.join(filename.split('_')[0:2])\n",
    "\n",
    "    ezindices = metadata[b'ezindices']\n",
    "    pzindices = metadata[b'pzindices']\n",
    "    x0 = metadata[b'x0ez']\n",
    "    seeg_contacts = metadata[b'seeg_contacts']\n",
    "    \n",
    "#     print(locations.shape)\n",
    "#     print(zts.shape)\n",
    "#     print(seegts.shape)\n",
    "#     print(data.keys())\n",
    "#     print(metadata.keys())\n",
    "    # get onset/offset times correctly\n",
    "    onsettimes, offsettimes = getonsetsoffsets(zts, np.array(ezindices), np.array(pzindices))\n",
    "\n",
    "    # get the actual seizure times and offsets\n",
    "    seizonsets, seizoffsets = getseiztimes(onsettimes, offsettimes)\n",
    "    seizonsets = np.asarray(seizonsets)\n",
    "    seizoffsets = np.asarray(seizoffsets)\n",
    "    seiztimes = np.concatenate((seizonsets[:,np.newaxis], seizoffsets[:,np.newaxis]), axis=1)\n",
    "    \n",
    "#     print(seizonsets, seizoffsets)\n",
    "#     print(seiztimes)\n",
    "    # filter the data in case it was not done already\n",
    "    lowcut = 0.1\n",
    "    highcut = 499.\n",
    "    fs = 1000.\n",
    "    newseegts = butter_bandpass_filter(seegts, lowcut, highcut, fs, order=4)\n",
    "\n",
    "    mtaper.loadrawdata(newseegts)\n",
    "    power, freqs, timepoints, _ = mtaper.mtwelch()\n",
    "    power = binFrequencyValues(power, freqs)\n",
    "    \n",
    "    filename = os.path.join('./traindata/', \n",
    "                            patient_id + '_nez' + str(len(ezindices)) + '_npz' + str(len(pzindices)) + '_'+str(idx) +'.npz')\n",
    "    \n",
    "    np.savez_compressed(filename, power=power, timepoints=timepoints, seiztimes=seiztimes,\n",
    "                       locs=locations, seeg_contacts=seeg_contacts,x0ez=x0)\n",
    "    print(power.shape)\n",
    "    print(freqs.shape)\n",
    "    print(timepoints.shape)\n",
    "    print(locations.shape)\n",
    "    print(seeg_contacts.shape)\n",
    "    print('\\n\\n')"
   ]
  },
  {
   "cell_type": "code",
   "execution_count": 10,
   "metadata": {
    "scrolled": true
   },
   "outputs": [
    {
     "name": "stdout",
     "output_type": "stream",
     "text": [
      "/Volumes/ADAM LI/pydata/tvbforwardsim/randmoved/_04/id002_cj/id002_cj_sim_nez1_npz0.npz\n"
     ]
    }
   ],
   "source": [
    "# onsettimes, offsettimes = getonsetsoffsets(zts, np.array(ezindices), np.array(pzindices),delta=0.2)\n",
    "print(datafile)"
   ]
  },
  {
   "cell_type": "markdown",
   "metadata": {},
   "source": [
    "# Check what the transforms look like"
   ]
  },
  {
   "cell_type": "code",
   "execution_count": null,
   "metadata": {
    "collapsed": true
   },
   "outputs": [],
   "source": [
    "import matplotlib.pyplot as plt"
   ]
  },
  {
   "cell_type": "code",
   "execution_count": null,
   "metadata": {
    "scrolled": true
   },
   "outputs": [],
   "source": [
    "for i in range(powermultitaper.shape[0]):\n",
    "    \n",
    "#     time_series_limit = 200\n",
    "    \n",
    "    single_channel = np.real(powermultitaper[i])    \n",
    "\n",
    "    plt.figure(figsize=(20,20))\n",
    "    plt.imshow(single_channel, cmap='jet', interpolation='nearest')\n",
    "    plt.show()\n",
    "    \n",
    "    single_channel_binned = binFrequencyValues(single_channel)\n",
    "    \n",
    "    plt.figure(figsize=(20,20))\n",
    "    plt.imshow(single_channel_binned, cmap='jet', interpolation='nearest', aspect='auto')\n",
    "    plt.show()\n",
    "    "
   ]
  },
  {
   "cell_type": "code",
   "execution_count": null,
   "metadata": {
    "collapsed": true
   },
   "outputs": [],
   "source": [
    "for i in range(powermultitaper.shape[0]):\n",
    "    \n",
    "#     time_series_limit = 200\n",
    "    \n",
    "    single_channel = np.real(powermultitaper[i])    \n",
    "\n",
    "    plt.figure(figsize=(20,20))\n",
    "    plt.imshow(single_channel, cmap='jet', interpolation='nearest')\n",
    "    plt.show()\n",
    "    \n",
    "    single_channel_binned = binFrequencyValues(single_channel)\n",
    "    \n",
    "    plt.figure(figsize=(20,20))\n",
    "    plt.imshow(single_channel_binned, cmap='jet', interpolation='nearest', aspect='auto')\n",
    "    plt.show()\n",
    "    "
   ]
  },
  {
   "cell_type": "code",
   "execution_count": null,
   "metadata": {
    "collapsed": true
   },
   "outputs": [],
   "source": [
    "single_channel = np.real(powermultitaper[0])\n",
    "\n",
    "x = binFrequencyValues(single_channel,frequency_ranges)"
   ]
  },
  {
   "cell_type": "code",
   "execution_count": null,
   "metadata": {},
   "outputs": [],
   "source": [
    "x.shape"
   ]
  },
  {
   "cell_type": "code",
   "execution_count": null,
   "metadata": {
    "collapsed": true
   },
   "outputs": [],
   "source": [
    "plt.figure(figsize=(20,20))\n",
    "plt.imshow(x[:,0:40], cmap='jet', interpolation='nearest')\n",
    "plt.show()"
   ]
  },
  {
   "cell_type": "code",
   "execution_count": null,
   "metadata": {
    "collapsed": true
   },
   "outputs": [],
   "source": [
    "single_channel.shape"
   ]
  },
  {
   "cell_type": "code",
   "execution_count": null,
   "metadata": {
    "collapsed": true
   },
   "outputs": [],
   "source": [
    "# Extract frequency values from mtaper object\n",
    "freqs = mtaper.freqsfft"
   ]
  },
  {
   "cell_type": "code",
   "execution_count": null,
   "metadata": {
    "collapsed": true
   },
   "outputs": [],
   "source": []
  },
  {
   "cell_type": "code",
   "execution_count": null,
   "metadata": {
    "collapsed": true
   },
   "outputs": [],
   "source": [
    "# Save with patient name\n",
    "np.savez(patient_id + '.npz',powermultitaper,freqs,locations)\n",
    "\n",
    "# numchannels * colours (binned frequencies, integral) * # of time windows...\n",
    "\n",
    "# Write numpy array to file"
   ]
  }
 ],
 "metadata": {
  "kernelspec": {
   "display_name": "dnn",
   "language": "python",
   "name": "dnn"
  },
  "language_info": {
   "codemirror_mode": {
    "name": "ipython",
    "version": 3
   },
   "file_extension": ".py",
   "mimetype": "text/x-python",
   "name": "python",
   "nbconvert_exporter": "python",
   "pygments_lexer": "ipython3",
   "version": "3.6.3"
  }
 },
 "nbformat": 4,
 "nbformat_minor": 2
}
