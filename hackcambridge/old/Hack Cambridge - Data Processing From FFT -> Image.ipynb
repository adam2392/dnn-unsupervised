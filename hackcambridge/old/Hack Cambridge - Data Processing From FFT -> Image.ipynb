{
 "cells": [
  {
   "cell_type": "code",
   "execution_count": 18,
   "metadata": {},
   "outputs": [
    {
     "name": "stdout",
     "output_type": "stream",
     "text": [
      "The autoreload extension is already loaded. To reload it, use:\n",
      "  %reload_ext autoreload\n"
     ]
    }
   ],
   "source": [
    "import sys\n",
    "import os\n",
    "sys.path.append('/Users/adam2392/Documents/tvb/')\n",
    "# sys.path.append('/Users/adam2392/Documents/tvb/_tvbdata/')\n",
    "# sys.path.append('/Users/adam2392/Documents/tvb/_tvblibrary/')\n",
    "# from tvb.simulator.lab import *\n",
    "import numpy as np\n",
    "import pandas as pd\n",
    "import scipy\n",
    "from sklearn import cluster\n",
    "import tvbsim\n",
    "\n",
    "import processing.util as util\n",
    "import processing.preprocessfft as preprocess\n",
    "\n",
    "from natsort import natsorted\n",
    "\n",
    "import tvbsim.util\n",
    "\n",
    "sys.path.append('/Users/adam2392/Documents/dnn-unsupervised/dnn/')\n",
    "import processing.util as util\n",
    "\n",
    "from sklearn.decomposition import PCA\n",
    "import matplotlib\n",
    "from matplotlib import *\n",
    "from matplotlib import pyplot as plt\n",
    "import seaborn as sns\n",
    "\n",
    "%load_ext autoreload\n",
    "%autoreload 2\n",
    "\n",
    "import ntpath\n",
    "def path_leaf(path):\n",
    "    head, tail = ntpath.split(path)\n",
    "    return tail or ntpath.basename(head)\n",
    "\n",
    "def _gettimepoints(numsignals, numwinsamps, numstepsamps):\n",
    "    # create array of indices of window start times\n",
    "    timestarts = np.arange(0, numsignals-numwinsamps+1, numstepsamps)\n",
    "    # create array of indices of window end times\n",
    "    timeends = np.arange(numwinsamps-1, numsignals, numstepsamps)\n",
    "    # create the timepoints array for entire data array\n",
    "    timepoints = np.append(timestarts.reshape(len(timestarts), 1), timeends.reshape(len(timestarts), 1), axis=1)\n",
    "    return timepoints"
   ]
  },
  {
   "cell_type": "markdown",
   "metadata": {},
   "source": [
    "# 1. Define Where Data Is\n",
    "\n",
    "We need to get the data that is stored as FFT data.\n",
    "\n",
    "We need to transform the data from \n",
    "- rawdataset is [numchans, numtimepoints]\n",
    "- freqdata is the rawdata preprocessed into frequency data\n",
    "[numchannels, numfrequencybands, numtimewindows]\n",
    "- imagedata is freqdata reformatted into images\n",
    "[width, height, numfreqbands, numtimewindows]"
   ]
  },
  {
   "cell_type": "code",
   "execution_count": 17,
   "metadata": {
    "scrolled": true
   },
   "outputs": [
    {
     "name": "stdout",
     "output_type": "stream",
     "text": [
      "['/Users/adam2392/Documents/dnn-unsupervised/dnn/traindata/id001_ac_nez1_npz1_34.npz', '/Users/adam2392/Documents/dnn-unsupervised/dnn/traindata/id001_ac_nez1_npz1_21.npz', '/Users/adam2392/Documents/dnn-unsupervised/dnn/traindata/id014_rb_nez1_npz0_45.npz', '/Users/adam2392/Documents/dnn-unsupervised/dnn/traindata/id014_rb_nez1_npz0_51.npz', '/Users/adam2392/Documents/dnn-unsupervised/dnn/traindata/id001_ac_nez1_npz0_49.npz', '/Users/adam2392/Documents/dnn-unsupervised/dnn/traindata/id002_cj_nez1_npz1_17.npz', '/Users/adam2392/Documents/dnn-unsupervised/dnn/traindata/id001_ac_nez1_npz1_9.npz', '/Users/adam2392/Documents/dnn-unsupervised/dnn/traindata/id014_rb_nez1_npz1_11.npz', '/Users/adam2392/Documents/dnn-unsupervised/dnn/traindata/id014_rb_nez1_npz1_1.npz', '/Users/adam2392/Documents/dnn-unsupervised/dnn/traindata/id002_cj_nez1_npz1_29.npz', '/Users/adam2392/Documents/dnn-unsupervised/dnn/traindata/id014_rb_nez1_npz1_12.npz', '/Users/adam2392/Documents/dnn-unsupervised/dnn/traindata/id002_cj_nez1_npz1_10.npz', '/Users/adam2392/Documents/dnn-unsupervised/dnn/traindata/id014_rb_nez1_npz1_16.npz', '/Users/adam2392/Documents/dnn-unsupervised/dnn/traindata/id002_cj_nez1_npz0_44.npz', '/Users/adam2392/Documents/dnn-unsupervised/dnn/traindata/id002_cj_nez1_npz0_50.npz', '/Users/adam2392/Documents/dnn-unsupervised/dnn/traindata/id014_rb_nez1_npz1_7.npz', '/Users/adam2392/Documents/dnn-unsupervised/dnn/traindata/id002_cj_nez1_npz1_13.npz', '/Users/adam2392/Documents/dnn-unsupervised/dnn/traindata/id002_cj_nez1_npz1_2.npz', '/Users/adam2392/Documents/dnn-unsupervised/dnn/traindata/id002_cj_nez1_npz0_47.npz', '/Users/adam2392/Documents/dnn-unsupervised/dnn/traindata/id001_ac_nez1_npz1_24.npz', '/Users/adam2392/Documents/dnn-unsupervised/dnn/traindata/id002_cj_nez1_npz1_3.npz', '/Users/adam2392/Documents/dnn-unsupervised/dnn/traindata/id014_rb_nez1_npz1_14.npz', '/Users/adam2392/Documents/dnn-unsupervised/dnn/traindata/id014_rb_nez1_npz1_28.npz', '/Users/adam2392/Documents/dnn-unsupervised/dnn/traindata/id002_cj_nez3_npz1_40.npz', '/Users/adam2392/Documents/dnn-unsupervised/dnn/traindata/id002_cj_nez1_npz0_5.npz', '/Users/adam2392/Documents/dnn-unsupervised/dnn/traindata/id001_ac_nez2_npz0_2.npz', '/Users/adam2392/Documents/dnn-unsupervised/dnn/traindata/id014_rb_nez3_npz1_41.npz', '/Users/adam2392/Documents/dnn-unsupervised/dnn/traindata/id001_ac_nez1_npz1_52.npz', '/Users/adam2392/Documents/dnn-unsupervised/dnn/traindata/id014_rb_nez2_npz1_38.npz', '/Users/adam2392/Documents/dnn-unsupervised/dnn/traindata/id002_cj_nez1_npz1_54.npz', '/Users/adam2392/Documents/dnn-unsupervised/dnn/traindata/id001_ac_nez2_npz1_39.npz', '/Users/adam2392/Documents/dnn-unsupervised/dnn/traindata/id001_ac_nez3_npz1_42.npz', '/Users/adam2392/Documents/dnn-unsupervised/dnn/traindata/id014_rb_nez1_npz0_8.npz', '/Users/adam2392/Documents/dnn-unsupervised/dnn/traindata/id014_rb_nez2_npz0_6.npz', '/Users/adam2392/Documents/dnn-unsupervised/dnn/traindata/id001_ac_nez1_npz0_0.npz', '/Users/adam2392/Documents/dnn-unsupervised/dnn/traindata/id002_cj_nez2_npz0_4.npz', '/Users/adam2392/Documents/dnn-unsupervised/dnn/traindata/id002_cj_nez2_npz1_37.npz', '/Users/adam2392/Documents/dnn-unsupervised/dnn/traindata/id001_ac_nez1_npz1_1.npz', '/Users/adam2392/Documents/dnn-unsupervised/dnn/traindata/id014_rb_nez1_npz1_25.npz', '/Users/adam2392/Documents/dnn-unsupervised/dnn/traindata/id014_rb_nez1_npz1_31.npz', '/Users/adam2392/Documents/dnn-unsupervised/dnn/traindata/id014_rb_nez1_npz1_19.npz', '/Users/adam2392/Documents/dnn-unsupervised/dnn/traindata/id002_cj_nez1_npz1_23.npz', '/Users/adam2392/Documents/dnn-unsupervised/dnn/traindata/id001_ac_nez1_npz1_15.npz', '/Users/adam2392/Documents/dnn-unsupervised/dnn/traindata/id002_cj_nez1_npz1_36.npz', '/Users/adam2392/Documents/dnn-unsupervised/dnn/traindata/id001_ac_nez1_npz1_0.npz', '/Users/adam2392/Documents/dnn-unsupervised/dnn/traindata/id002_cj_nez1_npz1_20.npz', '/Users/adam2392/Documents/dnn-unsupervised/dnn/traindata/id001_ac_nez1_npz0_43.npz', '/Users/adam2392/Documents/dnn-unsupervised/dnn/traindata/id014_rb_nez1_npz1_33.npz', '/Users/adam2392/Documents/dnn-unsupervised/dnn/traindata/id001_ac_nez1_npz0_46.npz', '/Users/adam2392/Documents/dnn-unsupervised/dnn/traindata/id014_rb_nez1_npz1_22.npz', '/Users/adam2392/Documents/dnn-unsupervised/dnn/traindata/id002_cj_nez1_npz1_18.npz', '/Users/adam2392/Documents/dnn-unsupervised/dnn/traindata/id002_cj_nez1_npz1_30.npz', '/Users/adam2392/Documents/dnn-unsupervised/dnn/traindata/id002_cj_nez1_npz1_26.npz', '/Users/adam2392/Documents/dnn-unsupervised/dnn/traindata/id002_cj_nez1_npz1_32.npz', '/Users/adam2392/Documents/dnn-unsupervised/dnn/traindata/id014_rb_nez1_npz0_48.npz', '/Users/adam2392/Documents/dnn-unsupervised/dnn/traindata/id014_rb_nez1_npz1_35.npz', '/Users/adam2392/Documents/dnn-unsupervised/dnn/traindata/id002_cj_nez1_npz1_27.npz', '/Users/adam2392/Documents/dnn-unsupervised/dnn/traindata/old/id001_ac_nez1_npz1.npz', '/Users/adam2392/Documents/dnn-unsupervised/dnn/traindata/old/id001_ac_nez1_npz0.npz', '/Users/adam2392/Documents/dnn-unsupervised/dnn/traindata/old/id014_rb_nez1_npz0.npz', '/Users/adam2392/Documents/dnn-unsupervised/dnn/traindata/old/id002_cj_nez2_npz0.npz', '/Users/adam2392/Documents/dnn-unsupervised/dnn/traindata/old/id002_cj_nez2_npz1.npz', '/Users/adam2392/Documents/dnn-unsupervised/dnn/traindata/old/id002_cj_nez3_npz1.npz', '/Users/adam2392/Documents/dnn-unsupervised/dnn/traindata/old/id014_rb_nez1_npz1.npz', '/Users/adam2392/Documents/dnn-unsupervised/dnn/traindata/old/id001_ac_nez3_npz1.npz', '/Users/adam2392/Documents/dnn-unsupervised/dnn/traindata/old/id001_ac_nez2_npz1.npz', '/Users/adam2392/Documents/dnn-unsupervised/dnn/traindata/old/id001_ac_nez2_npz0.npz', '/Users/adam2392/Documents/dnn-unsupervised/dnn/traindata/old/id014_rb_nez2_npz0.npz', '/Users/adam2392/Documents/dnn-unsupervised/dnn/traindata/old/id002_cj_nez1_npz0.npz', '/Users/adam2392/Documents/dnn-unsupervised/dnn/traindata/old/id002_cj_nez1_npz1.npz', '/Users/adam2392/Documents/dnn-unsupervised/dnn/traindata/old/id014_rb_nez3_npz1.npz', '/Users/adam2392/Documents/dnn-unsupervised/dnn/traindata/old/id014_rb_nez2_npz1.npz']\n"
     ]
    }
   ],
   "source": [
    "datadir = '/Volumes/ADAM LI/pydata/output/frequencyanalysis/'\n",
    "datadir = '/Users/adam2392/Documents/dnn-unsupervised/dnn/traindata/'\n",
    "metadatadir = '/Volumes/ADAM LI/pydata/metadata/'    \n",
    "\n",
    "# Get ALL datafiles from all downstream files\n",
    "datafiles = []\n",
    "for root, dirs, files in os.walk(datadir):\n",
    "    for file in files:\n",
    "        if file.endswith(\".npz\"):\n",
    "             datafiles.append(os.path.join(root, file))\n",
    "print(datafiles)"
   ]
  },
  {
   "cell_type": "code",
   "execution_count": 4,
   "metadata": {},
   "outputs": [
    {
     "name": "stdout",
     "output_type": "stream",
     "text": [
      "['id001_ac', 'id002_cj', 'id014_rb']\n"
     ]
    }
   ],
   "source": [
    "'''\n",
    "This code segment should only be ran once, to extract metadata for each patient, \n",
    "so it doesn't need to be done in the loop for FFT compression.\n",
    "\n",
    "EXTRACTS LOCATION DATA FOR EACH PATIENT\n",
    "'''\n",
    "patients = []\n",
    "# get all patients in the dataset\n",
    "for datafile in datafiles:\n",
    "    filename = path_leaf(datafile)\n",
    "    patient = '_'.join(filename.split('_')[0:2])\n",
    "    if patient not in patients:\n",
    "        patients.append(patient)\n",
    "print(patients)\n",
    "\n",
    "patient_dict = {}\n",
    "\n",
    "# get all metadata for each patient\n",
    "for patient in patients:\n",
    "    project_dir = os.path.join(metadatadir, patient)\n",
    "    confile = os.path.join(project_dir, \"connectivity.zip\")\n",
    "\n",
    "    # get the regions, and region_centers from connectivity\n",
    "    reader = util.ZipReader(confile)\n",
    "    region_centers = reader.read_array_from_file(\"centres\", use_cols=(1, 2, 3))\n",
    "    regions = reader.read_array_from_file(\"centres\", dtype=np.str, use_cols=(0,))\n",
    "    \n",
    "    # load in the vertices, normals and areas of gain matrix\n",
    "    use_subcort = True\n",
    "    verts, _, areas, regmap = tvbsim.util.read_surf(project_dir, use_subcort)\n",
    "    \n",
    "    patient_dict['project_dir'] = project_dir\n",
    "    patient_dict['regions'] = regions\n",
    "    patient_dict['region_centers'] = region_centers\n",
    "    patient_dict['surf_data'] = (verts, areas, regmap)"
   ]
  },
  {
   "cell_type": "markdown",
   "metadata": {},
   "source": [
    "# 2. Go Through Each Data File and Create Final Image Dataset\n",
    "\n",
    "- imagedata is freqdata reformatted into images\n",
    "[width, height, numfreqbands, numtimewindows]\n",
    "\n",
    "Use functions to\n",
    "- project 3D -> 2D coordinates\n",
    "- mesh that 2D image with an imagesize and perform cubic interpolation\n",
    "- create image\n",
    "\n",
    "*Need labels [numsamples] that is {0,1} for when onset/offset is*"
   ]
  },
  {
   "cell_type": "code",
   "execution_count": 15,
   "metadata": {
    "scrolled": false
   },
   "outputs": [
    {
     "name": "stdout",
     "output_type": "stream",
     "text": [
      "(70, 4, 647)\n",
      "['power', 'timepoints', 'seiztimes', 'locs', 'seeg_contacts', 'x0ez']\n",
      "using pca to grid image\n",
      "(647, 70)\n",
      "(70, 2)lating 647/647nterpolating 57/647Interpolating 87/647Interpolating 121/647Interpolating 161/647Interpolating 205/647Interpolating 240/647Interpolating 277/647Interpolating 316/647Interpolating 356/647Interpolating 393/647Interpolating 428/647Interpolating 463/647Interpolating 498/647Interpolating 528/647Interpolating 560/647Interpolating 600/647Interpolating 628/647\n"
     ]
    }
   ],
   "source": [
    "# define the data handler \n",
    "datahandler = util.DataHandler()\n",
    "pca = PCA(n_components=2)\n",
    "\n",
    "AZIM=0\n",
    "\n",
    "# loop through each data file and get grid\n",
    "for idx,datafile in enumerate(datafiles):\n",
    "    # load data\n",
    "    data = np.load(datafile, encoding='bytes')\n",
    "    power = data['power']\n",
    "    print(power.shape)\n",
    "    print(data.keys())\n",
    "#     print(metadata.keys())\n",
    "    \n",
    "    # load xyz data for this particular dataset\n",
    "    xyz_data = data['locs']\n",
    "    \n",
    "    # project xyz data\n",
    "    if AZIM==1:\n",
    "        print(\"using azim projection to grid image\")\n",
    "        new_locs = []\n",
    "        for ichan in range(0,xyz_data.shape[0]):\n",
    "            new_locs.append(datahandler.azim_proj(xyz_data[ichan,:]))\n",
    "        new_locs = np.asarray(new_locs)\n",
    "    if AZIM==0:\n",
    "        print(\"using pca to grid image\")\n",
    "        new_locs = pca.fit_transform(xyz_data)\n",
    "     \n",
    "    # Tensor of size [samples, freqbands, W, H] containing generated images.\n",
    "#     image_tensor = datahandler.gen_images(new_locs, power, \n",
    "#                                 n_gridpoints=32, normalize=True, augment=True, \n",
    "#                                 pca=False, std_mult=0.1, edgeless=False)\n",
    "    \n",
    "    # \n",
    "\n",
    "    print(new_locs.shape)\n",
    "    break"
   ]
  },
  {
   "cell_type": "code",
   "execution_count": 16,
   "metadata": {},
   "outputs": [
    {
     "name": "stdout",
     "output_type": "stream",
     "text": [
      "(647, 4, 32, 32)\n"
     ]
    },
    {
     "data": {
      "text/plain": [
       "<matplotlib.axes._subplots.AxesSubplot at 0x10ff28390>"
      ]
     },
     "execution_count": 16,
     "metadata": {},
     "output_type": "execute_result"
    },
    {
     "data": {
      "image/png": "[encoded data removed]",
      "text/plain": [
       "<matplotlib.figure.Figure at 0x10fefb710>"
      ]
     },
     "metadata": {},
     "output_type": "display_data"
    }
   ],
   "source": [
    "print(image_tensor.shape)\n",
    "np.save('test_image.npy', image_tensor)\n",
    "sns.heatmap(image_tensor[0,0,:,:].squeeze())"
   ]
  },
  {
   "cell_type": "code",
   "execution_count": 8,
   "metadata": {},
   "outputs": [
    {
     "name": "stdout",
     "output_type": "stream",
     "text": [
      "2.5\n"
     ]
    },
    {
     "data": {
      "image/png": "[encoded data removed]",
      "text/plain": [
       "<matplotlib.figure.Figure at 0x10f3c0320>"
      ]
     },
     "metadata": {},
     "output_type": "display_data"
    },
    {
     "data": {
      "text/plain": [
       "<matplotlib.figure.Figure at 0x10f38dc50>"
      ]
     },
     "metadata": {},
     "output_type": "display_data"
    }
   ],
   "source": [
    "print(5/2)\n",
    "pca_xyz = new_locs\n",
    "fig = plt.figure()\n",
    "plt.plot(pca_xyz[:,0], pca_xyz[:,1], 'k*')\n",
    "\n",
    "fig = plt.figure()\n",
    "# plt.plot(pca_locs[:,0], pca_locs[:,1], 'k*')"
   ]
  },
  {
   "cell_type": "code",
   "execution_count": null,
   "metadata": {
    "collapsed": true
   },
   "outputs": [],
   "source": [
    "# lists to store the list of tuples of seizure onset/offsets\n",
    "seizuremarks = []\n",
    "\n",
    "# list to store the last time point of each recording added in\n",
    "timelens = []\n",
    "\n",
    "for idx,datafile in enumerate(datafiles):\n",
    "    powerbands, timepoints = preprocessor.compresspowermat(datafile)\n",
    "    onsettimes, offsettimes = preprocessor.getseiztimes(datafile)\n",
    "    \n",
    "    metadata = preprocessor.loadmetadata(datafile)\n",
    "    metadata['regions'] = regions\n",
    "    metadata['region_centers'] = region_centers\n",
    "    \n",
    "    # get the last time point\n",
    "    lasttimewin = timepoints[-1,:][1]+1\n",
    "    timelens.append(lasttimewin)\n",
    "    \n",
    "    if idx > 0:\n",
    "        onsettimes = list(np.asarray(onsettimes) + np.sum(timelens[0:idx-1]))\n",
    "        offsettimes = list(np.asarray(offsettimes) + np.sum(timelens[0:idx-1]))\n",
    "    seizuremarks_tuple = list(zip(onsettimes,offsettimes)) \n",
    "    seizuremarks.append(seizuremarks_tuple)\n",
    "#     mapped_power_bands = preprocessor.projectpower_gain(powerbands,\n",
    "#                                                         metadata,\n",
    "#                                                        verts,\n",
    "#                                                        areas,\n",
    "#                                                        regmap)\n",
    "#     print(mapped_power_bands.shape)\n",
    "#     mapped_power_bands = preprocessor.projectpower_knn(powerbands,\n",
    "#                                                         metadata)\n",
    "#     print(mapped_power_bands.shape)\n",
    "    mapped_power_bands = preprocessor.projectpower_invsquare(powerbands,\n",
    "                                                        metadata)\n",
    "#     print(onsettimes, offsettimes)\n",
    "#     print(powerbands.keys())\n",
    "#     print(powerbands[list(powerbands.keys())[0]].shape)\n",
    "#     print(mapped_power_bands.shape)\n",
    "\n",
    "    if idx == 0:\n",
    "        condensed_power = mapped_power_bands\n",
    "    else:\n",
    "        condensed_power = np.concatenate((condensed_power, mapped_power_bands), axis=0)\n",
    "\n",
    "print(condensed_power.shape)\n",
    "print(seizuremarks)\n",
    "print(timelens)"
   ]
  }
 ],
 "metadata": {
  "kernelspec": {
   "display_name": "dnn",
   "language": "python",
   "name": "dnn"
  },
  "language_info": {
   "codemirror_mode": {
    "name": "ipython",
    "version": 3
   },
   "file_extension": ".py",
   "mimetype": "text/x-python",
   "name": "python",
   "nbconvert_exporter": "python",
   "pygments_lexer": "ipython3",
   "version": "3.6.3"
  }
 },
 "nbformat": 4,
 "nbformat_minor": 2
}
