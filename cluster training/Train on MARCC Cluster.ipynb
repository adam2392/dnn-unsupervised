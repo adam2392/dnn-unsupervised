{
 "cells": [
  {
   "cell_type": "code",
   "execution_count": 1,
   "metadata": {},
   "outputs": [
    {
     "name": "stderr",
     "output_type": "stream",
     "text": [
      "/Users/adam2392/Documents/dnn-unsupervised/.venv/lib/python3.6/importlib/_bootstrap.py:219: RuntimeWarning: compiletime version 3.5 of module 'tensorflow.python.framework.fast_tensor_util' does not match runtime version 3.6\n",
      "  return f(*args, **kwds)\n",
      "/Users/adam2392/Documents/dnn-unsupervised/.venv/lib/python3.6/site-packages/h5py/__init__.py:36: FutureWarning: Conversion of the second argument of issubdtype from `float` to `np.floating` is deprecated. In future, it will be treated as `np.float64 == np.dtype(float).type`.\n",
      "  from ._conv import register_converters as _register_converters\n",
      "Using TensorFlow backend.\n"
     ]
    }
   ],
   "source": [
    "import time\n",
    "import sys\n",
    "sys.path.append('../../dnn/')\n",
    "import model.ieeg_cnn_rnn\n",
    "import model.train\n",
    "import processing.util as util\n",
    "\n",
    "import numpy as np\n",
    "# np.random.seed(1234)\n",
    "from functools import reduce\n",
    "import math as m\n",
    "import os\n",
    "\n",
    "# import DNN frameworks\n",
    "import tensorflow as tf\n",
    "import keras\n",
    "import ntpath\n",
    "\n",
    "# import high level optimizers, models and layers\n",
    "from keras.optimizers import SGD, Adam\n",
    "from keras.callbacks import ModelCheckpoint\n",
    "\n",
    "from sklearn.model_selection import train_test_split\n",
    "from sklearn.preprocessing import scale\n",
    "from sklearn.metrics import roc_auc_score\n",
    "\n",
    "# utility for datasets and training\n",
    "# from keras.utils.training_utils import multi_gpu_model\n",
    "from keras.preprocessing.image import ImageDataGenerator\n",
    "from keras.callbacks import LearningRateScheduler\n",
    "# imports tensorflow\n",
    "# from keras import backend as K\n",
    "\n",
    "from keras.utils import plot_model\n",
    "from IPython.display import SVG\n",
    "from keras.utils.vis_utils import model_to_dot"
   ]
  },
  {
   "cell_type": "code",
   "execution_count": 2,
   "metadata": {
    "collapsed": true
   },
   "outputs": [],
   "source": [
    "def path_leaf(path):\n",
    "    head, tail = ntpath.split(path)\n",
    "    return tail or ntpath.basename(head)\n",
    "\n",
    "\n",
    "def poly_decay(epoch, NUM_EPOCHS, INIT_LR):\n",
    "    # initialize the maximum number of epochs, base learning rate,\n",
    "    # and power of the polynomial\n",
    "    maxEpochs = NUM_EPOCHS\n",
    "    baseLR = INIT_LR\n",
    "    power = 1.0\n",
    "    # compute the new learning rate based on polynomial decay\n",
    "    alpha = baseLR * (1 - (epoch / float(maxEpochs))) ** power\n",
    "    # return the new learning rate\n",
    "    return alpha\n",
    "\n",
    "def loadmodel(ieegdnn, **kwargs):\n",
    "    if model=='cnn':\n",
    "        # VGG-12 style later\n",
    "        vggcnn = ieegdnn._build_2dcnn(w_init=w_init, n_layers=n_layers, \n",
    "                                      poolsize=poolsize, filter_size=filtersize)\n",
    "        vggcnn = ieegdnn._build_seq_output(vggcnn, size_fc, DROPOUT)\n",
    "class Histories(keras.callbacks.Callback):\n",
    "    def on_train_begin(self, logs={}):\n",
    "        self.aucs = []\n",
    "        self.losses = []\n",
    " \n",
    "    def on_train_end(self, logs={}):\n",
    "        return\n",
    " \n",
    "    def on_epoch_begin(self, epoch, logs={}):\n",
    "        return\n",
    " \n",
    "    def on_epoch_end(self, epoch, logs={}):\n",
    "        self.losses.append(logs.get('loss'))\n",
    "        y_pred = self.model.predict(self.model.validation_data[0])\n",
    "        self.aucs.append(roc_auc_score(self.model.validation_data[1], y_pred))\n",
    "        return\n",
    " \n",
    "    def on_batch_begin(self, batch, logs={}):\n",
    "        return\n",
    " \n",
    "    def on_batch_end(self, batch, logs={}):\n",
    "        return"
   ]
  },
  {
   "cell_type": "markdown",
   "metadata": {},
   "source": [
    "# 1. Check GPU and System and Load Data"
   ]
  },
  {
   "cell_type": "code",
   "execution_count": 3,
   "metadata": {},
   "outputs": [
    {
     "name": "stdout",
     "output_type": "stream",
     "text": [
      "[]\n",
      "[name: \"/device:CPU:0\"\n",
      "device_type: \"CPU\"\n",
      "memory_limit: 268435456\n",
      "locality {\n",
      "}\n",
      "incarnation: 15507112001047907750\n",
      "]\n"
     ]
    }
   ],
   "source": [
    "from tensorflow.python.client import device_lib\n",
    "def get_available_gpus():\n",
    "    local_device_protos = device_lib.list_local_devices()\n",
    "    return [x.name for x in local_device_protos if x.device_type == 'GPU']\n",
    "# number of gpus\n",
    "G = 1\n",
    "print(get_available_gpus())\n",
    "print(device_lib.list_local_devices())\n"
   ]
  },
  {
   "cell_type": "code",
   "execution_count": 6,
   "metadata": {},
   "outputs": [
    {
     "name": "stdout",
     "output_type": "stream",
     "text": [
      "\n",
      "Training on 0 datasets!\n"
     ]
    }
   ],
   "source": [
    "traindatadir = '/Volumes/ADAM LI/pydata/traindata'\n",
    "traindatadir = '/home-1/ali39@jhu.edu/scratch/data/dnn/traindata/'\n",
    "##################### INPUT DATA FOR NN ####################\n",
    "imagedir = os.path.join(traindatadir, 'image_2d')\n",
    "# get all the separate files to use for training:\n",
    "datafiles = []\n",
    "for root, dirs, files in os.walk(imagedir):\n",
    "    for file in files:\n",
    "        datafiles.append(os.path.join(root, file))\n",
    "\n",
    "sys.stdout.write('\\nTraining on ' + str(len(datafiles)) + ' datasets!\\n')"
   ]
  },
  {
   "cell_type": "code",
   "execution_count": 30,
   "metadata": {
    "scrolled": true
   },
   "outputs": [
    {
     "name": "stdout",
     "output_type": "stream",
     "text": [
      "id001_ac_nez1_npz0_0.npz\n",
      "(479, 4, 32, 32)\n",
      "(439, 2)\n"
     ]
    },
    {
     "ename": "ValueError",
     "evalue": "Found input variables with inconsistent numbers of samples: [479, 439]",
     "output_type": "error",
     "traceback": [
      "\u001b[0;31m---------------------------------------------------------------------------\u001b[0m",
      "\u001b[0;31mValueError\u001b[0m                                Traceback (most recent call last)",
      "\u001b[0;32m<ipython-input-30-b8864cd09646>\u001b[0m in \u001b[0;36m<module>\u001b[0;34m()\u001b[0m\n\u001b[1;32m     29\u001b[0m     \u001b[0;31m# format the data correctly\u001b[0m\u001b[0;34m\u001b[0m\u001b[0;34m\u001b[0m\u001b[0m\n\u001b[1;32m     30\u001b[0m     \u001b[0;31m# (X_train, y_train), (X_val, y_val), (X_test, y_test) = datahandler.reformatinput(images, labels)\u001b[0m\u001b[0;34m\u001b[0m\u001b[0;34m\u001b[0m\u001b[0m\n\u001b[0;32m---> 31\u001b[0;31m     \u001b[0mX_train\u001b[0m\u001b[0;34m,\u001b[0m \u001b[0mX_test\u001b[0m\u001b[0;34m,\u001b[0m \u001b[0my_train\u001b[0m\u001b[0;34m,\u001b[0m \u001b[0my_test\u001b[0m \u001b[0;34m=\u001b[0m \u001b[0mtrain_test_split\u001b[0m\u001b[0;34m(\u001b[0m\u001b[0mimages\u001b[0m\u001b[0;34m,\u001b[0m \u001b[0mylabels\u001b[0m\u001b[0;34m,\u001b[0m \u001b[0mtest_size\u001b[0m\u001b[0;34m=\u001b[0m\u001b[0;36m0.33\u001b[0m\u001b[0;34m,\u001b[0m \u001b[0mrandom_state\u001b[0m\u001b[0;34m=\u001b[0m\u001b[0;36m42\u001b[0m\u001b[0;34m)\u001b[0m\u001b[0;34m\u001b[0m\u001b[0m\n\u001b[0m\u001b[1;32m     32\u001b[0m     \u001b[0mX_train\u001b[0m \u001b[0;34m=\u001b[0m \u001b[0mX_train\u001b[0m\u001b[0;34m.\u001b[0m\u001b[0mastype\u001b[0m\u001b[0;34m(\u001b[0m\u001b[0;34m\"float32\"\u001b[0m\u001b[0;34m)\u001b[0m\u001b[0;34m\u001b[0m\u001b[0m\n\u001b[1;32m     33\u001b[0m     \u001b[0mX_test\u001b[0m \u001b[0;34m=\u001b[0m \u001b[0mX_test\u001b[0m\u001b[0;34m.\u001b[0m\u001b[0mastype\u001b[0m\u001b[0;34m(\u001b[0m\u001b[0;34m\"float32\"\u001b[0m\u001b[0;34m)\u001b[0m\u001b[0;34m\u001b[0m\u001b[0m\n",
      "\u001b[0;32m~/Documents/dnn-unsupervised/.venv/lib/python3.6/site-packages/sklearn/model_selection/_split.py\u001b[0m in \u001b[0;36mtrain_test_split\u001b[0;34m(*arrays, **options)\u001b[0m\n\u001b[1;32m   2029\u001b[0m         \u001b[0mtest_size\u001b[0m \u001b[0;34m=\u001b[0m \u001b[0;36m0.25\u001b[0m\u001b[0;34m\u001b[0m\u001b[0m\n\u001b[1;32m   2030\u001b[0m \u001b[0;34m\u001b[0m\u001b[0m\n\u001b[0;32m-> 2031\u001b[0;31m     \u001b[0marrays\u001b[0m \u001b[0;34m=\u001b[0m \u001b[0mindexable\u001b[0m\u001b[0;34m(\u001b[0m\u001b[0;34m*\u001b[0m\u001b[0marrays\u001b[0m\u001b[0;34m)\u001b[0m\u001b[0;34m\u001b[0m\u001b[0m\n\u001b[0m\u001b[1;32m   2032\u001b[0m \u001b[0;34m\u001b[0m\u001b[0m\n\u001b[1;32m   2033\u001b[0m     \u001b[0;32mif\u001b[0m \u001b[0mshuffle\u001b[0m \u001b[0;32mis\u001b[0m \u001b[0;32mFalse\u001b[0m\u001b[0;34m:\u001b[0m\u001b[0;34m\u001b[0m\u001b[0m\n",
      "\u001b[0;32m~/Documents/dnn-unsupervised/.venv/lib/python3.6/site-packages/sklearn/utils/validation.py\u001b[0m in \u001b[0;36mindexable\u001b[0;34m(*iterables)\u001b[0m\n\u001b[1;32m    227\u001b[0m         \u001b[0;32melse\u001b[0m\u001b[0;34m:\u001b[0m\u001b[0;34m\u001b[0m\u001b[0m\n\u001b[1;32m    228\u001b[0m             \u001b[0mresult\u001b[0m\u001b[0;34m.\u001b[0m\u001b[0mappend\u001b[0m\u001b[0;34m(\u001b[0m\u001b[0mnp\u001b[0m\u001b[0;34m.\u001b[0m\u001b[0marray\u001b[0m\u001b[0;34m(\u001b[0m\u001b[0mX\u001b[0m\u001b[0;34m)\u001b[0m\u001b[0;34m)\u001b[0m\u001b[0;34m\u001b[0m\u001b[0m\n\u001b[0;32m--> 229\u001b[0;31m     \u001b[0mcheck_consistent_length\u001b[0m\u001b[0;34m(\u001b[0m\u001b[0;34m*\u001b[0m\u001b[0mresult\u001b[0m\u001b[0;34m)\u001b[0m\u001b[0;34m\u001b[0m\u001b[0m\n\u001b[0m\u001b[1;32m    230\u001b[0m     \u001b[0;32mreturn\u001b[0m \u001b[0mresult\u001b[0m\u001b[0;34m\u001b[0m\u001b[0m\n\u001b[1;32m    231\u001b[0m \u001b[0;34m\u001b[0m\u001b[0m\n",
      "\u001b[0;32m~/Documents/dnn-unsupervised/.venv/lib/python3.6/site-packages/sklearn/utils/validation.py\u001b[0m in \u001b[0;36mcheck_consistent_length\u001b[0;34m(*arrays)\u001b[0m\n\u001b[1;32m    202\u001b[0m     \u001b[0;32mif\u001b[0m \u001b[0mlen\u001b[0m\u001b[0;34m(\u001b[0m\u001b[0muniques\u001b[0m\u001b[0;34m)\u001b[0m \u001b[0;34m>\u001b[0m \u001b[0;36m1\u001b[0m\u001b[0;34m:\u001b[0m\u001b[0;34m\u001b[0m\u001b[0m\n\u001b[1;32m    203\u001b[0m         raise ValueError(\"Found input variables with inconsistent numbers of\"\n\u001b[0;32m--> 204\u001b[0;31m                          \" samples: %r\" % [int(l) for l in lengths])\n\u001b[0m\u001b[1;32m    205\u001b[0m \u001b[0;34m\u001b[0m\u001b[0m\n\u001b[1;32m    206\u001b[0m \u001b[0;34m\u001b[0m\u001b[0m\n",
      "\u001b[0;31mValueError\u001b[0m: Found input variables with inconsistent numbers of samples: [479, 439]"
     ]
    }
   ],
   "source": [
    "# train on each data file for some number of epochs\n",
    "for idx, datafile in enumerate(datafiles):\n",
    "    filename = path_leaf(datafile)\n",
    "    metadir = os.path.dirname(datafile)\n",
    "    if '.npy' in filename:\n",
    "        filename = filename[:-4]\n",
    "        print(filename)\n",
    "    metafile = os.path.join(metadir, 'meta', filename)\n",
    "\n",
    "    images = np.load(datafile)\n",
    "    metadata = np.load(metafile)['metadata'].item()\n",
    "\n",
    "    # load the ylabeled data\n",
    "    ylabels = metadata['ylabels']\n",
    "    invert_y = 1 - ylabels\n",
    "    ylabels = np.concatenate((ylabels, invert_y),axis=1)\n",
    "\n",
    "#     images = normalizeimages(images) # normalize the images for each frequency band\n",
    "    \n",
    "    \n",
    "    # assert the shape of the images\n",
    "    assert images.shape[2] == images.shape[3]\n",
    "    assert images.shape[2] == imsize\n",
    "    assert images.shape[1] == numfreqs\n",
    "\n",
    "    print(images.shape)\n",
    "    print(ylabels.shape)\n",
    "    \n",
    "    # format the data correctly \n",
    "    # (X_train, y_train), (X_val, y_val), (X_test, y_test) = datahandler.reformatinput(images, labels)\n",
    "    X_train, X_test, y_train, y_test = train_test_split(images, ylabels, test_size=0.33, random_state=42)\n",
    "    X_train = X_train.astype(\"float32\")\n",
    "    X_test = X_test.astype(\"float32\")\n",
    "    \n",
    "    print(images.shape)\n",
    "    \n",
    "    break\n",
    "    # assert ylabels.shape[1]==2\n",
    "    # assert images.shape"
   ]
  },
  {
   "cell_type": "markdown",
   "metadata": {},
   "source": [
    "# 2. Load Model We Want\n",
    "\n",
    "- CNN\n",
    "- CNN+LSTM\n",
    "- CNN+LSTM (bidirect)\n",
    "- 3D CNN\n",
    "- 3D CNN+LSTM\n",
    "- 3D CNN+LSTM (bidirect)"
   ]
  },
  {
   "cell_type": "code",
   "execution_count": 12,
   "metadata": {
    "scrolled": true
   },
   "outputs": [
    {
     "name": "stdout",
     "output_type": "stream",
     "text": [
      "_________________________________________________________________\n",
      "Layer (type)                 Output Shape              Param #   \n",
      "=================================================================\n",
      "input_10 (InputLayer)        (None, 32, 32, 4)         0         \n",
      "_________________________________________________________________\n",
      "conv2d_64 (Conv2D)           (None, 30, 30, 32)        1184      \n",
      "_________________________________________________________________\n",
      "conv2d_65 (Conv2D)           (None, 28, 28, 32)        9248      \n",
      "_________________________________________________________________\n",
      "conv2d_66 (Conv2D)           (None, 26, 26, 32)        9248      \n",
      "_________________________________________________________________\n",
      "conv2d_67 (Conv2D)           (None, 24, 24, 32)        9248      \n",
      "_________________________________________________________________\n",
      "max_pooling2d_28 (MaxPooling (None, 12, 12, 32)        0         \n",
      "_________________________________________________________________\n",
      "conv2d_68 (Conv2D)           (None, 10, 10, 64)        18496     \n",
      "_________________________________________________________________\n",
      "conv2d_69 (Conv2D)           (None, 8, 8, 64)          36928     \n",
      "_________________________________________________________________\n",
      "max_pooling2d_29 (MaxPooling (None, 4, 4, 64)          0         \n",
      "_________________________________________________________________\n",
      "conv2d_70 (Conv2D)           (None, 2, 2, 128)         73856     \n",
      "_________________________________________________________________\n",
      "max_pooling2d_30 (MaxPooling (None, 1, 1, 128)         0         \n",
      "_________________________________________________________________\n",
      "flatten_10 (Flatten)         (None, 128)               0         \n",
      "_________________________________________________________________\n",
      "dense_11 (Dense)             (None, 1024)              132096    \n",
      "_________________________________________________________________\n",
      "dense_12 (Dense)             (None, 2)                 2050      \n",
      "=================================================================\n",
      "Total params: 292,354\n",
      "Trainable params: 292,354\n",
      "Non-trainable params: 0\n",
      "_________________________________________________________________\n",
      "None\n"
     ]
    }
   ],
   "source": [
    "imsize=32\n",
    "numfreqs = 4\n",
    "numclasses = 2\n",
    "ieegdnn = model.ieeg_cnn_rnn.IEEGdnn(imsize=imsize, \n",
    "                                     n_colors=numfreqs,\n",
    "                                    num_classes=numclasses)\n",
    "\n",
    "w_init = None\n",
    "n_layers = (4,2,1)\n",
    "poolsize = (2,2)\n",
    "filtersize = (3,3)\n",
    "\n",
    "size_fc = 1024\n",
    "DROPOUT = False #True\n",
    "\n",
    "# VGG-12 style later\n",
    "model = ieegdnn._build_2dcnn(w_init=w_init, n_layers=n_layers, \n",
    "                              poolsize=poolsize, filter_size=filtersize)\n",
    "model = ieegdnn._build_seq_output(model, size_fc, DROPOUT)\n",
    "print(model.summary())\n",
    "\n",
    "# plot_model(vgg12cnn, to_file='vgg12_plot.png', show_shapes=True, show_layer_names=True)\n",
    "# SVG(model_to_dot(vgg12cnn).create(prog='dot', format='svg'))"
   ]
  },
  {
   "cell_type": "code",
   "execution_count": 13,
   "metadata": {
    "scrolled": false
   },
   "outputs": [
    {
     "name": "stdout",
     "output_type": "stream",
     "text": [
      "_________________________________________________________________\n",
      "Layer (type)                 Output Shape              Param #   \n",
      "=================================================================\n",
      "time_distributed_3 (TimeDist (None, 5, 128)            158208    \n",
      "_________________________________________________________________\n",
      "lstm_4 (LSTM)                (None, 128)               131584    \n",
      "_________________________________________________________________\n",
      "dense_13 (Dense)             (None, 1024)              132096    \n",
      "_________________________________________________________________\n",
      "dense_14 (Dense)             (None, 2)                 2050      \n",
      "=================================================================\n",
      "Total params: 423,938\n",
      "Trainable params: 423,938\n",
      "Non-trainable params: 0\n",
      "_________________________________________________________________\n",
      "None\n"
     ]
    }
   ],
   "source": [
    "model = ieegdnn.build_same_cnn_lstm(num_timewins=num_timewins, \n",
    "                                  size_mem=size_mem, \n",
    "                                  size_fc=size_fc,\n",
    "                                  BIDIRECT=False,\n",
    "                                  DROPOUT=DROPOUT)\n",
    "\n",
    "print(model.summary())\n",
    "# SVG(model_to_dot(cnn_same_lstm).create(prog='dot', format='svg'))"
   ]
  },
  {
   "cell_type": "code",
   "execution_count": 14,
   "metadata": {
    "collapsed": true
   },
   "outputs": [],
   "source": [
    "# initialize loss function, SGD optimizer and metrics\n",
    "loss = 'binary_crossentropy'\n",
    "optimizer = keras.optimizers.Adam(lr=0.001, \n",
    "                                beta_1=0.9, \n",
    "                                beta_2=0.999,\n",
    "                                epsilon=1e-08,\n",
    "                                decay=0.0)\n",
    "metrics = ['accuracy']\n",
    "\n",
    "# compile model\n",
    "cnn_config = ieegdnn.compile_model(model, \n",
    "                                loss=loss, \n",
    "                                optimizer=optimizer, \n",
    "                                metrics=metrics)"
   ]
  },
  {
   "cell_type": "code",
   "execution_count": 15,
   "metadata": {
    "collapsed": true
   },
   "outputs": [],
   "source": [
    "# construct the image generator for data augmentation and construct the set of callbacks\n",
    "aug = keras.preprocessing.image.ImageDataGenerator(width_shift_range=0.1,\n",
    "                                            height_shift_range=0.1, \n",
    "                                            horizontal_flip=False,\n",
    "                                            fill_mode=\"nearest\")\n",
    "\n",
    "# This will do preprocessing and realtime data augmentation:\n",
    "datagen = keras.preprocessing.image.ImageDataGenerator(\n",
    "    featurewise_center=True,  # set input mean to 0 over the dataset\n",
    "    samplewise_center=False,  # set each sample mean to 0\n",
    "    featurewise_std_normalization=True,  # divide inputs by std of the dataset\n",
    "    samplewise_std_normalization=False,  # divide each input by its std\n",
    "    zca_whitening=False,  # apply ZCA whitening\n",
    "    rotation_range=5,  # randomly rotate images in the range (degrees, 0 to 180)\n",
    "    width_shift_range=0.1,  # randomly shift images horizontally (fraction of total width)\n",
    "    height_shift_range=0.1,  # randomly shift images vertically (fraction of total height)\n",
    "    horizontal_flip=True,  # randomly flip images\n",
    "    vertical_flip=False,\n",
    "    fill_mode='nearest')  # randomly flip images\n"
   ]
  },
  {
   "cell_type": "markdown",
   "metadata": {},
   "source": [
    "# 3. Training Procedure"
   ]
  },
  {
   "cell_type": "code",
   "execution_count": 20,
   "metadata": {},
   "outputs": [
    {
     "name": "stdout",
     "output_type": "stream",
     "text": [
      "weights-improvement-{epoch:02d}-{val_acc:.2f}.hdf5\n"
     ]
    }
   ],
   "source": [
    "tempdatadir = os.path.join('')\n",
    "outputdir = os.path.join('')\n",
    "# checkpoint\n",
    "filepath=os.path.join(tempdatadir,\"weights-improvement-{epoch:02d}-{val_acc:.2f}.hdf5\")\n",
    "checkpoint = ModelCheckpoint(filepath, \n",
    "                            monitor='val_acc', \n",
    "                            verbose=1, \n",
    "                            save_best_only=True, \n",
    "                            mode='max')\n",
    "callbacks = [checkpoint, poly_decay]\n",
    "INIT_LR = 5e-3\n",
    "G=1\n",
    "data_augmentation=False\n",
    "\n",
    "print(filepath)"
   ]
  },
  {
   "cell_type": "code",
   "execution_count": null,
   "metadata": {
    "collapsed": true
   },
   "outputs": [],
   "source": [
    "# augment data, or not and then trian the model!\n",
    "if not data_augmentation:\n",
    "    print('Not using data augmentation.')\n",
    "    HH = model.fit(X_train, y_train,\n",
    "              batch_size=batch_size,\n",
    "              epochs=NUM_EPOCHS,\n",
    "              validation_data=(X_test, y_test),\n",
    "              shuffle=False,\n",
    "              callbacks=callbacks)\n",
    "else:\n",
    "    print('Using real-time data augmentation.')\n",
    "    # Compute quantities required for feature-wise normalization\n",
    "    # (std, mean, and principal components if ZCA whitening is applied).\n",
    "    # datagen.fit(x_train)\n",
    "\n",
    "    # Fit the model on the batches generated by datagen.flow().\n",
    "    HH = model.fit_generator(\n",
    "                datagen.flow(x_train, y_train, batch_size=batch_size),\n",
    "                        steps_per_epoch=X_train.shape[0] // batch_size,\n",
    "                        epochs=epochs,\n",
    "                        validation_data=(x_test, y_test),\n",
    "                        shuffle=False,\n",
    "                        callbacks=callbacks, verbose=2)\n",
    "print(\"Finished 1 epoch round\")"
   ]
  },
  {
   "cell_type": "markdown",
   "metadata": {},
   "source": [
    "# 4 Train Each Dataset With Certain Number of Epochs"
   ]
  },
  {
   "cell_type": "code",
   "execution_count": null,
   "metadata": {
    "collapsed": true
   },
   "outputs": [],
   "source": [
    "modelname = 'cnn'\n",
    "modeljsonfile = os.path.join(tempdatadir, modelname+\"_model.json\")\n",
    "if not os.path.exists(modeljsonfile):\n",
    "    # serialize model to JSON\n",
    "    model_json = model.to_json()\n",
    "    with open(modeljsonfile, \"w\") as json_file:\n",
    "        json_file.write(model_json)\n",
    "    print(\"Saved model to disk\")\n",
    "        \n",
    "# train on each data file for some number of epochs\n",
    "for idx, datafile in enumerate(datafiles):\n",
    "    filename = path_leaf(datafile)\n",
    "    metadir = os.path.dirname(datafile)\n",
    "    if '.npy' in filename:\n",
    "        filename = filename[:-4]\n",
    "        print(filename)\n",
    "        \n",
    "    data = np.load(datafile)\n",
    "    image_tensor = data['image_tensor']\n",
    "    metadata = data['metadata'].item()\n",
    "\n",
    "    # load the ylabeled data\n",
    "    ylabels = metadata['ylabels']\n",
    "    invert_y = 1 - ylabels\n",
    "    ylabels = np.concatenate((ylabels, invert_y),axis=1)\n",
    "\n",
    "#     images = normalizeimages(images) # normalize the images for each frequency band\n",
    "    # assert the shape of the images\n",
    "    assert images.shape[2] == images.shape[3]\n",
    "    assert images.shape[2] == imsize\n",
    "    assert images.shape[1] == numfreqs\n",
    "\n",
    "    print(images.shape)\n",
    "    print(ylabels.shape)\n",
    "    \n",
    "    # format the data correctly \n",
    "    # (X_train, y_train), (X_val, y_val), (X_test, y_test) = datahandler.reformatinput(images, labels)\n",
    "    X_train, X_test, y_train, y_test = train_test_split(images, ylabels, test_size=0.33, random_state=42)\n",
    "    X_train = X_train.astype(\"float32\")\n",
    "    X_test = X_test.astype(\"float32\")\n",
    "    \n",
    "    break\n",
    "    \n",
    "    # if tempdatadir follows correct saving procedures\n",
    "#     weightfiles = natsorted(os.listdir(tempdatadir))\n",
    "#     recentweightsfile = os.path.join(tempdatadir, weightfiles[-1])\n",
    "#     model.load_weights(recentweightsfile)\n",
    "#     print(\"Loaded model from disk\")\n",
    "    \n",
    "    # assert ylabels.shape[1]==2\n",
    "    # assert images.shape\n",
    "    # augment data, or not and then trian the model!\n",
    "    if not data_augmentation:\n",
    "        print('Not using data augmentation.')\n",
    "        HH = model.fit(X_train, y_train,\n",
    "                  batch_size=batch_size,\n",
    "                  epochs=NUM_EPOCHS,\n",
    "                  validation_data=(X_test, y_test),\n",
    "                  shuffle=False,\n",
    "                  callbacks=callbacks)\n",
    "    else:\n",
    "        print('Using real-time data augmentation.')\n",
    "        # Compute quantities required for feature-wise normalization\n",
    "        # (std, mean, and principal components if ZCA whitening is applied).\n",
    "        # datagen.fit(x_train)\n",
    "\n",
    "        # Fit the model on the batches generated by datagen.flow().\n",
    "        HH = model.fit_generator(\n",
    "                    datagen.flow(x_train, y_train, batch_size=batch_size),\n",
    "                            steps_per_epoch=X_train.shape[0] // batch_size,\n",
    "                            epochs=epochs,\n",
    "                            validation_data=(x_test, y_test),\n",
    "                            shuffle=False,\n",
    "                            callbacks=callbacks, verbose=2)\n",
    "    \n",
    "    # save after each dataset\n",
    "    model.save(os.path.join(tempdatadir, \n",
    "                    'weights-improvement-' + str(idx) + '.h5'))\n",
    "    print(\"Saved model weights for \", idx)\n",
    "        \n",
    "# save final history object\n",
    "model.save(os.path.join(outputdatadir, \n",
    "                'final_weights' + '.h5'))"
   ]
  }
 ],
 "metadata": {
  "kernelspec": {
   "display_name": "dnn",
   "language": "python",
   "name": "dnn"
  },
  "language_info": {
   "codemirror_mode": {
    "name": "ipython",
    "version": 3
   },
   "file_extension": ".py",
   "mimetype": "text/x-python",
   "name": "python",
   "nbconvert_exporter": "python",
   "pygments_lexer": "ipython3",
   "version": "3.6.3"
  }
 },
 "nbformat": 4,
 "nbformat_minor": 2
}
