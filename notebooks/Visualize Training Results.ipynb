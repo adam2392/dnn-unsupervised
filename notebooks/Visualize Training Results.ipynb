{
 "cells": [
  {
   "cell_type": "code",
   "execution_count": 1,
   "metadata": {},
   "outputs": [
    {
     "name": "stderr",
     "output_type": "stream",
     "text": [
      "/Users/adam2392/Documents/dnn-unsupervised/.venv/lib/python3.6/site-packages/h5py/__init__.py:36: FutureWarning: Conversion of the second argument of issubdtype from `float` to `np.floating` is deprecated. In future, it will be treated as `np.float64 == np.dtype(float).type`.\n",
      "  from ._conv import register_converters as _register_converters\n",
      "Using TensorFlow backend.\n"
     ]
    }
   ],
   "source": [
    "import sys\n",
    "sys.path.append('../dnn/')\n",
    "sys.path.append('/Users/adam2392/Documents/fragility_analysis/')\n",
    "import datainterface.utils.utils as futil\n",
    "# from fragility.signalprocessing import frequencyanalysis\n",
    "import os\n",
    "import time\n",
    "import pickle\n",
    "import numpy as np\n",
    "import pandas as pd\n",
    "import scipy\n",
    "import scipy.io\n",
    "\n",
    "import processing.util as util\n",
    "import peakdetect\n",
    "import processing.preprocessfft as preprocess\n",
    "\n",
    "from natsort import natsorted\n",
    "import ntpath\n",
    "from sklearn.decomposition import PCA\n",
    "\n",
    "import keras\n",
    "\n",
    "import seaborn as sns\n",
    "import matplotlib\n",
    "import matplotlib.pyplot as plt\n",
    "\n",
    "%load_ext autoreload\n",
    "%autoreload 2\n",
    "\n",
    "def path_leaf(path):\n",
    "    head, tail = ntpath.split(path)\n",
    "    return tail or ntpath.basename(head)\n",
    "\n",
    "def _gettimepoints(numsignals, numwinsamps, numstepsamps):\n",
    "    # create array of indices of window start times\n",
    "    timestarts = np.arange(0, numsignals-numwinsamps+1, numstepsamps)\n",
    "    # create array of indices of window end times\n",
    "    timeends = np.arange(numwinsamps-1, numsignals, numstepsamps)\n",
    "    # create the timepoints array for entire data array\n",
    "    timepoints = np.append(timestarts.reshape(len(timestarts), 1), timeends.reshape(len(timestarts), 1), axis=1)\n",
    "    return timepoints"
   ]
  },
  {
   "cell_type": "code",
   "execution_count": 45,
   "metadata": {},
   "outputs": [
    {
     "name": "stdout",
     "output_type": "stream",
     "text": [
      "Train data dir is:  /Volumes/ADAM LI/pydata/dnn/output/train_v7\n",
      "In traindatadir there are this many training files:  0\n",
      "Data dir is:  /Volumes/ADAM LI/pydata/dnn/output/train_v7\n",
      "In datadir there are this many training files:  3\n",
      "\n",
      "\n",
      " ['/Volumes/ADAM LI/pydata/dnn/output/train_v7/final_weights.h5', '/Volumes/ADAM LI/pydata/dnn/output/train_v7/history_2dcnn.pkl', '/Volumes/ADAM LI/pydata/dnn/output/train_v7/2dcnn_model.json']\n"
     ]
    }
   ],
   "source": [
    "expname = 'train_v7'\n",
    "\n",
    "# dirs for the training data from the model \n",
    "datadir = os.path.join('/Volumes/ADAM LI/pydata/dnn/output/', expname)\n",
    "tempdir = os.path.join(datadir, '_temp')\n",
    "finaldir = os.path.join(datadir, '_final')\n",
    "finalhistfile = os.path.join(finaldir, 'finalhistory')\n",
    "\n",
    "# the original raw data dir\n",
    "metadatadir = '/Volumes/ADAM LI/pydata/metadata/'    \n",
    "fftdir = os.path.join('/Volumes/ADAM LI/pydata/dnn/traindata/fft/', expname)\n",
    "\n",
    "# the training data dir\n",
    "traindatadir = '/Volumes/ADAM LI/pydata/dnn/traindata/image_2d/'\n",
    "# Get ALL datafiles from all downstream files\n",
    "trainfiles = []\n",
    "for root, dirs, files in os.walk(traindatadir):\n",
    "    for file in files:\n",
    "        trainfiles.append(os.path.join(root, file))\n",
    "print(\"Train data dir is: \", datadir)\n",
    "print(\"In traindatadir there are this many training files: \", len(trainfiles))\n",
    "\n",
    "\n",
    "# Get ALL datafiles from all downstream files\n",
    "datafiles = []\n",
    "for root, dirs, files in os.walk(datadir):\n",
    "    for file in files:\n",
    "        datafiles.append(os.path.join(root, file))\n",
    "print(\"Data dir is: \", datadir)\n",
    "print(\"In datadir there are this many training files: \", len(datafiles))\n",
    "# print(datafiles[50:])\n",
    "# print(datafiles)\n",
    "print(\"\\n\\n\", datafiles[0:5])"
   ]
  },
  {
   "cell_type": "markdown",
   "metadata": {},
   "source": [
    "# Visualize Final History\n",
    "\n",
    "Investigate the history object saved at the final point in time and see how training proceeded. Get a value of the accuracy and precision of the neural network.\n",
    "\n",
    "Visualize any other important metadata."
   ]
  },
  {
   "cell_type": "code",
   "execution_count": 2,
   "metadata": {},
   "outputs": [],
   "source": [
    "expname = 'train_v7'\n",
    "patient = 'id001_ac'\n",
    "patient = 'id002_cj'\n",
    "patient = 'id008_gc'\n",
    "patient = 'id010_js'\n",
    "patient = 'id011_ml'\n",
    "patient = 'id012_pc'\n",
    "patient = 'id013_pg'\n",
    "expname = 'exp003/' + patient\n",
    "expname = 'fragnet/exp002/'\n",
    "# expname = '2dcnn_fragility'\n",
    "outputdatadir = os.path.join('/Volumes/ADAM LI/pydata/dnn/output/', expname)\n",
    "\n",
    "finalhistfile = os.path.join(outputdatadir, '2dcnn_history.pkl')\n",
    "finalhistfile = os.path.join(outputdatadir, '1dcnn_history.pkl')"
   ]
  },
  {
   "cell_type": "code",
   "execution_count": 3,
   "metadata": {},
   "outputs": [
    {
     "name": "stdout",
     "output_type": "stream",
     "text": [
      "/Volumes/ADAM LI/pydata/dnn/output/fragnet/exp002/1dcnn_history.pkl\n",
      "dict_keys(['acc', 'loss', 'val_loss', 'val_acc'])\n"
     ]
    }
   ],
   "source": [
    "print(finalhistfile)\n",
    "# hist = pickle.load(finalhistfile)\n",
    "H = np.load(finalhistfile)\n",
    "print(H.keys())"
   ]
  },
  {
   "cell_type": "code",
   "execution_count": 4,
   "metadata": {
    "scrolled": true
   },
   "outputs": [
    {
     "data": {
      "image/png": "[encoded data removed]",
      "text/plain": [
       "<matplotlib.figure.Figure at 0x10eefeb38>"
      ]
     },
     "metadata": {},
     "output_type": "display_data"
    }
   ],
   "source": [
    "# # plot the training loss and accuracy\n",
    "# N = np.arange(0, len(H[\"loss\"][0:15]))\n",
    "# plt.style.use(\"ggplot\")\n",
    "# plt.figure()\n",
    "# plt.plot(N, H[\"loss\"][0:15], label=\"train_loss\")\n",
    "# plt.plot(N, H[\"val_loss\"][0:15], label=\"test_loss\")\n",
    "# plt.plot(N, H[\"acc\"][0:15], label=\"train_acc\")\n",
    "# plt.plot(N, H[\"val_acc\"][0:15], label=\"test_acc\")\n",
    "# plt.title(\"CNN On Network Fragility Features\")\n",
    "# plt.xlabel(\"Epoch #\")\n",
    "# plt.ylabel(\"Loss/Accuracy\")\n",
    "# plt.legend()\n",
    "# plt.show()\n",
    "\n",
    "# plot the training loss and accuracy\n",
    "N = np.arange(0, len(H[\"loss\"]))\n",
    "plt.style.use(\"ggplot\")\n",
    "plt.figure()\n",
    "plt.plot(N, H[\"loss\"], label=\"train_loss\")\n",
    "plt.plot(N, H[\"val_loss\"], label=\"test_loss\")\n",
    "plt.plot(N, H[\"acc\"], label=\"train_acc\")\n",
    "plt.plot(N, H[\"val_acc\"], label=\"test_acc\")\n",
    "# plt.title(\"CNN On FFT Features LOO: \" + patient)\n",
    "plt.title('1DCNN Fragility Map Accuracy of EZ Channels')\n",
    "plt.xlabel(\"Epoch #\")\n",
    "plt.ylabel(\"Loss/Accuracy\")\n",
    "plt.legend()\n",
    "plt.show()\n",
    "# print(model.summary())"
   ]
  },
  {
   "cell_type": "code",
   "execution_count": 30,
   "metadata": {
    "scrolled": false
   },
   "outputs": [
    {
     "name": "stdout",
     "output_type": "stream",
     "text": [
      "_________________________________________________________________\n",
      "Layer (type)                 Output Shape              Param #   \n",
      "=================================================================\n",
      "input_1 (InputLayer)         (None, 500, 1)            0         \n",
      "_________________________________________________________________\n",
      "conv1d_1 (Conv1D)            (None, 498, 32)           128       \n",
      "_________________________________________________________________\n",
      "conv1d_2 (Conv1D)            (None, 496, 32)           3104      \n",
      "_________________________________________________________________\n",
      "conv1d_3 (Conv1D)            (None, 494, 32)           3104      \n",
      "_________________________________________________________________\n",
      "conv1d_4 (Conv1D)            (None, 492, 32)           3104      \n",
      "_________________________________________________________________\n",
      "max_pooling1d_1 (MaxPooling1 (None, 246, 32)           0         \n",
      "_________________________________________________________________\n",
      "conv1d_5 (Conv1D)            (None, 244, 64)           6208      \n",
      "_________________________________________________________________\n",
      "conv1d_6 (Conv1D)            (None, 242, 64)           12352     \n",
      "_________________________________________________________________\n",
      "max_pooling1d_2 (MaxPooling1 (None, 121, 64)           0         \n",
      "_________________________________________________________________\n",
      "conv1d_7 (Conv1D)            (None, 119, 128)          24704     \n",
      "_________________________________________________________________\n",
      "max_pooling1d_3 (MaxPooling1 (None, 59, 128)           0         \n",
      "_________________________________________________________________\n",
      "flatten_1 (Flatten)          (None, 7552)              0         \n",
      "_________________________________________________________________\n",
      "dropout_1 (Dropout)          (None, 7552)              0         \n",
      "_________________________________________________________________\n",
      "dense_1 (Dense)              (None, 1024)              7734272   \n",
      "_________________________________________________________________\n",
      "dropout_2 (Dropout)          (None, 1024)              0         \n",
      "_________________________________________________________________\n",
      "dense_2 (Dense)              (None, 2)                 2050      \n",
      "=================================================================\n",
      "Total params: 7,789,026\n",
      "Trainable params: 7,789,026\n",
      "Non-trainable params: 0\n",
      "_________________________________________________________________\n",
      "None\n"
     ]
    },
    {
     "data": {
      "image/svg+xml": [
       "<svg height=\"1140pt\" viewBox=\"0.00 0.00 219.61 1140.00\" width=\"220pt\" xmlns=\"http://www.w3.org/2000/svg\" xmlns:xlink=\"http://www.w3.org/1999/xlink\">\n",
       "<g class=\"graph\" id=\"graph0\" transform=\"scale(1 1) rotate(0) translate(4 1136)\">\n",
       "<title>G</title>\n",
       "<polygon fill=\"#ffffff\" points=\"-4,4 -4,-1136 215.6104,-1136 215.6104,4 -4,4\" stroke=\"transparent\"/>\n",
       "<!-- 4921542192 -->\n",
       "<g class=\"node\" id=\"node1\">\n",
       "<title>4921542192</title>\n",
       "<polygon fill=\"none\" points=\"41.624,-1095.5 41.624,-1131.5 169.9863,-1131.5 169.9863,-1095.5 41.624,-1095.5\" stroke=\"#000000\"/>\n",
       "<text fill=\"#000000\" font-family=\"Times,serif\" font-size=\"14.00\" text-anchor=\"middle\" x=\"105.8052\" y=\"-1109.3\">input_1: InputLayer</text>\n",
       "</g>\n",
       "<!-- 4921542248 -->\n",
       "<g class=\"node\" id=\"node2\">\n",
       "<title>4921542248</title>\n",
       "<polygon fill=\"none\" points=\"42.7793,-1022.5 42.7793,-1058.5 168.8311,-1058.5 168.8311,-1022.5 42.7793,-1022.5\" stroke=\"#000000\"/>\n",
       "<text fill=\"#000000\" font-family=\"Times,serif\" font-size=\"14.00\" text-anchor=\"middle\" x=\"105.8052\" y=\"-1036.3\">conv1d_1: Conv1D</text>\n",
       "</g>\n",
       "<!-- 4921542192&#45;&gt;4921542248 -->\n",
       "<g class=\"edge\" id=\"edge1\">\n",
       "<title>4921542192-&gt;4921542248</title>\n",
       "<path d=\"M105.8052,-1095.4551C105.8052,-1087.3828 105.8052,-1077.6764 105.8052,-1068.6817\" fill=\"none\" stroke=\"#000000\"/>\n",
       "<polygon fill=\"#000000\" points=\"109.3053,-1068.5903 105.8052,-1058.5904 102.3053,-1068.5904 109.3053,-1068.5903\" stroke=\"#000000\"/>\n",
       "</g>\n",
       "<!-- 4918197328 -->\n",
       "<g class=\"node\" id=\"node3\">\n",
       "<title>4918197328</title>\n",
       "<polygon fill=\"none\" points=\"42.7793,-949.5 42.7793,-985.5 168.8311,-985.5 168.8311,-949.5 42.7793,-949.5\" stroke=\"#000000\"/>\n",
       "<text fill=\"#000000\" font-family=\"Times,serif\" font-size=\"14.00\" text-anchor=\"middle\" x=\"105.8052\" y=\"-963.3\">conv1d_2: Conv1D</text>\n",
       "</g>\n",
       "<!-- 4921542248&#45;&gt;4918197328 -->\n",
       "<g class=\"edge\" id=\"edge2\">\n",
       "<title>4921542248-&gt;4918197328</title>\n",
       "<path d=\"M105.8052,-1022.4551C105.8052,-1014.3828 105.8052,-1004.6764 105.8052,-995.6817\" fill=\"none\" stroke=\"#000000\"/>\n",
       "<polygon fill=\"#000000\" points=\"109.3053,-995.5903 105.8052,-985.5904 102.3053,-995.5904 109.3053,-995.5903\" stroke=\"#000000\"/>\n",
       "</g>\n",
       "<!-- 4918568328 -->\n",
       "<g class=\"node\" id=\"node4\">\n",
       "<title>4918568328</title>\n",
       "<polygon fill=\"none\" points=\"42.7793,-876.5 42.7793,-912.5 168.8311,-912.5 168.8311,-876.5 42.7793,-876.5\" stroke=\"#000000\"/>\n",
       "<text fill=\"#000000\" font-family=\"Times,serif\" font-size=\"14.00\" text-anchor=\"middle\" x=\"105.8052\" y=\"-890.3\">conv1d_3: Conv1D</text>\n",
       "</g>\n",
       "<!-- 4918197328&#45;&gt;4918568328 -->\n",
       "<g class=\"edge\" id=\"edge3\">\n",
       "<title>4918197328-&gt;4918568328</title>\n",
       "<path d=\"M105.8052,-949.4551C105.8052,-941.3828 105.8052,-931.6764 105.8052,-922.6817\" fill=\"none\" stroke=\"#000000\"/>\n",
       "<polygon fill=\"#000000\" points=\"109.3053,-922.5903 105.8052,-912.5904 102.3053,-922.5904 109.3053,-922.5903\" stroke=\"#000000\"/>\n",
       "</g>\n",
       "<!-- 4917809336 -->\n",
       "<g class=\"node\" id=\"node5\">\n",
       "<title>4917809336</title>\n",
       "<polygon fill=\"none\" points=\"42.7793,-803.5 42.7793,-839.5 168.8311,-839.5 168.8311,-803.5 42.7793,-803.5\" stroke=\"#000000\"/>\n",
       "<text fill=\"#000000\" font-family=\"Times,serif\" font-size=\"14.00\" text-anchor=\"middle\" x=\"105.8052\" y=\"-817.3\">conv1d_4: Conv1D</text>\n",
       "</g>\n",
       "<!-- 4918568328&#45;&gt;4917809336 -->\n",
       "<g class=\"edge\" id=\"edge4\">\n",
       "<title>4918568328-&gt;4917809336</title>\n",
       "<path d=\"M105.8052,-876.4551C105.8052,-868.3828 105.8052,-858.6764 105.8052,-849.6817\" fill=\"none\" stroke=\"#000000\"/>\n",
       "<polygon fill=\"#000000\" points=\"109.3053,-849.5903 105.8052,-839.5904 102.3053,-849.5904 109.3053,-849.5903\" stroke=\"#000000\"/>\n",
       "</g>\n",
       "<!-- 4918033880 -->\n",
       "<g class=\"node\" id=\"node6\">\n",
       "<title>4918033880</title>\n",
       "<polygon fill=\"none\" points=\"0,-730.5 0,-766.5 211.6104,-766.5 211.6104,-730.5 0,-730.5\" stroke=\"#000000\"/>\n",
       "<text fill=\"#000000\" font-family=\"Times,serif\" font-size=\"14.00\" text-anchor=\"middle\" x=\"105.8052\" y=\"-744.3\">max_pooling1d_1: MaxPooling1D</text>\n",
       "</g>\n",
       "<!-- 4917809336&#45;&gt;4918033880 -->\n",
       "<g class=\"edge\" id=\"edge5\">\n",
       "<title>4917809336-&gt;4918033880</title>\n",
       "<path d=\"M105.8052,-803.4551C105.8052,-795.3828 105.8052,-785.6764 105.8052,-776.6817\" fill=\"none\" stroke=\"#000000\"/>\n",
       "<polygon fill=\"#000000\" points=\"109.3053,-776.5903 105.8052,-766.5904 102.3053,-776.5904 109.3053,-776.5903\" stroke=\"#000000\"/>\n",
       "</g>\n",
       "<!-- 4918006056 -->\n",
       "<g class=\"node\" id=\"node7\">\n",
       "<title>4918006056</title>\n",
       "<polygon fill=\"none\" points=\"42.7793,-657.5 42.7793,-693.5 168.8311,-693.5 168.8311,-657.5 42.7793,-657.5\" stroke=\"#000000\"/>\n",
       "<text fill=\"#000000\" font-family=\"Times,serif\" font-size=\"14.00\" text-anchor=\"middle\" x=\"105.8052\" y=\"-671.3\">conv1d_5: Conv1D</text>\n",
       "</g>\n",
       "<!-- 4918033880&#45;&gt;4918006056 -->\n",
       "<g class=\"edge\" id=\"edge6\">\n",
       "<title>4918033880-&gt;4918006056</title>\n",
       "<path d=\"M105.8052,-730.4551C105.8052,-722.3828 105.8052,-712.6764 105.8052,-703.6817\" fill=\"none\" stroke=\"#000000\"/>\n",
       "<polygon fill=\"#000000\" points=\"109.3053,-703.5903 105.8052,-693.5904 102.3053,-703.5904 109.3053,-703.5903\" stroke=\"#000000\"/>\n",
       "</g>\n",
       "<!-- 4918065528 -->\n",
       "<g class=\"node\" id=\"node8\">\n",
       "<title>4918065528</title>\n",
       "<polygon fill=\"none\" points=\"42.7793,-584.5 42.7793,-620.5 168.8311,-620.5 168.8311,-584.5 42.7793,-584.5\" stroke=\"#000000\"/>\n",
       "<text fill=\"#000000\" font-family=\"Times,serif\" font-size=\"14.00\" text-anchor=\"middle\" x=\"105.8052\" y=\"-598.3\">conv1d_6: Conv1D</text>\n",
       "</g>\n",
       "<!-- 4918006056&#45;&gt;4918065528 -->\n",
       "<g class=\"edge\" id=\"edge7\">\n",
       "<title>4918006056-&gt;4918065528</title>\n",
       "<path d=\"M105.8052,-657.4551C105.8052,-649.3828 105.8052,-639.6764 105.8052,-630.6817\" fill=\"none\" stroke=\"#000000\"/>\n",
       "<polygon fill=\"#000000\" points=\"109.3053,-630.5903 105.8052,-620.5904 102.3053,-630.5904 109.3053,-630.5903\" stroke=\"#000000\"/>\n",
       "</g>\n",
       "<!-- 4753791800 -->\n",
       "<g class=\"node\" id=\"node9\">\n",
       "<title>4753791800</title>\n",
       "<polygon fill=\"none\" points=\"0,-511.5 0,-547.5 211.6104,-547.5 211.6104,-511.5 0,-511.5\" stroke=\"#000000\"/>\n",
       "<text fill=\"#000000\" font-family=\"Times,serif\" font-size=\"14.00\" text-anchor=\"middle\" x=\"105.8052\" y=\"-525.3\">max_pooling1d_2: MaxPooling1D</text>\n",
       "</g>\n",
       "<!-- 4918065528&#45;&gt;4753791800 -->\n",
       "<g class=\"edge\" id=\"edge8\">\n",
       "<title>4918065528-&gt;4753791800</title>\n",
       "<path d=\"M105.8052,-584.4551C105.8052,-576.3828 105.8052,-566.6764 105.8052,-557.6817\" fill=\"none\" stroke=\"#000000\"/>\n",
       "<polygon fill=\"#000000\" points=\"109.3053,-557.5903 105.8052,-547.5904 102.3053,-557.5904 109.3053,-557.5903\" stroke=\"#000000\"/>\n",
       "</g>\n",
       "<!-- 4918292664 -->\n",
       "<g class=\"node\" id=\"node10\">\n",
       "<title>4918292664</title>\n",
       "<polygon fill=\"none\" points=\"42.7793,-438.5 42.7793,-474.5 168.8311,-474.5 168.8311,-438.5 42.7793,-438.5\" stroke=\"#000000\"/>\n",
       "<text fill=\"#000000\" font-family=\"Times,serif\" font-size=\"14.00\" text-anchor=\"middle\" x=\"105.8052\" y=\"-452.3\">conv1d_7: Conv1D</text>\n",
       "</g>\n",
       "<!-- 4753791800&#45;&gt;4918292664 -->\n",
       "<g class=\"edge\" id=\"edge9\">\n",
       "<title>4753791800-&gt;4918292664</title>\n",
       "<path d=\"M105.8052,-511.4551C105.8052,-503.3828 105.8052,-493.6764 105.8052,-484.6817\" fill=\"none\" stroke=\"#000000\"/>\n",
       "<polygon fill=\"#000000\" points=\"109.3053,-484.5903 105.8052,-474.5904 102.3053,-484.5904 109.3053,-484.5903\" stroke=\"#000000\"/>\n",
       "</g>\n",
       "<!-- 4914429512 -->\n",
       "<g class=\"node\" id=\"node11\">\n",
       "<title>4914429512</title>\n",
       "<polygon fill=\"none\" points=\"0,-365.5 0,-401.5 211.6104,-401.5 211.6104,-365.5 0,-365.5\" stroke=\"#000000\"/>\n",
       "<text fill=\"#000000\" font-family=\"Times,serif\" font-size=\"14.00\" text-anchor=\"middle\" x=\"105.8052\" y=\"-379.3\">max_pooling1d_3: MaxPooling1D</text>\n",
       "</g>\n",
       "<!-- 4918292664&#45;&gt;4914429512 -->\n",
       "<g class=\"edge\" id=\"edge10\">\n",
       "<title>4918292664-&gt;4914429512</title>\n",
       "<path d=\"M105.8052,-438.4551C105.8052,-430.3828 105.8052,-420.6764 105.8052,-411.6817\" fill=\"none\" stroke=\"#000000\"/>\n",
       "<polygon fill=\"#000000\" points=\"109.3053,-411.5903 105.8052,-401.5904 102.3053,-411.5904 109.3053,-411.5903\" stroke=\"#000000\"/>\n",
       "</g>\n",
       "<!-- 4918282000 -->\n",
       "<g class=\"node\" id=\"node12\">\n",
       "<title>4918282000</title>\n",
       "<polygon fill=\"none\" points=\"50.1724,-292.5 50.1724,-328.5 161.438,-328.5 161.438,-292.5 50.1724,-292.5\" stroke=\"#000000\"/>\n",
       "<text fill=\"#000000\" font-family=\"Times,serif\" font-size=\"14.00\" text-anchor=\"middle\" x=\"105.8052\" y=\"-306.3\">flatten_1: Flatten</text>\n",
       "</g>\n",
       "<!-- 4914429512&#45;&gt;4918282000 -->\n",
       "<g class=\"edge\" id=\"edge11\">\n",
       "<title>4914429512-&gt;4918282000</title>\n",
       "<path d=\"M105.8052,-365.4551C105.8052,-357.3828 105.8052,-347.6764 105.8052,-338.6817\" fill=\"none\" stroke=\"#000000\"/>\n",
       "<polygon fill=\"#000000\" points=\"109.3053,-338.5903 105.8052,-328.5904 102.3053,-338.5904 109.3053,-338.5903\" stroke=\"#000000\"/>\n",
       "</g>\n",
       "<!-- 4753555752 -->\n",
       "<g class=\"node\" id=\"node13\">\n",
       "<title>4753555752</title>\n",
       "<polygon fill=\"none\" points=\"42.0034,-219.5 42.0034,-255.5 169.6069,-255.5 169.6069,-219.5 42.0034,-219.5\" stroke=\"#000000\"/>\n",
       "<text fill=\"#000000\" font-family=\"Times,serif\" font-size=\"14.00\" text-anchor=\"middle\" x=\"105.8052\" y=\"-233.3\">dropout_1: Dropout</text>\n",
       "</g>\n",
       "<!-- 4918282000&#45;&gt;4753555752 -->\n",
       "<g class=\"edge\" id=\"edge12\">\n",
       "<title>4918282000-&gt;4753555752</title>\n",
       "<path d=\"M105.8052,-292.4551C105.8052,-284.3828 105.8052,-274.6764 105.8052,-265.6817\" fill=\"none\" stroke=\"#000000\"/>\n",
       "<polygon fill=\"#000000\" points=\"109.3053,-265.5903 105.8052,-255.5904 102.3053,-265.5904 109.3053,-265.5903\" stroke=\"#000000\"/>\n",
       "</g>\n",
       "<!-- 4917866848 -->\n",
       "<g class=\"node\" id=\"node14\">\n",
       "<title>4917866848</title>\n",
       "<polygon fill=\"none\" points=\"53.6792,-146.5 53.6792,-182.5 157.9312,-182.5 157.9312,-146.5 53.6792,-146.5\" stroke=\"#000000\"/>\n",
       "<text fill=\"#000000\" font-family=\"Times,serif\" font-size=\"14.00\" text-anchor=\"middle\" x=\"105.8052\" y=\"-160.3\">dense_1: Dense</text>\n",
       "</g>\n",
       "<!-- 4753555752&#45;&gt;4917866848 -->\n",
       "<g class=\"edge\" id=\"edge13\">\n",
       "<title>4753555752-&gt;4917866848</title>\n",
       "<path d=\"M105.8052,-219.4551C105.8052,-211.3828 105.8052,-201.6764 105.8052,-192.6817\" fill=\"none\" stroke=\"#000000\"/>\n",
       "<polygon fill=\"#000000\" points=\"109.3053,-192.5903 105.8052,-182.5904 102.3053,-192.5904 109.3053,-192.5903\" stroke=\"#000000\"/>\n",
       "</g>\n",
       "<!-- 4917902864 -->\n",
       "<g class=\"node\" id=\"node15\">\n",
       "<title>4917902864</title>\n",
       "<polygon fill=\"none\" points=\"42.0034,-73.5 42.0034,-109.5 169.6069,-109.5 169.6069,-73.5 42.0034,-73.5\" stroke=\"#000000\"/>\n",
       "<text fill=\"#000000\" font-family=\"Times,serif\" font-size=\"14.00\" text-anchor=\"middle\" x=\"105.8052\" y=\"-87.3\">dropout_2: Dropout</text>\n",
       "</g>\n",
       "<!-- 4917866848&#45;&gt;4917902864 -->\n",
       "<g class=\"edge\" id=\"edge14\">\n",
       "<title>4917866848-&gt;4917902864</title>\n",
       "<path d=\"M105.8052,-146.4551C105.8052,-138.3828 105.8052,-128.6764 105.8052,-119.6817\" fill=\"none\" stroke=\"#000000\"/>\n",
       "<polygon fill=\"#000000\" points=\"109.3053,-119.5903 105.8052,-109.5904 102.3053,-119.5904 109.3053,-119.5903\" stroke=\"#000000\"/>\n",
       "</g>\n",
       "<!-- 4923683952 -->\n",
       "<g class=\"node\" id=\"node16\">\n",
       "<title>4923683952</title>\n",
       "<polygon fill=\"none\" points=\"53.6792,-.5 53.6792,-36.5 157.9312,-36.5 157.9312,-.5 53.6792,-.5\" stroke=\"#000000\"/>\n",
       "<text fill=\"#000000\" font-family=\"Times,serif\" font-size=\"14.00\" text-anchor=\"middle\" x=\"105.8052\" y=\"-14.3\">dense_2: Dense</text>\n",
       "</g>\n",
       "<!-- 4917902864&#45;&gt;4923683952 -->\n",
       "<g class=\"edge\" id=\"edge15\">\n",
       "<title>4917902864-&gt;4923683952</title>\n",
       "<path d=\"M105.8052,-73.4551C105.8052,-65.3828 105.8052,-55.6764 105.8052,-46.6817\" fill=\"none\" stroke=\"#000000\"/>\n",
       "<polygon fill=\"#000000\" points=\"109.3053,-46.5903 105.8052,-36.5904 102.3053,-46.5904 109.3053,-46.5903\" stroke=\"#000000\"/>\n",
       "</g>\n",
       "</g>\n",
       "</svg>"
      ],
      "text/plain": [
       "<IPython.core.display.SVG object>"
      ]
     },
     "execution_count": 30,
     "metadata": {},
     "output_type": "execute_result"
    }
   ],
   "source": [
    "import json\n",
    "import keras\n",
    "\n",
    "from keras.utils import plot_model\n",
    "from IPython.display import SVG\n",
    "from keras.utils.vis_utils import model_to_dot\n",
    "\n",
    "modelfile = os.path.join(outputdatadir, '1dcnn_model.json')\n",
    "# load json and create model\n",
    "json_file = open(modelfile, 'r')\n",
    "loaded_model_json = json_file.read()\n",
    "json_file.close()\n",
    "\n",
    "fixed_model = keras.models.model_from_json(loaded_model_json)\n",
    "\n",
    "print(fixed_model.summary())\n",
    "# plot_model(fixed_model, to_file='vgg12_plot.png', show_shapes=True, show_layer_names=True)\n",
    "SVG(model_to_dot(fixed_model).create(prog='dot', format='svg'))"
   ]
  },
  {
   "cell_type": "markdown",
   "metadata": {},
   "source": [
    "# Test How Much Data Can Fit Into Memory\n",
    "\n",
    "Load in the data and concatenate to get examples."
   ]
  },
  {
   "cell_type": "code",
   "execution_count": 8,
   "metadata": {},
   "outputs": [
    {
     "name": "stdout",
     "output_type": "stream",
     "text": [
      "/Volumes/ADAM LI/pydata/dnn/traindata/image_2d/allregions_moved/id001_ac_nez1_npz1_0.npz\n",
      "(239, 4, 32, 32)\n",
      "dict_keys(['x0ez', 'seeg_contacts', 'new_locs', 'ylabels'])\n"
     ]
    }
   ],
   "source": [
    "for idx, datafile in enumerate(trainfiles):\n",
    "    data = np.load(datafile)\n",
    "    imagetensor = data['image_tensor']\n",
    "    metadata = data['metadata'].item()\n",
    "    labels = metadata['ylabels']\n",
    "    \n",
    "    if idx == 0:\n",
    "        ylabels = labels\n",
    "        alltensors = imagetensor.reshape((imagetensor.shape[0], -1))\n",
    "        print(datafile)\n",
    "        print(imagetensor.shape)\n",
    "        print(metadata.keys())\n",
    "    else:\n",
    "        alltensors = np.concatenate((alltensors, imagetensor.reshape((imagetensor.shape[0], -1))), axis=0)\n",
    "        ylabels = np.concatenate((ylabels, metadata['ylabels']),axis=0)  \n",
    "        \n",
    "#     if idx == 0:\n",
    "#         buff = imagetensor.reshape((1,imagetensor.shape[0],-1))\n",
    "#         print(buff.shape)\n",
    "#         alltensors = keras.preprocessing.sequence.pad_sequences(buff, maxlen=500, \n",
    "#             dtype='float64', padding='pre', truncating='pre', value=0.)\n",
    "#         ylabels = keras.preprocessing.sequence.pad_sequences(labels.reshape((1,-1)), maxlen=500,\n",
    "#                             padding='pre', truncating='pre', value=0.)\n",
    "#         print(buff.shape)\n",
    "#         print(ylabels.shape)\n",
    "#         print(datafile)\n",
    "#         print(imagetensor.shape)\n",
    "#         print(metadata.keys())\n",
    "#     else:\n",
    "#         buff = imagetensor.reshape((1,imagetensor.shape[0],-1))\n",
    "#         buff = keras.preprocessing.sequence.pad_sequences(buff, maxlen=500, \n",
    "#             dtype='float64', padding='pre', truncating='pre', value=0.)\n",
    "#         alltensors = np.concatenate((alltensors, buff), axis=0)\n",
    "        \n",
    "#         labels = keras.preprocessing.sequence.pad_sequences(labels.reshape((1,-1)), maxlen=500,\n",
    "#                             padding='pre', truncating='pre', value=0.)\n",
    "#         ylabels = np.concatenate((ylabels, labels),axis=0)  \n",
    "        \n",
    "#         print(alltensors.shape)\n",
    "#         print(ylabels.shape)\n",
    "#         break\n",
    "#     if idx == 10:\n",
    "#         break\n",
    "#     break"
   ]
  },
  {
   "cell_type": "code",
   "execution_count": 10,
   "metadata": {
    "scrolled": true
   },
   "outputs": [
    {
     "name": "stdout",
     "output_type": "stream",
     "text": [
      "2.1171733600000002\n",
      "(64611, 4096)\n",
      "(64611, 1)\n"
     ]
    }
   ],
   "source": [
    "print(sys.getsizeof(alltensors) * 1.0e-9) \n",
    "print(alltensors.shape)\n",
    "print(ylabels.shape)\n",
    "\n",
    "filename = os.path.join(traindatadir, 'allimages_2d.npz')\n",
    "np.savez_compressed(filename, images=alltensors, labels=ylabels)"
   ]
  },
  {
   "cell_type": "code",
   "execution_count": 18,
   "metadata": {},
   "outputs": [
    {
     "name": "stdout",
     "output_type": "stream",
     "text": [
      "Train data dir is:  /Volumes/ADAM LI/pydata/dnn/traindata/image_3d/\n",
      "In traindatadir there are this many training files:  233\n",
      "/Volumes/ADAM LI/pydata/dnn/traindata/image_3d/allregions_moved/id001_ac_nez1_npz1_0.npz\n",
      "(239, 4, 32, 32, 32)\n",
      "/Volumes/ADAM LI/pydata/dnn/traindata/image_3d/allregions_moved/id001_ac_nez1_npz1_1.npz\n",
      "(239, 4, 32, 32, 32)\n",
      "/Volumes/ADAM LI/pydata/dnn/traindata/image_3d/allregions_moved/id001_ac_nez1_npz1_2.npz\n",
      "(239, 4, 32, 32, 32)\n",
      "/Volumes/ADAM LI/pydata/dnn/traindata/image_3d/allregions_moved/id001_ac_nez1_npz1_3.npz\n",
      "(239, 4, 32, 32, 32)\n",
      "/Volumes/ADAM LI/pydata/dnn/traindata/image_3d/allregions_moved/id001_ac_nez1_npz1_4.npz\n",
      "(239, 4, 32, 32, 32)\n",
      "/Volumes/ADAM LI/pydata/dnn/traindata/image_3d/allregions_moved/id001_ac_nez1_npz1_5.npz\n",
      "(239, 4, 32, 32, 32)\n"
     ]
    }
   ],
   "source": [
    "# the training data dir\n",
    "traindatadir = '/Volumes/ADAM LI/pydata/dnn/traindata/image_3d/allregions_moved/'\n",
    "# Get ALL datafiles from all downstream files\n",
    "trainfiles = []\n",
    "for root, dirs, files in os.walk(traindatadir):\n",
    "    for file in files:\n",
    "        trainfiles.append(os.path.join(root, file))\n",
    "print(\"Train data dir is: \", traindatadir)\n",
    "print(\"In traindatadir there are this many training files: \", len(trainfiles))\n",
    "\n",
    "ylabels = []\n",
    "all3dtensors = []\n",
    "for idx, datafile in enumerate(trainfiles):\n",
    "    data = np.load(datafile)\n",
    "    imagetensor = data['image_tensor']\n",
    "    metadata = data['metadata'].item()\n",
    "    \n",
    "    all3dtensors.append(imagetensor.reshape((imagetensor.shape[0],-1)))\n",
    "    ylabels.append(metadata['ylabels'])\n",
    "    print(imagetensor.shape)\n",
    "#     if idx == 0:\n",
    "#         all3dtensors = imagetensor.reshape([imagetensor.shape[0],-1])\n",
    "#         ylabels = metadata['ylabels']\n",
    "#         print(datafile)\n",
    "#         print(imagetensor.shape)\n",
    "#         print(metadata.keys())\n",
    "#     else:\n",
    "#         all3dtensors = np.concatenate((all3dtensors, imagetensor.reshape([imagetensor.shape[0],-1])), axis=0)\n",
    "#         ylabels = np.concatenate((ylabels, metadata['ylabels']),axis=0)\n",
    "        \n",
    "    if idx == 5:\n",
    "        break\n",
    "#     break"
   ]
  },
  {
   "cell_type": "code",
   "execution_count": 14,
   "metadata": {},
   "outputs": [
    {
     "name": "stdout",
     "output_type": "stream",
     "text": [
      "11\n",
      "(239, 1)\n",
      "(11, 239, 1)\n"
     ]
    }
   ],
   "source": [
    "print(len(ylabels))\n",
    "test=ylabels[1]\n",
    "print(test.shape)\n",
    "test = np.asarray(ylabels)\n",
    "print(test.shape)"
   ]
  },
  {
   "cell_type": "code",
   "execution_count": 11,
   "metadata": {},
   "outputs": [
    {
     "name": "stdout",
     "output_type": "stream",
     "text": [
      "(101, 239, 1)\n",
      "(101, 239, 131072)\n"
     ]
    }
   ],
   "source": [
    "ylabels = np.asarray(ylabels)\n",
    "print(ylabels.shape)\n",
    "\n",
    "all3dtensors = np.asarray(all3dtensors)\n",
    "print(all3dtensors.shape)"
   ]
  },
  {
   "cell_type": "code",
   "execution_count": 68,
   "metadata": {},
   "outputs": [
    {
     "name": "stdout",
     "output_type": "stream",
     "text": [
      "39.846936704\n",
      "(38001, 4, 32768)\n",
      "(22541, 1)\n"
     ]
    }
   ],
   "source": [
    "print(sys.getsizeof(all3dtensors)* 1.0e-9)\n",
    "print(all3dtensors.shape)\n",
    "print(ylabels.shape)\n",
    "# test = test.reshape([-1, 4, 32, 32, 32])\n",
    "# print(test.shape)"
   ]
  },
  {
   "cell_type": "code",
   "execution_count": 49,
   "metadata": {
    "scrolled": true
   },
   "outputs": [
    {
     "name": "stdout",
     "output_type": "stream",
     "text": [
      "1.9524814240000001\n",
      "(26051, 4, 32, 32, 32)\n",
      "(26051, 1)\n"
     ]
    },
    {
     "ename": "OSError",
     "evalue": "[Errno 27] File too large",
     "output_type": "error",
     "traceback": [
      "\u001b[0;31m---------------------------------------------------------------------------\u001b[0m",
      "\u001b[0;31mOSError\u001b[0m                                   Traceback (most recent call last)",
      "\u001b[0;32m<ipython-input-49-5ffa41f6cc0d>\u001b[0m in \u001b[0;36m<module>\u001b[0;34m()\u001b[0m\n\u001b[1;32m      4\u001b[0m \u001b[0;34m\u001b[0m\u001b[0m\n\u001b[1;32m      5\u001b[0m \u001b[0mfilename\u001b[0m \u001b[0;34m=\u001b[0m \u001b[0mos\u001b[0m\u001b[0;34m.\u001b[0m\u001b[0mpath\u001b[0m\u001b[0;34m.\u001b[0m\u001b[0mjoin\u001b[0m\u001b[0;34m(\u001b[0m\u001b[0mtraindatadir\u001b[0m\u001b[0;34m,\u001b[0m \u001b[0;34m'allimages_3d.npz'\u001b[0m\u001b[0;34m)\u001b[0m\u001b[0;34m\u001b[0m\u001b[0m\n\u001b[0;32m----> 6\u001b[0;31m \u001b[0mnp\u001b[0m\u001b[0;34m.\u001b[0m\u001b[0msavez_compressed\u001b[0m\u001b[0;34m(\u001b[0m\u001b[0mfilename\u001b[0m\u001b[0;34m,\u001b[0m \u001b[0mimages\u001b[0m\u001b[0;34m=\u001b[0m\u001b[0mall3dtensors\u001b[0m\u001b[0;34m,\u001b[0m \u001b[0mlabels\u001b[0m\u001b[0;34m=\u001b[0m\u001b[0mylabels\u001b[0m\u001b[0;34m)\u001b[0m\u001b[0;34m\u001b[0m\u001b[0m\n\u001b[0m",
      "\u001b[0;32m~/Documents/dnn-unsupervised/.venv/lib/python3.6/site-packages/numpy/lib/npyio.py\u001b[0m in \u001b[0;36msavez_compressed\u001b[0;34m(file, *args, **kwds)\u001b[0m\n\u001b[1;32m    657\u001b[0m \u001b[0;34m\u001b[0m\u001b[0m\n\u001b[1;32m    658\u001b[0m     \"\"\"\n\u001b[0;32m--> 659\u001b[0;31m     \u001b[0m_savez\u001b[0m\u001b[0;34m(\u001b[0m\u001b[0mfile\u001b[0m\u001b[0;34m,\u001b[0m \u001b[0margs\u001b[0m\u001b[0;34m,\u001b[0m \u001b[0mkwds\u001b[0m\u001b[0;34m,\u001b[0m \u001b[0;32mTrue\u001b[0m\u001b[0;34m)\u001b[0m\u001b[0;34m\u001b[0m\u001b[0m\n\u001b[0m\u001b[1;32m    660\u001b[0m \u001b[0;34m\u001b[0m\u001b[0m\n\u001b[1;32m    661\u001b[0m \u001b[0;34m\u001b[0m\u001b[0m\n",
      "\u001b[0;32m~/Documents/dnn-unsupervised/.venv/lib/python3.6/site-packages/numpy/lib/npyio.py\u001b[0m in \u001b[0;36m_savez\u001b[0;34m(file, args, kwds, compress, allow_pickle, pickle_kwargs)\u001b[0m\n\u001b[1;32m    696\u001b[0m                 format.write_array(fid, val,\n\u001b[1;32m    697\u001b[0m                                    \u001b[0mallow_pickle\u001b[0m\u001b[0;34m=\u001b[0m\u001b[0mallow_pickle\u001b[0m\u001b[0;34m,\u001b[0m\u001b[0;34m\u001b[0m\u001b[0m\n\u001b[0;32m--> 698\u001b[0;31m                                    pickle_kwargs=pickle_kwargs)\n\u001b[0m\u001b[1;32m    699\u001b[0m     \u001b[0;32melse\u001b[0m\u001b[0;34m:\u001b[0m\u001b[0;34m\u001b[0m\u001b[0m\n\u001b[1;32m    700\u001b[0m         \u001b[0;31m# Stage arrays in a temporary file on disk, before writing to zip.\u001b[0m\u001b[0;34m\u001b[0m\u001b[0;34m\u001b[0m\u001b[0m\n",
      "\u001b[0;32m~/Documents/dnn-unsupervised/.venv/lib/python3.6/site-packages/numpy/lib/format.py\u001b[0m in \u001b[0;36mwrite_array\u001b[0;34m(fp, array, version, allow_pickle, pickle_kwargs)\u001b[0m\n\u001b[1;32m    597\u001b[0m                     \u001b[0marray\u001b[0m\u001b[0;34m,\u001b[0m \u001b[0mflags\u001b[0m\u001b[0;34m=\u001b[0m\u001b[0;34m[\u001b[0m\u001b[0;34m'external_loop'\u001b[0m\u001b[0;34m,\u001b[0m \u001b[0;34m'buffered'\u001b[0m\u001b[0;34m,\u001b[0m \u001b[0;34m'zerosize_ok'\u001b[0m\u001b[0;34m]\u001b[0m\u001b[0;34m,\u001b[0m\u001b[0;34m\u001b[0m\u001b[0m\n\u001b[1;32m    598\u001b[0m                     buffersize=buffersize, order='C'):\n\u001b[0;32m--> 599\u001b[0;31m                 \u001b[0mfp\u001b[0m\u001b[0;34m.\u001b[0m\u001b[0mwrite\u001b[0m\u001b[0;34m(\u001b[0m\u001b[0mchunk\u001b[0m\u001b[0;34m.\u001b[0m\u001b[0mtobytes\u001b[0m\u001b[0;34m(\u001b[0m\u001b[0;34m'C'\u001b[0m\u001b[0;34m)\u001b[0m\u001b[0;34m)\u001b[0m\u001b[0;34m\u001b[0m\u001b[0m\n\u001b[0m\u001b[1;32m    600\u001b[0m \u001b[0;34m\u001b[0m\u001b[0m\n\u001b[1;32m    601\u001b[0m \u001b[0;34m\u001b[0m\u001b[0m\n",
      "\u001b[0;32m/usr/local/Cellar/python3/3.6.3/Frameworks/Python.framework/Versions/3.6/lib/python3.6/zipfile.py\u001b[0m in \u001b[0;36mwrite\u001b[0;34m(self, data)\u001b[0m\n\u001b[1;32m    990\u001b[0m             \u001b[0mdata\u001b[0m \u001b[0;34m=\u001b[0m \u001b[0mself\u001b[0m\u001b[0;34m.\u001b[0m\u001b[0m_compressor\u001b[0m\u001b[0;34m.\u001b[0m\u001b[0mcompress\u001b[0m\u001b[0;34m(\u001b[0m\u001b[0mdata\u001b[0m\u001b[0;34m)\u001b[0m\u001b[0;34m\u001b[0m\u001b[0m\n\u001b[1;32m    991\u001b[0m             \u001b[0mself\u001b[0m\u001b[0;34m.\u001b[0m\u001b[0m_compress_size\u001b[0m \u001b[0;34m+=\u001b[0m \u001b[0mlen\u001b[0m\u001b[0;34m(\u001b[0m\u001b[0mdata\u001b[0m\u001b[0;34m)\u001b[0m\u001b[0;34m\u001b[0m\u001b[0m\n\u001b[0;32m--> 992\u001b[0;31m         \u001b[0mself\u001b[0m\u001b[0;34m.\u001b[0m\u001b[0m_fileobj\u001b[0m\u001b[0;34m.\u001b[0m\u001b[0mwrite\u001b[0m\u001b[0;34m(\u001b[0m\u001b[0mdata\u001b[0m\u001b[0;34m)\u001b[0m\u001b[0;34m\u001b[0m\u001b[0m\n\u001b[0m\u001b[1;32m    993\u001b[0m         \u001b[0;32mreturn\u001b[0m \u001b[0mnbytes\u001b[0m\u001b[0;34m\u001b[0m\u001b[0m\n\u001b[1;32m    994\u001b[0m \u001b[0;34m\u001b[0m\u001b[0m\n",
      "\u001b[0;31mOSError\u001b[0m: [Errno 27] File too large"
     ]
    }
   ],
   "source": [
    "print(sys.getsizeof(all3dtensors) * 1.0e-9) \n",
    "print(all3dtensors.shape)\n",
    "print(ylabels.shape)\n",
    "\n",
    "filename = os.path.join(traindatadir, 'allimages_3d.npz')\n",
    "np.savez_compressed(filename, images=all3dtensors, labels=ylabels)"
   ]
  },
  {
   "cell_type": "markdown",
   "metadata": {},
   "source": [
    "# Visualize The Diversity of the Data That We Used\n",
    "\n",
    "Visualize the diversity of the data we used to train the model."
   ]
  },
  {
   "cell_type": "code",
   "execution_count": 43,
   "metadata": {},
   "outputs": [
    {
     "name": "stdout",
     "output_type": "stream",
     "text": [
      "(50, 2)\n",
      "MultiLabelBinarizer(classes=[(1, 0), (0, 1)], sparse_output=False)\n",
      "[((1, 0),), ((1, 0),), ((1, 0),), ((1, 0),), ((1, 0),), ((1, 0),), ((1, 0),), ((1, 0),), ((1, 0),), ((1, 0),), ((1, 0),), ((1, 0),), ((1, 0),), ((1, 0),), ((1, 0),), ((1, 0),), ((1, 0),), ((1, 0),), ((1, 0),), ((1, 0),), ((1, 0),), ((1, 0),), ((1, 0),), ((1, 0),), ((1, 0),), ((1, 0),), ((1, 0),), ((1, 0),), ((1, 0),), ((1, 0),), ((0, 1),), ((0, 1),), ((0, 1),), ((0, 1),), ((0, 1),), ((0, 1),), ((0, 1),), ((0, 1),), ((0, 1),), ((0, 1),), ((0, 1),), ((0, 1),), ((0, 1),), ((0, 1),), ((0, 1),), ((0, 1),), ((0, 1),), ((0, 1),), ((0, 1),), ((0, 1),)]\n"
     ]
    }
   ],
   "source": [
    "from sklearn.preprocessing import MultiLabelBinarizer\n",
    "\n",
    "test = np.ones((50,1))\n",
    "buff = np.zeros((50,1))\n",
    "test = np.concatenate((test, buff), axis=1)\n",
    "print(test.shape)\n",
    "test[30:,0] = 0\n",
    "test[30:,1] = 1\n",
    "# print(test)\n",
    "\n",
    "y = np.ones((50,1))\n",
    "y[30:] = 0\n",
    "\n",
    "mlb = MultiLabelBinarizer(classes=[(1,0),(0,1)])\n",
    "print(mlb.fit(y))\n",
    "test = mlb.inverse_transform(test)\n",
    "print(test)"
   ]
  },
  {
   "cell_type": "code",
   "execution_count": null,
   "metadata": {
    "collapsed": true
   },
   "outputs": [],
   "source": []
  }
 ],
 "metadata": {
  "kernelspec": {
   "display_name": "dnn",
   "language": "python",
   "name": "dnn"
  },
  "language_info": {
   "codemirror_mode": {
    "name": "ipython",
    "version": 3
   },
   "file_extension": ".py",
   "mimetype": "text/x-python",
   "name": "python",
   "nbconvert_exporter": "python",
   "pygments_lexer": "ipython3",
   "version": "3.6.3"
  }
 },
 "nbformat": 4,
 "nbformat_minor": 2
}
