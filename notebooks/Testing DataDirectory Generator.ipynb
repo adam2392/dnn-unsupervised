{
 "cells": [
  {
   "cell_type": "markdown",
   "metadata": {},
   "source": [
    "# Testing The Data Generator From Directory\n",
    "\n",
    "I borrowed (\"overloaded\") from the Image Data Generator class to get the functionality I needed for my data pipeline. Our data can be organized as a single huge image file that stores all the tensors, or it can be many datasets that have been analyzed and converted into their sequence of images (FFT, fragility, etc). \n",
    "\n",
    "For Image learning: For each batch, we want to randomly sample filepaths and from each file, we want to randomly sample an image. \n",
    "\n",
    "For sequence Learning (**To Do**): We can modify the above approach to randomly sample filepaths and from each file, we randomly sample a sequence that we need. Say for each dataset we want a sequence of 30 samples if we have a memory of 10-20. \n",
    "\n",
    "Resources\n",
    "- https://stackoverflow.com/questions/45797852/keras-visualize-imagedatagenerator-output\n"
   ]
  },
  {
   "cell_type": "code",
   "execution_count": 35,
   "metadata": {},
   "outputs": [
    {
     "name": "stdout",
     "output_type": "stream",
     "text": [
      "The autoreload extension is already loaded. To reload it, use:\n",
      "  %reload_ext autoreload\n"
     ]
    }
   ],
   "source": [
    "import sys\n",
    "sys.path.append('../')\n",
    "# sys.path.append('/Users/adam2392/Documents/fragility_analysis/')\n",
    "# import fragility.util.utils as futil\n",
    "\n",
    "import os\n",
    "import time\n",
    "import pickle\n",
    "import numpy as np\n",
    "import pandas as pd\n",
    "import scipy\n",
    "import scipy.io\n",
    "\n",
    "import processing\n",
    "import processing.generators.generatorfromfile\n",
    "import processing.util as util\n",
    "import peakdetect\n",
    "import processing.preprocessfft as preprocess\n",
    "\n",
    "from natsort import natsorted\n",
    "import ntpath\n",
    "import keras\n",
    "\n",
    "import seaborn as sns\n",
    "import matplotlib\n",
    "import matplotlib.pyplot as plt\n",
    "\n",
    "%load_ext autoreload\n",
    "%autoreload 2\n",
    "\n",
    "def path_leaf(path):\n",
    "    head, tail = ntpath.split(path)\n",
    "    return tail or ntpath.basename(head)"
   ]
  },
  {
   "cell_type": "code",
   "execution_count": 57,
   "metadata": {},
   "outputs": [],
   "source": [
    "imagegen = processing.generators.generatorfromfile.DataDirGenerator(\n",
    "                    featurewise_center=False,  # set input mean to 0 over the dataset\n",
    "                    samplewise_center=True,  # set each sample mean to 0\n",
    "                    featurewise_std_normalization=False,  # divide inputs by std of the dataset\n",
    "                    samplewise_std_normalization=True,  # divide each input by its std\n",
    "                    rotation_range=5,         # randomly rotate images in the range (degrees, 0 to 180)\n",
    "                    width_shift_range=0.02,    # randomly shift images horizontally (fraction of total width)\n",
    "                    height_shift_range=0.02,   # randomly shift images vertically (fraction of total height)\n",
    "                    horizontal_flip=False,    # randomly flip images\n",
    "                    vertical_flip=False,      # randomly flip images\n",
    "                    shear_range=0.,\n",
    "                    zoom_range=0.,\n",
    "                    channel_shift_range=0.,\n",
    "                    fill_mode='nearest')  "
   ]
  },
  {
   "cell_type": "code",
   "execution_count": 65,
   "metadata": {},
   "outputs": [
    {
     "name": "stdout",
     "output_type": "stream",
     "text": [
      "Found 248 image files.\n"
     ]
    }
   ],
   "source": [
    "traindir = '/Volumes/ADAM LI/pydata/dnn/traindata_fft/tvbsims/'\n",
    "batches = imagegen.flow_from_directory(traindir,\n",
    "                                      batch_size=32,\n",
    "                                      num_classes=2,\n",
    "                                       numchannels=4,\n",
    "                                       imsize=32,\n",
    "                                      shuffle=True,\n",
    "                                      interpolation='nearest')\n",
    "x_batch, y_batch = next(batches)"
   ]
  },
  {
   "cell_type": "code",
   "execution_count": 67,
   "metadata": {},
   "outputs": [
    {
     "name": "stdout",
     "output_type": "stream",
     "text": [
      "(32, 32, 32, 4)\n"
     ]
    }
   ],
   "source": [
    "print(x_batch.shape)"
   ]
  },
  {
   "cell_type": "code",
   "execution_count": 68,
   "metadata": {},
   "outputs": [
    {
     "data": {
      "text/plain": [
       "<matplotlib.axes._subplots.AxesSubplot at 0x11e943ba8>"
      ]
     },
     "execution_count": 68,
     "metadata": {},
     "output_type": "execute_result"
    },
    {
     "data": {
      "image/png": "[encoded data removed]",
      "text/plain": [
       "<matplotlib.figure.Figure at 0x11e9436a0>"
      ]
     },
     "metadata": {},
     "output_type": "display_data"
    }
   ],
   "source": [
    "sns.heatmap(x_batch[0,:,:,0], cmap='jet')"
   ]
  },
  {
   "cell_type": "code",
   "execution_count": null,
   "metadata": {},
   "outputs": [],
   "source": []
  }
 ],
 "metadata": {
  "kernelspec": {
   "display_name": "dnn",
   "language": "python",
   "name": "dnn"
  },
  "language_info": {
   "codemirror_mode": {
    "name": "ipython",
    "version": 3
   },
   "file_extension": ".py",
   "mimetype": "text/x-python",
   "name": "python",
   "nbconvert_exporter": "python",
   "pygments_lexer": "ipython3",
   "version": "3.6.3"
  }
 },
 "nbformat": 4,
 "nbformat_minor": 2
}
