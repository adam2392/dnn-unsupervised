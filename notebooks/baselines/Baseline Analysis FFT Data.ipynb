{
 "cells": [
  {
   "cell_type": "markdown",
   "metadata": {},
   "source": [
    "# Baseline Analysis of the FFT Data\n",
    "\n",
    "Using the FFT data we have, we can perform baseline analysis for the experiments we set up:\n",
    "- real FFT data, PCA performed on the SEEG contacts\n",
    "- real FFT data, inverse-gain matrix applied on the SEEG space to project to brain-region space\n",
    "- augmented data\n",
    "- "
   ]
  },
  {
   "cell_type": "code",
   "execution_count": 1,
   "metadata": {},
   "outputs": [],
   "source": [
    "import numpy as np\n",
    "import os\n",
    "import pandas as pd\n",
    "import scipy\n",
    "import sklearn\n",
    "import sys\n",
    "from time import time\n",
    "np.random.seed(1234567)\n",
    "\n",
    "from sklearn.decomposition import PCA\n",
    "from sklearn.discriminant_analysis import LinearDiscriminantAnalysis as LDA\n",
    "\n",
    "from sklearn import linear_model, decomposition, datasets\n",
    "from sklearn.pipeline import Pipeline\n",
    "from sklearn.model_selection import GridSearchCV\n",
    "from sklearn import svm\n",
    "from sklearn.preprocessing import StandardScaler\n",
    "from sklearn.ensemble import RandomForestClassifier\n",
    "from sklearn.model_selection import train_test_split\n",
    "from sklearn.metrics import precision_score, \\\n",
    "    recall_score, classification_report, \\\n",
    "    f1_score, confusion_matrix, accuracy_score\n",
    "    \n",
    "from sklearn.ensemble import RandomForestClassifier\n",
    "from sklearn.linear_model import LogisticRegression\n",
    "from sklearn.svm import SVC\n",
    "\n",
    "# import data handler for the fft type data\n",
    "sys.path.append('../../')\n",
    "from dnn.processing.util import DataHandler\n",
    "    \n",
    "import matplotlib\n",
    "import matplotlib.pyplot as plt\n",
    "import seaborn as sns\n",
    "\n",
    "%load_ext autoreload\n",
    "%autoreload 2\n"
   ]
  },
  {
   "cell_type": "markdown",
   "metadata": {},
   "source": [
    "# 1) Test Baseline on Real Data\n"
   ]
  },
  {
   "cell_type": "code",
   "execution_count": 6,
   "metadata": {},
   "outputs": [
    {
     "name": "stdout",
     "output_type": "stream",
     "text": [
      "Number of real data - fft files:  35\n",
      "The data directory we grabbed from:  /Volumes/ADAM LI/pydata/output_fft/asimages/tvbsims/\n",
      "/Users/adam2392/Documents/dnn-unsupervised/notebooks/baselines\n"
     ]
    }
   ],
   "source": [
    "# real image data dir\n",
    "datadir = '/Volumes/ADAM LI/pydata/output_fft/asimages/realtng/'\n",
    "\n",
    "datafiles = []\n",
    "for root, dirs, files in os.walk(datadir):\n",
    "    for file in files:\n",
    "        datafiles.append(os.path.join(root, file))\n",
    "\n",
    "# add the datafiles of the augmented set\n",
    "datadir = '/Volumes/ADAM LI/pydata/output_fft/asimages/tvbsims/'\n",
    "for root, dirs, files in os.walk(datadir):\n",
    "    for file in files:\n",
    "        datafiles.append(os.path.join(root, file))\n",
    "\n",
    "# PCA\n",
    "numcomp = 50\n",
    "sklearn_pca = PCA(n_components=numcomp)\n",
    "\n",
    "# data handler\n",
    "datautil = DataHandler()\n",
    "\n",
    "print(\"Number of real data - fft files: \", len(datafiles))\n",
    "print(\"The data directory we grabbed from: \", datadir)\n",
    "print(os.getcwd())"
   ]
  },
  {
   "cell_type": "code",
   "execution_count": 14,
   "metadata": {},
   "outputs": [
    {
     "name": "stdout",
     "output_type": "stream",
     "text": [
      "id001_ac_absence_fftmodel.npz\n",
      "id001\n",
      "id001_ac_comp_fftmodel.npz\n",
      "id001\n",
      "id001_ac_sz2_fftmodel.npz\n",
      "id001\n",
      "id001_ac_sz2_2_fftmodel.npz\n",
      "id001\n",
      "id001_ac_sz3_fftmodel.npz\n",
      "id001\n",
      "id002_cj_sz1_fftmodel.npz\n",
      "id002\n",
      "id002_cj_sz2_fftmodel.npz\n",
      "id002\n",
      "id002_cj_sz3_fftmodel.npz\n",
      "id002\n",
      "id002_cj_sz4_fftmodel.npz\n",
      "id002\n",
      "id002_cj_sz5_fftmodel.npz\n",
      "id002\n",
      "id002_cj_sz6_fftmodel.npz\n",
      "id002\n",
      "id008_gc_sz2_fftmodel.npz\n",
      "id008\n",
      "id008_gc_sz3_fftmodel.npz\n",
      "id008\n",
      "id010_js_sz1_fftmodel.npz\n",
      "id010\n",
      "id011_ml_sz2_fftmodel.npz\n",
      "id011\n",
      "id012_pc_sz1_fftmodel.npz\n",
      "id012\n",
      "id013_pg_sz1_fftmodel.npz\n",
      "id013\n",
      "id008_gc_dist11.0_fftmodel.npz\n",
      "id008_sim\n",
      "id008_gc_dist13.0_fftmodel.npz\n",
      "id008_sim\n",
      "id008_gc_dist-1.0_fftmodel.npz\n",
      "id008_sim\n",
      "id008_gc_dist15.0_fftmodel.npz\n",
      "id008_sim\n",
      "id013_pg_dist1.0_fftmodel.npz\n",
      "id013_sim\n",
      "id013_pg_dist9.0_fftmodel.npz\n",
      "id013_sim\n",
      "id008_gc_dist3.0_fftmodel.npz\n",
      "id008_sim\n",
      "id013_pg_dist11.0_fftmodel.npz\n",
      "id013_sim\n",
      "id013_pg_dist7.0_fftmodel.npz\n",
      "id013_sim\n",
      "id008_gc_dist5.0_fftmodel.npz\n",
      "id008_sim\n",
      "id008_gc_dist7.0_fftmodel.npz\n",
      "id008_sim\n",
      "id013_pg_dist13.0_fftmodel.npz\n",
      "id013_sim\n",
      "id013_pg_dist5.0_fftmodel.npz\n",
      "id013_sim\n",
      "id008_gc_dist1.0_fftmodel.npz\n",
      "id008_sim\n",
      "id013_pg_dist-1.0_fftmodel.npz\n",
      "id013_sim\n",
      "id008_gc_dist9.0_fftmodel.npz\n",
      "id008_sim\n",
      "id013_pg_dist3.0_fftmodel.npz\n",
      "id013_sim\n",
      "id013_pg_dist15.0_fftmodel.npz\n",
      "id013_sim\n",
      "(50109, 4096)\n",
      "(50109, 1)\n"
     ]
    }
   ],
   "source": [
    "# load datafiles into features\n",
    "for idx, datafile in enumerate(datafiles):\n",
    "    data = np.load(datafile)\n",
    "    image_tensor = data['image_tensor']\n",
    "    metadata = data['metadata'].item()\n",
    "    \n",
    "    # load in the metadata\n",
    "    chanlabels = metadata['chanlabels']\n",
    "    seeg_xyz = metadata['seeg_xyz']\n",
    "    ylabels = metadata['ylabels']\n",
    "    samplerate = metadata['samplerate']\n",
    "    timepoints = metadata['timepoints']\n",
    "    \n",
    "    filename = datafile.split('/')[-1]\n",
    "    patient = '_'.join(filename.split('_')[0:1])\n",
    "    print(filename)\n",
    "    \n",
    "    # modify patient name if 'dist' is in it (aka a sim dataset)\n",
    "    if 'dist' in filename:\n",
    "        patient = patient + '_sim'\n",
    "    \n",
    "    # create the X / y data\n",
    "    if idx is 0:\n",
    "        Xdata = image_tensor.reshape(len(ylabels),-1)\n",
    "        ydata = ylabels\n",
    "        patients = [patient] * len(ylabels)\n",
    "    else:\n",
    "        Xdata = np.concatenate((Xdata, image_tensor.reshape(len(ylabels),-1)), axis=0)\n",
    "        ydata = np.concatenate((ydata, ylabels), axis=0)\n",
    "        patients = np.concatenate((patients, [patient]*len(ylabels)))\n",
    "    print(patient)\n",
    "    \n",
    "print(Xdata.shape)\n",
    "print(ydata.shape)"
   ]
  },
  {
   "cell_type": "code",
   "execution_count": 15,
   "metadata": {},
   "outputs": [
    {
     "name": "stdout",
     "output_type": "stream",
     "text": [
      "[0.71022196 1.68921926]\n",
      "Baseline testing prediction of all seizure:  1.0\n"
     ]
    },
    {
     "data": {
      "image/png": "[encoded data removed]",
      "text/plain": [
       "<matplotlib.figure.Figure at 0x10b9542b0>"
      ]
     },
     "metadata": {},
     "output_type": "display_data"
    }
   ],
   "source": [
    "inverty = 1 - ydata\n",
    "ydata = np.concatenate((inverty, ydata), axis=1)\n",
    "\n",
    "class_weight = sklearn.utils.compute_class_weight('balanced',\n",
    "                                        np.unique(ydata).astype(int),\n",
    "                                        np.argmax(ydata, axis=1))\n",
    "print(class_weight)\n",
    "\n",
    "# plot the data distribution of binary labels\n",
    "plt.figure()\n",
    "sns.distplot(np.argmax(ydata, axis=-1), kde=False, axlabel='Seizure or Not', label='Testing Dataset')\n",
    "ax=plt.gca()\n",
    "ax.set_title('Augmented Training Data Distribution')\n",
    "ax.set_xticks([0,1])\n",
    "ax.set_xticklabels(['Normal', 'Seizure'])\n",
    "ax.legend()\n",
    "\n",
    "print(\"Baseline testing prediction of all seizure: \", np.sum(ydata)/len(ydata))"
   ]
  },
  {
   "cell_type": "code",
   "execution_count": 16,
   "metadata": {},
   "outputs": [],
   "source": [
    "def splitpatdata(listofpats, Xdata, ydata):\n",
    "    # list of pats\n",
    "    uniquepats = np.unique(listofpats)\n",
    "    \n",
    "    ind = 0\n",
    "    while 1:\n",
    "        if ind == len(uniquepats):\n",
    "            break\n",
    "            \n",
    "        # get indices of this pat\n",
    "        pat = uniquepats[ind]\n",
    "        print(pat)\n",
    "        patinds = np.where(listofpats == pat)[0]\n",
    "        otherinds = np.where(listofpats != pat)[0]\n",
    "        \n",
    "        # create generator\n",
    "        Xtest = Xdata[patinds,...]\n",
    "        ytest = ydata[patinds,...]\n",
    "        \n",
    "        Xtrain = Xdata[otherinds,...]\n",
    "        ytrain = ydata[otherinds,...]\n",
    "        yield Xtrain, ytrain, Xtest, ytest\n",
    "        ind += 1"
   ]
  },
  {
   "cell_type": "code",
   "execution_count": 17,
   "metadata": {},
   "outputs": [],
   "source": [
    "datasplitter = splitpatdata(listofpats=patients, Xdata=Xdata, ydata=ydata)\n",
    "\n",
    "# print(datasplitter)\n",
    "# for idx, batch in enumerate(datasplitter):\n",
    "#     print(idx)\n",
    "#     Xpat, ypat, Xtest, ytest = batch\n",
    "#     print(Xpat.shape)\n",
    "#     print(ypat.shape)\n",
    "#     print(Xtest.shape)\n",
    "#     print(ytest.shape)\n",
    "#     if idx == 2:\n",
    "#         break"
   ]
  },
  {
   "cell_type": "code",
   "execution_count": 12,
   "metadata": {},
   "outputs": [],
   "source": [
    "randstate = 42 # for reproducability\n",
    "# run random forest classifier with loo on patient side\n",
    "model_params = {'max_depth': [5,10,15], \n",
    "                'n_estimators':[10,50,100], \n",
    "                'max_features': [1,2,5],\n",
    "                'oob_score': True,\n",
    "               'random_state': randstate}\n",
    "model_params = {'max_depth': 5, \n",
    "                'n_estimators':100, \n",
    "                'max_features': 4,\n",
    "                'oob_score': True,\n",
    "               'random_state': randstate}\n",
    "clf_rf = RandomForestClassifier(**model_params)"
   ]
  },
  {
   "cell_type": "code",
   "execution_count": 19,
   "metadata": {},
   "outputs": [],
   "source": [
    "# model_params = {\n",
    "#     'Cs': np.logspace(-4, 4, 3),\n",
    "#     'penalty': ['l1', 'l2'],\n",
    "#     'random_state': randstate\n",
    "# }\n",
    "model_params = {\n",
    "    'C': 10e4,\n",
    "    'penalty': 'l1',\n",
    "    'random_state': randstate\n",
    "}\n",
    "\n",
    "clf_lr = LogisticRegression(**model_params)"
   ]
  },
  {
   "cell_type": "code",
   "execution_count": 21,
   "metadata": {},
   "outputs": [],
   "source": [
    "model_params = {\n",
    "    'C': 10e-1,\n",
    "    'kernel': 'linear',\n",
    "    'random_state': randstate\n",
    "}\n",
    "\n",
    "clf_svc = SVC(**model_params)"
   ]
  },
  {
   "cell_type": "markdown",
   "metadata": {},
   "source": [
    "# 2) Run Models of Real Data\n",
    "\n",
    "- Random Forest\n",
    "- SVC (if possible...?)\n",
    "- Logistic Regression\n",
    "- Extra Trees Classifier"
   ]
  },
  {
   "cell_type": "code",
   "execution_count": 18,
   "metadata": {},
   "outputs": [
    {
     "name": "stdout",
     "output_type": "stream",
     "text": [
      "id001\n",
      "\n",
      "\n",
      "Showing iteration 0\n",
      "Out-of-bag score estimate: 0.847\n",
      "Mean accuracy score: 0.757\n",
      "F1 score: 0.006465517241379311\n",
      "Recall: 0.0032514450867052024\n",
      "Precision: 0.5625\n",
      "\n",
      " clasification report:\n",
      "              precision    recall  f1-score   support\n",
      "\n",
      "          0       0.76      1.00      0.86      8615\n",
      "          1       0.56      0.00      0.01      2768\n",
      "\n",
      "avg / total       0.71      0.76      0.65     11383\n",
      "\n",
      "\n",
      " confusion matrix:\n",
      " [[8608    7]\n",
      " [2759    9]]\n"
     ]
    },
    {
     "data": {
      "image/png": "[encoded data removed]",
      "text/plain": [
       "<matplotlib.figure.Figure at 0x10bfde128>"
      ]
     },
     "metadata": {},
     "output_type": "display_data"
    },
    {
     "name": "stdout",
     "output_type": "stream",
     "text": [
      "RandomForestClassifier(bootstrap=True, class_weight='balanced',\n",
      "            criterion='gini', max_depth=5, max_features=4,\n",
      "            max_leaf_nodes=None, min_impurity_decrease=0.0,\n",
      "            min_impurity_split=None, min_samples_leaf=1,\n",
      "            min_samples_split=2, min_weight_fraction_leaf=0.0,\n",
      "            n_estimators=100, n_jobs=1, oob_score=True, random_state=42,\n",
      "            verbose=0, warm_start=False)\n",
      "id002\n",
      "\n",
      "\n",
      "Showing iteration 1\n",
      "Out-of-bag score estimate: 0.671\n",
      "Mean accuracy score: 0.541\n",
      "F1 score: 0.6773749877198152\n",
      "Recall: 0.8165561345333965\n",
      "Precision: 0.5787309048178614\n",
      "\n",
      " clasification report:\n",
      "              precision    recall  f1-score   support\n",
      "\n",
      "          0       0.35      0.14      0.20      5858\n",
      "          1       0.58      0.82      0.68      8444\n",
      "\n",
      "avg / total       0.49      0.54      0.48     14302\n",
      "\n",
      "\n",
      " confusion matrix:\n",
      " [[ 839 5019]\n",
      " [1549 6895]]\n"
     ]
    },
    {
     "data": {
      "image/png": "[encoded data removed]",
      "text/plain": [
       "<matplotlib.figure.Figure at 0x10c025390>"
      ]
     },
     "metadata": {},
     "output_type": "display_data"
    },
    {
     "name": "stdout",
     "output_type": "stream",
     "text": [
      "RandomForestClassifier(bootstrap=True, class_weight='balanced',\n",
      "            criterion='gini', max_depth=5, max_features=4,\n",
      "            max_leaf_nodes=None, min_impurity_decrease=0.0,\n",
      "            min_impurity_split=None, min_samples_leaf=1,\n",
      "            min_samples_split=2, min_weight_fraction_leaf=0.0,\n",
      "            n_estimators=100, n_jobs=1, oob_score=True, random_state=42,\n",
      "            verbose=0, warm_start=False)\n",
      "id008\n",
      "\n",
      "\n",
      "Showing iteration 2\n",
      "Out-of-bag score estimate: 0.826\n",
      "Mean accuracy score: 0.359\n",
      "F1 score: 0.337707182320442\n",
      "Recall: 0.7223042836041359\n",
      "Precision: 0.22036953582694907\n",
      "\n",
      " clasification report:\n",
      "              precision    recall  f1-score   support\n",
      "\n",
      "          0       0.76      0.25      0.38      2313\n",
      "          1       0.22      0.72      0.34       677\n",
      "\n",
      "avg / total       0.63      0.36      0.37      2990\n",
      "\n",
      "\n",
      " confusion matrix:\n",
      " [[ 583 1730]\n",
      " [ 188  489]]\n"
     ]
    },
    {
     "data": {
      "image/png": "[encoded data removed]",
      "text/plain": [
       "<matplotlib.figure.Figure at 0x104dc3860>"
      ]
     },
     "metadata": {},
     "output_type": "display_data"
    },
    {
     "name": "stdout",
     "output_type": "stream",
     "text": [
      "RandomForestClassifier(bootstrap=True, class_weight='balanced',\n",
      "            criterion='gini', max_depth=5, max_features=4,\n",
      "            max_leaf_nodes=None, min_impurity_decrease=0.0,\n",
      "            min_impurity_split=None, min_samples_leaf=1,\n",
      "            min_samples_split=2, min_weight_fraction_leaf=0.0,\n",
      "            n_estimators=100, n_jobs=1, oob_score=True, random_state=42,\n",
      "            verbose=0, warm_start=False)\n",
      "id008_sim\n",
      "\n",
      "\n",
      "Showing iteration 3\n",
      "Out-of-bag score estimate: 0.833\n",
      "Mean accuracy score: 0.679\n",
      "F1 score: 0.8089887640449438\n",
      "Recall: 1.0\n",
      "Precision: 0.6792452830188679\n",
      "\n",
      " clasification report:\n",
      "              precision    recall  f1-score   support\n",
      "\n",
      "          0       0.00      0.00      0.00       459\n",
      "          1       0.68      1.00      0.81       972\n",
      "\n",
      "avg / total       0.46      0.68      0.55      1431\n",
      "\n",
      "\n",
      " confusion matrix:\n",
      " [[  0 459]\n",
      " [  0 972]]\n"
     ]
    },
    {
     "name": "stderr",
     "output_type": "stream",
     "text": [
      "/Users/adam2392/Documents/dnn-unsupervised/.venv/lib/python3.6/site-packages/sklearn/metrics/classification.py:1135: UndefinedMetricWarning: Precision and F-score are ill-defined and being set to 0.0 in labels with no predicted samples.\n",
      "  'precision', 'predicted', average, warn_for)\n"
     ]
    },
    {
     "data": {
      "image/png": "[encoded data removed]",
      "text/plain": [
       "<matplotlib.figure.Figure at 0x10c56a278>"
      ]
     },
     "metadata": {},
     "output_type": "display_data"
    },
    {
     "name": "stdout",
     "output_type": "stream",
     "text": [
      "RandomForestClassifier(bootstrap=True, class_weight='balanced',\n",
      "            criterion='gini', max_depth=5, max_features=4,\n",
      "            max_leaf_nodes=None, min_impurity_decrease=0.0,\n",
      "            min_impurity_split=None, min_samples_leaf=1,\n",
      "            min_samples_split=2, min_weight_fraction_leaf=0.0,\n",
      "            n_estimators=100, n_jobs=1, oob_score=True, random_state=42,\n",
      "            verbose=0, warm_start=False)\n",
      "id010\n",
      "\n",
      "\n",
      "Showing iteration 4\n",
      "Out-of-bag score estimate: 0.829\n",
      "Mean accuracy score: 0.669\n",
      "F1 score: 0.0\n",
      "Recall: 0.0\n",
      "Precision: 0.0\n",
      "\n",
      " clasification report:\n",
      "              precision    recall  f1-score   support\n",
      "\n",
      "          0       0.67      0.99      0.80      1210\n",
      "          1       0.00      0.00      0.00       585\n",
      "\n",
      "avg / total       0.45      0.67      0.54      1795\n",
      "\n",
      "\n",
      " confusion matrix:\n",
      " [[1201    9]\n",
      " [ 585    0]]\n"
     ]
    },
    {
     "data": {
      "image/png": "[encoded data removed]",
      "text/plain": [
       "<matplotlib.figure.Figure at 0x10b943080>"
      ]
     },
     "metadata": {},
     "output_type": "display_data"
    },
    {
     "name": "stdout",
     "output_type": "stream",
     "text": [
      "RandomForestClassifier(bootstrap=True, class_weight='balanced',\n",
      "            criterion='gini', max_depth=5, max_features=4,\n",
      "            max_leaf_nodes=None, min_impurity_decrease=0.0,\n",
      "            min_impurity_split=None, min_samples_leaf=1,\n",
      "            min_samples_split=2, min_weight_fraction_leaf=0.0,\n",
      "            n_estimators=100, n_jobs=1, oob_score=True, random_state=42,\n",
      "            verbose=0, warm_start=False)\n",
      "id011\n",
      "\n",
      "\n",
      "Showing iteration 5\n",
      "Out-of-bag score estimate: 0.777\n",
      "Mean accuracy score: 0.986\n",
      "F1 score: 0.0\n",
      "Recall: 0.0\n",
      "Precision: 0.0\n",
      "\n",
      " clasification report:\n",
      "              precision    recall  f1-score   support\n",
      "\n",
      "          0       0.99      1.00      0.99     14182\n",
      "          1       0.00      0.00      0.00       205\n",
      "\n",
      "avg / total       0.97      0.99      0.98     14387\n",
      "\n",
      "\n",
      " confusion matrix:\n",
      " [[14179     3]\n",
      " [  205     0]]\n"
     ]
    },
    {
     "data": {
      "image/png": "[encoded data removed]",
      "text/plain": [
       "<matplotlib.figure.Figure at 0x10e05fb70>"
      ]
     },
     "metadata": {},
     "output_type": "display_data"
    },
    {
     "name": "stdout",
     "output_type": "stream",
     "text": [
      "RandomForestClassifier(bootstrap=True, class_weight='balanced',\n",
      "            criterion='gini', max_depth=5, max_features=4,\n",
      "            max_leaf_nodes=None, min_impurity_decrease=0.0,\n",
      "            min_impurity_split=None, min_samples_leaf=1,\n",
      "            min_samples_split=2, min_weight_fraction_leaf=0.0,\n",
      "            n_estimators=100, n_jobs=1, oob_score=True, random_state=42,\n",
      "            verbose=0, warm_start=False)\n",
      "id012\n",
      "\n",
      "\n",
      "Showing iteration 6\n",
      "Out-of-bag score estimate: 0.829\n",
      "Mean accuracy score: 0.765\n",
      "F1 score: 0.0\n",
      "Recall: 0.0\n",
      "Precision: 0.0\n",
      "\n",
      " clasification report:\n",
      "              precision    recall  f1-score   support\n",
      "\n",
      "          0       0.76      1.00      0.87       914\n",
      "          1       0.00      0.00      0.00       281\n",
      "\n",
      "avg / total       0.59      0.76      0.66      1195\n",
      "\n",
      "\n",
      " confusion matrix:\n",
      " [[914   0]\n",
      " [281   0]]\n"
     ]
    },
    {
     "name": "stderr",
     "output_type": "stream",
     "text": [
      "/Users/adam2392/Documents/dnn-unsupervised/.venv/lib/python3.6/site-packages/sklearn/metrics/classification.py:1135: UndefinedMetricWarning: F-score is ill-defined and being set to 0.0 due to no predicted samples.\n",
      "  'precision', 'predicted', average, warn_for)\n",
      "/Users/adam2392/Documents/dnn-unsupervised/.venv/lib/python3.6/site-packages/sklearn/metrics/classification.py:1135: UndefinedMetricWarning: Precision is ill-defined and being set to 0.0 due to no predicted samples.\n",
      "  'precision', 'predicted', average, warn_for)\n",
      "/Users/adam2392/Documents/dnn-unsupervised/.venv/lib/python3.6/site-packages/sklearn/metrics/classification.py:1135: UndefinedMetricWarning: Precision and F-score are ill-defined and being set to 0.0 in labels with no predicted samples.\n",
      "  'precision', 'predicted', average, warn_for)\n"
     ]
    },
    {
     "data": {
      "image/png": "[encoded data removed]",
      "text/plain": [
       "<matplotlib.figure.Figure at 0x10b74b940>"
      ]
     },
     "metadata": {},
     "output_type": "display_data"
    },
    {
     "name": "stdout",
     "output_type": "stream",
     "text": [
      "RandomForestClassifier(bootstrap=True, class_weight='balanced',\n",
      "            criterion='gini', max_depth=5, max_features=4,\n",
      "            max_leaf_nodes=None, min_impurity_decrease=0.0,\n",
      "            min_impurity_split=None, min_samples_leaf=1,\n",
      "            min_samples_split=2, min_weight_fraction_leaf=0.0,\n",
      "            n_estimators=100, n_jobs=1, oob_score=True, random_state=42,\n",
      "            verbose=0, warm_start=False)\n",
      "id013\n",
      "\n",
      "\n",
      "Showing iteration 7\n",
      "Out-of-bag score estimate: 0.828\n",
      "Mean accuracy score: 0.836\n",
      "F1 score: 0.07547169811320754\n",
      "Recall: 0.05228758169934641\n",
      "Precision: 0.13559322033898305\n",
      "\n",
      " clasification report:\n",
      "              precision    recall  f1-score   support\n",
      "\n",
      "          0       0.87      0.95      0.91      1042\n",
      "          1       0.14      0.05      0.08       153\n",
      "\n",
      "avg / total       0.78      0.84      0.80      1195\n",
      "\n",
      "\n",
      " confusion matrix:\n",
      " [[991  51]\n",
      " [145   8]]\n"
     ]
    },
    {
     "data": {
      "image/png": "[encoded data removed]",
      "text/plain": [
       "<matplotlib.figure.Figure at 0x104da6358>"
      ]
     },
     "metadata": {},
     "output_type": "display_data"
    },
    {
     "name": "stdout",
     "output_type": "stream",
     "text": [
      "RandomForestClassifier(bootstrap=True, class_weight='balanced',\n",
      "            criterion='gini', max_depth=5, max_features=4,\n",
      "            max_leaf_nodes=None, min_impurity_decrease=0.0,\n",
      "            min_impurity_split=None, min_samples_leaf=1,\n",
      "            min_samples_split=2, min_weight_fraction_leaf=0.0,\n",
      "            n_estimators=100, n_jobs=1, oob_score=True, random_state=42,\n",
      "            verbose=0, warm_start=False)\n",
      "id013_sim\n",
      "\n",
      "\n",
      "Showing iteration 8\n",
      "Out-of-bag score estimate: 0.837\n",
      "Mean accuracy score: 0.481\n",
      "F1 score: 0.6493629070316188\n",
      "Recall: 0.9210174029451138\n",
      "Precision: 0.5014577259475219\n",
      "\n",
      " clasification report:\n",
      "              precision    recall  f1-score   support\n",
      "\n",
      "          0       0.00      0.00      0.00       684\n",
      "          1       0.50      0.92      0.65       747\n",
      "\n",
      "avg / total       0.26      0.48      0.34      1431\n",
      "\n",
      "\n",
      " confusion matrix:\n",
      " [[  0 684]\n",
      " [ 59 688]]\n"
     ]
    },
    {
     "data": {
      "image/png": "[encoded data removed]",
      "text/plain": [
       "<matplotlib.figure.Figure at 0x1044a4ef0>"
      ]
     },
     "metadata": {},
     "output_type": "display_data"
    },
    {
     "name": "stdout",
     "output_type": "stream",
     "text": [
      "RandomForestClassifier(bootstrap=True, class_weight='balanced',\n",
      "            criterion='gini', max_depth=5, max_features=4,\n",
      "            max_leaf_nodes=None, min_impurity_decrease=0.0,\n",
      "            min_impurity_split=None, min_samples_leaf=1,\n",
      "            min_samples_split=2, min_weight_fraction_leaf=0.0,\n",
      "            n_estimators=100, n_jobs=1, oob_score=True, random_state=42,\n",
      "            verbose=0, warm_start=False)\n",
      "CPU times: user 2min 11s, sys: 1min 41s, total: 3min 53s\n",
      "Wall time: 3min 54s\n"
     ]
    }
   ],
   "source": [
    "%%time\n",
    "for idx, batch in enumerate(datasplitter):\n",
    "    X_train, y_train, X_test, y_test = batch \n",
    "    y_train = np.argmax(y_train, axis=-1)\n",
    "    y_test = np.argmax(y_test, axis=-1)\n",
    "    \n",
    "    # format the data correctly\n",
    "#     classweight = sklearn.utils.compute_class_weight('balanced',\n",
    "#                                                       np.unique(y_train).astype(int),\n",
    "#                                                       y_train)\n",
    "    model_params = {'max_depth': 5, \n",
    "                'n_estimators':100, \n",
    "                'max_features': 4,\n",
    "                'oob_score': True,\n",
    "               'random_state': randstate,\n",
    "                'class_weight': 'balanced'}\n",
    "    clf_rf = RandomForestClassifier(**model_params)\n",
    "\n",
    "    res = clf_rf.fit(X_train, y_train)\n",
    "\n",
    "    rf_test = clf_rf.predict(X_test)\n",
    "    print('\\n\\nShowing iteration %d' % idx)\n",
    "    print('Out-of-bag score estimate: %.3f' % clf_rf.oob_score_)\n",
    "    print('Mean accuracy score: %.3f' % accuracy_score(y_test, rf_test))\n",
    "    print('F1 score:', f1_score(y_test, rf_test))\n",
    "    print('Recall:', recall_score(y_test, rf_test))\n",
    "    print('Precision:', precision_score(y_test, rf_test))\n",
    "    print('\\n clasification report:\\n', classification_report(y_test, rf_test))\n",
    "    print('\\n confusion matrix:\\n',confusion_matrix(y_test, rf_test))\n",
    "\n",
    "    fig = plt.figure()\n",
    "    cm = pd.DataFrame(confusion_matrix(y_test, rf_test), columns=['norm','seiz'], index=['norm','seiz'])\n",
    "    sns.heatmap(cm, annot=True, fmt='g')\n",
    "    ax = plt.gca()\n",
    "    ax.set_title('Random Forest Baseline On Test Data Confusion Matrix')\n",
    "    ax.set_ylabel('True Label')\n",
    "    ax.set_xlabel('Predicted Label')\n",
    "    plt.show()\n",
    "    print(res)"
   ]
  },
  {
   "cell_type": "code",
   "execution_count": null,
   "metadata": {},
   "outputs": [
    {
     "name": "stdout",
     "output_type": "stream",
     "text": [
      "id001\n",
      "\n",
      "\n",
      "Showing iteration %d 0\n",
      "Mean accuracy score: 0.752\n",
      "F1 score: 0.12719975301018832\n",
      "Recall: 0.07442196531791907\n",
      "Precision: 0.43736730360934184\n",
      "\n",
      " clasification report:\n",
      "              precision    recall  f1-score   support\n",
      "\n",
      "          0       0.77      0.97      0.86      8615\n",
      "          1       0.44      0.07      0.13      2768\n",
      "\n",
      "avg / total       0.69      0.75      0.68     11383\n",
      "\n",
      "\n",
      " confusion matrix:\n",
      " [[8350  265]\n",
      " [2562  206]]\n"
     ]
    },
    {
     "data": {
      "image/png": "[encoded data removed]",
      "text/plain": [
       "<matplotlib.figure.Figure at 0x10f786860>"
      ]
     },
     "metadata": {},
     "output_type": "display_data"
    },
    {
     "name": "stdout",
     "output_type": "stream",
     "text": [
      "LogisticRegression(C=100000.0, class_weight='balanced', dual=False,\n",
      "          fit_intercept=True, intercept_scaling=1, max_iter=100,\n",
      "          multi_class='ovr', n_jobs=1, penalty='l1', random_state=42,\n",
      "          solver='liblinear', tol=0.0001, verbose=0, warm_start=False)\n",
      "id002\n"
     ]
    }
   ],
   "source": [
    "%%time\n",
    "model_params = {\n",
    "    'C': 10e4,\n",
    "    'penalty': 'l1',\n",
    "    'random_state': randstate,\n",
    "    'class_weight': 'balanced'\n",
    "}\n",
    "\n",
    "for idx, batch in enumerate(datasplitter):\n",
    "    X_train, y_train, X_test, y_test = batch \n",
    "    y_train = np.argmax(y_train, axis=-1)\n",
    "    y_test = np.argmax(y_test, axis=-1)\n",
    "\n",
    "    clf_lr = LogisticRegression(**model_params)\n",
    "    res = clf_lr.fit(X_train, y_train)\n",
    "\n",
    "    rf_test = clf_lr.predict(X_test)\n",
    "    print('\\n\\nShowing iteration %d', idx)\n",
    "    print('Mean accuracy score: %.3f' % accuracy_score(y_test, rf_test))\n",
    "    print('F1 score:', f1_score(y_test, rf_test))\n",
    "    print('Recall:', recall_score(y_test, rf_test))\n",
    "    print('Precision:', precision_score(y_test, rf_test))\n",
    "    print('\\n clasification report:\\n', classification_report(y_test, rf_test))\n",
    "    print('\\n confusion matrix:\\n',confusion_matrix(y_test, rf_test))\n",
    "\n",
    "    fig = plt.figure()\n",
    "    cm = pd.DataFrame(confusion_matrix(y_test, rf_test), columns=['norm','seiz'], index=['norm','seiz'])\n",
    "    sns.heatmap(cm, annot=True, fmt='g')\n",
    "    ax = plt.gca()\n",
    "    ax.set_title('Random Forest Baseline On Test Data Confusion Matrix')\n",
    "    ax.set_ylabel('True Label')\n",
    "    ax.set_xlabel('Predicted Label')\n",
    "    plt.show()\n",
    "    print(res)"
   ]
  },
  {
   "cell_type": "code",
   "execution_count": null,
   "metadata": {},
   "outputs": [],
   "source": [
    "# %%time\n",
    "# res = clf.fit(X_train, y_train.ravel())\n",
    "# print(res)"
   ]
  },
  {
   "cell_type": "markdown",
   "metadata": {},
   "source": [
    "# 3) Test Models with SKLearn Summarizers"
   ]
  },
  {
   "cell_type": "code",
   "execution_count": null,
   "metadata": {},
   "outputs": [],
   "source": [
    "lr_test = estimator.predict(Xdata)\n",
    "ytrue = ydata\n",
    "\n",
    "print('Out-of-bag score estimate: %.3f' % rf.oob_score_)\n",
    "print('Mean accuracy score: %.3f' % accuracy_score(ytrue, lr_test))\n",
    "print('F1 score:', f1_score(ytrue, lr_test))\n",
    "print('Recall:', recall_score(ytrue, lr_test))\n",
    "print('Precision:', precision_score(ytrue, lr_test))\n",
    "print('\\n clasification report:\\n', classification_report(ytrue, lr_test))\n",
    "print('\\n confusion matrix:\\n',confusion_matrix(ytrue, lr_test))\n",
    "\n",
    "fig = plt.figure()\n",
    "cm = pd.DataFrame(confusion_matrix(ytrue, lr_test), columns=['norm','seiz'], index=['norm','seiz'])\n",
    "sns.heatmap(cm, annot=True, fmt='g')\n",
    "ax = plt.gca()\n",
    "ax.set_title('Logistic Regression Baseline Confusion Matrix')\n",
    "ax.set_ylabel('True Label')\n",
    "ax.set_xlabel('Predicted Label')\n",
    "plt.show()"
   ]
  },
  {
   "cell_type": "code",
   "execution_count": null,
   "metadata": {},
   "outputs": [],
   "source": []
  }
 ],
 "metadata": {
  "kernelspec": {
   "display_name": "dnn",
   "language": "python",
   "name": "dnn"
  },
  "language_info": {
   "codemirror_mode": {
    "name": "ipython",
    "version": 3
   },
   "file_extension": ".py",
   "mimetype": "text/x-python",
   "name": "python",
   "nbconvert_exporter": "python",
   "pygments_lexer": "ipython3",
   "version": "3.6.3"
  }
 },
 "nbformat": 4,
 "nbformat_minor": 2
}
