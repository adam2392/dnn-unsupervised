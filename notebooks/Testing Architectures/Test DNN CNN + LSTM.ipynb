{
 "cells": [
  {
   "cell_type": "markdown",
   "metadata": {},
   "source": [
    "# Testing Architectures of the Neural Networks\n",
    "\n",
    "Using the refactored code within the dnn/models/ directory, we want to go through each model and ensure that the models meet certain standards.\n",
    "\n",
    "*Consider replacing with unit testing*"
   ]
  },
  {
   "cell_type": "code",
   "execution_count": 1,
   "metadata": {},
   "outputs": [
    {
     "name": "stderr",
     "output_type": "stream",
     "text": [
      "/Users/adam2392/Documents/dnn-unsupervised/.venv/lib/python3.6/site-packages/h5py/__init__.py:36: FutureWarning: Conversion of the second argument of issubdtype from `float` to `np.floating` is deprecated. In future, it will be treated as `np.float64 == np.dtype(float).type`.\n",
      "  from ._conv import register_converters as _register_converters\n",
      "Using TensorFlow backend.\n"
     ]
    }
   ],
   "source": [
    "import sys\n",
    "sys.path.append('../../dnn/')\n",
    "from model.nets.ieegcnn import iEEGCNN\n",
    "from model.nets.ieegseq import iEEGSeq\n",
    "import model.train\n",
    "from model.train import traincnn, trainseq\n",
    "\n",
    "import processing.util as util\n",
    "\n",
    "import time\n",
    "import numpy as np\n",
    "# np.random.seed(1234)\n",
    "from functools import reduce\n",
    "import math as m\n",
    "import os\n",
    "\n",
    "# import DNN frameworks\n",
    "import tensorflow as tf\n",
    "import keras\n",
    "\n",
    "# import high level optimizers, models and layers\n",
    "from keras.optimizers import SGD\n",
    "from keras.preprocessing import sequence\n",
    "from keras.layers.embeddings import Embedding\n",
    "\n",
    "# utility for datasets and training\n",
    "# from keras.utils.training_utils import multi_gpu_model\n",
    "from keras.datasets import imdb\n",
    "from keras.preprocessing.image import ImageDataGenerator\n",
    "from keras.callbacks import LearningRateScheduler\n",
    "# imports tensorflow\n",
    "# from keras import backend as K\n",
    "\n",
    "from keras.utils import plot_model\n",
    "from IPython.display import SVG\n",
    "from keras.utils.vis_utils import model_to_dot\n",
    "\n",
    "\n",
    "%load_ext autoreload\n",
    "%autoreload 2"
   ]
  },
  {
   "cell_type": "code",
   "execution_count": 2,
   "metadata": {},
   "outputs": [
    {
     "name": "stdout",
     "output_type": "stream",
     "text": [
      "{'DROPOUT': True,\n",
      " 'filteringsize': (3, 3),\n",
      " 'imsize': 32,\n",
      " 'numchans': 3,\n",
      " 'numclasses': 2,\n",
      " 'numfilters': 32,\n",
      " 'numlayers': (4, 2, 1),\n",
      " 'poolingsize': (2, 2),\n",
      " 'w_init': None}\n",
      "(None, 32, 32, 3)\n",
      "_________________________________________________________________\n",
      "Layer (type)                 Output Shape              Param #   \n",
      "=================================================================\n",
      "input_1 (InputLayer)         (None, 32, 32, 3)         0         \n",
      "_________________________________________________________________\n",
      "conv2d_1 (Conv2D)            (None, 30, 30, 32)        896       \n",
      "_________________________________________________________________\n",
      "conv2d_2 (Conv2D)            (None, 28, 28, 32)        9248      \n",
      "_________________________________________________________________\n",
      "conv2d_3 (Conv2D)            (None, 26, 26, 32)        9248      \n",
      "_________________________________________________________________\n",
      "conv2d_4 (Conv2D)            (None, 24, 24, 32)        9248      \n",
      "_________________________________________________________________\n",
      "max_pooling2d_1 (MaxPooling2 (None, 12, 12, 32)        0         \n",
      "_________________________________________________________________\n",
      "conv2d_5 (Conv2D)            (None, 10, 10, 64)        18496     \n",
      "_________________________________________________________________\n",
      "conv2d_6 (Conv2D)            (None, 8, 8, 64)          36928     \n",
      "_________________________________________________________________\n",
      "max_pooling2d_2 (MaxPooling2 (None, 4, 4, 64)          0         \n",
      "_________________________________________________________________\n",
      "conv2d_7 (Conv2D)            (None, 2, 2, 128)         73856     \n",
      "_________________________________________________________________\n",
      "max_pooling2d_3 (MaxPooling2 (None, 1, 1, 128)         0         \n",
      "=================================================================\n",
      "Total params: 157,920\n",
      "Trainable params: 157,920\n",
      "Non-trainable params: 0\n",
      "_________________________________________________________________\n",
      "None\n"
     ]
    }
   ],
   "source": [
    "imsize=32\n",
    "n_colors =3 \n",
    "num_classes=2\n",
    "modeldim=2\n",
    "DROPOUT=True\n",
    "\n",
    "cnn = iEEGCNN(imsize=imsize,\n",
    "              n_colors=n_colors, \n",
    "              num_classes=num_classes, \n",
    "              modeldim=modeldim, \n",
    "              DROPOUT=DROPOUT)\n",
    "cnn.buildmodel()\n",
    "cnn.summaryinfo()\n",
    "print(cnn.model.input_shape)\n",
    "print(cnn.model.summary())"
   ]
  },
  {
   "cell_type": "code",
   "execution_count": 27,
   "metadata": {},
   "outputs": [
    {
     "name": "stdout",
     "output_type": "stream",
     "text": [
      "(None, 1, 1, 128)\n"
     ]
    },
    {
     "name": "stderr",
     "output_type": "stream",
     "text": [
      "../../dnn/model/nets/ieegseq.py:175: UserWarning: The `Merge` layer is deprecated and will be removed after 08/2017. Use instead layers from `keras.layers.merge`, e.g. `add`, `concatenate`, etc.\n",
      "  self.model.add(Merge(convnets, mode='concat'))\n"
     ]
    },
    {
     "name": "stdout",
     "output_type": "stream",
     "text": [
      "__________________________________________________________________________________________________\n",
      "Layer (type)                    Output Shape         Param #     Connected to                     \n",
      "==================================================================================================\n",
      "input_15 (InputLayer)           (None, 32, 32, 3)    0                                            \n",
      "__________________________________________________________________________________________________\n",
      "conv2d_78 (Conv2D)              (None, 30, 30, 32)   896         input_15[0][0]                   \n",
      "__________________________________________________________________________________________________\n",
      "conv2d_79 (Conv2D)              (None, 28, 28, 32)   9248        conv2d_78[0][0]                  \n",
      "__________________________________________________________________________________________________\n",
      "conv2d_80 (Conv2D)              (None, 26, 26, 32)   9248        conv2d_79[0][0]                  \n",
      "__________________________________________________________________________________________________\n",
      "conv2d_81 (Conv2D)              (None, 24, 24, 32)   9248        conv2d_80[0][0]                  \n",
      "__________________________________________________________________________________________________\n",
      "max_pooling2d_34 (MaxPooling2D) (None, 12, 12, 32)   0           conv2d_81[0][0]                  \n",
      "__________________________________________________________________________________________________\n",
      "conv2d_82 (Conv2D)              (None, 10, 10, 64)   18496       max_pooling2d_34[0][0]           \n",
      "__________________________________________________________________________________________________\n",
      "conv2d_83 (Conv2D)              (None, 8, 8, 64)     36928       conv2d_82[0][0]                  \n",
      "__________________________________________________________________________________________________\n",
      "max_pooling2d_35 (MaxPooling2D) (None, 4, 4, 64)     0           conv2d_83[0][0]                  \n",
      "__________________________________________________________________________________________________\n",
      "conv2d_84 (Conv2D)              (None, 2, 2, 128)    73856       max_pooling2d_35[0][0]           \n",
      "__________________________________________________________________________________________________\n",
      "max_pooling2d_36 (MaxPooling2D) (None, 1, 1, 128)    0           conv2d_84[0][0]                  \n",
      "__________________________________________________________________________________________________\n",
      "flatten_21 (Flatten)            (None, 128)          0           max_pooling2d_36[0][0]           \n",
      "__________________________________________________________________________________________________\n",
      "merge_9 (Merge)                 (None, 640)          0           flatten_21[0][0]                 \n",
      "                                                                 flatten_21[0][0]                 \n",
      "                                                                 flatten_21[0][0]                 \n",
      "                                                                 flatten_21[0][0]                 \n",
      "                                                                 flatten_21[0][0]                 \n",
      "__________________________________________________________________________________________________\n",
      "reshape_8 (Reshape)             (None, 5, 128)       0           merge_9[0][0]                    \n",
      "__________________________________________________________________________________________________\n",
      "permute_8 (Permute)             (None, 128, 5)       0           reshape_8[0][0]                  \n",
      "__________________________________________________________________________________________________\n",
      "conv1d_8 (Conv1D)               (None, 126, 64)      1024        permute_8[0][0]                  \n",
      "__________________________________________________________________________________________________\n",
      "lstm_8 (LSTM)                   (None, 128)          131584      reshape_8[0][0]                  \n",
      "__________________________________________________________________________________________________\n",
      "flatten_22 (Flatten)            (None, 8064)         0           conv1d_8[0][0]                   \n",
      "__________________________________________________________________________________________________\n",
      "concatenate_10 (Concatenate)    (None, 8192)         0           lstm_8[0][0]                     \n",
      "                                                                 flatten_22[0][0]                 \n",
      "__________________________________________________________________________________________________\n",
      "dense_4 (Dense)                 (None, 1024)         8389632     concatenate_10[0][0]             \n",
      "__________________________________________________________________________________________________\n",
      "dropout_4 (Dropout)             (None, 1024)         0           dense_4[0][0]                    \n",
      "__________________________________________________________________________________________________\n",
      "dense_5 (Dense)                 (None, 2)            2050        dropout_4[0][0]                  \n",
      "__________________________________________________________________________________________________\n",
      "dropout_5 (Dropout)             (None, 2)            0           dense_5[0][0]                    \n",
      "==================================================================================================\n",
      "Total params: 8,682,210\n",
      "Trainable params: 8,682,210\n",
      "Non-trainable params: 0\n",
      "__________________________________________________________________________________________________\n"
     ]
    }
   ],
   "source": [
    "name = 'MIX'\n",
    "num_classes=2\n",
    "num_timewins=5\n",
    "DROPOUT=True\n",
    "BIDIRECT=False\n",
    "cnnseq = iEEGSeq(name=name,\n",
    "                num_classes=num_classes,\n",
    "                num_timewins=num_timewins,\n",
    "                DROPOUT=DROPOUT,\n",
    "                BIDIRECT=BIDIRECT)\n",
    "print(cnn.model.output_shape)\n",
    "cnnseq.buildmodel(cnn.model)\n",
    "cnnseq.buildoutput()\n",
    "cnnseq.model.summary()"
   ]
  },
  {
   "cell_type": "markdown",
   "metadata": {},
   "source": [
    "# Show Code For Training Setup"
   ]
  },
  {
   "cell_type": "code",
   "execution_count": 3,
   "metadata": {},
   "outputs": [],
   "source": [
    "dnnmodel = cnn.model\n",
    "batch_size = 32\n",
    "NUM_EPOCHS = 100\n",
    "AUGMENT = True\n",
    "cnn_trainer = traincnn.TrainCNN(dnnmodel, batch_size, NUM_EPOCHS, AUGMENT)"
   ]
  },
  {
   "cell_type": "code",
   "execution_count": 4,
   "metadata": {},
   "outputs": [
    {
     "name": "stdout",
     "output_type": "stream",
     "text": [
      "{'augment': True, 'batch_size': 32, 'epochs': 100}\n"
     ]
    }
   ],
   "source": [
    "cnn_trainer.summaryinfo()"
   ]
  },
  {
   "cell_type": "code",
   "execution_count": 11,
   "metadata": {},
   "outputs": [],
   "source": [
    "# configure and initialize generator\n",
    "tempdatadir = './test'\n",
    "pattraindir = './test'\n",
    "# list of patients to train on\n",
    "listofpats_train = [\n",
    "                'id001',\n",
    "                'id002', \n",
    "                'id008', \n",
    "                'id010', \n",
    "                'id011', \n",
    "                'id012', \n",
    "                'id013'\n",
    "            ]\n",
    "\n",
    "cnn_trainer.configure(tempdatadir)\n",
    "cnn_trainer.loadgenerator()\n",
    "cnn_trainer.loaddirofdata(pattraindir, listofpats_train, LOAD=True)\n",
    "# cnn_trainer.loaddata(datafile, imsize, n_colors)"
   ]
  },
  {
   "cell_type": "code",
   "execution_count": 15,
   "metadata": {},
   "outputs": [
    {
     "name": "stdout",
     "output_type": "stream",
     "text": [
      "hiseq.py\n",
      "byeseq\n",
      "catdog\n"
     ]
    }
   ],
   "source": [
    "testlist = ['hi', 'bye', 'dog']\n",
    "\n",
    "test = ['hiseq.py', 'dabg', 'byeseq', 'cat', 'catdog']\n",
    "\n",
    "for item in test:\n",
    "    if any(x in item for x in testlist):\n",
    "        print(item)"
   ]
  },
  {
   "cell_type": "code",
   "execution_count": null,
   "metadata": {},
   "outputs": [],
   "source": []
  }
 ],
 "metadata": {
  "kernelspec": {
   "display_name": "dnn",
   "language": "python",
   "name": "dnn"
  },
  "language_info": {
   "codemirror_mode": {
    "name": "ipython",
    "version": 3
   },
   "file_extension": ".py",
   "mimetype": "text/x-python",
   "name": "python",
   "nbconvert_exporter": "python",
   "pygments_lexer": "ipython3",
   "version": "3.6.3"
  }
 },
 "nbformat": 4,
 "nbformat_minor": 2
}
