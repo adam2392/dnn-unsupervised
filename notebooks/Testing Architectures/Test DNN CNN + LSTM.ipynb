{
 "cells": [
  {
   "cell_type": "markdown",
   "metadata": {},
   "source": [
    "# Testing Architectures of the Neural Networks\n",
    "\n",
    "Using the refactored code within the dnn/models/ directory, we want to go through each model and ensure that the models meet certain standards.\n",
    "\n",
    "*Consider replacing with unit testing*"
   ]
  },
  {
   "cell_type": "code",
   "execution_count": 1,
   "metadata": {},
   "outputs": [
    {
     "name": "stderr",
     "output_type": "stream",
     "text": [
      "/Users/adam2392/Documents/dnn-unsupervised/.venv/lib/python3.6/site-packages/h5py/__init__.py:36: FutureWarning: Conversion of the second argument of issubdtype from `float` to `np.floating` is deprecated. In future, it will be treated as `np.float64 == np.dtype(float).type`.\n",
      "  from ._conv import register_converters as _register_converters\n",
      "Using TensorFlow backend.\n"
     ]
    }
   ],
   "source": [
    "import sys\n",
    "sys.path.append('../../dnn/')\n",
    "from model.nets.ieegcnn import iEEGCNN\n",
    "from model.nets.ieegseq import iEEGSeq\n",
    "import model.train\n",
    "from model.train import traincnn, trainseq\n",
    "\n",
    "import processing.util as util\n",
    "\n",
    "import time\n",
    "import numpy as np\n",
    "# np.random.seed(1234)\n",
    "from functools import reduce\n",
    "import math as m\n",
    "import os\n",
    "\n",
    "# import DNN frameworks\n",
    "import tensorflow as tf\n",
    "import keras\n",
    "\n",
    "# import high level optimizers, models and layers\n",
    "from keras.optimizers import SGD\n",
    "from keras.preprocessing import sequence\n",
    "from keras.layers.embeddings import Embedding\n",
    "\n",
    "# utility for datasets and training\n",
    "# from keras.utils.training_utils import multi_gpu_model\n",
    "from keras.datasets import imdb\n",
    "from keras.preprocessing.image import ImageDataGenerator\n",
    "from keras.callbacks import LearningRateScheduler\n",
    "# imports tensorflow\n",
    "# from keras import backend as K\n",
    "\n",
    "from keras.utils import plot_model\n",
    "from IPython.display import SVG\n",
    "from keras.utils.vis_utils import model_to_dot\n",
    "\n",
    "\n",
    "%load_ext autoreload\n",
    "%autoreload 2"
   ]
  },
  {
   "cell_type": "code",
   "execution_count": 2,
   "metadata": {},
   "outputs": [
    {
     "name": "stdout",
     "output_type": "stream",
     "text": [
      "{'DROPOUT': True,\n",
      " 'filteringsize': (3, 3),\n",
      " 'imsize': 32,\n",
      " 'numchans': 3,\n",
      " 'numclasses': 2,\n",
      " 'numfilters': 32,\n",
      " 'numlayers': (4, 2, 1),\n",
      " 'poolingsize': (2, 2),\n",
      " 'w_init': None}\n",
      "(None, 32, 32, 3)\n",
      "_________________________________________________________________\n",
      "Layer (type)                 Output Shape              Param #   \n",
      "=================================================================\n",
      "input_1 (InputLayer)         (None, 32, 32, 3)         0         \n",
      "_________________________________________________________________\n",
      "conv2d_1 (Conv2D)            (None, 30, 30, 32)        896       \n",
      "_________________________________________________________________\n",
      "conv2d_2 (Conv2D)            (None, 28, 28, 32)        9248      \n",
      "_________________________________________________________________\n",
      "conv2d_3 (Conv2D)            (None, 26, 26, 32)        9248      \n",
      "_________________________________________________________________\n",
      "conv2d_4 (Conv2D)            (None, 24, 24, 32)        9248      \n",
      "_________________________________________________________________\n",
      "max_pooling2d_1 (MaxPooling2 (None, 12, 12, 32)        0         \n",
      "_________________________________________________________________\n",
      "conv2d_5 (Conv2D)            (None, 10, 10, 64)        18496     \n",
      "_________________________________________________________________\n",
      "conv2d_6 (Conv2D)            (None, 8, 8, 64)          36928     \n",
      "_________________________________________________________________\n",
      "max_pooling2d_2 (MaxPooling2 (None, 4, 4, 64)          0         \n",
      "_________________________________________________________________\n",
      "conv2d_7 (Conv2D)            (None, 2, 2, 128)         73856     \n",
      "_________________________________________________________________\n",
      "max_pooling2d_3 (MaxPooling2 (None, 1, 1, 128)         0         \n",
      "=================================================================\n",
      "Total params: 157,920\n",
      "Trainable params: 157,920\n",
      "Non-trainable params: 0\n",
      "_________________________________________________________________\n",
      "None\n"
     ]
    }
   ],
   "source": [
    "imsize=32\n",
    "n_colors =3 \n",
    "num_classes=2\n",
    "modeldim=2\n",
    "DROPOUT=True\n",
    "\n",
    "cnn = iEEGCNN(imsize=imsize,\n",
    "              n_colors=n_colors, \n",
    "              num_classes=num_classes, \n",
    "              modeldim=modeldim, \n",
    "              DROPOUT=DROPOUT)\n",
    "cnn.buildmodel()\n",
    "cnn.summaryinfo()\n",
    "print(cnn.model.input_shape)\n",
    "print(cnn.model.summary())"
   ]
  },
  {
   "cell_type": "markdown",
   "metadata": {},
   "source": [
    "# Show Code For Training Setup of CNN"
   ]
  },
  {
   "cell_type": "code",
   "execution_count": 3,
   "metadata": {},
   "outputs": [],
   "source": [
    "dnnmodel = cnn.model\n",
    "batch_size = 32\n",
    "NUM_EPOCHS = 100\n",
    "AUGMENT = True\n",
    "cnn_trainer = traincnn.TrainCNN(dnnmodel, batch_size, NUM_EPOCHS, AUGMENT)"
   ]
  },
  {
   "cell_type": "code",
   "execution_count": 4,
   "metadata": {},
   "outputs": [
    {
     "name": "stdout",
     "output_type": "stream",
     "text": [
      "{'augment': True, 'batch_size': 32, 'epochs': 100}\n"
     ]
    }
   ],
   "source": [
    "cnn_trainer.summaryinfo()"
   ]
  },
  {
   "cell_type": "code",
   "execution_count": 11,
   "metadata": {},
   "outputs": [],
   "source": [
    "# configure and initialize generator\n",
    "tempdatadir = './test'\n",
    "pattraindir = './test'\n",
    "# list of patients to train on\n",
    "listofpats_train = [\n",
    "                'id001',\n",
    "                'id002', \n",
    "                'id008', \n",
    "                'id010', \n",
    "                'id011', \n",
    "                'id012', \n",
    "                'id013'\n",
    "            ]\n",
    "\n",
    "cnn_trainer.configure(tempdatadir)\n",
    "cnn_trainer.loadgenerator()\n",
    "cnn_trainer.loaddirofdata(pattraindir, listofpats_train, LOAD=True)\n",
    "# cnn_trainer.loaddata(datafile, imsize, n_colors)"
   ]
  },
  {
   "cell_type": "code",
   "execution_count": 15,
   "metadata": {},
   "outputs": [
    {
     "name": "stdout",
     "output_type": "stream",
     "text": [
      "hiseq.py\n",
      "byeseq\n",
      "catdog\n"
     ]
    }
   ],
   "source": [
    "testlist = ['hi', 'bye', 'dog']\n",
    "\n",
    "test = ['hiseq.py', 'dabg', 'byeseq', 'cat', 'catdog']\n",
    "\n",
    "for item in test:\n",
    "    if any(x in item for x in testlist):\n",
    "        print(item)"
   ]
  },
  {
   "cell_type": "markdown",
   "metadata": {},
   "source": [
    "# Show Code For Training Setup of CNN-LSTM"
   ]
  },
  {
   "cell_type": "code",
   "execution_count": 55,
   "metadata": {},
   "outputs": [
    {
     "name": "stdout",
     "output_type": "stream",
     "text": [
      "_________________________________________________________________\n",
      "Layer (type)                 Output Shape              Param #   \n",
      "=================================================================\n",
      "input_1 (InputLayer)         (None, 32, 32, 4)         0         \n",
      "_________________________________________________________________\n",
      "conv2d_1 (Conv2D)            (None, 30, 30, 32)        1184      \n",
      "_________________________________________________________________\n",
      "conv2d_2 (Conv2D)            (None, 28, 28, 32)        9248      \n",
      "_________________________________________________________________\n",
      "conv2d_3 (Conv2D)            (None, 26, 26, 32)        9248      \n",
      "_________________________________________________________________\n",
      "conv2d_4 (Conv2D)            (None, 24, 24, 32)        9248      \n",
      "_________________________________________________________________\n",
      "max_pooling2d_1 (MaxPooling2 (None, 12, 12, 32)        0         \n",
      "_________________________________________________________________\n",
      "conv2d_5 (Conv2D)            (None, 10, 10, 64)        18496     \n",
      "_________________________________________________________________\n",
      "conv2d_6 (Conv2D)            (None, 8, 8, 64)          36928     \n",
      "_________________________________________________________________\n",
      "max_pooling2d_2 (MaxPooling2 (None, 4, 4, 64)          0         \n",
      "_________________________________________________________________\n",
      "conv2d_7 (Conv2D)            (None, 2, 2, 128)         73856     \n",
      "_________________________________________________________________\n",
      "max_pooling2d_3 (MaxPooling2 (None, 1, 1, 128)         0         \n",
      "_________________________________________________________________\n",
      "flatten_1 (Flatten)          (None, 128)               0         \n",
      "=================================================================\n",
      "Total params: 158,208\n",
      "Trainable params: 0\n",
      "Non-trainable params: 158,208\n",
      "_________________________________________________________________\n",
      "None\n",
      "(None, 128)\n"
     ]
    }
   ],
   "source": [
    "finaldir = '/Volumes/ADAM LI/pydata/dnn/output/train_v6/'\n",
    "weightsfile = os.path.join(finaldir, 'final_weights.h5')\n",
    "modelfile = os.path.join(finaldir, '2dcnn_model.json')\n",
    "\n",
    "# initialize loss function, SGD optimizer and metrics\n",
    "loss = 'binary_crossentropy'\n",
    "optimizer = keras.optimizers.Adam(lr=1e-4, \n",
    "                                beta_1=0.9, \n",
    "                                beta_2=0.999,\n",
    "                                epsilon=1e-08,\n",
    "                                decay=0.0)\n",
    "metrics = ['accuracy']\n",
    "\n",
    "# load json and create model\n",
    "json_file = open(modelfile, 'r')\n",
    "loaded_model_json = json_file.read()\n",
    "json_file.close()\n",
    "\n",
    "# fixed_cnn_model = ieegdnn.load_model(weightsfile, freeze=True)\n",
    "fixed_cnn_model = keras.models.model_from_json(loaded_model_json)\n",
    "fixed_cnn_model.load_weights(weightsfile)\n",
    "\n",
    "# remove the last 2 dense FC layers and freeze it\n",
    "fixed_cnn_model.pop()\n",
    "fixed_cnn_model.pop()\n",
    "fixed_cnn_model.pop()\n",
    "fixed_cnn_model.pop()\n",
    "# fixed_cnn_model.pop()\n",
    "fixed_cnn_model.trainable = False\n",
    "# modelconfig = fixed_cnn_model.compile(loss=loss, \n",
    "#                                         optimizer=optimizer,\n",
    "#                                         metrics=metrics)\n",
    "# fixed_cnn_model.add(keras.layers.Flatten())\n",
    "# fixed_cnn_model.add(keras.layers.Dense(units=10000, activation='relu'))\n",
    "\n",
    "print(fixed_cnn_model.summary())\n",
    "print(fixed_cnn_model.output_shape)"
   ]
  },
  {
   "cell_type": "code",
   "execution_count": 44,
   "metadata": {},
   "outputs": [
    {
     "ename": "ValueError",
     "evalue": "Input 0 is incompatible with layer flatten_21: expected min_ndim=3, found ndim=2",
     "output_type": "error",
     "traceback": [
      "\u001b[0;31m---------------------------------------------------------------------------\u001b[0m",
      "\u001b[0;31mValueError\u001b[0m                                Traceback (most recent call last)",
      "\u001b[0;32m<ipython-input-44-dcbc7647f7f9>\u001b[0m in \u001b[0;36m<module>\u001b[0;34m()\u001b[0m\n\u001b[1;32m     29\u001b[0m                 \u001b[0mDROPOUT\u001b[0m\u001b[0;34m=\u001b[0m\u001b[0mDROPOUT\u001b[0m\u001b[0;34m,\u001b[0m\u001b[0;34m\u001b[0m\u001b[0m\n\u001b[1;32m     30\u001b[0m                 BIDIRECT=BIDIRECT)\n\u001b[0;32m---> 31\u001b[0;31m \u001b[0mcnnseq\u001b[0m\u001b[0;34m.\u001b[0m\u001b[0mbuildmodel\u001b[0m\u001b[0;34m(\u001b[0m\u001b[0mfixed_cnn_model\u001b[0m\u001b[0;34m)\u001b[0m\u001b[0;34m\u001b[0m\u001b[0m\n\u001b[0m\u001b[1;32m     32\u001b[0m \u001b[0mcnnseq\u001b[0m\u001b[0;34m.\u001b[0m\u001b[0mbuildoutput\u001b[0m\u001b[0;34m(\u001b[0m\u001b[0;34m)\u001b[0m\u001b[0;34m\u001b[0m\u001b[0m\n\u001b[1;32m     33\u001b[0m \u001b[0mconfig\u001b[0m \u001b[0;34m=\u001b[0m \u001b[0mcnnseq\u001b[0m\u001b[0;34m.\u001b[0m\u001b[0mmodel\u001b[0m\u001b[0;34m.\u001b[0m\u001b[0mcompile\u001b[0m\u001b[0;34m(\u001b[0m\u001b[0moptimizer\u001b[0m\u001b[0;34m=\u001b[0m\u001b[0moptimizer\u001b[0m\u001b[0;34m,\u001b[0m \u001b[0mloss\u001b[0m\u001b[0;34m=\u001b[0m\u001b[0;34m'binary_crossentropy'\u001b[0m\u001b[0;34m,\u001b[0m \u001b[0mmetrics\u001b[0m\u001b[0;34m=\u001b[0m\u001b[0;34m[\u001b[0m\u001b[0;34m'accuracy'\u001b[0m\u001b[0;34m]\u001b[0m\u001b[0;34m)\u001b[0m\u001b[0;34m\u001b[0m\u001b[0m\n",
      "\u001b[0;32m~/Documents/dnn-unsupervised/dnn/model/nets/ieegseq.py\u001b[0m in \u001b[0;36mbuildmodel\u001b[0;34m(self, convnet)\u001b[0m\n\u001b[1;32m     77\u001b[0m         \u001b[0;31m# self.model = convnet\u001b[0m\u001b[0;34m\u001b[0m\u001b[0;34m\u001b[0m\u001b[0m\n\u001b[1;32m     78\u001b[0m         \u001b[0;32mif\u001b[0m \u001b[0mself\u001b[0m\u001b[0;34m.\u001b[0m\u001b[0mname\u001b[0m \u001b[0;34m==\u001b[0m \u001b[0;34m'SAME'\u001b[0m\u001b[0;34m:\u001b[0m\u001b[0;34m\u001b[0m\u001b[0m\n\u001b[0;32m---> 79\u001b[0;31m             \u001b[0mself\u001b[0m\u001b[0;34m.\u001b[0m\u001b[0m_build_same_cnn_lstm\u001b[0m\u001b[0;34m(\u001b[0m\u001b[0mconvnet\u001b[0m\u001b[0;34m,\u001b[0m \u001b[0mnum_timewins\u001b[0m\u001b[0;34m=\u001b[0m\u001b[0mnum_timewins\u001b[0m\u001b[0;34m,\u001b[0m \u001b[0msize_mem\u001b[0m\u001b[0;34m=\u001b[0m\u001b[0msize_mem\u001b[0m\u001b[0;34m,\u001b[0m \u001b[0mBIDIRECT\u001b[0m\u001b[0;34m=\u001b[0m\u001b[0mself\u001b[0m\u001b[0;34m.\u001b[0m\u001b[0mBIDIRECT\u001b[0m\u001b[0;34m)\u001b[0m\u001b[0;34m\u001b[0m\u001b[0m\n\u001b[0m\u001b[1;32m     80\u001b[0m         \u001b[0;32melif\u001b[0m \u001b[0mself\u001b[0m\u001b[0;34m.\u001b[0m\u001b[0mname\u001b[0m \u001b[0;34m==\u001b[0m \u001b[0;34m'CNNLSTM'\u001b[0m\u001b[0;34m:\u001b[0m\u001b[0;34m\u001b[0m\u001b[0m\n\u001b[1;32m     81\u001b[0m             \u001b[0mself\u001b[0m\u001b[0;34m.\u001b[0m\u001b[0m_build_cnn_lstm\u001b[0m\u001b[0;34m(\u001b[0m\u001b[0mconvnet\u001b[0m\u001b[0;34m,\u001b[0m \u001b[0mnum_timewins\u001b[0m\u001b[0;34m=\u001b[0m\u001b[0mnum_timewins\u001b[0m\u001b[0;34m,\u001b[0m \u001b[0msize_mem\u001b[0m\u001b[0;34m=\u001b[0m\u001b[0msize_mem\u001b[0m\u001b[0;34m,\u001b[0m \u001b[0mBIDIRECT\u001b[0m\u001b[0;34m=\u001b[0m\u001b[0mself\u001b[0m\u001b[0;34m.\u001b[0m\u001b[0mBIDIRECT\u001b[0m\u001b[0;34m)\u001b[0m\u001b[0;34m\u001b[0m\u001b[0m\n",
      "\u001b[0;32m~/Documents/dnn-unsupervised/dnn/model/nets/ieegseq.py\u001b[0m in \u001b[0;36m_build_same_cnn_lstm\u001b[0;34m(self, convnet, num_timewins, size_mem, BIDIRECT)\u001b[0m\n\u001b[1;32m    117\u001b[0m \u001b[0;34m\u001b[0m\u001b[0m\n\u001b[1;32m    118\u001b[0m         \u001b[0;31m# flatten layer from single CNN (e.g. model.output_shape == (None, 64, 32, 32) -> (None, 65536))\u001b[0m\u001b[0;34m\u001b[0m\u001b[0;34m\u001b[0m\u001b[0m\n\u001b[0;32m--> 119\u001b[0;31m         \u001b[0mconvnet\u001b[0m\u001b[0;34m.\u001b[0m\u001b[0madd\u001b[0m\u001b[0;34m(\u001b[0m\u001b[0mFlatten\u001b[0m\u001b[0;34m(\u001b[0m\u001b[0;34m)\u001b[0m\u001b[0;34m)\u001b[0m\u001b[0;34m\u001b[0m\u001b[0m\n\u001b[0m\u001b[1;32m    120\u001b[0m         \u001b[0mcnn_output_shape\u001b[0m \u001b[0;34m=\u001b[0m \u001b[0mconvnet\u001b[0m\u001b[0;34m.\u001b[0m\u001b[0moutput_shape\u001b[0m\u001b[0;34m[\u001b[0m\u001b[0;36m1\u001b[0m\u001b[0;34m]\u001b[0m \u001b[0;31m# store the output shape (total number of features)\u001b[0m\u001b[0;34m\u001b[0m\u001b[0m\n\u001b[1;32m    121\u001b[0m         \u001b[0mcnn_input_shape\u001b[0m \u001b[0;34m=\u001b[0m \u001b[0mtuple\u001b[0m\u001b[0;34m(\u001b[0m\u001b[0mlist\u001b[0m\u001b[0;34m(\u001b[0m\u001b[0mconvnet\u001b[0m\u001b[0;34m.\u001b[0m\u001b[0minput_shape\u001b[0m\u001b[0;34m)\u001b[0m\u001b[0;34m[\u001b[0m\u001b[0;36m1\u001b[0m\u001b[0;34m:\u001b[0m\u001b[0;34m]\u001b[0m\u001b[0;34m)\u001b[0m\u001b[0;34m\u001b[0m\u001b[0m\n",
      "\u001b[0;32m~/Documents/dnn-unsupervised/.venv/lib/python3.6/site-packages/keras/models.py\u001b[0m in \u001b[0;36madd\u001b[0;34m(self, layer)\u001b[0m\n\u001b[1;32m    490\u001b[0m                           output_shapes=[self.outputs[0]._keras_shape])\n\u001b[1;32m    491\u001b[0m         \u001b[0;32melse\u001b[0m\u001b[0;34m:\u001b[0m\u001b[0;34m\u001b[0m\u001b[0m\n\u001b[0;32m--> 492\u001b[0;31m             \u001b[0moutput_tensor\u001b[0m \u001b[0;34m=\u001b[0m \u001b[0mlayer\u001b[0m\u001b[0;34m(\u001b[0m\u001b[0mself\u001b[0m\u001b[0;34m.\u001b[0m\u001b[0moutputs\u001b[0m\u001b[0;34m[\u001b[0m\u001b[0;36m0\u001b[0m\u001b[0;34m]\u001b[0m\u001b[0;34m)\u001b[0m\u001b[0;34m\u001b[0m\u001b[0m\n\u001b[0m\u001b[1;32m    493\u001b[0m             \u001b[0;32mif\u001b[0m \u001b[0misinstance\u001b[0m\u001b[0;34m(\u001b[0m\u001b[0moutput_tensor\u001b[0m\u001b[0;34m,\u001b[0m \u001b[0mlist\u001b[0m\u001b[0;34m)\u001b[0m\u001b[0;34m:\u001b[0m\u001b[0;34m\u001b[0m\u001b[0m\n\u001b[1;32m    494\u001b[0m                 raise TypeError('All layers in a Sequential model '\n",
      "\u001b[0;32m~/Documents/dnn-unsupervised/.venv/lib/python3.6/site-packages/keras/engine/topology.py\u001b[0m in \u001b[0;36m__call__\u001b[0;34m(self, inputs, **kwargs)\u001b[0m\n\u001b[1;32m    571\u001b[0m                 \u001b[0;31m# Raise exceptions in case the input is not compatible\u001b[0m\u001b[0;34m\u001b[0m\u001b[0;34m\u001b[0m\u001b[0m\n\u001b[1;32m    572\u001b[0m                 \u001b[0;31m# with the input_spec specified in the layer constructor.\u001b[0m\u001b[0;34m\u001b[0m\u001b[0;34m\u001b[0m\u001b[0m\n\u001b[0;32m--> 573\u001b[0;31m                 \u001b[0mself\u001b[0m\u001b[0;34m.\u001b[0m\u001b[0massert_input_compatibility\u001b[0m\u001b[0;34m(\u001b[0m\u001b[0minputs\u001b[0m\u001b[0;34m)\u001b[0m\u001b[0;34m\u001b[0m\u001b[0m\n\u001b[0m\u001b[1;32m    574\u001b[0m \u001b[0;34m\u001b[0m\u001b[0m\n\u001b[1;32m    575\u001b[0m                 \u001b[0;31m# Collect input shapes to build layer.\u001b[0m\u001b[0;34m\u001b[0m\u001b[0;34m\u001b[0m\u001b[0m\n",
      "\u001b[0;32m~/Documents/dnn-unsupervised/.venv/lib/python3.6/site-packages/keras/engine/topology.py\u001b[0m in \u001b[0;36massert_input_compatibility\u001b[0;34m(self, inputs)\u001b[0m\n\u001b[1;32m    486\u001b[0m                                      \u001b[0mself\u001b[0m\u001b[0;34m.\u001b[0m\u001b[0mname\u001b[0m \u001b[0;34m+\u001b[0m \u001b[0;34m': expected min_ndim='\u001b[0m \u001b[0;34m+\u001b[0m\u001b[0;34m\u001b[0m\u001b[0m\n\u001b[1;32m    487\u001b[0m                                      \u001b[0mstr\u001b[0m\u001b[0;34m(\u001b[0m\u001b[0mspec\u001b[0m\u001b[0;34m.\u001b[0m\u001b[0mmin_ndim\u001b[0m\u001b[0;34m)\u001b[0m \u001b[0;34m+\u001b[0m \u001b[0;34m', found ndim='\u001b[0m \u001b[0;34m+\u001b[0m\u001b[0;34m\u001b[0m\u001b[0m\n\u001b[0;32m--> 488\u001b[0;31m                                      str(K.ndim(x)))\n\u001b[0m\u001b[1;32m    489\u001b[0m             \u001b[0;31m# Check dtype.\u001b[0m\u001b[0;34m\u001b[0m\u001b[0;34m\u001b[0m\u001b[0m\n\u001b[1;32m    490\u001b[0m             \u001b[0;32mif\u001b[0m \u001b[0mspec\u001b[0m\u001b[0;34m.\u001b[0m\u001b[0mdtype\u001b[0m \u001b[0;32mis\u001b[0m \u001b[0;32mnot\u001b[0m \u001b[0;32mNone\u001b[0m\u001b[0;34m:\u001b[0m\u001b[0;34m\u001b[0m\u001b[0m\n",
      "\u001b[0;31mValueError\u001b[0m: Input 0 is incompatible with layer flatten_21: expected min_ndim=3, found ndim=2"
     ]
    }
   ],
   "source": [
    "imsize=32\n",
    "n_colors =4\n",
    "num_classes=2\n",
    "modeldim=2\n",
    "DROPOUT=True\n",
    "\n",
    "# cnn = iEEGCNN(imsize=imsize,\n",
    "#               n_colors=n_colors, \n",
    "#               num_classes=num_classes, \n",
    "#               modeldim=modeldim, \n",
    "#               DROPOUT=DROPOUT)\n",
    "# cnn.buildmodel()\n",
    "# cnn.summaryinfo()\n",
    "\n",
    "# print(\"EACH CNN MODEL INPUT IS: \", cnn.model.input_shape)\n",
    "# cnn.model.trainable = False\n",
    "# cnn.configure()\n",
    "# fixed_cnn_model = cnn.model\n",
    "\n",
    "name = 'MIX'\n",
    "name = 'SAME'\n",
    "num_classes=2\n",
    "num_timewins=5\n",
    "DROPOUT=True\n",
    "BIDIRECT=False\n",
    "cnnseq = iEEGSeq(name=name,\n",
    "                num_classes=num_classes,\n",
    "                num_timewins=num_timewins,\n",
    "                DROPOUT=DROPOUT,\n",
    "                BIDIRECT=BIDIRECT)\n",
    "cnnseq.buildmodel(fixed_cnn_model)\n",
    "cnnseq.buildoutput()\n",
    "config = cnnseq.model.compile(optimizer=optimizer, loss='binary_crossentropy', metrics=['accuracy']) \n",
    "convtest = cnnseq.model\n",
    "print(convtest.summary())\n",
    "\n",
    "# cnnseq.model.trainable_weights = False\n",
    "# cnnseq.configure()\n",
    "# cnnseq.model.summary()\n"
   ]
  },
  {
   "cell_type": "code",
   "execution_count": 56,
   "metadata": {},
   "outputs": [
    {
     "name": "stdout",
     "output_type": "stream",
     "text": [
      "_________________________________________________________________\n",
      "Layer (type)                 Output Shape              Param #   \n",
      "=================================================================\n",
      "time_distributed_14_input (I (None, 5, 32, 32, 4)      0         \n",
      "_________________________________________________________________\n",
      "time_distributed_14 (TimeDis (None, 5, 128)            158208    \n",
      "_________________________________________________________________\n",
      "lstm_13 (LSTM)               (None, 100)               91600     \n",
      "_________________________________________________________________\n",
      "dense_33 (Dense)             (None, 1000)              101000    \n",
      "_________________________________________________________________\n",
      "dense_34 (Dense)             (None, 2)                 2002      \n",
      "=================================================================\n",
      "Total params: 352,810\n",
      "Trainable params: 352,810\n",
      "Non-trainable params: 0\n",
      "_________________________________________________________________\n",
      "None\n",
      "(None, 5, 32, 32, 4)\n",
      "(None, 2)\n"
     ]
    }
   ],
   "source": [
    "from keras import Model\n",
    "from keras.layers import TimeDistributed, Dense, Dropout, Flatten, LSTM\n",
    "size_mem = 100\n",
    "size_fc = 1000\n",
    "# create sequential model to get this all before the LSTM\n",
    "currmodel = keras.models.Sequential()\n",
    "currmodel.add(TimeDistributed(fixed_cnn_model, input_shape=(num_timewins, imsize, imsize, n_colors)))\n",
    "currmodel.add(LSTM(units=size_mem, \n",
    "            activation='relu', \n",
    "            return_sequences=False))\n",
    "# currmodel.add(Flatten())\n",
    "currmodel.add(Dense(size_fc, activation='relu'))\n",
    "currmodel.add(Dense(num_classes, activation='softmax'))\n",
    "\n",
    "currmodel = Model(inputs=currmodel.input, outputs = currmodel.output)\n",
    "config = currmodel.compile(optimizer, loss='binary_crossentropy', metrics=['accuracy']) \n",
    "print(currmodel.summary())\n",
    "print(currmodel.input_shape)\n",
    "print(currmodel.output_shape)"
   ]
  },
  {
   "cell_type": "code",
   "execution_count": null,
   "metadata": {},
   "outputs": [],
   "source": []
  }
 ],
 "metadata": {
  "kernelspec": {
   "display_name": "dnn",
   "language": "python",
   "name": "dnn"
  },
  "language_info": {
   "codemirror_mode": {
    "name": "ipython",
    "version": 3
   },
   "file_extension": ".py",
   "mimetype": "text/x-python",
   "name": "python",
   "nbconvert_exporter": "python",
   "pygments_lexer": "ipython3",
   "version": "3.6.3"
  }
 },
 "nbformat": 4,
 "nbformat_minor": 2
}
