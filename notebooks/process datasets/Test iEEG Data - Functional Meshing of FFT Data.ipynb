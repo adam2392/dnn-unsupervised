{
 "cells": [
  {
   "cell_type": "code",
   "execution_count": 1,
   "metadata": {},
   "outputs": [],
   "source": [
    "import sys\n",
    "import os\n",
    "sys.path.append('/Users/adam2392/Documents/tvb/')\n",
    "# sys.path.append('/Users/adam2392/Documents/tvb/_tvbdata/')\n",
    "# sys.path.append('/Users/adam2392/Documents/tvb/_tvblibrary/')\n",
    "# from tvb.simulator.lab import *\n",
    "import numpy as np\n",
    "import pandas as pd\n",
    "import scipy\n",
    "from sklearn import cluster\n",
    "import tvbsim\n",
    "\n",
    "import processing.util as util\n",
    "import processing.preprocessfft as preprocess\n",
    "\n",
    "from natsort import natsorted\n",
    "\n",
    "import tvbsim.util\n",
    "\n",
    "%load_ext autoreload\n",
    "%autoreload 2\n",
    "\n",
    "import ntpath\n",
    "def path_leaf(path):\n",
    "    head, tail = ntpath.split(path)\n",
    "    return tail or ntpath.basename(head)\n",
    "\n",
    "def _gettimepoints(numsignals, numwinsamps, numstepsamps):\n",
    "    # create array of indices of window start times\n",
    "    timestarts = np.arange(0, numsignals-numwinsamps+1, numstepsamps)\n",
    "    # create array of indices of window end times\n",
    "    timeends = np.arange(numwinsamps-1, numsignals, numstepsamps)\n",
    "    # create the timepoints array for entire data array\n",
    "    timepoints = np.append(timestarts.reshape(len(timestarts), 1), timeends.reshape(len(timestarts), 1), axis=1)\n",
    "    return timepoints"
   ]
  },
  {
   "cell_type": "code",
   "execution_count": 4,
   "metadata": {},
   "outputs": [
    {
     "name": "stdout",
     "output_type": "stream",
     "text": [
      "Moving contacts:  1\n",
      "['.DS_Store', '._.DS_Store', 'varydistance', 'final_dataset']\n",
      "['/Volumes/ADAM LI/pydata/output/frequencyanalysis/varydistance/id001_ac_sim_nez1_npz1_dist4_fftmodel.npz', '/Volumes/ADAM LI/pydata/output/frequencyanalysis/varydistance/id001_ac_sim_nez1_npz1_dist3_fftmodel.npz', '/Volumes/ADAM LI/pydata/output/frequencyanalysis/varydistance/id001_ac_sim_nez1_npz1_dist2_fftmodel.npz', '/Volumes/ADAM LI/pydata/output/frequencyanalysis/varydistance/id001_ac_sim_nez1_npz1_dist5_fftmodel.npz', '/Volumes/ADAM LI/pydata/output/frequencyanalysis/varydistance/id002_cj_sim_nez1_npz1_dist7_fftmodel.npz', '/Volumes/ADAM LI/pydata/output/frequencyanalysis/varydistance/id014_rb_sim_nez1_npz1_dist1_fftmodel.npz', '/Volumes/ADAM LI/pydata/output/frequencyanalysis/varydistance/id014_rb_sim_nez1_npz1_dist6_fftmodel.npz', '/Volumes/ADAM LI/pydata/output/frequencyanalysis/varydistance/id002_cj_sim_nez1_npz1_dist6_fftmodel.npz', '/Volumes/ADAM LI/pydata/output/frequencyanalysis/varydistance/id002_cj_sim_nez1_npz1_dist1_fftmodel.npz', '/Volumes/ADAM LI/pydata/output/frequencyanalysis/varydistance/id014_rb_sim_nez1_npz1_dist7_fftmodel.npz', '/Volumes/ADAM LI/pydata/output/frequencyanalysis/varydistance/id002_cj_sim_nez1_npz1_dist3_fftmodel.npz', '/Volumes/ADAM LI/pydata/output/frequencyanalysis/varydistance/id002_cj_sim_nez1_npz1_dist4_fftmodel.npz', '/Volumes/ADAM LI/pydata/output/frequencyanalysis/varydistance/id014_rb_sim_nez1_npz1_dist2_fftmodel.npz', '/Volumes/ADAM LI/pydata/output/frequencyanalysis/varydistance/id014_rb_sim_nez1_npz1_dist5_fftmodel.npz', '/Volumes/ADAM LI/pydata/output/frequencyanalysis/varydistance/id002_cj_sim_nez1_npz1_dist5_fftmodel.npz', '/Volumes/ADAM LI/pydata/output/frequencyanalysis/varydistance/id002_cj_sim_nez1_npz1_dist2_fftmodel.npz', '/Volumes/ADAM LI/pydata/output/frequencyanalysis/varydistance/id014_rb_sim_nez1_npz1_dist4_fftmodel.npz', '/Volumes/ADAM LI/pydata/output/frequencyanalysis/varydistance/id014_rb_sim_nez1_npz1_dist3_fftmodel.npz', '/Volumes/ADAM LI/pydata/output/frequencyanalysis/varydistance/id014_rb_sim_nez1_npz1_dist9_fftmodel.npz', '/Volumes/ADAM LI/pydata/output/frequencyanalysis/varydistance/id002_cj_sim_nez1_npz1_dist8_fftmodel.npz', '/Volumes/ADAM LI/pydata/output/frequencyanalysis/varydistance/id001_ac_sim_nez1_npz1_dist7_fftmodel.npz', '/Volumes/ADAM LI/pydata/output/frequencyanalysis/varydistance/id014_rb_sim_nez1_npz1_dist8_fftmodel.npz', '/Volumes/ADAM LI/pydata/output/frequencyanalysis/varydistance/id001_ac_sim_nez1_npz1_dist1_fftmodel.npz', '/Volumes/ADAM LI/pydata/output/frequencyanalysis/varydistance/id001_ac_sim_nez1_npz1_dist6_fftmodel.npz', '/Volumes/ADAM LI/pydata/output/frequencyanalysis/varydistance/id002_cj_sim_nez1_npz1_dist9_fftmodel.npz', '/Volumes/ADAM LI/pydata/output/frequencyanalysis/final_dataset/fft_dataset_invsquare.npz']\n"
     ]
    }
   ],
   "source": [
    "MOVEDCONTACTS = 1\n",
    "\n",
    "# if MOVEDCONTACTS:\n",
    "#     datadir = '/home/adamli/data/output/frequencyanalysis/moved/'\n",
    "# else:\n",
    "#     datadir = '/home/adamli/data/output/frequencyanalysis/notmoved/'\n",
    "if MOVEDCONTACTS:\n",
    "    datadir = '/Volumes/ADAM LI/pydata/output/frequencyanalysis/'\n",
    "else:\n",
    "    datadir = '/Volumes/ADAM LI/pydata/output/frequencyanalysis/notmoved/'\n",
    "\n",
    "metadatadir = '/Volumes/ADAM LI/pydata/metadata/'    \n",
    "\n",
    "datafiles = os.listdir(datadir)\n",
    "print('Moving contacts: ', MOVEDCONTACTS)\n",
    "print(datafiles)\n",
    "\n",
    "# Get ALL datafiles from all downstream files\n",
    "datafiles = []\n",
    "for root, dirs, files in os.walk(datadir):\n",
    "    for file in files:\n",
    "        if file.endswith(\".npz\"):\n",
    "             datafiles.append(os.path.join(root, file))\n",
    "print(datafiles)"
   ]
  },
  {
   "cell_type": "code",
   "execution_count": 5,
   "metadata": {},
   "outputs": [
    {
     "name": "stdout",
     "output_type": "stream",
     "text": [
      "['id002_cj', 'id014_rb', 'id001_ac']\n"
     ]
    }
   ],
   "source": [
    "patients = []\n",
    "# get all patients in the dataset\n",
    "for datafile in datafiles:\n",
    "    filename = path_leaf(datafile)\n",
    "    patient = '_'.join(filename.split('_')[0:2])\n",
    "    if patient not in patients:\n",
    "        patients.append(patient)\n",
    "print(patients)"
   ]
  },
  {
   "cell_type": "code",
   "execution_count": 28,
   "metadata": {
    "collapsed": true
   },
   "outputs": [],
   "source": [
    "patient_dict = {}\n",
    "\n",
    "'''\n",
    "This code segment should only be ran once, to extract metadata for each patient, \n",
    "so it doesn't need to be done in the loop for FFT compression.\n",
    "'''\n",
    "# get all metadata for each patient\n",
    "for patient in patients:\n",
    "    project_dir = os.path.join(metadatadir, patient)\n",
    "#     confile = os.path.join(project_dir, \"connectivity.zip\")\n",
    "\n",
    "    # get the regions, and region_centers from connectivity\n",
    "#     reader = util.ZipReader(confile)\n",
    "#     region_centers = reader.read_array_from_file(\"centres\", use_cols=(1, 2, 3))\n",
    "#     regions = reader.read_array_from_file(\"centres\", dtype=np.str, use_cols=(0,))\n",
    "    \n",
    "    # load in the vertices, normals and areas of gain matrix\n",
    "    use_subcort = True\n",
    "    verts, _, areas, regmap = tvbsim.util.read_surf(project_dir, use_subcort)\n",
    "    \n",
    "    patient_dict['project_dir'] = project_dir\n",
    "    patient_dict['regions'] = regions\n",
    "    patient_dict['region_centers'] = region_centers\n",
    "    patient_dict['surf_data'] = (verts, areas, regmap)"
   ]
  },
  {
   "cell_type": "code",
   "execution_count": 29,
   "metadata": {
    "collapsed": true
   },
   "outputs": [],
   "source": [
    "# establish frequency bands\n",
    "freqbands = {\n",
    "#     'deltatheta': [0,8],\n",
    "#     'alpha': [8, 16],\n",
    "#     'beta': [16, 30],\n",
    "#     'gamma': [30,90],\n",
    "#     'highgamma': [90, 500]\n",
    "    'lowfreq': [0, 16],\n",
    "    'midfreq': [16, 33],\n",
    "    'gamma': [33, 90],\n",
    "    'highgamma': [90, 501],\n",
    "}\n",
    "\n",
    "preprocessor = preprocess.PreProcess(datafiles=datafiles,\n",
    "                                                   freqbands=freqbands)"
   ]
  },
  {
   "cell_type": "code",
   "execution_count": 59,
   "metadata": {},
   "outputs": [
    {
     "name": "stdout",
     "output_type": "stream",
     "text": [
      "[[(17591.0, 75874.0), (125307.0, 165845.0)], [(186829.0, 233520.0), (267896.0, 309582.0), (312259.0, 343478.0)], [(259569.0, 318848.0), (354619.0, 394492.0)], [(182795.0, 234888.0)], [(110728.0, 171307.0), (194867.0, 259666.0)], [(188889.0, 238157.0)], [(105039.0, 160234.0), (185114.0, 237601.0)], [(175904.0, 228474.0), (256277.0, 317791.0)], [(177321.0, 231898.0), (269268.0, 354049.0)]]\n",
      "[168000, 240000, 162000, 92000, 169000, 86000, 158000, 160000, 195000]\n",
      "9\n",
      "9\n"
     ]
    }
   ],
   "source": [
    "print(seizuremarks)\n",
    "print(timelens)\n",
    "print(len(timelens))\n",
    "print(len(seizuremarks))"
   ]
  },
  {
   "cell_type": "code",
   "execution_count": 62,
   "metadata": {},
   "outputs": [
    {
     "name": "stdout",
     "output_type": "stream",
     "text": [
      "/Volumes/ADAM LI/pydata/output/frequencyanalysis/nez1_npz1/id002_cj_sim_nez1_npz1_fftmodel.npz\n",
      "/Volumes/ADAM LI/pydata/output/frequencyanalysis/nez1_npz1/id014_rb_sim_nez1_npz1_fftmodel.npz\n",
      "/Volumes/ADAM LI/pydata/output/frequencyanalysis/nez1_npz1/id001_ac_sim_nez1_npz1_fftmodel.npz\n",
      "/Volumes/ADAM LI/pydata/output/frequencyanalysis/nez2_npz1/id002_cj_sim_nez2_npz1_fftmodel.npz\n",
      "/Volumes/ADAM LI/pydata/output/frequencyanalysis/nez2_npz1/id014_rb_sim_nez2_npz1_fftmodel.npz\n",
      "/Volumes/ADAM LI/pydata/output/frequencyanalysis/nez2_npz1/id001_ac_sim_nez2_npz1_fftmodel.npz\n",
      "/Volumes/ADAM LI/pydata/output/frequencyanalysis/nez3_npz1/id002_cj_sim_nez3_npz1_fftmodel.npz\n",
      "/Volumes/ADAM LI/pydata/output/frequencyanalysis/nez3_npz1/id014_rb_sim_nez3_npz1_fftmodel.npz\n",
      "/Volumes/ADAM LI/pydata/output/frequencyanalysis/nez3_npz1/id001_ac_sim_nez3_npz1_fftmodel.npz\n",
      "(11431, 7, 12, 4)\n",
      "[[(17591.0, 75874.0), (125307.0, 165845.0)], [(18829.0, 65520.0), (99896.0, 141582.0), (144259.0, 175478.0)], [(187569.0, 246848.0), (282619.0, 322492.0)], [(428795.0, 480888.0)], [(588728.0, 649307.0), (672867.0, 737666.0)], [(681889.0, 731157.0)], [(850039.0, 905234.0), (930114.0, 982601.0)], [(934904.0, 987474.0), (1015277.0, 1076791.0)], [(1092321.0, 1146898.0), (1184268.0, 1269049.0)]]\n",
      "[168000, 240000, 162000, 92000, 169000, 86000, 158000, 160000, 195000]\n"
     ]
    }
   ],
   "source": [
    "# lists to store the list of tuples of seizure onset/offsets\n",
    "seizuremarks = []\n",
    "\n",
    "# list to store the last time point of each recording added in\n",
    "timelens = []\n",
    "\n",
    "for idx,datafile in enumerate(datafiles):\n",
    "    powerbands, timepoints = preprocessor.compresspowermat(datafile)\n",
    "    onsettimes, offsettimes = preprocessor.getseiztimes(datafile)\n",
    "    \n",
    "    metadata = preprocessor.loadmetadata(datafile)\n",
    "    metadata['regions'] = regions\n",
    "    metadata['region_centers'] = region_centers\n",
    "    \n",
    "    # get the last time point\n",
    "    lasttimewin = timepoints[-1,:][1]+1\n",
    "    timelens.append(lasttimewin)\n",
    "    \n",
    "    if idx > 0:\n",
    "        onsettimes = list(np.asarray(onsettimes) + np.sum(timelens[0:idx-1]))\n",
    "        offsettimes = list(np.asarray(offsettimes) + np.sum(timelens[0:idx-1]))\n",
    "    seizuremarks_tuple = list(zip(onsettimes,offsettimes)) \n",
    "    seizuremarks.append(seizuremarks_tuple)\n",
    "#     mapped_power_bands = preprocessor.projectpower_gain(powerbands,\n",
    "#                                                         metadata,\n",
    "#                                                        verts,\n",
    "#                                                        areas,\n",
    "#                                                        regmap)\n",
    "#     print(mapped_power_bands.shape)\n",
    "#     mapped_power_bands = preprocessor.projectpower_knn(powerbands,\n",
    "#                                                         metadata)\n",
    "#     print(mapped_power_bands.shape)\n",
    "    mapped_power_bands = preprocessor.projectpower_invsquare(powerbands,\n",
    "                                                        metadata)\n",
    "#     print(onsettimes, offsettimes)\n",
    "#     print(powerbands.keys())\n",
    "#     print(powerbands[list(powerbands.keys())[0]].shape)\n",
    "#     print(mapped_power_bands.shape)\n",
    "\n",
    "    if idx == 0:\n",
    "        condensed_power = mapped_power_bands\n",
    "    else:\n",
    "        condensed_power = np.concatenate((condensed_power, mapped_power_bands), axis=0)\n",
    "\n",
    "print(condensed_power.shape)\n",
    "print(seizuremarks)\n",
    "print(timelens)"
   ]
  },
  {
   "cell_type": "code",
   "execution_count": 65,
   "metadata": {
    "collapsed": true
   },
   "outputs": [],
   "source": [
    "# save all the condensed data\n",
    "resultsdir = '/Volumes/ADAM LI/pydata/output/frequencyanalysis/final_dataset/'\n",
    "if not os.path.exists(resultsdir):\n",
    "    os.makedirs(resultsdir)\n",
    "metafilename = os.path.join(resultsdir, 'fft_dataset_invsquare_meta.npz')\n",
    "filename = os.path.join(resultsdir, 'fft_dataset_invsquare.npz')\n",
    "\n",
    "np.savez_compressed(filename, power=condensed_power,\n",
    "                   seizuremarks=seizuremarks,\n",
    "                   timelens=timelens,\n",
    "                   datafiles=datafiles)"
   ]
  },
  {
   "cell_type": "code",
   "execution_count": 38,
   "metadata": {
    "scrolled": true
   },
   "outputs": [
    {
     "data": {
      "image/png": "[encoded data removed]",
      "text/plain": [
       "<matplotlib.figure.Figure at 0x113118518>"
      ]
     },
     "metadata": {},
     "output_type": "display_data"
    },
    {
     "data": {
      "image/png": "[encoded data removed]",
      "text/plain": [
       "<matplotlib.figure.Figure at 0x113559240>"
      ]
     },
     "metadata": {},
     "output_type": "display_data"
    },
    {
     "data": {
      "image/png": "[encoded data removed]",
      "text/plain": [
       "<matplotlib.figure.Figure at 0x111cc1940>"
      ]
     },
     "metadata": {},
     "output_type": "display_data"
    },
    {
     "data": {
      "image/png": "[encoded data removed]",
      "text/plain": [
       "<matplotlib.figure.Figure at 0x112748cc0>"
      ]
     },
     "metadata": {},
     "output_type": "display_data"
    }
   ],
   "source": [
    "import matplotlib\n",
    "import matplotlib.pyplot as plt\n",
    "\n",
    "for i in range(4):\n",
    "    plt.figure()\n",
    "    plt.imshow(np.abs(mapped_power_bands[0,:,:,i]), cmap='jet', aspect='auto')\n",
    "    plt.colorbar()\n",
    "    plt.show()"
   ]
  },
  {
   "cell_type": "markdown",
   "metadata": {
    "collapsed": true
   },
   "source": [
    "# Add To Data Structure\n",
    "\n",
    "If data is already stored, this code segment is meant for adding to that existing data structure (tensor) for training into the GPU."
   ]
  },
  {
   "cell_type": "code",
   "execution_count": 44,
   "metadata": {},
   "outputs": [
    {
     "name": "stdout",
     "output_type": "stream",
     "text": [
      "Moving contacts:  1\n",
      "['nez1_npz1', 'nez2_npz1', 'nez3_npz1']\n",
      "['/Volumes/ADAM LI/pydata/output/frequencyanalysis/movedcontacts/nez1_npz1/id002_cj_sim_nez1_npz1_fftmodel.npz', '/Volumes/ADAM LI/pydata/output/frequencyanalysis/movedcontacts/nez1_npz1/id014_rb_sim_nez1_npz1_fftmodel.npz', '/Volumes/ADAM LI/pydata/output/frequencyanalysis/movedcontacts/nez1_npz1/id001_ac_sim_nez1_npz1_fftmodel.npz', '/Volumes/ADAM LI/pydata/output/frequencyanalysis/movedcontacts/nez2_npz1/id002_cj_sim_nez2_npz1_fftmodel.npz', '/Volumes/ADAM LI/pydata/output/frequencyanalysis/movedcontacts/nez2_npz1/id014_rb_sim_nez2_npz1_fftmodel.npz', '/Volumes/ADAM LI/pydata/output/frequencyanalysis/movedcontacts/nez2_npz1/id001_ac_sim_nez2_npz1_fftmodel.npz', '/Volumes/ADAM LI/pydata/output/frequencyanalysis/movedcontacts/nez3_npz1/id002_cj_sim_nez3_npz1_fftmodel.npz', '/Volumes/ADAM LI/pydata/output/frequencyanalysis/movedcontacts/nez3_npz1/id014_rb_sim_nez3_npz1_fftmodel.npz', '/Volumes/ADAM LI/pydata/output/frequencyanalysis/movedcontacts/nez3_npz1/id001_ac_sim_nez3_npz1_fftmodel.npz']\n",
      "['id002_cj', 'id014_rb', 'id001_ac']\n"
     ]
    }
   ],
   "source": [
    "datadir = '/Volumes/ADAM LI/pydata/output/frequencyanalysis/movedcontacts/'\n",
    "metadatadir = '/Volumes/ADAM LI/pydata/metadata/'    \n",
    "\n",
    "datafiles = os.listdir(datadir)\n",
    "print('Moving contacts: ', MOVEDCONTACTS)\n",
    "print(datafiles)\n",
    "\n",
    "# Get ALL datafiles from all downstream files\n",
    "datafiles = []\n",
    "for root, dirs, files in os.walk(datadir):\n",
    "    for file in files:\n",
    "        if file.endswith(\".npz\"):\n",
    "             datafiles.append(os.path.join(root, file))\n",
    "print(datafiles)\n",
    "\n",
    "patients = []\n",
    "# get all patients in the dataset\n",
    "for datafile in datafiles:\n",
    "    filename = path_leaf(datafile)\n",
    "    patient = '_'.join(filename.split('_')[0:2])\n",
    "    if patient not in patients:\n",
    "        patients.append(patient)\n",
    "print(patients)"
   ]
  },
  {
   "cell_type": "code",
   "execution_count": 10,
   "metadata": {
    "collapsed": true
   },
   "outputs": [],
   "source": [
    "patient_dict = {}\n",
    "\n",
    "'''\n",
    "This code segment should only be ran once, to extract metadata for each patient, \n",
    "so it doesn't need to be done in the loop for FFT compression.\n",
    "'''\n",
    "# get all metadata for each patient\n",
    "for patient in patients:\n",
    "    project_dir = os.path.join(metadatadir, patient)\n",
    "    confile = os.path.join(project_dir, \"connectivity.zip\")\n",
    "\n",
    "    # get the regions, and region_centers from connectivity\n",
    "    reader = util.ZipReader(confile)\n",
    "    region_centers = reader.read_array_from_file(\"centres\", use_cols=(1, 2, 3))\n",
    "    regions = reader.read_array_from_file(\"centres\", dtype=np.str, use_cols=(0,))\n",
    "    \n",
    "    # load in the vertices, normals and areas of gain matrix\n",
    "    use_subcort = True\n",
    "    verts, _, areas, regmap = tvbsim.util.read_surf(project_dir, use_subcort)\n",
    "    \n",
    "    patient_dict['project_dir'] = project_dir\n",
    "    patient_dict['regions'] = regions\n",
    "    patient_dict['region_centers'] = region_centers\n",
    "    patient_dict['surf_data'] = (verts, areas, regmap)"
   ]
  },
  {
   "cell_type": "code",
   "execution_count": 45,
   "metadata": {
    "collapsed": true
   },
   "outputs": [],
   "source": [
    "# establish frequency bands\n",
    "freqbands = {\n",
    "#     'deltatheta': [0,8],\n",
    "#     'alpha': [8, 16],\n",
    "#     'beta': [16, 30],\n",
    "#     'gamma': [30,90],\n",
    "#     'highgamma': [90, 500]\n",
    "    'lowfreq': [0, 16],\n",
    "    'midfreq': [16, 33],\n",
    "    'gamma': [33, 90],\n",
    "    'highgamma': [90, 501],\n",
    "}\n",
    "\n",
    "preprocessor = preprocess.PreProcess(datafiles=datafiles,\n",
    "                                                   freqbands=freqbands)"
   ]
  },
  {
   "cell_type": "code",
   "execution_count": 2,
   "metadata": {},
   "outputs": [
    {
     "name": "stdout",
     "output_type": "stream",
     "text": [
      "['power', 'seizuremarks', 'timelens', 'datafiles']\n"
     ]
    }
   ],
   "source": [
    "# load up the previous data and get the corresponding metadata and data\n",
    "resultsdir = '/Volumes/ADAM LI/pydata/output/frequencyanalysis/final_dataset/'\n",
    "if not os.path.exists(resultsdir):\n",
    "    os.makedirs(resultsdir)\n",
    "metafilename = os.path.join(resultsdir, 'fft_dataset_invsquare_meta.npz')\n",
    "filename = os.path.join(resultsdir, 'fft_dataset_invsquare.npz')\n",
    "\n",
    "data = np.load(filename)\n",
    "power = data['power']\n",
    "currseizuremarks = data['seizuremarks'].tolist()\n",
    "currtimelens = data['timelens']\n",
    "currdatafiles = data['datafiles'].tolist()\n",
    "\n",
    "print(data.keys())"
   ]
  },
  {
   "cell_type": "code",
   "execution_count": 4,
   "metadata": {
    "scrolled": false
   },
   "outputs": [
    {
     "name": "stdout",
     "output_type": "stream",
     "text": [
      "(22862, 7, 12, 4)\n",
      "[[(17591.0, 75874.0), (125307.0, 165845.0)], [(18829.0, 65520.0), (99896.0, 141582.0), (144259.0, 175478.0)], [(187569.0, 246848.0), (282619.0, 322492.0)], [(428795.0, 480888.0)], [(588728.0, 649307.0), (672867.0, 737666.0)], [(681889.0, 731157.0)], [(850039.0, 905234.0), (930114.0, 982601.0)], [(934904.0, 987474.0), (1015277.0, 1076791.0)], [(1092321.0, 1146898.0), (1184268.0, 1269049.0)], [(1615591.0, 1673874.0), (1723307.0, 1763845.0)], [(1616829.0, 1663520.0), (1697896.0, 1739582.0), (1742259.0, 1773478.0)], [(1617569.0, 1676848.0), (1712619.0, 1752492.0)], [(1618795.0, 1670888.0)], [(1616728.0, 1677307.0), (1700867.0, 1765666.0)], [(1617889.0, 1667157.0)], [(1617039.0, 1672234.0), (1697114.0, 1749601.0)], [(1615904.0, 1668474.0), (1696277.0, 1757791.0)], [(1615321.0, 1669898.0), (1707268.0, 1792049.0)]]\n",
      "[(17591.0, 75874.0), (125307.0, 165845.0)]\n",
      "[[ 17591.  75874.]\n",
      " [125307. 165845.]]\n",
      "['/Volumes/ADAM LI/pydata/output/frequencyanalysis/nez1_npz1/id002_cj_sim_nez1_npz1_fftmodel.npz', '/Volumes/ADAM LI/pydata/output/frequencyanalysis/nez1_npz1/id014_rb_sim_nez1_npz1_fftmodel.npz', '/Volumes/ADAM LI/pydata/output/frequencyanalysis/nez1_npz1/id001_ac_sim_nez1_npz1_fftmodel.npz', '/Volumes/ADAM LI/pydata/output/frequencyanalysis/nez2_npz1/id002_cj_sim_nez2_npz1_fftmodel.npz', '/Volumes/ADAM LI/pydata/output/frequencyanalysis/nez2_npz1/id014_rb_sim_nez2_npz1_fftmodel.npz', '/Volumes/ADAM LI/pydata/output/frequencyanalysis/nez2_npz1/id001_ac_sim_nez2_npz1_fftmodel.npz', '/Volumes/ADAM LI/pydata/output/frequencyanalysis/nez3_npz1/id002_cj_sim_nez3_npz1_fftmodel.npz', '/Volumes/ADAM LI/pydata/output/frequencyanalysis/nez3_npz1/id014_rb_sim_nez3_npz1_fftmodel.npz', '/Volumes/ADAM LI/pydata/output/frequencyanalysis/nez3_npz1/id001_ac_sim_nez3_npz1_fftmodel.npz', '/Volumes/ADAM LI/pydata/output/frequencyanalysis/movedcontacts/nez1_npz1/id002_cj_sim_nez1_npz1_fftmodel.npz', '/Volumes/ADAM LI/pydata/output/frequencyanalysis/movedcontacts/nez1_npz1/id014_rb_sim_nez1_npz1_fftmodel.npz', '/Volumes/ADAM LI/pydata/output/frequencyanalysis/movedcontacts/nez1_npz1/id001_ac_sim_nez1_npz1_fftmodel.npz', '/Volumes/ADAM LI/pydata/output/frequencyanalysis/movedcontacts/nez2_npz1/id002_cj_sim_nez2_npz1_fftmodel.npz', '/Volumes/ADAM LI/pydata/output/frequencyanalysis/movedcontacts/nez2_npz1/id014_rb_sim_nez2_npz1_fftmodel.npz', '/Volumes/ADAM LI/pydata/output/frequencyanalysis/movedcontacts/nez2_npz1/id001_ac_sim_nez2_npz1_fftmodel.npz', '/Volumes/ADAM LI/pydata/output/frequencyanalysis/movedcontacts/nez3_npz1/id002_cj_sim_nez3_npz1_fftmodel.npz', '/Volumes/ADAM LI/pydata/output/frequencyanalysis/movedcontacts/nez3_npz1/id014_rb_sim_nez3_npz1_fftmodel.npz', '/Volumes/ADAM LI/pydata/output/frequencyanalysis/movedcontacts/nez3_npz1/id001_ac_sim_nez3_npz1_fftmodel.npz']\n"
     ]
    }
   ],
   "source": [
    "print(power.shape)\n",
    "# print(currseizuremarks.shape)\n",
    "# print(currtimelens.shape)\n",
    "# print(currdatafiles.shape)\n",
    "\n",
    "current_totaltime = np.sum(currtimelens)\n",
    "\n",
    "print(currseizuremarks)\n",
    "test = currseizuremarks[0]\n",
    "print(test)\n",
    "print(np.array(test))\n",
    "# print(currseizuremarks.tolist())\n",
    "print(currdatafiles)"
   ]
  },
  {
   "cell_type": "code",
   "execution_count": 48,
   "metadata": {
    "scrolled": false
   },
   "outputs": [
    {
     "name": "stdout",
     "output_type": "stream",
     "text": [
      "/Volumes/ADAM LI/pydata/output/frequencyanalysis/movedcontacts/nez1_npz1/id002_cj_sim_nez1_npz1_fftmodel.npz\n",
      "/Volumes/ADAM LI/pydata/output/frequencyanalysis/movedcontacts/nez1_npz1/id014_rb_sim_nez1_npz1_fftmodel.npz\n",
      "/Volumes/ADAM LI/pydata/output/frequencyanalysis/movedcontacts/nez1_npz1/id001_ac_sim_nez1_npz1_fftmodel.npz\n"
     ]
    },
    {
     "name": "stderr",
     "output_type": "stream",
     "text": [
      "/Users/adam2392/Documents/dnn-unsupervised/dnn/processing/preprocessfft.py:227: RuntimeWarning: divide by zero encountered in true_divide\n",
      "  Vr = 1/(ndr**2) # fall off as a function of r^2\n"
     ]
    },
    {
     "name": "stdout",
     "output_type": "stream",
     "text": [
      "/Volumes/ADAM LI/pydata/output/frequencyanalysis/movedcontacts/nez2_npz1/id002_cj_sim_nez2_npz1_fftmodel.npz\n",
      "/Volumes/ADAM LI/pydata/output/frequencyanalysis/movedcontacts/nez2_npz1/id014_rb_sim_nez2_npz1_fftmodel.npz\n",
      "/Volumes/ADAM LI/pydata/output/frequencyanalysis/movedcontacts/nez2_npz1/id001_ac_sim_nez2_npz1_fftmodel.npz\n",
      "/Volumes/ADAM LI/pydata/output/frequencyanalysis/movedcontacts/nez3_npz1/id002_cj_sim_nez3_npz1_fftmodel.npz\n",
      "/Volumes/ADAM LI/pydata/output/frequencyanalysis/movedcontacts/nez3_npz1/id014_rb_sim_nez3_npz1_fftmodel.npz\n",
      "/Volumes/ADAM LI/pydata/output/frequencyanalysis/movedcontacts/nez3_npz1/id001_ac_sim_nez3_npz1_fftmodel.npz\n",
      "(22862, 7, 12, 4)\n",
      "[[(17591.0, 75874.0), (125307.0, 165845.0)], [(18829.0, 65520.0), (99896.0, 141582.0), (144259.0, 175478.0)], [(187569.0, 246848.0), (282619.0, 322492.0)], [(428795.0, 480888.0)], [(588728.0, 649307.0), (672867.0, 737666.0)], [(681889.0, 731157.0)], [(850039.0, 905234.0), (930114.0, 982601.0)], [(934904.0, 987474.0), (1015277.0, 1076791.0)], [(1092321.0, 1146898.0), (1184268.0, 1269049.0)], [(1615591.0, 1673874.0), (1723307.0, 1763845.0)], [(1616829.0, 1663520.0), (1697896.0, 1739582.0), (1742259.0, 1773478.0)], [(1617569.0, 1676848.0), (1712619.0, 1752492.0)], [(1618795.0, 1670888.0)], [(1616728.0, 1677307.0), (1700867.0, 1765666.0)], [(1617889.0, 1667157.0)], [(1617039.0, 1672234.0), (1697114.0, 1749601.0)], [(1615904.0, 1668474.0), (1696277.0, 1757791.0)], [(1615321.0, 1669898.0), (1707268.0, 1792049.0)]]\n",
      "[168000 240000 162000  92000 169000  86000 158000 160000 195000 168000\n",
      " 240000 162000  92000 169000  86000 158000 160000 195000]\n"
     ]
    }
   ],
   "source": [
    "condensed_power = power\n",
    "timelens = currtimelens\n",
    "seizuremarks = currseizuremarks\n",
    "\n",
    "for idx,datafile in enumerate(datafiles):\n",
    "    powerbands, timepoints = preprocessor.compresspowermat(datafile)\n",
    "    onsettimes, offsettimes = preprocessor.getseiztimes(datafile)\n",
    "    \n",
    "    metadata = preprocessor.loadmetadata(datafile)\n",
    "    metadata['regions'] = regions\n",
    "    metadata['region_centers'] = region_centers\n",
    "    \n",
    "    # get the last time point\n",
    "    lasttimewin = timepoints[-1,:][1]+1\n",
    "    timelens = np.append(timelens,lasttimewin)\n",
    "    \n",
    "    onsettimes = list(np.asarray(onsettimes) + np.sum(timelens[0:len(timelens)-idx]))\n",
    "    offsettimes = list(np.asarray(offsettimes) + np.sum(timelens[0:len(timelens)-idx]))\n",
    "    seizuremarks_tuple = list(zip(onsettimes,offsettimes)) \n",
    "    seizuremarks.append(seizuremarks_tuple)\n",
    "#     seizuremarks = np.append(seizuremarks,seizuremarks_tuple)\n",
    "#     mapped_power_bands = preprocessor.projectpower_gain(powerbands,\n",
    "#                                                         metadata,\n",
    "#                                                        verts,\n",
    "#                                                        areas,\n",
    "#                                                        regmap)\n",
    "#     print(mapped_power_bands.shape)\n",
    "#     mapped_power_bands = preprocessor.projectpower_knn(powerbands,\n",
    "#                                                         metadata)\n",
    "#     print(mapped_power_bands.shape)\n",
    "    mapped_power_bands = preprocessor.projectpower_invsquare(powerbands,\n",
    "                                                        metadata)\n",
    "    condensed_power = np.concatenate((condensed_power, mapped_power_bands), axis=0)\n",
    "    currdatafiles.append(datafile)\n",
    "\n",
    "print(condensed_power.shape)\n",
    "print(seizuremarks)\n",
    "print(timelens)"
   ]
  },
  {
   "cell_type": "code",
   "execution_count": 51,
   "metadata": {
    "collapsed": true
   },
   "outputs": [],
   "source": [
    "# save all the condensed data\n",
    "np.savez_compressed(filename, power=condensed_power,\n",
    "                   seizuremarks=seizuremarks,\n",
    "                   timelens=timelens,\n",
    "                   datafiles=currdatafiles)"
   ]
  },
  {
   "cell_type": "code",
   "execution_count": null,
   "metadata": {
    "collapsed": true
   },
   "outputs": [],
   "source": []
  }
 ],
 "metadata": {
  "kernelspec": {
   "display_name": "dnn",
   "language": "python",
   "name": "dnn"
  },
  "language_info": {
   "codemirror_mode": {
    "name": "ipython",
    "version": 3
   },
   "file_extension": ".py",
   "mimetype": "text/x-python",
   "name": "python",
   "nbconvert_exporter": "python",
   "pygments_lexer": "ipython3",
   "version": "3.6.3"
  }
 },
 "nbformat": 4,
 "nbformat_minor": 2
}
