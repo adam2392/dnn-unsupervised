{
 "cells": [
  {
   "cell_type": "markdown",
   "metadata": {},
   "source": [
    "# Process FFT Datasets Into Images\n",
    "\n",
    "Here, we go through the classed functions for formatting the fft datasets into their image representations. We can:\n",
    "\n",
    "- map data using the xyz coordinates using a PCA method\n",
    "- map data using the inverse gain matrix transposed to map onto the parcellated 84 regions in MRI xyz space\n",
    "\n",
    "These methods can be compared to determine the accuracy of encoding different types of structural information into the models."
   ]
  },
  {
   "cell_type": "code",
   "execution_count": 2,
   "metadata": {},
   "outputs": [
    {
     "name": "stderr",
     "output_type": "stream",
     "text": [
      "/Users/adam2392/Documents/dnn-unsupervised/.venv/lib/python3.6/site-packages/h5py/__init__.py:36: FutureWarning: Conversion of the second argument of issubdtype from `float` to `np.floating` is deprecated. In future, it will be treated as `np.float64 == np.dtype(float).type`.\n",
      "  from ._conv import register_converters as _register_converters\n"
     ]
    }
   ],
   "source": [
    "import numpy as np\n",
    "import os\n",
    "import sys\n",
    "\n",
    "sys.path.append('../')\n",
    "from dnn.processing.format import formatfft\n",
    "\n",
    "%load_ext autoreload\n",
    "%autoreload 2"
   ]
  },
  {
   "cell_type": "code",
   "execution_count": 5,
   "metadata": {},
   "outputs": [],
   "source": [
    "def main(fftdatadir, rawdatadir,  metadatadir, outputdatadir):\n",
    "    formatter = formatfft.FormatFFT(fftdatadir, rawdatadir, metadatadir, outputdatadir)\n",
    "\n",
    "    formatter.getdatafiles()\n",
    "    formatter.formatdata()\n",
    "    print('finished!')"
   ]
  },
  {
   "cell_type": "code",
   "execution_count": 30,
   "metadata": {},
   "outputs": [
    {
     "name": "stdout",
     "output_type": "stream",
     "text": [
      "0\n",
      "Patient is:  id001_ac\n",
      "file id is:  id001_ac_absence\n",
      "['power', 'freqs', 'timepoints', 'phase', 'chanlabels']\n"
     ]
    },
    {
     "name": "stderr",
     "output_type": "stream",
     "text": [
      "value error in birth date probably, so just setting to nan"
     ]
    },
    {
     "name": "stdout",
     "output_type": "stream",
     "text": [
      "(70, 129, 1799)\n",
      "Converttoregs summary of data:\n",
      "power shape:  (70, 5, 1799)\n",
      "regions xyz shape:  (84, 3)\n",
      "gainmat shape:  (84, 70)\n",
      "image tensor shape:  (84, 5, 1799)\n",
      "Y labels shape:  (1799, 1)\n",
      "(84, 5, 1799)\n",
      "saved at  /Volumes/ADAM LI/pydata/output_fft/asimages/regions/id001_ac_absence_fftmodel\n",
      "1\n",
      "Patient is:  id001_ac\n",
      "file id is:  id001_ac_comp\n",
      "['power', 'freqs', 'timepoints', 'phase', 'chanlabels']\n"
     ]
    },
    {
     "name": "stderr",
     "output_type": "stream",
     "text": [
      "value error in birth date probably, so just setting to nan"
     ]
    },
    {
     "name": "stdout",
     "output_type": "stream",
     "text": [
      "(70, 129, 2999)\n",
      "Converttoregs summary of data:\n",
      "power shape:  (70, 5, 2999)\n",
      "regions xyz shape:  (84, 3)\n",
      "gainmat shape:  (84, 70)\n",
      "image tensor shape:  (84, 5, 2999)\n",
      "Y labels shape:  (2999, 1)\n",
      "(84, 5, 2999)\n",
      "saved at  /Volumes/ADAM LI/pydata/output_fft/asimages/regions/id001_ac_comp_fftmodel\n",
      "2\n",
      "Patient is:  id001_ac\n",
      "file id is:  id001_ac_sz2\n"
     ]
    },
    {
     "name": "stderr",
     "output_type": "stream",
     "text": [
      "value error in birth date probably, so just setting to nan"
     ]
    },
    {
     "name": "stdout",
     "output_type": "stream",
     "text": [
      "['power', 'freqs', 'timepoints', 'phase', 'chanlabels']\n",
      "(70, 129, 2995)\n",
      "Converttoregs summary of data:\n",
      "power shape:  (70, 5, 2995)\n",
      "regions xyz shape:  (84, 3)\n",
      "gainmat shape:  (84, 70)\n",
      "image tensor shape:  (84, 5, 2995)\n",
      "Y labels shape:  (2995, 1)\n",
      "(84, 5, 2995)\n",
      "saved at  /Volumes/ADAM LI/pydata/output_fft/asimages/regions/id001_ac_sz2_fftmodel\n",
      "3\n",
      "Patient is:  id001_ac\n",
      "file id is:  id001_ac_sz2_2\n",
      "['power', 'freqs', 'timepoints', 'phase', 'chanlabels']\n"
     ]
    },
    {
     "name": "stderr",
     "output_type": "stream",
     "text": [
      "value error in birth date probably, so just setting to nan"
     ]
    },
    {
     "name": "stdout",
     "output_type": "stream",
     "text": [
      "(70, 129, 2395)\n",
      "Converttoregs summary of data:\n",
      "power shape:  (70, 5, 2395)\n",
      "regions xyz shape:  (84, 3)\n",
      "gainmat shape:  (84, 70)\n",
      "image tensor shape:  (84, 5, 2395)\n",
      "Y labels shape:  (2395, 1)\n",
      "(84, 5, 2395)\n",
      "saved at  /Volumes/ADAM LI/pydata/output_fft/asimages/regions/id001_ac_sz2_2_fftmodel\n",
      "4\n",
      "Patient is:  id001_ac\n",
      "file id is:  id001_ac_sz3\n",
      "['power', 'freqs', 'timepoints', 'phase', 'chanlabels']\n"
     ]
    },
    {
     "name": "stderr",
     "output_type": "stream",
     "text": [
      "value error in birth date probably, so just setting to nan"
     ]
    },
    {
     "name": "stdout",
     "output_type": "stream",
     "text": [
      "(70, 129, 1195)\n",
      "Converttoregs summary of data:\n",
      "power shape:  (70, 5, 1195)\n",
      "regions xyz shape:  (84, 3)\n",
      "gainmat shape:  (84, 70)\n",
      "image tensor shape:  (84, 5, 1195)\n",
      "Y labels shape:  (1195, 1)\n",
      "(84, 5, 1195)\n",
      "saved at  /Volumes/ADAM LI/pydata/output_fft/asimages/regions/id001_ac_sz3_fftmodel\n",
      "5\n",
      "Patient is:  id002_cj\n",
      "file id is:  id002_cj_sz1\n",
      "['power', 'freqs', 'timepoints', 'phase', 'chanlabels']\n"
     ]
    },
    {
     "name": "stderr",
     "output_type": "stream",
     "text": [
      "value error in birth date probably, so just setting to nan"
     ]
    },
    {
     "name": "stdout",
     "output_type": "stream",
     "text": [
      "(162, 257, 1195)\n",
      "Converttoregs summary of data:\n",
      "power shape:  (162, 5, 1195)\n",
      "regions xyz shape:  (84, 3)\n",
      "gainmat shape:  (84, 162)\n",
      "image tensor shape:  (84, 5, 1195)\n",
      "Y labels shape:  (1195, 1)\n",
      "(84, 5, 1195)\n",
      "saved at  /Volumes/ADAM LI/pydata/output_fft/asimages/regions/id002_cj_sz1_fftmodel\n",
      "6\n"
     ]
    },
    {
     "name": "stderr",
     "output_type": "stream",
     "text": [
      "value error in birth date probably, so just setting to nan"
     ]
    },
    {
     "name": "stdout",
     "output_type": "stream",
     "text": [
      "Patient is:  id002_cj\n",
      "file id is:  id002_cj_sz2\n",
      "['power', 'freqs', 'timepoints', 'phase', 'chanlabels']\n",
      "(162, 257, 1835)\n",
      "Converttoregs summary of data:\n",
      "power shape:  (162, 5, 1835)\n",
      "regions xyz shape:  (84, 3)\n",
      "gainmat shape:  (84, 162)\n",
      "image tensor shape:  (84, 5, 1835)\n",
      "Y labels shape:  (1835, 1)\n",
      "(84, 5, 1835)\n",
      "saved at  /Volumes/ADAM LI/pydata/output_fft/asimages/regions/id002_cj_sz2_fftmodel\n",
      "7\n",
      "Patient is:  id002_cj\n",
      "file id is:  id002_cj_sz3\n",
      "['power', 'freqs', 'timepoints', 'phase', 'chanlabels']\n"
     ]
    },
    {
     "name": "stderr",
     "output_type": "stream",
     "text": [
      "value error in birth date probably, so just setting to nan"
     ]
    },
    {
     "name": "stdout",
     "output_type": "stream",
     "text": [
      "(119, 257, 1811)\n",
      "Converttoregs summary of data:\n",
      "power shape:  (119, 5, 1811)\n",
      "regions xyz shape:  (84, 3)\n",
      "gainmat shape:  (84, 119)\n",
      "image tensor shape:  (84, 5, 1811)\n",
      "Y labels shape:  (1811, 1)\n",
      "(84, 5, 1811)\n",
      "saved at  /Volumes/ADAM LI/pydata/output_fft/asimages/regions/id002_cj_sz3_fftmodel\n",
      "8\n",
      "Patient is:  id002_cj\n",
      "file id is:  id002_cj_sz4\n",
      "['power', 'freqs', 'timepoints', 'phase', 'chanlabels']\n"
     ]
    },
    {
     "name": "stderr",
     "output_type": "stream",
     "text": [
      "value error in birth date probably, so just setting to nan"
     ]
    },
    {
     "name": "stdout",
     "output_type": "stream",
     "text": [
      "(119, 257, 7071)\n",
      "Converttoregs summary of data:\n",
      "power shape:  (119, 5, 7071)\n",
      "regions xyz shape:  (84, 3)\n",
      "gainmat shape:  (84, 119)\n",
      "image tensor shape:  (84, 5, 7071)\n",
      "Y labels shape:  (7071, 1)\n",
      "(84, 5, 7071)\n",
      "saved at  /Volumes/ADAM LI/pydata/output_fft/asimages/regions/id002_cj_sz4_fftmodel\n",
      "9\n",
      "Patient is:  id002_cj\n",
      "file id is:  id002_cj_sz5\n",
      "['power', 'freqs', 'timepoints', 'phase', 'chanlabels']\n"
     ]
    },
    {
     "name": "stderr",
     "output_type": "stream",
     "text": [
      "value error in birth date probably, so just setting to nan"
     ]
    },
    {
     "name": "stdout",
     "output_type": "stream",
     "text": [
      "(119, 257, 1195)\n",
      "Converttoregs summary of data:\n",
      "power shape:  (119, 5, 1195)\n",
      "regions xyz shape:  (84, 3)\n",
      "gainmat shape:  (84, 119)\n",
      "image tensor shape:  (84, 5, 1195)\n",
      "Y labels shape:  (1195, 1)\n",
      "(84, 5, 1195)\n",
      "saved at  /Volumes/ADAM LI/pydata/output_fft/asimages/regions/id002_cj_sz5_fftmodel\n",
      "10\n",
      "Patient is:  id002_cj\n",
      "file id is:  id002_cj_sz6\n",
      "['power', 'freqs', 'timepoints', 'phase', 'chanlabels']\n"
     ]
    },
    {
     "name": "stderr",
     "output_type": "stream",
     "text": [
      "value error in birth date probably, so just setting to nan"
     ]
    },
    {
     "name": "stdout",
     "output_type": "stream",
     "text": [
      "(119, 257, 1195)\n",
      "Converttoregs summary of data:\n",
      "power shape:  (119, 5, 1195)\n",
      "regions xyz shape:  (84, 3)\n",
      "gainmat shape:  (84, 119)\n",
      "image tensor shape:  (84, 5, 1195)\n",
      "Y labels shape:  (1195, 1)\n",
      "(84, 5, 1195)\n",
      "saved at  /Volumes/ADAM LI/pydata/output_fft/asimages/regions/id002_cj_sz6_fftmodel\n",
      "11\n",
      "Patient is:  id003_cm\n",
      "file id is:  id003_cm_sz1\n",
      "['power', 'freqs', 'timepoints', 'phase', 'chanlabels']\n"
     ]
    },
    {
     "name": "stderr",
     "output_type": "stream",
     "text": [
      "value error in birth date probably, so just setting to nan"
     ]
    },
    {
     "name": "stdout",
     "output_type": "stream",
     "text": [
      "(59, 65, 2399)\n",
      "Converttoregs summary of data:\n",
      "power shape:  (59, 4, 2399)\n",
      "regions xyz shape:  (84, 3)\n",
      "gainmat shape:  (84, 59)\n",
      "image tensor shape:  (84, 4, 2399)\n",
      "Y labels shape:  (2399, 1)\n",
      "(84, 4, 2399)\n",
      "saved at  /Volumes/ADAM LI/pydata/output_fft/asimages/regions/id003_cm_sz1_fftmodel\n",
      "12\n",
      "Patient is:  id008_gc\n",
      "file id is:  id008_gc_sz2\n",
      "['power', 'freqs', 'timepoints', 'phase', 'chanlabels']\n"
     ]
    },
    {
     "name": "stderr",
     "output_type": "stream",
     "text": [
      "value error in birth date probably, so just setting to nan"
     ]
    },
    {
     "name": "stdout",
     "output_type": "stream",
     "text": [
      "(99, 129, 1795)\n",
      "Converttoregs summary of data:\n",
      "power shape:  (99, 5, 1795)\n",
      "regions xyz shape:  (84, 3)\n",
      "gainmat shape:  (84, 99)\n",
      "image tensor shape:  (84, 5, 1795)\n",
      "Y labels shape:  (1795, 1)\n",
      "(84, 5, 1795)\n",
      "saved at  /Volumes/ADAM LI/pydata/output_fft/asimages/regions/id008_gc_sz2_fftmodel\n",
      "13\n",
      "Patient is:  id008_gc\n",
      "file id is:  id008_gc_sz3\n",
      "['power', 'freqs', 'timepoints', 'phase', 'chanlabels']\n"
     ]
    },
    {
     "name": "stderr",
     "output_type": "stream",
     "text": [
      "value error in birth date probably, so just setting to nan"
     ]
    },
    {
     "name": "stdout",
     "output_type": "stream",
     "text": [
      "(99, 129, 1195)\n",
      "Converttoregs summary of data:\n",
      "power shape:  (99, 5, 1195)\n",
      "regions xyz shape:  (84, 3)\n",
      "gainmat shape:  (84, 99)\n",
      "image tensor shape:  (84, 5, 1195)\n",
      "Y labels shape:  (1195, 1)\n",
      "(84, 5, 1195)\n",
      "saved at  /Volumes/ADAM LI/pydata/output_fft/asimages/regions/id008_gc_sz3_fftmodel\n",
      "14\n",
      "Patient is:  id010_js\n",
      "file id is:  id010_js_sz1\n",
      "['power', 'freqs', 'timepoints', 'phase', 'chanlabels']\n"
     ]
    },
    {
     "name": "stderr",
     "output_type": "stream",
     "text": [
      "value error in birth date probably, so just setting to nan"
     ]
    },
    {
     "name": "stdout",
     "output_type": "stream",
     "text": [
      "(115, 129, 1795)\n",
      "Converttoregs summary of data:\n",
      "power shape:  (115, 5, 1795)\n",
      "regions xyz shape:  (84, 3)\n",
      "gainmat shape:  (84, 115)\n",
      "image tensor shape:  (84, 5, 1795)\n",
      "Y labels shape:  (1795, 1)\n",
      "(84, 5, 1795)\n",
      "saved at  /Volumes/ADAM LI/pydata/output_fft/asimages/regions/id010_js_sz1_fftmodel\n",
      "15\n",
      "Patient is:  id011_ml\n",
      "file id is:  id011_ml_sz2\n"
     ]
    },
    {
     "name": "stderr",
     "output_type": "stream",
     "text": [
      "value error in birth date probably, so just setting to nan"
     ]
    },
    {
     "name": "stdout",
     "output_type": "stream",
     "text": [
      "['power', 'freqs', 'timepoints', 'phase', 'chanlabels']\n",
      "(113, 129, 14387)\n",
      "Converttoregs summary of data:\n",
      "power shape:  (113, 5, 14387)\n",
      "regions xyz shape:  (84, 3)\n",
      "gainmat shape:  (84, 113)\n",
      "image tensor shape:  (84, 5, 14387)\n",
      "Y labels shape:  (14387, 1)\n",
      "(84, 5, 14387)\n",
      "saved at  /Volumes/ADAM LI/pydata/output_fft/asimages/regions/id011_ml_sz2_fftmodel\n",
      "16\n"
     ]
    },
    {
     "name": "stderr",
     "output_type": "stream",
     "text": [
      "value error in birth date probably, so just setting to nan"
     ]
    },
    {
     "name": "stdout",
     "output_type": "stream",
     "text": [
      "Patient is:  id012_pc\n",
      "file id is:  id012_pc_sz1\n",
      "['power', 'freqs', 'timepoints', 'phase', 'chanlabels']\n",
      "(132, 257, 1195)\n",
      "Converttoregs summary of data:\n",
      "power shape:  (132, 5, 1195)\n",
      "regions xyz shape:  (84, 3)\n",
      "gainmat shape:  (84, 132)\n",
      "image tensor shape:  (84, 5, 1195)\n",
      "Y labels shape:  (1195, 1)\n",
      "(84, 5, 1195)\n",
      "saved at  /Volumes/ADAM LI/pydata/output_fft/asimages/regions/id012_pc_sz1_fftmodel\n",
      "17\n"
     ]
    },
    {
     "name": "stderr",
     "output_type": "stream",
     "text": [
      "value error in birth date probably, so just setting to nan"
     ]
    },
    {
     "name": "stdout",
     "output_type": "stream",
     "text": [
      "Patient is:  id013_pg\n",
      "file id is:  id013_pg_sz1\n",
      "['power', 'freqs', 'timepoints', 'phase', 'chanlabels']\n",
      "(51, 129, 1195)\n",
      "Converttoregs summary of data:\n",
      "power shape:  (51, 5, 1195)\n",
      "regions xyz shape:  (84, 3)\n",
      "gainmat shape:  (84, 51)\n",
      "image tensor shape:  (84, 5, 1195)\n",
      "Y labels shape:  (1195, 1)\n",
      "(84, 5, 1195)\n",
      "saved at  /Volumes/ADAM LI/pydata/output_fft/asimages/regions/id013_pg_sz1_fftmodel\n",
      "18\n"
     ]
    },
    {
     "ename": "FileNotFoundError",
     "evalue": "File b'/Volumes/ADAM LI/pydata/convertedtng/id014_rb_sz1/id014_rb_sz1_chans.csv' does not exist",
     "output_type": "error",
     "traceback": [
      "\u001b[0;31m---------------------------------------------------------------------------\u001b[0m",
      "\u001b[0;31mFileNotFoundError\u001b[0m                         Traceback (most recent call last)",
      "\u001b[0;32m<ipython-input-30-64ad74e3f100>\u001b[0m in \u001b[0;36m<module>\u001b[0;34m()\u001b[0m\n\u001b[1;32m     11\u001b[0m \u001b[0;31m# gainmatfile = os.path.join(metadatadir, patid, 'gain_inv-square.txt')\u001b[0m\u001b[0;34m\u001b[0m\u001b[0;34m\u001b[0m\u001b[0m\n\u001b[1;32m     12\u001b[0m \u001b[0;31m# run conversion\u001b[0m\u001b[0;34m\u001b[0m\u001b[0;34m\u001b[0m\u001b[0m\n\u001b[0;32m---> 13\u001b[0;31m \u001b[0mmain\u001b[0m\u001b[0;34m(\u001b[0m\u001b[0mfftdatadir\u001b[0m\u001b[0;34m,\u001b[0m \u001b[0mrawdatadir\u001b[0m\u001b[0;34m,\u001b[0m \u001b[0mmetadatadir\u001b[0m\u001b[0;34m,\u001b[0m \u001b[0moutputdatadir\u001b[0m\u001b[0;34m)\u001b[0m\u001b[0;34m\u001b[0m\u001b[0m\n\u001b[0m",
      "\u001b[0;32m<ipython-input-5-ae64f21570b2>\u001b[0m in \u001b[0;36mmain\u001b[0;34m(fftdatadir, rawdatadir, metadatadir, outputdatadir)\u001b[0m\n\u001b[1;32m      3\u001b[0m \u001b[0;34m\u001b[0m\u001b[0m\n\u001b[1;32m      4\u001b[0m     \u001b[0mformatter\u001b[0m\u001b[0;34m.\u001b[0m\u001b[0mgetdatafiles\u001b[0m\u001b[0;34m(\u001b[0m\u001b[0;34m)\u001b[0m\u001b[0;34m\u001b[0m\u001b[0m\n\u001b[0;32m----> 5\u001b[0;31m     \u001b[0mformatter\u001b[0m\u001b[0;34m.\u001b[0m\u001b[0mformatdata\u001b[0m\u001b[0;34m(\u001b[0m\u001b[0;34m)\u001b[0m\u001b[0;34m\u001b[0m\u001b[0m\n\u001b[0m\u001b[1;32m      6\u001b[0m     \u001b[0mprint\u001b[0m\u001b[0;34m(\u001b[0m\u001b[0;34m'finished!'\u001b[0m\u001b[0;34m)\u001b[0m\u001b[0;34m\u001b[0m\u001b[0m\n",
      "\u001b[0;32m~/Documents/dnn-unsupervised/dnn/processing/format/formatfft.py\u001b[0m in \u001b[0;36mformatdata\u001b[0;34m(self)\u001b[0m\n\u001b[1;32m    342\u001b[0m \u001b[0;34m\u001b[0m\u001b[0m\n\u001b[1;32m    343\u001b[0m             \u001b[0;31m# load in the onset/offset times\u001b[0m\u001b[0;34m\u001b[0m\u001b[0;34m\u001b[0m\u001b[0m\n\u001b[0;32m--> 344\u001b[0;31m             \u001b[0mdataloader\u001b[0m \u001b[0;34m=\u001b[0m \u001b[0mLoadPat\u001b[0m\u001b[0;34m(\u001b[0m\u001b[0mpatient\u001b[0m\u001b[0;34m=\u001b[0m\u001b[0mfileid\u001b[0m\u001b[0;34m,\u001b[0m \u001b[0mdatadir\u001b[0m\u001b[0;34m=\u001b[0m\u001b[0mself\u001b[0m\u001b[0;34m.\u001b[0m\u001b[0mrawdatadir\u001b[0m\u001b[0;34m)\u001b[0m\u001b[0;34m\u001b[0m\u001b[0m\n\u001b[0m\u001b[1;32m    345\u001b[0m \u001b[0;34m\u001b[0m\u001b[0m\n\u001b[1;32m    346\u001b[0m             \u001b[0mself\u001b[0m\u001b[0;34m.\u001b[0m\u001b[0mloadgainmat\u001b[0m\u001b[0;34m(\u001b[0m\u001b[0mgainmatfile\u001b[0m\u001b[0;34m)\u001b[0m\u001b[0;34m\u001b[0m\u001b[0m\n",
      "\u001b[0;32m~/Documents/fragility_analysis/datainterface/loadpatient.py\u001b[0m in \u001b[0;36m__init__\u001b[0;34m(self, patient, datadir, clinoutcome)\u001b[0m\n\u001b[1;32m     49\u001b[0m \u001b[0;34m\u001b[0m\u001b[0m\n\u001b[1;32m     50\u001b[0m         \u001b[0;31m# print(\"Loaded \", patient)\u001b[0m\u001b[0;34m\u001b[0m\u001b[0;34m\u001b[0m\u001b[0m\n\u001b[0;32m---> 51\u001b[0;31m         \u001b[0mself\u001b[0m\u001b[0;34m.\u001b[0m\u001b[0mloadchans_fromfile\u001b[0m\u001b[0;34m(\u001b[0m\u001b[0;34m)\u001b[0m\u001b[0;34m\u001b[0m\u001b[0m\n\u001b[0m\u001b[1;32m     52\u001b[0m         \u001b[0mself\u001b[0m\u001b[0;34m.\u001b[0m\u001b[0mloadheaders_fromfile\u001b[0m\u001b[0;34m(\u001b[0m\u001b[0;34m)\u001b[0m\u001b[0;34m\u001b[0m\u001b[0m\n\u001b[1;32m     53\u001b[0m         \u001b[0mself\u001b[0m\u001b[0;34m.\u001b[0m\u001b[0mloadannotations_fromfile\u001b[0m\u001b[0;34m(\u001b[0m\u001b[0;34m)\u001b[0m\u001b[0;34m\u001b[0m\u001b[0m\n",
      "\u001b[0;32m~/Documents/fragility_analysis/datainterface/loadpatient.py\u001b[0m in \u001b[0;36mloadchans_fromfile\u001b[0;34m(self)\u001b[0m\n\u001b[1;32m     74\u001b[0m         \u001b[0mchansfile\u001b[0m \u001b[0;34m=\u001b[0m \u001b[0mself\u001b[0m\u001b[0;34m.\u001b[0m\u001b[0m_metafilepath\u001b[0m\u001b[0;34m(\u001b[0m\u001b[0mself\u001b[0m\u001b[0;34m.\u001b[0m\u001b[0mchannelsfile\u001b[0m\u001b[0;34m)\u001b[0m\u001b[0;34m\u001b[0m\u001b[0m\n\u001b[1;32m     75\u001b[0m         \u001b[0;31m# read in the csv file into pandas\u001b[0m\u001b[0;34m\u001b[0m\u001b[0;34m\u001b[0m\u001b[0m\n\u001b[0;32m---> 76\u001b[0;31m         \u001b[0mchanheaders\u001b[0m \u001b[0;34m=\u001b[0m \u001b[0mpd\u001b[0m\u001b[0;34m.\u001b[0m\u001b[0mread_csv\u001b[0m\u001b[0;34m(\u001b[0m\u001b[0mchansfile\u001b[0m\u001b[0;34m)\u001b[0m\u001b[0;34m\u001b[0m\u001b[0m\n\u001b[0m\u001b[1;32m     77\u001b[0m         \u001b[0;31m# read in labels\u001b[0m\u001b[0;34m\u001b[0m\u001b[0;34m\u001b[0m\u001b[0m\n\u001b[1;32m     78\u001b[0m         \u001b[0mchanlabels\u001b[0m \u001b[0;34m=\u001b[0m \u001b[0mchanheaders\u001b[0m\u001b[0;34m[\u001b[0m\u001b[0;34m'Labels'\u001b[0m\u001b[0;34m]\u001b[0m\u001b[0;34m\u001b[0m\u001b[0m\n",
      "\u001b[0;32m~/Documents/dnn-unsupervised/.venv/lib/python3.6/site-packages/pandas/io/parsers.py\u001b[0m in \u001b[0;36mparser_f\u001b[0;34m(filepath_or_buffer, sep, delimiter, header, names, index_col, usecols, squeeze, prefix, mangle_dupe_cols, dtype, engine, converters, true_values, false_values, skipinitialspace, skiprows, nrows, na_values, keep_default_na, na_filter, verbose, skip_blank_lines, parse_dates, infer_datetime_format, keep_date_col, date_parser, dayfirst, iterator, chunksize, compression, thousands, decimal, lineterminator, quotechar, quoting, escapechar, comment, encoding, dialect, tupleize_cols, error_bad_lines, warn_bad_lines, skipfooter, skip_footer, doublequote, delim_whitespace, as_recarray, compact_ints, use_unsigned, low_memory, buffer_lines, memory_map, float_precision)\u001b[0m\n\u001b[1;32m    707\u001b[0m                     skip_blank_lines=skip_blank_lines)\n\u001b[1;32m    708\u001b[0m \u001b[0;34m\u001b[0m\u001b[0m\n\u001b[0;32m--> 709\u001b[0;31m         \u001b[0;32mreturn\u001b[0m \u001b[0m_read\u001b[0m\u001b[0;34m(\u001b[0m\u001b[0mfilepath_or_buffer\u001b[0m\u001b[0;34m,\u001b[0m \u001b[0mkwds\u001b[0m\u001b[0;34m)\u001b[0m\u001b[0;34m\u001b[0m\u001b[0m\n\u001b[0m\u001b[1;32m    710\u001b[0m \u001b[0;34m\u001b[0m\u001b[0m\n\u001b[1;32m    711\u001b[0m     \u001b[0mparser_f\u001b[0m\u001b[0;34m.\u001b[0m\u001b[0m__name__\u001b[0m \u001b[0;34m=\u001b[0m \u001b[0mname\u001b[0m\u001b[0;34m\u001b[0m\u001b[0m\n",
      "\u001b[0;32m~/Documents/dnn-unsupervised/.venv/lib/python3.6/site-packages/pandas/io/parsers.py\u001b[0m in \u001b[0;36m_read\u001b[0;34m(filepath_or_buffer, kwds)\u001b[0m\n\u001b[1;32m    447\u001b[0m \u001b[0;34m\u001b[0m\u001b[0m\n\u001b[1;32m    448\u001b[0m     \u001b[0;31m# Create the parser.\u001b[0m\u001b[0;34m\u001b[0m\u001b[0;34m\u001b[0m\u001b[0m\n\u001b[0;32m--> 449\u001b[0;31m     \u001b[0mparser\u001b[0m \u001b[0;34m=\u001b[0m \u001b[0mTextFileReader\u001b[0m\u001b[0;34m(\u001b[0m\u001b[0mfilepath_or_buffer\u001b[0m\u001b[0;34m,\u001b[0m \u001b[0;34m**\u001b[0m\u001b[0mkwds\u001b[0m\u001b[0;34m)\u001b[0m\u001b[0;34m\u001b[0m\u001b[0m\n\u001b[0m\u001b[1;32m    450\u001b[0m \u001b[0;34m\u001b[0m\u001b[0m\n\u001b[1;32m    451\u001b[0m     \u001b[0;32mif\u001b[0m \u001b[0mchunksize\u001b[0m \u001b[0;32mor\u001b[0m \u001b[0miterator\u001b[0m\u001b[0;34m:\u001b[0m\u001b[0;34m\u001b[0m\u001b[0m\n",
      "\u001b[0;32m~/Documents/dnn-unsupervised/.venv/lib/python3.6/site-packages/pandas/io/parsers.py\u001b[0m in \u001b[0;36m__init__\u001b[0;34m(self, f, engine, **kwds)\u001b[0m\n\u001b[1;32m    816\u001b[0m             \u001b[0mself\u001b[0m\u001b[0;34m.\u001b[0m\u001b[0moptions\u001b[0m\u001b[0;34m[\u001b[0m\u001b[0;34m'has_index_names'\u001b[0m\u001b[0;34m]\u001b[0m \u001b[0;34m=\u001b[0m \u001b[0mkwds\u001b[0m\u001b[0;34m[\u001b[0m\u001b[0;34m'has_index_names'\u001b[0m\u001b[0;34m]\u001b[0m\u001b[0;34m\u001b[0m\u001b[0m\n\u001b[1;32m    817\u001b[0m \u001b[0;34m\u001b[0m\u001b[0m\n\u001b[0;32m--> 818\u001b[0;31m         \u001b[0mself\u001b[0m\u001b[0;34m.\u001b[0m\u001b[0m_make_engine\u001b[0m\u001b[0;34m(\u001b[0m\u001b[0mself\u001b[0m\u001b[0;34m.\u001b[0m\u001b[0mengine\u001b[0m\u001b[0;34m)\u001b[0m\u001b[0;34m\u001b[0m\u001b[0m\n\u001b[0m\u001b[1;32m    819\u001b[0m \u001b[0;34m\u001b[0m\u001b[0m\n\u001b[1;32m    820\u001b[0m     \u001b[0;32mdef\u001b[0m \u001b[0mclose\u001b[0m\u001b[0;34m(\u001b[0m\u001b[0mself\u001b[0m\u001b[0;34m)\u001b[0m\u001b[0;34m:\u001b[0m\u001b[0;34m\u001b[0m\u001b[0m\n",
      "\u001b[0;32m~/Documents/dnn-unsupervised/.venv/lib/python3.6/site-packages/pandas/io/parsers.py\u001b[0m in \u001b[0;36m_make_engine\u001b[0;34m(self, engine)\u001b[0m\n\u001b[1;32m   1047\u001b[0m     \u001b[0;32mdef\u001b[0m \u001b[0m_make_engine\u001b[0m\u001b[0;34m(\u001b[0m\u001b[0mself\u001b[0m\u001b[0;34m,\u001b[0m \u001b[0mengine\u001b[0m\u001b[0;34m=\u001b[0m\u001b[0;34m'c'\u001b[0m\u001b[0;34m)\u001b[0m\u001b[0;34m:\u001b[0m\u001b[0;34m\u001b[0m\u001b[0m\n\u001b[1;32m   1048\u001b[0m         \u001b[0;32mif\u001b[0m \u001b[0mengine\u001b[0m \u001b[0;34m==\u001b[0m \u001b[0;34m'c'\u001b[0m\u001b[0;34m:\u001b[0m\u001b[0;34m\u001b[0m\u001b[0m\n\u001b[0;32m-> 1049\u001b[0;31m             \u001b[0mself\u001b[0m\u001b[0;34m.\u001b[0m\u001b[0m_engine\u001b[0m \u001b[0;34m=\u001b[0m \u001b[0mCParserWrapper\u001b[0m\u001b[0;34m(\u001b[0m\u001b[0mself\u001b[0m\u001b[0;34m.\u001b[0m\u001b[0mf\u001b[0m\u001b[0;34m,\u001b[0m \u001b[0;34m**\u001b[0m\u001b[0mself\u001b[0m\u001b[0;34m.\u001b[0m\u001b[0moptions\u001b[0m\u001b[0;34m)\u001b[0m\u001b[0;34m\u001b[0m\u001b[0m\n\u001b[0m\u001b[1;32m   1050\u001b[0m         \u001b[0;32melse\u001b[0m\u001b[0;34m:\u001b[0m\u001b[0;34m\u001b[0m\u001b[0m\n\u001b[1;32m   1051\u001b[0m             \u001b[0;32mif\u001b[0m \u001b[0mengine\u001b[0m \u001b[0;34m==\u001b[0m \u001b[0;34m'python'\u001b[0m\u001b[0;34m:\u001b[0m\u001b[0;34m\u001b[0m\u001b[0m\n",
      "\u001b[0;32m~/Documents/dnn-unsupervised/.venv/lib/python3.6/site-packages/pandas/io/parsers.py\u001b[0m in \u001b[0;36m__init__\u001b[0;34m(self, src, **kwds)\u001b[0m\n\u001b[1;32m   1693\u001b[0m         \u001b[0mkwds\u001b[0m\u001b[0;34m[\u001b[0m\u001b[0;34m'allow_leading_cols'\u001b[0m\u001b[0;34m]\u001b[0m \u001b[0;34m=\u001b[0m \u001b[0mself\u001b[0m\u001b[0;34m.\u001b[0m\u001b[0mindex_col\u001b[0m \u001b[0;32mis\u001b[0m \u001b[0;32mnot\u001b[0m \u001b[0;32mFalse\u001b[0m\u001b[0;34m\u001b[0m\u001b[0m\n\u001b[1;32m   1694\u001b[0m \u001b[0;34m\u001b[0m\u001b[0m\n\u001b[0;32m-> 1695\u001b[0;31m         \u001b[0mself\u001b[0m\u001b[0;34m.\u001b[0m\u001b[0m_reader\u001b[0m \u001b[0;34m=\u001b[0m \u001b[0mparsers\u001b[0m\u001b[0;34m.\u001b[0m\u001b[0mTextReader\u001b[0m\u001b[0;34m(\u001b[0m\u001b[0msrc\u001b[0m\u001b[0;34m,\u001b[0m \u001b[0;34m**\u001b[0m\u001b[0mkwds\u001b[0m\u001b[0;34m)\u001b[0m\u001b[0;34m\u001b[0m\u001b[0m\n\u001b[0m\u001b[1;32m   1696\u001b[0m \u001b[0;34m\u001b[0m\u001b[0m\n\u001b[1;32m   1697\u001b[0m         \u001b[0;31m# XXX\u001b[0m\u001b[0;34m\u001b[0m\u001b[0;34m\u001b[0m\u001b[0m\n",
      "\u001b[0;32mpandas/_libs/parsers.pyx\u001b[0m in \u001b[0;36mpandas._libs.parsers.TextReader.__cinit__\u001b[0;34m()\u001b[0m\n",
      "\u001b[0;32mpandas/_libs/parsers.pyx\u001b[0m in \u001b[0;36mpandas._libs.parsers.TextReader._setup_parser_source\u001b[0;34m()\u001b[0m\n",
      "\u001b[0;31mFileNotFoundError\u001b[0m: File b'/Volumes/ADAM LI/pydata/convertedtng/id014_rb_sz1/id014_rb_sz1_chans.csv' does not exist"
     ]
    }
   ],
   "source": [
    "# patid = 'id001_ac'\n",
    "\n",
    "# the main data directories that there is raw, meta, and output data\n",
    "metadatadir = '/Volumes/ADAM LI/pydata/metadata/'\n",
    "rawdatadir = '/Volumes/ADAM LI/pydata/convertedtng/'\n",
    "fftdatadir = '/Volumes/ADAM LI/pydata/output_fft/tngcenter/win500_step250/'\n",
    "# fftdatadir = '/Volumes/ADAM LI/pydata/output_fft/tvbsim/full/'\n",
    "outputdatadir = '/Volumes/ADAM LI/pydata/output_fft/asimages/regions/'\n",
    "\n",
    "# confile = os.path.join(metadatadir, patid, 'connectivity.zip')\n",
    "# gainmatfile = os.path.join(metadatadir, patid, 'gain_inv-square.txt')\n",
    "# run conversion\n",
    "main(fftdatadir, rawdatadir, metadatadir, outputdatadir)"
   ]
  },
  {
   "cell_type": "code",
   "execution_count": null,
   "metadata": {},
   "outputs": [],
   "source": [
    "    # load in the onset/offset times\n",
    "    dataloader = LoadPat(patient=fileid, datadir=rawdatadir)\n",
    "    onset_times = dataloader.onset_time\n",
    "    offset_times = dataloader.offset_time\n",
    "#     print(dataloader.onset_time)\n",
    "#     print(dataloader.offset_time)\n",
    "    print(\"Patient is: \", patient)\n",
    "    print(\"file id is: \", fileid)\n",
    "#     print(dirname)\n",
    "#     print(\"Filename loaded is: \", filename)\n",
    "    print(\"\\n\\n\")\n",
    "    \n",
    "    # get indices of channels that we have seeg_xyz for\n",
    "    chanindices = [i for i,x in enumerate(rawchans) if any(thing == x for thing in seeg_labels)]\n",
    "    chanlabels = rawchans[chanindices]\n",
    "    power = np.abs(power[chanindices,:,:])\n",
    "    \n",
    "    # get overlapping indices on seeg with xyz\n",
    "    xyzinds = [i for i,x in enumerate(seeg_labels) if any(thing==x for thing in chanlabels)]\n",
    "    seeg_xyz = seeg_xyz[xyzinds,:]\n",
    " # instantiate metadata hash table\n",
    "    metadata = dict()\n",
    "    metadata['chanlabels'] = chanlabels\n",
    "    metadata['seeg_xyz'] = seeg_xyz\n",
    "    metadata['ylabels'] = ylabels\n",
    "    metadata['samplerate'] = samplerate\n",
    "    metadata['timepoints'] = timepoints\n"
   ]
  }
 ],
 "metadata": {
  "kernelspec": {
   "display_name": "dnn",
   "language": "python",
   "name": "dnn"
  },
  "language_info": {
   "codemirror_mode": {
    "name": "ipython",
    "version": 3
   },
   "file_extension": ".py",
   "mimetype": "text/x-python",
   "name": "python",
   "nbconvert_exporter": "python",
   "pygments_lexer": "ipython3",
   "version": "3.6.3"
  }
 },
 "nbformat": 4,
 "nbformat_minor": 2
}
