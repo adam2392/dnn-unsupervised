{
 "cells": [
  {
   "cell_type": "code",
   "execution_count": 17,
   "metadata": {},
   "outputs": [
    {
     "name": "stdout",
     "output_type": "stream",
     "text": [
      "The autoreload extension is already loaded. To reload it, use:\n",
      "  %reload_ext autoreload\n"
     ]
    }
   ],
   "source": [
    "from __future__ import print_function\n",
    "import numpy as np\n",
    "import pandas as pd\n",
    "import scipy\n",
    "import sys\n",
    "import os\n",
    "from time import time\n",
    "np.random.seed(1234567)\n",
    "\n",
    "sys.path.append('/Users/adam2392/Documents/fragility_analysis/')\n",
    "import fragility\n",
    "import fragility.util.utils as futil\n",
    "\n",
    "from datainterface import patient as Pat\n",
    "\n",
    "# dimensionality reductions\n",
    "from sklearn.decomposition import PCA\n",
    "from sklearn.discriminant_analysis import LinearDiscriminantAnalysis as LDA\n",
    "\n",
    "from sklearn import linear_model, decomposition, datasets\n",
    "from sklearn.pipeline import Pipeline\n",
    "from sklearn.model_selection import GridSearchCV\n",
    "from sklearn import svm\n",
    "from sklearn.preprocessing import StandardScaler\n",
    "from sklearn.ensemble import RandomForestClassifier\n",
    "from sklearn.model_selection import train_test_split\n",
    "from sklearn.metrics import confusion_matrix\n",
    "from sklearn.metrics import accuracy_score\n",
    "\n",
    "from sklearn.metrics import precision_score, \\\n",
    "    recall_score, classification_report, \\\n",
    "    f1_score\n",
    "\n",
    "from sklearn.cluster import KMeans\n",
    "from sklearn import metrics\n",
    "\n",
    "import matplotlib\n",
    "import matplotlib.pyplot as plt\n",
    "import seaborn as sns\n",
    "\n",
    "\n",
    "# define the data handler \n",
    "sys.path.append('../')\n",
    "import processing.util as util\n",
    "\n",
    "from sklearn.metrics import r2_score\n",
    "from scipy.stats import spearmanr, pearsonr\n",
    "\n",
    "import fragility.linearmodels.fragilitymodels\n",
    "\n",
    "%load_ext autoreload\n",
    "%autoreload 2"
   ]
  },
  {
   "cell_type": "code",
   "execution_count": 31,
   "metadata": {},
   "outputs": [
    {
     "name": "stdout",
     "output_type": "stream",
     "text": [
      "40\n",
      "/Volumes/ADAM LI/pydata/dnn/traindata/fragility/seegpert/\n",
      "/Users/adam2392/Documents/dnn-unsupervised/dnn/baseline analysis\n"
     ]
    }
   ],
   "source": [
    "datadir = '/Volumes/ADAM LI/pydata/dnn/traindata/tenpercentcorrupted/fft/'\n",
    "datadir = '/Volumes/ADAM LI/pydata/dnn/traindata/fragility/seegpert/'\n",
    "\n",
    "datafiles = []\n",
    "for root, dirs, files in os.walk(datadir):\n",
    "    for file in files:\n",
    "        datafiles.append(os.path.join(root, file))\n",
    "        \n",
    "print(len(datafiles))\n",
    "\n",
    "datahandler = util.DataHandler()\n",
    "\n",
    "numcomp = 50\n",
    "# PCA\n",
    "sklearn_pca = PCA(n_components=numcomp)\n",
    "\n",
    "print(datadir)\n",
    "print(os.getcwd())"
   ]
  },
  {
   "cell_type": "code",
   "execution_count": 19,
   "metadata": {},
   "outputs": [
    {
     "name": "stderr",
     "output_type": "stream",
     "text": [
      "INFO:fragility.linearmodels.fragilitymodels:Initialized perturbation model!\n",
      "INFO:fragility.linearmodels.fragilitymodels:Initialized fragility model!\n"
     ]
    }
   ],
   "source": [
    "winsize = 250\n",
    "stepsize = 125\n",
    "radius = 1.5\n",
    "perturbtype = 'C'\n",
    "\n",
    "# postprocessor = tvbsim.util.PostProcess([], [], [])\n",
    "fragilitymodel = fragility.linearmodels.fragilitymodels.FragilityModel(winsize, stepsize, radius, perturbtype)\n"
   ]
  },
  {
   "cell_type": "markdown",
   "metadata": {},
   "source": [
    "# 0 Load in Actual SEEG Dataset And Run Algorithm Cells\n",
    "\n",
    "Load in an actual real EEG dataset and then run analysis with baseline classifiers"
   ]
  },
  {
   "cell_type": "code",
   "execution_count": 39,
   "metadata": {},
   "outputs": [
    {
     "name": "stdout",
     "output_type": "stream",
     "text": [
      "1\n",
      "testing datadir is:  /Volumes/ADAM LI/pydata/dnn/testdata/fragility/pert/id001_ac_sz2\n"
     ]
    }
   ],
   "source": [
    "datadir = '/Volumes/ADAM LI/pydata/dnn/testdata/fragility/pert/id001_ac_sz2'\n",
    "\n",
    "datafiles = []\n",
    "for root, dirs, files in os.walk(datadir):\n",
    "    for file in files:\n",
    "        datafiles.append(os.path.join(root, file))\n",
    "        \n",
    "print(len(datafiles))\n",
    "\n",
    "datahandler = util.DataHandler()\n",
    "\n",
    "numcomp = 50\n",
    "# PCA\n",
    "sklearn_pca = PCA(n_components=numcomp)\n",
    "\n",
    "print(\"testing datadir is: \", datadir)"
   ]
  },
  {
   "cell_type": "markdown",
   "metadata": {},
   "source": [
    "# 1 Load Data and Concatenate \n",
    "\n",
    "Assumes, we can't make use of the time dimension. We apply PCA on the frequency feature space, expecting n_components to capture sufficient variability in the data to match the variability that will be seen by the deep neural networks.\n",
    "\n",
    "- Load data\n",
    "- PCA (n_components)\n",
    "- split training/testing data"
   ]
  },
  {
   "cell_type": "code",
   "execution_count": 40,
   "metadata": {},
   "outputs": [
    {
     "name": "stderr",
     "output_type": "stream",
     "text": [
      "INFO:datainterface.patient:Initialized Patient IEEG object. Should run channels, metadata and annotations next!\n",
      "INFO:datainterface.patient:Ran setup of meta data!\n",
      "INFO:datainterface.patient:Ran setup of channels data!\n",
      "INFO:datainterface.patient:Ran setup of annotations data!\n"
     ]
    }
   ],
   "source": [
    "patient = 'id001_ac_sz2'\n",
    "patid = patient[0:patient.find('sz')-1]\n",
    "seizid = patient[patient.find('sz'):]\n",
    "\n",
    "datadir = '/Volumes/ADAM LI/pydata/convertedtng'\n",
    "\n",
    "chanfile =  os.path.join(datadir,  patient, patid + '_chans.csv')\n",
    "headerfile = os.path.join(datadir,  patient, patid + '_headers.csv')\n",
    "annotationsfile = os.path.join(datadir,  patient, patid + '_annotations.csv')\n",
    "\n",
    "################################ 1. LOAD DATA ###########################\n",
    "# instantiate a datainterface object to analyze data\n",
    "patieeg = Pat.PatientIEEG(patient, clinoutcome=None, engelscore=None, logfile=None)\n",
    "# get relevant channel data\n",
    "included_chans, onsetchans, clinresult = fragility.util.utils.returnindices(patid, seizid)\n",
    "\n",
    "# set metadata to be used in analysis\n",
    "patieeg.setincludedchans(included_chans)\n",
    "patieeg.setmetadata_fromfile(headersfile=headerfile)\n",
    "patieeg.setchannels_fromfile(channelsfile=chanfile)\n",
    "patieeg.setannotations_fromfile(annotationsfile=annotationsfile)"
   ]
  },
  {
   "cell_type": "code",
   "execution_count": 46,
   "metadata": {},
   "outputs": [
    {
     "name": "stdout",
     "output_type": "stream",
     "text": [
      "171.7539062 532.7539062\n",
      "(4945, 2)\n",
      "[[  0 124]\n",
      " [ 62 186]\n",
      " [124 248]]\n"
     ]
    }
   ],
   "source": [
    "print(patieeg.onset_time, patieeg.offset_time)\n",
    "print(timepoints.shape)\n",
    "print(timepoints[0:3,:])"
   ]
  },
  {
   "cell_type": "code",
   "execution_count": 48,
   "metadata": {},
   "outputs": [
    {
     "name": "stdout",
     "output_type": "stream",
     "text": [
      "/Volumes/ADAM LI/pydata/dnn/testdata/fragility/pert/id001_ac_sz2/id001_ac_sz2pertmodel.npz\n",
      "(4945, 70)\n",
      "(4945, 1)\n"
     ]
    },
    {
     "name": "stderr",
     "output_type": "stream",
     "text": [
      "/Users/adam2392/Documents/fragility_analysis/fragility/linearmodels/fragilitymodels.py:426: RuntimeWarning: invalid value encountered in true_divide\n",
      "  np.max(minnormpertmat[:, icol])\n"
     ]
    }
   ],
   "source": [
    "# load datafiles into features\n",
    "for idx, datafile in enumerate(datafiles):\n",
    "    print(datafile)\n",
    "    # load data\n",
    "    data = np.load(datafile, encoding='bytes')\n",
    "    metadata = data['metadata'].item()\n",
    "    pertmats = data['pertmats']\n",
    "    timepoints = data['timepoints']\n",
    "    fragmat = fragilitymodel.compute_fragilitymetric(pertmats)\n",
    "    \n",
    "    # compute ylabels\n",
    "    seizonsets = np.multiply([patieeg.onset_time], 500)\n",
    "    seizoffsets = np.multiply([patieeg.offset_time], 500)\n",
    "    ylabels = datahandler.computelabels(seizonsets, seizoffsets, timepoints)\n",
    "\n",
    "    if idx == 0:\n",
    "        Xdata = fragmat.T\n",
    "        ydata = ylabels\n",
    "    else:\n",
    "        Xdata = np.concatenate((Xdata, fragmat.T), axis=0)\n",
    "        ydata = np.concatenate((ydata,ylabels), axis=0)\n",
    "        \n",
    "print(Xdata.shape)\n",
    "print(ydata.shape) "
   ]
  },
  {
   "cell_type": "code",
   "execution_count": 33,
   "metadata": {},
   "outputs": [
    {
     "name": "stdout",
     "output_type": "stream",
     "text": [
      "(38565, 70)\n",
      "(18995, 70)\n",
      "(38565, 1)\n",
      "(18995, 1)\n"
     ]
    }
   ],
   "source": [
    "randstate = 42 # for reproducability\n",
    "X_train, X_test, y_train, y_test = train_test_split(Xdata, ydata, test_size=0.33, random_state=randstate)\n",
    "\n",
    "print(X_train.shape)\n",
    "print(X_test.shape)\n",
    "print(y_train.shape)\n",
    "print(y_test.shape)"
   ]
  },
  {
   "cell_type": "markdown",
   "metadata": {},
   "source": [
    "# 1. Run RF and LR\n",
    "\n",
    "These cells are going to run the linear classifiers on purely the training and testing data"
   ]
  },
  {
   "cell_type": "code",
   "execution_count": 49,
   "metadata": {},
   "outputs": [
    {
     "name": "stdout",
     "output_type": "stream",
     "text": [
      "1\n",
      "testing datadir is:  /Volumes/ADAM LI/pydata/dnn/testdata/fragility/pert/id001_ac_sz2\n"
     ]
    }
   ],
   "source": [
    "datadir = '/Volumes/ADAM LI/pydata/dnn/testdata/fragility/pert/id001_ac_sz2'\n",
    "\n",
    "datafiles = []\n",
    "for root, dirs, files in os.walk(datadir):\n",
    "    for file in files:\n",
    "        datafiles.append(os.path.join(root, file))\n",
    "        \n",
    "print(len(datafiles))\n",
    "\n",
    "datahandler = util.DataHandler()\n",
    "\n",
    "numcomp = 50\n",
    "# PCA\n",
    "sklearn_pca = PCA(n_components=numcomp)\n",
    "\n",
    "print(\"testing datadir is: \", datadir)"
   ]
  },
  {
   "cell_type": "code",
   "execution_count": 50,
   "metadata": {},
   "outputs": [
    {
     "name": "stderr",
     "output_type": "stream",
     "text": [
      "INFO:datainterface.patient:Initialized Patient IEEG object. Should run channels, metadata and annotations next!\n",
      "INFO:datainterface.patient:Ran setup of meta data!\n",
      "INFO:datainterface.patient:Ran setup of channels data!\n",
      "INFO:datainterface.patient:Ran setup of annotations data!\n"
     ]
    }
   ],
   "source": [
    "patient = 'id001_ac_sz2'\n",
    "patid = patient[0:patient.find('sz')-1]\n",
    "seizid = patient[patient.find('sz'):]\n",
    "\n",
    "datadir = '/Volumes/ADAM LI/pydata/convertedtng'\n",
    "\n",
    "chanfile =  os.path.join(datadir,  patient, patid + '_chans.csv')\n",
    "headerfile = os.path.join(datadir,  patient, patid + '_headers.csv')\n",
    "annotationsfile = os.path.join(datadir,  patient, patid + '_annotations.csv')\n",
    "\n",
    "################################ 1. LOAD DATA ###########################\n",
    "# instantiate a datainterface object to analyze data\n",
    "patieeg = Pat.PatientIEEG(patient, clinoutcome=None, engelscore=None, logfile=None)\n",
    "# get relevant channel data\n",
    "included_chans, onsetchans, clinresult = fragility.util.utils.returnindices(patid, seizid)\n",
    "\n",
    "# set metadata to be used in analysis\n",
    "patieeg.setincludedchans(included_chans)\n",
    "patieeg.setmetadata_fromfile(headersfile=headerfile)\n",
    "patieeg.setchannels_fromfile(channelsfile=chanfile)\n",
    "patieeg.setannotations_fromfile(annotationsfile=annotationsfile)"
   ]
  },
  {
   "cell_type": "code",
   "execution_count": 58,
   "metadata": {},
   "outputs": [
    {
     "name": "stdout",
     "output_type": "stream",
     "text": [
      "/Volumes/ADAM LI/pydata/dnn/testdata/fragility/pert/id001_ac_sz2/id001_ac_sz2pertmodel.npz\n",
      "(4945, 70)\n",
      "(4945, 1)\n"
     ]
    },
    {
     "name": "stderr",
     "output_type": "stream",
     "text": [
      "/Users/adam2392/Documents/fragility_analysis/fragility/linearmodels/fragilitymodels.py:426: RuntimeWarning: invalid value encountered in true_divide\n",
      "  np.max(minnormpertmat[:, icol])\n"
     ]
    }
   ],
   "source": [
    "# load datafiles into features\n",
    "for idx, datafile in enumerate(datafiles):\n",
    "    print(datafile)\n",
    "    # load data\n",
    "    data = np.load(datafile, encoding='bytes')\n",
    "    metadata = data['metadata'].item()\n",
    "    pertmats = data['pertmats']\n",
    "    timepoints = data['timepoints']\n",
    "    fragmat = fragilitymodel.compute_fragilitymetric(pertmats)\n",
    "    \n",
    "    # compute ylabels\n",
    "    seizonsets = np.multiply([patieeg.onset_time], 500)\n",
    "    seizoffsets = np.multiply([patieeg.offset_time], 500)\n",
    "    ylabels = datahandler.computelabels(seizonsets, seizoffsets, timepoints)\n",
    "\n",
    "    if idx == 0:\n",
    "        Xdata = fragmat.T\n",
    "        ydata = ylabels\n",
    "    else:\n",
    "        Xdata = np.concatenate((Xdata, fragmat.T), axis=0)\n",
    "        ydata = np.concatenate((ydata,ylabels), axis=0)\n",
    "        \n",
    "print(Xdata.shape)\n",
    "print(ydata.shape) "
   ]
  },
  {
   "cell_type": "code",
   "execution_count": 59,
   "metadata": {},
   "outputs": [
    {
     "name": "stdout",
     "output_type": "stream",
     "text": [
      "(4944, 70)\n",
      "(array([], dtype=int64), array([], dtype=int64))\n"
     ]
    }
   ],
   "source": [
    "# get rid of first column of nans\n",
    "Xdata = Xdata[1:, :]\n",
    "ydata = ydata[1:]\n",
    "print(Xdata.shape)\n",
    "print(np.where(np.isnan(Xdata)))"
   ]
  },
  {
   "cell_type": "code",
   "execution_count": 60,
   "metadata": {
    "scrolled": false
   },
   "outputs": [
    {
     "name": "stdout",
     "output_type": "stream",
     "text": [
      "Out-of-bag score estimate: 0.828\n",
      "Mean accuracy score: 0.433\n",
      "F1 score: 0.08963949334199416\n",
      "Recall: 0.047406389556853314\n",
      "Precision: 0.8214285714285714\n",
      "\n",
      " clasification report:\n",
      "              precision    recall  f1-score   support\n",
      "\n",
      "        0.0       0.42      0.99      0.59      2033\n",
      "        1.0       0.82      0.05      0.09      2911\n",
      "\n",
      "avg / total       0.66      0.43      0.29      4944\n",
      "\n",
      "\n",
      " confusion matrix:\n",
      " [[2003   30]\n",
      " [2773  138]]\n"
     ]
    },
    {
     "data": {
      "image/png": "[encoded data removed]",
      "text/plain": [
       "<matplotlib.figure.Figure at 0x121958710>"
      ]
     },
     "metadata": {},
     "output_type": "display_data"
    },
    {
     "name": "stdout",
     "output_type": "stream",
     "text": [
      "Out-of-bag score estimate: 0.828\n",
      "Mean accuracy score: 0.539\n",
      "F1 score: 0.6425098039215688\n",
      "Recall: 0.7035383029886637\n",
      "Precision: 0.5912240184757506\n",
      "\n",
      " clasification report:\n",
      "              precision    recall  f1-score   support\n",
      "\n",
      "        0.0       0.42      0.30      0.35      2033\n",
      "        1.0       0.59      0.70      0.64      2911\n",
      "\n",
      "avg / total       0.52      0.54      0.52      4944\n",
      "\n",
      "\n",
      " confusion matrix:\n",
      " [[ 617 1416]\n",
      " [ 863 2048]]\n"
     ]
    },
    {
     "data": {
      "image/png": "[encoded data removed]",
      "text/plain": [
       "<matplotlib.figure.Figure at 0x120517eb8>"
      ]
     },
     "metadata": {},
     "output_type": "display_data"
    }
   ],
   "source": [
    "rf_test = rf.predict(Xdata)\n",
    "ytrue = ydata\n",
    "print('Out-of-bag score estimate: %.3f' % rf.oob_score_)\n",
    "print('Mean accuracy score: %.3f' % accuracy_score(ytrue, rf_test))\n",
    "print('F1 score:', f1_score(ytrue, rf_test))\n",
    "print('Recall:', recall_score(ytrue, rf_test))\n",
    "print('Precision:', precision_score(ytrue, rf_test))\n",
    "print('\\n clasification report:\\n', classification_report(ytrue, rf_test))\n",
    "print('\\n confusion matrix:\\n',confusion_matrix(ytrue, rf_test))\n",
    "\n",
    "fig = plt.figure()\n",
    "cm = pd.DataFrame(confusion_matrix(ytrue, rf_test), columns=['norm','seiz'], index=['norm','seiz'])\n",
    "sns.heatmap(cm, annot=True, fmt='g')\n",
    "ax = plt.gca()\n",
    "ax.set_title('Random Forest Baseline On Test Data Confusion Matrix')\n",
    "ax.set_ylabel('True Label')\n",
    "ax.set_xlabel('Predicted Label')\n",
    "plt.show()\n",
    "\n",
    "lr_test = estimator.predict(Xdata)\n",
    "ytrue = ydata\n",
    "\n",
    "print('Out-of-bag score estimate: %.3f' % rf.oob_score_)\n",
    "print('Mean accuracy score: %.3f' % accuracy_score(ytrue, lr_test))\n",
    "print('F1 score:', f1_score(ytrue, lr_test))\n",
    "print('Recall:', recall_score(ytrue, lr_test))\n",
    "print('Precision:', precision_score(ytrue, lr_test))\n",
    "print('\\n clasification report:\\n', classification_report(ytrue, lr_test))\n",
    "print('\\n confusion matrix:\\n',confusion_matrix(ytrue, lr_test))\n",
    "\n",
    "fig = plt.figure()\n",
    "cm = pd.DataFrame(confusion_matrix(ytrue, lr_test), columns=['norm','seiz'], index=['norm','seiz'])\n",
    "sns.heatmap(cm, annot=True, fmt='g')\n",
    "ax = plt.gca()\n",
    "ax.set_title('Logistic Regression Baseline Confusion Matrix')\n",
    "ax.set_ylabel('True Label')\n",
    "ax.set_xlabel('Predicted Label')\n",
    "plt.show()"
   ]
  },
  {
   "cell_type": "code",
   "execution_count": 61,
   "metadata": {
    "scrolled": true
   },
   "outputs": [
    {
     "name": "stdout",
     "output_type": "stream",
     "text": [
      "Baseline testing prediction of all seizure:  0.588794498381877\n"
     ]
    },
    {
     "data": {
      "image/png": "[encoded data removed]",
      "text/plain": [
       "<matplotlib.figure.Figure at 0x1219661d0>"
      ]
     },
     "metadata": {},
     "output_type": "display_data"
    }
   ],
   "source": [
    "plt.figure()\n",
    "sns.distplot(ydata, kde=False, axlabel='Seizure or Not', label='Testing Dataset')\n",
    "ax=plt.gca()\n",
    "ax.set_title('Training Data Distribution')\n",
    "ax.set_xticks([0,1])\n",
    "ax.set_xticklabels(['Normal', 'Seizure'])\n",
    "ax.legend()\n",
    "\n",
    "print(\"Baseline testing prediction of all seizure: \", np.sum(ydata)/len(ydata))"
   ]
  },
  {
   "cell_type": "markdown",
   "metadata": {},
   "source": [
    "# 1. Run RF and LR\n",
    "\n",
    "These cells are going to run the linear classifiers on purely the training and testing data"
   ]
  },
  {
   "cell_type": "code",
   "execution_count": 35,
   "metadata": {},
   "outputs": [
    {
     "name": "stdout",
     "output_type": "stream",
     "text": [
      "RandomForestClassifier(bootstrap=True, class_weight=None, criterion='gini',\n",
      "            max_depth=None, max_features='auto', max_leaf_nodes=None,\n",
      "            min_impurity_decrease=0.0, min_impurity_split=None,\n",
      "            min_samples_leaf=1, min_samples_split=2,\n",
      "            min_weight_fraction_leaf=0.0, n_estimators=100, n_jobs=1,\n",
      "            oob_score=True, random_state=42, verbose=0, warm_start=False)\n",
      "CPU times: user 29.1 s, sys: 188 ms, total: 29.2 s\n",
      "Wall time: 29.4 s\n"
     ]
    }
   ],
   "source": [
    "%%time\n",
    "rf = RandomForestClassifier(n_estimators=100, oob_score=True, random_state=randstate)\n",
    "res = rf.fit(X_train, y_train.ravel())\n",
    "print(res)"
   ]
  },
  {
   "cell_type": "code",
   "execution_count": 36,
   "metadata": {},
   "outputs": [
    {
     "name": "stdout",
     "output_type": "stream",
     "text": [
      "Out-of-bag score estimate: 0.828\n",
      "Mean accuracy score: 0.835\n",
      "F1 score: 0.88678088367899\n",
      "Recall: 0.9429316560558411\n",
      "Precision: 0.8369417211328976\n",
      "\n",
      " clasification report:\n",
      "              precision    recall  f1-score   support\n",
      "\n",
      "        0.0       0.83      0.60      0.69      5958\n",
      "        1.0       0.84      0.94      0.89     13037\n",
      "\n",
      "avg / total       0.83      0.83      0.83     18995\n",
      "\n",
      "\n",
      " confusion matrix:\n",
      " [[ 3563  2395]\n",
      " [  744 12293]]\n"
     ]
    },
    {
     "data": {
      "text/plain": [
       "Text(0.5,15,'Predicted Label')"
      ]
     },
     "execution_count": 36,
     "metadata": {},
     "output_type": "execute_result"
    },
    {
     "data": {
      "image/png": "[encoded data removed]",
      "text/plain": [
       "<matplotlib.figure.Figure at 0x1215f0828>"
      ]
     },
     "metadata": {},
     "output_type": "display_data"
    }
   ],
   "source": [
    "predicted = rf.predict(X_test)\n",
    "\n",
    "print('Out-of-bag score estimate: %.3f' % rf.oob_score_)\n",
    "print('Mean accuracy score: %.3f' % accuracy_score(y_test, predicted))\n",
    "print('F1 score:', f1_score(y_test, predicted))\n",
    "print('Recall:', recall_score(y_test, predicted))\n",
    "print('Precision:', precision_score(y_test, predicted))\n",
    "print('\\n clasification report:\\n', classification_report(y_test,predicted))\n",
    "print('\\n confusion matrix:\\n',confusion_matrix(y_test, predicted))\n",
    "\n",
    "cm = pd.DataFrame(confusion_matrix(y_test, predicted), columns=['norm','seiz'], index=['norm','seiz'])\n",
    "sns.heatmap(cm, annot=True, fmt='g')\n",
    "ax = plt.gca()\n",
    "ax.set_title('Random Forest Baseline Confusion Matrix')\n",
    "ax.set_ylabel('True Label')\n",
    "ax.set_xlabel('Predicted Label')"
   ]
  },
  {
   "cell_type": "code",
   "execution_count": 37,
   "metadata": {},
   "outputs": [
    {
     "name": "stdout",
     "output_type": "stream",
     "text": [
      "GridSearchCV(cv=None, error_score='raise',\n",
      "       estimator=Pipeline(memory=None,\n",
      "     steps=[('scaler', StandardScaler(copy=True, with_mean=True, with_std=True)), ('logistic', LogisticRegression(C=1.0, class_weight=None, dual=False, fit_intercept=True,\n",
      "          intercept_scaling=1, max_iter=100, multi_class='ovr', n_jobs=1,\n",
      "          penalty='l2', random_state=None, solver='liblinear', tol=0.0001,\n",
      "          verbose=0, warm_start=False))]),\n",
      "       fit_params=None, iid=True, n_jobs=1,\n",
      "       param_grid={'logistic__penalty': ['l1', 'l2'], 'logistic__C': array([1.e-04, 1.e+00, 1.e+04]), 'logistic__max_iter': [100, 1000, 2000]},\n",
      "       pre_dispatch='2*n_jobs', refit=True, return_train_score='warn',\n",
      "       scoring=None, verbose=0)\n",
      "CPU times: user 2min 3s, sys: 1.85 s, total: 2min 5s\n",
      "Wall time: 2min 5s\n"
     ]
    }
   ],
   "source": [
    "%%time\n",
    "logistic = linear_model.LogisticRegression()\n",
    "scaler = StandardScaler()\n",
    "# set pipeline to run things using sklearn\n",
    "pipe = Pipeline(steps=[('scaler', scaler), ('logistic', logistic)])\n",
    "\n",
    "# Prediction\n",
    "Cs = np.logspace(-4, 4, 3)\n",
    "penalty = ['l1', 'l2']\n",
    "max_iter = [100, 1000, 2000]\n",
    "\n",
    "# Parameters of pipelines can be set using ‘__’ separated parameter names:\n",
    "estimator = GridSearchCV(pipe,\n",
    "                         dict(logistic__penalty=penalty,\n",
    "                              logistic__C=Cs,\n",
    "                              logistic__max_iter=max_iter\n",
    "                             ))\n",
    "result = estimator.fit(X_train, y_train.ravel())\n",
    "print(result)"
   ]
  },
  {
   "cell_type": "code",
   "execution_count": 38,
   "metadata": {},
   "outputs": [
    {
     "name": "stdout",
     "output_type": "stream",
     "text": [
      "Mean accuracy score: 0.800\n",
      "F1 score: 0.862193884944211\n",
      "Recall: 0.9127866840530797\n",
      "Precision: 0.8169149447381067\n",
      "\n",
      " clasification report:\n",
      "              precision    recall  f1-score   support\n",
      "\n",
      "       norm       0.74      0.55      0.63      5958\n",
      "      onset       0.82      0.91      0.86     13037\n",
      "\n",
      "avg / total       0.79      0.80      0.79     18995\n",
      "\n",
      "\n",
      " confusion matrix:\n",
      " [[ 3291  2667]\n",
      " [ 1137 11900]]\n"
     ]
    },
    {
     "data": {
      "text/plain": [
       "Text(0.5,15,'Predicted Label')"
      ]
     },
     "execution_count": 38,
     "metadata": {},
     "output_type": "execute_result"
    },
    {
     "data": {
      "image/png": "[encoded data removed]",
      "text/plain": [
       "<matplotlib.figure.Figure at 0x121a31e48>"
      ]
     },
     "metadata": {},
     "output_type": "display_data"
    }
   ],
   "source": [
    "predicted = estimator.predict(X_test)\n",
    "y_true = y_test\n",
    "\n",
    "print('Mean accuracy score: %.3f' % accuracy_score(y_test, predicted))\n",
    "print('F1 score:', f1_score(y_test, predicted))\n",
    "print('Recall:', recall_score(y_test, predicted))\n",
    "print('Precision:', precision_score(y_test, predicted))\n",
    "print('\\n clasification report:\\n', classification_report(y_test,predicted, target_names=['norm', 'onset']))\n",
    "print('\\n confusion matrix:\\n',confusion_matrix(y_test, predicted))\n",
    "\n",
    "cm = pd.DataFrame(confusion_matrix(y_test, predicted), columns=['norm','seiz'], index=['norm','seiz'])\n",
    "sns.heatmap(cm, annot=True, fmt='g')\n",
    "ax = plt.gca()\n",
    "ax.set_title('Logistic Regression Baseline Confusion Matrix')\n",
    "ax.set_ylabel('True Label')\n",
    "ax.set_xlabel('Predicted Label')"
   ]
  },
  {
   "cell_type": "code",
   "execution_count": null,
   "metadata": {
    "collapsed": true
   },
   "outputs": [],
   "source": []
  }
 ],
 "metadata": {
  "kernelspec": {
   "display_name": "dnn",
   "language": "python",
   "name": "dnn"
  },
  "language_info": {
   "codemirror_mode": {
    "name": "ipython",
    "version": 3
   },
   "file_extension": ".py",
   "mimetype": "text/x-python",
   "name": "python",
   "nbconvert_exporter": "python",
   "pygments_lexer": "ipython3",
   "version": "3.6.3"
  }
 },
 "nbformat": 4,
 "nbformat_minor": 2
}
