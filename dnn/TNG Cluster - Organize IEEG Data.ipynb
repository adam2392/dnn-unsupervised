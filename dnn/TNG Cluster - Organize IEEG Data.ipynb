{
 "cells": [
  {
   "cell_type": "code",
   "execution_count": 1,
   "metadata": {
    "collapsed": true
   },
   "outputs": [],
   "source": [
    "import sys\n",
    "import os\n",
    "sys.path.append('/Users/adam2392/Documents/tvb/')\n",
    "sys.path.append('/Users/adam2392/Documents/tvb/_tvbdata/')\n",
    "sys.path.append('/Users/adam2392/Documents/tvb/_tvblibrary/')\n",
    "from tvb.simulator.lab import *\n",
    "import numpy as np\n",
    "import pandas as pd\n",
    "import scipy\n",
    "from sklearn import cluster\n",
    "\n",
    "import tvbsim\n",
    "from runmainsim import *\n",
    "\n",
    "%load_ext autoreload\n",
    "%autoreload 2"
   ]
  },
  {
   "cell_type": "markdown",
   "metadata": {},
   "source": [
    "# Data Input\n",
    "\n",
    "Set up where we get data from. This is the data computed on all the tvb forwardsims, with the FFT. We grab the data here and load it locally onto RAM"
   ]
  },
  {
   "cell_type": "code",
   "execution_count": 3,
   "metadata": {},
   "outputs": [
    {
     "name": "stdout",
     "output_type": "stream",
     "text": [
      "('Moving contacts: ', 1)\n",
      "['id014_rb_fourier_sim_nez1_npz1.npz', 'id002_cj_fourier_sim_nez1_npz1.npz', 'id001_ac_fourier_sim_nez1_npz1.npz']\n"
     ]
    }
   ],
   "source": [
    "MOVEDCONTACTS = 1\n",
    "\n",
    "if MOVEDCONTACTS:\n",
    "    datadir = '/home/adamli/data/output/frequencyanalysis/moved/'\n",
    "else:\n",
    "    datadir = '/home/adamli/data/output/frequencyanalysis/notmoved/'\n",
    "if MOVEDCONTACTS:\n",
    "    datadir = '/Volumes/ADAM LI/pydata/output/frequencyanalysis/moved/'\n",
    "else:\n",
    "    datadir = '/Volumes/ADAM LI/pydata/output/frequencyanalysis/notmoved/'\n",
    "\n",
    "metadatadir = '/Volumes/ADAM LI/pydata/metadata/'    \n",
    "\n",
    "datafiles = os.listdir(datadir)\n",
    "print('Moving contacts: ', MOVEDCONTACTS)\n",
    "print(datafiles)"
   ]
  },
  {
   "cell_type": "markdown",
   "metadata": {},
   "source": [
    "# Setup Processing Pipeline\n",
    "\n",
    "Setup a processing pipeline and procedure for putting data into a processed format ready for DNN training.\n",
    "\n",
    "For all DNN we need:\n",
    "* timepoints of windows\n",
    "* frequency bands of activity\n",
    "* seizure onsets offsets indices\n",
    "* simulation parameters (x0 vals, ks, ez/pz regions, etc.)\n",
    "* FFT parameters"
   ]
  },
  {
   "cell_type": "code",
   "execution_count": 4,
   "metadata": {},
   "outputs": [
    {
     "name": "stdout",
     "output_type": "stream",
     "text": [
      "id014_rb_fourier_sim_nez1_npz1.npz\n",
      "['x0norm', 'patient', 'seeg_contacts', 'pz', 'ez', 'seeg_xyz', 'offsettimes', 'regions_centers', 'regions', 'stepsize', 'winsize', 'x0pz', 'onsettimes', 'pzindices', 'x0ez', 'ezindices', 'mtbandwidth']\n",
      "{'highgamma': [90, 501], 'lowfreq': [0, 16], 'gamma': [33, 90], 'midfreq': [16, 33]}\n",
      "[   0.    4.    8.   12.   16.   20.   24.   28.   32.   36.   40.   44.\n",
      "   48.   52.   56.   60.   64.   68.   72.   76.   80.   84.   88.   92.\n",
      "   96.  100.  104.  108.  112.  116.  120.  124.  128.  132.  136.  140.\n",
      "  144.  148.  152.  156.  160.  164.  168.  172.  176.  180.  184.  188.\n",
      "  192.  196.  200.  204.  208.  212.  216.  220.  224.  228.  232.  236.\n",
      "  240.  244.  248.  252.  256.  260.  264.  268.  272.  276.  280.  284.\n",
      "  288.  292.  296.  300.  304.  308.  312.  316.  320.  324.  328.  332.\n",
      "  336.  340.  344.  348.  352.  356.  360.  364.  368.  372.  376.  380.\n",
      "  384.  388.  392.  396.  400.  404.  408.  412.  416.  420.  424.  428.\n",
      "  432.  436.  440.  444.  448.  452.  456.  460.  464.  468.  472.  476.\n",
      "  480.  484.  488.  492.  496.  500.]\n",
      "{'lowfreq': [0, 3], 'midfreq': [4, 8], 'gamma': [9, 22], 'highgamma': [23, 125]}\n"
     ]
    }
   ],
   "source": [
    "# get factors of the number of regions\n",
    "def get_factors(x):\n",
    "   # This function takes a number and prints the factors\n",
    "\n",
    "    factors = []\n",
    "    for i in range(1, x + 1):\n",
    "        if x % i == 0:\n",
    "            factors.append(i)\n",
    "    return factors\n",
    "\n",
    "# establish frequency bands\n",
    "freqbands = {\n",
    "#     'deltatheta': [0,8],\n",
    "#     'alpha': [8, 16],\n",
    "#     'beta': [16, 30],\n",
    "#     'gamma': [30,90],\n",
    "#     'highgamma': [90, 500]\n",
    "    'lowfreq': [0, 16],\n",
    "    'midfreq': [16, 33],\n",
    "    'gamma': [33, 90],\n",
    "    'highgamma': [90, 501],\n",
    "}\n",
    "\n",
    "data = np.load(os.path.join(datadir,datafiles[0]))\n",
    "# extract data from the numpy file\n",
    "print datafiles[0]\n",
    "freqs = data['freqs']\n",
    "metadata = data['metadata'].item()\n",
    "\n",
    "freqbandindices = {}\n",
    "for band in freqbands:\n",
    "    lowerband = freqbands[band][0]\n",
    "    upperband = freqbands[band][1]\n",
    "    \n",
    "    # get indices where the freq bands are put in\n",
    "    freqbandindices[band] = np.where((freqs >= lowerband) & (freqs < upperband))\n",
    "    freqbandindices[band] = [freqbandindices[band][0][0], freqbandindices[band][0][-1]]\n",
    "\n",
    "print metadata.keys()\n",
    "print freqbands\n",
    "print freqs\n",
    "print freqbandindices"
   ]
  },
  {
   "cell_type": "code",
   "execution_count": 5,
   "metadata": {},
   "outputs": [
    {
     "name": "stdout",
     "output_type": "stream",
     "text": [
      "/Volumes/ADAM LI/pydata/output/frequencyanalysis/moved/id014_rb_fourier_sim_nez1_npz1.npz\n",
      "(1, 165, 1919)\n",
      "(1, 165, 1919)\n",
      "(1, 165, 1919)\n",
      "(1, 165, 1919)\n",
      "/Volumes/ADAM LI/pydata/output/frequencyanalysis/moved/id002_cj_fourier_sim_nez1_npz1.npz\n",
      "(1, 162, 1919)\n"
     ]
    },
    {
     "ename": "ValueError",
     "evalue": "all the input array dimensions except for the concatenation axis must match exactly",
     "output_type": "error",
     "traceback": [
      "\u001b[0;31m---------------------------------------------------------------------------\u001b[0m",
      "\u001b[0;31mValueError\u001b[0m                                Traceback (most recent call last)",
      "\u001b[0;32m<ipython-input-5-e79064c8de1d>\u001b[0m in \u001b[0;36m<module>\u001b[0;34m()\u001b[0m\n\u001b[1;32m     22\u001b[0m         \u001b[0;32mprint\u001b[0m \u001b[0mbuff\u001b[0m\u001b[0;34m.\u001b[0m\u001b[0mshape\u001b[0m\u001b[0;34m\u001b[0m\u001b[0m\n\u001b[1;32m     23\u001b[0m         \u001b[0;32mif\u001b[0m \u001b[0mband\u001b[0m \u001b[0;32min\u001b[0m \u001b[0mpowerbands\u001b[0m\u001b[0;34m:\u001b[0m\u001b[0;34m\u001b[0m\u001b[0m\n\u001b[0;32m---> 24\u001b[0;31m             \u001b[0mpowerbands\u001b[0m\u001b[0;34m[\u001b[0m\u001b[0mband\u001b[0m\u001b[0;34m]\u001b[0m \u001b[0;34m=\u001b[0m \u001b[0mnp\u001b[0m\u001b[0;34m.\u001b[0m\u001b[0mconcatenate\u001b[0m\u001b[0;34m(\u001b[0m\u001b[0;34m(\u001b[0m\u001b[0mpowerbands\u001b[0m\u001b[0;34m[\u001b[0m\u001b[0mband\u001b[0m\u001b[0;34m]\u001b[0m\u001b[0;34m,\u001b[0m \u001b[0mbuff\u001b[0m\u001b[0;34m[\u001b[0m\u001b[0mnp\u001b[0m\u001b[0;34m.\u001b[0m\u001b[0mnewaxis\u001b[0m\u001b[0;34m,\u001b[0m\u001b[0;34m:\u001b[0m\u001b[0;34m,\u001b[0m\u001b[0;34m:\u001b[0m\u001b[0;34m]\u001b[0m\u001b[0;34m)\u001b[0m\u001b[0;34m,\u001b[0m\u001b[0maxis\u001b[0m\u001b[0;34m=\u001b[0m\u001b[0;36m0\u001b[0m\u001b[0;34m)\u001b[0m\u001b[0;34m\u001b[0m\u001b[0m\n\u001b[0m\u001b[1;32m     25\u001b[0m         \u001b[0;32melse\u001b[0m\u001b[0;34m:\u001b[0m\u001b[0;34m\u001b[0m\u001b[0m\n\u001b[1;32m     26\u001b[0m             \u001b[0mpowerbands\u001b[0m\u001b[0;34m[\u001b[0m\u001b[0mband\u001b[0m\u001b[0;34m]\u001b[0m \u001b[0;34m=\u001b[0m \u001b[0mbuff\u001b[0m\u001b[0;34m[\u001b[0m\u001b[0mnp\u001b[0m\u001b[0;34m.\u001b[0m\u001b[0mnewaxis\u001b[0m\u001b[0;34m,\u001b[0m\u001b[0;34m:\u001b[0m\u001b[0;34m,\u001b[0m\u001b[0;34m:\u001b[0m\u001b[0;34m]\u001b[0m\u001b[0;34m\u001b[0m\u001b[0m\n",
      "\u001b[0;31mValueError\u001b[0m: all the input array dimensions except for the concatenation axis must match exactly"
     ]
    }
   ],
   "source": [
    "outputdir = '/Volumes/ADAM LI/pydata/output/frequencyanalysis/summarized/'\n",
    "\n",
    "powerbands = {}\n",
    "for idx,datafile in enumerate(datafiles):\n",
    "    print os.path.join(datadir,datafile)\n",
    "    data = np.load(os.path.join(datadir,datafile))\n",
    "    \n",
    "    # extract data from the numpy file\n",
    "    power = data['power']\n",
    "    freqs = data['freqs']\n",
    "    timepoints = data['timepoints']\n",
    "    metadata = data['metadata'].item()\n",
    "    metadata['freqbands'] = freqbands\n",
    "    \n",
    "    # compress data using frequency bands\n",
    "    for band in freqbandindices:\n",
    "        indices = freqbandindices[band]\n",
    "        # average between these two indices\n",
    "        buff = np.mean(power[:,indices[0]:indices[1]+1,:], axis=1)[np.newaxis,:,:]\n",
    "        \n",
    "        # project onto a \n",
    "        print buff.shape\n",
    "        if band in powerbands:\n",
    "            powerbands[band] = np.concatenate((powerbands[band], buff[np.newaxis,:,:]),axis=0)\n",
    "        else:\n",
    "            powerbands[band] = buff[np.newaxis,:,:]\n",
    "        \n",
    "# store all data \n",
    "# - power, timepoints, metadata\n",
    "print data.keys()\n",
    "print metadata.keys()\n",
    "print power.shape\n",
    "\n",
    "for band in powerbands:\n",
    "    print powerbands[band].shape"
   ]
  },
  {
   "cell_type": "code",
   "execution_count": 7,
   "metadata": {},
   "outputs": [
    {
     "name": "stdout",
     "output_type": "stream",
     "text": [
      "['x0norm', 'freqbands', 'patient', 'seeg_contacts', 'pz', 'ez', 'seeg_xyz', 'offsettimes', 'regions_centers', 'regions', 'stepsize', 'winsize', 'x0pz', 'onsettimes', 'pzindices', 'x0ez', 'ezindices', 'mtbandwidth']\n",
      "(27173, 61757, 91776, 116858, 145280, 181071, 215871)\n",
      "(12535, 50153, 82738, 111110, 131869, 169384, 201387)\n"
     ]
    }
   ],
   "source": [
    "print metadata.keys()\n",
    "print metadata['onsettimes']\n",
    "print metadata['offsettimes']\n",
    "\n",
    "onsettimes = metadata['onsettimes']\n",
    "offsettimes = metadata['offsettimes']\n",
    "\n",
    "if onsettimes[0] > offsettimes[0]:\n",
    "    onsettimes = metadata['offsettimes']\n",
    "    offsettimes = metadata['onsettimes']\n"
   ]
  },
  {
   "cell_type": "markdown",
   "metadata": {},
   "source": [
    "# Extract Power Data and Condense By Frequency Band"
   ]
  },
  {
   "cell_type": "code",
   "execution_count": 24,
   "metadata": {},
   "outputs": [
    {
     "name": "stdout",
     "output_type": "stream",
     "text": [
      "['id014_rb_fourier_sim_nez1_npz1.npz']\n",
      "(165, 1919)\n",
      "(165, 1919)\n",
      "(165, 1919)\n",
      "(165, 1919)\n",
      "['highgamma', 'lowfreq', 'gamma', 'midfreq']\n"
     ]
    }
   ],
   "source": [
    "patient = 'id014_rb'\n",
    "datafiles = [i for i in os.listdir(datadir) if patient in i]\n",
    "print datafiles\n",
    "datafile = datafiles[0]\n",
    "\n",
    "data = np.load(os.path.join(datadir,datafile))\n",
    "    \n",
    "# extract data from the numpy file\n",
    "power = data['power']\n",
    "freqs = data['freqs']\n",
    "timepoints = data['timepoints']\n",
    "metadata = data['metadata'].item()\n",
    "metadata['freqbands'] = freqbands\n",
    "\n",
    "powerbands = {}\n",
    "# compress data using frequency bands\n",
    "for band in freqbandindices:\n",
    "    indices = freqbandindices[band]\n",
    "    # average between these two indices\n",
    "    powerbands[band] = np.mean(power[:,indices[0]:indices[1]+1,:], axis=1) #[np.newaxis,:,:]\n",
    "\n",
    "    # project onto a \n",
    "#     print buff.shape\n",
    "#     if band in powerbands:\n",
    "#         powerbands[band] = np.concatenate((powerbands[band], buff),axis=0)\n",
    "#     else:\n",
    "#         powerbands[band] = buff\n",
    "        \n",
    "for band in freqbandindices:\n",
    "    print powerbands[band].shape\n",
    "print powerbands.keys()"
   ]
  },
  {
   "cell_type": "markdown",
   "metadata": {},
   "source": [
    "# Use Gain Matrix From TVB\n",
    "Using gain matrix from TVb, we just flatten the regions after projecting the power of each SEEG channel onto that region.\n",
    "\n",
    "1. Project frequency band power onto regions using gain matrix for each time window\n",
    "2. Arrange vector per time window into 2D matrix to get 2D matrices over time of averaged power from each frequency band\n",
    "3. Concatenate into a condensed matrix\n",
    "4. save using np.savez_compressed, or np.save\n",
    "\n",
    "**Note: Perhaps I should save the gain matrix from all tvb forward simulations from now on and pass it through to any analysis that needs it -> frequency analysis.\n",
    "\n",
    "### Need to add code to keep track of all the different onset/offsets"
   ]
  },
  {
   "cell_type": "code",
   "execution_count": 10,
   "metadata": {},
   "outputs": [
    {
     "name": "stdout",
     "output_type": "stream",
     "text": [
      "(165, 3)\n",
      "['ctx-lh-bankssts']\n",
      "[0]\n"
     ]
    }
   ],
   "source": [
    "# RECOMPUTE GAIN MATRIX USING THIS PATIENT\n",
    "project_dir = os.path.join('/Volumes/ADAM LI/pydata/metadata/', patient)\n",
    "use_subcort = True\n",
    "\n",
    "# load in the vertices, normals and areas of gain matrix\n",
    "verts, normals, areas, regmap = tvbsim.util.read_surf(project_dir, use_subcort)\n",
    "                             \n",
    "confile = os.path.join(metadatadir, patient, \"connectivity.zip\")\n",
    "sensorsfile = os.path.join(metadatadir, patient, \"seeg.txt\")\n",
    "####################### 1. Structural Connectivity ########################\n",
    "con = tvbsim.initializers.connectivity.initconn(confile)\n",
    "seeg_xyz = metadata['seeg_xyz']\n",
    "seeg_labels = metadata['seeg_contacts']\n",
    "\n",
    "# extract the seeg_xyz coords and the region centers\n",
    "region_centers = con.centres\n",
    "regions = con.region_labels\n",
    "\n",
    "# get the ez regions\n",
    "ezregion = metadata['ez']\n",
    "ezindices = metadata['ezindices']\n",
    "\n",
    "print seeg_xyz.shape\n",
    "print ezregion\n",
    "print ezindices"
   ]
  },
  {
   "cell_type": "code",
   "execution_count": 11,
   "metadata": {
    "collapsed": true
   },
   "outputs": [],
   "source": [
    "# reshape the regions of 84 into a parcellated rectangular \"image\"\n",
    "# height = np.ce\n",
    "factors = get_factors(84)\n",
    "height = factors[len(factors)/2]\n",
    "width = len(regions) / height\n",
    "\n",
    "# shapes of a new region/region centers\n",
    "new_region_centers = np.reshape(region_centers, (height, width, 3), order='C')\n",
    "new_regions = np.reshape(regions, (height,width), order='C')\n",
    "\n",
    "print \"Dimensions of image are: \"\n",
    "print height\n",
    "print width\n",
    "print new_region_centers.shape\n",
    "\n",
    "# check seeg_xyz moved correctly - In early simulation data results, was not correct\n",
    "buff = seeg_xyz - region_centers[:, np.newaxis]\n",
    "buff = np.sqrt((buff**2).sum(axis=-1))\n",
    "test = np.where(buff==0)\n",
    "indice = test[1]\n",
    "\n",
    "if not indice:\n",
    "    print \"Need to recompute the seeg_xyz and save correctly\""
   ]
  },
  {
   "cell_type": "code",
   "execution_count": 12,
   "metadata": {},
   "outputs": [
    {
     "name": "stdout",
     "output_type": "stream",
     "text": [
      "(84, 165)\n"
     ]
    }
   ],
   "source": [
    "modgain = tvbsim.util.gain_matrix_inv_square(verts, areas,\n",
    "                            regmap, len(regions), seeg_xyz)\n",
    "modgain = modgain.T\n",
    "print modgain.shape"
   ]
  },
  {
   "cell_type": "code",
   "execution_count": 29,
   "metadata": {},
   "outputs": [
    {
     "name": "stdout",
     "output_type": "stream",
     "text": [
      "(165, 1919)\n",
      "(165, 1919)\n",
      "(165, 1919)\n",
      "(165, 1919)\n",
      "(7, 12, 4, 1919)\n"
     ]
    }
   ],
   "source": [
    "# map seeg activity -> epileptor source and create data structure\n",
    "for idx,band in enumerate(powerbands):\n",
    "    mapped_power_band = np.tensordot(modgain, powerbands[band], axes=([1],[0]))\n",
    "    \n",
    "    # reformat into an image along the region axes\n",
    "#     powerbands[band] = mapped_power_band.reshape(height, width, mapped_power_band.shape[1], \n",
    "#                                                      order='C')\n",
    "    \n",
    "    if idx==0:\n",
    "        mapped_power_bands = mapped_power_band.reshape(height, width, mapped_power_band.shape[1], \n",
    "                                                     order='C')[np.newaxis,:,:,:]\n",
    "    else:\n",
    "        mapped_power_bands = np.append(mapped_power_bands, \n",
    "                    mapped_power_band.reshape(height, width, mapped_power_band.shape[1], \n",
    "                                                     order='C')[np.newaxis,:,:,:],\n",
    "                                      axis=0)\n",
    "    print powerbands[band].shape\n",
    "    \n",
    "# new condensed data structure is H x W x F x T, to concatenate more, add to T dimension\n",
    "mapped_power_bands = mapped_power_bands.swapaxes(0,2)\n",
    "print mapped_power_bands.shape"
   ]
  },
  {
   "cell_type": "markdown",
   "metadata": {},
   "source": [
    "# Use K Nearest Neighbors\n",
    "\n",
    "Get k nearest neighbors and project power activity into those neighbors."
   ]
  },
  {
   "cell_type": "code",
   "execution_count": 45,
   "metadata": {},
   "outputs": [
    {
     "name": "stdout",
     "output_type": "stream",
     "text": [
      "(array([ 27.66716676,  28.02515861,  28.44087267]), array([13, 31, 28]))\n",
      "[13 31 28]\n",
      "165\n",
      "(84, 4, 1919)\n"
     ]
    }
   ],
   "source": [
    "# map seeg_xyz to 3 closest region_centers\n",
    "tree = scipy.spatial.KDTree(region_centers)\n",
    "seeg_near_indices = []\n",
    "\n",
    "seeg_counter = np.zeros(len(regions))\n",
    "\n",
    "seeg_mapped_power = np.zeros((len(regions), len(freqbands), powerbands[band].shape[1]))\n",
    "\n",
    "for ichan in range(0, len(seeg_labels)):\n",
    "    near_regions = tree.query(seeg_xyz[ichan,:].squeeze(), k=3)\n",
    "    near_indices = near_regions[1]\n",
    "    \n",
    "    # go through each frequency band and map activity onto those near indices\n",
    "    for idx,band in enumerate(powerbands):\n",
    "        chanpower = powerbands[band][ichan,:]\n",
    "        seeg_mapped_power[near_indices,idx,:] += chanpower.astype('float64')\n",
    "    \n",
    "    seeg_counter[near_indices] += 1\n",
    "    seeg_near_indices.append(near_indices)\n",
    "\n",
    "# get the average based on how many contributions of the seeg power was to this region\n",
    "seeg_mapped_power = seeg_mapped_power / seeg_counter[:,np.newaxis,np.newaxis]\n",
    "\n",
    "print near_regions\n",
    "print near_indices\n",
    "print len(seeg_near_indices)\n",
    "print seeg_mapped_power.shape\n",
    "# print seeg_counter"
   ]
  },
  {
   "cell_type": "code",
   "execution_count": 65,
   "metadata": {},
   "outputs": [
    {
     "name": "stdout",
     "output_type": "stream",
     "text": [
      "(7, 12, 4, 1919)\n"
     ]
    }
   ],
   "source": [
    "seeg_mapped_power = seeg_mapped_power.reshape(height, width, len(freqbands), powerbands[band].shape[1], \n",
    "                                                     order='C')\n",
    "seeg_mapped_power = seeg_mapped_power.swapaxes(0,1)\n",
    "print seeg_mapped_power.shape"
   ]
  },
  {
   "cell_type": "markdown",
   "metadata": {},
   "source": [
    "# Fall Off with Modified 1/r^2 Function\n",
    "\n",
    "For any distances 0 <= r <= 1, set gain to 1, and then set gain as a function of 1/r^2.\n",
    "\n",
    "#### Note: We should check that the units of them are meters and not mm? Is the law only apply for metric units?"
   ]
  },
  {
   "cell_type": "code",
   "execution_count": 110,
   "metadata": {},
   "outputs": [
    {
     "name": "stdout",
     "output_type": "stream",
     "text": [
      "(84, 165)\n"
     ]
    }
   ],
   "source": [
    "# map seeg_xyz to the rest of the regions from a factor of \n",
    "dr = region_centers - seeg_xyz[:,np.newaxis] # computes distance along each axis\n",
    "ndr = np.sqrt((dr**2).sum(axis=-1)) # computes euclidean distance\n",
    "Vr = 1/(ndr**2) # fall off as a function of r^2\n",
    "\n",
    "inf_indices = np.where(np.isinf(Vr))\n",
    "small_indices = np.where(ndr <= 1)\n",
    "\n",
    "# can either set to 1, or the max that there currently is + some small epsilon\n",
    "# the problem with setting to 1 is that the signal might drown out everything else\n",
    "Vr[small_indices] = np.nanmax(np.ma.masked_invalid(Vr[:])) + np.nanmin(Vr[:])\n",
    "\n",
    "# normalize Vr with minmax\n",
    "from sklearn.preprocessing import MinMaxScaler\n",
    "scaler = MinMaxScaler(feature_range=(0, 1))\n",
    "Vr = scaler.fit_transform(Vr)\n",
    "\n",
    "# store the transpose\n",
    "Vr = Vr.T\n",
    "\n",
    "print Vr.shape\n",
    "# print Vr[small_indices]\n",
    "# print inf_indices\n",
    "# print small_indices\n",
    "# print np.where(np.isinf(Vr))\n",
    "\n",
    "\n",
    "# import matplotlib.pyplot as plt\n",
    "# plt.imshow(Vr, aspect='auto')\n",
    "# plt.colorbar()\n",
    "# plt.show()"
   ]
  },
  {
   "cell_type": "code",
   "execution_count": 111,
   "metadata": {},
   "outputs": [
    {
     "name": "stdout",
     "output_type": "stream",
     "text": [
      "(165, 1919)\n",
      "(165, 1919)\n",
      "(165, 1919)\n",
      "(165, 1919)\n",
      "(7, 12, 4, 1919)\n"
     ]
    }
   ],
   "source": [
    "# map seeg activity -> epileptor source and create data structure\n",
    "for idx,band in enumerate(powerbands):\n",
    "    mapped_power_band = np.tensordot(Vr, powerbands[band], axes=([1],[0]))\n",
    "    \n",
    "    # store the formatted power bands\n",
    "    if idx==0:\n",
    "        mapped_power_bands = mapped_power_band.reshape(height, width, mapped_power_band.shape[1], \n",
    "                                                     order='C')[np.newaxis,:,:,:]\n",
    "    else:\n",
    "        mapped_power_bands = np.append(mapped_power_bands, \n",
    "                    mapped_power_band.reshape(height, width, mapped_power_band.shape[1], \n",
    "                                                     order='C')[np.newaxis,:,:,:],\n",
    "                                      axis=0)\n",
    "    print powerbands[band].shape\n",
    "    \n",
    "# new condensed data structure is H x W x F x T, to concatenate more, add to T dimension\n",
    "mapped_power_bands = mapped_power_bands.swapaxes(0,2)\n",
    "print mapped_power_bands.shape"
   ]
  },
  {
   "cell_type": "markdown",
   "metadata": {},
   "source": [
    "# Use PCA with K Nearest Neighbors\n",
    "\n",
    "Using PCA to project everything SEEG and regions xyz onto 2D coordinates and then perform K nearest neighbors to average power activity for each frequency band into that slot."
   ]
  },
  {
   "cell_type": "code",
   "execution_count": null,
   "metadata": {
    "collapsed": true
   },
   "outputs": [],
   "source": []
  },
  {
   "cell_type": "markdown",
   "metadata": {},
   "source": [
    "# Lastly: 3D Convolutional Neural Network\n",
    "\n",
    "Instead of using a traditional 2D convolutional neural network, we can perhaps define a cube around each brain, and perform 3D sparse convolutional neural network training also to compare.\n",
    "\n",
    "This effort might be worse because of the issues of sparsity and the implementability on a GPU with that amount of data."
   ]
  },
  {
   "cell_type": "markdown",
   "metadata": {},
   "source": [
    "# Old Notes and Tries\n",
    "\n",
    "Different things I was trying to script..."
   ]
  },
  {
   "cell_type": "code",
   "execution_count": null,
   "metadata": {
    "collapsed": true,
    "scrolled": false
   },
   "outputs": [],
   "source": [
    "patient = 'id014_rb'\n",
    "confile = os.path.join(metadatadir, patient, \"connectivity.zip\")\n",
    "sensorsfile = os.path.join(metadatadir, patient, \"seeg.txt\")\n",
    "####################### 1. Structural Connectivity ########################\n",
    "con = tvbsim.initializers.connectivity.initconn(confile)\n",
    "seeg_xyz = metadata['seeg_xyz']\n",
    "seeg_labels = metadata['seeg_contacts']\n",
    "\n",
    "# extract the seeg_xyz coords and the region centers\n",
    "# seeg_df = tvbsim.util.extractseegxyz(sensorsfile)\n",
    "# seeg_labels = seeg_df.index.values\n",
    "# seeg_xyz = seeg_df.values\n",
    "\n",
    "# extract the seeg_xyz coords and the region centers\n",
    "region_centers = con.centres\n",
    "regions = con.region_labels\n",
    "\n",
    "print regions.shape\n",
    "print region_centers.shape\n",
    "print seeg_xyz.shape\n",
    "print seeg_labels.shape\n",
    "\n",
    "test = seeg_xyz - region_centers[:, np.newaxis]\n",
    "test = np.sqrt((test**2).sum(axis=-1))\n",
    "print \"looking at test\"\n",
    "print test.shape\n",
    "print np.where(test==0)\n",
    "\n",
    "print test[0,133]\n",
    "print regions[0]\n",
    "\n",
    "########## MOVE INDICES\n",
    "# ezindices = metadata['ezindices']\n",
    "# # initialize object to assist in moving seeg contacts\n",
    "# movecontact = tvbsim.util.MoveContacts(seeg_labels, seeg_xyz, \n",
    "#                                    regions, region_centers, True)\n",
    "# # move electrodes onto ez indices\n",
    "# elecmovedindices = []\n",
    "# for ezindex in ezindices:\n",
    "#     print \"Moving onto current ez index: \", ezindex, \" at \", regions[ezindex]\n",
    "#      # find the closest contact index and distance\n",
    "#     seeg_index, distance = movecontact.findclosestcontact(ezindex, elecmovedindices)\n",
    "\n",
    "#     # get the modified seeg xyz and gain matrix\n",
    "#     modseeg, electrodeindices = movecontact.movecontact(ezindex, seeg_index)\n",
    "#     elecmovedindices.append(electrodeindices)\n",
    "    \n",
    "# print modseeg[elecmovedindices]\n",
    "# print region_centers[ezindices]\n",
    "# test = modseeg[elecmovedindices] - region_centers[ezindices, np.newaxis]\n",
    "# print \"looking at test\"\n",
    "# print test\n",
    "# print test.shape\n",
    "# buff = np.sqrt((test**2).sum(axis=-1))\n",
    "# print buff\n",
    "# print buff.shape\n",
    "\n",
    "# test = 1/(4*np.pi*buff)\n",
    "# print test"
   ]
  }
 ],
 "metadata": {
  "kernelspec": {
   "display_name": "fragility",
   "language": "python",
   "name": "fragility"
  },
  "language_info": {
   "codemirror_mode": {
    "name": "ipython",
    "version": 2
   },
   "file_extension": ".py",
   "mimetype": "text/x-python",
   "name": "python",
   "nbconvert_exporter": "python",
   "pygments_lexer": "ipython2",
   "version": "2.7.11"
  }
 },
 "nbformat": 4,
 "nbformat_minor": 2
}
