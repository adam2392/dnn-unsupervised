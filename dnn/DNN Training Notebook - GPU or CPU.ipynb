{
 "cells": [
  {
   "cell_type": "code",
   "execution_count": 1,
   "metadata": {},
   "outputs": [
    {
     "name": "stderr",
     "output_type": "stream",
     "text": [
      "Using TensorFlow backend.\n"
     ]
    }
   ],
   "source": [
    "import time\n",
    "\n",
    "import numpy as np\n",
    "# np.random.seed(1234)\n",
    "from functools import reduce\n",
    "import math as m\n",
    "\n",
    "# import DNN frameworks\n",
    "import tensorflow as tf\n",
    "import keras\n",
    "\n",
    "# import high level optimizers, models and layers\n",
    "from keras.optimizers import SGD\n",
    "from keras.models import Sequential\n",
    "from keras.layers import InputLayer\n",
    "\n",
    "# for CNN\n",
    "from keras.layers import Conv2D, MaxPooling2D\n",
    "# for RNN\n",
    "from keras.layers import LSTM\n",
    "\n",
    "# for utility functionality\n",
    "from keras.layers import Dense, Dropout, Flatten\n",
    "\n",
    "from keras.preprocessing import sequence\n",
    "from keras.layers.embeddings import Embedding\n",
    "\n",
    "# utility for datasets and training\n",
    "# from keras.utils.training_utils import multi_gpu_model\n",
    "from keras.datasets import imdb\n",
    "from keras.preprocessing.image import ImageDataGenerator\n",
    "from keras.callbacks import LearningRateScheduler\n",
    "# imports tensorflow\n",
    "# from keras import backend as K"
   ]
  },
  {
   "cell_type": "code",
   "execution_count": 2,
   "metadata": {
    "collapsed": true
   },
   "outputs": [],
   "source": [
    "def build_cnn(model, w_init=None, n_layers=(4,2,1),poolsize=(2,2),n_filters_first=32):    \n",
    "    DEBUG=0\n",
    "    \n",
    "    # check for weight initialization -> apply Glorotuniform\n",
    "    if w_init is None:\n",
    "        w_init = [keras.initializers.glorot_uniform()] * sum(n_layers)\n",
    "    \n",
    "    # set up input layer of CNN\n",
    "    model.add(InputLayer(input_shape=(imsize, imsize, n_colors)))\n",
    "    # initialize counter\n",
    "    count=0\n",
    "    \n",
    "    # add the rest of the hidden layers\n",
    "    for idx, n_layer in enumerate(n_layers):\n",
    "        for ilay in range(n_layer):\n",
    "            model.add(Conv2D(n_filters_first*(2 ** idx), \n",
    "                             (3, 3),\n",
    "                             input_shape=(imsize, imsize, n_colors),\n",
    "                             kernel_initializer=w_init[count], activation='relu'))\n",
    "            if DEBUG:\n",
    "                print(model.output_shape)\n",
    "                print(idx, \" and \", ilay)\n",
    "            count+=1\n",
    "\n",
    "        # create a network at the end with a max pooling\n",
    "        model.add(MaxPooling2D(pool_size=poolsize))\n",
    "    return model\n",
    "def poly_decay(epoch):\n",
    "    # initialize the maximum number of epochs, base learning rate,\n",
    "    # and power of the polynomial\n",
    "    maxEpochs = NUM_EPOCHS\n",
    "    baseLR = INIT_LR\n",
    "    power = 1.0\n",
    "    # compute the new learning rate based on polynomial decay\n",
    "    alpha = baseLR * (1 - (epoch / float(maxEpochs))) ** power\n",
    "    # return the new learning rate\n",
    "    return alpha\n"
   ]
  },
  {
   "cell_type": "code",
   "execution_count": 3,
   "metadata": {
    "scrolled": true
   },
   "outputs": [
    {
     "name": "stdout",
     "output_type": "stream",
     "text": [
      "['/gpu:0', '/gpu:1']\n",
      "[name: \"/cpu:0\"\n",
      "device_type: \"CPU\"\n",
      "memory_limit: 268435456\n",
      "locality {\n",
      "}\n",
      "incarnation: 18273343555873161807\n",
      ", name: \"/gpu:0\"\n",
      "device_type: \"GPU\"\n",
      "memory_limit: 234684416\n",
      "locality {\n",
      "  bus_id: 1\n",
      "}\n",
      "incarnation: 15817859456517356540\n",
      "physical_device_desc: \"device: 0, name: GeForce GTX 1080, pci bus id: 0000:03:00.0\"\n",
      ", name: \"/gpu:1\"\n",
      "device_type: \"GPU\"\n",
      "memory_limit: 234946560\n",
      "locality {\n",
      "  bus_id: 1\n",
      "}\n",
      "incarnation: 8973268339811720805\n",
      "physical_device_desc: \"device: 1, name: GeForce GTX 1080, pci bus id: 0000:04:00.0\"\n",
      "]\n"
     ]
    }
   ],
   "source": [
    "from tensorflow.python.client import device_lib\n",
    "def get_available_gpus():\n",
    "    local_device_protos = device_lib.list_local_devices()\n",
    "    return [x.name for x in local_device_protos if x.device_type == 'GPU']\n",
    "# number of gpus\n",
    "G = 1\n",
    "print(get_available_gpus())\n",
    "print(device_lib.list_local_devices())\n"
   ]
  },
  {
   "cell_type": "code",
   "execution_count": 24,
   "metadata": {},
   "outputs": [
    {
     "name": "stdout",
     "output_type": "stream",
     "text": [
      "[[ 22.  28.]\n",
      " [ 49.  64.]]\n"
     ]
    }
   ],
   "source": [
    "# Creates a graph.\n",
    "a = tf.constant([1.0, 2.0, 3.0, 4.0, 5.0, 6.0], shape=[2, 3], name='a')\n",
    "b = tf.constant([1.0, 2.0, 3.0, 4.0, 5.0, 6.0], shape=[3, 2], name='b')\n",
    "c = tf.matmul(a, b)\n",
    "# Creates a session with log_device_placement set to True.\n",
    "sess = tf.Session(config=tf.ConfigProto(log_device_placement=True))\n",
    "# Runs the op.\n",
    "print(sess.run(c))"
   ]
  },
  {
   "cell_type": "markdown",
   "metadata": {},
   "source": [
    "# First CNN Training and Validation\n",
    "\n",
    "This trains the example CNN using Keras and tensorflow on NVIDIA 1080X GPU for MNIST dataset. It is not very deep, and is a proof-of-concept.\n",
    "\n",
    "We log and show the code for showing the training loss over epoch.\n",
    "Next we will train an LSTM for the IMDB dataset and then finally, we will combine the two to show training on a real dataset."
   ]
  },
  {
   "cell_type": "code",
   "execution_count": 4,
   "metadata": {},
   "outputs": [
    {
     "name": "stdout",
     "output_type": "stream",
     "text": [
      "Extracting MNIST_data/train-images-idx3-ubyte.gz\n",
      "Extracting MNIST_data/train-labels-idx1-ubyte.gz\n",
      "Extracting MNIST_data/t10k-images-idx3-ubyte.gz\n",
      "Extracting MNIST_data/t10k-labels-idx1-ubyte.gz\n",
      "3\n",
      "<class 'tensorflow.contrib.learn.python.learn.datasets.base.Datasets'>\n"
     ]
    }
   ],
   "source": [
    "from tensorflow.examples.tutorials.mnist import input_data\n",
    "mnist = input_data.read_data_sets(\"MNIST_data/\", one_hot=True)\n",
    "print(len(mnist))\n",
    "print(type(mnist))"
   ]
  },
  {
   "cell_type": "code",
   "execution_count": 5,
   "metadata": {},
   "outputs": [
    {
     "name": "stdout",
     "output_type": "stream",
     "text": [
      "im size is :  28\n",
      "(55000, 28, 28, 1)\n",
      "(55000, 10)\n"
     ]
    }
   ],
   "source": [
    "n_colors = 1\n",
    "imsize=28\n",
    "\n",
    "X_train= mnist.train.images\n",
    "y_train = mnist.train.labels\n",
    "# y_train=keras.utils.np_utils.to_categorical(y_train, num_classes=10)\n",
    "X_test = mnist.test.images\n",
    "y_test = mnist.test.labels\n",
    "\n",
    "# reshape into correct size to feed into NN\n",
    "X_train = np.reshape(X_train, [-1, imsize, imsize, n_colors])\n",
    "X_test = np.reshape(X_test, [-1, imsize, imsize, n_colors])\n",
    "\n",
    "imsize=X_train.shape[1]\n",
    "print(\"im size is : \", imsize)\n",
    "print(X_train.shape)\n",
    "print(y_train.shape)"
   ]
  },
  {
   "cell_type": "code",
   "execution_count": 6,
   "metadata": {},
   "outputs": [
    {
     "name": "stdout",
     "output_type": "stream",
     "text": [
      "Tensor(\"max_pooling2d_2/MaxPool:0\", shape=(?, 5, 5, 32), dtype=float32)\n",
      "(None, 800)\n",
      "(None, 800)\n",
      "(None, 10)\n"
     ]
    }
   ],
   "source": [
    "w_init=None\n",
    "model = Sequential()\n",
    "model = build_cnn(model, w_init=w_init, n_layers=(2,1), n_filters_first=16)\n",
    "print(model.output)\n",
    "\n",
    "# to test training of this network, add a softmax at the end\n",
    "model.add(Flatten())\n",
    "print(model.output_shape)\n",
    "model.add(Dense(800, activation='relu'))\n",
    "print(model.output_shape)\n",
    "model.add(Dense(10, activation='softmax'))\n",
    "print(model.output_shape)\n",
    "\n",
    "# ADAM\n",
    "ADAM = keras.optimizers.Adam(lr=0.001, beta_1=0.9, beta_2=0.999, epsilon=1e-08, decay=0.0)\n",
    "model.compile(loss='categorical_crossentropy', optimizer=ADAM, metrics=[\"accuracy\"])"
   ]
  },
  {
   "cell_type": "code",
   "execution_count": null,
   "metadata": {
    "scrolled": false
   },
   "outputs": [
    {
     "name": "stdout",
     "output_type": "stream",
     "text": [
      "Epoch 1/100\n",
      "17s - loss: 0.3016 - acc: 0.9014 - val_loss: 0.1088 - val_acc: 0.9654\n",
      "Epoch 2/100\n",
      "11s - loss: 0.1260 - acc: 0.9615 - val_loss: 0.1114 - val_acc: 0.9651\n",
      "Epoch 3/100\n",
      "11s - loss: 0.1038 - acc: 0.9680 - val_loss: 0.0850 - val_acc: 0.9735\n",
      "Epoch 4/100\n",
      "11s - loss: 0.0918 - acc: 0.9715 - val_loss: 0.0648 - val_acc: 0.9792\n",
      "Epoch 5/100\n",
      "11s - loss: 0.0883 - acc: 0.9732 - val_loss: 0.0626 - val_acc: 0.9800\n",
      "Epoch 6/100\n",
      "11s - loss: 0.0862 - acc: 0.9731 - val_loss: 0.0690 - val_acc: 0.9799\n",
      "Epoch 7/100\n",
      "11s - loss: 0.0790 - acc: 0.9764 - val_loss: 0.0677 - val_acc: 0.9791\n",
      "Epoch 8/100\n",
      "11s - loss: 0.0800 - acc: 0.9754 - val_loss: 0.0559 - val_acc: 0.9833\n",
      "Epoch 9/100\n",
      "11s - loss: 0.0766 - acc: 0.9775 - val_loss: 0.0711 - val_acc: 0.9757\n",
      "Epoch 10/100\n",
      "11s - loss: 0.0736 - acc: 0.9774 - val_loss: 0.0510 - val_acc: 0.9847\n",
      "Epoch 11/100\n",
      "11s - loss: 0.0720 - acc: 0.9787 - val_loss: 0.0490 - val_acc: 0.9852\n",
      "Epoch 12/100\n"
     ]
    }
   ],
   "source": [
    "NUM_EPOCHS = 100\n",
    "# construct the image generator for data augmentation and construct\n",
    "# the set of callbacks\n",
    "aug = ImageDataGenerator(width_shift_range=0.1,\n",
    "    height_shift_range=0.1, horizontal_flip=True,\n",
    "    fill_mode=\"nearest\")\n",
    "callbacks = [LearningRateScheduler(poly_decay)]\n",
    "INIT_LR = 5e-3\n",
    " \n",
    "HH = model.fit_generator(\n",
    "    aug.flow(X_train, y_train, batch_size=64 * G), # adds augmentation to data using generator\n",
    "    validation_data=(X_test, y_test),  \n",
    "    steps_per_epoch=len(X_train) // (64 * G),    #\n",
    "    epochs=NUM_EPOCHS,\n",
    "    callbacks=callbacks, verbose=2)"
   ]
  },
  {
   "cell_type": "code",
   "execution_count": null,
   "metadata": {
    "collapsed": true
   },
   "outputs": [],
   "source": [
    "import matplotlib.pyplot as plt\n",
    "H = HH.history\n",
    "print(HH.params)\n",
    "print(H.keys())\n",
    "\n",
    "# plot the training loss and accuracy\n",
    "N = np.arange(0, len(H[\"loss\"]))\n",
    "plt.style.use(\"ggplot\")\n",
    "plt.figure()\n",
    "plt.plot(N, H[\"loss\"], label=\"train_loss\")\n",
    "plt.plot(N, H[\"val_loss\"], label=\"test_loss\")\n",
    "plt.plot(N, H[\"acc\"], label=\"train_acc\")\n",
    "plt.plot(N, H[\"val_acc\"], label=\"test_acc\")\n",
    "plt.title(\"VGG Net on MNIST\")\n",
    "plt.xlabel(\"Epoch #\")\n",
    "plt.ylabel(\"Loss/Accuracy\")\n",
    "plt.legend()\n",
    "plt.show()\n",
    "\n",
    "print(model.summary())"
   ]
  },
  {
   "cell_type": "markdown",
   "metadata": {
    "collapsed": true
   },
   "source": [
    "## Second Test Building The LSTM\n",
    "\n",
    "We now want to build the RNN layers using LSTM. First show an example of the LSTM running sequence classification on the imdb dataset."
   ]
  },
  {
   "cell_type": "code",
   "execution_count": 42,
   "metadata": {},
   "outputs": [
    {
     "name": "stdout",
     "output_type": "stream",
     "text": [
      "(25000,)\n",
      "(25000,)\n",
      "(25000,)\n",
      "(25000,)\n"
     ]
    }
   ],
   "source": [
    "np.random.seed(7)\n",
    "top_words = 5000\n",
    "(X_train, y_train), (X_test, y_test) = imdb.load_data(num_words=top_words)\n",
    "\n",
    "print(X_train.shape)\n",
    "print(y_train.shape)\n",
    "print(X_test.shape)\n",
    "print(y_test.shape)"
   ]
  },
  {
   "cell_type": "code",
   "execution_count": 48,
   "metadata": {},
   "outputs": [
    {
     "name": "stdout",
     "output_type": "stream",
     "text": [
      "(25000, 500)\n",
      "(25000, 500)\n"
     ]
    }
   ],
   "source": [
    "# truncate and pad input sequences\n",
    "max_review_length = 500\n",
    "X_train = sequence.pad_sequences(X_train, maxlen=max_review_length)\n",
    "X_test = sequence.pad_sequences(X_test, maxlen=max_review_length)\n",
    "\n",
    "print(X_train.shape)\n",
    "print(X_test.shape)\n",
    "\n",
    "# create the model\n",
    "embedding_vecor_length = 32\n",
    "model = Sequential()\n",
    "model.add(Embedding(top_words, embedding_vecor_length, input_length=max_review_length))\n",
    "model.add(LSTM(100))\n",
    "model.add(Dense(1, activation='sigmoid'))\n",
    "model.compile(loss='binary_crossentropy', optimizer='adam', metrics=['accuracy'])"
   ]
  },
  {
   "cell_type": "code",
   "execution_count": null,
   "metadata": {},
   "outputs": [
    {
     "name": "stdout",
     "output_type": "stream",
     "text": [
      "Train on 25000 samples, validate on 25000 samples\n",
      "Epoch 1/100\n"
     ]
    }
   ],
   "source": [
    "# print(model.fit())\n",
    "HH = model.fit(\n",
    "    x=X_train, \n",
    "    y=y_train, \n",
    "    validation_data=(X_test, y_test), \n",
    "#     steps_per_epoch=len(X_train) // (64 * G),\n",
    "    epochs=NUM_EPOCHS, \n",
    "    batch_size=64*G)\n",
    "\n",
    "# Final evaluation of the model\n",
    "scores = model.evaluate(X_test, y_test, verbose=0)\n",
    "print(\"Accuracy: %.2f%%\" % (scores[1]*100))"
   ]
  },
  {
   "cell_type": "code",
   "execution_count": 57,
   "metadata": {},
   "outputs": [
    {
     "name": "stdout",
     "output_type": "stream",
     "text": [
      "{'epochs': 100, 'steps': 859, 'verbose': 2, 'do_validation': True, 'metrics': ['loss', 'acc', 'val_loss', 'val_acc']}\n",
      "dict_keys(['val_loss', 'val_acc', 'loss', 'acc'])\n"
     ]
    },
    {
     "data": {
      "image/png": "[encoded data removed]",
      "text/plain": [
       "<matplotlib.figure.Figure at 0x7fcd82d53860>"
      ]
     },
     "metadata": {},
     "output_type": "display_data"
    },
    {
     "name": "stdout",
     "output_type": "stream",
     "text": [
      "_________________________________________________________________\n",
      "Layer (type)                 Output Shape              Param #   \n",
      "=================================================================\n",
      "embedding_3 (Embedding)      (None, 500, 32)           160000    \n",
      "_________________________________________________________________\n",
      "lstm_3 (LSTM)                (None, 100)               53200     \n",
      "_________________________________________________________________\n",
      "dense_7 (Dense)              (None, 1)                 101       \n",
      "=================================================================\n",
      "Total params: 213,301\n",
      "Trainable params: 213,301\n",
      "Non-trainable params: 0\n",
      "_________________________________________________________________\n",
      "None\n"
     ]
    }
   ],
   "source": [
    "H = HH.history\n",
    "print(HH.params)\n",
    "print(H.keys())\n",
    "\n",
    "# plot the training loss and accuracy\n",
    "N = np.arange(0, len(H[\"loss\"]))\n",
    "plt.style.use(\"ggplot\")\n",
    "plt.figure()\n",
    "plt.plot(N, H[\"loss\"], label=\"train_loss\")\n",
    "plt.plot(N, H[\"val_loss\"], label=\"test_loss\")\n",
    "plt.plot(N, H[\"acc\"], label=\"train_acc\")\n",
    "plt.plot(N, H[\"val_acc\"], label=\"test_acc\")\n",
    "plt.title(\"LSTM On IMDB\")\n",
    "plt.xlabel(\"Epoch #\")\n",
    "plt.ylabel(\"Loss/Accuracy\")\n",
    "plt.legend()\n",
    "plt.show()\n",
    "\n",
    "print(model.summary())"
   ]
  },
  {
   "cell_type": "code",
   "execution_count": null,
   "metadata": {
    "collapsed": true
   },
   "outputs": [],
   "source": []
  }
 ],
 "metadata": {
  "kernelspec": {
   "display_name": "dnn",
   "language": "python",
   "name": "dnn"
  },
  "language_info": {
   "codemirror_mode": {
    "name": "ipython",
    "version": 3
   },
   "file_extension": ".py",
   "mimetype": "text/x-python",
   "name": "python",
   "nbconvert_exporter": "python",
   "pygments_lexer": "ipython3",
   "version": "3.6.2"
  }
 },
 "nbformat": 4,
 "nbformat_minor": 2
}
