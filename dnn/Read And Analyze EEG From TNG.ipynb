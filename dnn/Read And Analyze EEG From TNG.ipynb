{
 "cells": [
  {
   "cell_type": "code",
   "execution_count": 3,
   "metadata": {},
   "outputs": [],
   "source": [
    "import sys\n",
    "sys.path.append('../')\n",
    "sys.path.append('/Users/adam2392/Documents/fragility_analysis/')\n",
    "import fragility.util.utils as futil\n",
    "from datainterface import read_eeg\n",
    "import datainterface.patient as Pat\n",
    "# from fragility.signalprocessing import frequencyanalysis\n",
    "# from datainterface import readmat\n",
    "\n",
    "# sys.path.append('/home/adamli/tng_tvb/')\n",
    "# from tvbsim import visualize\n",
    "\n",
    "import os\n",
    "import time\n",
    "\n",
    "import numpy as np\n",
    "import pandas as pd\n",
    "import scipy\n",
    "import scipy.io\n",
    "\n",
    "sys.path.append('/Users/adam2392/Documents/tvb/_tvbdata/')\n",
    "sys.path.append('/Users/adam2392/Documents/tvb/_tvblibrary/')\n",
    "sys.path.append('/Users/adam2392/Documents/dnn-unsupervised/')\n",
    "# import processing.util as util\n",
    "# import processing.frequencytransform as ft\n",
    "# import peakdetect\n",
    "# import processing.preprocessfft as preprocess\n",
    "\n",
    "# sys.path.append('/Users/adam2392/Documents/tvb/')\n",
    "# sys.path.append('/Users/adam2392/Documents/tvb/_tvbdata/')\n",
    "# sys.path.append('/Users/adam2392/Documents/tvb/_tvblibrary/')\n",
    "# from tvb.simulator.lab import *\n",
    "# import tvbsim.util\n",
    "\n",
    "from natsort import natsorted\n",
    "import ntpath\n",
    "from scipy.signal import butter, lfilter\n",
    "\n",
    "%load_ext autoreload\n",
    "%autoreload 2"
   ]
  },
  {
   "cell_type": "code",
   "execution_count": 25,
   "metadata": {},
   "outputs": [
    {
     "name": "stdout",
     "output_type": "stream",
     "text": [
      "['LERAT_Seizure3_0005.eeg', 'LERAT_Seizure1.eeg', 'LERAT_Seizure2.eeg', 'LERAT_Seizure4_0002.eeg']\n"
     ]
    }
   ],
   "source": [
    "datadir = '/Users/adam2392/Documents/pydata/eeg/id027_kl/'\n",
    "datafiles = os.listdir(datadir)\n",
    "\n",
    "print(datafiles)"
   ]
  },
  {
   "cell_type": "code",
   "execution_count": 26,
   "metadata": {},
   "outputs": [
    {
     "name": "stdout",
     "output_type": "stream",
     "text": [
      "reading header from <open file '/Users/adam2392/Documents/pydata/eeg/id027_kl/LERAT_Seizure1.eeg', mode 'rb' at 0x113d78f60>\n",
      "code block: 'skip'\n",
      "code block: 'infoPatient'\n",
      "infoPatient array([('LERAT', 'KENNY', '14/12/1996', 'M', '2000664585', '', '')],\n",
      "      dtype=[('PatientName', 'S50'), ('PatientFirstName', 'S30'), ('birthday', 'S10'), ('sexe', 'S1'), ('patientNumber', 'S20'), ('originalRecordingCenter', 'S39'), ('remark', 'S256')])\n",
      "code block: 'infoMontage'\n",
      "infoMontage array([('', 'LERAT 512 NEW', 0)],\n",
      "      dtype=[('originalMontageFileName', 'S20'), ('originalElectrodsFileName', 'S20'), ('nbMontageUsed', '<u2')])\n",
      "code block: 'skip'\n",
      "code block: 'readData'\n"
     ]
    },
    {
     "ename": "ValueError",
     "evalue": "invalid literal for long() with base 10: ''",
     "output_type": "error",
     "traceback": [
      "\u001b[0;31m---------------------------------------------------------------------------\u001b[0m",
      "\u001b[0;31mValueError\u001b[0m                                Traceback (most recent call last)",
      "\u001b[0;32m<ipython-input-26-3ee246eaf348>\u001b[0m in \u001b[0;36m<module>\u001b[0;34m()\u001b[0m\n\u001b[1;32m      1\u001b[0m \u001b[0mfilename\u001b[0m \u001b[0;34m=\u001b[0m \u001b[0mos\u001b[0m\u001b[0;34m.\u001b[0m\u001b[0mpath\u001b[0m\u001b[0;34m.\u001b[0m\u001b[0mjoin\u001b[0m\u001b[0;34m(\u001b[0m\u001b[0mdatadir\u001b[0m\u001b[0;34m,\u001b[0m\u001b[0mdatafiles\u001b[0m\u001b[0;34m[\u001b[0m\u001b[0;36m1\u001b[0m\u001b[0;34m]\u001b[0m\u001b[0;34m)\u001b[0m\u001b[0;34m\u001b[0m\u001b[0m\n\u001b[0;32m----> 2\u001b[0;31m \u001b[0mreader\u001b[0m \u001b[0;34m=\u001b[0m \u001b[0mread_eeg\u001b[0m\u001b[0;34m.\u001b[0m\u001b[0mEEG\u001b[0m\u001b[0;34m(\u001b[0m\u001b[0mfilename\u001b[0m\u001b[0;34m)\u001b[0m\u001b[0;34m\u001b[0m\u001b[0m\n\u001b[0m",
      "\u001b[0;32m/Users/adam2392/Documents/fragility_analysis/datainterface/read_eeg.py\u001b[0m in \u001b[0;36m__init__\u001b[0;34m(self, filename, verbose)\u001b[0m\n\u001b[1;32m    175\u001b[0m                 \u001b[0;31m# self.buff = buff\u001b[0m\u001b[0;34m\u001b[0m\u001b[0;34m\u001b[0m\u001b[0m\n\u001b[1;32m    176\u001b[0m                 \u001b[0;31m# self.desctype = desctype\u001b[0m\u001b[0;34m\u001b[0m\u001b[0;34m\u001b[0m\u001b[0m\n\u001b[0;32m--> 177\u001b[0;31m                 \u001b[0mdesc\u001b[0m \u001b[0;34m=\u001b[0m \u001b[0mnp\u001b[0m\u001b[0;34m.\u001b[0m\u001b[0marray\u001b[0m\u001b[0;34m(\u001b[0m\u001b[0mbuff\u001b[0m\u001b[0;34m,\u001b[0m \u001b[0mdtype\u001b[0m\u001b[0;34m=\u001b[0m\u001b[0mdesctype\u001b[0m\u001b[0;34m)\u001b[0m\u001b[0;34m\u001b[0m\u001b[0m\n\u001b[0m\u001b[1;32m    178\u001b[0m                 \u001b[0mlog\u001b[0m\u001b[0;34m(\u001b[0m\u001b[0;34m'data descriptor'\u001b[0m\u001b[0;34m)\u001b[0m\u001b[0;34m\u001b[0m\u001b[0m\n\u001b[1;32m    179\u001b[0m                 \u001b[0;32mfor\u001b[0m \u001b[0mk\u001b[0m \u001b[0;32min\u001b[0m \u001b[0mdesc\u001b[0m\u001b[0;34m.\u001b[0m\u001b[0mdtype\u001b[0m\u001b[0;34m.\u001b[0m\u001b[0mfields\u001b[0m\u001b[0;34m.\u001b[0m\u001b[0mkeys\u001b[0m\u001b[0;34m(\u001b[0m\u001b[0;34m)\u001b[0m\u001b[0;34m:\u001b[0m\u001b[0;34m\u001b[0m\u001b[0m\n",
      "\u001b[0;31mValueError\u001b[0m: invalid literal for long() with base 10: ''"
     ]
    }
   ],
   "source": [
    "filename = os.path.join(datadir,datafiles[1])\n",
    "reader = read_eeg.EEG(filename)"
   ]
  },
  {
   "cell_type": "code",
   "execution_count": 22,
   "metadata": {},
   "outputs": [
    {
     "name": "stdout",
     "output_type": "stream",
     "text": [
      "35917\n",
      "[('dscType', '<u4'), ('videoShift', '<i4'), ('recordLenInSeconds', '<u4'), ('recordStart', 'u1', (7,)), ('videoType', '<u2'), ('videoDrift', '<i2'), ('nbDataBlock', '<u2'), ('nbFrequencyGroup', '<u2'), ('sampleFrequencyGroup', '<u4', (5,)), ('sampleFrequencyTimeBase', '<u4', (5,)), ('totalNbChannels', '<u2'), ('nbUsedChannels', '<u2'), ('channelName', 'S8', (1024,)), ('channelKind', 'u1', (1024,)), ('frequencyGroupNumber', 'u1', (1024,)), ('theta', 'i1', (1024,)), ('phi', 'i1', (1024,)), ('rho', 'u1', (1024,)), ('analogMin', '<u4', (1024,)), ('analogMax', '<u4', (1024,)), ('convMin', '<u4', (1024,)), ('convMax', '<u4', (1024,)), ('dataType', 'u1', (4096,)), ('channelSubKind', 'i1', (1024,)), ('notUsed_1', 'u1', (1024,)), ('compressed', '<u2'), ('thetaGround1', 'u1'), ('phiGround1', 'u1'), ('thetaGround2', 'u1'), ('phiGround2', 'u1')]\n"
     ]
    }
   ],
   "source": [
    "test = reader.buff\n",
    "print(len(test))\n",
    "print(reader.desctype)"
   ]
  },
  {
   "cell_type": "code",
   "execution_count": 24,
   "metadata": {},
   "outputs": [
    {
     "ename": "ValueError",
     "evalue": "invalid literal for long() with base 10: ''",
     "output_type": "error",
     "traceback": [
      "\u001b[0;31m---------------------------------------------------------------------------\u001b[0m",
      "\u001b[0;31mValueError\u001b[0m                                Traceback (most recent call last)",
      "\u001b[0;32m<ipython-input-24-00f061c6a8a2>\u001b[0m in \u001b[0;36m<module>\u001b[0;34m()\u001b[0m\n\u001b[0;32m----> 1\u001b[0;31m \u001b[0mbuff\u001b[0m \u001b[0;34m=\u001b[0m \u001b[0mnp\u001b[0m\u001b[0;34m.\u001b[0m\u001b[0marray\u001b[0m\u001b[0;34m(\u001b[0m\u001b[0mtest\u001b[0m\u001b[0;34m,\u001b[0m\u001b[0mdtype\u001b[0m\u001b[0;34m=\u001b[0m\u001b[0mreader\u001b[0m\u001b[0;34m.\u001b[0m\u001b[0mdesctype\u001b[0m\u001b[0;34m)\u001b[0m\u001b[0;34m\u001b[0m\u001b[0m\n\u001b[0m\u001b[1;32m      2\u001b[0m \u001b[0;32mprint\u001b[0m\u001b[0;34m(\u001b[0m\u001b[0mtest\u001b[0m\u001b[0;34m[\u001b[0m\u001b[0;34m-\u001b[0m\u001b[0;36m1\u001b[0m\u001b[0;34m]\u001b[0m\u001b[0;34m)\u001b[0m\u001b[0;34m\u001b[0m\u001b[0m\n",
      "\u001b[0;31mValueError\u001b[0m: invalid literal for long() with base 10: ''"
     ]
    }
   ],
   "source": [
    "buff = np.array(test,dtype=reader.desctype)\n",
    "print(test[-1])"
   ]
  },
  {
   "cell_type": "code",
   "execution_count": null,
   "metadata": {
    "collapsed": true
   },
   "outputs": [],
   "source": []
  }
 ],
 "metadata": {
  "kernelspec": {
   "display_name": "fragility",
   "language": "python",
   "name": "fragility"
  },
  "language_info": {
   "codemirror_mode": {
    "name": "ipython",
    "version": 2
   },
   "file_extension": ".py",
   "mimetype": "text/x-python",
   "name": "python",
   "nbconvert_exporter": "python",
   "pygments_lexer": "ipython2",
   "version": "2.7.11"
  }
 },
 "nbformat": 4,
 "nbformat_minor": 2
}
