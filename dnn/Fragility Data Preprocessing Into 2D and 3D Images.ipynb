{
 "cells": [
  {
   "cell_type": "markdown",
   "metadata": {},
   "source": [
    "# Data Preprocessing (Fragility Algo.)\n",
    "\n",
    "1. Ran fragility analysis on SEEG data - log seizure times using Z\n",
    "2. Run projection onto 2D/3D tensors, keep track of seizure times\n",
    "\n",
    "This is done in comparison with the FFT to show in a result that:\n",
    "- fragility > FFT in seizure detection using whole network data\n",
    "- fragility can be formatted as input into the TVB Transfer Learning Pipeline"
   ]
  },
  {
   "cell_type": "code",
   "execution_count": 1,
   "metadata": {},
   "outputs": [
    {
     "name": "stderr",
     "output_type": "stream",
     "text": [
      "/Users/adam2392/Documents/dnn-unsupervised/.venv/lib/python3.6/site-packages/h5py/__init__.py:36: FutureWarning: Conversion of the second argument of issubdtype from `float` to `np.floating` is deprecated. In future, it will be treated as `np.float64 == np.dtype(float).type`.\n",
      "  from ._conv import register_converters as _register_converters\n",
      "Using TensorFlow backend.\n",
      "/Users/adam2392/Documents/dnn-unsupervised/.venv/lib/python3.6/importlib/_bootstrap.py:219: RuntimeWarning: compiletime version 3.5 of module 'tensorflow.python.framework.fast_tensor_util' does not match runtime version 3.6\n",
      "  return f(*args, **kwds)\n"
     ]
    }
   ],
   "source": [
    "import sys\n",
    "sys.path.append('../')\n",
    "sys.path.append('/Users/adam2392/Documents/fragility_analysis/')\n",
    "import fragility\n",
    "import fragility.util.utils as futil\n",
    "import datainterface.patient as Pat\n",
    "# from fragility.signalprocessing import frequencyanalysis\n",
    "# from datainterface import readmat\n",
    "\n",
    "# sys.path.append('/home/adamli/tng_tvb/')\n",
    "# from tvbsim import visualize\n",
    "\n",
    "import os\n",
    "import time\n",
    "\n",
    "import numpy as np\n",
    "import pandas as pd\n",
    "import scipy\n",
    "import scipy.io\n",
    "\n",
    "import peakdetect\n",
    "\n",
    "sys.path.append('/Users/adam2392/Documents/tvb/')\n",
    "sys.path.append('/Users/adam2392/Documents/tvb/_tvbdata/')\n",
    "sys.path.append('/Users/adam2392/Documents/tvb/_tvblibrary/')\n",
    "# from tvb.simulator.lab import *\n",
    "import tvbsim.util\n",
    "\n",
    "import processing.util as util\n",
    "\n",
    "from natsort import natsorted\n",
    "import ntpath\n",
    "\n",
    "from PIL import Image\n",
    "import matplotlib.pyplot as plt\n",
    "import matplotlib\n",
    "import seaborn as sns\n",
    "\n",
    "from sklearn.decomposition import PCA\n",
    "\n",
    "%load_ext autoreload\n",
    "%autoreload 2"
   ]
  },
  {
   "cell_type": "code",
   "execution_count": 2,
   "metadata": {
    "collapsed": true
   },
   "outputs": [],
   "source": [
    "def path_leaf(path):\n",
    "    head, tail = ntpath.split(path)\n",
    "    return tail or ntpath.basename(head)\n",
    "\n",
    "def _gettimepoints(numsignals, numwinsamps, numstepsamps):\n",
    "    # create array of indices of window start times\n",
    "    timestarts = np.arange(0, numsignals-numwinsamps+1, numstepsamps)\n",
    "    # create array of indices of window end times\n",
    "    timeends = np.arange(numwinsamps-1, numsignals, numstepsamps)\n",
    "    # create the timepoints array for entire data array\n",
    "    timepoints = np.append(timestarts.reshape(len(timestarts), 1), timeends.reshape(len(timestarts), 1), axis=1)\n",
    "    return timepoints"
   ]
  },
  {
   "cell_type": "code",
   "execution_count": 3,
   "metadata": {},
   "outputs": [
    {
     "name": "stderr",
     "output_type": "stream",
     "text": [
      "INFO:fragility.linearmodels.fragilitymodels:Initialized perturbation model!\n",
      "INFO:fragility.linearmodels.fragilitymodels:Initialized fragility model!\n"
     ]
    }
   ],
   "source": [
    "import fragility.linearmodels.fragilitymodels\n",
    "\n",
    "winsize = 250\n",
    "stepsize = 125\n",
    "radius = 1.5\n",
    "perturbtype = 'C'\n",
    "\n",
    "postprocessor = tvbsim.util.PostProcess([], [], [])\n",
    "fragilitymodel = fragility.linearmodels.fragilitymodels.FragilityModel(winsize, stepsize, radius, perturbtype)\n",
    "\n",
    "# define the data handler \n",
    "datahandler = util.DataHandler()\n",
    "pca = PCA(n_components=2)\n",
    "    \n",
    "def _gettimepoints(numsignals, numwinsamps, numstepsamps):\n",
    "    # create array of indices of window start times\n",
    "    timestarts = np.arange(0, numsignals-numwinsamps+1, numstepsamps)\n",
    "    # create array of indices of window end times\n",
    "    timeends = np.arange(numwinsamps-1, numsignals, numstepsamps)\n",
    "    # create the timepoints array for entire data array\n",
    "    timepoints = np.append(timestarts.reshape(len(timestarts), 1), timeends.reshape(len(timestarts), 1), axis=1)\n",
    "    return timepoints"
   ]
  },
  {
   "cell_type": "markdown",
   "metadata": {},
   "source": [
    "# 1 Load in Data (Either Simulated or Real"
   ]
  },
  {
   "cell_type": "code",
   "execution_count": 5,
   "metadata": {},
   "outputs": [
    {
     "name": "stdout",
     "output_type": "stream",
     "text": [
      "/Volumes/ADAM LI/pydata/dnn/traindata/fragility/id013_pg/seegpert/id013_pg\n",
      "\n",
      "rawdatadir is:  /Volumes/ADAM LI/pydata/tvbforwardsim/traindata\n",
      "fragility results dir is:  /Volumes/ADAM LI/pydata/dnn/traindata/fragility/id013_pg/seegpert/\n",
      "training image dir is:  /Volumes/ADAM LI/pydata/dnn/traindata/fragility/id013_pg/fragility_2d/\n",
      "63\n"
     ]
    }
   ],
   "source": [
    "# Only analyzing 1 patient, specifically right now\n",
    "patient = 'id001_ac'\n",
    "patient = 'id013_pg'\n",
    "\n",
    "expname = 'traindata'\n",
    "datadir = os.path.join('/Volumes/ADAM LI/pydata/tvbforwardsim/', expname)\n",
    "metadatadir = '/Volumes/ADAM LI/pydata/metadata/'    \n",
    "\n",
    "# fragility results dir\n",
    "resultsdir = os.path.join('/Volumes/ADAM LI/pydata/dnn/traindata/fragility/', patient, 'seegpert/')\n",
    "\n",
    "# expname = 'allregions_notmoved'\n",
    "trainimagedir = os.path.join('/Volumes/ADAM LI/pydata/dnn/traindata/fragility/', patient, 'fragility_2d/')\n",
    "if not os.path.exists(trainimagedir):\n",
    "    os.makedirs(trainimagedir)\n",
    "\n",
    "\n",
    "# Get ALL datafiles from all downstream files\n",
    "datafiles = []\n",
    "for root, dirs, files in os.walk(resultsdir):\n",
    "#     if 'allregions_sim' not in root:\n",
    "    for file in files:\n",
    "        if '.DS' not in file:\n",
    "            datafiles.append(os.path.join(root, file))\n",
    "\n",
    "print(root)\n",
    "print(\"\\nrawdatadir is: \", datadir)\n",
    "print(\"fragility results dir is: \", resultsdir)\n",
    "print(\"training image dir is: \", trainimagedir)\n",
    "print(len(datafiles))\n",
    "# print(datafiles[50:])\n",
    "# print(datafiles)"
   ]
  },
  {
   "cell_type": "code",
   "execution_count": null,
   "metadata": {},
   "outputs": [
    {
     "name": "stdout",
     "output_type": "stream",
     "text": [
      "['delvecs', 'pertmats', 'metadata']\n",
      "dict_keys([b'x0norm', b'patient', b'samplefreq', b'seeg_contacts', b'pz', b'seeg_xyz', b'ez', b'timepoints', b'offsettimes', b'regions_centers', b'regions', b'stepsize', b'winsize', b'perturbtype', b'radius', b'x0pz', b'onsettimes', b'pzindices', b'x0ez', b'ezindices', b'simparams'])\n",
      "(59, 1439)\n",
      "(1439, 2)\n",
      "/Volumes/ADAM LI/pydata/dnn/traindata/fragility/id013_pg/fragility_2d/id013_pg_sim_x0ez-1.7_x0pz-1.99_pertmodel.npz_0.npz\n",
      "using pca to grid image\n",
      "0.0\n",
      "(1439, 59)\n",
      "Interpolating 1439/1439nterpolating 356/1439Interpolating 537/1439Interpolating 727/1439Interpolating 912/1439Interpolating 1024/1439Interpolating 1137/1439Interpolating 1278/1439(1439, 1, 32, 32)\n",
      "/Volumes/ADAM LI/pydata/dnn/traindata/fragility/id013_pg/seegpert/id013_pg/id013_pg_sim_x0ez-1.7_x0pz-1.99_pertmodel.npz\n",
      "(59, 1439)\n",
      "[3849.0, 9618.0, 11010.0, 17661.0, 17851.0, 24362.0, 28086.0, 30918.0, 36027.0, 37959.0, 44651.0, 45022.0, 51984.0, 52013.0, 58756.0, 63981.0, 65783.0, 72124.0, 72819.0, 79516.0, 84952.0, 86219.0, 92820.0, 92954.0, 99284.0, 104072.0, 106246.0, 112614.0, 112709.0, 118800.0, 123801.0, 125696.0, 132409.0, 132464.0, 138943.0, 143752.0, 145703.0, 152422.0, 152490.0, 159262.0, 161859.0, 165697.0, 170887.0, 172404.0, 178813.0, 178821.0] [3849.0, 2218.0, 11010.0, 11626.0, 17851.0, 24362.0, 19771.0, 30918.0, 30006.0, 37959.0, 38179.0, 45022.0, 51984.0, 46599.0, 58756.0, 57618.0, 65783.0, 66021.0, 72819.0, 79516.0, 74164.0, 86219.0, 92820.0, 87079.0, 99284.0, 95203.0, 106246.0, 106315.0, 112709.0, 118800.0, 114715.0, 125696.0, 126042.0, 132464.0, 138943.0, 134391.0, 145703.0, 146073.0, 152490.0, 159262.0, 154544.0, 165697.0, 164234.0, 172404.0, 173077.0, 178821.0]\n",
      "\n",
      "\n",
      "\n",
      "['delvecs', 'pertmats', 'metadata']\n",
      "dict_keys([b'x0norm', b'patient', b'samplefreq', b'seeg_contacts', b'pz', b'seeg_xyz', b'ez', b'timepoints', b'offsettimes', b'regions_centers', b'regions', b'stepsize', b'winsize', b'perturbtype', b'radius', b'x0pz', b'onsettimes', b'pzindices', b'x0ez', b'ezindices', b'simparams'])\n",
      "(59, 1439)\n",
      "(1439, 2)\n",
      "/Volumes/ADAM LI/pydata/dnn/traindata/fragility/id013_pg/fragility_2d/id013_pg_sim_x0ez-1.675_x0pz-2.03_pertmodel.npz_1.npz\n",
      "using pca to grid image\n",
      "0.0\n",
      "(1439, 59)\n",
      "(1439, 1, 32, 32)9/1439nterpolating 182/1439Interpolating 378/1439Interpolating 574/1439Interpolating 753/1439Interpolating 924/1439Interpolating 1104/1439Interpolating 1289/1439\n",
      "/Volumes/ADAM LI/pydata/dnn/traindata/fragility/id013_pg/seegpert/id013_pg/id013_pg_sim_x0ez-1.675_x0pz-2.03_pertmodel.npz\n",
      "(59, 1439)\n",
      "[2189.0, 3988.0, 11097.0, 12296.0, 17786.0, 24633.0, 25020.0, 31238.0, 33770.0, 37457.0, 44144.0, 44645.0, 50840.0, 52965.0, 57357.0, 64244.0, 64311.0, 70949.0, 73134.0, 77541.0, 84496.0, 84607.0, 91287.0, 93241.0, 97274.0, 103721.0, 104093.0, 110378.0, 117222.0, 117652.0, 123876.0, 126042.0, 130468.0, 136865.0, 137508.0, 143071.0, 149772.0, 150023.0, 156249.0, 158420.0, 162501.0, 169349.0, 169650.0, 176099.0, 178419.0] [2189.0, 3988.0, 11097.0, 12296.0, 17786.0, 24633.0, 25020.0, 31238.0, 33770.0, 37457.0, 44144.0, 44645.0, 50840.0, 52965.0, 57357.0, 64244.0, 64311.0, 70949.0, 73134.0, 77541.0, 84496.0, 84607.0, 91287.0, 93241.0, 97274.0, 103721.0, 104093.0, 110378.0, 117222.0, 117652.0, 123876.0, 126042.0, 130468.0, 136865.0, 137508.0, 143071.0, 149772.0, 150023.0, 156249.0, 158420.0, 162501.0, 169349.0, 169650.0, 176099.0, 178419.0]\n",
      "\n",
      "\n",
      "\n",
      "['delvecs', 'pertmats', 'metadata']\n",
      "dict_keys([b'x0norm', b'patient', b'samplefreq', b'seeg_contacts', b'pz', b'seeg_xyz', b'ez', b'timepoints', b'offsettimes', b'regions_centers', b'regions', b'stepsize', b'winsize', b'perturbtype', b'radius', b'x0pz', b'onsettimes', b'pzindices', b'x0ez', b'ezindices', b'simparams'])\n",
      "(59, 1439)\n",
      "(1439, 2)\n",
      "/Volumes/ADAM LI/pydata/dnn/traindata/fragility/id013_pg/fragility_2d/id013_pg_sim_x0ez-1.725_x0pz-1.99_pertmodel.npz_2.npz\n",
      "using pca to grid image\n",
      "0.0\n",
      "(1439, 59)\n",
      "(1439, 1, 32, 32)9/1439nterpolating 186/1439Interpolating 375/1439Interpolating 566/1439Interpolating 754/1439Interpolating 942/1439Interpolating 1131/1439Interpolating 1325/1439\n",
      "/Volumes/ADAM LI/pydata/dnn/traindata/fragility/id013_pg/seegpert/id013_pg/id013_pg_sim_x0ez-1.725_x0pz-1.99_pertmodel.npz\n",
      "(59, 1439)\n",
      "[8871.0, 9853.0, 15437.0, 21949.0, 22825.0, 28837.0, 30977.0, 35629.0, 42671.0, 42981.0, 49827.0, 51712.0, 56622.0, 63126.0, 63619.0, 70452.0, 72099.0, 77297.0, 82522.0, 83037.0, 90436.0, 91468.0, 97713.0, 99586.0, 104661.0, 111435.0, 111839.0, 118584.0, 120348.0, 125227.0, 132126.0, 132794.0, 138933.0, 140620.0, 145715.0, 150506.0, 152230.0, 159111.0, 160142.0, 166236.0, 168284.0, 172471.0, 178688.0, 179418.0] [3806.0, 2208.0, 11005.0, 17540.0, 11926.0, 24312.0, 24922.0, 31105.0, 37959.0, 32930.0, 45097.0, 45265.0, 52117.0, 58750.0, 53747.0, 65636.0, 65794.0, 72791.0, 74149.0, 78969.0, 85534.0, 85282.0, 92815.0, 93598.0, 100033.0, 106867.0, 101608.0, 113823.0, 114028.0, 120821.0, 127534.0, 122500.0, 134372.0, 134753.0, 141227.0, 142728.0, 147896.0, 154509.0, 153483.0, 161498.0, 162263.0, 168265.0, 170567.0, 174743.0]\n",
      "\n",
      "\n",
      "\n",
      "['delvecs', 'pertmats', 'metadata']\n",
      "dict_keys([b'x0norm', b'patient', b'samplefreq', b'seeg_contacts', b'pz', b'seeg_xyz', b'ez', b'timepoints', b'offsettimes', b'regions_centers', b'regions', b'stepsize', b'winsize', b'perturbtype', b'radius', b'x0pz', b'onsettimes', b'pzindices', b'x0ez', b'ezindices', b'simparams'])\n",
      "(59, 1439)\n",
      "(1439, 2)\n",
      "/Volumes/ADAM LI/pydata/dnn/traindata/fragility/id013_pg/fragility_2d/id013_pg_sim_x0ez-1.7_x0pz-2.0_pertmodel.npz_3.npz\n",
      "using pca to grid image\n",
      "0.0\n",
      "(1439, 59)\n",
      "(1439, 1, 32, 32)9/1439nterpolating 179/1439Interpolating 374/1439Interpolating 549/1439Interpolating 743/1439Interpolating 938/1439Interpolating 1116/1439Interpolating 1311/1439\n",
      "/Volumes/ADAM LI/pydata/dnn/traindata/fragility/id013_pg/seegpert/id013_pg/id013_pg_sim_x0ez-1.7_x0pz-2.0_pertmodel.npz\n",
      "(59, 1439)\n",
      "[3840.0, 9881.0, 11036.0, 17935.0, 22979.0, 25065.0, 31377.0, 32144.0, 38971.0, 43770.0, 45893.0, 52477.0, 52561.0, 58783.0, 63582.0, 65484.0, 71901.0, 72296.0, 78852.0, 83696.0, 85417.0, 91763.0, 96413.0, 98364.0, 104776.0, 105176.0, 111716.0, 116281.0, 118609.0, 124933.0, 125437.0, 131820.0, 135249.0, 138653.0, 144255.0, 145676.0, 152450.0, 152453.0, 158948.0, 161859.0, 165363.0, 170843.0, 172364.0, 179001.0, 179035.0] [3840.0, 2285.0, 11036.0, 17935.0, 12087.0, 25065.0, 25032.0, 32144.0, 38971.0, 33473.0, 45893.0, 46005.0, 52561.0, 58783.0, 54595.0, 65484.0, 65642.0, 72296.0, 78852.0, 73986.0, 85417.0, 91763.0, 86012.0, 98364.0, 98660.0, 105176.0, 111716.0, 106790.0, 118609.0, 118449.0, 125437.0, 131820.0, 126963.0, 138653.0, 137717.0, 145676.0, 146317.0, 152453.0, 158948.0, 154420.0, 165363.0, 164237.0, 172364.0, 179001.0, 173022.0]\n",
      "\n",
      "\n",
      "\n",
      "['delvecs', 'pertmats', 'metadata']\n",
      "dict_keys([b'x0norm', b'patient', b'samplefreq', b'seeg_contacts', b'pz', b'seeg_xyz', b'ez', b'timepoints', b'offsettimes', b'regions_centers', b'regions', b'stepsize', b'winsize', b'perturbtype', b'radius', b'x0pz', b'onsettimes', b'pzindices', b'x0ez', b'ezindices', b'simparams'])\n",
      "(59, 1439)\n",
      "(1439, 2)\n",
      "/Volumes/ADAM LI/pydata/dnn/traindata/fragility/id013_pg/fragility_2d/id013_pg_sim_x0ez-1.8_x0pz-1.99_pertmodel.npz_4.npz\n",
      "using pca to grid image\n",
      "0.0\n",
      "(1439, 59)\n",
      "(1439, 1, 32, 32)9/1439nterpolating 193/1439Interpolating 381/1439Interpolating 575/1439Interpolating 770/1439Interpolating 968/1439Interpolating 1167/1439Interpolating 1363/1439\n",
      "/Volumes/ADAM LI/pydata/dnn/traindata/fragility/id013_pg/seegpert/id013_pg/id013_pg_sim_x0ez-1.8_x0pz-1.99_pertmodel.npz\n",
      "(59, 1439)\n",
      "[3571.0, 9963.0, 11420.0, 18523.0, 18902.0, 26104.0, 26114.0, 33198.0, 34919.0, 39784.0, 44746.0, 47072.0, 53976.0, 54505.0, 61893.0, 61912.0, 69117.0, 73691.0, 76237.0, 83025.0, 83739.0, 90892.0, 90896.0, 98003.0, 103256.0, 105174.0, 111777.0, 112533.0, 119733.0, 119739.0, 126863.0, 129063.0, 132704.0, 134326.0, 141348.0, 142130.0, 149598.0, 149634.0, 156945.0, 161860.0, 164284.0, 170840.0, 171937.0, 178790.0, 179034.0] [3571.0, 2218.0, 11420.0, 12201.0, 18902.0, 26104.0, 20357.0, 33198.0, 28204.0, 39784.0, 37651.0, 47072.0, 47365.0, 54505.0, 55962.0, 61912.0, 69117.0, 63919.0, 76237.0, 76467.0, 83739.0, 90892.0, 85108.0, 98003.0, 93323.0, 105174.0, 105383.0, 112533.0, 119733.0, 113829.0, 126863.0, 121929.0, 130713.0, 134326.0, 134887.0, 142130.0, 143369.0, 149634.0, 156945.0, 151704.0, 164284.0, 164238.0, 171937.0, 172881.0, 179034.0]\n",
      "\n",
      "\n",
      "\n"
     ]
    },
    {
     "name": "stdout",
     "output_type": "stream",
     "text": [
      "['delvecs', 'pertmats', 'metadata']\n",
      "dict_keys([b'x0norm', b'patient', b'samplefreq', b'seeg_contacts', b'pz', b'seeg_xyz', b'ez', b'timepoints', b'offsettimes', b'regions_centers', b'regions', b'stepsize', b'winsize', b'perturbtype', b'radius', b'x0pz', b'onsettimes', b'pzindices', b'x0ez', b'ezindices', b'simparams'])\n",
      "(59, 1439)\n",
      "(1439, 2)\n",
      "/Volumes/ADAM LI/pydata/dnn/traindata/fragility/id013_pg/fragility_2d/id013_pg_sim_x0ez-1.625_x0pz-1.98_pertmodel.npz_5.npz\n",
      "using pca to grid image\n",
      "0.0\n",
      "(1439, 59)\n",
      "(1439, 1, 32, 32)9/1439nterpolating 397/1439Interpolating 587/1439Interpolating 784/1439Interpolating 977/1439Interpolating 1171/1439Interpolating 1356/1439\n",
      "/Volumes/ADAM LI/pydata/dnn/traindata/fragility/id013_pg/seegpert/id013_pg/id013_pg_sim_x0ez-1.625_x0pz-1.98_pertmodel.npz\n",
      "(59, 1439)\n",
      "[2211.0, 4058.0, 11045.0, 11421.0, 17412.0, 19183.0, 23576.0, 30113.0, 30319.0, 36731.0, 38312.0, 42963.0, 49379.0, 49909.0, 55564.0, 57535.0, 61908.0, 66056.0, 68100.0, 74502.0, 74840.0, 80718.0, 83288.0, 86629.0, 93262.0, 93438.0, 100185.0, 101477.0, 106711.0, 109486.0, 112674.0, 118566.0, 119018.0, 125642.0, 126937.0, 131866.0, 137693.0, 138370.0, 144923.0, 145955.0, 151381.0, 157757.0, 157879.0, 164277.0, 165865.0, 170606.0, 177185.0, 177301.0] [2211.0, 4058.0, 11045.0, 11421.0, 17412.0, 19183.0, 23576.0, 30113.0, 30319.0, 36731.0, 38312.0, 42963.0, 49379.0, 49909.0, 55564.0, 57535.0, 61908.0, 66056.0, 68100.0, 74502.0, 74840.0, 80718.0, 83288.0, 86629.0, 93262.0, 93438.0, 100185.0, 101477.0, 106711.0, 109486.0, 112674.0, 118566.0, 119018.0, 125642.0, 126937.0, 131866.0, 137693.0, 138370.0, 144923.0, 145955.0, 151381.0, 157757.0, 157879.0, 164277.0, 165865.0, 170606.0, 177185.0, 177301.0]\n",
      "\n",
      "\n",
      "\n",
      "['delvecs', 'pertmats', 'metadata']\n",
      "dict_keys([b'x0norm', b'patient', b'samplefreq', b'seeg_contacts', b'pz', b'seeg_xyz', b'ez', b'timepoints', b'offsettimes', b'regions_centers', b'regions', b'stepsize', b'winsize', b'perturbtype', b'radius', b'x0pz', b'onsettimes', b'pzindices', b'x0ez', b'ezindices', b'simparams'])\n",
      "(59, 1439)\n",
      "(1439, 2)\n",
      "/Volumes/ADAM LI/pydata/dnn/traindata/fragility/id013_pg/fragility_2d/id013_pg_sim_x0ez-1.65_x0pz-2.01_pertmodel.npz_6.npz\n",
      "using pca to grid image\n",
      "0.0\n",
      "(1439, 59)\n",
      "(1439, 1, 32, 32)9/1439nterpolating 181/1439Interpolating 379/1439Interpolating 570/1439Interpolating 768/1439Interpolating 960/1439Interpolating 1143/1439Interpolating 1332/1439\n",
      "/Volumes/ADAM LI/pydata/dnn/traindata/fragility/id013_pg/seegpert/id013_pg/id013_pg_sim_x0ez-1.65_x0pz-2.01_pertmodel.npz\n",
      "(59, 1439)\n",
      "[2234.0, 4021.0, 11079.0, 12091.0, 17718.0, 24317.0, 24993.0, 30678.0, 37023.0, 37127.0, 43528.0, 45668.0, 49991.0, 56283.0, 56919.0, 62351.0, 68585.0, 69092.0, 74938.0, 81457.0, 81468.0, 88030.0, 89880.0, 94212.0, 100591.0, 101070.0, 107226.0, 109327.0, 113488.0, 119942.0, 120336.0, 126664.0, 128569.0, 132927.0, 137742.0, 139121.0, 145464.0, 146432.0, 151392.0, 157762.0, 157956.0, 164305.0, 166243.0, 170611.0, 177298.0, 177563.0] [2234.0, 4021.0, 11079.0, 12091.0, 17718.0, 24317.0, 24993.0, 30678.0, 37023.0, 37127.0, 43528.0, 45668.0, 49991.0, 56283.0, 56919.0, 62351.0, 68585.0, 69092.0, 74938.0, 81457.0, 81468.0, 88030.0, 89880.0, 94212.0, 100591.0, 101070.0, 107226.0, 109327.0, 113488.0, 119942.0, 120336.0, 126664.0, 128569.0, 132927.0, 137742.0, 139121.0, 145464.0, 146432.0, 151392.0, 157762.0, 157956.0, 164305.0, 166243.0, 170611.0, 177298.0, 177563.0]\n",
      "\n",
      "\n",
      "\n",
      "['delvecs', 'pertmats', 'metadata']\n",
      "dict_keys([b'x0norm', b'patient', b'samplefreq', b'seeg_contacts', b'pz', b'seeg_xyz', b'ez', b'timepoints', b'offsettimes', b'regions_centers', b'regions', b'stepsize', b'winsize', b'perturbtype', b'radius', b'x0pz', b'onsettimes', b'pzindices', b'x0ez', b'ezindices', b'simparams'])\n",
      "(59, 1439)\n",
      "(1439, 2)\n",
      "/Volumes/ADAM LI/pydata/dnn/traindata/fragility/id013_pg/fragility_2d/id013_pg_sim_x0ez-1.775_x0pz-2.02_pertmodel.npz_7.npz\n",
      "using pca to grid image\n",
      "0.0\n",
      "(1439, 59)\n",
      "(1439, 1, 32, 32)9/1439nterpolating 192/1439Interpolating 390/1439Interpolating 585/1439Interpolating 779/1439Interpolating 976/1439Interpolating 1160/1439Interpolating 1358/1439\n",
      "/Volumes/ADAM LI/pydata/dnn/traindata/fragility/id013_pg/seegpert/id013_pg/id013_pg_sim_x0ez-1.775_x0pz-2.02_pertmodel.npz\n",
      "(59, 1439)\n",
      "[2199.0, 3701.0, 11392.0, 12336.0, 18653.0, 20744.0, 25961.0, 33297.0, 33648.0, 40739.0, 42553.0, 47667.0, 54834.0, 55139.0, 62190.0, 63924.0, 69395.0, 76571.0, 76872.0, 84065.0, 85626.0, 91307.0, 98378.0, 98685.0, 105532.0, 107351.0, 112518.0, 118758.0, 119699.0, 127053.0, 127810.0, 134328.0, 136219.0, 141465.0, 148621.0, 148851.0, 155523.0, 157468.0, 162503.0, 169569.0, 170524.0, 176907.0, 179043.0] [2199.0, 3701.0, 11392.0, 12336.0, 18653.0, 20744.0, 25961.0, 33297.0, 33648.0, 40739.0, 42553.0, 47667.0, 54834.0, 55139.0, 62190.0, 63924.0, 69395.0, 76571.0, 76872.0, 84065.0, 85626.0, 91307.0, 98378.0, 98685.0, 105532.0, 107351.0, 112518.0, 118758.0, 119699.0, 127053.0, 127810.0, 134328.0, 136219.0, 141465.0, 148621.0, 148851.0, 155523.0, 157468.0, 162503.0, 169569.0, 170524.0, 176907.0, 179043.0]\n",
      "\n",
      "\n",
      "\n",
      "['delvecs', 'pertmats', 'metadata']\n",
      "dict_keys([b'x0norm', b'patient', b'samplefreq', b'seeg_contacts', b'pz', b'seeg_xyz', b'ez', b'timepoints', b'offsettimes', b'regions_centers', b'regions', b'stepsize', b'winsize', b'perturbtype', b'radius', b'x0pz', b'onsettimes', b'pzindices', b'x0ez', b'ezindices', b'simparams'])\n",
      "(59, 1439)\n",
      "(1439, 2)\n",
      "/Volumes/ADAM LI/pydata/dnn/traindata/fragility/id013_pg/fragility_2d/id013_pg_sim_x0ez-1.6_x0pz-2.04_pertmodel.npz_8.npz\n",
      "using pca to grid image\n",
      "0.0\n",
      "(1439, 59)\n",
      "(1439, 1, 32, 32)9/1439nterpolating 193/1439Interpolating 377/1439Interpolating 555/1439Interpolating 749/1439Interpolating 937/1439Interpolating 1127/1439Interpolating 1325/1439\n",
      "/Volumes/ADAM LI/pydata/dnn/traindata/fragility/id013_pg/seegpert/id013_pg/id013_pg_sim_x0ez-1.6_x0pz-2.04_pertmodel.npz\n",
      "(59, 1439)\n",
      "[2184.0, 4243.0, 11025.0, 12279.0, 17426.0, 24017.0, 24402.0, 30480.0, 37041.0, 37126.0, 43522.0, 45630.0, 49873.0, 56325.0, 56711.0, 62711.0, 69124.0, 69370.0, 75502.0, 81486.0, 82253.0, 87397.0, 93641.0, 93786.0, 100431.0, 102241.0, 106939.0, 113393.0, 113834.0, 119668.0, 125683.0, 126089.0, 131821.0, 137943.0, 138214.0, 144369.0, 146493.0, 150580.0, 157061.0, 157552.0, 163320.0, 169513.0, 170654.0, 175859.0] [2184.0, 4243.0, 11025.0, 12279.0, 17426.0, 24017.0, 24402.0, 30480.0, 37041.0, 37126.0, 43522.0, 45630.0, 49873.0, 56325.0, 56711.0, 62711.0, 69124.0, 69370.0, 75502.0, 81486.0, 82253.0, 87397.0, 93641.0, 93786.0, 100431.0, 102241.0, 106939.0, 113393.0, 113834.0, 119668.0, 125683.0, 126089.0, 131821.0, 137943.0, 138214.0, 144369.0, 146493.0, 150580.0, 157061.0, 157552.0, 163320.0, 169513.0, 170654.0, 175859.0]\n",
      "\n",
      "\n",
      "\n",
      "['delvecs', 'pertmats', 'metadata']\n",
      "dict_keys([b'x0norm', b'patient', b'samplefreq', b'seeg_contacts', b'pz', b'seeg_xyz', b'ez', b'timepoints', b'offsettimes', b'regions_centers', b'regions', b'stepsize', b'winsize', b'perturbtype', b'radius', b'x0pz', b'onsettimes', b'pzindices', b'x0ez', b'ezindices', b'simparams'])\n",
      "(59, 1439)\n",
      "(1439, 2)\n",
      "/Volumes/ADAM LI/pydata/dnn/traindata/fragility/id013_pg/fragility_2d/id013_pg_sim_x0ez-1.775_x0pz-2.01_pertmodel.npz_9.npz\n",
      "using pca to grid image\n",
      "0.0\n",
      "(1439, 59)\n",
      "(1439, 1, 32, 32)9/1439nterpolating 191/1439Interpolating 388/1439Interpolating 587/1439Interpolating 783/1439Interpolating 976/1439Interpolating 1174/1439Interpolating 1373/1439\n",
      "/Volumes/ADAM LI/pydata/dnn/traindata/fragility/id013_pg/seegpert/id013_pg/id013_pg_sim_x0ez-1.775_x0pz-2.01_pertmodel.npz\n",
      "(59, 1439)\n",
      "[2273.0, 3587.0, 11022.0, 12282.0, 18103.0, 25178.0, 25455.0, 32460.0, 34335.0, 39445.0, 46422.0, 47365.0, 53472.0, 55132.0, 60305.0, 66184.0, 67238.0, 74440.0, 74987.0, 81309.0, 83255.0, 87863.0, 94707.0, 95164.0, 101691.0, 103799.0, 108888.0, 115955.0, 116044.0, 123396.0, 124567.0, 130271.0, 137095.0, 137434.0, 144115.0, 145930.0, 151199.0, 158374.0, 158627.0, 165363.0, 166730.0, 172398.0, 174589.0, 179210.0] [2273.0, 3587.0, 11022.0, 12282.0, 18103.0, 25178.0, 25455.0, 32460.0, 34335.0, 39445.0, 46422.0, 47365.0, 53472.0, 55132.0, 60305.0, 66184.0, 67238.0, 74440.0, 74987.0, 81309.0, 83255.0, 87863.0, 94707.0, 95164.0, 101691.0, 103799.0, 108888.0, 115955.0, 116044.0, 123396.0, 124567.0, 130271.0, 137095.0, 137434.0, 144115.0, 145930.0, 151199.0, 158374.0, 158627.0, 165363.0, 166730.0, 172398.0, 174589.0, 179210.0]\n",
      "\n",
      "\n",
      "\n"
     ]
    },
    {
     "name": "stdout",
     "output_type": "stream",
     "text": [
      "['delvecs', 'pertmats', 'metadata']\n",
      "dict_keys([b'x0norm', b'patient', b'samplefreq', b'seeg_contacts', b'pz', b'seeg_xyz', b'ez', b'timepoints', b'offsettimes', b'regions_centers', b'regions', b'stepsize', b'winsize', b'perturbtype', b'radius', b'x0pz', b'onsettimes', b'pzindices', b'x0ez', b'ezindices', b'simparams'])\n",
      "(59, 1439)\n",
      "(1439, 2)\n",
      "/Volumes/ADAM LI/pydata/dnn/traindata/fragility/id013_pg/fragility_2d/id013_pg_sim_x0ez-1.65_x0pz-2.02_pertmodel.npz_10.npz\n",
      "using pca to grid image\n",
      "0.0\n",
      "(1439, 59)\n",
      "(1439, 1, 32, 32)9/1439nterpolating 387/1439Interpolating 573/1439Interpolating 772/1439Interpolating 972/1439Interpolating 1169/1439Interpolating 1366/1439\n",
      "/Volumes/ADAM LI/pydata/dnn/traindata/fragility/id013_pg/seegpert/id013_pg/id013_pg_sim_x0ez-1.65_x0pz-2.02_pertmodel.npz\n",
      "(59, 1439)\n",
      "[8593.0, 9883.0, 15148.0, 21878.0, 22802.0, 28237.0, 34533.0, 34959.0, 41325.0, 43463.0, 47237.0, 53920.0, 54693.0, 60510.0, 62910.0, 67157.0, 73908.0, 76166.0, 80184.0, 86568.0, 86958.0, 92801.0, 99160.0, 99575.0, 105982.0, 112346.0, 113268.0, 118984.0, 125274.0, 125578.0, 132135.0, 134299.0, 138451.0, 144929.0, 145971.0, 151378.0, 158140.0, 158887.0, 164988.0, 167268.0, 171390.0, 177945.0, 178674.0] [4008.0, 2194.0, 10934.0, 17573.0, 12195.0, 24138.0, 30451.0, 24848.0, 37046.0, 37169.0, 43403.0, 49677.0, 45627.0, 56297.0, 56790.0, 62887.0, 69619.0, 69890.0, 76157.0, 82417.0, 78273.0, 88754.0, 95053.0, 89105.0, 101663.0, 108170.0, 102054.0, 114808.0, 121222.0, 115443.0, 127790.0, 127839.0, 134377.0, 140779.0, 136224.0, 147268.0, 153834.0, 148101.0, 160617.0, 160940.0, 167326.0, 173739.0, 169308.0]\n",
      "\n",
      "\n",
      "\n",
      "['delvecs', 'pertmats', 'metadata']\n",
      "dict_keys([b'x0norm', b'patient', b'samplefreq', b'seeg_contacts', b'pz', b'seeg_xyz', b'ez', b'timepoints', b'offsettimes', b'regions_centers', b'regions', b'stepsize', b'winsize', b'perturbtype', b'radius', b'x0pz', b'onsettimes', b'pzindices', b'x0ez', b'ezindices', b'simparams'])\n",
      "(59, 1439)\n",
      "(1439, 2)\n",
      "/Volumes/ADAM LI/pydata/dnn/traindata/fragility/id013_pg/fragility_2d/id013_pg_sim_x0ez-1.6_x0pz-2.03_pertmodel.npz_11.npz\n",
      "using pca to grid image\n",
      "0.0\n",
      "(1439, 59)\n",
      "(1439, 1, 32, 32)9/1439nterpolating 195/1439Interpolating 393/1439Interpolating 594/1439Interpolating 790/1439Interpolating 992/1439Interpolating 1189/1439Interpolating 1387/1439\n",
      "/Volumes/ADAM LI/pydata/dnn/traindata/fragility/id013_pg/seegpert/id013_pg/id013_pg_sim_x0ez-1.6_x0pz-2.03_pertmodel.npz\n",
      "(59, 1439)\n",
      "[2187.0, 8606.0, 12241.0, 15012.0, 21165.0, 24019.0, 27751.0, 34110.0, 37067.0, 40134.0, 46357.0, 49003.0, 52739.0, 57418.0, 59121.0, 65313.0, 68089.0, 71804.0, 76727.0, 78509.0, 84494.0, 87324.0, 90713.0, 97322.0, 99774.0, 103592.0, 109791.0, 112830.0, 116091.0, 122393.0, 125025.0, 128833.0, 133237.0, 135092.0, 141635.0, 144019.0, 147973.0, 152605.0, 154255.0, 160109.0, 162828.0, 166771.0, 170837.0, 173116.0, 179622.0] [2187.0, 4230.0, 12241.0, 11027.0, 17290.0, 24019.0, 23696.0, 30109.0, 37067.0, 36363.0, 42412.0, 49003.0, 48768.0, 57418.0, 55239.0, 61377.0, 68089.0, 67820.0, 76727.0, 74375.0, 80710.0, 87324.0, 86882.0, 93169.0, 99774.0, 99655.0, 105922.0, 112830.0, 112160.0, 118434.0, 125025.0, 124856.0, 133237.0, 131216.0, 137541.0, 144019.0, 143992.0, 152605.0, 150382.0, 156342.0, 162828.0, 162660.0, 170837.0, 169197.0, 175542.0]\n",
      "\n",
      "\n",
      "\n",
      "['delvecs', 'pertmats', 'metadata']\n",
      "dict_keys([b'x0norm', b'patient', b'samplefreq', b'seeg_contacts', b'pz', b'seeg_xyz', b'ez', b'timepoints', b'offsettimes', b'regions_centers', b'regions', b'stepsize', b'winsize', b'perturbtype', b'radius', b'x0pz', b'onsettimes', b'pzindices', b'x0ez', b'ezindices', b'simparams'])\n",
      "(59, 1439)\n",
      "(1439, 2)\n",
      "/Volumes/ADAM LI/pydata/dnn/traindata/fragility/id013_pg/fragility_2d/id013_pg_sim_x0ez-1.725_x0pz-2.0_pertmodel.npz_12.npz\n",
      "using pca to grid image\n",
      "0.0\n",
      "(1439, 59)\n",
      "(1439, 1, 32, 32)9/1439nterpolating 190/1439Interpolating 387/1439Interpolating 583/1439Interpolating 772/1439Interpolating 967/1439Interpolating 1166/1439Interpolating 1361/1439\n",
      "/Volumes/ADAM LI/pydata/dnn/traindata/fragility/id013_pg/seegpert/id013_pg/id013_pg_sim_x0ez-1.725_x0pz-2.0_pertmodel.npz\n",
      "(59, 1439)\n",
      "[2227.0, 3783.0, 11037.0, 12090.0, 17989.0, 20740.0, 24846.0, 30655.0, 31260.0, 38030.0, 39104.0, 45047.0, 52106.0, 52160.0, 59102.0, 60257.0, 66007.0, 72892.0, 73245.0, 80000.0, 81407.0, 86765.0, 93624.0, 93795.0, 100728.0, 102052.0, 107417.0, 114033.0, 114212.0, 120815.0, 122805.0, 127530.0, 134559.0, 134994.0, 141520.0, 143369.0, 148111.0, 154885.0, 154935.0, 161768.0, 163263.0, 168668.0, 175499.0, 175830.0] [2227.0, 3783.0, 11037.0, 12090.0, 17989.0, 20740.0, 24846.0, 30655.0, 31260.0, 38030.0, 39104.0, 45047.0, 52106.0, 52160.0, 59102.0, 60257.0, 66007.0, 72892.0, 73245.0, 80000.0, 81407.0, 86765.0, 93624.0, 93795.0, 100728.0, 102052.0, 107417.0, 114033.0, 114212.0, 120815.0, 122805.0, 127530.0, 134559.0, 134994.0, 141520.0, 143369.0, 148111.0, 154885.0, 154935.0, 161768.0, 163263.0, 168668.0, 175499.0, 175830.0]\n",
      "\n",
      "\n",
      "\n",
      "['delvecs', 'pertmats', 'metadata']\n",
      "dict_keys([b'x0norm', b'patient', b'samplefreq', b'seeg_contacts', b'pz', b'seeg_xyz', b'ez', b'timepoints', b'offsettimes', b'regions_centers', b'regions', b'stepsize', b'winsize', b'perturbtype', b'radius', b'x0pz', b'onsettimes', b'pzindices', b'x0ez', b'ezindices', b'simparams'])\n",
      "(59, 1439)\n",
      "(1439, 2)\n",
      "/Volumes/ADAM LI/pydata/dnn/traindata/fragility/id013_pg/fragility_2d/id013_pg_sim_x0ez-1.675_x0pz-2.04_pertmodel.npz_13.npz\n",
      "using pca to grid image\n",
      "0.0\n",
      "(1439, 59)\n",
      "(1439, 1, 32, 32)9/1439nterpolating 198/1439Interpolating 394/1439Interpolating 592/1439Interpolating 788/1439Interpolating 980/1439Interpolating 1180/1439Interpolating 1379/1439\n",
      "/Volumes/ADAM LI/pydata/dnn/traindata/fragility/id013_pg/seegpert/id013_pg/id013_pg_sim_x0ez-1.675_x0pz-2.04_pertmodel.npz\n",
      "(59, 1439)\n",
      "[2187.0, 8718.0, 12345.0, 15428.0, 22204.0, 24776.0, 28508.0, 34447.0, 37190.0, 40415.0, 47100.0, 49955.0, 53513.0, 59723.0, 62551.0, 66614.0, 71080.0, 73207.0, 79817.0, 82778.0, 86652.0, 93077.0, 95448.0, 99833.0, 103976.0, 106120.0, 112802.0, 115519.0, 119345.0, 125497.0, 128100.0, 132235.0, 138987.0, 142002.0, 145722.0, 152408.0, 155060.0, 159248.0, 164176.0, 165727.0, 172318.0, 175271.0, 179273.0] [2187.0, 3956.0, 12345.0, 11080.0, 17828.0, 24776.0, 24369.0, 30459.0, 37190.0, 36487.0, 42701.0, 49955.0, 49383.0, 55559.0, 62551.0, 62155.0, 71080.0, 69033.0, 75515.0, 82778.0, 82227.0, 88907.0, 95448.0, 95473.0, 103976.0, 102009.0, 108521.0, 115519.0, 115133.0, 121391.0, 128100.0, 127896.0, 134629.0, 142002.0, 141417.0, 148112.0, 155060.0, 154875.0, 164176.0, 161540.0, 167998.0, 175271.0, 174789.0]\n",
      "\n",
      "\n",
      "\n",
      "['delvecs', 'pertmats', 'metadata']\n",
      "dict_keys([b'x0norm', b'patient', b'samplefreq', b'seeg_contacts', b'pz', b'seeg_xyz', b'ez', b'timepoints', b'offsettimes', b'regions_centers', b'regions', b'stepsize', b'winsize', b'perturbtype', b'radius', b'x0pz', b'onsettimes', b'pzindices', b'x0ez', b'ezindices', b'simparams'])\n",
      "(59, 1439)\n",
      "(1439, 2)\n",
      "/Volumes/ADAM LI/pydata/dnn/traindata/fragility/id013_pg/fragility_2d/id013_pg_sim_x0ez-1.75_x0pz-1.99_pertmodel.npz_14.npz\n",
      "using pca to grid image\n",
      "0.0\n",
      "(1439, 59)\n",
      "(1439, 1, 32, 32)9/1439nterpolating 189/1439Interpolating 386/1439Interpolating 580/1439Interpolating 778/1439Interpolating 969/1439Interpolating 1166/1439Interpolating 1357/1439\n",
      "/Volumes/ADAM LI/pydata/dnn/traindata/fragility/id013_pg/seegpert/id013_pg/id013_pg_sim_x0ez-1.75_x0pz-1.99_pertmodel.npz\n",
      "(59, 1439)\n",
      "[2221.0, 3719.0, 11243.0, 12077.0, 18431.0, 20232.0, 25222.0, 30668.0, 32058.0, 39282.0, 40022.0, 46225.0, 48137.0, 52888.0, 57498.0, 59303.0, 66355.0, 67096.0, 73303.0, 75223.0, 80462.0, 87691.0, 87768.0, 94851.0, 96133.0, 101541.0, 106723.0, 108220.0, 115122.0, 115549.0, 122060.0, 123710.0, 128796.0, 135988.0, 136594.0, 143036.0, 145376.0, 149782.0, 156691.0, 157024.0, 163770.0, 165295.0, 170589.0, 172878.0, 177305.0] [2221.0, 3719.0, 11243.0, 12077.0, 18431.0, 20232.0, 25222.0, 30668.0, 32058.0, 39282.0, 40022.0, 46225.0, 48137.0, 52888.0, 57498.0, 59303.0, 66355.0, 67096.0, 73303.0, 75223.0, 80462.0, 87691.0, 87768.0, 94851.0, 96133.0, 101541.0, 106723.0, 108220.0, 115122.0, 115549.0, 122060.0, 123710.0, 128796.0, 135988.0, 136594.0, 143036.0, 145376.0, 149782.0, 156691.0, 157024.0, 163770.0, 165295.0, 170589.0, 172878.0, 177305.0]\n",
      "\n",
      "\n",
      "\n"
     ]
    },
    {
     "name": "stdout",
     "output_type": "stream",
     "text": [
      "['delvecs', 'pertmats', 'metadata']\n",
      "dict_keys([b'x0norm', b'patient', b'samplefreq', b'seeg_contacts', b'pz', b'seeg_xyz', b'ez', b'timepoints', b'offsettimes', b'regions_centers', b'regions', b'stepsize', b'winsize', b'perturbtype', b'radius', b'x0pz', b'onsettimes', b'pzindices', b'x0ez', b'ezindices', b'simparams'])\n",
      "(59, 1439)\n",
      "(1439, 2)\n",
      "/Volumes/ADAM LI/pydata/dnn/traindata/fragility/id013_pg/fragility_2d/id013_pg_sim_x0ez-1.7_x0pz-2.01_pertmodel.npz_15.npz\n",
      "using pca to grid image\n",
      "0.0\n",
      "(1439, 59)\n",
      "(1439, 1, 32, 32)9/1439nterpolating 391/1439Interpolating 573/1439Interpolating 772/1439Interpolating 961/1439Interpolating 1151/1439Interpolating 1286/1439\n",
      "/Volumes/ADAM LI/pydata/dnn/traindata/fragility/id013_pg/seegpert/id013_pg/id013_pg_sim_x0ez-1.7_x0pz-2.01_pertmodel.npz\n",
      "(59, 1439)\n",
      "[2273.0, 3823.0, 10994.0, 11973.0, 17890.0, 19909.0, 24338.0, 30735.0, 31058.0, 38101.0, 39305.0, 45049.0, 52115.0, 52159.0, 59065.0, 60265.0, 66026.0, 72678.0, 73137.0, 79399.0, 81157.0, 85974.0, 92820.0, 93324.0, 99463.0, 105668.0, 106050.0, 112152.0, 114547.0, 118290.0, 125019.0, 125105.0, 131772.0, 133504.0, 138329.0, 144920.0, 145547.0, 151772.0, 153801.0, 157989.0, 164237.0, 164301.0, 171167.0, 172787.0, 177930.0] [2273.0, 3823.0, 10994.0, 11973.0, 17890.0, 19909.0, 24338.0, 30735.0, 31058.0, 38101.0, 39305.0, 45049.0, 52115.0, 52159.0, 59065.0, 60265.0, 66026.0, 72678.0, 73137.0, 79399.0, 81157.0, 85974.0, 92820.0, 93324.0, 99463.0, 105668.0, 106050.0, 112152.0, 114547.0, 118290.0, 125019.0, 125105.0, 131772.0, 133504.0, 138329.0, 144920.0, 145547.0, 151772.0, 153801.0, 157989.0, 164237.0, 164301.0, 171167.0, 172787.0, 177930.0]\n",
      "\n",
      "\n",
      "\n",
      "['delvecs', 'pertmats', 'metadata']\n",
      "dict_keys([b'x0norm', b'patient', b'samplefreq', b'seeg_contacts', b'pz', b'seeg_xyz', b'ez', b'timepoints', b'offsettimes', b'regions_centers', b'regions', b'stepsize', b'winsize', b'perturbtype', b'radius', b'x0pz', b'onsettimes', b'pzindices', b'x0ez', b'ezindices', b'simparams'])\n",
      "(59, 1439)\n",
      "(1439, 2)\n",
      "/Volumes/ADAM LI/pydata/dnn/traindata/fragility/id013_pg/fragility_2d/id013_pg_sim_x0ez-1.725_x0pz-2.01_pertmodel.npz_16.npz\n",
      "using pca to grid image\n",
      "0.0\n",
      "(1439, 59)\n",
      "(1439, 1, 32, 32)9/1439nterpolating 186/1439Interpolating 372/1439Interpolating 558/1439Interpolating 750/1439Interpolating 937/1439Interpolating 1113/1439Interpolating 1308/1439\n",
      "/Volumes/ADAM LI/pydata/dnn/traindata/fragility/id013_pg/seegpert/id013_pg/id013_pg_sim_x0ez-1.725_x0pz-2.01_pertmodel.npz\n",
      "(59, 1439)\n",
      "[8759.0, 10117.0, 15798.0, 22729.0, 23074.0, 29879.0, 31693.0, 36529.0, 42789.0, 43335.0, 49940.0, 51963.0, 56462.0, 63254.0, 63696.0, 70375.0, 72211.0, 77266.0, 84286.0, 85002.0, 91506.0, 93410.0, 98356.0, 103175.0, 105236.0, 112501.0, 113467.0, 119282.0, 126097.0, 126870.0, 132361.0, 134770.0, 139158.0, 145499.0, 146112.0, 152096.0, 154380.0, 158884.0, 165734.0, 166468.0, 172288.0, 174565.0, 178995.0] [3734.0, 2274.0, 11101.0, 18121.0, 12206.0, 25177.0, 25331.0, 32100.0, 38499.0, 33791.0, 45290.0, 45644.0, 52146.0, 58761.0, 53964.0, 65640.0, 65909.0, 72714.0, 79606.0, 74135.0, 86741.0, 87132.0, 93838.0, 95483.0, 100700.0, 107646.0, 106772.0, 114816.0, 121525.0, 115539.0, 128118.0, 128901.0, 134682.0, 141190.0, 137649.0, 147640.0, 148287.0, 154385.0, 161119.0, 156626.0, 167860.0, 168569.0, 174517.0]\n",
      "\n",
      "\n",
      "\n",
      "['delvecs', 'pertmats', 'metadata']\n",
      "dict_keys([b'x0norm', b'patient', b'samplefreq', b'seeg_contacts', b'pz', b'seeg_xyz', b'ez', b'timepoints', b'offsettimes', b'regions_centers', b'regions', b'stepsize', b'winsize', b'perturbtype', b'radius', b'x0pz', b'onsettimes', b'pzindices', b'x0ez', b'ezindices', b'simparams'])\n",
      "(59, 1439)\n",
      "(1439, 2)\n",
      "/Volumes/ADAM LI/pydata/dnn/traindata/fragility/id013_pg/fragility_2d/id013_pg_sim_x0ez-1.75_x0pz-2.02_pertmodel.npz_17.npz\n",
      "using pca to grid image\n",
      "0.0\n",
      "(1439, 59)\n",
      "(1439, 1, 32, 32)9/1439nterpolating 192/1439Interpolating 386/1439Interpolating 568/1439Interpolating 761/1439Interpolating 950/1439Interpolating 1145/1439Interpolating 1343/1439\n",
      "/Volumes/ADAM LI/pydata/dnn/traindata/fragility/id013_pg/seegpert/id013_pg/id013_pg_sim_x0ez-1.75_x0pz-2.02_pertmodel.npz\n",
      "(59, 1439)\n",
      "[2199.0, 3730.0, 11280.0, 12288.0, 18435.0, 25435.0, 25600.0, 32490.0, 34596.0, 39377.0, 46449.0, 46895.0, 53470.0, 55028.0, 60076.0, 66702.0, 67633.0, 73324.0, 80473.0, 80884.0, 87498.0, 89348.0, 94456.0, 101532.0, 102047.0, 108689.0, 110745.0, 115125.0, 122045.0, 122525.0, 128919.0, 131111.0, 135651.0, 142173.0, 142794.0, 148581.0, 155519.0, 155724.0, 162645.0, 164199.0, 169507.0, 176447.0, 176855.0] [2199.0, 3730.0, 11280.0, 12288.0, 18435.0, 25435.0, 25600.0, 32490.0, 34596.0, 39377.0, 46449.0, 46895.0, 53470.0, 55028.0, 60076.0, 66702.0, 67633.0, 73324.0, 80473.0, 80884.0, 87498.0, 89348.0, 94456.0, 101532.0, 102047.0, 108689.0, 110745.0, 115125.0, 122045.0, 122525.0, 128919.0, 131111.0, 135651.0, 142173.0, 142794.0, 148581.0, 155519.0, 155724.0, 162645.0, 164199.0, 169507.0, 176447.0, 176855.0]\n",
      "\n",
      "\n",
      "\n",
      "['delvecs', 'pertmats', 'metadata']\n",
      "dict_keys([b'x0norm', b'patient', b'samplefreq', b'seeg_contacts', b'pz', b'seeg_xyz', b'ez', b'timepoints', b'offsettimes', b'regions_centers', b'regions', b'stepsize', b'winsize', b'perturbtype', b'radius', b'x0pz', b'onsettimes', b'pzindices', b'x0ez', b'ezindices', b'simparams'])\n",
      "(59, 1439)\n",
      "(1439, 2)\n",
      "/Volumes/ADAM LI/pydata/dnn/traindata/fragility/id013_pg/fragility_2d/id013_pg_sim_x0ez-1.8_x0pz-2.01_pertmodel.npz_18.npz\n",
      "using pca to grid image\n",
      "0.0\n",
      "(1439, 59)\n",
      "(1439, 1, 32, 32)9/1439nterpolating 183/1439Interpolating 371/1439Interpolating 567/1439Interpolating 754/1439Interpolating 943/1439Interpolating 1139/1439Interpolating 1339/1439\n",
      "/Volumes/ADAM LI/pydata/dnn/traindata/fragility/id013_pg/seegpert/id013_pg/id013_pg_sim_x0ez-1.8_x0pz-2.01_pertmodel.npz\n",
      "(59, 1439)\n",
      "[2274.0, 3562.0, 11414.0, 12349.0, 18915.0, 20752.0, 26029.0, 33297.0, 33656.0, 40760.0, 42548.0, 47814.0, 55249.0, 55328.0, 62852.0, 63937.0, 70235.0, 72307.0, 77629.0, 85036.0, 85735.0, 91789.0, 98391.0, 98761.0, 105776.0, 107375.0, 112847.0, 118566.0, 119729.0, 127051.0, 127595.0, 134330.0, 136172.0, 141494.0, 148862.0, 148870.0, 156385.0, 157589.0, 163677.0, 165862.0, 170602.0, 178035.0, 178440.0] [2274.0, 3562.0, 11414.0, 12349.0, 18915.0, 20752.0, 26029.0, 33297.0, 33656.0, 40760.0, 42548.0, 47814.0, 55249.0, 55328.0, 62852.0, 63937.0, 70235.0, 72307.0, 77629.0, 85036.0, 85735.0, 91789.0, 98391.0, 98761.0, 105776.0, 107375.0, 112847.0, 118566.0, 119729.0, 127051.0, 127595.0, 134330.0, 136172.0, 141494.0, 148862.0, 148870.0, 156385.0, 157589.0, 163677.0, 165862.0, 170602.0, 178035.0, 178440.0]\n",
      "\n",
      "\n",
      "\n",
      "['delvecs', 'pertmats', 'metadata']\n",
      "dict_keys([b'x0norm', b'patient', b'samplefreq', b'seeg_contacts', b'pz', b'seeg_xyz', b'ez', b'timepoints', b'offsettimes', b'regions_centers', b'regions', b'stepsize', b'winsize', b'perturbtype', b'radius', b'x0pz', b'onsettimes', b'pzindices', b'x0ez', b'ezindices', b'simparams'])\n",
      "(59, 1439)\n",
      "(1439, 2)\n",
      "/Volumes/ADAM LI/pydata/dnn/traindata/fragility/id013_pg/fragility_2d/id013_pg_sim_x0ez-1.6_x0pz-1.98_pertmodel.npz_19.npz\n",
      "using pca to grid image\n",
      "0.0\n",
      "(1439, 59)\n",
      "(1439, 1, 32, 32)9/1439nterpolating 186/1439Interpolating 365/1439Interpolating 563/1439Interpolating 760/1439Interpolating 960/1439Interpolating 1156/1439Interpolating 1352/1439\n",
      "/Volumes/ADAM LI/pydata/dnn/traindata/fragility/id013_pg/seegpert/id013_pg/id013_pg_sim_x0ez-1.6_x0pz-1.98_pertmodel.npz\n",
      "(59, 1439)\n",
      "[2211.0, 4244.0, 11011.0, 11598.0, 17313.0, 23590.0, 23806.0, 30429.0, 31572.0, 36914.0, 43337.0, 43381.0, 49996.0, 51549.0, 56321.0, 59963.0, 62340.0, 68591.0, 69085.0, 74669.0, 78750.0, 80951.0, 87693.0, 87780.0, 94410.0, 95862.0, 100791.0, 106762.0, 107402.0, 113738.0, 115177.0, 120008.0, 126481.0, 126787.0, 133320.0, 134698.0, 139388.0, 144050.0, 145344.0, 151561.0, 152512.0, 157748.0, 164199.0, 164395.0, 170759.0, 172638.0, 176994.0] [2211.0, 4244.0, 11011.0, 11598.0, 17313.0, 23590.0, 23806.0, 30429.0, 31572.0, 36914.0, 43337.0, 43381.0, 49996.0, 51549.0, 56321.0, 59963.0, 62340.0, 68591.0, 69085.0, 74669.0, 78750.0, 80951.0, 87693.0, 87780.0, 94410.0, 95862.0, 100791.0, 106762.0, 107402.0, 113738.0, 115177.0, 120008.0, 126481.0, 126787.0, 133320.0, 134698.0, 139388.0, 144050.0, 145344.0, 151561.0, 152512.0, 157748.0, 164199.0, 164395.0, 170759.0, 172638.0, 176994.0]\n",
      "\n",
      "\n",
      "\n"
     ]
    },
    {
     "name": "stdout",
     "output_type": "stream",
     "text": [
      "['delvecs', 'pertmats', 'metadata']\n",
      "dict_keys([b'x0norm', b'patient', b'samplefreq', b'seeg_contacts', b'pz', b'seeg_xyz', b'ez', b'timepoints', b'offsettimes', b'regions_centers', b'regions', b'stepsize', b'winsize', b'perturbtype', b'radius', b'x0pz', b'onsettimes', b'pzindices', b'x0ez', b'ezindices', b'simparams'])\n",
      "(59, 1439)\n",
      "(1439, 2)\n",
      "/Volumes/ADAM LI/pydata/dnn/traindata/fragility/id013_pg/fragility_2d/id013_pg_sim_x0ez-1.75_x0pz-2.0_pertmodel.npz_20.npz\n",
      "using pca to grid image\n",
      "0.0\n",
      "(1439, 59)\n",
      "(1439, 1, 32, 32)9/1439nterpolating 384/1439Interpolating 586/1439Interpolating 786/1439Interpolating 983/1439Interpolating 1179/1439Interpolating 1379/1439\n",
      "/Volumes/ADAM LI/pydata/dnn/traindata/fragility/id013_pg/seegpert/id013_pg/id013_pg_sim_x0ez-1.75_x0pz-2.0_pertmodel.npz\n",
      "(59, 1439)\n",
      "[2236.0, 3719.0, 11278.0, 12201.0, 18442.0, 20450.0, 25183.0, 32089.0, 32612.0, 39234.0, 41320.0, 45818.0, 52312.0, 52859.0, 59031.0, 61438.0, 66040.0, 73296.0, 73368.0, 80850.0, 81871.0, 87874.0, 90170.0, 94221.0, 100812.0, 101460.0, 107912.0, 109676.0, 114820.0, 121204.0, 121604.0, 128312.0, 129968.0, 134948.0, 142242.0, 142307.0, 149392.0, 150691.0, 156346.0, 163422.0, 163780.0, 170592.0, 172108.0, 177488.0] [2236.0, 3719.0, 11278.0, 12201.0, 18442.0, 20450.0, 25183.0, 32089.0, 32612.0, 39234.0, 41320.0, 45818.0, 52312.0, 52859.0, 59031.0, 61438.0, 66040.0, 73296.0, 73368.0, 80850.0, 81871.0, 87874.0, 90170.0, 94221.0, 100812.0, 101460.0, 107912.0, 109676.0, 114820.0, 121204.0, 121604.0, 128312.0, 129968.0, 134948.0, 142242.0, 142307.0, 149392.0, 150691.0, 156346.0, 163422.0, 163780.0, 170592.0, 172108.0, 177488.0]\n",
      "\n",
      "\n",
      "\n",
      "['delvecs', 'pertmats', 'metadata']\n",
      "dict_keys([b'x0norm', b'patient', b'samplefreq', b'seeg_contacts', b'pz', b'seeg_xyz', b'ez', b'timepoints', b'offsettimes', b'regions_centers', b'regions', b'stepsize', b'winsize', b'perturbtype', b'radius', b'x0pz', b'onsettimes', b'pzindices', b'x0ez', b'ezindices', b'simparams'])\n",
      "(59, 1439)\n",
      "(1439, 2)\n",
      "/Volumes/ADAM LI/pydata/dnn/traindata/fragility/id013_pg/fragility_2d/id013_pg_sim_x0ez-1.65_x0pz-1.99_pertmodel.npz_21.npz\n",
      "using pca to grid image\n",
      "0.0\n",
      "(1439, 59)\n",
      "(1439, 1, 32, 32)9/1439nterpolating 198/1439Interpolating 397/1439Interpolating 596/1439Interpolating 786/1439Interpolating 985/1439Interpolating 1179/1439Interpolating 1381/1439\n",
      "/Volumes/ADAM LI/pydata/dnn/traindata/fragility/id013_pg/seegpert/id013_pg/id013_pg_sim_x0ez-1.65_x0pz-1.99_pertmodel.npz\n",
      "(59, 1439)\n",
      "[2208.0, 3999.0, 11070.0, 11809.0, 17851.0, 20175.0, 24325.0, 30017.0, 30926.0, 37741.0, 38181.0, 44498.0, 46474.0, 50942.0, 57583.0, 57642.0, 64104.0, 65697.0, 70683.0, 77595.0, 77911.0, 84249.0, 85848.0, 90714.0, 97381.0, 97786.0, 104141.0, 105861.0, 110556.0, 115775.0, 116798.0, 123493.0, 124428.0, 130142.0, 132275.0, 136333.0, 142652.0, 142862.0, 149699.0, 150809.0, 156267.0, 158437.0, 162658.0, 169353.0, 169442.0, 175962.0, 177499.0] [2208.0, 3999.0, 11070.0, 11809.0, 17851.0, 20175.0, 24325.0, 30017.0, 30926.0, 37741.0, 38181.0, 44498.0, 46474.0, 50942.0, 57583.0, 57642.0, 64104.0, 65697.0, 70683.0, 77595.0, 77911.0, 84249.0, 85848.0, 90714.0, 97381.0, 97786.0, 104141.0, 105861.0, 110556.0, 115775.0, 116798.0, 123493.0, 124428.0, 130142.0, 132275.0, 136333.0, 142652.0, 142862.0, 149699.0, 150809.0, 156267.0, 158437.0, 162658.0, 169353.0, 169442.0, 175962.0, 177499.0]\n",
      "\n",
      "\n",
      "\n",
      "['delvecs', 'pertmats', 'metadata']\n",
      "dict_keys([b'x0norm', b'patient', b'samplefreq', b'seeg_contacts', b'pz', b'seeg_xyz', b'ez', b'timepoints', b'offsettimes', b'regions_centers', b'regions', b'stepsize', b'winsize', b'perturbtype', b'radius', b'x0pz', b'onsettimes', b'pzindices', b'x0ez', b'ezindices', b'simparams'])\n",
      "(59, 1439)\n",
      "(1439, 2)\n",
      "/Volumes/ADAM LI/pydata/dnn/traindata/fragility/id013_pg/fragility_2d/id013_pg_sim_x0ez-1.8_x0pz-2.0_pertmodel.npz_22.npz\n",
      "using pca to grid image\n",
      "0.0\n",
      "(1439, 59)\n",
      "(1439, 1, 32, 32)9/1439nterpolating 197/1439Interpolating 398/1439Interpolating 596/1439Interpolating 796/1439Interpolating 990/1439Interpolating 1188/1439Interpolating 1387/1439\n",
      "/Volumes/ADAM LI/pydata/dnn/traindata/fragility/id013_pg/seegpert/id013_pg/id013_pg_sim_x0ez-1.8_x0pz-2.0_pertmodel.npz\n",
      "(59, 1439)\n",
      "[2224.0, 3563.0, 11438.0, 12244.0, 18907.0, 20667.0, 26095.0, 33316.0, 33740.0, 40748.0, 42416.0, 47811.0, 55171.0, 55270.0, 62700.0, 63923.0, 69618.0, 76615.0, 76791.0, 84214.0, 85446.0, 91305.0, 93326.0, 98112.0, 105192.0, 105578.0, 112511.0, 114028.0, 119706.0, 126768.0, 127482.0, 133692.0, 136169.0, 140791.0, 146537.0, 147457.0, 154584.0, 155475.0, 162088.0, 163863.0, 169278.0, 176811.0, 177161.0] [2224.0, 3563.0, 11438.0, 12244.0, 18907.0, 20667.0, 26095.0, 33316.0, 33740.0, 40748.0, 42416.0, 47811.0, 55171.0, 55270.0, 62700.0, 63923.0, 69618.0, 76615.0, 76791.0, 84214.0, 85446.0, 91305.0, 93326.0, 98112.0, 105192.0, 105578.0, 112511.0, 114028.0, 119706.0, 126768.0, 127482.0, 133692.0, 136169.0, 140791.0, 146537.0, 147457.0, 154584.0, 155475.0, 162088.0, 163863.0, 169278.0, 176811.0, 177161.0]\n",
      "\n",
      "\n",
      "\n",
      "['delvecs', 'pertmats', 'metadata']\n",
      "dict_keys([b'x0norm', b'patient', b'samplefreq', b'seeg_contacts', b'pz', b'seeg_xyz', b'ez', b'timepoints', b'offsettimes', b'regions_centers', b'regions', b'stepsize', b'winsize', b'perturbtype', b'radius', b'x0pz', b'onsettimes', b'pzindices', b'x0ez', b'ezindices', b'simparams'])\n",
      "(59, 1439)\n",
      "(1439, 2)\n",
      "/Volumes/ADAM LI/pydata/dnn/traindata/fragility/id013_pg/fragility_2d/id013_pg_sim_x0ez-1.625_x0pz-2.0_pertmodel.npz_23.npz\n",
      "using pca to grid image\n",
      "0.0\n",
      "(1439, 59)\n",
      "(1439, 1, 32, 32)9/1439nterpolating 176/1439Interpolating 373/1439Interpolating 554/1439Interpolating 746/1439Interpolating 933/1439Interpolating 1122/1439Interpolating 1318/1439\n",
      "/Volumes/ADAM LI/pydata/dnn/traindata/fragility/id013_pg/seegpert/id013_pg/id013_pg_sim_x0ez-1.625_x0pz-2.0_pertmodel.npz\n",
      "(59, 1439)\n",
      "[2276.0, 4101.0, 11031.0, 11934.0, 17601.0, 24178.0, 24404.0, 30669.0, 32086.0, 37007.0, 43407.0, 43484.0, 49908.0, 51663.0, 56325.0, 62841.0, 63448.0, 69478.0, 71751.0, 75633.0, 82088.0, 82759.0, 88614.0, 95206.0, 95313.0, 101822.0, 103557.0, 108209.0, 114244.0, 114819.0, 121104.0, 122769.0, 127048.0, 133238.0, 133695.0, 139574.0, 140874.0, 146106.0, 146203.0, 152636.0, 154483.0, 158742.0, 164252.0, 165369.0, 172291.0, 172897.0, 178561.0] [2276.0, 4101.0, 11031.0, 11934.0, 17601.0, 24178.0, 24404.0, 30669.0, 32086.0, 37007.0, 43407.0, 43484.0, 49908.0, 51663.0, 56325.0, 62841.0, 63448.0, 69478.0, 71751.0, 75633.0, 82088.0, 82759.0, 88614.0, 95206.0, 95313.0, 101822.0, 103557.0, 108209.0, 114244.0, 114819.0, 121104.0, 122769.0, 127048.0, 133238.0, 133695.0, 139574.0, 140874.0, 146106.0, 146203.0, 152636.0, 154483.0, 158742.0, 164252.0, 165369.0, 172291.0, 172897.0, 178561.0]\n",
      "\n",
      "\n",
      "\n",
      "['delvecs', 'pertmats', 'metadata']\n",
      "dict_keys([b'x0norm', b'patient', b'samplefreq', b'seeg_contacts', b'pz', b'seeg_xyz', b'ez', b'timepoints', b'offsettimes', b'regions_centers', b'regions', b'stepsize', b'winsize', b'perturbtype', b'radius', b'x0pz', b'onsettimes', b'pzindices', b'x0ez', b'ezindices', b'simparams'])\n",
      "(59, 1439)\n",
      "(1439, 2)\n",
      "/Volumes/ADAM LI/pydata/dnn/traindata/fragility/id013_pg/fragility_2d/id013_pg_sim_x0ez-1.625_x0pz-2.04_pertmodel.npz_24.npz\n",
      "using pca to grid image\n",
      "0.0\n",
      "(1439, 59)\n",
      "(1439, 1, 32, 32)9/1439nterpolating 197/1439Interpolating 382/1439Interpolating 571/1439Interpolating 760/1439Interpolating 938/1439Interpolating 1114/1439Interpolating 1310/1439\n",
      "/Volumes/ADAM LI/pydata/dnn/traindata/fragility/id013_pg/seegpert/id013_pg/id013_pg_sim_x0ez-1.625_x0pz-2.04_pertmodel.npz\n",
      "(59, 1439)\n",
      "[4195.0, 10173.0, 10999.0, 17283.0, 22042.0, 23971.0, 30439.0, 34951.0, 37037.0, 43538.0, 43544.0, 49749.0, 54510.0, 55965.0, 62354.0, 67051.0, 69088.0, 75629.0, 80618.0, 82085.0, 88607.0, 93154.0, 95317.0, 101814.0, 101817.0, 108201.0, 113216.0, 114997.0, 121572.0, 126214.0, 127928.0, 134327.0, 139700.0, 141025.0, 147400.0, 152499.0, 153629.0, 159851.0, 164353.0, 166419.0, 172957.0, 177591.0, 179604.0] [4195.0, 2185.0, 10999.0, 17283.0, 12309.0, 23971.0, 30439.0, 24261.0, 37037.0, 43538.0, 37127.0, 49749.0, 45640.0, 55965.0, 62354.0, 56631.0, 69088.0, 75629.0, 69264.0, 82085.0, 88607.0, 82761.0, 95317.0, 101814.0, 95305.0, 108201.0, 104054.0, 114997.0, 121572.0, 115443.0, 127928.0, 134327.0, 128434.0, 141025.0, 147400.0, 141804.0, 153629.0, 159851.0, 154480.0, 166419.0, 172957.0, 166601.0, 179604.0]\n",
      "\n",
      "\n",
      "\n"
     ]
    },
    {
     "name": "stdout",
     "output_type": "stream",
     "text": [
      "['delvecs', 'pertmats', 'metadata']\n",
      "dict_keys([b'x0norm', b'patient', b'samplefreq', b'seeg_contacts', b'pz', b'seeg_xyz', b'ez', b'timepoints', b'offsettimes', b'regions_centers', b'regions', b'stepsize', b'winsize', b'perturbtype', b'radius', b'x0pz', b'onsettimes', b'pzindices', b'x0ez', b'ezindices', b'simparams'])\n",
      "(59, 1439)\n",
      "(1439, 2)\n",
      "/Volumes/ADAM LI/pydata/dnn/traindata/fragility/id013_pg/fragility_2d/id013_pg_sim_x0ez-1.775_x0pz-1.99_pertmodel.npz_25.npz\n",
      "using pca to grid image\n",
      "0.0\n",
      "(1439, 59)\n",
      "(1439, 1, 32, 32)9/1439nterpolating 398/1439Interpolating 598/1439Interpolating 797/1439Interpolating 1001/1439Interpolating 1203/1439Interpolating 1405/1439\n",
      "/Volumes/ADAM LI/pydata/dnn/traindata/fragility/id013_pg/seegpert/id013_pg/id013_pg_sim_x0ez-1.775_x0pz-1.99_pertmodel.npz\n",
      "(59, 1439)\n",
      "[3702.0, 9954.0, 11392.0, 18409.0, 18642.0, 25945.0, 31399.0, 32898.0, 39508.0, 39732.0, 46799.0, 48849.0, 53503.0, 59549.0, 60251.0, 67247.0, 67337.0, 73861.0, 76437.0, 80410.0, 85935.0, 87704.0, 94428.0, 95195.0, 102131.0, 102311.0, 109213.0, 111704.0, 115892.0, 121294.0, 123073.0, 129698.0, 129894.0, 136315.0, 141790.0, 143419.0, 150433.0, 150443.0, 157344.0, 161859.0, 164526.0, 170814.0, 172003.0, 178787.0, 179015.0] [3702.0, 2209.0, 11392.0, 12204.0, 18642.0, 25945.0, 20450.0, 32898.0, 33378.0, 39732.0, 46799.0, 41649.0, 53503.0, 53392.0, 60251.0, 61474.0, 67337.0, 73861.0, 69284.0, 80410.0, 78752.0, 87704.0, 88088.0, 95195.0, 96386.0, 102311.0, 109213.0, 104171.0, 115892.0, 114336.0, 123073.0, 123456.0, 129894.0, 136315.0, 131816.0, 143419.0, 143961.0, 150443.0, 157344.0, 152489.0, 164526.0, 164234.0, 172003.0, 172872.0, 179015.0]\n",
      "\n",
      "\n",
      "\n",
      "['delvecs', 'pertmats', 'metadata']\n",
      "dict_keys([b'x0norm', b'patient', b'samplefreq', b'seeg_contacts', b'pz', b'seeg_xyz', b'ez', b'timepoints', b'offsettimes', b'regions_centers', b'regions', b'stepsize', b'winsize', b'perturbtype', b'radius', b'x0pz', b'onsettimes', b'pzindices', b'x0ez', b'ezindices', b'simparams'])\n",
      "(59, 1439)\n",
      "(1439, 2)\n",
      "/Volumes/ADAM LI/pydata/dnn/traindata/fragility/id013_pg/fragility_2d/id013_pg_sim_x0ez-1.625_x0pz-2.03_pertmodel.npz_26.npz\n",
      "using pca to grid image\n",
      "0.0\n",
      "(1439, 59)\n",
      "(1439, 1, 32, 32)9/1439nterpolating 197/1439Interpolating 397/1439Interpolating 600/1439Interpolating 802/1439Interpolating 1004/1439Interpolating 1203/1439Interpolating 1391/1439\n",
      "/Volumes/ADAM LI/pydata/dnn/traindata/fragility/id013_pg/seegpert/id013_pg/id013_pg_sim_x0ez-1.625_x0pz-2.03_pertmodel.npz\n",
      "(59, 1439)\n",
      "[2187.0, 4068.0, 10916.0, 12222.0, 17347.0, 23971.0, 24251.0, 30433.0, 37034.0, 37152.0, 43537.0, 45625.0, 49874.0, 56521.0, 56594.0, 62959.0, 65054.0, 69376.0, 75807.0, 76001.0, 82259.0, 84656.0, 88067.0, 94505.0, 95049.0, 100964.0, 106898.0, 107644.0, 114300.0, 115498.0, 120908.0, 127270.0, 127596.0, 133182.0, 138015.0, 139322.0, 145835.0, 147152.0, 151875.0, 158045.0, 158404.0, 164308.0, 170561.0, 170827.0, 177004.0, 179054.0] [2187.0, 4068.0, 10916.0, 12222.0, 17347.0, 23971.0, 24251.0, 30433.0, 37034.0, 37152.0, 43537.0, 45625.0, 49874.0, 56521.0, 56594.0, 62959.0, 65054.0, 69376.0, 75807.0, 76001.0, 82259.0, 84656.0, 88067.0, 94505.0, 95049.0, 100964.0, 106898.0, 107644.0, 114300.0, 115498.0, 120908.0, 127270.0, 127596.0, 133182.0, 138015.0, 139322.0, 145835.0, 147152.0, 151875.0, 158045.0, 158404.0, 164308.0, 170561.0, 170827.0, 177004.0, 179054.0]\n",
      "\n",
      "\n",
      "\n",
      "['delvecs', 'pertmats', 'metadata']\n",
      "dict_keys([b'x0norm', b'patient', b'samplefreq', b'seeg_contacts', b'pz', b'seeg_xyz', b'ez', b'timepoints', b'offsettimes', b'regions_centers', b'regions', b'stepsize', b'winsize', b'perturbtype', b'radius', b'x0pz', b'onsettimes', b'pzindices', b'x0ez', b'ezindices', b'simparams'])\n",
      "(59, 1439)\n",
      "(1439, 2)\n",
      "/Volumes/ADAM LI/pydata/dnn/traindata/fragility/id013_pg/fragility_2d/id013_pg_sim_x0ez-1.7_x0pz-2.02_pertmodel.npz_27.npz\n",
      "using pca to grid image\n",
      "0.0\n",
      "(1439, 59)\n",
      "(1439, 1, 32, 32)9/1439nterpolating 188/1439Interpolating 355/1439Interpolating 548/1439Interpolating 745/1439Interpolating 945/1439Interpolating 1146/1439Interpolating 1348/1439\n",
      "/Volumes/ADAM LI/pydata/dnn/traindata/fragility/id013_pg/seegpert/id013_pg/id013_pg_sim_x0ez-1.7_x0pz-2.02_pertmodel.npz\n",
      "(59, 1439)\n",
      "[2198.0, 3794.0, 10907.0, 11972.0, 17429.0, 24006.0, 24399.0, 30673.0, 32753.0, 37031.0, 43461.0, 43862.0, 50009.0, 56625.0, 57305.0, 63052.0, 69841.0, 70118.0, 76619.0, 78474.0, 83169.0, 89463.0, 90105.0, 95483.0, 102278.0, 102474.0, 109338.0, 110783.0, 116117.0, 122855.0, 123100.0, 129756.0, 131374.0, 136356.0, 142984.0, 143543.0, 149472.0, 155996.0, 156515.0, 162647.0, 169434.0, 169661.0, 176227.0, 178185.0] [2198.0, 3794.0, 10907.0, 11972.0, 17429.0, 24006.0, 24399.0, 30673.0, 32753.0, 37031.0, 43461.0, 43862.0, 50009.0, 56625.0, 57305.0, 63052.0, 69841.0, 70118.0, 76619.0, 78474.0, 83169.0, 89463.0, 90105.0, 95483.0, 102278.0, 102474.0, 109338.0, 110783.0, 116117.0, 122855.0, 123100.0, 129756.0, 131374.0, 136356.0, 142984.0, 143543.0, 149472.0, 155996.0, 156515.0, 162647.0, 169434.0, 169661.0, 176227.0, 178185.0]\n",
      "\n",
      "\n",
      "\n",
      "['delvecs', 'pertmats', 'metadata']\n",
      "dict_keys([b'x0norm', b'patient', b'samplefreq', b'seeg_contacts', b'pz', b'seeg_xyz', b'ez', b'timepoints', b'offsettimes', b'regions_centers', b'regions', b'stepsize', b'winsize', b'perturbtype', b'radius', b'x0pz', b'onsettimes', b'pzindices', b'x0ez', b'ezindices', b'simparams'])\n",
      "(59, 1439)\n",
      "(1439, 2)\n",
      "/Volumes/ADAM LI/pydata/dnn/traindata/fragility/id013_pg/fragility_2d/id013_pg_sim_x0ez-1.725_x0pz-2.02_pertmodel.npz_28.npz\n",
      "using pca to grid image\n",
      "0.0\n",
      "(1439, 59)\n",
      "(1439, 1, 32, 32)9/1439nterpolating 198/1439Interpolating 398/1439Interpolating 598/1439Interpolating 782/1439Interpolating 978/1439Interpolating 1160/1439Interpolating 1356/1439\n",
      "/Volumes/ADAM LI/pydata/dnn/traindata/fragility/id013_pg/seegpert/id013_pg/id013_pg_sim_x0ez-1.725_x0pz-2.02_pertmodel.npz\n",
      "(59, 1439)\n",
      "[2203.0, 3809.0, 11239.0, 12227.0, 18210.0, 25176.0, 25327.0, 32091.0, 33983.0, 38472.0, 45108.0, 45639.0, 52118.0, 53967.0, 58957.0, 65992.0, 66015.0, 72833.0, 74348.0, 79535.0, 86163.0, 87057.0, 92828.0, 99981.0, 100033.0, 107097.0, 108512.0, 113846.0, 120906.0, 121029.0, 127807.0, 129875.0, 134389.0, 141226.0, 142005.0, 148089.0, 155265.0, 155310.0, 162491.0, 163831.0, 169260.0, 176099.0, 176496.0] [2203.0, 3809.0, 11239.0, 12227.0, 18210.0, 25176.0, 25327.0, 32091.0, 33983.0, 38472.0, 45108.0, 45639.0, 52118.0, 53967.0, 58957.0, 65992.0, 66015.0, 72833.0, 74348.0, 79535.0, 86163.0, 87057.0, 92828.0, 99981.0, 100033.0, 107097.0, 108512.0, 113846.0, 120906.0, 121029.0, 127807.0, 129875.0, 134389.0, 141226.0, 142005.0, 148089.0, 155265.0, 155310.0, 162491.0, 163831.0, 169260.0, 176099.0, 176496.0]\n",
      "\n",
      "\n",
      "\n",
      "['delvecs', 'pertmats', 'metadata']\n",
      "dict_keys([b'x0norm', b'patient', b'samplefreq', b'seeg_contacts', b'pz', b'seeg_xyz', b'ez', b'timepoints', b'offsettimes', b'regions_centers', b'regions', b'stepsize', b'winsize', b'perturbtype', b'radius', b'x0pz', b'onsettimes', b'pzindices', b'x0ez', b'ezindices', b'simparams'])\n",
      "(59, 1439)\n",
      "(1439, 2)\n",
      "/Volumes/ADAM LI/pydata/dnn/traindata/fragility/id013_pg/fragility_2d/id013_pg_sim_x0ez-1.6_x0pz-2.0_pertmodel.npz_29.npz\n",
      "using pca to grid image\n",
      "0.0\n",
      "(1439, 59)\n",
      "(1439, 1, 32, 32)9/1439nterpolating 186/1439Interpolating 380/1439Interpolating 573/1439Interpolating 774/1439Interpolating 979/1439Interpolating 1180/1439Interpolating 1379/1439\n",
      "/Volumes/ADAM LI/pydata/dnn/traindata/fragility/id013_pg/seegpert/id013_pg/id013_pg_sim_x0ez-1.6_x0pz-2.0_pertmodel.npz\n",
      "(59, 1439)\n",
      "[2272.0, 4240.0, 11009.0, 11844.0, 17555.0, 24129.0, 24396.0, 30434.0, 32619.0, 36726.0, 43044.0, 43263.0, 49961.0, 51150.0, 56515.0, 60541.0, 62729.0, 69386.0, 69885.0, 75630.0, 78782.0, 81449.0, 87912.0, 88168.0, 94461.0, 96284.0, 100732.0, 106773.0, 107398.0, 113740.0, 115071.0, 119986.0, 126773.0, 126816.0, 133241.0, 134749.0, 139479.0, 145963.0, 146123.0, 152613.0, 154415.0, 158894.0, 164226.0, 165362.0, 172000.0, 172872.0, 178331.0] [2272.0, 4240.0, 11009.0, 11844.0, 17555.0, 24129.0, 24396.0, 30434.0, 32619.0, 36726.0, 43044.0, 43263.0, 49961.0, 51150.0, 56515.0, 60541.0, 62729.0, 69386.0, 69885.0, 75630.0, 78782.0, 81449.0, 87912.0, 88168.0, 94461.0, 96284.0, 100732.0, 106773.0, 107398.0, 113740.0, 115071.0, 119986.0, 126773.0, 126816.0, 133241.0, 134749.0, 139479.0, 145963.0, 146123.0, 152613.0, 154415.0, 158894.0, 164226.0, 165362.0, 172000.0, 172872.0, 178331.0]\n",
      "\n",
      "\n",
      "\n"
     ]
    },
    {
     "name": "stdout",
     "output_type": "stream",
     "text": [
      "['delvecs', 'pertmats', 'metadata']\n",
      "dict_keys([b'x0norm', b'patient', b'samplefreq', b'seeg_contacts', b'pz', b'seeg_xyz', b'ez', b'timepoints', b'offsettimes', b'regions_centers', b'regions', b'stepsize', b'winsize', b'perturbtype', b'radius', b'x0pz', b'onsettimes', b'pzindices', b'x0ez', b'ezindices', b'simparams'])\n",
      "(59, 1439)\n",
      "(1439, 2)\n",
      "/Volumes/ADAM LI/pydata/dnn/traindata/fragility/id013_pg/fragility_2d/id013_pg_sim_x0ez-1.675_x0pz-1.98_pertmodel.npz_30.npz\n",
      "using pca to grid image\n",
      "0.0\n",
      "(1439, 59)\n",
      "(1439, 1, 32, 32)9/1439nterpolating 390/1439Interpolating 593/1439Interpolating 791/1439Interpolating 988/1439Interpolating 1172/1439Interpolating 1349/1439\n",
      "/Volumes/ADAM LI/pydata/dnn/traindata/fragility/id013_pg/seegpert/id013_pg/id013_pg_sim_x0ez-1.675_x0pz-1.98_pertmodel.npz\n",
      "(59, 1439)\n",
      "[2210.0, 3967.0, 11017.0, 11380.0, 17424.0, 19017.0, 23821.0, 30206.0, 30441.0, 37277.0, 38222.0, 44176.0, 46171.0, 50814.0, 55236.0, 57340.0, 64146.0, 64248.0, 70954.0, 72274.0, 77739.0, 80022.0, 84059.0, 90700.0, 90907.0, 97524.0, 99087.0, 104147.0, 109478.0, 110606.0, 117296.0, 118132.0, 123718.0, 126040.0, 130316.0, 136944.0, 137420.0, 143571.0, 145548.0, 150011.0, 156334.0, 157024.0, 162643.0, 169285.0, 169445.0, 175949.0, 177350.0] [2210.0, 3967.0, 11017.0, 11380.0, 17424.0, 19017.0, 23821.0, 30206.0, 30441.0, 37277.0, 38222.0, 44176.0, 46171.0, 50814.0, 55236.0, 57340.0, 64146.0, 64248.0, 70954.0, 72274.0, 77739.0, 80022.0, 84059.0, 90700.0, 90907.0, 97524.0, 99087.0, 104147.0, 109478.0, 110606.0, 117296.0, 118132.0, 123718.0, 126040.0, 130316.0, 136944.0, 137420.0, 143571.0, 145548.0, 150011.0, 156334.0, 157024.0, 162643.0, 169285.0, 169445.0, 175949.0, 177350.0]\n",
      "\n",
      "\n",
      "\n",
      "['delvecs', 'pertmats', 'metadata']\n",
      "dict_keys([b'x0norm', b'patient', b'samplefreq', b'seeg_contacts', b'pz', b'seeg_xyz', b'ez', b'timepoints', b'offsettimes', b'regions_centers', b'regions', b'stepsize', b'winsize', b'perturbtype', b'radius', b'x0pz', b'onsettimes', b'pzindices', b'x0ez', b'ezindices', b'simparams'])\n",
      "(59, 1439)\n",
      "(1439, 2)\n",
      "/Volumes/ADAM LI/pydata/dnn/traindata/fragility/id013_pg/fragility_2d/id013_pg_sim_x0ez-1.75_x0pz-2.01_pertmodel.npz_31.npz\n",
      "using pca to grid image\n",
      "0.0\n",
      "(1439, 59)\n",
      "(1439, 1, 32, 32)9/1439nterpolating 161/1439Interpolating 336/1439Interpolating 517/1439Interpolating 687/1439Interpolating 877/1439Interpolating 1058/1439Interpolating 1233/1439Interpolating 1398/1439\n",
      "/Volumes/ADAM LI/pydata/dnn/traindata/fragility/id013_pg/seegpert/id013_pg/id013_pg_sim_x0ez-1.75_x0pz-2.01_pertmodel.npz\n",
      "(59, 1439)\n",
      "[2272.0, 3723.0, 11284.0, 12280.0, 18535.0, 20606.0, 25200.0, 32114.0, 32611.0, 39252.0, 41512.0, 46049.0, 53255.0, 53316.0, 60288.0, 61723.0, 66902.0, 73639.0, 74140.0, 80861.0, 82507.0, 87915.0, 94915.0, 95166.0, 101848.0, 103752.0, 108905.0, 115663.0, 115826.0, 122311.0, 124180.0, 128905.0, 136064.0, 136467.0, 142988.0, 149668.0, 150578.0, 156543.0, 163599.0, 163901.0, 170589.0, 172180.0, 177401.0] [2272.0, 3723.0, 11284.0, 12280.0, 18535.0, 20606.0, 25200.0, 32114.0, 32611.0, 39252.0, 41512.0, 46049.0, 53255.0, 53316.0, 60288.0, 61723.0, 66902.0, 73639.0, 74140.0, 80861.0, 82507.0, 87915.0, 94915.0, 95166.0, 101848.0, 103752.0, 108905.0, 115663.0, 115826.0, 122311.0, 124180.0, 128905.0, 136064.0, 136467.0, 142988.0, 149668.0, 150578.0, 156543.0, 163599.0, 163901.0, 170589.0, 172180.0, 177401.0]\n",
      "\n",
      "\n",
      "\n",
      "['delvecs', 'pertmats', 'metadata']\n",
      "dict_keys([b'x0norm', b'patient', b'samplefreq', b'seeg_contacts', b'pz', b'seeg_xyz', b'ez', b'timepoints', b'offsettimes', b'regions_centers', b'regions', b'stepsize', b'winsize', b'perturbtype', b'radius', b'x0pz', b'onsettimes', b'pzindices', b'x0ez', b'ezindices', b'simparams'])\n",
      "(59, 1439)\n",
      "(1439, 2)\n",
      "/Volumes/ADAM LI/pydata/dnn/traindata/fragility/id013_pg/fragility_2d/id013_pg_sim_x0ez-1.8_x0pz-2.02_pertmodel.npz_32.npz\n",
      "using pca to grid image\n",
      "0.0\n",
      "(1439, 59)\n",
      "(1439, 1, 32, 32)9/1439nterpolating 188/1439Interpolating 392/1439Interpolating 590/1439Interpolating 786/1439Interpolating 989/1439Interpolating 1177/1439Interpolating 1374/1439\n",
      "/Volumes/ADAM LI/pydata/dnn/traindata/fragility/id013_pg/seegpert/id013_pg/id013_pg_sim_x0ez-1.8_x0pz-2.02_pertmodel.npz\n",
      "(59, 1439)\n",
      "[2204.0, 3562.0, 11412.0, 12355.0, 18919.0, 20823.0, 26077.0, 33310.0, 33710.0, 40755.0, 42652.0, 47814.0, 55354.0, 55365.0, 62952.0, 64236.0, 70319.0, 77646.0, 78184.0, 85280.0, 87076.0, 92759.0, 100193.0, 100768.0, 107148.0, 109270.0, 113943.0, 121107.0, 121474.0, 128428.0, 130146.0, 135694.0, 142566.0, 143333.0, 149772.0, 151794.0, 157090.0, 164431.0, 164499.0, 172139.0, 173300.0, 179333.0] [2204.0, 3562.0, 11412.0, 12355.0, 18919.0, 20823.0, 26077.0, 33310.0, 33710.0, 40755.0, 42652.0, 47814.0, 55354.0, 55365.0, 62952.0, 64236.0, 70319.0, 77646.0, 78184.0, 85280.0, 87076.0, 92759.0, 100193.0, 100768.0, 107148.0, 109270.0, 113943.0, 121107.0, 121474.0, 128428.0, 130146.0, 135694.0, 142566.0, 143333.0, 149772.0, 151794.0, 157090.0, 164431.0, 164499.0, 172139.0, 173300.0, 179333.0]\n",
      "\n",
      "\n",
      "\n",
      "['delvecs', 'pertmats', 'metadata']\n",
      "dict_keys([b'x0norm', b'patient', b'samplefreq', b'seeg_contacts', b'pz', b'seeg_xyz', b'ez', b'timepoints', b'offsettimes', b'regions_centers', b'regions', b'stepsize', b'winsize', b'perturbtype', b'radius', b'x0pz', b'onsettimes', b'pzindices', b'x0ez', b'ezindices', b'simparams'])\n",
      "(59, 1439)\n",
      "(1439, 2)\n",
      "/Volumes/ADAM LI/pydata/dnn/traindata/fragility/id013_pg/fragility_2d/id013_pg_sim_x0ez-1.625_x0pz-2.02_pertmodel.npz_33.npz\n",
      "using pca to grid image\n",
      "0.0\n",
      "(1439, 59)\n",
      "(1439, 1, 32, 32)9/1439nterpolating 196/1439Interpolating 397/1439Interpolating 592/1439Interpolating 794/1439Interpolating 994/1439Interpolating 1195/1439Interpolating 1389/1439\n",
      "/Volumes/ADAM LI/pydata/dnn/traindata/fragility/id013_pg/seegpert/id013_pg/id013_pg_sim_x0ez-1.625_x0pz-2.02_pertmodel.npz\n",
      "(59, 1439)\n",
      "[4120.0, 9888.0, 11041.0, 17607.0, 22288.0, 24129.0, 30638.0, 30674.0, 37006.0, 41523.0, 43547.0, 50011.0, 50028.0, 56476.0, 61357.0, 63070.0, 69463.0, 69626.0, 75213.0, 79224.0, 81371.0, 87988.0, 88034.0, 94248.0, 98617.0, 100731.0, 107194.0, 107394.0, 113830.0, 118459.0, 120300.0, 126874.0, 126923.0, 133235.0, 137885.0, 139803.0, 146317.0, 146324.0, 152475.0, 157590.0, 159138.0, 165403.0, 168933.0, 171830.0, 177909.0, 178452.0] [4120.0, 2192.0, 11041.0, 17607.0, 12066.0, 24129.0, 24532.0, 30674.0, 37006.0, 32787.0, 43547.0, 50011.0, 43750.0, 56476.0, 52154.0, 63070.0, 63356.0, 69626.0, 75213.0, 71721.0, 81371.0, 81435.0, 88034.0, 94248.0, 89957.0, 100731.0, 100814.0, 107394.0, 113830.0, 109310.0, 120300.0, 120618.0, 126923.0, 133235.0, 128994.0, 139803.0, 146317.0, 140130.0, 152475.0, 148807.0, 159138.0, 165403.0, 159608.0, 171830.0, 171289.0, 178452.0]\n",
      "\n",
      "\n",
      "\n",
      "['delvecs', 'pertmats', 'metadata']\n",
      "dict_keys([b'x0norm', b'patient', b'samplefreq', b'seeg_contacts', b'pz', b'seeg_xyz', b'ez', b'timepoints', b'offsettimes', b'regions_centers', b'regions', b'stepsize', b'winsize', b'perturbtype', b'radius', b'x0pz', b'onsettimes', b'pzindices', b'x0ez', b'ezindices', b'simparams'])\n",
      "(59, 1439)\n",
      "(1439, 2)\n",
      "/Volumes/ADAM LI/pydata/dnn/traindata/fragility/id013_pg/fragility_2d/id013_pg_sim_x0ez-1.775_x0pz-1.98_pertmodel.npz_34.npz\n",
      "using pca to grid image\n",
      "0.0\n",
      "(1439, 59)\n",
      "(1439, 1, 32, 32)9/1439nterpolating 176/1439Interpolating 380/1439Interpolating 582/1439Interpolating 783/1439Interpolating 964/1439Interpolating 1157/1439Interpolating 1359/1439\n",
      "/Volumes/ADAM LI/pydata/dnn/traindata/fragility/id013_pg/seegpert/id013_pg/id013_pg_sim_x0ez-1.775_x0pz-1.98_pertmodel.npz\n",
      "(59, 1439)\n",
      "[3663.0, 9864.0, 11422.0, 18279.0, 18747.0, 25880.0, 25974.0, 32931.0, 34919.0, 39394.0, 44877.0, 46706.0, 53134.0, 53747.0, 60893.0, 60910.0, 67590.0, 71021.0, 74166.0, 80695.0, 81283.0, 88079.0, 88448.0, 95304.0, 96427.0, 101538.0, 106572.0, 108478.0, 115093.0, 115652.0, 122694.0, 122701.0, 129747.0, 131366.0, 136343.0, 141781.0, 143830.0, 150513.0, 151235.0, 158347.0, 158547.0, 165177.0, 170865.0, 172382.0, 179165.0, 179495.0] [3663.0, 2208.0, 11422.0, 12068.0, 18747.0, 20237.0, 25974.0, 32931.0, 27959.0, 39394.0, 37301.0, 46706.0, 47124.0, 53747.0, 60893.0, 55158.0, 67590.0, 63740.0, 74166.0, 74509.0, 81283.0, 82522.0, 88448.0, 95304.0, 90233.0, 101538.0, 99474.0, 108478.0, 108756.0, 115652.0, 117045.0, 122701.0, 129747.0, 124751.0, 136343.0, 134112.0, 143830.0, 143994.0, 151235.0, 158347.0, 152622.0, 165177.0, 164212.0, 172382.0, 173069.0, 179495.0]\n",
      "\n",
      "\n",
      "\n"
     ]
    },
    {
     "name": "stdout",
     "output_type": "stream",
     "text": [
      "['delvecs', 'pertmats', 'metadata']\n",
      "dict_keys([b'x0norm', b'patient', b'samplefreq', b'seeg_contacts', b'pz', b'seeg_xyz', b'ez', b'timepoints', b'offsettimes', b'regions_centers', b'regions', b'stepsize', b'winsize', b'perturbtype', b'radius', b'x0pz', b'onsettimes', b'pzindices', b'x0ez', b'ezindices', b'simparams'])\n",
      "(59, 1439)\n",
      "(1439, 2)\n",
      "/Volumes/ADAM LI/pydata/dnn/traindata/fragility/id013_pg/fragility_2d/id013_pg_sim_x0ez-1.8_x0pz-2.03_pertmodel.npz_35.npz\n",
      "using pca to grid image\n",
      "0.0\n",
      "(1439, 59)\n",
      "(1439, 1, 32, 32)9/1439nterpolating 398/1439Interpolating 596/1439Interpolating 797/1439Interpolating 997/1439Interpolating 1198/1439Interpolating 1394/1439\n",
      "/Volumes/ADAM LI/pydata/dnn/traindata/fragility/id013_pg/seegpert/id013_pg/id013_pg_sim_x0ez-1.8_x0pz-2.03_pertmodel.npz\n",
      "(59, 1439)\n",
      "[2190.0, 3564.0, 11391.0, 12350.0, 18819.0, 26127.0, 27163.0, 33316.0, 40739.0, 41700.0, 47673.0, 54800.0, 55057.0, 62211.0, 63918.0, 69494.0, 76583.0, 77670.0, 83680.0, 90725.0, 91230.0, 98003.0, 99848.0, 105138.0, 112518.0, 113577.0, 119925.0, 121810.0, 127256.0, 134374.0, 135035.0, 141716.0, 143708.0, 148921.0, 155997.0, 156635.0, 162942.0, 170171.0, 170654.0, 177307.0, 179147.0] [2190.0, 3564.0, 11391.0, 12350.0, 18819.0, 26127.0, 27163.0, 33316.0, 40739.0, 41700.0, 47673.0, 54800.0, 55057.0, 62211.0, 63918.0, 69494.0, 76583.0, 77670.0, 83680.0, 90725.0, 91230.0, 98003.0, 99848.0, 105138.0, 112518.0, 113577.0, 119925.0, 121810.0, 127256.0, 134374.0, 135035.0, 141716.0, 143708.0, 148921.0, 155997.0, 156635.0, 162942.0, 170171.0, 170654.0, 177307.0, 179147.0]\n",
      "\n",
      "\n",
      "\n",
      "['delvecs', 'pertmats', 'metadata']\n",
      "dict_keys([b'x0norm', b'patient', b'samplefreq', b'seeg_contacts', b'pz', b'seeg_xyz', b'ez', b'timepoints', b'offsettimes', b'regions_centers', b'regions', b'stepsize', b'winsize', b'perturbtype', b'radius', b'x0pz', b'onsettimes', b'pzindices', b'x0ez', b'ezindices', b'simparams'])\n",
      "(59, 1439)\n",
      "(1439, 2)\n",
      "/Volumes/ADAM LI/pydata/dnn/traindata/fragility/id013_pg/fragility_2d/id013_pg_sim_x0ez-1.675_x0pz-1.99_pertmodel.npz_36.npz\n",
      "using pca to grid image\n",
      "0.0\n",
      "(1439, 59)\n",
      "(1439, 1, 32, 32)9/1439nterpolating 194/1439Interpolating 396/1439Interpolating 589/1439Interpolating 771/1439Interpolating 962/1439Interpolating 1143/1439Interpolating 1333/1439\n",
      "/Volumes/ADAM LI/pydata/dnn/traindata/fragility/id013_pg/seegpert/id013_pg/id013_pg_sim_x0ez-1.675_x0pz-1.99_pertmodel.npz\n",
      "(59, 1439)\n",
      "[3876.0, 9538.0, 10911.0, 17040.0, 17264.0, 23435.0, 28125.0, 30143.0, 36334.0, 36891.0, 43518.0, 48045.0, 50248.0, 56461.0, 57078.0, 63639.0, 66817.0, 70205.0, 75597.0, 77096.0, 83688.0, 83701.0, 89780.0, 93066.0, 96572.0, 102097.0, 103472.0, 110104.0, 110145.0, 116716.0, 122305.0, 123186.0, 129695.0, 129739.0, 136220.0, 140007.0, 142737.0, 148967.0, 149240.0, 155521.0, 160199.0, 162466.0, 168418.0, 169355.0, 175913.0, 178688.0] [3876.0, 2210.0, 10911.0, 11381.0, 17264.0, 23435.0, 19103.0, 30143.0, 30382.0, 36891.0, 43518.0, 38427.0, 50248.0, 50268.0, 57078.0, 63639.0, 58600.0, 70205.0, 69203.0, 77096.0, 77759.0, 83701.0, 89780.0, 85820.0, 96572.0, 95687.0, 103472.0, 110104.0, 104188.0, 116716.0, 115798.0, 123186.0, 124145.0, 129739.0, 136220.0, 131581.0, 142737.0, 142794.0, 149240.0, 155521.0, 150996.0, 162466.0, 162244.0, 169355.0, 175913.0, 170528.0]\n",
      "\n",
      "\n",
      "\n",
      "['delvecs', 'pertmats', 'metadata']\n",
      "dict_keys([b'x0norm', b'patient', b'samplefreq', b'seeg_contacts', b'pz', b'seeg_xyz', b'ez', b'timepoints', b'offsettimes', b'regions_centers', b'regions', b'stepsize', b'winsize', b'perturbtype', b'radius', b'x0pz', b'onsettimes', b'pzindices', b'x0ez', b'ezindices', b'simparams'])\n",
      "(59, 1439)\n",
      "(1439, 2)\n",
      "/Volumes/ADAM LI/pydata/dnn/traindata/fragility/id013_pg/fragility_2d/id013_pg_sim_x0ez-1.75_x0pz-2.04_pertmodel.npz_37.npz\n",
      "using pca to grid image\n",
      "0.0\n",
      "(1439, 59)\n",
      "(1439, 1, 32, 32)9/1439nterpolating 191/1439Interpolating 389/1439Interpolating 591/1439Interpolating 792/1439Interpolating 984/1439Interpolating 1183/1439Interpolating 1383/1439\n",
      "/Volumes/ADAM LI/pydata/dnn/traindata/fragility/id013_pg/seegpert/id013_pg/id013_pg_sim_x0ez-1.75_x0pz-2.04_pertmodel.npz\n",
      "(59, 1439)\n",
      "[2188.0, 3724.0, 11291.0, 12345.0, 18443.0, 25430.0, 25784.0, 32501.0, 39589.0, 40240.0, 46709.0, 53743.0, 54390.0, 60899.0, 68005.0, 68655.0, 75058.0, 81640.0, 82716.0, 88694.0, 95533.0, 95906.0, 102533.0, 109153.0, 109495.0, 115642.0, 122059.0, 122974.0, 128748.0, 135915.0, 136531.0, 142758.0, 149737.0, 150028.0, 156869.0, 158370.0, 163895.0, 170763.0, 170827.0, 177910.0, 179372.0] [2188.0, 3724.0, 11291.0, 12345.0, 18443.0, 25430.0, 25784.0, 32501.0, 39589.0, 40240.0, 46709.0, 53743.0, 54390.0, 60899.0, 68005.0, 68655.0, 75058.0, 81640.0, 82716.0, 88694.0, 95533.0, 95906.0, 102533.0, 109153.0, 109495.0, 115642.0, 122059.0, 122974.0, 128748.0, 135915.0, 136531.0, 142758.0, 149737.0, 150028.0, 156869.0, 158370.0, 163895.0, 170763.0, 170827.0, 177910.0, 179372.0]\n",
      "\n",
      "\n",
      "\n",
      "['delvecs', 'pertmats', 'metadata']\n",
      "dict_keys([b'x0norm', b'patient', b'samplefreq', b'seeg_contacts', b'pz', b'seeg_xyz', b'ez', b'timepoints', b'offsettimes', b'regions_centers', b'regions', b'stepsize', b'winsize', b'perturbtype', b'radius', b'x0pz', b'onsettimes', b'pzindices', b'x0ez', b'ezindices', b'simparams'])\n",
      "(59, 1439)\n",
      "(1439, 2)\n",
      "/Volumes/ADAM LI/pydata/dnn/traindata/fragility/id013_pg/fragility_2d/id013_pg_sim_x0ez-1.725_x0pz-2.03_pertmodel.npz_38.npz\n",
      "using pca to grid image\n",
      "0.0\n",
      "(1439, 59)\n",
      "(1439, 1, 32, 32)9/1439nterpolating 196/1439Interpolating 398/1439Interpolating 602/1439Interpolating 802/1439Interpolating 1005/1439Interpolating 1206/1439Interpolating 1408/1439\n",
      "/Volumes/ADAM LI/pydata/dnn/traindata/fragility/id013_pg/seegpert/id013_pg/id013_pg_sim_x0ez-1.725_x0pz-2.03_pertmodel.npz\n",
      "(59, 1439)\n",
      "[2190.0, 3805.0, 11000.0, 12338.0, 17281.0, 23730.0, 24395.0, 30435.0, 37458.0, 37618.0, 44801.0, 45901.0, 51774.0, 58749.0, 59135.0, 65695.0, 72242.0, 72670.0, 79273.0, 81072.0, 86155.0, 93154.0, 93336.0, 100196.0, 102034.0, 107042.0, 114015.0, 114204.0, 120918.0, 122981.0, 127553.0, 134612.0, 135012.0, 141552.0, 143699.0, 148098.0, 155131.0, 155486.0, 162180.0, 163891.0, 169094.0, 176038.0, 176496.0] [2190.0, 3805.0, 11000.0, 12338.0, 17281.0, 23730.0, 24395.0, 30435.0, 37458.0, 37618.0, 44801.0, 45901.0, 51774.0, 58749.0, 59135.0, 65695.0, 72242.0, 72670.0, 79273.0, 81072.0, 86155.0, 93154.0, 93336.0, 100196.0, 102034.0, 107042.0, 114015.0, 114204.0, 120918.0, 122981.0, 127553.0, 134612.0, 135012.0, 141552.0, 143699.0, 148098.0, 155131.0, 155486.0, 162180.0, 163891.0, 169094.0, 176038.0, 176496.0]\n",
      "\n",
      "\n",
      "\n",
      "['delvecs', 'pertmats', 'metadata']\n",
      "dict_keys([b'x0norm', b'patient', b'samplefreq', b'seeg_contacts', b'pz', b'seeg_xyz', b'ez', b'timepoints', b'offsettimes', b'regions_centers', b'regions', b'stepsize', b'winsize', b'perturbtype', b'radius', b'x0pz', b'onsettimes', b'pzindices', b'x0ez', b'ezindices', b'simparams'])\n",
      "(59, 1439)\n",
      "(1439, 2)\n",
      "/Volumes/ADAM LI/pydata/dnn/traindata/fragility/id013_pg/fragility_2d/id013_pg_sim_x0ez-1.7_x0pz-2.03_pertmodel.npz_39.npz\n",
      "using pca to grid image\n",
      "0.0\n",
      "(1439, 59)\n",
      "(1439, 1, 32, 32)9/1439nterpolating 190/1439Interpolating 392/1439Interpolating 593/1439Interpolating 790/1439Interpolating 982/1439Interpolating 1180/1439Interpolating 1370/1439\n",
      "/Volumes/ADAM LI/pydata/dnn/traindata/fragility/id013_pg/seegpert/id013_pg/id013_pg_sim_x0ez-1.7_x0pz-2.03_pertmodel.npz\n",
      "(59, 1439)\n",
      "[2192.0, 3833.0, 11028.0, 12221.0, 17970.0, 24379.0, 24905.0, 30431.0, 37059.0, 37182.0, 43406.0, 45635.0, 49690.0, 56518.0, 57001.0, 63167.0, 69639.0, 70110.0, 76414.0, 78522.0, 83046.0, 89787.0, 90102.0, 96757.0, 98477.0, 103763.0, 110536.0, 111108.0, 117295.0, 123970.0, 124357.0, 130718.0, 132643.0, 137271.0, 144153.0, 144496.0, 151119.0, 152948.0, 157597.0, 164300.0, 164434.0, 170877.0, 173110.0, 177318.0] [2192.0, 3833.0, 11028.0, 12221.0, 17970.0, 24379.0, 24905.0, 30431.0, 37059.0, 37182.0, 43406.0, 45635.0, 49690.0, 56518.0, 57001.0, 63167.0, 69639.0, 70110.0, 76414.0, 78522.0, 83046.0, 89787.0, 90102.0, 96757.0, 98477.0, 103763.0, 110536.0, 111108.0, 117295.0, 123970.0, 124357.0, 130718.0, 132643.0, 137271.0, 144153.0, 144496.0, 151119.0, 152948.0, 157597.0, 164300.0, 164434.0, 170877.0, 173110.0, 177318.0]\n",
      "\n",
      "\n",
      "\n",
      "['delvecs', 'pertmats', 'metadata']\n",
      "dict_keys([b'x0norm', b'patient', b'samplefreq', b'seeg_contacts', b'pz', b'seeg_xyz', b'ez', b'timepoints', b'offsettimes', b'regions_centers', b'regions', b'stepsize', b'winsize', b'perturbtype', b'radius', b'x0pz', b'onsettimes', b'pzindices', b'x0ez', b'ezindices', b'simparams'])\n",
      "(59, 1439)\n",
      "(1439, 2)\n",
      "/Volumes/ADAM LI/pydata/dnn/traindata/fragility/id013_pg/fragility_2d/id013_pg_sim_x0ez-1.75_x0pz-2.03_pertmodel.npz_40.npz\n",
      "using pca to grid image\n",
      "0.0\n",
      "(1439, 59)\n"
     ]
    },
    {
     "name": "stdout",
     "output_type": "stream",
     "text": [
      "(1439, 1, 32, 32)9/1439nterpolating 196/1439Interpolating 591/1439Interpolating 794/1439Interpolating 993/1439Interpolating 1179/1439Interpolating 1375/1439\n",
      "/Volumes/ADAM LI/pydata/dnn/traindata/fragility/id013_pg/seegpert/id013_pg/id013_pg_sim_x0ez-1.75_x0pz-2.03_pertmodel.npz\n",
      "(59, 1439)\n",
      "[2187.0, 3588.0, 10903.0, 12200.0, 18105.0, 25188.0, 25383.0, 32095.0, 38480.0, 39995.0, 45031.0, 52147.0, 52389.0, 59120.0, 66195.0, 66337.0, 73580.0, 75016.0, 80854.0, 88038.0, 88793.0, 95047.0, 101840.0, 102421.0, 109089.0, 111088.0, 115912.0, 122879.0, 123056.0, 129880.0, 131505.0, 136352.0, 143105.0, 143697.0, 150025.0, 156344.0, 157374.0, 162848.0, 169996.0, 170654.0, 177036.0] [2187.0, 3588.0, 10903.0, 12200.0, 18105.0, 25188.0, 25383.0, 32095.0, 38480.0, 39995.0, 45031.0, 52147.0, 52389.0, 59120.0, 66195.0, 66337.0, 73580.0, 75016.0, 80854.0, 88038.0, 88793.0, 95047.0, 101840.0, 102421.0, 109089.0, 111088.0, 115912.0, 122879.0, 123056.0, 129880.0, 131505.0, 136352.0, 143105.0, 143697.0, 150025.0, 156344.0, 157374.0, 162848.0, 169996.0, 170654.0, 177036.0]\n",
      "\n",
      "\n",
      "\n",
      "['delvecs', 'pertmats', 'metadata']\n",
      "dict_keys([b'x0norm', b'patient', b'samplefreq', b'seeg_contacts', b'pz', b'seeg_xyz', b'ez', b'timepoints', b'offsettimes', b'regions_centers', b'regions', b'stepsize', b'winsize', b'perturbtype', b'radius', b'x0pz', b'onsettimes', b'pzindices', b'x0ez', b'ezindices', b'simparams'])\n",
      "(59, 1439)\n",
      "(1439, 2)\n",
      "/Volumes/ADAM LI/pydata/dnn/traindata/fragility/id013_pg/fragility_2d/id013_pg_sim_x0ez-1.725_x0pz-2.04_pertmodel.npz_41.npz\n",
      "using pca to grid image\n",
      "0.0\n",
      "(1439, 59)\n",
      "(1439, 1, 32, 32)9/1439nterpolating 196/1439Interpolating 400/1439Interpolating 594/1439Interpolating 759/1439Interpolating 944/1439Interpolating 1145/1439Interpolating 1335/1439\n",
      "/Volumes/ADAM LI/pydata/dnn/traindata/fragility/id013_pg/seegpert/id013_pg/id013_pg_sim_x0ez-1.725_x0pz-2.04_pertmodel.npz\n",
      "(59, 1439)\n",
      "[2188.0, 3796.0, 11197.0, 12287.0, 18096.0, 25214.0, 25396.0, 32237.0, 39229.0, 40109.0, 45796.0, 52357.0, 52895.0, 59048.0, 65869.0, 66072.0, 72777.0, 79698.0, 80195.0, 86635.0, 93549.0, 93639.0, 100444.0, 102519.0, 107097.0, 114015.0, 114099.0, 120913.0, 122917.0, 127554.0, 134614.0, 135035.0, 141641.0, 143835.0, 148411.0, 155521.0, 155789.0, 162499.0, 169360.0, 169481.0, 176234.0, 178064.0] [2188.0, 3796.0, 11197.0, 12287.0, 18096.0, 25214.0, 25396.0, 32237.0, 39229.0, 40109.0, 45796.0, 52357.0, 52895.0, 59048.0, 65869.0, 66072.0, 72777.0, 79698.0, 80195.0, 86635.0, 93549.0, 93639.0, 100444.0, 102519.0, 107097.0, 114015.0, 114099.0, 120913.0, 122917.0, 127554.0, 134614.0, 135035.0, 141641.0, 143835.0, 148411.0, 155521.0, 155789.0, 162499.0, 169360.0, 169481.0, 176234.0, 178064.0]\n",
      "\n",
      "\n",
      "\n",
      "['delvecs', 'pertmats', 'metadata']\n",
      "dict_keys([b'x0norm', b'patient', b'samplefreq', b'seeg_contacts', b'pz', b'seeg_xyz', b'ez', b'timepoints', b'offsettimes', b'regions_centers', b'regions', b'stepsize', b'winsize', b'perturbtype', b'radius', b'x0pz', b'onsettimes', b'pzindices', b'x0ez', b'ezindices', b'simparams'])\n",
      "(59, 1439)\n",
      "(1439, 2)\n",
      "/Volumes/ADAM LI/pydata/dnn/traindata/fragility/id013_pg/fragility_2d/id013_pg_sim_x0ez-1.775_x0pz-2.0_pertmodel.npz_42.npz\n",
      "using pca to grid image\n",
      "0.0\n",
      "(1439, 59)\n",
      "(1439, 1, 32, 32)9/1439nterpolating 197/1439Interpolating 399/1439Interpolating 605/1439Interpolating 800/1439Interpolating 1004/1439Interpolating 1205/1439Interpolating 1407/1439\n",
      "/Volumes/ADAM LI/pydata/dnn/traindata/fragility/id013_pg/seegpert/id013_pg/id013_pg_sim_x0ez-1.775_x0pz-2.0_pertmodel.npz\n",
      "(59, 1439)\n",
      "[2225.0, 9144.0, 12219.0, 16368.0, 20453.0, 23660.0, 30906.0, 33408.0, 37406.0, 41683.0, 44010.0, 51392.0, 54555.0, 58666.0, 62668.0, 65697.0, 72848.0, 75784.0, 79850.0, 84274.0, 86995.0, 93843.0, 95768.0, 101370.0, 104801.0, 108909.0, 114342.0, 115816.0, 122790.0, 125626.0, 130085.0, 134163.0, 137197.0, 144411.0, 146373.0, 151954.0, 155069.0, 159067.0, 163329.0, 166040.0, 171769.0, 174586.0, 179214.0] [2225.0, 3705.0, 12219.0, 11394.0, 20453.0, 18648.0, 25967.0, 33408.0, 32938.0, 41683.0, 39430.0, 46257.0, 54555.0, 53661.0, 62668.0, 60898.0, 67910.0, 75784.0, 75067.0, 84274.0, 82097.0, 89103.0, 95768.0, 96163.0, 104801.0, 103725.0, 114342.0, 111136.0, 118013.0, 125626.0, 125088.0, 134163.0, 132392.0, 139444.0, 146373.0, 146779.0, 155069.0, 154205.0, 163329.0, 161189.0, 167763.0, 174586.0, 174114.0]\n",
      "\n",
      "\n",
      "\n",
      "['delvecs', 'pertmats', 'metadata']\n",
      "dict_keys([b'x0norm', b'patient', b'samplefreq', b'seeg_contacts', b'pz', b'seeg_xyz', b'ez', b'timepoints', b'offsettimes', b'regions_centers', b'regions', b'stepsize', b'winsize', b'perturbtype', b'radius', b'x0pz', b'onsettimes', b'pzindices', b'x0ez', b'ezindices', b'simparams'])\n",
      "(59, 1439)\n",
      "(1439, 2)\n",
      "/Volumes/ADAM LI/pydata/dnn/traindata/fragility/id013_pg/fragility_2d/id013_pg_sim_x0ez-1.7_x0pz-2.04_pertmodel.npz_43.npz\n",
      "using pca to grid image\n",
      "0.0\n",
      "(1439, 59)\n",
      "(1439, 1, 32, 32)9/1439nterpolating 194/1439Interpolating 391/1439Interpolating 589/1439Interpolating 791/1439Interpolating 993/1439Interpolating 1191/1439Interpolating 1391/1439\n",
      "/Volumes/ADAM LI/pydata/dnn/traindata/fragility/id013_pg/seegpert/id013_pg/id013_pg_sim_x0ez-1.7_x0pz-2.04_pertmodel.npz\n",
      "(59, 1439)\n",
      "[3832.0, 10168.0, 11031.0, 17936.0, 22983.0, 24761.0, 31249.0, 34925.0, 37964.0, 44736.0, 44929.0, 51845.0, 56989.0, 58751.0, 65633.0, 70798.0, 72395.0, 78840.0, 83656.0, 85562.0, 92350.0, 92524.0, 98681.0, 103207.0, 105015.0, 111716.0, 111721.0, 118404.0, 125089.0, 129729.0, 131831.0, 138785.0, 138914.0, 145724.0, 150837.0, 152497.0, 159307.0, 164311.0, 165954.0, 172759.0, 177915.0, 179352.0] [3832.0, 2185.0, 11031.0, 17936.0, 12337.0, 24761.0, 31249.0, 25202.0, 37964.0, 38091.0, 44929.0, 51845.0, 46764.0, 58751.0, 65633.0, 59124.0, 72395.0, 78840.0, 73096.0, 85562.0, 85870.0, 92524.0, 98681.0, 94556.0, 105015.0, 111716.0, 105378.0, 118404.0, 125089.0, 118590.0, 131831.0, 132060.0, 138914.0, 145724.0, 141034.0, 152497.0, 159307.0, 152979.0, 165954.0, 172759.0, 166401.0, 179352.0]\n",
      "\n",
      "\n",
      "\n",
      "['delvecs', 'pertmats', 'metadata']\n",
      "dict_keys([b'x0norm', b'patient', b'samplefreq', b'seeg_contacts', b'pz', b'seeg_xyz', b'ez', b'timepoints', b'offsettimes', b'regions_centers', b'regions', b'stepsize', b'winsize', b'perturbtype', b'radius', b'x0pz', b'onsettimes', b'pzindices', b'x0ez', b'ezindices', b'simparams'])\n",
      "(59, 1439)\n",
      "(1439, 2)\n",
      "/Volumes/ADAM LI/pydata/dnn/traindata/fragility/id013_pg/fragility_2d/id013_pg_sim_x0ez-1.8_x0pz-2.04_pertmodel.npz_44.npz\n",
      "using pca to grid image\n",
      "0.0\n",
      "(1439, 59)\n",
      "(1439, 1, 32, 32)9/1439nterpolating 160/1439Interpolating 354/1439Interpolating 553/1439Interpolating 747/1439Interpolating 934/1439Interpolating 1132/1439Interpolating 1324/1439\n",
      "/Volumes/ADAM LI/pydata/dnn/traindata/fragility/id013_pg/seegpert/id013_pg/id013_pg_sim_x0ez-1.8_x0pz-2.04_pertmodel.npz\n",
      "(59, 1439)\n",
      "[2187.0, 3563.0, 11393.0, 12354.0, 18826.0, 26096.0, 26964.0, 33316.0, 40738.0, 41462.0, 47684.0, 54799.0, 55129.0, 62208.0, 63924.0, 69494.0, 76743.0, 77677.0, 83739.0, 90523.0, 91023.0, 97987.0, 99711.0, 105205.0, 112417.0, 113697.0, 119696.0, 126931.0, 127564.0, 134016.0, 141136.0, 141738.0, 148617.0, 150198.0, 155539.0, 162590.0, 163311.0, 169827.0, 171779.0, 177161.0] [2187.0, 3563.0, 11393.0, 12354.0, 18826.0, 26096.0, 26964.0, 33316.0, 40738.0, 41462.0, 47684.0, 54799.0, 55129.0, 62208.0, 63924.0, 69494.0, 76743.0, 77677.0, 83739.0, 90523.0, 91023.0, 97987.0, 99711.0, 105205.0, 112417.0, 113697.0, 119696.0, 126931.0, 127564.0, 134016.0, 141136.0, 141738.0, 148617.0, 150198.0, 155539.0, 162590.0, 163311.0, 169827.0, 171779.0, 177161.0]\n",
      "\n",
      "\n",
      "\n",
      "['delvecs', 'pertmats', 'metadata']\n",
      "dict_keys([b'x0norm', b'patient', b'samplefreq', b'seeg_contacts', b'pz', b'seeg_xyz', b'ez', b'timepoints', b'offsettimes', b'regions_centers', b'regions', b'stepsize', b'winsize', b'perturbtype', b'radius', b'x0pz', b'onsettimes', b'pzindices', b'x0ez', b'ezindices', b'simparams'])\n",
      "(59, 1439)\n",
      "(1439, 2)\n",
      "/Volumes/ADAM LI/pydata/dnn/traindata/fragility/id013_pg/fragility_2d/id013_pg_sim_x0ez-1.65_x0pz-1.98_pertmodel.npz_45.npz\n",
      "using pca to grid image\n",
      "0.0\n",
      "(1439, 59)\n",
      "(1439, 1, 32, 32)9/1439nterpolating 191/1439Interpolating 391/1439Interpolating 556/1439Interpolating 742/1439Interpolating 903/1439Interpolating 1103/1439Interpolating 1303/1439\n",
      "/Volumes/ADAM LI/pydata/dnn/traindata/fragility/id013_pg/seegpert/id013_pg/id013_pg_sim_x0ez-1.65_x0pz-1.98_pertmodel.npz\n",
      "(59, 1439)\n",
      "[2219.0, 4015.0, 11069.0, 11603.0, 17625.0, 19835.0, 24009.0, 30439.0, 30663.0, 37423.0, 38466.0, 44148.0, 50712.0, 50831.0, 57602.0, 58983.0, 64104.0, 69359.0, 70385.0, 76775.0, 77578.0, 83186.0, 85341.0, 89351.0, 95507.0, 95708.0, 101846.0, 103821.0, 108205.0, 114138.0, 114939.0, 121355.0, 122705.0, 127270.0, 132065.0, 133258.0, 139956.0, 140332.0, 146369.0, 148123.0, 152476.0, 159010.0, 159622.0, 165423.0, 167368.0, 172001.0, 178515.0, 178950.0] [2219.0, 4015.0, 11069.0, 11603.0, 17625.0, 19835.0, 24009.0, 30439.0, 30663.0, 37423.0, 38466.0, 44148.0, 50712.0, 50831.0, 57602.0, 58983.0, 64104.0, 69359.0, 70385.0, 76775.0, 77578.0, 83186.0, 85341.0, 89351.0, 95507.0, 95708.0, 101846.0, 103821.0, 108205.0, 114138.0, 114939.0, 121355.0, 122705.0, 127270.0, 132065.0, 133258.0, 139956.0, 140332.0, 146369.0, 148123.0, 152476.0, 159010.0, 159622.0, 165423.0, 167368.0, 172001.0, 178515.0, 178950.0]\n",
      "\n",
      "\n",
      "\n"
     ]
    },
    {
     "name": "stdout",
     "output_type": "stream",
     "text": [
      "['delvecs', 'pertmats', 'metadata']\n",
      "dict_keys([b'x0norm', b'patient', b'samplefreq', b'seeg_contacts', b'pz', b'seeg_xyz', b'ez', b'timepoints', b'offsettimes', b'regions_centers', b'regions', b'stepsize', b'winsize', b'perturbtype', b'radius', b'x0pz', b'onsettimes', b'pzindices', b'x0ez', b'ezindices', b'simparams'])\n",
      "(59, 1439)\n",
      "(1439, 2)\n",
      "/Volumes/ADAM LI/pydata/dnn/traindata/fragility/id013_pg/fragility_2d/id013_pg_sim_x0ez-1.625_x0pz-2.01_pertmodel.npz_46.npz\n",
      "using pca to grid image\n",
      "0.0\n",
      "(1439, 59)\n",
      "(1439, 1, 32, 32)9/1439nterpolating 397/1439Interpolating 596/1439Interpolating 779/1439Interpolating 976/1439Interpolating 1179/1439Interpolating 1382/1439\n",
      "/Volumes/ADAM LI/pydata/dnn/traindata/fragility/id013_pg/seegpert/id013_pg/id013_pg_sim_x0ez-1.625_x0pz-2.01_pertmodel.npz\n",
      "(59, 1439)\n",
      "[4056.0, 9866.0, 10947.0, 17568.0, 22230.0, 24132.0, 30220.0, 30682.0, 37049.0, 41521.0, 43552.0, 50006.0, 50010.0, 56292.0, 59432.0, 62854.0, 68898.0, 69615.0, 76032.0, 80756.0, 82699.0, 89182.0, 89235.0, 95333.0, 100048.0, 101822.0, 108002.0, 108463.0, 114941.0, 118487.0, 121492.0, 127828.0, 127923.0, 134022.0, 138329.0, 140728.0, 146806.0, 147233.0, 153399.0, 157913.0, 159954.0, 166490.0, 166590.0, 172949.0, 177565.0, 179409.0] [4056.0, 2237.0, 10947.0, 17568.0, 11950.0, 24132.0, 24086.0, 30682.0, 37049.0, 32286.0, 43552.0, 50006.0, 43740.0, 56292.0, 52135.0, 62854.0, 62484.0, 69615.0, 76032.0, 70941.0, 82699.0, 82977.0, 89235.0, 95333.0, 91376.0, 101822.0, 102034.0, 108463.0, 114941.0, 109924.0, 121492.0, 121220.0, 127923.0, 134022.0, 129855.0, 140728.0, 140594.0, 147233.0, 153399.0, 148837.0, 159954.0, 160151.0, 166590.0, 172949.0, 168552.0, 179409.0]\n",
      "\n",
      "\n",
      "\n",
      "['delvecs', 'pertmats', 'metadata']\n",
      "dict_keys([b'x0norm', b'patient', b'samplefreq', b'seeg_contacts', b'pz', b'seeg_xyz', b'ez', b'timepoints', b'offsettimes', b'regions_centers', b'regions', b'stepsize', b'winsize', b'perturbtype', b'radius', b'x0pz', b'onsettimes', b'pzindices', b'x0ez', b'ezindices', b'simparams'])\n",
      "(59, 1439)\n",
      "(1439, 2)\n",
      "/Volumes/ADAM LI/pydata/dnn/traindata/fragility/id013_pg/fragility_2d/id013_pg_sim_x0ez-1.6_x0pz-1.99_pertmodel.npz_47.npz\n",
      "using pca to grid image\n",
      "0.0\n",
      "(1439, 59)\n",
      "(1439, 1, 32, 32)9/1439nterpolating 187/1439Interpolating 375/1439Interpolating 576/1439Interpolating 778/1439Interpolating 970/1439Interpolating 1170/1439Interpolating 1372/1439\n",
      "/Volumes/ADAM LI/pydata/dnn/traindata/fragility/id013_pg/seegpert/id013_pg/id013_pg_sim_x0ez-1.6_x0pz-1.99_pertmodel.npz\n",
      "(59, 1439)\n",
      "[8465.0, 9503.0, 15015.0, 17444.0, 21487.0, 27633.0, 29899.0, 33544.0, 39826.0, 40413.0, 46127.0, 48204.0, 52564.0, 58206.0, 58703.0, 65325.0, 66897.0, 71770.0, 75972.0, 77379.0, 83139.0, 84983.0, 89470.0, 95694.0, 96363.0, 102428.0, 104666.0, 108767.0, 115117.0, 115852.0, 121912.0, 124031.0, 128339.0, 134719.0, 135264.0, 140981.0, 143414.0, 147350.0, 152799.0, 153169.0, 159922.0, 161410.0, 166511.0, 168969.0, 172753.0, 178688.0, 179286.0] [4110.0, 2235.0, 10931.0, 11609.0, 17440.0, 23771.0, 24083.0, 29885.0, 35885.0, 32722.0, 42203.0, 42372.0, 48600.0, 50231.0, 54808.0, 61259.0, 60552.0, 67803.0, 68907.0, 73868.0, 79434.0, 78728.0, 85568.0, 91794.0, 87058.0, 98363.0, 98656.0, 104810.0, 111132.0, 106692.0, 117790.0, 118050.0, 124365.0, 130738.0, 126070.0, 137082.0, 137424.0, 143411.0, 145562.0, 149462.0, 155777.0, 155256.0, 162491.0, 163428.0, 168959.0, 171078.0, 175185.0]\n",
      "\n",
      "\n",
      "\n",
      "['delvecs', 'pertmats', 'metadata']\n",
      "dict_keys([b'x0norm', b'patient', b'samplefreq', b'seeg_contacts', b'pz', b'seeg_xyz', b'ez', b'timepoints', b'offsettimes', b'regions_centers', b'regions', b'stepsize', b'winsize', b'perturbtype', b'radius', b'x0pz', b'onsettimes', b'pzindices', b'x0ez', b'ezindices', b'simparams'])\n",
      "(59, 1439)\n",
      "(1439, 2)\n",
      "/Volumes/ADAM LI/pydata/dnn/traindata/fragility/id013_pg/fragility_2d/id013_pg_sim_x0ez-1.775_x0pz-2.04_pertmodel.npz_48.npz\n",
      "using pca to grid image\n",
      "0.0\n",
      "(1439, 59)\n",
      "(1439, 1, 32, 32)9/1439nterpolating 199/1439Interpolating 402/1439Interpolating 602/1439Interpolating 802/1439Interpolating 1005/1439Interpolating 1207/1439Interpolating 1409/1439\n",
      "/Volumes/ADAM LI/pydata/dnn/traindata/fragility/id013_pg/seegpert/id013_pg/id013_pg_sim_x0ez-1.775_x0pz-2.04_pertmodel.npz\n",
      "(59, 1439)\n",
      "[2187.0, 9151.0, 12361.0, 16372.0, 23672.0, 26575.0, 30183.0, 37287.0, 40276.0, 44630.0, 51516.0, 54419.0, 58704.0, 65744.0, 68875.0, 73025.0, 79468.0, 82549.0, 86060.0, 93078.0, 95830.0, 100221.0, 107041.0, 109654.0, 114455.0, 118356.0, 121378.0, 128654.0, 131113.0, 136135.0, 139881.0, 142960.0, 149621.0, 152705.0, 156637.0, 163330.0, 165789.0, 170290.0, 174375.0, 177608.0] [2187.0, 3716.0, 12361.0, 11393.0, 18648.0, 26575.0, 25627.0, 32462.0, 40276.0, 39656.0, 46757.0, 54419.0, 53744.0, 60953.0, 68875.0, 68050.0, 75083.0, 82549.0, 81490.0, 88303.0, 95830.0, 95361.0, 102444.0, 109654.0, 109401.0, 118356.0, 116729.0, 123683.0, 131113.0, 131022.0, 139881.0, 138231.0, 145005.0, 152705.0, 151857.0, 158783.0, 165789.0, 165403.0, 174375.0, 172696.0]\n",
      "\n",
      "\n",
      "\n",
      "['delvecs', 'pertmats', 'metadata']\n",
      "dict_keys([b'x0norm', b'patient', b'samplefreq', b'seeg_contacts', b'pz', b'seeg_xyz', b'ez', b'timepoints', b'offsettimes', b'regions_centers', b'regions', b'stepsize', b'winsize', b'perturbtype', b'radius', b'x0pz', b'onsettimes', b'pzindices', b'x0ez', b'ezindices', b'simparams'])\n",
      "(59, 1439)\n",
      "(1439, 2)\n",
      "/Volumes/ADAM LI/pydata/dnn/traindata/fragility/id013_pg/fragility_2d/id013_pg_sim_x0ez-1.6_x0pz-2.02_pertmodel.npz_49.npz\n",
      "using pca to grid image\n",
      "0.0\n",
      "(1439, 59)\n",
      "(1439, 1, 32, 32)9/1439nterpolating 189/1439Interpolating 372/1439Interpolating 566/1439Interpolating 768/1439Interpolating 961/1439Interpolating 1160/1439Interpolating 1356/1439\n",
      "/Volumes/ADAM LI/pydata/dnn/traindata/fragility/id013_pg/seegpert/id013_pg/id013_pg_sim_x0ez-1.6_x0pz-2.02_pertmodel.npz\n",
      "(59, 1439)\n",
      "[2190.0, 4230.0, 11014.0, 12194.0, 17292.0, 23713.0, 23955.0, 30239.0, 32069.0, 36726.0, 43348.0, 43351.0, 49998.0, 51890.0, 56298.0, 62854.0, 63437.0, 69476.0, 75829.0, 76034.0, 82229.0, 84654.0, 88382.0, 94988.0, 95171.0, 101533.0, 104010.0, 107643.0, 113874.0, 114271.0, 121090.0, 122036.0, 127571.0, 133717.0, 134039.0, 140391.0, 141974.0, 146378.0, 152525.0, 152761.0, 158772.0, 165357.0, 165788.0, 172002.0, 178341.0, 178469.0] [2190.0, 4230.0, 11014.0, 12194.0, 17292.0, 23713.0, 23955.0, 30239.0, 32069.0, 36726.0, 43348.0, 43351.0, 49998.0, 51890.0, 56298.0, 62854.0, 63437.0, 69476.0, 75829.0, 76034.0, 82229.0, 84654.0, 88382.0, 94988.0, 95171.0, 101533.0, 104010.0, 107643.0, 113874.0, 114271.0, 121090.0, 122036.0, 127571.0, 133717.0, 134039.0, 140391.0, 141974.0, 146378.0, 152525.0, 152761.0, 158772.0, 165357.0, 165788.0, 172002.0, 178341.0, 178469.0]\n",
      "\n",
      "\n",
      "\n",
      "['delvecs', 'pertmats', 'metadata']\n",
      "dict_keys([b'x0norm', b'patient', b'samplefreq', b'seeg_contacts', b'pz', b'seeg_xyz', b'ez', b'timepoints', b'offsettimes', b'regions_centers', b'regions', b'stepsize', b'winsize', b'perturbtype', b'radius', b'x0pz', b'onsettimes', b'pzindices', b'x0ez', b'ezindices', b'simparams'])\n",
      "(59, 1439)\n",
      "(1439, 2)\n",
      "/Volumes/ADAM LI/pydata/dnn/traindata/fragility/id013_pg/fragility_2d/id013_pg_sim_x0ez-1.675_x0pz-2.0_pertmodel.npz_50.npz\n",
      "using pca to grid image\n",
      "0.0\n",
      "(1439, 59)\n",
      "(1439, 1, 32, 32)9/1439nterpolating 190/1439Interpolating 388/1439Interpolating 584/1439Interpolating 785/1439Interpolating 986/1439Interpolating 1186/1439Interpolating 1386/1439\n",
      "/Volumes/ADAM LI/pydata/dnn/traindata/fragility/id013_pg/seegpert/id013_pg/id013_pg_sim_x0ez-1.675_x0pz-2.0_pertmodel.npz\n",
      "(59, 1439)\n",
      "[2232.0, 3827.0, 10911.0, 11867.0, 17682.0, 24325.0, 24994.0, 30479.0, 36876.0, 37146.0, 43528.0, 45580.0, 50006.0, 56587.0, 57250.0, 62974.0, 66054.0, 69455.0, 76145.0, 76306.0, 82586.0, 84528.0, 88908.0, 95205.0, 95310.0, 101759.0, 103180.0, 108466.0, 114346.0, 115145.0, 121801.0, 122971.0, 128570.0, 135393.0, 135423.0, 142298.0, 143855.0, 148924.0, 155624.0, 155789.0, 162487.0, 164066.0, 169186.0, 175925.0, 175977.0] [2232.0, 3827.0, 10911.0, 11867.0, 17682.0, 24325.0, 24994.0, 30479.0, 36876.0, 37146.0, 43528.0, 45580.0, 50006.0, 56587.0, 57250.0, 62974.0, 66054.0, 69455.0, 76145.0, 76306.0, 82586.0, 84528.0, 88908.0, 95205.0, 95310.0, 101759.0, 103180.0, 108466.0, 114346.0, 115145.0, 121801.0, 122971.0, 128570.0, 135393.0, 135423.0, 142298.0, 143855.0, 148924.0, 155624.0, 155789.0, 162487.0, 164066.0, 169186.0, 175925.0, 175977.0]\n",
      "\n",
      "\n",
      "\n"
     ]
    },
    {
     "name": "stdout",
     "output_type": "stream",
     "text": [
      "['delvecs', 'pertmats', 'metadata']\n",
      "dict_keys([b'x0norm', b'patient', b'samplefreq', b'seeg_contacts', b'pz', b'seeg_xyz', b'ez', b'timepoints', b'offsettimes', b'regions_centers', b'regions', b'stepsize', b'winsize', b'perturbtype', b'radius', b'x0pz', b'onsettimes', b'pzindices', b'x0ez', b'ezindices', b'simparams'])\n",
      "(59, 1439)\n",
      "(1439, 2)\n",
      "/Volumes/ADAM LI/pydata/dnn/traindata/fragility/id013_pg/fragility_2d/id013_pg_sim_x0ez-1.65_x0pz-2.03_pertmodel.npz_51.npz\n",
      "using pca to grid image\n",
      "0.0\n",
      "(1439, 59)\n",
      "(1439, 1, 32, 32)9/1439nterpolating 376/1439Interpolating 562/1439Interpolating 756/1439Interpolating 957/1439Interpolating 1159/1439Interpolating 1359/1439\n",
      "/Volumes/ADAM LI/pydata/dnn/traindata/fragility/id013_pg/seegpert/id013_pg/id013_pg_sim_x0ez-1.65_x0pz-2.03_pertmodel.npz\n",
      "(59, 1439)\n",
      "[8713.0, 10145.0, 15185.0, 21929.0, 22829.0, 27821.0, 34316.0, 34938.0, 41191.0, 43544.0, 47593.0, 54238.0, 54767.0, 60102.0, 66606.0, 67052.0, 73266.0, 79817.0, 80638.0, 86531.0, 88855.0, 93033.0, 99672.0, 101936.0, 106098.0, 112726.0, 113305.0, 119280.0, 121312.0, 125971.0, 132514.0, 132982.0, 139249.0, 141696.0, 145829.0, 152073.0, 152774.0, 158785.0, 160931.0, 164802.0, 171507.0, 178183.0, 178750.0] [4052.0, 2189.0, 11011.0, 17608.0, 12237.0, 24000.0, 30114.0, 24858.0, 36850.0, 37187.0, 43529.0, 50000.0, 45704.0, 56297.0, 62388.0, 57003.0, 69105.0, 75633.0, 69271.0, 82224.0, 82726.0, 88854.0, 95483.0, 95471.0, 101989.0, 108507.0, 104019.0, 115127.0, 115252.0, 121729.0, 128302.0, 123302.0, 134957.0, 135111.0, 141729.0, 147979.0, 143745.0, 154520.0, 154827.0, 160900.0, 167302.0, 173893.0, 167543.0]\n",
      "\n",
      "\n",
      "\n",
      "['delvecs', 'pertmats', 'metadata']\n",
      "dict_keys([b'x0norm', b'patient', b'samplefreq', b'seeg_contacts', b'pz', b'seeg_xyz', b'ez', b'timepoints', b'offsettimes', b'regions_centers', b'regions', b'stepsize', b'winsize', b'perturbtype', b'radius', b'x0pz', b'onsettimes', b'pzindices', b'x0ez', b'ezindices', b'simparams'])\n",
      "(59, 1439)\n",
      "(1439, 2)\n",
      "/Volumes/ADAM LI/pydata/dnn/traindata/fragility/id013_pg/fragility_2d/id013_pg_sim_x0ez-1.75_x0pz-1.98_pertmodel.npz_52.npz\n",
      "using pca to grid image\n",
      "0.0\n",
      "(1439, 59)\n",
      "(1439, 1, 32, 32)9/1439nterpolating 196/1439Interpolating 395/1439Interpolating 596/1439Interpolating 797/1439Interpolating 998/1439Interpolating 1198/1439Interpolating 1400/1439\n",
      "/Volumes/ADAM LI/pydata/dnn/traindata/fragility/id013_pg/seegpert/id013_pg/id013_pg_sim_x0ez-1.75_x0pz-1.98_pertmodel.npz\n",
      "(59, 1439)\n",
      "[3718.0, 9621.0, 11242.0, 18132.0, 18453.0, 25171.0, 28090.0, 31700.0, 35960.0, 38605.0, 44743.0, 45085.0, 51798.0, 55250.0, 58730.0, 64090.0, 65993.0, 72149.0, 72910.0, 79745.0, 79760.0, 86372.0, 91314.0, 93158.0, 99537.0, 100425.0, 107383.0, 107404.0, 114396.0, 116101.0, 120831.0, 125412.0, 127896.0, 134356.0, 134937.0, 142071.0, 142072.0, 148585.0, 153481.0, 155491.0, 161923.0, 162637.0, 169646.0, 169649.0, 176621.0, 178682.0] [3718.0, 2213.0, 11242.0, 11920.0, 18453.0, 25171.0, 20131.0, 31700.0, 30009.0, 38605.0, 38417.0, 45085.0, 51798.0, 46765.0, 58730.0, 57520.0, 65993.0, 66186.0, 72910.0, 79745.0, 74154.0, 86372.0, 81874.0, 93158.0, 93418.0, 100425.0, 101620.0, 107404.0, 114396.0, 109479.0, 120831.0, 118576.0, 127896.0, 128043.0, 134937.0, 136408.0, 142072.0, 148585.0, 144374.0, 155491.0, 155684.0, 162637.0, 169646.0, 163920.0, 176621.0, 171759.0]\n",
      "\n",
      "\n",
      "\n",
      "['delvecs', 'pertmats', 'metadata']\n",
      "dict_keys([b'x0norm', b'patient', b'samplefreq', b'seeg_contacts', b'pz', b'seeg_xyz', b'ez', b'timepoints', b'offsettimes', b'regions_centers', b'regions', b'stepsize', b'winsize', b'perturbtype', b'radius', b'x0pz', b'onsettimes', b'pzindices', b'x0ez', b'ezindices', b'simparams'])\n",
      "(59, 1439)\n",
      "(1439, 2)\n",
      "/Volumes/ADAM LI/pydata/dnn/traindata/fragility/id013_pg/fragility_2d/id013_pg_sim_x0ez-1.675_x0pz-2.01_pertmodel.npz_53.npz\n",
      "using pca to grid image\n",
      "0.0\n",
      "(1439, 59)\n",
      "(1439, 1, 32, 32)9/1439nterpolating 183/1439Interpolating 380/1439Interpolating 583/1439Interpolating 785/1439Interpolating 985/1439Interpolating 1187/1439Interpolating 1389/1439\n",
      "/Volumes/ADAM LI/pydata/dnn/traindata/fragility/id013_pg/seegpert/id013_pg/id013_pg_sim_x0ez-1.675_x0pz-2.01_pertmodel.npz\n",
      "(59, 1439)\n",
      "[2264.0, 3978.0, 11032.0, 11940.0, 17271.0, 23569.0, 23917.0, 30113.0, 32428.0, 36374.0, 42808.0, 43040.0, 49389.0, 51353.0, 55566.0, 62346.0, 63574.0, 69127.0, 75683.0, 75990.0, 82274.0, 84479.0, 88703.0, 95201.0, 95483.0, 102272.0, 103661.0, 109073.0, 115802.0, 115870.0, 122625.0, 124360.0, 129017.0, 135570.0, 136053.0, 142294.0, 144040.0, 148910.0, 155624.0, 155790.0, 162491.0, 163913.0, 169193.0, 175904.0, 176264.0] [2264.0, 3978.0, 11032.0, 11940.0, 17271.0, 23569.0, 23917.0, 30113.0, 32428.0, 36374.0, 42808.0, 43040.0, 49389.0, 51353.0, 55566.0, 62346.0, 63574.0, 69127.0, 75683.0, 75990.0, 82274.0, 84479.0, 88703.0, 95201.0, 95483.0, 102272.0, 103661.0, 109073.0, 115802.0, 115870.0, 122625.0, 124360.0, 129017.0, 135570.0, 136053.0, 142294.0, 144040.0, 148910.0, 155624.0, 155790.0, 162491.0, 163913.0, 169193.0, 175904.0, 176264.0]\n",
      "\n",
      "\n",
      "\n",
      "['delvecs', 'pertmats', 'metadata']\n",
      "dict_keys([b'x0norm', b'patient', b'samplefreq', b'seeg_contacts', b'pz', b'seeg_xyz', b'ez', b'timepoints', b'offsettimes', b'regions_centers', b'regions', b'stepsize', b'winsize', b'perturbtype', b'radius', b'x0pz', b'onsettimes', b'pzindices', b'x0ez', b'ezindices', b'simparams'])\n",
      "(59, 1439)\n",
      "(1439, 2)\n",
      "/Volumes/ADAM LI/pydata/dnn/traindata/fragility/id013_pg/fragility_2d/id013_pg_sim_x0ez-1.8_x0pz-1.98_pertmodel.npz_54.npz\n",
      "using pca to grid image\n",
      "0.0\n",
      "(1439, 59)\n",
      "(1439, 1, 32, 32)9/1439nterpolating 196/1439Interpolating 397/1439Interpolating 597/1439Interpolating 796/1439Interpolating 997/1439Interpolating 1200/1439Interpolating 1401/1439\n",
      "/Volumes/ADAM LI/pydata/dnn/traindata/fragility/id013_pg/seegpert/id013_pg/id013_pg_sim_x0ez-1.8_x0pz-1.98_pertmodel.npz\n",
      "(59, 1439)\n",
      "[2206.0, 3560.0, 11394.0, 12082.0, 18836.0, 20404.0, 26005.0, 28598.0, 32977.0, 39950.0, 40285.0, 47361.0, 48662.0, 54671.0, 56798.0, 61918.0, 65958.0, 68846.0, 76237.0, 76312.0, 83910.0, 84825.0, 91317.0, 92717.0, 98259.0, 100193.0, 105184.0, 109486.0, 111810.0, 118312.0, 118933.0, 126480.0, 126970.0, 134000.0, 135054.0, 141405.0, 143233.0, 148637.0, 153352.0, 155384.0, 162813.0, 163028.0, 170251.0, 171288.0, 177317.0, 179263.0] [2206.0, 3560.0, 11394.0, 12082.0, 18836.0, 20404.0, 26005.0, 28598.0, 32977.0, 39950.0, 40285.0, 47361.0, 48662.0, 54671.0, 56798.0, 61918.0, 65958.0, 68846.0, 76237.0, 76312.0, 83910.0, 84825.0, 91317.0, 92717.0, 98259.0, 100193.0, 105184.0, 109486.0, 111810.0, 118312.0, 118933.0, 126480.0, 126970.0, 134000.0, 135054.0, 141405.0, 143233.0, 148637.0, 153352.0, 155384.0, 162813.0, 163028.0, 170251.0, 171288.0, 177317.0, 179263.0]\n",
      "\n",
      "\n",
      "\n",
      "['delvecs', 'pertmats', 'metadata']\n",
      "dict_keys([b'x0norm', b'patient', b'samplefreq', b'seeg_contacts', b'pz', b'seeg_xyz', b'ez', b'timepoints', b'offsettimes', b'regions_centers', b'regions', b'stepsize', b'winsize', b'perturbtype', b'radius', b'x0pz', b'onsettimes', b'pzindices', b'x0ez', b'ezindices', b'simparams'])\n",
      "(59, 1439)\n",
      "(1439, 2)\n",
      "/Volumes/ADAM LI/pydata/dnn/traindata/fragility/id013_pg/fragility_2d/id013_pg_sim_x0ez-1.725_x0pz-1.98_pertmodel.npz_55.npz\n",
      "using pca to grid image\n",
      "0.0\n",
      "(1439, 59)\n",
      "(1439, 1, 32, 32)9/1439nterpolating 197/1439Interpolating 400/1439Interpolating 601/1439Interpolating 803/1439Interpolating 1005/1439Interpolating 1208/1439Interpolating 1407/1439\n",
      "/Volumes/ADAM LI/pydata/dnn/traindata/fragility/id013_pg/seegpert/id013_pg/id013_pg_sim_x0ez-1.725_x0pz-1.98_pertmodel.npz\n",
      "(59, 1439)\n",
      "[8865.0, 9562.0, 15537.0, 17876.0, 22506.0, 28090.0, 29297.0, 36392.0, 36972.0, 43112.0, 44876.0, 49872.0, 52569.0, 56392.0, 62741.0, 63571.0, 69767.0, 71644.0, 76665.0, 83501.0, 84456.0, 90546.0, 92280.0, 97645.0, 100002.0, 104573.0, 109054.0, 110956.0, 117673.0, 118219.0, 124430.0, 126315.0, 131402.0, 135249.0, 137525.0, 143920.0, 144311.0, 151076.0, 152766.0, 158169.0, 160132.0, 165126.0, 168934.0, 171202.0, 177608.0, 178294.0] [3808.0, 2196.0, 11011.0, 11903.0, 17864.0, 20160.0, 24845.0, 31689.0, 30442.0, 38693.0, 39044.0, 45368.0, 46906.0, 52121.0, 58423.0, 55133.0, 65089.0, 65634.0, 72148.0, 78947.0, 73642.0, 85846.0, 86475.0, 92838.0, 94312.0, 99967.0, 102238.0, 106805.0, 113167.0, 111106.0, 119895.0, 120333.0, 126774.0, 128423.0, 133498.0, 139575.0, 137643.0, 146366.0, 146513.0, 153482.0, 154558.0, 160539.0, 162279.0, 167205.0, 173268.0, 171187.0]\n",
      "\n",
      "\n",
      "\n"
     ]
    },
    {
     "name": "stdout",
     "output_type": "stream",
     "text": [
      "['delvecs', 'pertmats', 'metadata']\n",
      "dict_keys([b'x0norm', b'patient', b'samplefreq', b'seeg_contacts', b'pz', b'seeg_xyz', b'ez', b'timepoints', b'offsettimes', b'regions_centers', b'regions', b'stepsize', b'winsize', b'perturbtype', b'radius', b'x0pz', b'onsettimes', b'pzindices', b'x0ez', b'ezindices', b'simparams'])\n",
      "(59, 1439)\n",
      "(1439, 2)\n",
      "/Volumes/ADAM LI/pydata/dnn/traindata/fragility/id013_pg/fragility_2d/id013_pg_sim_x0ez-1.675_x0pz-2.02_pertmodel.npz_56.npz\n",
      "using pca to grid image\n",
      "0.0\n",
      "(1439, 59)\n",
      "(1439, 1, 32, 32)9/1439nterpolating 396/1439Interpolating 597/1439Interpolating 796/1439Interpolating 999/1439Interpolating 1200/1439Interpolating 1402/1439\n",
      "/Volumes/ADAM LI/pydata/dnn/traindata/fragility/id013_pg/seegpert/id013_pg/id013_pg_sim_x0ez-1.675_x0pz-2.02_pertmodel.npz\n",
      "(59, 1439)\n",
      "[2196.0, 4007.0, 11198.0, 12224.0, 18094.0, 24887.0, 25039.0, 31465.0, 33344.0, 38035.0, 44757.0, 44996.0, 50904.0, 57362.0, 57571.0, 64093.0, 65946.0, 70697.0, 77628.0, 77767.0, 84380.0, 85916.0, 90883.0, 97550.0, 98079.0, 104282.0, 106437.0, 110642.0, 117254.0, 117769.0, 123739.0, 130579.0, 131082.0, 137275.0, 139598.0, 143856.0, 150568.0, 150805.0, 157354.0, 159451.0, 164045.0, 170558.0, 170832.0, 177037.0, 179037.0] [2196.0, 4007.0, 11198.0, 12224.0, 18094.0, 24887.0, 25039.0, 31465.0, 33344.0, 38035.0, 44757.0, 44996.0, 50904.0, 57362.0, 57571.0, 64093.0, 65946.0, 70697.0, 77628.0, 77767.0, 84380.0, 85916.0, 90883.0, 97550.0, 98079.0, 104282.0, 106437.0, 110642.0, 117254.0, 117769.0, 123739.0, 130579.0, 131082.0, 137275.0, 139598.0, 143856.0, 150568.0, 150805.0, 157354.0, 159451.0, 164045.0, 170558.0, 170832.0, 177037.0, 179037.0]\n",
      "\n",
      "\n",
      "\n"
     ]
    }
   ],
   "source": [
    "for idx, datafile in enumerate(datafiles):\n",
    "    filename = path_leaf(datafile)\n",
    "    rawdatafile = os.path.join(datadir, patient, path_leaf(datafiles[idx]).split('_pertmodel.npz')[0]+'.npz')\n",
    "    \n",
    "    # load in the raw data and zts\n",
    "    data = np.load(rawdatafile, encoding='bytes')\n",
    "    metadata = data['metadata'].item()\n",
    "    zts = data['zts']\n",
    "    \n",
    "#     print(rawdatafile)\n",
    "#     print(filename)\n",
    "#     print(metadata.keys())\n",
    "    # Extract location coordinates\n",
    "    locations = metadata[b'seeg_xyz']\n",
    "    try:\n",
    "        patient_id = metadata[b'patient'].decode(\"utf-8\") \n",
    "    except:\n",
    "        patient = '_'.join(filename.split('_')[0:2])\n",
    "    ezindices = metadata[b'ezindices']\n",
    "    pzindices = metadata[b'pzindices']\n",
    "    seeg_contacts = metadata[b'seeg_contacts']\n",
    "\n",
    "    # get the actual seizure times and offsets\n",
    "    allindices = np.append(ezindices.ravel(), pzindices.ravel(), axis=0)\n",
    "    settimes = postprocessor.getonsetsoffsets(zts, \n",
    "                allindices, delta=0.2/5)\n",
    "    seizonsets, seizoffsets = postprocessor.getseiztimes(settimes)\n",
    "    \n",
    "    # load results data\n",
    "    data = np.load(datafile, encoding='bytes')\n",
    "    metadata = data['metadata'].item()\n",
    "    fragmat = fragilitymodel.compute_fragilitymetric(data['pertmats'])\n",
    "    print(data.keys())\n",
    "    print(metadata.keys())\n",
    "    print(fragmat.shape)\n",
    "    \n",
    "    # load time points, fragility\n",
    "    timepoints = _gettimepoints(zts.shape[1], winsize, stepsize)\n",
    "    print(timepoints.shape)\n",
    "    \n",
    "    filename = os.path.join(trainimagedir, \n",
    "             filename+'_'+str(idx)+'.npz')\n",
    "    print(filename)\n",
    "    \n",
    "    ###################### PERFORM IMAGE MESHING ######################\n",
    "    print(\"using pca to grid image\")\n",
    "    new_locs = pca.fit_transform(locations)\n",
    "#     print(seizonsets)\n",
    "#     print(seizoffsets)\n",
    "    ylabels = datahandler.computelabels(seizonsets,seizoffsets, timepoints)\n",
    "    print(np.sum(ylabels)/len(ylabels))\n",
    "    \n",
    "    if len(seizonsets) <= 1 and seizonsets[0] == np.nan:\n",
    "        print(\"skipping \", datafile)\n",
    "    else:\n",
    "        # Tensor of size [samples, freqbands, W, H] containing generated images.\n",
    "        image_tensor = datahandler.gen_images(new_locs, fragmat[:,np.newaxis,:], \n",
    "                                n_gridpoints=32, normalize=False, augment=False, \n",
    "                                pca=False, std_mult=0.1, edgeless=False)\n",
    "    print(image_tensor.shape)\n",
    "\n",
    "    # instantiate metadata hash table\n",
    "    metadata = dict()\n",
    "    metadata['seeg_contacts'] = seeg_contacts\n",
    "    metadata['new_locs'] = new_locs\n",
    "    metadata['ylabels'] = ylabels\n",
    "    \n",
    "    imagefilename = os.path.join(trainimagedir, filename.split('.npz')[0]+'.npz')\n",
    "    # save image and meta data\n",
    "    np.savez(imagefilename, image_tensor=image_tensor, metadata=metadata)\n",
    "\n",
    "    print(datafile)\n",
    "    print(fragmat.shape)\n",
    "    print(seizonsets, seizoffsets)\n",
    "    print('\\n\\n')\n",
    "#     break"
   ]
  },
  {
   "cell_type": "code",
   "execution_count": 73,
   "metadata": {},
   "outputs": [
    {
     "name": "stdout",
     "output_type": "stream",
     "text": [
      "/Volumes/ADAM LI/pydata/dnn/traindata/fragility_2d/id001_ac_sim_x0ez-1.675_x0pz-2.04_pertmodel.npz\n"
     ]
    }
   ],
   "source": [
    "imagefilename = os.path.join(trainimagedir, filename.split('.npz')[0]+'.npz')\n",
    "print(imagefilename)"
   ]
  },
  {
   "cell_type": "code",
   "execution_count": 55,
   "metadata": {},
   "outputs": [
    {
     "name": "stdout",
     "output_type": "stream",
     "text": [
      "Baseline testing prediction of all seizure:  0.6275191104933981\n",
      "Baseline testing prediction of all not seizure:  0.3724808895066018\n"
     ]
    },
    {
     "data": {
      "text/plain": [
       "<matplotlib.axes._subplots.AxesSubplot at 0x11afccb00>"
      ]
     },
     "execution_count": 55,
     "metadata": {},
     "output_type": "execute_result"
    },
    {
     "data": {
      "image/png": "[encoded data removed]",
      "text/plain": [
       "<matplotlib.figure.Figure at 0x11b138c18>"
      ]
     },
     "metadata": {},
     "output_type": "display_data"
    }
   ],
   "source": [
    "print(\"Baseline testing prediction of all seizure: \", np.sum(ylabels)/len(ylabels))\n",
    "print(\"Baseline testing prediction of all not seizure: \", (len(ylabels)-np.sum(ylabels))/len(ylabels))\n",
    "\n",
    "sns.distplot(ylabels, kde=False)\n",
    "\n",
    "# fig = plt.figure()\n",
    "# for i in range(len(seizonsets)):\n",
    "#     xr = seizonsets[i], seizoffsets[i]\n",
    "#     yr = y=i, i\n",
    "# #     plt.plot(x=xr, y=yr)\n",
    "#     plt.axvline(seizonsets[i], color='red')\n",
    "#     plt.axvline(seizoffsets[i], color='black')\n",
    "# plt.show()"
   ]
  },
  {
   "cell_type": "code",
   "execution_count": 85,
   "metadata": {},
   "outputs": [
    {
     "name": "stdout",
     "output_type": "stream",
     "text": [
      "(1439, 1, 32, 32)\n",
      "1671.0 1671.0\n",
      "(57560, 1)\n",
      "7\n",
      "55\n"
     ]
    },
    {
     "data": {
      "image/png": "[encoded data removed]",
      "text/plain": [
       "<matplotlib.figure.Figure at 0x11ae60978>"
      ]
     },
     "metadata": {},
     "output_type": "display_data"
    }
   ],
   "source": [
    "print(image_tensor.shape)\n",
    "plt.figure(figsize=(7,9))\n",
    "plt.subplot(211)\n",
    "sns.heatmap(image_tensor[5,...].squeeze(), cmap='jet', cbar_kws={'label': 'normalized fragility metric'})\n",
    "plt.title('Fragility 2D Mesh Grid Image (Non-Seizure)')\n",
    "ax = plt.gca()\n",
    "ax.set_xticks([])\n",
    "ax.set_yticks([])\n",
    "ax.set_ylabel('Height (32 Points)')\n",
    "ax.set_xlabel('Width (32 Points)')\n",
    "\n",
    "plt.subplot(212)\n",
    "sns.heatmap(image_tensor[12,...].squeeze(), cmap='jet', cbar_kws={'label': 'normalized fragility metric'})\n",
    "plt.title('Fragility 2D Mesh Grid Image (Seizure)')\n",
    "ax = plt.gca()\n",
    "ax.set_xticks([])\n",
    "ax.set_yticks([])\n",
    "ax.set_ylabel('Height (32 Points)')\n",
    "ax.set_xlabel('Width (32 Points)')\n",
    "\n",
    "print(seizonsets[0], seizoffsets[0])\n",
    "print(ylabels.shape)\n",
    "print(np.where(ylabels==0)[0][7])\n",
    "print(np.where(ylabels==1)[0][7])"
   ]
  },
  {
   "cell_type": "code",
   "execution_count": 37,
   "metadata": {},
   "outputs": [
    {
     "name": "stdout",
     "output_type": "stream",
     "text": [
      "0.0 255.0\n"
     ]
    }
   ],
   "source": [
    "sns.heatmap(fragmat_2d, cmap='jet')\n",
    "plt.colorbar()\n",
    "plt.show()\n",
    "\n",
    "img = Image.fromarray(data, 'RGB')\n",
    "img.save('test.png')\n",
    "\n",
    "w, h = 512, 512\n",
    "data = np.random.rand(h, w, 3)\n",
    "data[256, 256] = [255, 0, 0]\n",
    "# img = Image.fromarray(data, 'RGB')\n",
    "\n",
    "# data = np.divide(data, 255.)\n",
    "print(np.min(data.ravel()), np.max(data.ravel())) \n",
    "img = Image.fromarray(data, 'RGB')\n",
    "img.save('test.png')\n",
    "\n",
    "img = Image.open('test.png')\n",
    "print(img.size)\n",
    "plt.imshow(img)"
   ]
  },
  {
   "cell_type": "markdown",
   "metadata": {
    "collapsed": true
   },
   "source": [
    "# Concatenate All 2D Images Into 1 Large Dataset"
   ]
  },
  {
   "cell_type": "code",
   "execution_count": 76,
   "metadata": {},
   "outputs": [
    {
     "name": "stdout",
     "output_type": "stream",
     "text": [
      "Train data dir is:  /Volumes/ADAM LI/pydata/tvbforwardsim/traindata\n",
      "In traindatadir there are this many training files:  40\n"
     ]
    }
   ],
   "source": [
    "# Get ALL datafiles from all downstream files\n",
    "trainfiles = []\n",
    "for root, dirs, files in os.walk(trainimagedir):\n",
    "    for file in files:\n",
    "        trainfiles.append(os.path.join(root, file))\n",
    "print(\"Train data dir is: \", datadir)\n",
    "print(\"In traindatadir there are this many training files: \", len(trainfiles))"
   ]
  },
  {
   "cell_type": "code",
   "execution_count": 77,
   "metadata": {},
   "outputs": [
    {
     "name": "stdout",
     "output_type": "stream",
     "text": [
      "/Volumes/ADAM LI/pydata/dnn/traindata/fragility/fragility_2d/id001_ac_sim_x0ez-1.675_x0pz-2.04_pertmodel.npz\n",
      "(1439, 1, 32, 32)\n",
      "dict_keys(['seeg_contacts', 'new_locs', 'ylabels'])\n"
     ]
    }
   ],
   "source": [
    "for idx, datafile in enumerate(trainfiles):\n",
    "    data = np.load(datafile)\n",
    "    imagetensor = data['image_tensor']\n",
    "    metadata = data['metadata'].item()\n",
    "    labels = metadata['ylabels']\n",
    "    \n",
    "    if idx == 0:\n",
    "        ylabels = labels\n",
    "        alltensors = imagetensor.reshape((imagetensor.shape[0], -1))\n",
    "        print(datafile)\n",
    "        print(imagetensor.shape)\n",
    "        print(metadata.keys())\n",
    "    else:\n",
    "        alltensors = np.concatenate((alltensors, imagetensor.reshape((imagetensor.shape[0], -1))), axis=0)\n",
    "        ylabels = np.concatenate((ylabels, metadata['ylabels']),axis=0)  "
   ]
  },
  {
   "cell_type": "code",
   "execution_count": 115,
   "metadata": {},
   "outputs": [
    {
     "name": "stdout",
     "output_type": "stream",
     "text": [
      "0.47153163200000003\n",
      "(57560, 1024)\n",
      "(4943, 1)\n"
     ]
    }
   ],
   "source": [
    "print(sys.getsizeof(alltensors) * 1.0e-9) \n",
    "print(alltensors.shape)\n",
    "print(ylabels.shape)\n",
    "\n",
    "filename = os.path.join(trainimagedir, 'allimages_fragility2d.npz')\n",
    "# np.savez_compressed(filename, images=alltensors, labels=ylabels)"
   ]
  },
  {
   "cell_type": "code",
   "execution_count": 118,
   "metadata": {
    "collapsed": true
   },
   "outputs": [],
   "source": [
    "data = np.load(filename)\n",
    "ylabels = data['labels']"
   ]
  },
  {
   "cell_type": "code",
   "execution_count": 119,
   "metadata": {},
   "outputs": [
    {
     "name": "stdout",
     "output_type": "stream",
     "text": [
      "Baseline testing prediction of all seizure:  0.6854586518415566\n",
      "Baseline testing prediction of all not seizure:  0.31454134815844337\n"
     ]
    },
    {
     "data": {
      "text/plain": [
       "<matplotlib.legend.Legend at 0x118bb5a90>"
      ]
     },
     "execution_count": 119,
     "metadata": {},
     "output_type": "execute_result"
    },
    {
     "data": {
      "image/png": "[encoded data removed]",
      "text/plain": [
       "<matplotlib.figure.Figure at 0x118b244e0>"
      ]
     },
     "metadata": {},
     "output_type": "display_data"
    }
   ],
   "source": [
    "print(\"Baseline testing prediction of all seizure: \", np.sum(ylabels)/len(ylabels))\n",
    "print(\"Baseline testing prediction of all not seizure: \", (len(ylabels)-np.sum(ylabels))/len(ylabels))\n",
    "\n",
    "sns.distplot(ylabels, kde=False, axlabel='Seizure or Not', label='Testing Dataset')\n",
    "ax=plt.gca()\n",
    "ax.set_title('Training Data Distribution')\n",
    "ax.set_xticks([0,1])\n",
    "ax.set_xticklabels(['Normal', 'Seizure'])\n",
    "ax.legend()"
   ]
  },
  {
   "cell_type": "code",
   "execution_count": 83,
   "metadata": {},
   "outputs": [
    {
     "name": "stdout",
     "output_type": "stream",
     "text": [
      "21350.0\n",
      "18105.0\n"
     ]
    }
   ],
   "source": [
    "print(np.sum(ylabels) - (len(ylabels) - np.sum(ylabels)))\n",
    "print(len(ylabels) - np.sum(ylabels))\n"
   ]
  },
  {
   "cell_type": "code",
   "execution_count": 112,
   "metadata": {},
   "outputs": [
    {
     "data": {
      "text/plain": [
       "<matplotlib.axes._subplots.AxesSubplot at 0x114d02fd0>"
      ]
     },
     "execution_count": 112,
     "metadata": {},
     "output_type": "execute_result"
    },
    {
     "data": {
      "image/png": "[encoded data removed]",
      "text/plain": [
       "<matplotlib.figure.Figure at 0x114d17208>"
      ]
     },
     "metadata": {},
     "output_type": "display_data"
    }
   ],
   "source": [
    "sns.heatmap(fragmat[:,0:70], cmap='jet')"
   ]
  },
  {
   "cell_type": "markdown",
   "metadata": {},
   "source": [
    "# Convert Real Data Into Image"
   ]
  },
  {
   "cell_type": "code",
   "execution_count": 5,
   "metadata": {},
   "outputs": [
    {
     "name": "stderr",
     "output_type": "stream",
     "text": [
      "INFO:datainterface.patient:Initialized Patient IEEG object. Should run channels, metadata and annotations next!\n",
      "INFO:datainterface.patient:Ran setup of meta data!\n",
      "INFO:datainterface.patient:Ran setup of channels data!\n",
      "INFO:datainterface.patient:Ran setup of annotations data!\n"
     ]
    }
   ],
   "source": [
    "patient = 'id001_ac_sz2'\n",
    "# patient = 'id013_pg_sz1'\n",
    "patid = patient[0:patient.find('sz')-1]\n",
    "seizid = patient[patient.find('sz'):]\n",
    "\n",
    "datadir = '/Volumes/ADAM LI/pydata/convertedtng'\n",
    "\n",
    "chanfile =  os.path.join(datadir,  patient, patient + '_chans.csv')\n",
    "headerfile = os.path.join(datadir,  patient, patient + '_headers.csv')\n",
    "annotationsfile = os.path.join(datadir,  patient, patient + '_annotations.csv')\n",
    "\n",
    "################################ 1. LOAD DATA ###########################\n",
    "# instantiate a datainterface object to analyze data\n",
    "patieeg = Pat.PatientIEEG(patient, clinoutcome=None, engelscore=None, logfile=None)\n",
    "# get relevant channel data\n",
    "included_chans, onsetchans, clinresult = fragility.util.utils.returnindices(patid, seizid)\n",
    "\n",
    "# set metadata to be used in analysis\n",
    "patieeg.setincludedchans(included_chans)\n",
    "patieeg.setmetadata_fromfile(headersfile=headerfile)\n",
    "patieeg.setchannels_fromfile(channelsfile=chanfile)\n",
    "patieeg.setannotations_fromfile(annotationsfile=annotationsfile)"
   ]
  },
  {
   "cell_type": "code",
   "execution_count": 6,
   "metadata": {},
   "outputs": [
    {
     "name": "stdout",
     "output_type": "stream",
     "text": [
      "Index(['OR1', 'OR2', 'OR3', 'OR4', 'OR5', 'OR6', 'OR7', 'OR8', 'OR9', 'OR10',\n",
      "       'OR11', 'OR12', 'OR13', 'OR14', 'OR'1', 'OR'2', 'OR'3', 'OR'4', 'OR'5',\n",
      "       'OR'6', 'OR'7', 'OR'8', 'OR'9', 'OR'11', 'OR'12', 'TBP1', 'TBP2',\n",
      "       'TBP3', 'TBP4', 'TBP5', 'TBP6', 'TBP7', 'TBP8', 'TBP9', 'TP1', 'TP2',\n",
      "       'OF1', 'OF2', 'OF3', 'OF4', 'CC1', 'CC2', 'CC3', 'CC4', 'CC5', 'CC6',\n",
      "       'CC7', 'CC8', 'CC9', 'PM1', 'PM2', 'PM3', 'PM4', 'PM5', 'PM6', 'PM7',\n",
      "       'PM8', 'PM9', 'CR1', 'CR2', 'CR3', 'CR4', 'CR5', 'CR6', 'CR7', 'CR8',\n",
      "       'CR9'],\n",
      "      dtype='object')\n",
      "(67,)\n",
      "(67, 3)\n"
     ]
    }
   ],
   "source": [
    "metadatadir = os.path.join('/Volumes/ADAM LI/pydata/metadata/', patid)    \n",
    "# or get labels from seeg metadata\n",
    "# read in seeg file\n",
    "seeg = pd.read_csv(os.path.join(metadatadir, \"seeg.txt\"), \n",
    "                   names=['x', 'y', 'z'], \n",
    "                   delim_whitespace=True)\n",
    "seeg_labels = seeg.index\n",
    "seeg_xyz = seeg.as_matrix()\n",
    "locations = seeg_xyz\n",
    "seeg_contacts = list(seeg_labels)\n",
    "\n",
    "removeset = []\n",
    "if 'id013' in patient:\n",
    "    # remove these chanlabels from i013_pg\n",
    "    removeset = ['A15', 'B2', 'B3', 'B8', 'C9', 'C10', 'OP10']\n",
    "elif 'id001' in patient:\n",
    "    removeset = [\"TP5\", \"CC11\", \"OR'10\", \"OR'13\", \"OR'14\", \"OR'15\"]\n",
    "\n",
    "chaninds = [i for i,chan in enumerate(seeg_labels) \\\n",
    "        if chan not in removeset]\n",
    "#     print(seeg_contacts[chaninds])\n",
    "print(seeg_labels[chaninds])\n",
    "print(seeg_labels[chaninds].shape)\n",
    "seeg_labels = seeg_labels[chaninds]\n",
    "locations = locations[chaninds,:]\n",
    "print(locations.shape)"
   ]
  },
  {
   "cell_type": "code",
   "execution_count": 7,
   "metadata": {},
   "outputs": [
    {
     "name": "stderr",
     "output_type": "stream",
     "text": [
      "/Users/adam2392/Documents/fragility_analysis/fragility/linearmodels/fragilitymodels.py:426: RuntimeWarning: invalid value encountered in true_divide\n",
      "  np.max(minnormpertmat[:, icol])\n"
     ]
    },
    {
     "name": "stdout",
     "output_type": "stream",
     "text": [
      "fragility mat shape is:  (67, 4944)\n",
      "timepoints shape is:  (4944, 2)\n",
      "using pca to grid image\n",
      "0.588794498381877\n",
      "(4944, 67)\n",
      "Interpolating 4944/4944nterpolating 363/4944Interpolating 542/4944Interpolating 913/4944Interpolating 1096/4944Interpolating 1282/4944Interpolating 1457/4944Interpolating 1621/4944Interpolating 1799/4944Interpolating 1982/4944Interpolating 2159/4944Interpolating 2318/4944Interpolating 2498/4944Interpolating 2682/4944Interpolating 2865/4944Interpolating 3041/4944Interpolating 3223/4944Interpolating 3402/4944Interpolating 3584/4944Interpolating 3762/4944Interpolating 3932/4944Interpolating 4112/4944Interpolating 4293/4944Interpolating 4464/4944Interpolating 4636/4944Interpolating 4815/4944(4944, 1, 32, 32)\n",
      "(4944, 1)\n"
     ]
    }
   ],
   "source": [
    "testfile = '/Volumes/ADAM LI/pydata/dnn/testdata/fragility/pert/' + patient + '/'\\\n",
    " + patient + 'pertmodel.npz'\n",
    "data = np.load(testfile, encoding='bytes')\n",
    "seizonsets = [patieeg.onset_time]\n",
    "seizoffsets = [patieeg.offset_time]\n",
    "\n",
    "# load results data\n",
    "metadata = data['metadata'].item()\n",
    "fragmat = fragilitymodel.compute_fragilitymetric(data['pertmats'])\n",
    "# load time points, fragility\n",
    "timepoints = data['timepoints']\n",
    "\n",
    "# for id001_ac throw out first window\n",
    "fragmat = fragmat[:,1:]\n",
    "timepoints = timepoints[1:,:]\n",
    "\n",
    "# print(data.keys())\n",
    "# print(metadata.keys())\n",
    "print(\"fragility mat shape is: \", fragmat.shape)\n",
    "print(\"timepoints shape is: \", timepoints.shape)\n",
    "\n",
    "###################### PERFORM IMAGE MESHING ######################\n",
    "print(\"using pca to grid image\")\n",
    "new_locs = pca.fit_transform(locations)\n",
    "#     print(seizonsets)\n",
    "#     print(seizoffsets)\n",
    "ylabels = datahandler.computelabels(np.multiply(seizonsets,500),np.multiply(seizoffsets,500), timepoints)\n",
    "# ylabels = ylabels[1:]\n",
    "print(np.sum(ylabels)/len(ylabels))\n",
    "\n",
    "if len(seizonsets) <= 1 and seizonsets[0] == np.nan:\n",
    "    print(\"skipping \", datafile)\n",
    "else:\n",
    "    # Tensor of size [samples, freqbands, W, H] containing generated images.\n",
    "    image_tensor = datahandler.gen_images(new_locs, fragmat[:,np.newaxis,:], \n",
    "                            n_gridpoints=32, normalize=False, augment=False, \n",
    "                            pca=False, std_mult=0.1, edgeless=False)\n",
    "print(image_tensor.shape)\n",
    "print(ylabels.shape)\n"
   ]
  },
  {
   "cell_type": "code",
   "execution_count": 11,
   "metadata": {},
   "outputs": [
    {
     "name": "stdout",
     "output_type": "stream",
     "text": [
      "/Users/adam2392/Downloads/id001_ac_sz2_testimages.npz\n",
      "(67, 4944)\n",
      "[171.7539062] [532.7539062]\n",
      "\n",
      "\n",
      "\n"
     ]
    }
   ],
   "source": [
    "# instantiate metadata hash table\n",
    "metadata = dict()\n",
    "metadata['seeg_contacts'] = seeg_contacts\n",
    "metadata['new_locs'] = new_locs\n",
    "metadata['ylabels'] = ylabels\n",
    "\n",
    "imagefilename = os.path.join('/Users/adam2392/Downloads/', patient+'_testimages.npz')\n",
    "# save image and meta data\n",
    "np.savez(imagefilename, image_tensor=image_tensor, metadata=metadata)\n",
    "\n",
    "print(imagefilename)\n",
    "print(fragmat.shape)\n",
    "print(seizonsets, seizoffsets)\n",
    "print('\\n\\n')"
   ]
  },
  {
   "cell_type": "code",
   "execution_count": 8,
   "metadata": {
    "collapsed": true
   },
   "outputs": [
    {
     "data": {
      "text/plain": [
       "<matplotlib.axes._subplots.AxesSubplot at 0x11710f080>"
      ]
     },
     "execution_count": 8,
     "metadata": {},
     "output_type": "execute_result"
    },
    {
     "data": {
      "image/png": "[encoded data removed]",
      "text/plain": [
       "<matplotlib.figure.Figure at 0x11710f240>"
      ]
     },
     "metadata": {},
     "output_type": "display_data"
    }
   ],
   "source": [
    "plt.figure(figsize=(10,10))\n",
    "sns.heatmap(fragmat, cmap='jet')"
   ]
  },
  {
   "cell_type": "code",
   "execution_count": 10,
   "metadata": {},
   "outputs": [
    {
     "name": "stdout",
     "output_type": "stream",
     "text": [
      "(4944, 1, 32, 32)\n",
      "171.7539062 532.7539062\n",
      "(4944, 1)\n",
      "[   0    1    2 ... 4941 4942 4943]\n",
      "[1383 1384 1385 ... 4291 4292 4293]\n"
     ]
    },
    {
     "data": {
      "image/png": "[encoded data removed]",
      "text/plain": [
       "<matplotlib.figure.Figure at 0x11ef09e10>"
      ]
     },
     "metadata": {},
     "output_type": "display_data"
    }
   ],
   "source": [
    "print(image_tensor.shape)\n",
    "plt.figure(figsize=(7,9))\n",
    "plt.subplot(211)\n",
    "sns.heatmap(image_tensor[300,...].squeeze(), cmap='jet', cbar_kws={'label': 'normalized fragility metric'})\n",
    "plt.title('Fragility 2D Mesh Grid Image (Non-Seizure)')\n",
    "ax = plt.gca()\n",
    "ax.set_xticks([])\n",
    "ax.set_yticks([])\n",
    "ax.set_ylabel('Height (32 Points)')\n",
    "ax.set_xlabel('Width (32 Points)')\n",
    "\n",
    "plt.subplot(212)\n",
    "sns.heatmap(image_tensor[1400,...].squeeze(), cmap='jet', cbar_kws={'label': 'normalized fragility metric'})\n",
    "plt.title('Fragility 2D Mesh Grid Image (Seizure)')\n",
    "ax = plt.gca()\n",
    "ax.set_xticks([])\n",
    "ax.set_yticks([])\n",
    "ax.set_ylabel('Height (32 Points)')\n",
    "ax.set_xlabel('Width (32 Points)')\n",
    "\n",
    "print(seizonsets[0], seizoffsets[0])\n",
    "print(ylabels.shape)\n",
    "print(np.where(ylabels==0)[0])\n",
    "print(np.where(ylabels==1)[0])"
   ]
  },
  {
   "cell_type": "code",
   "execution_count": 37,
   "metadata": {},
   "outputs": [
    {
     "name": "stdout",
     "output_type": "stream",
     "text": [
      "[171.7539062] [532.7539062]\n",
      "171\n"
     ]
    }
   ],
   "source": [
    "print(seizonsets, seizoffsets)\n",
    "\n",
    "print(2*60+51)"
   ]
  },
  {
   "cell_type": "code",
   "execution_count": 22,
   "metadata": {},
   "outputs": [
    {
     "name": "stdout",
     "output_type": "stream",
     "text": [
      "[[ 62 186]\n",
      " [124 248]\n",
      " [186 310]\n",
      " [248 372]\n",
      " [310 434]]\n"
     ]
    }
   ],
   "source": [
    "print(timepoints[0:5,:])"
   ]
  },
  {
   "cell_type": "code",
   "execution_count": 23,
   "metadata": {},
   "outputs": [
    {
     "name": "stdout",
     "output_type": "stream",
     "text": [
      "0.4748580697485807\n",
      "(2466, 1)\n",
      "[   0    1    2 ... 2463 2464 2465]\n",
      "[ 667  668  669 ... 1835 1836 1837]\n"
     ]
    }
   ],
   "source": [
    "#     print(seizoffsets)\n",
    "ylabels = datahandler.computelabels(np.multiply(seizonsets,500),np.multiply(seizoffsets,500), timepoints)\n",
    "ylabels = ylabels[1:]\n",
    "print(np.sum(ylabels)/len(ylabels))\n",
    "print(ylabels.shape)\n",
    "print(np.where(ylabels==0)[0])\n",
    "print(np.where(ylabels==1)[0])"
   ]
  },
  {
   "cell_type": "code",
   "execution_count": 22,
   "metadata": {},
   "outputs": [
    {
     "name": "stdout",
     "output_type": "stream",
     "text": [
      "[41546.875]\n",
      "[114187.5]\n"
     ]
    }
   ],
   "source": [
    "print(np.multiply(seizonsets,500))\n",
    "print(np.multiply(seizoffsets,500))"
   ]
  },
  {
   "cell_type": "code",
   "execution_count": 41,
   "metadata": {},
   "outputs": [
    {
     "name": "stdout",
     "output_type": "stream",
     "text": [
      "[[    62    186]\n",
      " [   124    248]\n",
      " [   186    310]\n",
      " ...\n",
      " [306404 306528]\n",
      " [306466 306590]\n",
      " [306528 306652]]\n",
      "613.376\n",
      "10.216666666666667\n"
     ]
    }
   ],
   "source": [
    "print(timepoints)\n",
    "print(306688/500)\n",
    "print(613/60)"
   ]
  },
  {
   "cell_type": "code",
   "execution_count": 17,
   "metadata": {},
   "outputs": [
    {
     "name": "stdout",
     "output_type": "stream",
     "text": [
      "[[1. 1.]\n",
      " [1. 1.]\n",
      " [1. 1.]\n",
      " [1. 1.]\n",
      " [1. 1.]]\n",
      "[[1. 1.]\n",
      " [1. 1.]]\n"
     ]
    }
   ],
   "source": [
    "test = np.ones((5,2))\n",
    "print(test)\n",
    "\n",
    "test = np.delete(test, np.append([2,3], [0]), axis=0)\n",
    "print(test)"
   ]
  },
  {
   "cell_type": "code",
   "execution_count": null,
   "metadata": {
    "collapsed": true
   },
   "outputs": [],
   "source": []
  }
 ],
 "metadata": {
  "kernelspec": {
   "display_name": "dnn",
   "language": "python",
   "name": "dnn"
  },
  "language_info": {
   "codemirror_mode": {
    "name": "ipython",
    "version": 3
   },
   "file_extension": ".py",
   "mimetype": "text/x-python",
   "name": "python",
   "nbconvert_exporter": "python",
   "pygments_lexer": "ipython3",
   "version": "3.6.3"
  }
 },
 "nbformat": 4,
 "nbformat_minor": 2
}
