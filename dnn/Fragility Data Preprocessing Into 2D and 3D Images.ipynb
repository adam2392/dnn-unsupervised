{
 "cells": [
  {
   "cell_type": "markdown",
   "metadata": {},
   "source": [
    "# Data Preprocessing (Fragility Algo.)\n",
    "\n",
    "1. Ran fragility analysis on SEEG data - log seizure times using Z\n",
    "2. Run projection onto 2D/3D tensors, keep track of seizure times\n",
    "\n",
    "This is done in comparison with the FFT to show in a result that:\n",
    "- fragility > FFT in seizure detection using whole network data\n",
    "- fragility can be formatted as input into the TVB Transfer Learning Pipeline"
   ]
  },
  {
   "cell_type": "code",
   "execution_count": 1,
   "metadata": {},
   "outputs": [
    {
     "name": "stderr",
     "output_type": "stream",
     "text": [
      "/Users/adam2392/Documents/dnn-unsupervised/.venv/lib/python3.6/site-packages/h5py/__init__.py:36: FutureWarning: Conversion of the second argument of issubdtype from `float` to `np.floating` is deprecated. In future, it will be treated as `np.float64 == np.dtype(float).type`.\n",
      "  from ._conv import register_converters as _register_converters\n",
      "Using TensorFlow backend.\n",
      "/Users/adam2392/Documents/dnn-unsupervised/.venv/lib/python3.6/importlib/_bootstrap.py:219: RuntimeWarning: compiletime version 3.5 of module 'tensorflow.python.framework.fast_tensor_util' does not match runtime version 3.6\n",
      "  return f(*args, **kwds)\n"
     ]
    }
   ],
   "source": [
    "import sys\n",
    "sys.path.append('../')\n",
    "sys.path.append('/Users/adam2392/Documents/fragility_analysis/')\n",
    "import fragility\n",
    "import fragility.util.utils as futil\n",
    "import datainterface.patient as Pat\n",
    "# from fragility.signalprocessing import frequencyanalysis\n",
    "# from datainterface import readmat\n",
    "\n",
    "# sys.path.append('/home/adamli/tng_tvb/')\n",
    "# from tvbsim import visualize\n",
    "\n",
    "import os\n",
    "import time\n",
    "\n",
    "import numpy as np\n",
    "import pandas as pd\n",
    "import scipy\n",
    "import scipy.io\n",
    "\n",
    "import peakdetect\n",
    "\n",
    "sys.path.append('/Users/adam2392/Documents/tvb/')\n",
    "sys.path.append('/Users/adam2392/Documents/tvb/_tvbdata/')\n",
    "sys.path.append('/Users/adam2392/Documents/tvb/_tvblibrary/')\n",
    "# from tvb.simulator.lab import *\n",
    "import tvbsim.util\n",
    "\n",
    "import processing.util as util\n",
    "\n",
    "from natsort import natsorted\n",
    "import ntpath\n",
    "\n",
    "from PIL import Image\n",
    "import matplotlib.pyplot as plt\n",
    "import matplotlib\n",
    "import seaborn as sns\n",
    "\n",
    "from sklearn.decomposition import PCA\n",
    "\n",
    "%load_ext autoreload\n",
    "%autoreload 2"
   ]
  },
  {
   "cell_type": "code",
   "execution_count": 2,
   "metadata": {
    "collapsed": true
   },
   "outputs": [],
   "source": [
    "def path_leaf(path):\n",
    "    head, tail = ntpath.split(path)\n",
    "    return tail or ntpath.basename(head)\n",
    "\n",
    "def _gettimepoints(numsignals, numwinsamps, numstepsamps):\n",
    "    # create array of indices of window start times\n",
    "    timestarts = np.arange(0, numsignals-numwinsamps+1, numstepsamps)\n",
    "    # create array of indices of window end times\n",
    "    timeends = np.arange(numwinsamps-1, numsignals, numstepsamps)\n",
    "    # create the timepoints array for entire data array\n",
    "    timepoints = np.append(timestarts.reshape(len(timestarts), 1), timeends.reshape(len(timestarts), 1), axis=1)\n",
    "    return timepoints"
   ]
  },
  {
   "cell_type": "code",
   "execution_count": 11,
   "metadata": {},
   "outputs": [
    {
     "name": "stderr",
     "output_type": "stream",
     "text": [
      "INFO:fragility.linearmodels.fragilitymodels:Initialized perturbation model!\n",
      "INFO:fragility.linearmodels.fragilitymodels:Initialized fragility model!\n"
     ]
    }
   ],
   "source": [
    "import fragility.linearmodels.fragilitymodels\n",
    "\n",
    "winsize = 250\n",
    "stepsize = 125\n",
    "radius = 1.5\n",
    "perturbtype = 'C'\n",
    "\n",
    "postprocessor = tvbsim.util.PostProcess([], [], [])\n",
    "fragilitymodel = fragility.linearmodels.fragilitymodels.FragilityModel(winsize, stepsize, radius, perturbtype)\n",
    "\n",
    "# define the data handler \n",
    "datahandler = util.DataHandler()\n",
    "pca = PCA(n_components=2)\n",
    "    \n",
    "def _gettimepoints(numsignals, numwinsamps, numstepsamps):\n",
    "    # create array of indices of window start times\n",
    "    timestarts = np.arange(0, numsignals-numwinsamps+1, numstepsamps)\n",
    "    # create array of indices of window end times\n",
    "    timeends = np.arange(numwinsamps-1, numsignals, numstepsamps)\n",
    "    # create the timepoints array for entire data array\n",
    "    timepoints = np.append(timestarts.reshape(len(timestarts), 1), timeends.reshape(len(timestarts), 1), axis=1)\n",
    "    return timepoints"
   ]
  },
  {
   "cell_type": "markdown",
   "metadata": {},
   "source": [
    "# 1 Load in Data (Either Simulated or Real"
   ]
  },
  {
   "cell_type": "code",
   "execution_count": 5,
   "metadata": {},
   "outputs": [
    {
     "name": "stdout",
     "output_type": "stream",
     "text": [
      "/Volumes/ADAM LI/pydata/dnn/traindata/fragility/seegpert/id001_ac\n",
      "\n",
      "rawdatadir is:  /Volumes/ADAM LI/pydata/tvbforwardsim/traindata\n",
      "fragility results dir is:  /Volumes/ADAM LI/pydata/dnn/traindata/fragility/seegpert/\n",
      "training image dir is:  /Volumes/ADAM LI/pydata/dnn/traindata/fragility/fragility_2d/\n",
      "40\n"
     ]
    }
   ],
   "source": [
    "# Only analyzing 1 patient, specifically right now\n",
    "patient = 'id001_ac'\n",
    "\n",
    "expname = 'traindata'\n",
    "datadir = os.path.join('/Volumes/ADAM LI/pydata/tvbforwardsim/', expname)\n",
    "metadatadir = '/Volumes/ADAM LI/pydata/metadata/'    \n",
    "\n",
    "# fragility results dir\n",
    "resultsdir = os.path.join('/Volumes/ADAM LI/pydata/dnn/traindata/fragility/seegpert/')\n",
    "\n",
    "# expname = 'allregions_notmoved'\n",
    "trainimagedir = os.path.join('/Volumes/ADAM LI/pydata/dnn/traindata/fragility/fragility_2d/')\n",
    "if not os.path.exists(trainimagedir):\n",
    "    os.makedirs(trainimagedir)\n",
    "\n",
    "\n",
    "# Get ALL datafiles from all downstream files\n",
    "datafiles = []\n",
    "for root, dirs, files in os.walk(resultsdir):\n",
    "#     if 'allregions_sim' not in root:\n",
    "    for file in files:\n",
    "        if '.DS' not in file:\n",
    "            datafiles.append(os.path.join(root, file))\n",
    "\n",
    "print(root)\n",
    "print(\"\\nrawdatadir is: \", datadir)\n",
    "print(\"fragility results dir is: \", resultsdir)\n",
    "print(\"training image dir is: \", trainimagedir)\n",
    "print(len(datafiles))\n",
    "# print(datafiles[50:])\n",
    "# print(datafiles)"
   ]
  },
  {
   "cell_type": "code",
   "execution_count": 74,
   "metadata": {},
   "outputs": [
    {
     "name": "stdout",
     "output_type": "stream",
     "text": [
      "['delvecs', 'pertmats', 'metadata']\n",
      "dict_keys([b'x0norm', b'patient', b'samplefreq', b'seeg_contacts', b'pz', b'seeg_xyz', b'ez', b'timepoints', b'offsettimes', b'regions_centers', b'regions', b'stepsize', b'winsize', b'perturbtype', b'radius', b'x0pz', b'onsettimes', b'pzindices', b'x0ez', b'ezindices', b'simparams'])\n",
      "(70, 1439)\n",
      "(1439, 2)\n",
      "/Volumes/ADAM LI/pydata/dnn/traindata/fragility_2d/id001_ac_sim_x0ez-1.675_x0pz-2.04_pertmodel.npz_0.npz\n",
      "using pca to grid image\n",
      "0.6275191104933981\n",
      "(1439, 70)\n",
      "(1439, 1, 32, 32)9/1439nterpolating 344/1439Interpolating 523/1439Interpolating 694/1439Interpolating 867/1439Interpolating 1045/1439Interpolating 1226/1439Interpolating 1408/1439\n",
      "/Volumes/ADAM LI/pydata/dnn/traindata/fragility/seegpert/id001_ac/id001_ac_sim_x0ez-1.675_x0pz-2.04_pertmodel.npz\n",
      "(70, 1439)\n",
      "[1619.0, 6255.0, 14247.0, 21790.0, 22649.0, 30100.0, 33340.0, 38052.0, 44399.0, 52617.0, 60149.0, 62164.0, 66349.0, 75203.0, 85628.0, 89867.0, 97437.0, 101791.0, 110371.0, 118153.0, 118826.0, 125119.0, 134326.0, 140414.0, 142595.0, 148832.0, 158378.0, 164455.0, 165760.0, 170881.0] [1671.0, 14104.0, 19267.0, 22387.0, 26575.0, 33256.0, 36177.0, 41350.0, 47063.0, 58276.0, 60463.0, 65793.0, 73918.0, 84028.0, 89239.0, 94314.0, 100473.0, 106177.0, 117881.0, 118153.0, 123253.0, 127937.0, 140347.0, 140414.0, 146299.0, 151206.0, 164362.0, 164455.0, 170067.0, 175542.0]\n",
      "\n",
      "\n",
      "\n",
      "returning cuz prevoffset is nan!\n",
      "['delvecs', 'pertmats', 'metadata']\n",
      "dict_keys([b'x0norm', b'patient', b'samplefreq', b'seeg_contacts', b'pz', b'seeg_xyz', b'ez', b'timepoints', b'offsettimes', b'regions_centers', b'regions', b'stepsize', b'winsize', b'perturbtype', b'radius', b'x0pz', b'onsettimes', b'pzindices', b'x0ez', b'ezindices', b'simparams'])\n",
      "(70, 1439)\n",
      "(1439, 2)\n",
      "/Volumes/ADAM LI/pydata/dnn/traindata/fragility_2d/id001_ac_sim_x0ez-1.65_x0pz-2.04_pertmodel.npz_1.npz\n",
      "using pca to grid image\n",
      "0.7595552466990966\n",
      "(1439, 70)\n",
      "(1439, 1, 32, 32)9/1439terpolating 41/1439Interpolating 214/1439Interpolating 396/1439Interpolating 565/1439Interpolating 723/1439Interpolating 895/1439Interpolating 1065/1439Interpolating 1233/1439Interpolating 1406/1439\n",
      "/Volumes/ADAM LI/pydata/dnn/traindata/fragility/seegpert/id001_ac/id001_ac_sim_x0ez-1.65_x0pz-2.04_pertmodel.npz\n",
      "(70, 1439)\n",
      "[1577.0, 6167.0, 20182.0, 22649.0, 30113.0, 33340.0, 38333.0, 42596.0, 46470.0, 53062.0, 61313.0, 68341.0, 70493.0, 74627.0, 84114.0, 90974.0, 91975.0, 102764.0, 103313.0, 113964.0, 118734.0, 126799.0, 136784.0, 141983.0, 149430.0, 159870.0, 165641.0, 173952.0, 176919.0] [1671.0, 19898.0, 22397.0, 27648.0, 33236.0, 36203.0, 42461.0, 46463.0, 50112.0, 57874.0, 66716.0, 69471.0, 74120.0, 80801.0, 90546.0, 90974.0, 102659.0, 102764.0, 113815.0, 117131.0, 124247.0, 135252.0, 140090.0, 147486.0, 158001.0, 162933.0, 172450.0, 175344.0]\n",
      "\n",
      "\n",
      "\n",
      "returning cuz prevoffset is nan!\n",
      "['delvecs', 'pertmats', 'metadata']\n",
      "dict_keys([b'x0norm', b'patient', b'samplefreq', b'seeg_contacts', b'pz', b'seeg_xyz', b'ez', b'timepoints', b'offsettimes', b'regions_centers', b'regions', b'stepsize', b'winsize', b'perturbtype', b'radius', b'x0pz', b'onsettimes', b'pzindices', b'x0ez', b'ezindices', b'simparams'])\n",
      "(70, 1439)\n",
      "(1439, 2)\n",
      "/Volumes/ADAM LI/pydata/dnn/traindata/fragility_2d/id001_ac_sim_x0ez-1.7_x0pz-2.0_pertmodel.npz_2.npz\n",
      "using pca to grid image\n",
      "0.689367616400278\n",
      "(1439, 70)\n",
      "(1439, 1, 32, 32)9/1439nterpolating 117/1439Interpolating 283/1439Interpolating 465/1439Interpolating 646/1439Interpolating 828/1439Interpolating 1003/1439Interpolating 1185/1439Interpolating 1369/1439\n",
      "/Volumes/ADAM LI/pydata/dnn/traindata/fragility/seegpert/id001_ac/id001_ac_sim_x0ez-1.7_x0pz-2.0_pertmodel.npz\n",
      "(70, 1439)\n",
      "[1664.0, 6464.0, 13778.0, 24387.0, 30357.0, 38643.0, 46863.0, 50782.0, 55430.0, 60846.0, 68964.0, 77065.0, 84737.0, 95563.0, 100062.0, 103661.0, 108407.0, 113467.0, 119673.0, 124016.0, 128507.0, 133139.0, 134163.0, 144442.0, 150100.0, 153169.0, 160293.0, 164794.0, 168998.0, 174918.0] [1673.0, 12657.0, 22388.0, 27532.0, 32353.0, 42397.0, 50741.0, 54325.0, 59084.0, 65117.0, 74585.0, 83980.0, 93620.0, 99099.0, 103301.0, 107327.0, 112969.0, 118048.0, 123413.0, 126782.0, 132911.0, 133139.0, 142792.0, 148770.0, 152744.0, 157339.0, 162433.0, 167597.0, 172483.0]\n",
      "\n",
      "\n",
      "\n",
      "['delvecs', 'pertmats', 'metadata']\n",
      "dict_keys([b'x0norm', b'patient', b'samplefreq', b'seeg_contacts', b'pz', b'seeg_xyz', b'ez', b'timepoints', b'offsettimes', b'regions_centers', b'regions', b'stepsize', b'winsize', b'perturbtype', b'radius', b'x0pz', b'onsettimes', b'pzindices', b'x0ez', b'ezindices', b'simparams'])\n",
      "(70, 1439)\n",
      "(1439, 2)\n",
      "/Volumes/ADAM LI/pydata/dnn/traindata/fragility_2d/id001_ac_sim_x0ez-1.775_x0pz-2.01_pertmodel.npz_3.npz\n",
      "using pca to grid image\n",
      "0.6824183460736623\n",
      "(1439, 70)\n",
      "(1439, 1, 32, 32)9/1439nterpolating 173/1439Interpolating 344/1439Interpolating 501/1439Interpolating 676/1439Interpolating 857/1439Interpolating 1037/1439Interpolating 1209/1439Interpolating 1388/1439\n",
      "/Volumes/ADAM LI/pydata/dnn/traindata/fragility/seegpert/id001_ac/id001_ac_sim_x0ez-1.775_x0pz-2.01_pertmodel.npz\n",
      "(70, 1439)\n",
      "[1672.0, 1888.0, 7032.0, 15611.0, 24037.0, 30806.0, 34150.0, 40338.0, 48828.0, 57421.0, 63577.0, 65715.0, 70552.0, 80942.0, 84939.0, 89629.0, 95522.0, 97167.0, 102502.0, 106365.0, 112442.0, 116662.0, 120490.0, 128461.0, 132350.0, 135739.0, 137503.0, 140898.0, 147486.0, 148465.0, 157431.0, 159204.0, 163086.0, 165868.0, 167831.0, 173093.0] [1672.0, 4927.0, 12339.0, 22336.0, 29238.0, 33272.0, 36833.0, 44348.0, 54315.0, 63002.0, 65176.0, 68888.0, 75068.0, 84850.0, 85448.0, 94512.0, 95726.0, 101743.0, 106013.0, 110535.0, 116423.0, 119436.0, 126782.0, 131113.0, 135646.0, 137108.0, 140194.0, 146399.0, 147486.0, 155651.0, 157456.0, 162809.0, 165594.0, 166951.0, 171920.0, 177238.0]\n",
      "\n",
      "\n",
      "\n",
      "returning cuz prevoffset is nan!\n",
      "['delvecs', 'pertmats', 'metadata']\n",
      "dict_keys([b'x0norm', b'patient', b'samplefreq', b'seeg_contacts', b'pz', b'seeg_xyz', b'ez', b'timepoints', b'offsettimes', b'regions_centers', b'regions', b'stepsize', b'winsize', b'perturbtype', b'radius', b'x0pz', b'onsettimes', b'pzindices', b'x0ez', b'ezindices', b'simparams'])\n",
      "(70, 1439)\n",
      "(1439, 2)\n",
      "/Volumes/ADAM LI/pydata/dnn/traindata/fragility_2d/id001_ac_sim_x0ez-1.7_x0pz-1.98_pertmodel.npz_4.npz\n",
      "using pca to grid image\n",
      "0.6268241834607367\n",
      "(1439, 70)\n",
      "(1439, 1, 32, 32)9/1439nterpolating 118/1439Interpolating 293/1439Interpolating 465/1439Interpolating 639/1439Interpolating 806/1439Interpolating 981/1439Interpolating 1137/1439Interpolating 1310/1439\n",
      "/Volumes/ADAM LI/pydata/dnn/traindata/fragility/seegpert/id001_ac/id001_ac_sim_x0ez-1.7_x0pz-1.98_pertmodel.npz\n",
      "(70, 1439)\n",
      "[1664.0, 6455.0, 12516.0, 13778.0, 22109.0, 28965.0, 31985.0, 38643.0, 46846.0, 54110.0, 61685.0, 68020.0, 71706.0, 77066.0, 84751.0, 92650.0, 96094.0, 100234.0, 104724.0, 112996.0, 121215.0, 129510.0, 135564.0, 145164.0, 153485.0, 161321.0, 169180.0, 174488.0, 176577.0] [1673.0, 12446.0, 12516.0, 22062.0, 27530.0, 31218.0, 35025.0, 40766.0, 50801.0, 60665.0, 67278.0, 71031.0, 75332.0, 80734.0, 90548.0, 95737.0, 99422.0, 103410.0, 108669.0, 118421.0, 127680.0, 132975.0, 137688.0, 147433.0, 157646.0, 167215.0, 174126.0, 175703.0]\n",
      "\n",
      "\n",
      "\n",
      "returning cuz prevoffset is nan!\n",
      "['delvecs', 'pertmats', 'metadata']\n",
      "dict_keys([b'x0norm', b'patient', b'samplefreq', b'seeg_contacts', b'pz', b'seeg_xyz', b'ez', b'timepoints', b'offsettimes', b'regions_centers', b'regions', b'stepsize', b'winsize', b'perturbtype', b'radius', b'x0pz', b'onsettimes', b'pzindices', b'x0ez', b'ezindices', b'simparams'])\n",
      "(70, 1439)\n",
      "(1439, 2)\n",
      "/Volumes/ADAM LI/pydata/dnn/traindata/fragility_2d/id001_ac_sim_x0ez-1.8_x0pz-1.98_pertmodel.npz_5.npz\n",
      "using pca to grid image\n",
      "0.7129951355107713\n",
      "(1439, 70)\n",
      "(1439, 1, 32, 32)9/1439terpolating 88/1439Interpolating 249/1439Interpolating 398/1439Interpolating 554/1439Interpolating 707/1439Interpolating 872/1439Interpolating 1018/1439Interpolating 1163/1439Interpolating 1332/1439\n",
      "/Volumes/ADAM LI/pydata/dnn/traindata/fragility/seegpert/id001_ac/id001_ac_sim_x0ez-1.8_x0pz-1.98_pertmodel.npz\n",
      "(70, 1439)\n",
      "[1673.0, 1974.0, 7291.0, 16142.0, 24419.0, 33198.0, 38589.0, 43583.0, 48519.0, 58468.0, 67255.0, 75533.0, 83885.0, 89537.0, 92036.0, 99615.0, 100310.0, 105633.0, 108393.0, 109700.0, 115088.0, 119029.0, 123964.0, 127242.0, 139136.0, 144505.0, 147502.0, 153126.0, 158114.0, 161582.0, 170332.0, 177316.0, 177392.0] [1673.0, 4927.0, 12648.0, 22361.0, 31969.0, 38518.0, 42273.0, 46459.0, 52725.0, 61750.0, 71099.0, 80767.0, 89379.0, 90553.0, 98486.0, 99644.0, 105248.0, 108293.0, 108731.0, 113752.0, 118111.0, 122063.0, 127239.0, 137685.0, 142721.0, 147492.0, 151382.0, 157684.0, 160589.0, 168019.0, 177121.0, 177316.0]\n",
      "\n",
      "\n",
      "\n"
     ]
    },
    {
     "name": "stdout",
     "output_type": "stream",
     "text": [
      "returning cuz prevoffset is nan!\n",
      "['delvecs', 'pertmats', 'metadata']\n",
      "dict_keys([b'x0norm', b'patient', b'samplefreq', b'seeg_contacts', b'pz', b'seeg_xyz', b'ez', b'timepoints', b'offsettimes', b'regions_centers', b'regions', b'stepsize', b'winsize', b'perturbtype', b'radius', b'x0pz', b'onsettimes', b'pzindices', b'x0ez', b'ezindices', b'simparams'])\n",
      "(70, 1439)\n",
      "(1439, 2)\n",
      "/Volumes/ADAM LI/pydata/dnn/traindata/fragility_2d/id001_ac_sim_x0ez-1.625_x0pz-1.98_pertmodel.npz_6.npz\n",
      "using pca to grid image\n",
      "0.6865879082696317\n",
      "(1439, 70)\n",
      "(1439, 1, 32, 32)9/1439nterpolating 204/1439Interpolating 380/1439Interpolating 556/1439Interpolating 728/1439Interpolating 895/1439Interpolating 1072/1439Interpolating 1233/1439Interpolating 1405/1439\n",
      "/Volumes/ADAM LI/pydata/dnn/traindata/fragility/seegpert/id001_ac/id001_ac_sim_x0ez-1.625_x0pz-1.98_pertmodel.npz\n",
      "(70, 1439)\n",
      "[1538.0, 6061.0, 12548.0, 13513.0, 23823.0, 28945.0, 37926.0, 46394.0, 52862.0, 54346.0, 58468.0, 61909.0, 62384.0, 68040.0, 76818.0, 84203.0, 91739.0, 103243.0, 108861.0, 118151.0, 118453.0, 127244.0, 127817.0, 134258.0, 138797.0, 143750.0, 148840.0, 152094.0, 156516.0, 157936.0, 165432.0, 167333.0, 171968.0, 175584.0] [1673.0, 12282.0, 12548.0, 22347.0, 27036.0, 31972.0, 42192.0, 51631.0, 52862.0, 57778.0, 61170.0, 61925.0, 66322.0, 71516.0, 80763.0, 90549.0, 99654.0, 108756.0, 117530.0, 118151.0, 127115.0, 127244.0, 132488.0, 137426.0, 141588.0, 147312.0, 151355.0, 155715.0, 156516.0, 165033.0, 165432.0, 170391.0, 174634.0]\n",
      "\n",
      "\n",
      "\n",
      "returning cuz prevoffset is nan!\n",
      "['delvecs', 'pertmats', 'metadata']\n",
      "dict_keys([b'x0norm', b'patient', b'samplefreq', b'seeg_contacts', b'pz', b'seeg_xyz', b'ez', b'timepoints', b'offsettimes', b'regions_centers', b'regions', b'stepsize', b'winsize', b'perturbtype', b'radius', b'x0pz', b'onsettimes', b'pzindices', b'x0ez', b'ezindices', b'simparams'])\n",
      "(70, 1439)\n",
      "(1439, 2)\n",
      "/Volumes/ADAM LI/pydata/dnn/traindata/fragility_2d/id001_ac_sim_x0ez-1.75_x0pz-1.98_pertmodel.npz_7.npz\n",
      "using pca to grid image\n",
      "0.6886726893676164\n",
      "(1439, 70)\n",
      "(1439, 1, 32, 32)9/1439nterpolating 114/1439Interpolating 288/1439Interpolating 467/1439Interpolating 646/1439Interpolating 815/1439Interpolating 990/1439Interpolating 1161/1439Interpolating 1333/1439\n",
      "/Volumes/ADAM LI/pydata/dnn/traindata/fragility/seegpert/id001_ac/id001_ac_sim_x0ez-1.75_x0pz-1.98_pertmodel.npz\n",
      "(70, 1439)\n",
      "[1673.0, 1793.0, 6896.0, 15203.0, 22375.0, 22777.0, 34070.0, 38626.0, 48573.0, 52733.0, 56901.0, 61919.0, 64500.0, 71566.0, 72894.0, 77615.0, 81089.0, 87442.0, 97102.0, 104682.0, 112606.0, 120660.0, 128518.0, 131964.0, 135905.0, 138797.0, 144551.0, 147648.0, 152340.0, 157981.0, 164092.0, 167604.0, 172230.0, 177514.0] [1673.0, 4935.0, 12645.0, 22338.0, 22375.0, 31960.0, 37128.0, 42187.0, 52680.0, 52733.0, 61339.0, 61919.0, 71322.0, 71566.0, 76393.0, 80975.0, 84283.0, 90550.0, 99808.0, 109119.0, 118552.0, 127901.0, 131348.0, 135470.0, 137692.0, 143299.0, 147492.0, 151378.0, 157632.0, 162905.0, 167336.0, 170472.0, 177289.0]\n",
      "\n",
      "\n",
      "\n",
      "['delvecs', 'pertmats', 'metadata']\n",
      "dict_keys([b'x0norm', b'patient', b'samplefreq', b'seeg_contacts', b'pz', b'seeg_xyz', b'ez', b'timepoints', b'offsettimes', b'regions_centers', b'regions', b'stepsize', b'winsize', b'perturbtype', b'radius', b'x0pz', b'onsettimes', b'pzindices', b'x0ez', b'ezindices', b'simparams'])\n",
      "(70, 1439)\n",
      "(1439, 2)\n",
      "/Volumes/ADAM LI/pydata/dnn/traindata/fragility_2d/id001_ac_sim_x0ez-1.65_x0pz-2.03_pertmodel.npz_8.npz\n",
      "using pca to grid image\n",
      "0.6942321056289089\n",
      "(1439, 70)\n",
      "(1439, 1, 32, 32)9/1439nterpolating 159/1439Interpolating 309/1439Interpolating 441/1439Interpolating 573/1439Interpolating 725/1439Interpolating 884/1439Interpolating 1059/1439Interpolating 1236/1439Interpolating 1415/1439\n",
      "/Volumes/ADAM LI/pydata/dnn/traindata/fragility/seegpert/id001_ac/id001_ac_sim_x0ez-1.65_x0pz-2.03_pertmodel.npz\n",
      "(70, 1439)\n",
      "[1577.0, 6160.0, 13764.0, 20121.0, 24132.0, 30090.0, 38398.0, 44398.0, 45984.0, 52794.0, 60227.0, 68578.0, 74250.0, 84266.0, 88261.0, 91854.0, 95591.0, 99399.0, 99680.0, 107357.0, 111919.0, 114987.0, 122516.0, 123605.0, 128847.0, 136068.0, 145319.0, 155959.0, 167200.0] [1671.0, 13175.0, 19720.0, 23521.0, 27503.0, 33413.0, 44008.0, 45000.0, 49479.0, 56478.0, 68404.0, 72090.0, 78920.0, 87957.0, 89343.0, 95306.0, 98134.0, 99399.0, 103990.0, 110950.0, 111988.0, 121112.0, 123520.0, 127509.0, 133519.0, 143896.0, 154649.0, 165990.0, 177287.0]\n",
      "\n",
      "\n",
      "\n",
      "returning cuz prevoffset is nan!\n",
      "['delvecs', 'pertmats', 'metadata']\n",
      "dict_keys([b'x0norm', b'patient', b'samplefreq', b'seeg_contacts', b'pz', b'seeg_xyz', b'ez', b'timepoints', b'offsettimes', b'regions_centers', b'regions', b'stepsize', b'winsize', b'perturbtype', b'radius', b'x0pz', b'onsettimes', b'pzindices', b'x0ez', b'ezindices', b'simparams'])\n",
      "(70, 1439)\n",
      "(1439, 2)\n",
      "/Volumes/ADAM LI/pydata/dnn/traindata/fragility_2d/id001_ac_sim_x0ez-1.6_x0pz-2.01_pertmodel.npz_9.npz\n",
      "using pca to grid image\n",
      "0.6796386379430159\n",
      "(1439, 70)\n",
      "(1439, 1, 32, 32)9/1439nterpolating 118/1439Interpolating 300/1439Interpolating 480/1439Interpolating 661/1439Interpolating 842/1439Interpolating 1025/1439Interpolating 1209/1439Interpolating 1392/1439\n",
      "/Volumes/ADAM LI/pydata/dnn/traindata/fragility/seegpert/id001_ac/id001_ac_sim_x0ez-1.6_x0pz-2.01_pertmodel.npz\n",
      "(70, 1439)\n",
      "[1507.0, 5905.0, 14369.0, 22509.0, 29824.0, 38132.0, 44262.0, 44505.0, 50031.0, 53919.0, 54280.0, 60365.0, 66195.0, 74574.0, 76425.0, 84007.0, 84207.0, 94035.0, 98527.0, 106371.0, 113858.0, 118079.0, 125766.0, 136037.0, 141326.0, 149466.0, 155466.0, 156698.0, 161287.0, 172229.0, 179541.0] [1672.0, 12333.0, 22359.0, 27110.0, 33205.0, 43336.0, 44262.0, 49870.0, 52927.0, 54265.0, 58125.0, 65107.0, 73128.0, 74574.0, 82504.0, 84007.0, 93630.0, 97943.0, 103649.0, 113652.0, 113963.0, 123708.0, 134166.0, 139044.0, 145673.0, 154274.0, 155466.0, 160812.0, 165848.0, 175348.0]\n",
      "\n",
      "\n",
      "\n",
      "returning cuz prevoffset is nan!\n",
      "['delvecs', 'pertmats', 'metadata']\n",
      "dict_keys([b'x0norm', b'patient', b'samplefreq', b'seeg_contacts', b'pz', b'seeg_xyz', b'ez', b'timepoints', b'offsettimes', b'regions_centers', b'regions', b'stepsize', b'winsize', b'perturbtype', b'radius', b'x0pz', b'onsettimes', b'pzindices', b'x0ez', b'ezindices', b'simparams'])\n",
      "(70, 1439)\n",
      "(1439, 2)\n",
      "/Volumes/ADAM LI/pydata/dnn/traindata/fragility_2d/id001_ac_sim_x0ez-1.675_x0pz-2.03_pertmodel.npz_10.npz\n",
      "using pca to grid image\n",
      "0.7164697706740792\n",
      "(1439, 70)\n",
      "(1439, 1, 32, 32)9/1439nterpolating 135/1439Interpolating 312/1439Interpolating 496/1439Interpolating 679/1439Interpolating 863/1439Interpolating 1040/1439Interpolating 1224/1439Interpolating 1407/1439\n",
      "/Volumes/ADAM LI/pydata/dnn/traindata/fragility/seegpert/id001_ac/id001_ac_sim_x0ez-1.675_x0pz-2.03_pertmodel.npz\n",
      "(70, 1439)\n",
      "[1619.0, 6254.0, 14255.0, 20117.0, 22626.0, 30471.0, 33295.0, 38885.0, 53062.0, 61738.0, 77225.0, 83739.0, 91292.0, 95094.0, 98676.0, 101351.0, 111064.0, 111552.0, 119884.0, 121588.0, 136068.0, 141617.0, 144069.0, 151088.0, 151296.0, 157811.0, 166559.0, 172775.0, 174257.0] [1671.0, 14120.0, 19728.0, 22390.0, 27512.0, 33214.0, 35783.0, 46852.0, 57770.0, 76495.0, 82433.0, 89112.0, 94408.0, 98129.0, 99420.0, 109249.0, 111064.0, 118995.0, 121353.0, 131484.0, 140455.0, 141617.0, 150790.0, 151088.0, 156030.0, 162282.0, 171909.0, 172775.0]\n",
      "\n",
      "\n",
      "\n",
      "['delvecs', 'pertmats', 'metadata']\n",
      "dict_keys([b'x0norm', b'patient', b'samplefreq', b'seeg_contacts', b'pz', b'seeg_xyz', b'ez', b'timepoints', b'offsettimes', b'regions_centers', b'regions', b'stepsize', b'winsize', b'perturbtype', b'radius', b'x0pz', b'onsettimes', b'pzindices', b'x0ez', b'ezindices', b'simparams'])\n",
      "(70, 1439)\n",
      "(1439, 2)\n",
      "/Volumes/ADAM LI/pydata/dnn/traindata/fragility_2d/id001_ac_sim_x0ez-1.65_x0pz-1.98_pertmodel.npz_11.npz\n",
      "using pca to grid image\n",
      "0.6497567755385685\n",
      "(1439, 70)\n",
      "(1439, 1, 32, 32)9/1439nterpolating 182/1439Interpolating 365/1439Interpolating 550/1439Interpolating 730/1439Interpolating 912/1439Interpolating 1097/1439Interpolating 1282/1439\n",
      "/Volumes/ADAM LI/pydata/dnn/traindata/fragility/seegpert/id001_ac/id001_ac_sim_x0ez-1.65_x0pz-1.98_pertmodel.npz\n",
      "(70, 1439)\n",
      "[1577.0, 6167.0, 14606.0, 22314.0, 22633.0, 28432.0, 38106.0, 46321.0, 53748.0, 60763.0, 66094.0, 75862.0, 83749.0, 91224.0, 98561.0, 101642.0, 109723.0, 117912.0, 124212.0, 127774.0, 134206.0, 141925.0, 149837.0, 157272.0, 162574.0, 166615.0, 172456.0] [1673.0, 12221.0, 22003.0, 22314.0, 26885.0, 31632.0, 40923.0, 50418.0, 59869.0, 64770.0, 69162.0, 78919.0, 88931.0, 98412.0, 101518.0, 108070.0, 117702.0, 123613.0, 127234.0, 131099.0, 137415.0, 147312.0, 156751.0, 162292.0, 166132.0, 169979.0, 175587.0]\n",
      "\n",
      "\n",
      "\n"
     ]
    },
    {
     "name": "stdout",
     "output_type": "stream",
     "text": [
      "returning cuz prevoffset is nan!\n",
      "['delvecs', 'pertmats', 'metadata']\n",
      "dict_keys([b'x0norm', b'patient', b'samplefreq', b'seeg_contacts', b'pz', b'seeg_xyz', b'ez', b'timepoints', b'offsettimes', b'regions_centers', b'regions', b'stepsize', b'winsize', b'perturbtype', b'radius', b'x0pz', b'onsettimes', b'pzindices', b'x0ez', b'ezindices', b'simparams'])\n",
      "(70, 1439)\n",
      "(1439, 2)\n",
      "/Volumes/ADAM LI/pydata/dnn/traindata/fragility_2d/id001_ac_sim_x0ez-1.675_x0pz-1.98_pertmodel.npz_12.npz\n",
      "using pca to grid image\n",
      "0.674774148714385\n",
      "(1439, 70)\n",
      "(1439, 1, 32, 32)9/1439nterpolating 264/1439Interpolating 447/1439Interpolating 633/1439Interpolating 780/1439Interpolating 955/1439Interpolating 1123/1439Interpolating 1298/1439\n",
      "/Volumes/ADAM LI/pydata/dnn/traindata/fragility/seegpert/id001_ac/id001_ac_sim_x0ez-1.675_x0pz-1.98_pertmodel.npz\n",
      "(70, 1439)\n",
      "[1619.0, 6256.0, 12421.0, 14751.0, 22312.0, 22626.0, 28127.0, 37636.0, 45768.0, 53530.0, 61220.0, 72206.0, 76203.0, 80545.0, 84470.0, 92490.0, 100226.0, 104823.0, 113118.0, 121486.0, 129560.0, 137436.0, 142549.0, 146078.0, 152631.0, 155352.0, 160775.0, 165264.0, 168586.0, 175035.0] [1673.0, 12281.0, 12421.0, 21923.0, 22312.0, 26494.0, 31611.0, 40965.0, 50547.0, 60457.0, 69455.0, 75985.0, 79058.0, 84195.0, 89116.0, 98583.0, 103374.0, 107971.0, 117172.0, 127130.0, 136568.0, 141536.0, 145723.0, 149763.0, 154900.0, 158109.0, 164529.0, 168037.0, 174655.0]\n",
      "\n",
      "\n",
      "\n",
      "returning cuz prevoffset is nan!\n",
      "['delvecs', 'pertmats', 'metadata']\n",
      "dict_keys([b'x0norm', b'patient', b'samplefreq', b'seeg_contacts', b'pz', b'seeg_xyz', b'ez', b'timepoints', b'offsettimes', b'regions_centers', b'regions', b'stepsize', b'winsize', b'perturbtype', b'radius', b'x0pz', b'onsettimes', b'pzindices', b'x0ez', b'ezindices', b'simparams'])\n",
      "(70, 1439)\n",
      "(1439, 2)\n",
      "/Volumes/ADAM LI/pydata/dnn/traindata/fragility_2d/id001_ac_sim_x0ez-1.8_x0pz-2.0_pertmodel.npz_13.npz\n",
      "using pca to grid image\n",
      "0.6254343293954134\n",
      "(1439, 70)\n",
      "(1439, 1, 32, 32)9/1439nterpolating 104/1439Interpolating 273/1439Interpolating 441/1439Interpolating 611/1439Interpolating 793/1439Interpolating 945/1439Interpolating 1106/1439Interpolating 1259/1439Interpolating 1428/1439\n",
      "/Volumes/ADAM LI/pydata/dnn/traindata/fragility/seegpert/id001_ac/id001_ac_sim_x0ez-1.8_x0pz-2.0_pertmodel.npz\n",
      "(70, 1439)\n",
      "[1672.0, 1974.0, 7291.0, 16162.0, 24405.0, 29857.0, 32871.0, 39518.0, 42595.0, 50114.0, 58927.0, 67029.0, 73604.0, 75570.0, 80175.0, 83764.0, 90412.0, 93235.0, 99633.0, 107524.0, 110485.0, 115584.0, 119041.0, 127231.0, 131131.0, 135979.0, 139554.0, 144498.0, 152922.0, 155557.0, 161856.0, 170511.0, 179356.0] [1672.0, 4926.0, 12660.0, 22388.0, 29328.0, 32331.0, 37376.0, 42392.0, 45472.0, 53294.0, 63177.0, 73374.0, 73604.0, 78611.0, 83516.0, 87808.0, 93190.0, 96575.0, 103074.0, 110411.0, 113908.0, 118183.0, 123691.0, 130604.0, 133770.0, 139281.0, 144038.0, 150389.0, 154647.0, 158438.0, 164558.0, 175330.0]\n",
      "\n",
      "\n",
      "\n",
      "returning cuz prevoffset is nan!\n",
      "['delvecs', 'pertmats', 'metadata']\n",
      "dict_keys([b'x0norm', b'patient', b'samplefreq', b'seeg_contacts', b'pz', b'seeg_xyz', b'ez', b'timepoints', b'offsettimes', b'regions_centers', b'regions', b'stepsize', b'winsize', b'perturbtype', b'radius', b'x0pz', b'onsettimes', b'pzindices', b'x0ez', b'ezindices', b'simparams'])\n",
      "(70, 1439)\n",
      "(1439, 2)\n",
      "/Volumes/ADAM LI/pydata/dnn/traindata/fragility_2d/id001_ac_sim_x0ez-1.7_x0pz-2.03_pertmodel.npz_14.npz\n",
      "using pca to grid image\n",
      "0.7255038220986796\n",
      "(1439, 70)\n",
      "(1439, 1, 32, 32)9/1439nterpolating 112/1439Interpolating 261/1439Interpolating 410/1439Interpolating 565/1439Interpolating 717/1439Interpolating 877/1439Interpolating 1060/1439Interpolating 1212/1439Interpolating 1371/1439\n",
      "/Volumes/ADAM LI/pydata/dnn/traindata/fragility/seegpert/id001_ac/id001_ac_sim_x0ez-1.7_x0pz-2.03_pertmodel.npz\n",
      "(70, 1439)\n",
      "[1664.0, 6455.0, 9672.0, 20190.0, 22626.0, 30227.0, 33293.0, 38656.0, 47011.0, 52929.0, 62912.0, 70838.0, 77218.0, 79772.0, 85559.0, 93165.0, 100756.0, 104353.0, 107907.0, 111290.0, 111661.0, 118477.0, 122556.0, 135200.0, 143443.0, 145976.0, 157808.0, 164522.0, 167784.0, 173100.0, 176258.0] [1671.0, 9507.0, 19900.0, 22384.0, 27618.0, 33201.0, 35775.0, 46748.0, 50679.0, 57870.0, 67892.0, 76679.0, 78919.0, 83426.0, 89428.0, 99669.0, 103989.0, 107330.0, 110878.0, 111290.0, 118010.0, 121686.0, 133109.0, 142188.0, 143870.0, 154179.0, 164309.0, 164522.0, 171765.0, 175331.0]\n",
      "\n",
      "\n",
      "\n",
      "returning cuz prevoffset is nan!\n",
      "['delvecs', 'pertmats', 'metadata']\n",
      "dict_keys([b'x0norm', b'patient', b'samplefreq', b'seeg_contacts', b'pz', b'seeg_xyz', b'ez', b'timepoints', b'offsettimes', b'regions_centers', b'regions', b'stepsize', b'winsize', b'perturbtype', b'radius', b'x0pz', b'onsettimes', b'pzindices', b'x0ez', b'ezindices', b'simparams'])\n",
      "(70, 1439)\n",
      "(1439, 2)\n",
      "/Volumes/ADAM LI/pydata/dnn/traindata/fragility_2d/id001_ac_sim_x0ez-1.625_x0pz-2.03_pertmodel.npz_15.npz\n",
      "using pca to grid image\n",
      "0.7651146629603892\n",
      "(1439, 70)\n",
      "(1439, 1, 32, 32)9/1439terpolating 70/1439Interpolating 247/1439Interpolating 413/1439Interpolating 591/1439Interpolating 764/1439Interpolating 936/1439Interpolating 1104/1439Interpolating 1282/1439\n",
      "/Volumes/ADAM LI/pydata/dnn/traindata/fragility/seegpert/id001_ac/id001_ac_sim_x0ez-1.625_x0pz-2.03_pertmodel.npz\n",
      "(70, 1439)\n",
      "[1538.0, 6061.0, 13513.0, 24363.0, 29914.0, 37695.0, 44397.0, 50629.0, 54003.0, 60366.0, 62714.0, 76333.0, 83385.0, 94507.0, 98607.0, 103825.0, 111062.0, 118417.0, 118443.0, 135035.0, 141967.0, 142931.0, 150917.0, 157054.0, 165407.0, 171624.0, 172580.0] [1671.0, 13004.0, 23600.0, 27504.0, 35990.0, 43630.0, 49837.0, 50753.0, 58127.0, 61931.0, 74005.0, 81954.0, 94323.0, 98515.0, 103821.0, 109009.0, 117342.0, 118417.0, 130844.0, 140177.0, 141967.0, 149747.0, 153052.0, 163321.0, 170737.0, 171624.0]\n",
      "\n",
      "\n",
      "\n",
      "returning cuz prevoffset is nan!\n",
      "['delvecs', 'pertmats', 'metadata']\n",
      "dict_keys([b'x0norm', b'patient', b'samplefreq', b'seeg_contacts', b'pz', b'seeg_xyz', b'ez', b'timepoints', b'offsettimes', b'regions_centers', b'regions', b'stepsize', b'winsize', b'perturbtype', b'radius', b'x0pz', b'onsettimes', b'pzindices', b'x0ez', b'ezindices', b'simparams'])\n",
      "(70, 1439)\n",
      "(1439, 2)\n",
      "/Volumes/ADAM LI/pydata/dnn/traindata/fragility_2d/id001_ac_sim_x0ez-1.8_x0pz-2.03_pertmodel.npz_16.npz\n",
      "using pca to grid image\n",
      "0.3877692842251564\n",
      "(1439, 70)\n",
      "(1439, 1, 32, 32)9/1439terpolating 100/1439Interpolating 274/1439Interpolating 441/1439Interpolating 619/1439Interpolating 792/1439Interpolating 972/1439Interpolating 1152/1439Interpolating 1330/1439\n",
      "/Volumes/ADAM LI/pydata/dnn/traindata/fragility/seegpert/id001_ac/id001_ac_sim_x0ez-1.8_x0pz-2.03_pertmodel.npz\n",
      "(70, 1439)\n",
      "[1974.0, 7291.0, 16162.0, 21925.0, 24381.0, 32481.0, 34369.0, 40666.0, 49159.0, 55436.0, 55450.0, 65925.0, 74362.0, 82597.0, 88293.0, 90972.0, 98047.0, 106130.0, 113369.0, 122007.0, 124081.0, 130223.0, 136075.0, 142198.0, 146479.0, 151084.0, 154712.0, 159874.0, 165773.0, 171069.0, 175572.0, 179227.0] [4925.0, 1671.0, 21149.0, 15806.0, 29246.0, 25782.0, 37312.0, 36025.0, 52440.0, 46803.0, 61354.0, 58407.0, 69105.0, 85997.0, 80993.0, 94218.0, 93003.0, 103267.0, 119857.0, 114085.0, 128550.0, 127816.0, 141369.0, 146165.0, 140450.0, 154468.0, 151045.0, 165765.0, 170648.0, 174085.0, 168947.0]\n",
      "\n",
      "\n",
      "\n",
      "['delvecs', 'pertmats', 'metadata']\n",
      "dict_keys([b'x0norm', b'patient', b'samplefreq', b'seeg_contacts', b'pz', b'seeg_xyz', b'ez', b'timepoints', b'offsettimes', b'regions_centers', b'regions', b'stepsize', b'winsize', b'perturbtype', b'radius', b'x0pz', b'onsettimes', b'pzindices', b'x0ez', b'ezindices', b'simparams'])\n",
      "(70, 1439)\n",
      "(1439, 2)\n",
      "/Volumes/ADAM LI/pydata/dnn/traindata/fragility_2d/id001_ac_sim_x0ez-1.75_x0pz-2.03_pertmodel.npz_17.npz\n",
      "using pca to grid image\n",
      "0.7421820708825573\n",
      "(1439, 70)\n",
      "(1439, 1, 32, 32)9/1439nterpolating 181/1439Interpolating 358/1439Interpolating 543/1439Interpolating 725/1439Interpolating 907/1439Interpolating 1090/1439Interpolating 1279/1439\n",
      "/Volumes/ADAM LI/pydata/dnn/traindata/fragility/seegpert/id001_ac/id001_ac_sim_x0ez-1.75_x0pz-2.03_pertmodel.npz\n",
      "(70, 1439)\n",
      "[1671.0, 1793.0, 6896.0, 15231.0, 22626.0, 30471.0, 33296.0, 39001.0, 47537.0, 52824.0, 63983.0, 71882.0, 77218.0, 79164.0, 85362.0, 94350.0, 101330.0, 105634.0, 118489.0, 122229.0, 128804.0, 133769.0, 138671.0, 146609.0, 154648.0, 154937.0, 163603.0, 167782.0, 172095.0] [1671.0, 4913.0, 14131.0, 22384.0, 28188.0, 33211.0, 35787.0, 46695.0, 51608.0, 57882.0, 68050.0, 77174.0, 78907.0, 84599.0, 90964.0, 100763.0, 103928.0, 114434.0, 121388.0, 127895.0, 133719.0, 138635.0, 144113.0, 154067.0, 154648.0, 160264.0, 166831.0, 170516.0, 177655.0]\n",
      "\n",
      "\n",
      "\n"
     ]
    },
    {
     "name": "stdout",
     "output_type": "stream",
     "text": [
      "['delvecs', 'pertmats', 'metadata']\n",
      "dict_keys([b'x0norm', b'patient', b'samplefreq', b'seeg_contacts', b'pz', b'seeg_xyz', b'ez', b'timepoints', b'offsettimes', b'regions_centers', b'regions', b'stepsize', b'winsize', b'perturbtype', b'radius', b'x0pz', b'onsettimes', b'pzindices', b'x0ez', b'ezindices', b'simparams'])\n",
      "(70, 1439)\n",
      "(1439, 2)\n",
      "/Volumes/ADAM LI/pydata/dnn/traindata/fragility_2d/id001_ac_sim_x0ez-1.625_x0pz-2.04_pertmodel.npz_18.npz\n",
      "using pca to grid image\n",
      "0.6678248783877693\n",
      "(1439, 70)\n",
      "(1439, 1, 32, 32)9/1439nterpolating 364/1439Interpolating 546/1439Interpolating 730/1439Interpolating 916/1439Interpolating 1101/1439Interpolating 1278/1439\n",
      "/Volumes/ADAM LI/pydata/dnn/traindata/fragility/seegpert/id001_ac/id001_ac_sim_x0ez-1.625_x0pz-2.04_pertmodel.npz\n",
      "(70, 1439)\n",
      "[1538.0, 6061.0, 21650.0, 22649.0, 29931.0, 33340.0, 38118.0, 44397.0, 53577.0, 60467.0, 60838.0, 67458.0, 75873.0, 86543.0, 90528.0, 96915.0, 102194.0, 109782.0, 118157.0, 119644.0, 126523.0, 130890.0, 134624.0, 138794.0, 142049.0, 142593.0, 148835.0, 158256.0, 165663.0, 167477.0, 173103.0] [1671.0, 19907.0, 22389.0, 27509.0, 33239.0, 36117.0, 41987.0, 47111.0, 58473.0, 60467.0, 66255.0, 72387.0, 86407.0, 90006.0, 94748.0, 100891.0, 106150.0, 116824.0, 118420.0, 124509.0, 130685.0, 130890.0, 138680.0, 141558.0, 142049.0, 146748.0, 152873.0, 165025.0, 166155.0, 171152.0, 177286.0]\n",
      "\n",
      "\n",
      "\n",
      "returning cuz prevoffset is nan!\n",
      "['delvecs', 'pertmats', 'metadata']\n",
      "dict_keys([b'x0norm', b'patient', b'samplefreq', b'seeg_contacts', b'pz', b'seeg_xyz', b'ez', b'timepoints', b'offsettimes', b'regions_centers', b'regions', b'stepsize', b'winsize', b'perturbtype', b'radius', b'x0pz', b'onsettimes', b'pzindices', b'x0ez', b'ezindices', b'simparams'])\n",
      "(70, 1439)\n",
      "(1439, 2)\n",
      "/Volumes/ADAM LI/pydata/dnn/traindata/fragility_2d/id001_ac_sim_x0ez-1.8_x0pz-2.04_pertmodel.npz_19.npz\n",
      "using pca to grid image\n",
      "0.6803335649756775\n",
      "(1439, 70)\n",
      "(1439, 1, 32, 32)9/1439nterpolating 104/1439Interpolating 282/1439Interpolating 461/1439Interpolating 640/1439Interpolating 824/1439Interpolating 994/1439Interpolating 1180/1439Interpolating 1368/1439\n",
      "/Volumes/ADAM LI/pydata/dnn/traindata/fragility/seegpert/id001_ac/id001_ac_sim_x0ez-1.8_x0pz-2.04_pertmodel.npz\n",
      "(70, 1439)\n",
      "[1671.0, 1974.0, 7291.0, 16162.0, 21540.0, 22649.0, 32360.0, 33340.0, 40661.0, 49159.0, 55633.0, 63576.0, 66647.0, 71411.0, 74534.0, 78924.0, 82554.0, 88277.0, 99133.0, 104665.0, 106810.0, 113369.0, 123136.0, 130900.0, 131229.0, 135265.0, 138798.0, 144046.0, 152721.0, 152842.0, 160259.0, 169753.0, 175375.0, 177395.0] [1671.0, 4925.0, 14103.0, 21149.0, 22377.0, 29240.0, 33222.0, 37324.0, 47107.0, 55078.0, 60462.0, 66528.0, 70213.0, 71411.0, 78323.0, 82426.0, 84007.0, 94750.0, 104319.0, 106147.0, 112168.0, 118599.0, 129819.0, 130900.0, 134234.0, 138631.0, 142019.0, 152164.0, 152721.0, 157353.0, 164468.0, 173508.0, 175375.0]\n",
      "\n",
      "\n",
      "\n",
      "returning cuz prevoffset is nan!\n",
      "['delvecs', 'pertmats', 'metadata']\n",
      "dict_keys([b'x0norm', b'patient', b'samplefreq', b'seeg_contacts', b'pz', b'seeg_xyz', b'ez', b'timepoints', b'offsettimes', b'regions_centers', b'regions', b'stepsize', b'winsize', b'perturbtype', b'radius', b'x0pz', b'onsettimes', b'pzindices', b'x0ez', b'ezindices', b'simparams'])\n",
      "(70, 1439)\n",
      "(1439, 2)\n",
      "/Volumes/ADAM LI/pydata/dnn/traindata/fragility_2d/id001_ac_sim_x0ez-1.75_x0pz-2.04_pertmodel.npz_20.npz\n",
      "using pca to grid image\n",
      "0.6831132731063239\n",
      "(1439, 70)\n",
      "(1439, 1, 32, 32)9/1439terpolating 84/1439Interpolating 268/1439Interpolating 449/1439Interpolating 631/1439Interpolating 815/1439Interpolating 1004/1439Interpolating 1187/1439Interpolating 1373/1439\n",
      "/Volumes/ADAM LI/pydata/dnn/traindata/fragility/seegpert/id001_ac/id001_ac_sim_x0ez-1.75_x0pz-2.04_pertmodel.npz\n",
      "(70, 1439)\n",
      "[1671.0, 1793.0, 6896.0, 15315.0, 21654.0, 22649.0, 32105.0, 33340.0, 40095.0, 46463.0, 48176.0, 55632.0, 64086.0, 72097.0, 79740.0, 82781.0, 87690.0, 90850.0, 95512.0, 96961.0, 102583.0, 107238.0, 109720.0, 115503.0, 121519.0, 123997.0, 132427.0, 136075.0, 138809.0, 148162.0, 149472.0, 156961.0, 165004.0, 170293.0, 177429.0] [1671.0, 4929.0, 14105.0, 20320.0, 22378.0, 27477.0, 33250.0, 36367.0, 45606.0, 46463.0, 51426.0, 60604.0, 69274.0, 76506.0, 82660.0, 86809.0, 90685.0, 94931.0, 96614.0, 102435.0, 106235.0, 108941.0, 112945.0, 120321.0, 123782.0, 129753.0, 135683.0, 138686.0, 144465.0, 149322.0, 152537.0, 162346.0, 168683.0, 175337.0]\n",
      "\n",
      "\n",
      "\n",
      "returning cuz prevoffset is nan!\n",
      "['delvecs', 'pertmats', 'metadata']\n",
      "dict_keys([b'x0norm', b'patient', b'samplefreq', b'seeg_contacts', b'pz', b'seeg_xyz', b'ez', b'timepoints', b'offsettimes', b'regions_centers', b'regions', b'stepsize', b'winsize', b'perturbtype', b'radius', b'x0pz', b'onsettimes', b'pzindices', b'x0ez', b'ezindices', b'simparams'])\n",
      "(70, 1439)\n",
      "(1439, 2)\n",
      "/Volumes/ADAM LI/pydata/dnn/traindata/fragility_2d/id001_ac_sim_x0ez-1.7_x0pz-2.04_pertmodel.npz_21.npz\n",
      "using pca to grid image\n",
      "0.7143849895760945\n",
      "(1439, 70)\n",
      "(1439, 1, 32, 32)9/1439terpolating 53/1439Interpolating 205/1439Interpolating 382/1439Interpolating 519/1439Interpolating 628/1439Interpolating 734/1439Interpolating 873/1439Interpolating 1005/1439Interpolating 1174/1439Interpolating 1342/1439\n",
      "/Volumes/ADAM LI/pydata/dnn/traindata/fragility/seegpert/id001_ac/id001_ac_sim_x0ez-1.7_x0pz-2.04_pertmodel.npz\n",
      "(70, 1439)\n",
      "[1664.0, 6464.0, 14881.0, 21090.0, 22649.0, 31258.0, 33340.0, 39549.0, 42644.0, 46742.0, 54301.0, 61614.0, 71261.0, 75797.0, 84180.0, 92263.0, 98928.0, 107692.0, 115437.0, 119004.0, 127250.0, 137991.0, 143437.0, 148843.0, 160092.0, 166392.0, 176436.0] [1671.0, 14104.0, 19486.0, 22389.0, 27255.0, 33223.0, 36228.0, 42454.0, 46470.0, 51386.0, 58664.0, 69405.0, 74193.0, 80763.0, 90930.0, 97408.0, 102768.0, 113902.0, 118200.0, 127197.0, 137785.0, 141198.0, 148422.0, 157610.0, 164524.0, 172000.0]\n",
      "\n",
      "\n",
      "\n",
      "returning cuz prevoffset is nan!\n",
      "['delvecs', 'pertmats', 'metadata']\n",
      "dict_keys([b'x0norm', b'patient', b'samplefreq', b'seeg_contacts', b'pz', b'seeg_xyz', b'ez', b'timepoints', b'offsettimes', b'regions_centers', b'regions', b'stepsize', b'winsize', b'perturbtype', b'radius', b'x0pz', b'onsettimes', b'pzindices', b'x0ez', b'ezindices', b'simparams'])\n",
      "(70, 1439)\n",
      "(1439, 2)\n",
      "/Volumes/ADAM LI/pydata/dnn/traindata/fragility_2d/id001_ac_sim_x0ez-1.725_x0pz-2.01_pertmodel.npz_22.npz\n",
      "using pca to grid image\n",
      "0.6789437109103544\n",
      "(1439, 70)\n",
      "(1439, 1, 32, 32)9/1439nterpolating 152/1439Interpolating 308/1439Interpolating 453/1439Interpolating 594/1439Interpolating 705/1439Interpolating 846/1439Interpolating 998/1439Interpolating 1163/1439Interpolating 1323/1439\n",
      "/Volumes/ADAM LI/pydata/dnn/traindata/fragility/seegpert/id001_ac/id001_ac_sim_x0ez-1.725_x0pz-2.01_pertmodel.npz\n",
      "(70, 1439)\n",
      "[1672.0, 1732.0, 6768.0, 15002.0, 23453.0, 29832.0, 32885.0, 39896.0, 42948.0, 48141.0, 53200.0, 56764.0, 63240.0, 63598.0, 70552.0, 74636.0, 81136.0, 84852.0, 89274.0, 95539.0, 102568.0, 104396.0, 111790.0, 116664.0, 119733.0, 126497.0, 127965.0, 132378.0, 136151.0, 142677.0, 151476.0, 157468.0, 159150.0, 166950.0, 168909.0, 173084.0] [1672.0, 4870.0, 12338.0, 22373.0, 29051.0, 32849.0, 36831.0, 42467.0, 45792.0, 52796.0, 53419.0, 62907.0, 63240.0, 68453.0, 73595.0, 77699.0, 84035.0, 87691.0, 94456.0, 100312.0, 104301.0, 108963.0, 114313.0, 119301.0, 124969.0, 127059.0, 131727.0, 135022.0, 137019.0, 147451.0, 155702.0, 157554.0, 165598.0, 167562.0, 172173.0]\n",
      "\n",
      "\n",
      "\n",
      "['delvecs', 'pertmats', 'metadata']\n",
      "dict_keys([b'x0norm', b'patient', b'samplefreq', b'seeg_contacts', b'pz', b'seeg_xyz', b'ez', b'timepoints', b'offsettimes', b'regions_centers', b'regions', b'stepsize', b'winsize', b'perturbtype', b'radius', b'x0pz', b'onsettimes', b'pzindices', b'x0ez', b'ezindices', b'simparams'])\n",
      "(70, 1439)\n",
      "(1439, 2)\n",
      "/Volumes/ADAM LI/pydata/dnn/traindata/fragility_2d/id001_ac_sim_x0ez-1.75_x0pz-2.01_pertmodel.npz_23.npz\n",
      "using pca to grid image\n",
      "0.6990965948575399\n",
      "(1439, 70)\n",
      "(1439, 1, 32, 32)9/1439nterpolating 151/1439Interpolating 315/1439Interpolating 479/1439Interpolating 632/1439Interpolating 803/1439Interpolating 970/1439Interpolating 1138/1439Interpolating 1308/1439\n",
      "/Volumes/ADAM LI/pydata/dnn/traindata/fragility/seegpert/id001_ac/id001_ac_sim_x0ez-1.75_x0pz-2.01_pertmodel.npz\n",
      "(70, 1439)\n",
      "[1672.0, 1793.0, 6896.0, 15219.0, 22766.0, 26095.0, 30758.0, 33820.0, 39253.0, 47745.0, 56269.0, 63588.0, 65730.0, 70552.0, 81132.0, 85441.0, 88045.0, 95590.0, 97004.0, 101680.0, 104719.0, 109678.0, 119492.0, 125762.0, 128751.0, 135339.0, 136822.0, 142667.0, 147132.0, 152421.0, 159803.0, 167341.0, 167649.0, 171474.0] [1672.0, 4926.0, 12339.0, 22384.0, 25963.0, 29066.0, 33222.0, 37034.0, 44357.0, 54317.0, 63003.0, 65176.0, 68917.0, 75066.0, 84448.0, 85441.0, 94417.0, 95590.0, 101399.0, 104447.0, 105868.0, 115605.0, 125452.0, 125762.0, 135024.0, 135339.0, 142308.0, 145662.0, 152258.0, 157605.0, 166790.0, 167341.0, 170672.0, 177244.0]\n",
      "\n",
      "\n",
      "\n"
     ]
    },
    {
     "name": "stdout",
     "output_type": "stream",
     "text": [
      "['delvecs', 'pertmats', 'metadata']\n",
      "dict_keys([b'x0norm', b'patient', b'samplefreq', b'seeg_contacts', b'pz', b'seeg_xyz', b'ez', b'timepoints', b'offsettimes', b'regions_centers', b'regions', b'stepsize', b'winsize', b'perturbtype', b'radius', b'x0pz', b'onsettimes', b'pzindices', b'x0ez', b'ezindices', b'simparams'])\n",
      "(70, 1439)\n",
      "(1439, 2)\n",
      "/Volumes/ADAM LI/pydata/dnn/traindata/fragility_2d/id001_ac_sim_x0ez-1.625_x0pz-2.01_pertmodel.npz_24.npz\n",
      "using pca to grid image\n",
      "0.6914523974982627\n",
      "(1439, 70)\n",
      "(1439, 1, 32, 32)9/1439nterpolating 332/1439Interpolating 508/1439Interpolating 688/1439Interpolating 864/1439Interpolating 1047/1439Interpolating 1235/1439Interpolating 1420/1439\n",
      "/Volumes/ADAM LI/pydata/dnn/traindata/fragility/seegpert/id001_ac/id001_ac_sim_x0ez-1.625_x0pz-2.01_pertmodel.npz\n",
      "(70, 1439)\n",
      "[1538.0, 6061.0, 13515.0, 22509.0, 29652.0, 37656.0, 43205.0, 44500.0, 50417.0, 52963.0, 55350.0, 60013.0, 65114.0, 66195.0, 74599.0, 74717.0, 80937.0, 88135.0, 91219.0, 95590.0, 98527.0, 105897.0, 107238.0, 114709.0, 119507.0, 129778.0, 135335.0, 137463.0, 142663.0, 147819.0, 155899.0, 159551.0, 163036.0, 169940.0] [1672.0, 12333.0, 22346.0, 27252.0, 33174.0, 42914.0, 43205.0, 49563.0, 52932.0, 54266.0, 58125.0, 64531.0, 65114.0, 73311.0, 74599.0, 79820.0, 85461.0, 90619.0, 94508.0, 95590.0, 104061.0, 105897.0, 113970.0, 115622.0, 125745.0, 135023.0, 135335.0, 142509.0, 145668.0, 155725.0, 157605.0, 162932.0, 167331.0, 177245.0]\n",
      "\n",
      "\n",
      "\n",
      "returning cuz prevoffset is nan!\n",
      "['delvecs', 'pertmats', 'metadata']\n",
      "dict_keys([b'x0norm', b'patient', b'samplefreq', b'seeg_contacts', b'pz', b'seeg_xyz', b'ez', b'timepoints', b'offsettimes', b'regions_centers', b'regions', b'stepsize', b'winsize', b'perturbtype', b'radius', b'x0pz', b'onsettimes', b'pzindices', b'x0ez', b'ezindices', b'simparams'])\n",
      "(70, 1439)\n",
      "(1439, 2)\n",
      "/Volumes/ADAM LI/pydata/dnn/traindata/fragility_2d/id001_ac_sim_x0ez-1.8_x0pz-2.01_pertmodel.npz_25.npz\n",
      "using pca to grid image\n",
      "0.6615705350938151\n",
      "(1439, 70)\n",
      "(1439, 1, 32, 32)9/1439nterpolating 117/1439Interpolating 288/1439Interpolating 462/1439Interpolating 632/1439Interpolating 812/1439Interpolating 986/1439Interpolating 1155/1439Interpolating 1327/1439\n",
      "/Volumes/ADAM LI/pydata/dnn/traindata/fragility/seegpert/id001_ac/id001_ac_sim_x0ez-1.8_x0pz-2.01_pertmodel.npz\n",
      "(70, 1439)\n",
      "[1672.0, 1974.0, 7291.0, 16222.0, 24380.0, 27283.0, 30806.0, 34002.0, 40908.0, 44574.0, 49654.0, 54267.0, 55350.0, 65189.0, 66195.0, 73738.0, 76087.0, 81133.0, 84775.0, 88054.0, 97229.0, 101583.0, 104875.0, 109781.0, 115649.0, 118812.0, 125981.0, 127395.0, 135685.0, 135964.0, 142462.0, 151948.0, 160771.0, 166154.0, 169247.0, 172299.0, 177276.0, 177422.0] [1672.0, 4929.0, 12340.0, 22378.0, 27274.0, 29605.0, 33202.0, 36806.0, 44075.0, 47245.0, 53299.0, 54267.0, 63016.0, 65189.0, 73405.0, 75067.0, 80144.0, 84293.0, 85448.0, 95586.0, 101033.0, 104439.0, 105867.0, 115600.0, 115649.0, 124863.0, 125981.0, 135028.0, 135685.0, 140182.0, 146088.0, 156214.0, 165901.0, 166154.0, 172201.0, 175803.0, 177276.0]\n",
      "\n",
      "\n",
      "\n",
      "returning cuz prevoffset is nan!\n",
      "['delvecs', 'pertmats', 'metadata']\n",
      "dict_keys([b'x0norm', b'patient', b'samplefreq', b'seeg_contacts', b'pz', b'seeg_xyz', b'ez', b'timepoints', b'offsettimes', b'regions_centers', b'regions', b'stepsize', b'winsize', b'perturbtype', b'radius', b'x0pz', b'onsettimes', b'pzindices', b'x0ez', b'ezindices', b'simparams'])\n",
      "(70, 1439)\n",
      "(1439, 2)\n",
      "/Volumes/ADAM LI/pydata/dnn/traindata/fragility_2d/id001_ac_sim_x0ez-1.7_x0pz-2.01_pertmodel.npz_26.npz\n",
      "using pca to grid image\n",
      "0.645587213342599\n",
      "(1439, 70)\n",
      "(1439, 1, 32, 32)9/1439nterpolating 127/1439Interpolating 309/1439Interpolating 493/1439Interpolating 673/1439Interpolating 860/1439Interpolating 1042/1439Interpolating 1211/1439Interpolating 1385/1439\n",
      "/Volumes/ADAM LI/pydata/dnn/traindata/fragility/seegpert/id001_ac/id001_ac_sim_x0ez-1.7_x0pz-2.01_pertmodel.npz\n",
      "(70, 1439)\n",
      "[1664.0, 6455.0, 9577.0, 13778.0, 19744.0, 23616.0, 29860.0, 38722.0, 46668.0, 54410.0, 60542.0, 70063.0, 77770.0, 84854.0, 87452.0, 91780.0, 100668.0, 106365.0, 112016.0, 119321.0, 123239.0, 130350.0, 134876.0, 144053.0, 148320.0, 148467.0, 152351.0, 159208.0, 164876.0, 175211.0, 175357.0] [1672.0, 9506.0, 12338.0, 19447.0, 22389.0, 26655.0, 33174.0, 43451.0, 54292.0, 58240.0, 65104.0, 75064.0, 83776.0, 85432.0, 90946.0, 95594.0, 105663.0, 111035.0, 117163.0, 122542.0, 127225.0, 133168.0, 138041.0, 147986.0, 148320.0, 151374.0, 157825.0, 162431.0, 172139.0, 175329.0]\n",
      "\n",
      "\n",
      "\n",
      "returning cuz prevoffset is nan!\n",
      "['delvecs', 'pertmats', 'metadata']\n",
      "dict_keys([b'x0norm', b'patient', b'samplefreq', b'seeg_contacts', b'pz', b'seeg_xyz', b'ez', b'timepoints', b'offsettimes', b'regions_centers', b'regions', b'stepsize', b'winsize', b'perturbtype', b'radius', b'x0pz', b'onsettimes', b'pzindices', b'x0ez', b'ezindices', b'simparams'])\n",
      "(70, 1439)\n",
      "(1439, 2)\n",
      "/Volumes/ADAM LI/pydata/dnn/traindata/fragility_2d/id001_ac_sim_x0ez-1.6_x0pz-1.98_pertmodel.npz_27.npz\n",
      "using pca to grid image\n",
      "0.7157748436414176\n",
      "(1439, 70)\n",
      "(1439, 1, 32, 32)9/1439nterpolating 113/1439Interpolating 285/1439Interpolating 464/1439Interpolating 643/1439Interpolating 818/1439Interpolating 991/1439Interpolating 1167/1439Interpolating 1343/1439\n",
      "/Volumes/ADAM LI/pydata/dnn/traindata/fragility/seegpert/id001_ac/id001_ac_sim_x0ez-1.6_x0pz-1.98_pertmodel.npz\n",
      "(70, 1439)\n",
      "[1507.0, 5905.0, 12383.0, 14357.0, 23958.0, 28939.0, 37601.0, 42248.0, 45333.0, 52024.0, 52179.0, 58293.0, 61691.0, 66503.0, 74005.0, 77865.0, 81424.0, 85313.0, 93394.0, 101439.0, 109529.0, 116455.0, 119477.0, 125973.0, 129277.0, 133882.0, 138797.0, 141631.0, 148676.0, 155064.0, 158312.0, 163523.0, 167855.0, 171014.0, 177285.0, 177542.0] [1673.0, 12282.0, 12383.0, 22333.0, 26820.0, 31968.0, 41907.0, 42248.0, 51134.0, 52024.0, 57522.0, 61579.0, 65617.0, 71085.0, 77398.0, 80757.0, 84902.0, 90572.0, 99865.0, 109111.0, 114219.0, 118415.0, 122053.0, 127679.0, 131668.0, 137432.0, 141580.0, 147448.0, 154121.0, 157650.0, 161518.0, 167587.0, 170531.0, 177137.0, 177285.0]\n",
      "\n",
      "\n",
      "\n",
      "returning cuz prevoffset is nan!\n",
      "['delvecs', 'pertmats', 'metadata']\n",
      "dict_keys([b'x0norm', b'patient', b'samplefreq', b'seeg_contacts', b'pz', b'seeg_xyz', b'ez', b'timepoints', b'offsettimes', b'regions_centers', b'regions', b'stepsize', b'winsize', b'perturbtype', b'radius', b'x0pz', b'onsettimes', b'pzindices', b'x0ez', b'ezindices', b'simparams'])\n",
      "(70, 1439)\n",
      "(1439, 2)\n",
      "/Volumes/ADAM LI/pydata/dnn/traindata/fragility_2d/id001_ac_sim_x0ez-1.725_x0pz-2.04_pertmodel.npz_28.npz\n",
      "using pca to grid image\n",
      "0.6997915218902016\n",
      "(1439, 70)\n",
      "(1439, 1, 32, 32)9/1439nterpolating 121/1439Interpolating 301/1439Interpolating 481/1439Interpolating 659/1439Interpolating 828/1439Interpolating 1014/1439Interpolating 1189/1439Interpolating 1356/1439\n",
      "/Volumes/ADAM LI/pydata/dnn/traindata/fragility/seegpert/id001_ac/id001_ac_sim_x0ez-1.725_x0pz-2.04_pertmodel.npz\n",
      "(70, 1439)\n",
      "[1671.0, 1732.0, 6768.0, 14993.0, 21566.0, 22649.0, 31403.0, 33274.0, 39676.0, 47966.0, 55593.0, 60595.0, 64200.0, 71987.0, 77471.0, 86991.0, 95498.0, 101331.0, 105501.0, 118638.0, 126746.0, 130262.0, 136090.0, 138826.0, 146631.0, 149342.0, 155038.0, 161974.0, 163522.0, 173202.0, 179071.0] [1671.0, 4875.0, 14105.0, 20872.0, 22382.0, 28545.0, 33242.0, 36233.0, 46478.0, 51851.0, 59870.0, 60595.0, 69227.0, 76534.0, 84563.0, 90797.0, 100957.0, 103998.0, 114333.0, 124415.0, 129634.0, 135409.0, 138650.0, 146079.0, 147491.0, 152606.0, 160579.0, 161974.0, 172368.0, 175977.0]\n",
      "\n",
      "\n",
      "\n",
      "returning cuz prevoffset is nan!\n",
      "['delvecs', 'pertmats', 'metadata']\n",
      "dict_keys([b'x0norm', b'patient', b'samplefreq', b'seeg_contacts', b'pz', b'seeg_xyz', b'ez', b'timepoints', b'offsettimes', b'regions_centers', b'regions', b'stepsize', b'winsize', b'perturbtype', b'radius', b'x0pz', b'onsettimes', b'pzindices', b'x0ez', b'ezindices', b'simparams'])\n",
      "(70, 1439)\n",
      "(1439, 2)\n",
      "/Volumes/ADAM LI/pydata/dnn/traindata/fragility_2d/id001_ac_sim_x0ez-1.75_x0pz-2.0_pertmodel.npz_29.npz\n",
      "using pca to grid image\n",
      "0.7484364141765114\n",
      "(1439, 70)\n",
      "(1439, 1, 32, 32)9/1439nterpolating 222/1439Interpolating 389/1439Interpolating 547/1439Interpolating 713/1439Interpolating 842/1439Interpolating 1008/1439Interpolating 1188/1439Interpolating 1370/1439\n",
      "/Volumes/ADAM LI/pydata/dnn/traindata/fragility/seegpert/id001_ac/id001_ac_sim_x0ez-1.75_x0pz-2.0_pertmodel.npz\n",
      "(70, 1439)\n",
      "[1673.0, 1793.0, 6896.0, 15202.0, 22784.0, 29864.0, 39402.0, 47069.0, 54064.0, 60542.0, 69479.0, 77231.0, 84819.0, 95554.0, 100062.0, 103861.0, 107836.0, 112322.0, 113318.0, 119605.0, 123551.0, 129221.0, 133942.0, 137429.0, 144022.0, 144443.0, 153369.0, 154551.0, 160293.0, 163838.0, 170337.0, 177243.0] [1673.0, 4904.0, 12749.0, 22518.0, 28182.0, 33172.0, 42991.0, 53574.0, 59601.0, 65105.0, 74412.0, 84030.0, 93634.0, 98967.0, 103363.0, 107347.0, 112178.0, 113259.0, 118824.0, 123406.0, 126693.0, 133148.0, 136787.0, 143091.0, 144022.0, 153063.0, 153369.0, 158935.0, 163420.0, 169077.0, 174324.0]\n",
      "\n",
      "\n",
      "\n"
     ]
    },
    {
     "name": "stdout",
     "output_type": "stream",
     "text": [
      "returning cuz prevoffset is nan!\n",
      "['delvecs', 'pertmats', 'metadata']\n",
      "dict_keys([b'x0norm', b'patient', b'samplefreq', b'seeg_contacts', b'pz', b'seeg_xyz', b'ez', b'timepoints', b'offsettimes', b'regions_centers', b'regions', b'stepsize', b'winsize', b'perturbtype', b'radius', b'x0pz', b'onsettimes', b'pzindices', b'x0ez', b'ezindices', b'simparams'])\n",
      "(70, 1439)\n",
      "(1439, 2)\n",
      "/Volumes/ADAM LI/pydata/dnn/traindata/fragility_2d/id001_ac_sim_x0ez-1.725_x0pz-2.03_pertmodel.npz_30.npz\n",
      "using pca to grid image\n",
      "0.7227241139680334\n",
      "(1439, 70)\n",
      "(1439, 1, 32, 32)9/1439nterpolating 247/1439Interpolating 420/1439Interpolating 577/1439Interpolating 750/1439Interpolating 927/1439Interpolating 1099/1439Interpolating 1273/1439\n",
      "/Volumes/ADAM LI/pydata/dnn/traindata/fragility/seegpert/id001_ac/id001_ac_sim_x0ez-1.725_x0pz-2.03_pertmodel.npz\n",
      "(70, 1439)\n",
      "[1671.0, 1732.0, 6768.0, 15012.0, 22626.0, 31094.0, 33293.0, 39889.0, 48145.0, 52820.0, 63990.0, 71075.0, 81012.0, 85362.0, 93862.0, 97200.0, 101414.0, 105587.0, 109379.0, 113748.0, 117323.0, 122126.0, 128380.0, 138548.0, 143152.0, 145848.0, 153693.0, 154588.0, 160617.0, 164768.0, 170191.0, 175374.0, 175577.0] [1671.0, 4947.0, 14120.0, 22391.0, 28847.0, 33203.0, 36151.0, 46533.0, 51556.0, 56419.0, 67923.0, 78922.0, 84588.0, 92663.0, 96618.0, 101252.0, 104577.0, 108863.0, 112141.0, 117287.0, 121628.0, 127671.0, 133114.0, 142716.0, 143870.0, 152941.0, 154167.0, 157702.0, 164457.0, 167643.0, 173880.0, 175374.0]\n",
      "\n",
      "\n",
      "\n",
      "['delvecs', 'pertmats', 'metadata']\n",
      "dict_keys([b'x0norm', b'patient', b'samplefreq', b'seeg_contacts', b'pz', b'seeg_xyz', b'ez', b'timepoints', b'offsettimes', b'regions_centers', b'regions', b'stepsize', b'winsize', b'perturbtype', b'radius', b'x0pz', b'onsettimes', b'pzindices', b'x0ez', b'ezindices', b'simparams'])\n",
      "(70, 1439)\n",
      "(1439, 2)\n",
      "/Volumes/ADAM LI/pydata/dnn/traindata/fragility_2d/id001_ac_sim_x0ez-1.625_x0pz-2.0_pertmodel.npz_31.npz\n",
      "using pca to grid image\n",
      "0.6921473245309242\n",
      "(1439, 70)\n",
      "(1439, 1, 32, 32)9/1439nterpolating 171/1439Interpolating 353/1439Interpolating 533/1439Interpolating 718/1439Interpolating 903/1439Interpolating 1080/1439Interpolating 1249/1439Interpolating 1421/1439\n",
      "/Volumes/ADAM LI/pydata/dnn/traindata/fragility/seegpert/id001_ac/id001_ac_sim_x0ez-1.625_x0pz-2.0_pertmodel.npz\n",
      "(70, 1439)\n",
      "[1538.0, 6063.0, 14523.0, 19630.0, 22601.0, 29864.0, 38324.0, 45300.0, 54699.0, 60369.0, 67701.0, 75574.0, 82578.0, 86140.0, 93187.0, 93232.0, 104854.0, 109573.0, 116520.0, 123398.0, 126193.0, 133130.0, 133754.0, 140354.0, 145803.0, 149509.0, 154266.0, 156120.0, 163974.0, 164949.0, 170325.0, 174359.0] [1672.0, 12517.0, 19205.0, 22377.0, 26651.0, 32269.0, 42314.0, 53419.0, 58446.0, 63247.0, 73359.0, 82551.0, 83533.0, 92588.0, 93187.0, 102955.0, 108963.0, 113307.0, 123052.0, 123398.0, 133081.0, 133130.0, 138634.0, 144127.0, 148617.0, 153243.0, 154266.0, 163007.0, 163974.0, 168951.0, 173888.0, 178709.0]\n",
      "\n",
      "\n",
      "\n",
      "['delvecs', 'pertmats', 'metadata']\n",
      "dict_keys([b'x0norm', b'patient', b'samplefreq', b'seeg_contacts', b'pz', b'seeg_xyz', b'ez', b'timepoints', b'offsettimes', b'regions_centers', b'regions', b'stepsize', b'winsize', b'perturbtype', b'radius', b'x0pz', b'onsettimes', b'pzindices', b'x0ez', b'ezindices', b'simparams'])\n",
      "(70, 1439)\n",
      "(1439, 2)\n",
      "/Volumes/ADAM LI/pydata/dnn/traindata/fragility_2d/id001_ac_sim_x0ez-1.775_x0pz-1.98_pertmodel.npz_32.npz\n",
      "using pca to grid image\n",
      "0.645587213342599\n",
      "(1439, 70)\n",
      "(1439, 1, 32, 32)9/1439nterpolating 137/1439Interpolating 287/1439Interpolating 444/1439Interpolating 587/1439Interpolating 734/1439Interpolating 908/1439Interpolating 1092/1439Interpolating 1278/1439\n",
      "/Volumes/ADAM LI/pydata/dnn/traindata/fragility/seegpert/id001_ac/id001_ac_sim_x0ez-1.775_x0pz-1.98_pertmodel.npz\n",
      "(70, 1439)\n",
      "[1673.0, 1888.0, 7032.0, 15877.0, 22338.0, 24278.0, 31772.0, 32113.0, 38368.0, 42458.0, 47464.0, 57258.0, 65955.0, 73345.0, 81491.0, 89405.0, 95733.0, 99180.0, 105389.0, 113104.0, 120375.0, 123719.0, 128166.0, 132329.0, 140663.0, 149344.0, 159984.0, 164611.0, 167771.0, 173708.0] [1673.0, 4925.0, 12718.0, 22123.0, 22338.0, 31621.0, 31772.0, 37303.0, 41719.0, 45370.0, 50756.0, 60458.0, 69644.0, 79057.0, 88830.0, 94228.0, 98396.0, 102422.0, 108524.0, 118113.0, 123305.0, 127240.0, 131107.0, 137928.0, 147491.0, 157631.0, 162903.0, 167218.0, 170442.0, 175826.0]\n",
      "\n",
      "\n",
      "\n",
      "returning cuz prevoffset is nan!\n",
      "['delvecs', 'pertmats', 'metadata']\n",
      "dict_keys([b'x0norm', b'patient', b'samplefreq', b'seeg_contacts', b'pz', b'seeg_xyz', b'ez', b'timepoints', b'offsettimes', b'regions_centers', b'regions', b'stepsize', b'winsize', b'perturbtype', b'radius', b'x0pz', b'onsettimes', b'pzindices', b'x0ez', b'ezindices', b'simparams'])\n",
      "(70, 1439)\n",
      "(1439, 2)\n",
      "/Volumes/ADAM LI/pydata/dnn/traindata/fragility_2d/id001_ac_sim_x0ez-1.725_x0pz-2.0_pertmodel.npz_33.npz\n",
      "using pca to grid image\n",
      "0.6824183460736623\n",
      "(1439, 70)\n",
      "(1439, 1, 32, 32)9/1439terpolating 97/1439Interpolating 268/1439Interpolating 435/1439Interpolating 614/1439Interpolating 798/1439Interpolating 945/1439Interpolating 1102/1439Interpolating 1271/1439Interpolating 1430/1439\n",
      "/Volumes/ADAM LI/pydata/dnn/traindata/fragility/seegpert/id001_ac/id001_ac_sim_x0ez-1.725_x0pz-2.0_pertmodel.npz\n",
      "(70, 1439)\n",
      "[1673.0, 1732.0, 6768.0, 15012.0, 22786.0, 29859.0, 33845.0, 39518.0, 47970.0, 56145.0, 60327.0, 63460.0, 70313.0, 78005.0, 85780.0, 89617.0, 97203.0, 105584.0, 113759.0, 119709.0, 124014.0, 130162.0, 138539.0, 146864.0, 152862.0, 153193.0, 160119.0, 163329.0, 170228.0, 173884.0, 178098.0] [1673.0, 4869.0, 12542.0, 22378.0, 29042.0, 32332.0, 37105.0, 42391.0, 53172.0, 59875.0, 63166.0, 68012.0, 73699.0, 83749.0, 88628.0, 93428.0, 103134.0, 113062.0, 119443.0, 123420.0, 127169.0, 133306.0, 143869.0, 152693.0, 152862.0, 158482.0, 162477.0, 167117.0, 173020.0, 176650.0]\n",
      "\n",
      "\n",
      "\n",
      "returning cuz prevoffset is nan!\n",
      "['delvecs', 'pertmats', 'metadata']\n",
      "dict_keys([b'x0norm', b'patient', b'samplefreq', b'seeg_contacts', b'pz', b'seeg_xyz', b'ez', b'timepoints', b'offsettimes', b'regions_centers', b'regions', b'stepsize', b'winsize', b'perturbtype', b'radius', b'x0pz', b'onsettimes', b'pzindices', b'x0ez', b'ezindices', b'simparams'])\n",
      "(70, 1439)\n",
      "(1439, 2)\n",
      "/Volumes/ADAM LI/pydata/dnn/traindata/fragility_2d/id001_ac_sim_x0ez-1.6_x0pz-2.04_pertmodel.npz_34.npz\n",
      "using pca to grid image\n",
      "0.7136900625434329\n",
      "(1439, 70)\n",
      "(1439, 1, 32, 32)9/1439terpolating 64/1439Interpolating 231/1439Interpolating 415/1439Interpolating 600/1439Interpolating 783/1439Interpolating 960/1439Interpolating 1141/1439Interpolating 1327/1439\n",
      "/Volumes/ADAM LI/pydata/dnn/traindata/fragility/seegpert/id001_ac/id001_ac_sim_x0ez-1.6_x0pz-2.04_pertmodel.npz\n",
      "(70, 1439)\n",
      "[1507.0, 5905.0, 14260.0, 21645.0, 22649.0, 29793.0, 33340.0, 37980.0, 44402.0, 53012.0, 60462.0, 60842.0, 66298.0, 75077.0, 82755.0, 97461.0, 109525.0, 117645.0, 119556.0, 126126.0, 130842.0, 132961.0, 140847.0, 141966.0, 155919.0, 162155.0, 163054.0, 174868.0, 178569.0] [1671.0, 14102.0, 19081.0, 22391.0, 26399.0, 33220.0, 36234.0, 42024.0, 47055.0, 58372.0, 60462.0, 65666.0, 73848.0, 81723.0, 94749.0, 105865.0, 116581.0, 118880.0, 124577.0, 129489.0, 130842.0, 140071.0, 141607.0, 151227.0, 161913.0, 162155.0, 174324.0, 175627.0]\n",
      "\n",
      "\n",
      "\n",
      "returning cuz prevoffset is nan!\n",
      "['delvecs', 'pertmats', 'metadata']\n",
      "dict_keys([b'x0norm', b'patient', b'samplefreq', b'seeg_contacts', b'pz', b'seeg_xyz', b'ez', b'timepoints', b'offsettimes', b'regions_centers', b'regions', b'stepsize', b'winsize', b'perturbtype', b'radius', b'x0pz', b'onsettimes', b'pzindices', b'x0ez', b'ezindices', b'simparams'])\n",
      "(70, 1439)\n",
      "(1439, 2)\n",
      "/Volumes/ADAM LI/pydata/dnn/traindata/fragility_2d/id001_ac_sim_x0ez-1.725_x0pz-1.98_pertmodel.npz_35.npz\n",
      "using pca to grid image\n",
      "0.7255038220986796\n",
      "(1439, 70)\n",
      "(1439, 1, 32, 32)9/1439nterpolating 118/1439Interpolating 304/1439Interpolating 462/1439Interpolating 642/1439Interpolating 823/1439Interpolating 1005/1439Interpolating 1190/1439Interpolating 1374/1439\n",
      "/Volumes/ADAM LI/pydata/dnn/traindata/fragility/seegpert/id001_ac/id001_ac_sim_x0ez-1.725_x0pz-1.98_pertmodel.npz\n",
      "(70, 1439)\n",
      "[1673.0, 1732.0, 6768.0, 15007.0, 22330.0, 22749.0, 33550.0, 38368.0, 47132.0, 55601.0, 64015.0, 72004.0, 77098.0, 79270.0, 86056.0, 89528.0, 95297.0, 103429.0, 110822.0, 118030.0, 118596.0, 122130.0, 127904.0, 134175.0, 137681.0, 148665.0, 154288.0, 157729.0, 162680.0, 167789.0, 171097.0, 177284.0, 177460.0] [1673.0, 4862.0, 12383.0, 22129.0, 22330.0, 31844.0, 36657.0, 41746.0, 50830.0, 60460.0, 69471.0, 75716.0, 79055.0, 84109.0, 89042.0, 91980.0, 98636.0, 108438.0, 117514.0, 118205.0, 121639.0, 127805.0, 133730.0, 137433.0, 147490.0, 153069.0, 157560.0, 160821.0, 167273.0, 170411.0, 177151.0, 177284.0]\n",
      "\n",
      "\n",
      "\n"
     ]
    },
    {
     "name": "stdout",
     "output_type": "stream",
     "text": [
      "['delvecs', 'pertmats', 'metadata']\n",
      "dict_keys([b'x0norm', b'patient', b'samplefreq', b'seeg_contacts', b'pz', b'seeg_xyz', b'ez', b'timepoints', b'offsettimes', b'regions_centers', b'regions', b'stepsize', b'winsize', b'perturbtype', b'radius', b'x0pz', b'onsettimes', b'pzindices', b'x0ez', b'ezindices', b'simparams'])\n",
      "(70, 1439)\n",
      "(1439, 2)\n",
      "/Volumes/ADAM LI/pydata/dnn/traindata/fragility_2d/id001_ac_sim_x0ez-1.675_x0pz-2.01_pertmodel.npz_36.npz\n",
      "using pca to grid image\n",
      "0.6441973592772758\n",
      "(1439, 70)\n",
      "(1439, 1, 32, 32)9/1439nterpolating 339/1439Interpolating 515/1439Interpolating 697/1439Interpolating 877/1439Interpolating 1052/1439Interpolating 1234/1439Interpolating 1415/1439\n",
      "/Volumes/ADAM LI/pydata/dnn/traindata/fragility/seegpert/id001_ac/id001_ac_sim_x0ez-1.675_x0pz-2.01_pertmodel.npz\n",
      "(70, 1439)\n",
      "[1619.0, 6255.0, 14432.0, 19995.0, 22509.0, 29857.0, 38631.0, 43206.0, 45612.0, 54012.0, 55147.0, 60369.0, 66195.0, 69282.0, 76994.0, 83815.0, 87885.0, 95787.0, 103770.0, 103795.0, 109207.0, 119249.0, 127362.0, 136844.0, 142210.0, 150404.0, 157608.0, 158808.0, 163168.0, 167021.0, 173150.0] [1672.0, 12338.0, 19730.0, 22373.0, 27518.0, 33172.0, 42913.0, 43206.0, 53116.0, 54264.0, 58208.0, 65132.0, 68895.0, 74226.0, 82567.0, 83902.0, 93893.0, 103703.0, 103770.0, 108998.0, 113912.0, 123611.0, 135351.0, 140173.0, 145662.0, 156005.0, 157608.0, 162955.0, 166480.0, 167589.0, 177285.0]\n",
      "\n",
      "\n",
      "\n",
      "returning cuz prevoffset is nan!\n",
      "['delvecs', 'pertmats', 'metadata']\n",
      "dict_keys([b'x0norm', b'patient', b'samplefreq', b'seeg_contacts', b'pz', b'seeg_xyz', b'ez', b'timepoints', b'offsettimes', b'regions_centers', b'regions', b'stepsize', b'winsize', b'perturbtype', b'radius', b'x0pz', b'onsettimes', b'pzindices', b'x0ez', b'ezindices', b'simparams'])\n",
      "(70, 1439)\n",
      "(1439, 2)\n",
      "/Volumes/ADAM LI/pydata/dnn/traindata/fragility_2d/id001_ac_sim_x0ez-1.6_x0pz-2.03_pertmodel.npz_37.npz\n",
      "using pca to grid image\n",
      "0.7199444058373871\n",
      "(1439, 70)\n",
      "(1439, 1, 32, 32)9/1439nterpolating 127/1439Interpolating 310/1439Interpolating 493/1439Interpolating 675/1439Interpolating 838/1439Interpolating 1012/1439Interpolating 1184/1439Interpolating 1356/1439\n",
      "/Volumes/ADAM LI/pydata/dnn/traindata/fragility/seegpert/id001_ac/id001_ac_sim_x0ez-1.6_x0pz-2.03_pertmodel.npz\n",
      "(70, 1439)\n",
      "[1507.0, 5905.0, 14367.0, 20146.0, 29502.0, 33292.0, 37626.0, 44398.0, 45683.0, 52824.0, 61204.0, 74236.0, 77225.0, 83806.0, 90885.0, 94674.0, 98480.0, 102787.0, 109700.0, 113183.0, 126813.0, 132951.0, 141967.0, 142949.0, 149440.0, 155333.0, 158509.0, 163916.0, 165936.0, 175489.0] [1671.0, 12947.0, 19916.0, 27112.0, 33243.0, 35764.0, 43977.0, 44994.0, 49781.0, 56420.0, 74140.0, 76394.0, 82315.0, 89110.0, 94400.0, 98131.0, 99418.0, 108928.0, 111359.0, 121145.0, 131012.0, 140637.0, 141967.0, 147081.0, 152722.0, 158173.0, 162795.0, 163916.0, 174653.0]\n",
      "\n",
      "\n",
      "\n",
      "returning cuz prevoffset is nan!\n",
      "['delvecs', 'pertmats', 'metadata']\n",
      "dict_keys([b'x0norm', b'patient', b'samplefreq', b'seeg_contacts', b'pz', b'seeg_xyz', b'ez', b'timepoints', b'offsettimes', b'regions_centers', b'regions', b'stepsize', b'winsize', b'perturbtype', b'radius', b'x0pz', b'onsettimes', b'pzindices', b'x0ez', b'ezindices', b'simparams'])\n",
      "(70, 1439)\n",
      "(1439, 2)\n",
      "/Volumes/ADAM LI/pydata/dnn/traindata/fragility_2d/id001_ac_sim_x0ez-1.65_x0pz-2.01_pertmodel.npz_38.npz\n",
      "using pca to grid image\n",
      "0.7380125086865879\n",
      "(1439, 70)\n",
      "(1439, 1, 32, 32)9/1439nterpolating 108/1439Interpolating 276/1439Interpolating 449/1439Interpolating 624/1439Interpolating 792/1439Interpolating 976/1439Interpolating 1158/1439Interpolating 1345/1439\n",
      "/Volumes/ADAM LI/pydata/dnn/traindata/fragility/seegpert/id001_ac/id001_ac_sim_x0ez-1.65_x0pz-2.01_pertmodel.npz\n",
      "(70, 1439)\n",
      "[1576.0, 6160.0, 13762.0, 20121.0, 23111.0, 30124.0, 37787.0, 45488.0, 50920.0, 55164.0, 60003.0, 67740.0, 71208.0, 78769.0, 83111.0, 86786.0, 90804.0, 96913.0, 103324.0, 106595.0, 111554.0, 117167.0, 117305.0, 119794.0, 125277.0, 128198.0, 134539.0, 142264.0, 148465.0, 149391.0, 160137.0, 164777.0, 172566.0] [1672.0, 12338.0, 19198.0, 22377.0, 26379.0, 33200.0, 44454.0, 50702.0, 54321.0, 58947.0, 65258.0, 71059.0, 76369.0, 82426.0, 86227.0, 90542.0, 96485.0, 101245.0, 106144.0, 109498.0, 116943.0, 117167.0, 119712.0, 123112.0, 127682.0, 131563.0, 139030.0, 147818.0, 148520.0, 159443.0, 163771.0, 170297.0]\n",
      "\n",
      "\n",
      "\n",
      "['delvecs', 'pertmats', 'metadata']\n",
      "dict_keys([b'x0norm', b'patient', b'samplefreq', b'seeg_contacts', b'pz', b'seeg_xyz', b'ez', b'timepoints', b'offsettimes', b'regions_centers', b'regions', b'stepsize', b'winsize', b'perturbtype', b'radius', b'x0pz', b'onsettimes', b'pzindices', b'x0ez', b'ezindices', b'simparams'])\n",
      "(70, 1439)\n",
      "(1439, 2)\n",
      "/Volumes/ADAM LI/pydata/dnn/traindata/fragility_2d/id001_ac_sim_x0ez-1.775_x0pz-2.04_pertmodel.npz_39.npz\n",
      "using pca to grid image\n",
      "0.7129951355107713\n",
      "(1439, 70)\n",
      "(1439, 1, 32, 32)9/1439nterpolating 149/1439Interpolating 331/1439Interpolating 515/1439Interpolating 685/1439Interpolating 867/1439Interpolating 1047/1439Interpolating 1224/1439Interpolating 1400/1439\n",
      "/Volumes/ADAM LI/pydata/dnn/traindata/fragility/seegpert/id001_ac/id001_ac_sim_x0ez-1.775_x0pz-2.04_pertmodel.npz\n",
      "(70, 1439)\n",
      "[1671.0, 1888.0, 7033.0, 15271.0, 21569.0, 22649.0, 31684.0, 33340.0, 40187.0, 48478.0, 55725.0, 63945.0, 73687.0, 78924.0, 88277.0, 94645.0, 97416.0, 104637.0, 107179.0, 112490.0, 120484.0, 124174.0, 132849.0, 136828.0, 144589.0, 149073.0, 153265.0, 157492.0, 166229.0, 173100.0] [1671.0, 4927.0, 14105.0, 21242.0, 22378.0, 29243.0, 33234.0, 37305.0, 47105.0, 53342.0, 60470.0, 70304.0, 78480.0, 83936.0, 94371.0, 94645.0, 102121.0, 106180.0, 110574.0, 118426.0, 123570.0, 130901.0, 136074.0, 141622.0, 147544.0, 153049.0, 156019.0, 166167.0, 170907.0, 177287.0]\n",
      "\n",
      "\n",
      "\n"
     ]
    }
   ],
   "source": [
    "for idx, datafile in enumerate(datafiles):\n",
    "    filename = path_leaf(datafile)\n",
    "    rawdatafile = os.path.join(datadir, patient, path_leaf(datafiles[idx]).split('_pertmodel.npz')[0]+'.npz')\n",
    "    \n",
    "    # load in the raw data and zts\n",
    "    data = np.load(rawdatafile, encoding='bytes')\n",
    "    metadata = data['metadata'].item()\n",
    "    zts = data['zts']\n",
    "    \n",
    "#     print(rawdatafile)\n",
    "#     print(filename)\n",
    "#     print(metadata.keys())\n",
    "    # Extract location coordinates\n",
    "    locations = metadata[b'seeg_xyz']\n",
    "    try:\n",
    "        patient_id = metadata[b'patient'].decode(\"utf-8\") \n",
    "    except:\n",
    "        patient = '_'.join(filename.split('_')[0:2])\n",
    "    ezindices = metadata[b'ezindices']\n",
    "    pzindices = metadata[b'pzindices']\n",
    "    seeg_contacts = metadata[b'seeg_contacts']\n",
    "\n",
    "    # get the actual seizure times and offsets\n",
    "    allindices = np.append(ezindices.ravel(), pzindices.ravel(), axis=0)\n",
    "    settimes = postprocessor.getonsetsoffsets(zts, \n",
    "                allindices, delta=0.2/5)\n",
    "    seizonsets, seizoffsets = postprocessor.getseiztimes(settimes)\n",
    "    \n",
    "    # load results data\n",
    "    data = np.load(datafile, encoding='bytes')\n",
    "    metadata = data['metadata'].item()\n",
    "    fragmat = fragilitymodel.compute_fragilitymetric(data['pertmats'])\n",
    "    print(data.keys())\n",
    "    print(metadata.keys())\n",
    "    print(fragmat.shape)\n",
    "    \n",
    "    # load time points, fragility\n",
    "    timepoints = _gettimepoints(zts.shape[1], winsize, stepsize)\n",
    "    print(timepoints.shape)\n",
    "    \n",
    "    filename = os.path.join(trainimagedir, \n",
    "             filename+'_'+str(idx)+'.npz')\n",
    "    print(filename)\n",
    "    \n",
    "    ###################### PERFORM IMAGE MESHING ######################\n",
    "    print(\"using pca to grid image\")\n",
    "    new_locs = pca.fit_transform(locations)\n",
    "#     print(seizonsets)\n",
    "#     print(seizoffsets)\n",
    "    ylabels = datahandler.computelabels(seizonsets,seizoffsets, timepoints)\n",
    "    print(np.sum(ylabels)/len(ylabels))\n",
    "    \n",
    "    if len(seizonsets) <= 1 and seizonsets[0] == np.nan:\n",
    "        print(\"skipping \", datafile)\n",
    "    else:\n",
    "        # Tensor of size [samples, freqbands, W, H] containing generated images.\n",
    "        image_tensor = datahandler.gen_images(new_locs, fragmat[:,np.newaxis,:], \n",
    "                                n_gridpoints=32, normalize=False, augment=False, \n",
    "                                pca=False, std_mult=0.1, edgeless=False)\n",
    "    print(image_tensor.shape)\n",
    "\n",
    "    # instantiate metadata hash table\n",
    "    metadata = dict()\n",
    "    metadata['seeg_contacts'] = seeg_contacts\n",
    "    metadata['new_locs'] = new_locs\n",
    "    metadata['ylabels'] = ylabels\n",
    "    \n",
    "    imagefilename = os.path.join(trainimagedir, filename.split('.npz')[0]+'.npz')\n",
    "    # save image and meta data\n",
    "    np.savez(imagefilename, image_tensor=image_tensor, metadata=metadata)\n",
    "\n",
    "    print(datafile)\n",
    "    print(fragmat.shape)\n",
    "    print(seizonsets, seizoffsets)\n",
    "    print('\\n\\n')\n",
    "#     break"
   ]
  },
  {
   "cell_type": "code",
   "execution_count": 73,
   "metadata": {},
   "outputs": [
    {
     "name": "stdout",
     "output_type": "stream",
     "text": [
      "/Volumes/ADAM LI/pydata/dnn/traindata/fragility_2d/id001_ac_sim_x0ez-1.675_x0pz-2.04_pertmodel.npz\n"
     ]
    }
   ],
   "source": [
    "imagefilename = os.path.join(trainimagedir, filename.split('.npz')[0]+'.npz')\n",
    "print(imagefilename)"
   ]
  },
  {
   "cell_type": "code",
   "execution_count": 55,
   "metadata": {},
   "outputs": [
    {
     "name": "stdout",
     "output_type": "stream",
     "text": [
      "Baseline testing prediction of all seizure:  0.6275191104933981\n",
      "Baseline testing prediction of all not seizure:  0.3724808895066018\n"
     ]
    },
    {
     "data": {
      "text/plain": [
       "<matplotlib.axes._subplots.AxesSubplot at 0x11afccb00>"
      ]
     },
     "execution_count": 55,
     "metadata": {},
     "output_type": "execute_result"
    },
    {
     "data": {
      "image/png": "[encoded data removed]",
      "text/plain": [
       "<matplotlib.figure.Figure at 0x11b138c18>"
      ]
     },
     "metadata": {},
     "output_type": "display_data"
    }
   ],
   "source": [
    "print(\"Baseline testing prediction of all seizure: \", np.sum(ylabels)/len(ylabels))\n",
    "print(\"Baseline testing prediction of all not seizure: \", (len(ylabels)-np.sum(ylabels))/len(ylabels))\n",
    "\n",
    "sns.distplot(ylabels, kde=False)\n",
    "\n",
    "# fig = plt.figure()\n",
    "# for i in range(len(seizonsets)):\n",
    "#     xr = seizonsets[i], seizoffsets[i]\n",
    "#     yr = y=i, i\n",
    "# #     plt.plot(x=xr, y=yr)\n",
    "#     plt.axvline(seizonsets[i], color='red')\n",
    "#     plt.axvline(seizoffsets[i], color='black')\n",
    "# plt.show()"
   ]
  },
  {
   "cell_type": "code",
   "execution_count": 85,
   "metadata": {},
   "outputs": [
    {
     "name": "stdout",
     "output_type": "stream",
     "text": [
      "(1439, 1, 32, 32)\n",
      "1671.0 1671.0\n",
      "(57560, 1)\n",
      "7\n",
      "55\n"
     ]
    },
    {
     "data": {
      "image/png": "[encoded data removed]",
      "text/plain": [
       "<matplotlib.figure.Figure at 0x11ae60978>"
      ]
     },
     "metadata": {},
     "output_type": "display_data"
    }
   ],
   "source": [
    "print(image_tensor.shape)\n",
    "plt.figure(figsize=(7,9))\n",
    "plt.subplot(211)\n",
    "sns.heatmap(image_tensor[5,...].squeeze(), cmap='jet', cbar_kws={'label': 'normalized fragility metric'})\n",
    "plt.title('Fragility 2D Mesh Grid Image (Non-Seizure)')\n",
    "ax = plt.gca()\n",
    "ax.set_xticks([])\n",
    "ax.set_yticks([])\n",
    "ax.set_ylabel('Height (32 Points)')\n",
    "ax.set_xlabel('Width (32 Points)')\n",
    "\n",
    "plt.subplot(212)\n",
    "sns.heatmap(image_tensor[12,...].squeeze(), cmap='jet', cbar_kws={'label': 'normalized fragility metric'})\n",
    "plt.title('Fragility 2D Mesh Grid Image (Seizure)')\n",
    "ax = plt.gca()\n",
    "ax.set_xticks([])\n",
    "ax.set_yticks([])\n",
    "ax.set_ylabel('Height (32 Points)')\n",
    "ax.set_xlabel('Width (32 Points)')\n",
    "\n",
    "print(seizonsets[0], seizoffsets[0])\n",
    "print(ylabels.shape)\n",
    "print(np.where(ylabels==0)[0][7])\n",
    "print(np.where(ylabels==1)[0][7])"
   ]
  },
  {
   "cell_type": "code",
   "execution_count": 37,
   "metadata": {},
   "outputs": [
    {
     "name": "stdout",
     "output_type": "stream",
     "text": [
      "0.0 255.0\n"
     ]
    }
   ],
   "source": [
    "sns.heatmap(fragmat_2d, cmap='jet')\n",
    "plt.colorbar()\n",
    "plt.show()\n",
    "\n",
    "img = Image.fromarray(data, 'RGB')\n",
    "img.save('test.png')\n",
    "\n",
    "w, h = 512, 512\n",
    "data = np.random.rand(h, w, 3)\n",
    "data[256, 256] = [255, 0, 0]\n",
    "# img = Image.fromarray(data, 'RGB')\n",
    "\n",
    "# data = np.divide(data, 255.)\n",
    "print(np.min(data.ravel()), np.max(data.ravel())) \n",
    "img = Image.fromarray(data, 'RGB')\n",
    "img.save('test.png')\n",
    "\n",
    "img = Image.open('test.png')\n",
    "print(img.size)\n",
    "plt.imshow(img)"
   ]
  },
  {
   "cell_type": "markdown",
   "metadata": {
    "collapsed": true
   },
   "source": [
    "# Concatenate All 2D Images Into 1 Large Dataset"
   ]
  },
  {
   "cell_type": "code",
   "execution_count": 76,
   "metadata": {},
   "outputs": [
    {
     "name": "stdout",
     "output_type": "stream",
     "text": [
      "Train data dir is:  /Volumes/ADAM LI/pydata/tvbforwardsim/traindata\n",
      "In traindatadir there are this many training files:  40\n"
     ]
    }
   ],
   "source": [
    "# Get ALL datafiles from all downstream files\n",
    "trainfiles = []\n",
    "for root, dirs, files in os.walk(trainimagedir):\n",
    "    for file in files:\n",
    "        trainfiles.append(os.path.join(root, file))\n",
    "print(\"Train data dir is: \", datadir)\n",
    "print(\"In traindatadir there are this many training files: \", len(trainfiles))"
   ]
  },
  {
   "cell_type": "code",
   "execution_count": 77,
   "metadata": {},
   "outputs": [
    {
     "name": "stdout",
     "output_type": "stream",
     "text": [
      "/Volumes/ADAM LI/pydata/dnn/traindata/fragility/fragility_2d/id001_ac_sim_x0ez-1.675_x0pz-2.04_pertmodel.npz\n",
      "(1439, 1, 32, 32)\n",
      "dict_keys(['seeg_contacts', 'new_locs', 'ylabels'])\n"
     ]
    }
   ],
   "source": [
    "for idx, datafile in enumerate(trainfiles):\n",
    "    data = np.load(datafile)\n",
    "    imagetensor = data['image_tensor']\n",
    "    metadata = data['metadata'].item()\n",
    "    labels = metadata['ylabels']\n",
    "    \n",
    "    if idx == 0:\n",
    "        ylabels = labels\n",
    "        alltensors = imagetensor.reshape((imagetensor.shape[0], -1))\n",
    "        print(datafile)\n",
    "        print(imagetensor.shape)\n",
    "        print(metadata.keys())\n",
    "    else:\n",
    "        alltensors = np.concatenate((alltensors, imagetensor.reshape((imagetensor.shape[0], -1))), axis=0)\n",
    "        ylabels = np.concatenate((ylabels, metadata['ylabels']),axis=0)  "
   ]
  },
  {
   "cell_type": "code",
   "execution_count": 115,
   "metadata": {},
   "outputs": [
    {
     "name": "stdout",
     "output_type": "stream",
     "text": [
      "0.47153163200000003\n",
      "(57560, 1024)\n",
      "(4943, 1)\n"
     ]
    }
   ],
   "source": [
    "print(sys.getsizeof(alltensors) * 1.0e-9) \n",
    "print(alltensors.shape)\n",
    "print(ylabels.shape)\n",
    "\n",
    "filename = os.path.join(trainimagedir, 'allimages_fragility2d.npz')\n",
    "# np.savez_compressed(filename, images=alltensors, labels=ylabels)"
   ]
  },
  {
   "cell_type": "code",
   "execution_count": 118,
   "metadata": {
    "collapsed": true
   },
   "outputs": [],
   "source": [
    "data = np.load(filename)\n",
    "ylabels = data['labels']"
   ]
  },
  {
   "cell_type": "code",
   "execution_count": 119,
   "metadata": {},
   "outputs": [
    {
     "name": "stdout",
     "output_type": "stream",
     "text": [
      "Baseline testing prediction of all seizure:  0.6854586518415566\n",
      "Baseline testing prediction of all not seizure:  0.31454134815844337\n"
     ]
    },
    {
     "data": {
      "text/plain": [
       "<matplotlib.legend.Legend at 0x118bb5a90>"
      ]
     },
     "execution_count": 119,
     "metadata": {},
     "output_type": "execute_result"
    },
    {
     "data": {
      "image/png": "[encoded data removed]",
      "text/plain": [
       "<matplotlib.figure.Figure at 0x118b244e0>"
      ]
     },
     "metadata": {},
     "output_type": "display_data"
    }
   ],
   "source": [
    "print(\"Baseline testing prediction of all seizure: \", np.sum(ylabels)/len(ylabels))\n",
    "print(\"Baseline testing prediction of all not seizure: \", (len(ylabels)-np.sum(ylabels))/len(ylabels))\n",
    "\n",
    "sns.distplot(ylabels, kde=False, axlabel='Seizure or Not', label='Testing Dataset')\n",
    "ax=plt.gca()\n",
    "ax.set_title('Training Data Distribution')\n",
    "ax.set_xticks([0,1])\n",
    "ax.set_xticklabels(['Normal', 'Seizure'])\n",
    "ax.legend()"
   ]
  },
  {
   "cell_type": "code",
   "execution_count": 83,
   "metadata": {},
   "outputs": [
    {
     "name": "stdout",
     "output_type": "stream",
     "text": [
      "21350.0\n",
      "18105.0\n"
     ]
    }
   ],
   "source": [
    "print(np.sum(ylabels) - (len(ylabels) - np.sum(ylabels)))\n",
    "print(len(ylabels) - np.sum(ylabels))\n"
   ]
  },
  {
   "cell_type": "code",
   "execution_count": 112,
   "metadata": {},
   "outputs": [
    {
     "data": {
      "text/plain": [
       "<matplotlib.axes._subplots.AxesSubplot at 0x114d02fd0>"
      ]
     },
     "execution_count": 112,
     "metadata": {},
     "output_type": "execute_result"
    },
    {
     "data": {
      "image/png": "[encoded data removed]",
      "text/plain": [
       "<matplotlib.figure.Figure at 0x114d17208>"
      ]
     },
     "metadata": {},
     "output_type": "display_data"
    }
   ],
   "source": [
    "sns.heatmap(fragmat[:,0:70], cmap='jet')"
   ]
  },
  {
   "cell_type": "markdown",
   "metadata": {},
   "source": [
    "# Convert Real Data Into Image"
   ]
  },
  {
   "cell_type": "code",
   "execution_count": 6,
   "metadata": {},
   "outputs": [
    {
     "name": "stderr",
     "output_type": "stream",
     "text": [
      "INFO:datainterface.patient:Initialized Patient IEEG object. Should run channels, metadata and annotations next!\n",
      "INFO:datainterface.patient:Ran setup of meta data!\n",
      "INFO:datainterface.patient:Ran setup of channels data!\n",
      "INFO:datainterface.patient:Ran setup of annotations data!\n"
     ]
    }
   ],
   "source": [
    "patient = 'id001_ac_sz2'\n",
    "patient = 'id013_pg_sz1'\n",
    "patid = patient[0:patient.find('sz')-1]\n",
    "seizid = patient[patient.find('sz'):]\n",
    "\n",
    "datadir = '/Volumes/ADAM LI/pydata/convertedtng'\n",
    "\n",
    "chanfile =  os.path.join(datadir,  patient, patient + '_chans.csv')\n",
    "headerfile = os.path.join(datadir,  patient, patient + '_headers.csv')\n",
    "annotationsfile = os.path.join(datadir,  patient, patient + '_annotations.csv')\n",
    "\n",
    "################################ 1. LOAD DATA ###########################\n",
    "# instantiate a datainterface object to analyze data\n",
    "patieeg = Pat.PatientIEEG(patient, clinoutcome=None, engelscore=None, logfile=None)\n",
    "# get relevant channel data\n",
    "included_chans, onsetchans, clinresult = fragility.util.utils.returnindices(patid, seizid)\n",
    "\n",
    "# set metadata to be used in analysis\n",
    "patieeg.setincludedchans(included_chans)\n",
    "patieeg.setmetadata_fromfile(headersfile=headerfile)\n",
    "patieeg.setchannels_fromfile(channelsfile=chanfile)\n",
    "patieeg.setannotations_fromfile(annotationsfile=annotationsfile)"
   ]
  },
  {
   "cell_type": "code",
   "execution_count": 16,
   "metadata": {},
   "outputs": [
    {
     "name": "stdout",
     "output_type": "stream",
     "text": [
      "Index(['TB1', 'TB2', 'TB3', 'TB4', 'TB5', 'TB6', 'TB7', 'TB8', 'TB9', 'A1',\n",
      "       'A2', 'A3', 'A4', 'A5', 'A6', 'B1', 'B4', 'B5', 'B6', 'B7', 'B9', 'B10',\n",
      "       'B11', 'OT1', 'OT2', 'OT3', 'OT4', 'OT5', 'OT6', 'OT7', 'OT8', 'OT9',\n",
      "       'C1', 'C2', 'C3', 'C4', 'C5', 'C6', 'PI1', 'PI2', 'PI3', 'PI4', 'PI5',\n",
      "       'PI6', 'PI7', 'PI8', 'PI9', 'OP1', 'OP2', 'OP3', 'OP4', 'OP5', 'OP6',\n",
      "       'OP7', 'OP8', 'OP9'],\n",
      "      dtype='object')\n",
      "(56,)\n",
      "(56, 3)\n"
     ]
    }
   ],
   "source": [
    "metadatadir = os.path.join('/Volumes/ADAM LI/pydata/metadata/', patid)    \n",
    "# or get labels from seeg metadata\n",
    "# read in seeg file\n",
    "seeg = pd.read_csv(os.path.join(metadatadir, \"seeg.txt\"), \n",
    "                   names=['x', 'y', 'z'], \n",
    "                   delim_whitespace=True)\n",
    "seeg_labels = seeg.index\n",
    "seeg_xyz = seeg.as_matrix()\n",
    "locations = seeg_xyz\n",
    "seeg_contacts = list(seeg_labels)\n",
    "\n",
    "if 'id013' in patient:\n",
    "    # remove these chanlabels from i013_pg\n",
    "    removeset = ['A15', 'B2', 'B3', 'B8', 'C9', 'C10', 'OP10']\n",
    "    # removeset = []\n",
    "    chaninds = [i for i,chan in enumerate(seeg_labels) \\\n",
    "            if chan not in removeset]\n",
    "#     print(seeg_contacts[chaninds])\n",
    "    print(seeg_labels[chaninds])\n",
    "    print(seeg_labels[chaninds].shape)\n",
    "    seeg_labels = seeg_labels[chaninds]\n",
    "    locations = locations[chaninds,:]\n",
    "    print(locations.shape)"
   ]
  },
  {
   "cell_type": "code",
   "execution_count": 24,
   "metadata": {},
   "outputs": [
    {
     "name": "stderr",
     "output_type": "stream",
     "text": [
      "/Users/adam2392/Documents/fragility_analysis/fragility/linearmodels/fragilitymodels.py:426: RuntimeWarning: invalid value encountered in true_divide\n",
      "  np.max(minnormpertmat[:, icol])\n"
     ]
    },
    {
     "name": "stdout",
     "output_type": "stream",
     "text": [
      "fragility mat shape is:  (56, 2467)\n",
      "timepoints shape is:  (2467, 2)\n",
      "using pca to grid image\n",
      "0.4746655857316579\n",
      "(2467, 56)\n",
      "(2467, 1, 32, 32)7/2467nterpolating 308/2467Interpolating 438/2467Interpolating 607/2467Interpolating 789/2467Interpolating 952/2467Interpolating 1120/2467Interpolating 1298/2467Interpolating 1446/2467Interpolating 1621/2467Interpolating 1776/2467Interpolating 1936/2467Interpolating 2097/2467Interpolating 2250/2467Interpolating 2426/2467\n",
      "(2467, 1)\n"
     ]
    }
   ],
   "source": [
    "testfile = '/Volumes/ADAM LI/pydata/dnn/testdata/fragility/pert/' + patient + '/'\\\n",
    " + patient + 'pertmodel.npz'\n",
    "data = np.load(testfile, encoding='bytes')\n",
    "seizonsets = [patieeg.onset_time]\n",
    "seizoffsets = [patieeg.offset_time]\n",
    "\n",
    "# load results data\n",
    "metadata = data['metadata'].item()\n",
    "fragmat = fragilitymodel.compute_fragilitymetric(data['pertmats'])\n",
    "# load time points, fragility\n",
    "timepoints = data['timepoints']\n",
    "\n",
    "# for id001_ac throw out first window\n",
    "fragmat = fragmat[:,1:]\n",
    "timepoints = timepoints[1:,:]\n",
    "\n",
    "# print(data.keys())\n",
    "# print(metadata.keys())\n",
    "print(\"fragility mat shape is: \", fragmat.shape)\n",
    "print(\"timepoints shape is: \", timepoints.shape)\n",
    "\n",
    "###################### PERFORM IMAGE MESHING ######################\n",
    "print(\"using pca to grid image\")\n",
    "new_locs = pca.fit_transform(locations)\n",
    "#     print(seizonsets)\n",
    "#     print(seizoffsets)\n",
    "ylabels = datahandler.computelabels(np.multiply(seizonsets,500),np.multiply(seizoffsets,500), timepoints)\n",
    "# ylabels = ylabels[1:]\n",
    "print(np.sum(ylabels)/len(ylabels))\n",
    "\n",
    "if len(seizonsets) <= 1 and seizonsets[0] == np.nan:\n",
    "    print(\"skipping \", datafile)\n",
    "else:\n",
    "    # Tensor of size [samples, freqbands, W, H] containing generated images.\n",
    "    image_tensor = datahandler.gen_images(new_locs, fragmat[:,np.newaxis,:], \n",
    "                            n_gridpoints=32, normalize=False, augment=False, \n",
    "                            pca=False, std_mult=0.1, edgeless=False)\n",
    "print(image_tensor.shape)\n",
    "print(ylabels.shape)\n"
   ]
  },
  {
   "cell_type": "code",
   "execution_count": 25,
   "metadata": {},
   "outputs": [
    {
     "name": "stdout",
     "output_type": "stream",
     "text": [
      "/Users/adam2392/Downloads/id013_pg_sz1_testimages.npz\n",
      "(56, 2467)\n",
      "[83.09375] [228.375]\n",
      "\n",
      "\n",
      "\n"
     ]
    }
   ],
   "source": [
    "# instantiate metadata hash table\n",
    "metadata = dict()\n",
    "metadata['seeg_contacts'] = seeg_contacts\n",
    "metadata['new_locs'] = new_locs\n",
    "metadata['ylabels'] = ylabels\n",
    "\n",
    "imagefilename = os.path.join('/Users/adam2392/Downloads/', patient+'_testimages.npz')\n",
    "# save image and meta data\n",
    "np.savez(imagefilename, image_tensor=image_tensor, metadata=metadata)\n",
    "\n",
    "print(imagefilename)\n",
    "print(fragmat.shape)\n",
    "print(seizonsets, seizoffsets)\n",
    "print('\\n\\n')"
   ]
  },
  {
   "cell_type": "code",
   "execution_count": 29,
   "metadata": {
    "collapsed": true
   },
   "outputs": [
    {
     "data": {
      "text/plain": [
       "<matplotlib.axes._subplots.AxesSubplot at 0x1057c76a0>"
      ]
     },
     "execution_count": 29,
     "metadata": {},
     "output_type": "execute_result"
    },
    {
     "data": {
      "image/png": "[encoded data removed]",
      "text/plain": [
       "<matplotlib.figure.Figure at 0x1057b2748>"
      ]
     },
     "metadata": {},
     "output_type": "display_data"
    }
   ],
   "source": [
    "plt.figure(figsize=(10,10))\n",
    "sns.heatmap(fragmat, cmap='jet')"
   ]
  },
  {
   "cell_type": "code",
   "execution_count": 28,
   "metadata": {},
   "outputs": [
    {
     "name": "stdout",
     "output_type": "stream",
     "text": [
      "(2467, 1, 32, 32)\n",
      "83.09375 228.375\n",
      "(2467, 1)\n",
      "[   0    1    2 ... 2464 2465 2466]\n",
      "[ 668  669  670 ... 1836 1837 1838]\n"
     ]
    },
    {
     "data": {
      "image/png": "[encoded data removed]",
      "text/plain": [
       "<matplotlib.figure.Figure at 0x11ae1e630>"
      ]
     },
     "metadata": {},
     "output_type": "display_data"
    }
   ],
   "source": [
    "print(image_tensor.shape)\n",
    "plt.figure(figsize=(7,9))\n",
    "plt.subplot(211)\n",
    "sns.heatmap(image_tensor[300,...].squeeze(), cmap='jet', cbar_kws={'label': 'normalized fragility metric'})\n",
    "plt.title('Fragility 2D Mesh Grid Image (Non-Seizure)')\n",
    "ax = plt.gca()\n",
    "ax.set_xticks([])\n",
    "ax.set_yticks([])\n",
    "ax.set_ylabel('Height (32 Points)')\n",
    "ax.set_xlabel('Width (32 Points)')\n",
    "\n",
    "plt.subplot(212)\n",
    "sns.heatmap(image_tensor[700,...].squeeze(), cmap='jet', cbar_kws={'label': 'normalized fragility metric'})\n",
    "plt.title('Fragility 2D Mesh Grid Image (Seizure)')\n",
    "ax = plt.gca()\n",
    "ax.set_xticks([])\n",
    "ax.set_yticks([])\n",
    "ax.set_ylabel('Height (32 Points)')\n",
    "ax.set_xlabel('Width (32 Points)')\n",
    "\n",
    "print(seizonsets[0], seizoffsets[0])\n",
    "print(ylabels.shape)\n",
    "print(np.where(ylabels==0)[0])\n",
    "print(np.where(ylabels==1)[0])"
   ]
  },
  {
   "cell_type": "code",
   "execution_count": 37,
   "metadata": {},
   "outputs": [
    {
     "name": "stdout",
     "output_type": "stream",
     "text": [
      "[171.7539062] [532.7539062]\n",
      "171\n"
     ]
    }
   ],
   "source": [
    "print(seizonsets, seizoffsets)\n",
    "\n",
    "print(2*60+51)"
   ]
  },
  {
   "cell_type": "code",
   "execution_count": 22,
   "metadata": {},
   "outputs": [
    {
     "name": "stdout",
     "output_type": "stream",
     "text": [
      "[[ 62 186]\n",
      " [124 248]\n",
      " [186 310]\n",
      " [248 372]\n",
      " [310 434]]\n"
     ]
    }
   ],
   "source": [
    "print(timepoints[0:5,:])"
   ]
  },
  {
   "cell_type": "code",
   "execution_count": 23,
   "metadata": {},
   "outputs": [
    {
     "name": "stdout",
     "output_type": "stream",
     "text": [
      "0.4748580697485807\n",
      "(2466, 1)\n",
      "[   0    1    2 ... 2463 2464 2465]\n",
      "[ 667  668  669 ... 1835 1836 1837]\n"
     ]
    }
   ],
   "source": [
    "#     print(seizoffsets)\n",
    "ylabels = datahandler.computelabels(np.multiply(seizonsets,500),np.multiply(seizoffsets,500), timepoints)\n",
    "ylabels = ylabels[1:]\n",
    "print(np.sum(ylabels)/len(ylabels))\n",
    "print(ylabels.shape)\n",
    "print(np.where(ylabels==0)[0])\n",
    "print(np.where(ylabels==1)[0])"
   ]
  },
  {
   "cell_type": "code",
   "execution_count": 22,
   "metadata": {},
   "outputs": [
    {
     "name": "stdout",
     "output_type": "stream",
     "text": [
      "[41546.875]\n",
      "[114187.5]\n"
     ]
    }
   ],
   "source": [
    "print(np.multiply(seizonsets,500))\n",
    "print(np.multiply(seizoffsets,500))"
   ]
  },
  {
   "cell_type": "code",
   "execution_count": 41,
   "metadata": {},
   "outputs": [
    {
     "name": "stdout",
     "output_type": "stream",
     "text": [
      "[[    62    186]\n",
      " [   124    248]\n",
      " [   186    310]\n",
      " ...\n",
      " [306404 306528]\n",
      " [306466 306590]\n",
      " [306528 306652]]\n",
      "613.376\n",
      "10.216666666666667\n"
     ]
    }
   ],
   "source": [
    "print(timepoints)\n",
    "print(306688/500)\n",
    "print(613/60)"
   ]
  },
  {
   "cell_type": "code",
   "execution_count": null,
   "metadata": {
    "collapsed": true
   },
   "outputs": [],
   "source": [
    "numsignals = raw\n",
    "gettimepoints(self, numsignals, numwinsamps, numstepsamps):\n",
    "        # create array of indices of window start times\n",
    "        timestarts = np.arange(0, numsignals-numwinsamps+1, numstepsamps)\n",
    "        # create array of indices of window end times\n",
    "        timeends = np.arange(numwinsamps-1, numsignals, numstepsamps)\n",
    "        # create the timepoints array for entire data array\n",
    "        timepoints = np.append(timestarts.reshape(len(timestarts), 1), timeends.reshape(len(timestarts), 1), axis=1)\n",
    "        return timepoints"
   ]
  }
 ],
 "metadata": {
  "kernelspec": {
   "display_name": "dnn",
   "language": "python",
   "name": "dnn"
  },
  "language_info": {
   "codemirror_mode": {
    "name": "ipython",
    "version": 3
   },
   "file_extension": ".py",
   "mimetype": "text/x-python",
   "name": "python",
   "nbconvert_exporter": "python",
   "pygments_lexer": "ipython3",
   "version": "3.6.3"
  }
 },
 "nbformat": 4,
 "nbformat_minor": 2
}
