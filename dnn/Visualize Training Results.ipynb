{
 "cells": [
  {
   "cell_type": "code",
   "execution_count": 1,
   "metadata": {},
   "outputs": [
    {
     "name": "stderr",
     "output_type": "stream",
     "text": [
      "/Users/adam2392/Documents/dnn-unsupervised/.venv/lib/python3.6/site-packages/h5py/__init__.py:36: FutureWarning: Conversion of the second argument of issubdtype from `float` to `np.floating` is deprecated. In future, it will be treated as `np.float64 == np.dtype(float).type`.\n",
      "  from ._conv import register_converters as _register_converters\n",
      "Using TensorFlow backend.\n",
      "/Users/adam2392/Documents/dnn-unsupervised/.venv/lib/python3.6/importlib/_bootstrap.py:219: RuntimeWarning: compiletime version 3.5 of module 'tensorflow.python.framework.fast_tensor_util' does not match runtime version 3.6\n",
      "  return f(*args, **kwds)\n"
     ]
    }
   ],
   "source": [
    "import sys\n",
    "sys.path.append('../')\n",
    "sys.path.append('/Users/adam2392/Documents/fragility_analysis/')\n",
    "import fragility.util.utils as futil\n",
    "import datainterface.patient as Pat\n",
    "# from fragility.signalprocessing import frequencyanalysis\n",
    "\n",
    "import os\n",
    "import time\n",
    "import pickle\n",
    "\n",
    "import numpy as np\n",
    "import pandas as pd\n",
    "import scipy\n",
    "import scipy.io\n",
    "\n",
    "import processing.util as util\n",
    "import processing.frequencytransform as ft\n",
    "import peakdetect\n",
    "import processing.preprocessfft as preprocess\n",
    "\n",
    "# sys.path.append('/Users/adam2392/Documents/tvb/')\n",
    "# sys.path.append('/Users/adam2392/Documents/tvb/_tvbdata/')\n",
    "# sys.path.append('/Users/adam2392/Documents/tvb/_tvblibrary/')\n",
    "# from tvb.simulator.lab import *\n",
    "# import tvbsim.util\n",
    "\n",
    "from natsort import natsorted\n",
    "import ntpath\n",
    "from sklearn.decomposition import PCA\n",
    "\n",
    "import keras\n",
    "\n",
    "import seaborn as sns\n",
    "import matplotlib\n",
    "import matplotlib.pyplot as plt\n",
    "\n",
    "%load_ext autoreload\n",
    "%autoreload 2"
   ]
  },
  {
   "cell_type": "code",
   "execution_count": 2,
   "metadata": {
    "collapsed": true
   },
   "outputs": [],
   "source": [
    "def path_leaf(path):\n",
    "    head, tail = ntpath.split(path)\n",
    "    return tail or ntpath.basename(head)\n",
    "\n",
    "def _gettimepoints(numsignals, numwinsamps, numstepsamps):\n",
    "    # create array of indices of window start times\n",
    "    timestarts = np.arange(0, numsignals-numwinsamps+1, numstepsamps)\n",
    "    # create array of indices of window end times\n",
    "    timeends = np.arange(numwinsamps-1, numsignals, numstepsamps)\n",
    "    # create the timepoints array for entire data array\n",
    "    timepoints = np.append(timestarts.reshape(len(timestarts), 1), timeends.reshape(len(timestarts), 1), axis=1)\n",
    "    return timepoints"
   ]
  },
  {
   "cell_type": "code",
   "execution_count": 7,
   "metadata": {},
   "outputs": [
    {
     "name": "stdout",
     "output_type": "stream",
     "text": [
      "Train data dir is:  /Volumes/ADAM LI/pydata/dnn/cnn\n",
      "In traindatadir there are this many training files:  237\n",
      "Data dir is:  /Volumes/ADAM LI/pydata/dnn/cnn\n",
      "In datadir there are this many training files:  253\n",
      "\n",
      "\n",
      " ['/Volumes/ADAM LI/pydata/dnn/cnn/_temp/weights-improvement-02-0.94.hdf5', '/Volumes/ADAM LI/pydata/dnn/cnn/_temp/weights-improvement-109.h5', '/Volumes/ADAM LI/pydata/dnn/cnn/_temp/weights-improvement-158.h5', '/Volumes/ADAM LI/pydata/dnn/cnn/_temp/weights-improvement-31.h5', '/Volumes/ADAM LI/pydata/dnn/cnn/_temp/weights-improvement-60.h5']\n"
     ]
    }
   ],
   "source": [
    "expname = 'cnn'\n",
    "\n",
    "# dirs for the training data from the model \n",
    "datadir = os.path.join('/Volumes/ADAM LI/pydata/dnn/', expname)\n",
    "tempdir = os.path.join(datadir, '_temp')\n",
    "finaldir = os.path.join(datadir, '_final')\n",
    "finalhistfile = os.path.join(finaldir, 'finalhistory')\n",
    "\n",
    "# the original raw data dir\n",
    "metadatadir = '/Volumes/ADAM LI/pydata/metadata/'    \n",
    "fftdir = os.path.join('/Volumes/ADAM LI/pydata/dnn/traindata/fft/', expname)\n",
    "\n",
    "# the training data dir\n",
    "traindatadir = '/Volumes/ADAM LI/pydata/dnn/traindata/image_2d/'\n",
    "# Get ALL datafiles from all downstream files\n",
    "trainfiles = []\n",
    "for root, dirs, files in os.walk(traindatadir):\n",
    "    for file in files:\n",
    "        trainfiles.append(os.path.join(root, file))\n",
    "print(\"Train data dir is: \", datadir)\n",
    "print(\"In traindatadir there are this many training files: \", len(trainfiles))\n",
    "\n",
    "\n",
    "# Get ALL datafiles from all downstream files\n",
    "datafiles = []\n",
    "for root, dirs, files in os.walk(datadir):\n",
    "    for file in files:\n",
    "        datafiles.append(os.path.join(root, file))\n",
    "print(\"Data dir is: \", datadir)\n",
    "print(\"In datadir there are this many training files: \", len(datafiles))\n",
    "# print(datafiles[50:])\n",
    "# print(datafiles)\n",
    "print(\"\\n\\n\", datafiles[0:5])"
   ]
  },
  {
   "cell_type": "markdown",
   "metadata": {},
   "source": [
    "# Test How Much Data Can Fit Into Memory\n",
    "\n",
    "Load in the data and concatenate to get examples."
   ]
  },
  {
   "cell_type": "code",
   "execution_count": 8,
   "metadata": {},
   "outputs": [
    {
     "name": "stdout",
     "output_type": "stream",
     "text": [
      "/Volumes/ADAM LI/pydata/dnn/traindata/image_2d/allregions_moved/id001_ac_nez1_npz1_0.npz\n",
      "(239, 4, 32, 32)\n",
      "dict_keys(['x0ez', 'seeg_contacts', 'new_locs', 'ylabels'])\n"
     ]
    }
   ],
   "source": [
    "for idx, datafile in enumerate(trainfiles):\n",
    "    data = np.load(datafile)\n",
    "    imagetensor = data['image_tensor']\n",
    "    metadata = data['metadata'].item()\n",
    "    labels = metadata['ylabels']\n",
    "    \n",
    "    if idx == 0:\n",
    "        ylabels = labels\n",
    "        alltensors = imagetensor.reshape((imagetensor.shape[0], -1))\n",
    "        print(datafile)\n",
    "        print(imagetensor.shape)\n",
    "        print(metadata.keys())\n",
    "    else:\n",
    "        alltensors = np.concatenate((alltensors, imagetensor.reshape((imagetensor.shape[0], -1))), axis=0)\n",
    "        ylabels = np.concatenate((ylabels, metadata['ylabels']),axis=0)  \n",
    "        \n",
    "#     if idx == 0:\n",
    "#         buff = imagetensor.reshape((1,imagetensor.shape[0],-1))\n",
    "#         print(buff.shape)\n",
    "#         alltensors = keras.preprocessing.sequence.pad_sequences(buff, maxlen=500, \n",
    "#             dtype='float64', padding='pre', truncating='pre', value=0.)\n",
    "#         ylabels = keras.preprocessing.sequence.pad_sequences(labels.reshape((1,-1)), maxlen=500,\n",
    "#                             padding='pre', truncating='pre', value=0.)\n",
    "#         print(buff.shape)\n",
    "#         print(ylabels.shape)\n",
    "#         print(datafile)\n",
    "#         print(imagetensor.shape)\n",
    "#         print(metadata.keys())\n",
    "#     else:\n",
    "#         buff = imagetensor.reshape((1,imagetensor.shape[0],-1))\n",
    "#         buff = keras.preprocessing.sequence.pad_sequences(buff, maxlen=500, \n",
    "#             dtype='float64', padding='pre', truncating='pre', value=0.)\n",
    "#         alltensors = np.concatenate((alltensors, buff), axis=0)\n",
    "        \n",
    "#         labels = keras.preprocessing.sequence.pad_sequences(labels.reshape((1,-1)), maxlen=500,\n",
    "#                             padding='pre', truncating='pre', value=0.)\n",
    "#         ylabels = np.concatenate((ylabels, labels),axis=0)  \n",
    "        \n",
    "#         print(alltensors.shape)\n",
    "#         print(ylabels.shape)\n",
    "#         break\n",
    "#     if idx == 10:\n",
    "#         break\n",
    "#     break"
   ]
  },
  {
   "cell_type": "code",
   "execution_count": 10,
   "metadata": {
    "scrolled": true
   },
   "outputs": [
    {
     "name": "stdout",
     "output_type": "stream",
     "text": [
      "2.1171733600000002\n",
      "(64611, 4096)\n",
      "(64611, 1)\n"
     ]
    }
   ],
   "source": [
    "print(sys.getsizeof(alltensors) * 1.0e-9) \n",
    "print(alltensors.shape)\n",
    "print(ylabels.shape)\n",
    "\n",
    "filename = os.path.join(traindatadir, 'allimages_2d.npz')\n",
    "np.savez_compressed(filename, images=alltensors, labels=ylabels)"
   ]
  },
  {
   "cell_type": "code",
   "execution_count": 18,
   "metadata": {},
   "outputs": [
    {
     "name": "stdout",
     "output_type": "stream",
     "text": [
      "Train data dir is:  /Volumes/ADAM LI/pydata/dnn/traindata/image_3d/\n",
      "In traindatadir there are this many training files:  233\n",
      "/Volumes/ADAM LI/pydata/dnn/traindata/image_3d/allregions_moved/id001_ac_nez1_npz1_0.npz\n",
      "(239, 4, 32, 32, 32)\n",
      "/Volumes/ADAM LI/pydata/dnn/traindata/image_3d/allregions_moved/id001_ac_nez1_npz1_1.npz\n",
      "(239, 4, 32, 32, 32)\n",
      "/Volumes/ADAM LI/pydata/dnn/traindata/image_3d/allregions_moved/id001_ac_nez1_npz1_2.npz\n",
      "(239, 4, 32, 32, 32)\n",
      "/Volumes/ADAM LI/pydata/dnn/traindata/image_3d/allregions_moved/id001_ac_nez1_npz1_3.npz\n",
      "(239, 4, 32, 32, 32)\n",
      "/Volumes/ADAM LI/pydata/dnn/traindata/image_3d/allregions_moved/id001_ac_nez1_npz1_4.npz\n",
      "(239, 4, 32, 32, 32)\n",
      "/Volumes/ADAM LI/pydata/dnn/traindata/image_3d/allregions_moved/id001_ac_nez1_npz1_5.npz\n",
      "(239, 4, 32, 32, 32)\n"
     ]
    }
   ],
   "source": [
    "# the training data dir\n",
    "traindatadir = '/Volumes/ADAM LI/pydata/dnn/traindata/image_3d/allregions_moved/'\n",
    "# Get ALL datafiles from all downstream files\n",
    "trainfiles = []\n",
    "for root, dirs, files in os.walk(traindatadir):\n",
    "    for file in files:\n",
    "        trainfiles.append(os.path.join(root, file))\n",
    "print(\"Train data dir is: \", traindatadir)\n",
    "print(\"In traindatadir there are this many training files: \", len(trainfiles))\n",
    "\n",
    "ylabels = []\n",
    "all3dtensors = []\n",
    "for idx, datafile in enumerate(trainfiles):\n",
    "    data = np.load(datafile)\n",
    "    imagetensor = data['image_tensor']\n",
    "    metadata = data['metadata'].item()\n",
    "    \n",
    "    all3dtensors.append(imagetensor.reshape((imagetensor.shape[0],-1)))\n",
    "    ylabels.append(metadata['ylabels'])\n",
    "    print(imagetensor.shape)\n",
    "#     if idx == 0:\n",
    "#         all3dtensors = imagetensor.reshape([imagetensor.shape[0],-1])\n",
    "#         ylabels = metadata['ylabels']\n",
    "#         print(datafile)\n",
    "#         print(imagetensor.shape)\n",
    "#         print(metadata.keys())\n",
    "#     else:\n",
    "#         all3dtensors = np.concatenate((all3dtensors, imagetensor.reshape([imagetensor.shape[0],-1])), axis=0)\n",
    "#         ylabels = np.concatenate((ylabels, metadata['ylabels']),axis=0)\n",
    "        \n",
    "    if idx == 5:\n",
    "        break\n",
    "#     break"
   ]
  },
  {
   "cell_type": "code",
   "execution_count": 14,
   "metadata": {},
   "outputs": [
    {
     "name": "stdout",
     "output_type": "stream",
     "text": [
      "11\n",
      "(239, 1)\n",
      "(11, 239, 1)\n"
     ]
    }
   ],
   "source": [
    "print(len(ylabels))\n",
    "test=ylabels[1]\n",
    "print(test.shape)\n",
    "test = np.asarray(ylabels)\n",
    "print(test.shape)"
   ]
  },
  {
   "cell_type": "code",
   "execution_count": 11,
   "metadata": {},
   "outputs": [
    {
     "name": "stdout",
     "output_type": "stream",
     "text": [
      "(101, 239, 1)\n",
      "(101, 239, 131072)\n"
     ]
    }
   ],
   "source": [
    "ylabels = np.asarray(ylabels)\n",
    "print(ylabels.shape)\n",
    "\n",
    "all3dtensors = np.asarray(all3dtensors)\n",
    "print(all3dtensors.shape)"
   ]
  },
  {
   "cell_type": "code",
   "execution_count": 68,
   "metadata": {},
   "outputs": [
    {
     "name": "stdout",
     "output_type": "stream",
     "text": [
      "39.846936704\n",
      "(38001, 4, 32768)\n",
      "(22541, 1)\n"
     ]
    }
   ],
   "source": [
    "print(sys.getsizeof(all3dtensors)* 1.0e-9)\n",
    "print(all3dtensors.shape)\n",
    "print(ylabels.shape)\n",
    "# test = test.reshape([-1, 4, 32, 32, 32])\n",
    "# print(test.shape)"
   ]
  },
  {
   "cell_type": "code",
   "execution_count": 49,
   "metadata": {
    "scrolled": true
   },
   "outputs": [
    {
     "name": "stdout",
     "output_type": "stream",
     "text": [
      "1.9524814240000001\n",
      "(26051, 4, 32, 32, 32)\n",
      "(26051, 1)\n"
     ]
    },
    {
     "ename": "OSError",
     "evalue": "[Errno 27] File too large",
     "output_type": "error",
     "traceback": [
      "\u001b[0;31m---------------------------------------------------------------------------\u001b[0m",
      "\u001b[0;31mOSError\u001b[0m                                   Traceback (most recent call last)",
      "\u001b[0;32m<ipython-input-49-5ffa41f6cc0d>\u001b[0m in \u001b[0;36m<module>\u001b[0;34m()\u001b[0m\n\u001b[1;32m      4\u001b[0m \u001b[0;34m\u001b[0m\u001b[0m\n\u001b[1;32m      5\u001b[0m \u001b[0mfilename\u001b[0m \u001b[0;34m=\u001b[0m \u001b[0mos\u001b[0m\u001b[0;34m.\u001b[0m\u001b[0mpath\u001b[0m\u001b[0;34m.\u001b[0m\u001b[0mjoin\u001b[0m\u001b[0;34m(\u001b[0m\u001b[0mtraindatadir\u001b[0m\u001b[0;34m,\u001b[0m \u001b[0;34m'allimages_3d.npz'\u001b[0m\u001b[0;34m)\u001b[0m\u001b[0;34m\u001b[0m\u001b[0m\n\u001b[0;32m----> 6\u001b[0;31m \u001b[0mnp\u001b[0m\u001b[0;34m.\u001b[0m\u001b[0msavez_compressed\u001b[0m\u001b[0;34m(\u001b[0m\u001b[0mfilename\u001b[0m\u001b[0;34m,\u001b[0m \u001b[0mimages\u001b[0m\u001b[0;34m=\u001b[0m\u001b[0mall3dtensors\u001b[0m\u001b[0;34m,\u001b[0m \u001b[0mlabels\u001b[0m\u001b[0;34m=\u001b[0m\u001b[0mylabels\u001b[0m\u001b[0;34m)\u001b[0m\u001b[0;34m\u001b[0m\u001b[0m\n\u001b[0m",
      "\u001b[0;32m~/Documents/dnn-unsupervised/.venv/lib/python3.6/site-packages/numpy/lib/npyio.py\u001b[0m in \u001b[0;36msavez_compressed\u001b[0;34m(file, *args, **kwds)\u001b[0m\n\u001b[1;32m    657\u001b[0m \u001b[0;34m\u001b[0m\u001b[0m\n\u001b[1;32m    658\u001b[0m     \"\"\"\n\u001b[0;32m--> 659\u001b[0;31m     \u001b[0m_savez\u001b[0m\u001b[0;34m(\u001b[0m\u001b[0mfile\u001b[0m\u001b[0;34m,\u001b[0m \u001b[0margs\u001b[0m\u001b[0;34m,\u001b[0m \u001b[0mkwds\u001b[0m\u001b[0;34m,\u001b[0m \u001b[0;32mTrue\u001b[0m\u001b[0;34m)\u001b[0m\u001b[0;34m\u001b[0m\u001b[0m\n\u001b[0m\u001b[1;32m    660\u001b[0m \u001b[0;34m\u001b[0m\u001b[0m\n\u001b[1;32m    661\u001b[0m \u001b[0;34m\u001b[0m\u001b[0m\n",
      "\u001b[0;32m~/Documents/dnn-unsupervised/.venv/lib/python3.6/site-packages/numpy/lib/npyio.py\u001b[0m in \u001b[0;36m_savez\u001b[0;34m(file, args, kwds, compress, allow_pickle, pickle_kwargs)\u001b[0m\n\u001b[1;32m    696\u001b[0m                 format.write_array(fid, val,\n\u001b[1;32m    697\u001b[0m                                    \u001b[0mallow_pickle\u001b[0m\u001b[0;34m=\u001b[0m\u001b[0mallow_pickle\u001b[0m\u001b[0;34m,\u001b[0m\u001b[0;34m\u001b[0m\u001b[0m\n\u001b[0;32m--> 698\u001b[0;31m                                    pickle_kwargs=pickle_kwargs)\n\u001b[0m\u001b[1;32m    699\u001b[0m     \u001b[0;32melse\u001b[0m\u001b[0;34m:\u001b[0m\u001b[0;34m\u001b[0m\u001b[0m\n\u001b[1;32m    700\u001b[0m         \u001b[0;31m# Stage arrays in a temporary file on disk, before writing to zip.\u001b[0m\u001b[0;34m\u001b[0m\u001b[0;34m\u001b[0m\u001b[0m\n",
      "\u001b[0;32m~/Documents/dnn-unsupervised/.venv/lib/python3.6/site-packages/numpy/lib/format.py\u001b[0m in \u001b[0;36mwrite_array\u001b[0;34m(fp, array, version, allow_pickle, pickle_kwargs)\u001b[0m\n\u001b[1;32m    597\u001b[0m                     \u001b[0marray\u001b[0m\u001b[0;34m,\u001b[0m \u001b[0mflags\u001b[0m\u001b[0;34m=\u001b[0m\u001b[0;34m[\u001b[0m\u001b[0;34m'external_loop'\u001b[0m\u001b[0;34m,\u001b[0m \u001b[0;34m'buffered'\u001b[0m\u001b[0;34m,\u001b[0m \u001b[0;34m'zerosize_ok'\u001b[0m\u001b[0;34m]\u001b[0m\u001b[0;34m,\u001b[0m\u001b[0;34m\u001b[0m\u001b[0m\n\u001b[1;32m    598\u001b[0m                     buffersize=buffersize, order='C'):\n\u001b[0;32m--> 599\u001b[0;31m                 \u001b[0mfp\u001b[0m\u001b[0;34m.\u001b[0m\u001b[0mwrite\u001b[0m\u001b[0;34m(\u001b[0m\u001b[0mchunk\u001b[0m\u001b[0;34m.\u001b[0m\u001b[0mtobytes\u001b[0m\u001b[0;34m(\u001b[0m\u001b[0;34m'C'\u001b[0m\u001b[0;34m)\u001b[0m\u001b[0;34m)\u001b[0m\u001b[0;34m\u001b[0m\u001b[0m\n\u001b[0m\u001b[1;32m    600\u001b[0m \u001b[0;34m\u001b[0m\u001b[0m\n\u001b[1;32m    601\u001b[0m \u001b[0;34m\u001b[0m\u001b[0m\n",
      "\u001b[0;32m/usr/local/Cellar/python3/3.6.3/Frameworks/Python.framework/Versions/3.6/lib/python3.6/zipfile.py\u001b[0m in \u001b[0;36mwrite\u001b[0;34m(self, data)\u001b[0m\n\u001b[1;32m    990\u001b[0m             \u001b[0mdata\u001b[0m \u001b[0;34m=\u001b[0m \u001b[0mself\u001b[0m\u001b[0;34m.\u001b[0m\u001b[0m_compressor\u001b[0m\u001b[0;34m.\u001b[0m\u001b[0mcompress\u001b[0m\u001b[0;34m(\u001b[0m\u001b[0mdata\u001b[0m\u001b[0;34m)\u001b[0m\u001b[0;34m\u001b[0m\u001b[0m\n\u001b[1;32m    991\u001b[0m             \u001b[0mself\u001b[0m\u001b[0;34m.\u001b[0m\u001b[0m_compress_size\u001b[0m \u001b[0;34m+=\u001b[0m \u001b[0mlen\u001b[0m\u001b[0;34m(\u001b[0m\u001b[0mdata\u001b[0m\u001b[0;34m)\u001b[0m\u001b[0;34m\u001b[0m\u001b[0m\n\u001b[0;32m--> 992\u001b[0;31m         \u001b[0mself\u001b[0m\u001b[0;34m.\u001b[0m\u001b[0m_fileobj\u001b[0m\u001b[0;34m.\u001b[0m\u001b[0mwrite\u001b[0m\u001b[0;34m(\u001b[0m\u001b[0mdata\u001b[0m\u001b[0;34m)\u001b[0m\u001b[0;34m\u001b[0m\u001b[0m\n\u001b[0m\u001b[1;32m    993\u001b[0m         \u001b[0;32mreturn\u001b[0m \u001b[0mnbytes\u001b[0m\u001b[0;34m\u001b[0m\u001b[0m\n\u001b[1;32m    994\u001b[0m \u001b[0;34m\u001b[0m\u001b[0m\n",
      "\u001b[0;31mOSError\u001b[0m: [Errno 27] File too large"
     ]
    }
   ],
   "source": [
    "print(sys.getsizeof(all3dtensors) * 1.0e-9) \n",
    "print(all3dtensors.shape)\n",
    "print(ylabels.shape)\n",
    "\n",
    "filename = os.path.join(traindatadir, 'allimages_3d.npz')\n",
    "np.savez_compressed(filename, images=all3dtensors, labels=ylabels)"
   ]
  },
  {
   "cell_type": "markdown",
   "metadata": {},
   "source": [
    "# Visualize Final History\n",
    "\n",
    "Investigate the history object saved at the final point in time and see how training proceeded. Get a value of the accuracy and precision of the neural network.\n",
    "\n",
    "Visualize any other important metadata."
   ]
  },
  {
   "cell_type": "code",
   "execution_count": 3,
   "metadata": {
    "collapsed": true
   },
   "outputs": [],
   "source": [
    "expname = 'test2dcnn'\n",
    "outputdatadir = os.path.join('/Volumes/ADAM LI/pydata/dnn/output/', expname)\n",
    "finalhistfile = os.path.join(outputdatadir, 'history_2dcnn.pkl')"
   ]
  },
  {
   "cell_type": "code",
   "execution_count": 6,
   "metadata": {},
   "outputs": [
    {
     "name": "stdout",
     "output_type": "stream",
     "text": [
      "/Volumes/ADAM LI/pydata/dnn/output/test2dcnn/history_2dcnn.pkl\n",
      "dict_keys(['val_loss', 'acc', 'val_acc', 'loss'])\n"
     ]
    }
   ],
   "source": [
    "print(finalhistfile)\n",
    "# hist = pickle.load(finalhistfile)\n",
    "H = np.load(finalhistfile)\n",
    "print(H.keys())"
   ]
  },
  {
   "cell_type": "code",
   "execution_count": 8,
   "metadata": {},
   "outputs": [
    {
     "data": {
      "image/png": "[encoded data removed]",
      "text/plain": [
       "<matplotlib.figure.Figure at 0x11cc0bb00>"
      ]
     },
     "metadata": {},
     "output_type": "display_data"
    }
   ],
   "source": [
    "# plot the training loss and accuracy\n",
    "N = np.arange(0, len(H[\"loss\"]))\n",
    "plt.style.use(\"ggplot\")\n",
    "plt.figure()\n",
    "plt.plot(N, H[\"loss\"], label=\"train_loss\")\n",
    "plt.plot(N, H[\"val_loss\"], label=\"test_loss\")\n",
    "plt.plot(N, H[\"acc\"], label=\"train_acc\")\n",
    "plt.plot(N, H[\"val_acc\"], label=\"test_acc\")\n",
    "plt.title(\"CNN On FFT Features\")\n",
    "plt.xlabel(\"Epoch #\")\n",
    "plt.ylabel(\"Loss/Accuracy\")\n",
    "plt.legend()\n",
    "plt.show()\n",
    "\n",
    "# print(model.summary())"
   ]
  },
  {
   "cell_type": "markdown",
   "metadata": {},
   "source": [
    "# Visualize The Diversity of the Data That We Used\n",
    "\n",
    "Visualize the diversity of the data we used to train the model."
   ]
  },
  {
   "cell_type": "code",
   "execution_count": null,
   "metadata": {
    "collapsed": true
   },
   "outputs": [],
   "source": []
  }
 ],
 "metadata": {
  "kernelspec": {
   "display_name": "dnn",
   "language": "python",
   "name": "dnn"
  },
  "language_info": {
   "codemirror_mode": {
    "name": "ipython",
    "version": 3
   },
   "file_extension": ".py",
   "mimetype": "text/x-python",
   "name": "python",
   "nbconvert_exporter": "python",
   "pygments_lexer": "ipython3",
   "version": "3.6.3"
  }
 },
 "nbformat": 4,
 "nbformat_minor": 2
}
