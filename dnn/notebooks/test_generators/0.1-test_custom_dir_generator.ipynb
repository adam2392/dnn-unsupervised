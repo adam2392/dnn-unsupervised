{
 "cells": [
  {
   "cell_type": "markdown",
   "metadata": {},
   "source": [
    "# Test Custom Data Directory Generator\n",
    "\n",
    "7/4/18: Need to code up a data generator for images, that lie in sequences for STFT computed frequency maps. It is different from the default keras assumed directory generator."
   ]
  },
  {
   "cell_type": "code",
   "execution_count": 101,
   "metadata": {},
   "outputs": [
    {
     "name": "stdout",
     "output_type": "stream",
     "text": [
      "The autoreload extension is already loaded. To reload it, use:\n",
      "  %reload_ext autoreload\n",
      "The line_profiler extension is already loaded. To reload it, use:\n",
      "  %reload_ext line_profiler\n",
      "The memory_profiler extension is already loaded. To reload it, use:\n",
      "  %reload_ext memory_profiler\n"
     ]
    }
   ],
   "source": [
    "import sys\n",
    "import numpy as np \n",
    "import os\n",
    "\n",
    "import keras\n",
    "\n",
    "sys.path.append('../../../')\n",
    "import dnn\n",
    "\n",
    "# import basic plotting\n",
    "import matplotlib\n",
    "import matplotlib.pyplot as plt\n",
    "import seaborn as sns\n",
    "\n",
    "from dnn.util.generators.directory.generator import ImageDirectoryGenerator\n",
    "from dnn.util.generators.directory.base import CustomDirectoryIterator\n",
    "from keras.preprocessing.image import ImageDataGenerator\n",
    "\n",
    "# Import magic commands for jupyter notebook \n",
    "# - autoreloading a module\n",
    "# - profiling functions for memory usage and scripts\n",
    "%load_ext autoreload\n",
    "%autoreload 2\n",
    "%load_ext line_profiler\n",
    "%load_ext memory_profiler"
   ]
  },
  {
   "cell_type": "code",
   "execution_count": 102,
   "metadata": {},
   "outputs": [],
   "source": [
    "traindatadir = '/Users/adam2392/Downloads/eznet_traindata_v2/'\n",
    "testname = 'pt1'\n",
    "classes = ['0', '1']"
   ]
  },
  {
   "cell_type": "code",
   "execution_count": 103,
   "metadata": {},
   "outputs": [
    {
     "name": "stdout",
     "output_type": "stream",
     "text": [
      "Found 5138 images belonging to 2 classes.\n"
     ]
    }
   ],
   "source": [
    "dataiterator = CustomDirectoryIterator(traindatadir, ImageDirectoryGenerator(), testname,\n",
    "                                           color_mode='grayscale',\n",
    "                                           target_size=(150, 480), classes=classes)"
   ]
  },
  {
   "cell_type": "code",
   "execution_count": 104,
   "metadata": {},
   "outputs": [
    {
     "name": "stdout",
     "output_type": "stream",
     "text": [
      "index range is:  [2421, 2498]\n",
      "j is  2491\n",
      "['chanvectors', 'auxmats', 'ylabels', 'chanlabels']\n",
      "(77, 150, 480)\n",
      "(77,)\n",
      "index range is:  [1826, 1927]\n",
      "j is  1902\n",
      "['chanvectors', 'auxmats', 'ylabels', 'chanlabels']\n",
      "(101, 150, 480)\n",
      "(101,)\n",
      "index range is:  [2344, 2421]\n",
      "j is  2379\n",
      "['chanvectors', 'auxmats', 'ylabels', 'chanlabels']\n",
      "(77, 150, 480)\n",
      "(77,)\n",
      "index range is:  [4605, 4739]\n",
      "j is  4656\n",
      "['chanvectors', 'auxmats', 'ylabels', 'chanlabels']\n",
      "(134, 150, 480)\n",
      "(134,)\n",
      "index range is:  [4874, 4962]\n",
      "j is  4932\n",
      "['chanvectors', 'auxmats', 'ylabels', 'chanlabels']\n",
      "(88, 150, 480)\n",
      "(88,)\n",
      "index range is:  [3063, 3118]\n",
      "j is  3105\n",
      "['chanvectors', 'auxmats', 'ylabels', 'chanlabels']\n",
      "(55, 150, 480)\n",
      "(55,)\n",
      "index range is:  [2726, 2877]\n",
      "j is  2774\n",
      "['chanvectors', 'auxmats', 'ylabels', 'chanlabels']\n",
      "(151, 150, 480)\n",
      "(151,)\n",
      "index range is:  [3295, 3381]\n",
      "j is  3371\n",
      "['chanvectors', 'auxmats', 'ylabels', 'chanlabels']\n",
      "(86, 150, 480)\n",
      "(86,)\n",
      "index range is:  [4739, 4874]\n",
      "j is  4788\n",
      "['chanvectors', 'auxmats', 'ylabels', 'chanlabels']\n",
      "(135, 150, 480)\n",
      "(135,)\n",
      "index range is:  [2877, 2953]\n",
      "j is  2888\n",
      "['chanvectors', 'auxmats', 'ylabels', 'chanlabels']\n",
      "(76, 150, 480)\n",
      "(76,)\n",
      "index range is:  [3796, 3955]\n",
      "j is  3840\n",
      "['chanvectors', 'auxmats', 'ylabels', 'chanlabels']\n",
      "(159, 150, 480)\n",
      "(159,)\n",
      "index range is:  [2175, 2221]\n",
      "j is  2194\n",
      "['chanvectors', 'auxmats', 'ylabels', 'chanlabels']\n",
      "(46, 150, 480)\n",
      "(46,)\n",
      "index range is:  [959, 1020]\n",
      "j is  973\n",
      "['chanvectors', 'auxmats', 'ylabels', 'chanlabels']\n",
      "(61, 150, 480)\n",
      "(61,)\n",
      "index range is:  [1826, 1927]\n",
      "j is  1853\n",
      "['chanvectors', 'auxmats', 'ylabels', 'chanlabels']\n",
      "(101, 150, 480)\n",
      "(101,)\n",
      "index range is:  [2575, 2726]\n",
      "j is  2707\n",
      "['chanvectors', 'auxmats', 'ylabels', 'chanlabels']\n",
      "(151, 150, 480)\n",
      "(151,)\n",
      "index range is:  [522, 594]\n",
      "j is  536\n",
      "['chanvectors', 'auxmats', 'ylabels', 'chanlabels']\n",
      "(72, 150, 480)\n",
      "(72,)\n",
      "index range is:  [1688, 1826]\n",
      "j is  1774\n",
      "['chanvectors', 'auxmats', 'ylabels', 'chanlabels']\n",
      "(138, 150, 480)\n",
      "(138,)\n",
      "index range is:  [1258, 1377]\n",
      "j is  1320\n",
      "['chanvectors', 'auxmats', 'ylabels', 'chanlabels']\n",
      "(119, 150, 480)\n",
      "(119,)\n",
      "index range is:  [1258, 1377]\n",
      "j is  1345\n",
      "['chanvectors', 'auxmats', 'ylabels', 'chanlabels']\n",
      "(119, 150, 480)\n",
      "(119,)\n",
      "index range is:  [898, 959]\n",
      "j is  911\n",
      "['chanvectors', 'auxmats', 'ylabels', 'chanlabels']\n",
      "(61, 150, 480)\n",
      "(61,)\n",
      "index range is:  [4605, 4739]\n",
      "j is  4619\n",
      "['chanvectors', 'auxmats', 'ylabels', 'chanlabels']\n",
      "(134, 150, 480)\n",
      "(134,)\n",
      "index range is:  [3553, 3634]\n",
      "j is  3588\n",
      "['chanvectors', 'auxmats', 'ylabels', 'chanlabels']\n",
      "(81, 150, 480)\n",
      "(81,)\n",
      "index range is:  [3467, 3553]\n",
      "j is  3532\n",
      "['chanvectors', 'auxmats', 'ylabels', 'chanlabels']\n",
      "(86, 150, 480)\n",
      "(86,)\n",
      "index range is:  [5050, 5138]\n",
      "j is  5120\n",
      "['chanvectors', 'auxmats', 'ylabels', 'chanlabels']\n",
      "(88, 150, 480)\n",
      "(88,)\n",
      "index range is:  [898, 959]\n",
      "j is  924\n",
      "['chanvectors', 'auxmats', 'ylabels', 'chanlabels']\n",
      "(61, 150, 480)\n",
      "(61,)\n",
      "index range is:  [3295, 3381]\n",
      "j is  3372\n",
      "['chanvectors', 'auxmats', 'ylabels', 'chanlabels']\n",
      "(86, 150, 480)\n",
      "(86,)\n",
      "index range is:  [4605, 4739]\n",
      "j is  4673\n",
      "['chanvectors', 'auxmats', 'ylabels', 'chanlabels']\n",
      "(134, 150, 480)\n",
      "(134,)\n",
      "index range is:  [2953, 3008]\n",
      "j is  2988\n",
      "['chanvectors', 'auxmats', 'ylabels', 'chanlabels']\n",
      "(55, 150, 480)\n",
      "(55,)\n",
      "index range is:  [1826, 1927]\n",
      "j is  1828\n",
      "['chanvectors', 'auxmats', 'ylabels', 'chanlabels']\n",
      "(101, 150, 480)\n",
      "(101,)\n",
      "index range is:  [1020, 1139]\n",
      "j is  1024\n",
      "['chanvectors', 'auxmats', 'ylabels', 'chanlabels']\n",
      "(119, 150, 480)\n",
      "(119,)\n",
      "index range is:  [2726, 2877]\n",
      "j is  2849\n",
      "['chanvectors', 'auxmats', 'ylabels', 'chanlabels']\n",
      "(151, 150, 480)\n",
      "(151,)\n",
      "index range is:  [1496, 1560]\n",
      "j is  1547\n",
      "['chanvectors', 'auxmats', 'ylabels', 'chanlabels']\n",
      "(64, 150, 480)\n",
      "(64,)\n"
     ]
    }
   ],
   "source": [
    "test = dataiterator.next()"
   ]
  },
  {
   "cell_type": "code",
   "execution_count": 105,
   "metadata": {},
   "outputs": [
    {
     "name": "stdout",
     "output_type": "stream",
     "text": [
      "(32, 150, 480, 1)\n",
      "(32,)\n"
     ]
    }
   ],
   "source": [
    "x, y = test\n",
    "print(x.shape)\n",
    "print(y.shape)"
   ]
  },
  {
   "cell_type": "code",
   "execution_count": null,
   "metadata": {},
   "outputs": [],
   "source": []
  }
 ],
 "metadata": {
  "kernelspec": {
   "display_name": "dnn",
   "language": "python",
   "name": "dnn"
  },
  "language_info": {
   "codemirror_mode": {
    "name": "ipython",
    "version": 3
   },
   "file_extension": ".py",
   "mimetype": "text/x-python",
   "name": "python",
   "nbconvert_exporter": "python",
   "pygments_lexer": "ipython3",
   "version": "3.6.5"
  }
 },
 "nbformat": 4,
 "nbformat_minor": 2
}
