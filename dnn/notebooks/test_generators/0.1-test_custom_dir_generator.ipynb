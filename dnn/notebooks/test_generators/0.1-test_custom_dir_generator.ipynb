{
 "cells": [
  {
   "cell_type": "markdown",
   "metadata": {},
   "source": [
    "# Test Custom Data Directory Generator\n",
    "\n",
    "7/4/18: Need to code up a data generator for images, that lie in sequences for STFT computed frequency maps. It is different from the default keras assumed directory generator."
   ]
  },
  {
   "cell_type": "code",
   "execution_count": 76,
   "metadata": {},
   "outputs": [
    {
     "name": "stdout",
     "output_type": "stream",
     "text": [
      "The autoreload extension is already loaded. To reload it, use:\n",
      "  %reload_ext autoreload\n",
      "The line_profiler extension is already loaded. To reload it, use:\n",
      "  %reload_ext line_profiler\n",
      "The memory_profiler extension is already loaded. To reload it, use:\n",
      "  %reload_ext memory_profiler\n"
     ]
    }
   ],
   "source": [
    "import sys\n",
    "import numpy as np \n",
    "import os\n",
    "\n",
    "import keras\n",
    "\n",
    "sys.path.append('../../../')\n",
    "import dnn\n",
    "\n",
    "# import basic plotting\n",
    "import matplotlib\n",
    "import matplotlib.pyplot as plt\n",
    "import seaborn as sns\n",
    "\n",
    "from dnn.util.generators.directory.generator import ImageDirectoryGenerator\n",
    "from dnn.util.generators.directory.base import CustomDirectoryIterator\n",
    "from keras.preprocessing.image import ImageDataGenerator\n",
    "\n",
    "# Import magic commands for jupyter notebook \n",
    "# - autoreloading a module\n",
    "# - profiling functions for memory usage and scripts\n",
    "%load_ext autoreload\n",
    "%autoreload 2\n",
    "%load_ext line_profiler\n",
    "%load_ext memory_profiler"
   ]
  },
  {
   "cell_type": "code",
   "execution_count": 77,
   "metadata": {},
   "outputs": [],
   "source": [
    "traindatadir = '/Users/adam2392/Downloads/eznet_traindata_v2/'\n",
    "testname = 'pt1'\n",
    "classes = ['0', '1']"
   ]
  },
  {
   "cell_type": "code",
   "execution_count": 78,
   "metadata": {},
   "outputs": [
    {
     "name": "stdout",
     "output_type": "stream",
     "text": [
      "Found 60 images belonging to 2 classes.\n"
     ]
    }
   ],
   "source": [
    "dataiterator = CustomDirectoryIterator(traindatadir, ImageDirectoryGenerator(), testname,\n",
    "                                           color_mode='grayscale',\n",
    "                                           target_size=(150, 480), classes=classes)"
   ]
  },
  {
   "cell_type": "code",
   "execution_count": 79,
   "metadata": {},
   "outputs": [
    {
     "name": "stdout",
     "output_type": "stream",
     "text": [
      "['chanvectors', 'auxmats', 'ylabels', 'chanlabels']\n",
      "(119, 150, 480)\n",
      "(119,)\n",
      "['chanvectors', 'auxmats', 'ylabels', 'chanlabels']\n",
      "(159, 150, 480)\n",
      "(159,)\n",
      "['chanvectors', 'auxmats', 'ylabels', 'chanlabels']\n",
      "(88, 150, 480)\n",
      "(88,)\n",
      "['chanvectors', 'auxmats', 'ylabels', 'chanlabels']\n",
      "(55, 150, 480)\n",
      "(55,)\n",
      "['chanvectors', 'auxmats', 'ylabels', 'chanlabels']\n",
      "(61, 150, 480)\n",
      "(61,)\n",
      "['chanvectors', 'auxmats', 'ylabels', 'chanlabels']\n",
      "(85, 150, 480)\n",
      "(85,)\n",
      "['chanvectors', 'auxmats', 'ylabels', 'chanlabels']\n",
      "(88, 150, 480)\n",
      "(88,)\n",
      "['chanvectors', 'auxmats', 'ylabels', 'chanlabels']\n",
      "(86, 150, 480)\n",
      "(86,)\n",
      "['chanvectors', 'auxmats', 'ylabels', 'chanlabels']\n",
      "(119, 150, 480)\n",
      "(119,)\n",
      "['chanvectors', 'auxmats', 'ylabels', 'chanlabels']\n",
      "(81, 150, 480)\n",
      "(81,)\n",
      "['chanvectors', 'auxmats', 'ylabels', 'chanlabels']\n",
      "(55, 150, 480)\n",
      "(55,)\n",
      "['chanvectors', 'auxmats', 'ylabels', 'chanlabels']\n",
      "(62, 150, 480)\n",
      "(62,)\n",
      "['chanvectors', 'auxmats', 'ylabels', 'chanlabels']\n",
      "(88, 150, 480)\n",
      "(88,)\n",
      "['chanvectors', 'auxmats', 'ylabels', 'chanlabels']\n",
      "(119, 150, 480)\n",
      "(119,)\n",
      "['chanvectors', 'auxmats', 'ylabels', 'chanlabels']\n",
      "(86, 150, 480)\n",
      "(86,)\n",
      "['chanvectors', 'auxmats', 'ylabels', 'chanlabels']\n",
      "(59, 150, 480)\n",
      "(59,)\n",
      "['chanvectors', 'auxmats', 'ylabels', 'chanlabels']\n",
      "(86, 150, 480)\n",
      "(86,)\n",
      "['chanvectors', 'auxmats', 'ylabels', 'chanlabels']\n",
      "(46, 150, 480)\n",
      "(46,)\n",
      "['chanvectors', 'auxmats', 'ylabels', 'chanlabels']\n",
      "(101, 150, 480)\n",
      "(101,)\n",
      "['chanvectors', 'auxmats', 'ylabels', 'chanlabels']\n",
      "(85, 150, 480)\n",
      "(85,)\n",
      "['chanvectors', 'auxmats', 'ylabels', 'chanlabels']\n",
      "(55, 150, 480)\n",
      "(55,)\n",
      "['chanvectors', 'auxmats', 'ylabels', 'chanlabels']\n",
      "(85, 150, 480)\n",
      "(85,)\n",
      "['chanvectors', 'auxmats', 'ylabels', 'chanlabels']\n",
      "(85, 150, 480)\n",
      "(85,)\n",
      "['chanvectors', 'auxmats', 'ylabels', 'chanlabels']\n",
      "(61, 150, 480)\n",
      "(61,)\n",
      "['chanvectors', 'auxmats', 'ylabels', 'chanlabels']\n",
      "(72, 150, 480)\n",
      "(72,)\n",
      "['chanvectors', 'auxmats', 'ylabels', 'chanlabels']\n",
      "(135, 150, 480)\n",
      "(135,)\n",
      "['chanvectors', 'auxmats', 'ylabels', 'chanlabels']\n",
      "(101, 150, 480)\n",
      "(101,)\n",
      "['chanvectors', 'auxmats', 'ylabels', 'chanlabels']\n",
      "(134, 150, 480)\n",
      "(134,)\n",
      "['chanvectors', 'auxmats', 'ylabels', 'chanlabels']\n",
      "(101, 150, 480)\n",
      "(101,)\n",
      "['chanvectors', 'auxmats', 'ylabels', 'chanlabels']\n",
      "(59, 150, 480)\n",
      "(59,)\n",
      "['chanvectors', 'auxmats', 'ylabels', 'chanlabels']\n",
      "(86, 150, 480)\n",
      "(86,)\n",
      "['chanvectors', 'auxmats', 'ylabels', 'chanlabels']\n",
      "(46, 150, 480)\n",
      "(46,)\n"
     ]
    }
   ],
   "source": [
    "test = dataiterator.next()"
   ]
  },
  {
   "cell_type": "code",
   "execution_count": 81,
   "metadata": {},
   "outputs": [
    {
     "name": "stdout",
     "output_type": "stream",
     "text": [
      "(32, 150, 480, 1)\n",
      "(32,)\n"
     ]
    }
   ],
   "source": [
    "x, y = test\n",
    "print(x.shape)\n",
    "print(y.shape)"
   ]
  },
  {
   "cell_type": "code",
   "execution_count": null,
   "metadata": {},
   "outputs": [],
   "source": []
  }
 ],
 "metadata": {
  "kernelspec": {
   "display_name": "dnn",
   "language": "python",
   "name": "dnn"
  },
  "language_info": {
   "codemirror_mode": {
    "name": "ipython",
    "version": 3
   },
   "file_extension": ".py",
   "mimetype": "text/x-python",
   "name": "python",
   "nbconvert_exporter": "python",
   "pygments_lexer": "ipython3",
   "version": "3.6.5"
  }
 },
 "nbformat": 4,
 "nbformat_minor": 2
}
