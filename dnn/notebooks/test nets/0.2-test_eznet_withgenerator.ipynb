{
 "cells": [
  {
   "cell_type": "markdown",
   "metadata": {},
   "source": [
    "# Test EZNet with Its Trainer Object"
   ]
  },
  {
   "cell_type": "code",
   "execution_count": 1,
   "metadata": {},
   "outputs": [
    {
     "name": "stderr",
     "output_type": "stream",
     "text": [
      "Using TensorFlow backend.\n",
      "/Users/adam2392/Documents/dnn-unsupervised/.venv/lib/python3.6/site-packages/requests/__init__.py:80: RequestsDependencyWarning: urllib3 (1.23) or chardet (3.0.4) doesn't match a supported version!\n",
      "  RequestsDependencyWarning)\n"
     ]
    }
   ],
   "source": [
    "import sys\n",
    "import numpy as np \n",
    "import os\n",
    "\n",
    "import keras\n",
    "import tensorflow as tf\n",
    "\n",
    "sys.path.append('../../../')\n",
    "import dnn\n",
    "\n",
    "# import basic plotting\n",
    "import matplotlib\n",
    "import matplotlib.pyplot as plt\n",
    "import seaborn as sns\n",
    "\n",
    "from IPython.display import SVG\n",
    "from keras.utils.vis_utils import model_to_dot\n",
    "\n",
    "from dnn.keras_models.nets.eznet import EZNet\n",
    "from dnn.io.readerauxdataset import ReaderEZNetDataset\n",
    "from dnn.keras_models.trainers.eznet import EZNetTrainer\n",
    "\n",
    "# Import magic commands for jupyter notebook \n",
    "# - autoreloading a module\n",
    "# - profiling functions for memory usage and scripts\n",
    "%load_ext autoreload\n",
    "%autoreload 2\n",
    "%load_ext line_profiler\n",
    "%load_ext memory_profiler"
   ]
  },
  {
   "cell_type": "code",
   "execution_count": 2,
   "metadata": {},
   "outputs": [],
   "source": [
    "reader = ReaderEZNetDataset()"
   ]
  },
  {
   "cell_type": "code",
   "execution_count": 3,
   "metadata": {},
   "outputs": [
    {
     "name": "stdout",
     "output_type": "stream",
     "text": [
      "2018-07-02 16:19:14,397 - INFO - ReaderEZNetDataset - Reading testing data directory /Users/adam2392/Downloads/eznet_traindata/testpats/ \n",
      "2018-07-02 16:19:14,398 - INFO - ReaderEZNetDataset - Reading training data directory /Users/adam2392/Downloads/eznet_traindata/trainpats/ \n",
      "2018-07-02 16:19:14,404 - INFO - ReaderEZNetDataset - Found 49 training files and 38 testing files.\n",
      "2018-07-02 16:19:14,405 - INFO - ReaderEZNetDataset - Finished reading in data by directories!\n"
     ]
    }
   ],
   "source": [
    "traindir = '/Users/adam2392/Downloads/eznet_traindata/trainpats/'\n",
    "testdir = '/Users/adam2392/Downloads/eznet_traindata/testpats/'\n",
    "\n",
    "reader.loadbydir(traindir, testdir)\n",
    "# print(reader.trainfilepaths)"
   ]
  },
  {
   "cell_type": "code",
   "execution_count": 4,
   "metadata": {},
   "outputs": [
    {
     "name": "stdout",
     "output_type": "stream",
     "text": [
      "2018-07-02 16:19:14,451 - INFO - ReaderEZNetDataset - Loading files from directory!\n",
      "(49000, 30, 480)\n",
      "(49000,)\n",
      "(49000, 480)\n",
      "2018-07-02 16:19:19,146 - INFO - ReaderEZNetDataset - Image tensor shape: (3549, 30, 480, 1)\n",
      "2018-07-02 16:19:19,151 - INFO - ReaderEZNetDataset - Loading files from directory!\n",
      "(38000, 30, 480)\n",
      "(38000,)\n",
      "(38000, 480)\n",
      "2018-07-02 16:19:25,090 - INFO - ReaderEZNetDataset - Image tensor shape: (3297, 30, 480, 1)\n"
     ]
    }
   ],
   "source": [
    "reader.loadfiles(mode='TRAIN')\n",
    "reader.loadfiles(mode='TEST')"
   ]
  },
  {
   "cell_type": "code",
   "execution_count": 5,
   "metadata": {},
   "outputs": [
    {
     "name": "stdout",
     "output_type": "stream",
     "text": [
      "<dnn.io.dataloaders.baseaux.TrainDataset object at 0x11e635a90>\n",
      "<dnn.io.dataloaders.baseaux.TestDataset object at 0x11e635ac8>\n"
     ]
    }
   ],
   "source": [
    "# print(reader.train_dataset)\n",
    "print(reader.train_dataset)\n",
    "print(reader.test_dataset)"
   ]
  },
  {
   "cell_type": "markdown",
   "metadata": {},
   "source": [
    "# Create Model"
   ]
  },
  {
   "cell_type": "code",
   "execution_count": 6,
   "metadata": {},
   "outputs": [],
   "source": [
    "# define model\n",
    "model_params = {\n",
    "    'length_imsize': 30,\n",
    "    'width_imsize': 480,\n",
    "    'num_classes': 2,\n",
    "    'n_colors': 1,\n",
    "}\n",
    "\n",
    "# initialize object\n",
    "eznet = EZNet(**model_params) \n",
    "model = eznet.buildmodel(output=True)"
   ]
  },
  {
   "cell_type": "markdown",
   "metadata": {},
   "source": [
    "# Create Trainer"
   ]
  },
  {
   "cell_type": "code",
   "execution_count": 7,
   "metadata": {},
   "outputs": [],
   "source": [
    "num_epochs=1\n",
    "batch_size=16\n",
    "outputdir=os.path.join('/Users/adam2392/Downloads/testdnn')\n",
    "learning_rate=5e-2\n",
    "shuffle=True\n",
    "augment=True"
   ]
  },
  {
   "cell_type": "code",
   "execution_count": 8,
   "metadata": {},
   "outputs": [
    {
     "name": "stdout",
     "output_type": "stream",
     "text": [
      "2018-07-02 16:19:26,585 - INFO - EZNetTrainer - Logging output data to: /Users/adam2392/Downloads/testdnn/output\n",
      "2018-07-02 16:19:26,586 - INFO - EZNetTrainer - Logging experimental data at: /Users/adam2392/Downloads/testdnn/traininglogs\n",
      "2018-07-02 16:19:26,587 - INFO - EZNetTrainer - Logging tensorboard data at: /Users/adam2392/Downloads/testdnn/tensorboard\n"
     ]
    }
   ],
   "source": [
    "trainer = EZNetTrainer(model,\n",
    "                       num_epochs,\n",
    "                 batch_size,\n",
    "                 outputdir,\n",
    "                 learning_rate,\n",
    "                 shuffle,\n",
    "                 augment)"
   ]
  },
  {
   "cell_type": "code",
   "execution_count": 9,
   "metadata": {},
   "outputs": [
    {
     "name": "stdout",
     "output_type": "stream",
     "text": [
      "2018-07-02 16:19:26,631 - INFO - EZNetTrainer - Each training epoch is 3549 steps and each validation is 3297 steps.\n",
      "2018-07-02 16:19:26,633 - INFO - EZNetTrainer - Setting the datasets for training/testing in trainer object!\n",
      "2018-07-02 16:19:26,634 - INFO - EZNetTrainer - Image size is (30, 480) with 1 colors\n"
     ]
    }
   ],
   "source": [
    "trainer.composedatasets(reader.train_dataset, reader.test_dataset)"
   ]
  },
  {
   "cell_type": "code",
   "execution_count": 10,
   "metadata": {},
   "outputs": [
    {
     "name": "stdout",
     "output_type": "stream",
     "text": [
      "(3297, 30, 480, 1)\n",
      "(3297, 480, 1)\n",
      "(3297, 2)\n"
     ]
    }
   ],
   "source": [
    "print(reader.test_dataset.X_aux.shape)\n",
    "print(reader.test_dataset.X_chan.shape)\n",
    "print(reader.test_dataset.ylabels.shape)"
   ]
  },
  {
   "cell_type": "code",
   "execution_count": 11,
   "metadata": {},
   "outputs": [],
   "source": [
    "trainer.configure()"
   ]
  },
  {
   "cell_type": "code",
   "execution_count": null,
   "metadata": {},
   "outputs": [
    {
     "name": "stdout",
     "output_type": "stream",
     "text": [
      "Training data:  (3549, 30, 480, 1) (3549, 2)\n",
      "Testing data:  (3297, 30, 480, 1) (3297, 2)\n",
      "Class weights are:  [0.58085106 3.59210526]\n",
      "class imbalance:  494 3549\n",
      "Not using data augmentation. Implement Solution still!\n",
      "Train on 3549 samples, validate on 3297 samples\n",
      "Epoch 1/1\n",
      "3168/3549 [=========================>....] - ETA: 2:50 - loss: 5.1154 - acc: 0.4658"
     ]
    }
   ],
   "source": [
    "trainer.train()"
   ]
  },
  {
   "cell_type": "code",
   "execution_count": null,
   "metadata": {},
   "outputs": [],
   "source": [
    "print(trainer.batch_size)"
   ]
  },
  {
   "cell_type": "code",
   "execution_count": null,
   "metadata": {},
   "outputs": [],
   "source": []
  }
 ],
 "metadata": {
  "kernelspec": {
   "display_name": "dnn",
   "language": "python",
   "name": "dnn"
  },
  "language_info": {
   "codemirror_mode": {
    "name": "ipython",
    "version": 3
   },
   "file_extension": ".py",
   "mimetype": "text/x-python",
   "name": "python",
   "nbconvert_exporter": "python",
   "pygments_lexer": "ipython3",
   "version": "3.6.5"
  }
 },
 "nbformat": 4,
 "nbformat_minor": 2
}
