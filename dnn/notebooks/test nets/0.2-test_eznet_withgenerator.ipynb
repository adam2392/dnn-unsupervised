{
 "cells": [
  {
   "cell_type": "markdown",
   "metadata": {},
   "source": [
    "# Test EZNet with Its Trainer Object"
   ]
  },
  {
   "cell_type": "code",
   "execution_count": 13,
   "metadata": {},
   "outputs": [
    {
     "name": "stdout",
     "output_type": "stream",
     "text": [
      "The autoreload extension is already loaded. To reload it, use:\n",
      "  %reload_ext autoreload\n",
      "The line_profiler extension is already loaded. To reload it, use:\n",
      "  %reload_ext line_profiler\n",
      "The memory_profiler extension is already loaded. To reload it, use:\n",
      "  %reload_ext memory_profiler\n"
     ]
    }
   ],
   "source": [
    "import sys\n",
    "import numpy as np \n",
    "import os\n",
    "\n",
    "import keras\n",
    "import tensorflow as tf\n",
    "\n",
    "sys.path.append('../../../')\n",
    "import dnn\n",
    "\n",
    "# import basic plotting\n",
    "import matplotlib\n",
    "import matplotlib.pyplot as plt\n",
    "import seaborn as sns\n",
    "\n",
    "from IPython.display import SVG\n",
    "from keras.utils.vis_utils import model_to_dot\n",
    "\n",
    "from dnn.keras_models.nets.eznet import EZNet\n",
    "from dnn.io.readerauxdataset import ReaderEZNetDataset\n",
    "from dnn.keras_models.trainers.eznet import EZNetTrainer\n",
    "\n",
    "# Import magic commands for jupyter notebook \n",
    "# - autoreloading a module\n",
    "# - profiling functions for memory usage and scripts\n",
    "%load_ext autoreload\n",
    "%autoreload 2\n",
    "%load_ext line_profiler\n",
    "%load_ext memory_profiler"
   ]
  },
  {
   "cell_type": "code",
   "execution_count": 14,
   "metadata": {},
   "outputs": [],
   "source": [
    "reader = ReaderEZNetDataset()"
   ]
  },
  {
   "cell_type": "code",
   "execution_count": 15,
   "metadata": {},
   "outputs": [
    {
     "name": "stdout",
     "output_type": "stream",
     "text": [
      "2018-07-02 17:00:56,326 - INFO - ReaderEZNetDataset - Reading testing data directory /Users/adam2392/Downloads/eznet_traindata/testpats/ \n",
      "2018-07-02 17:00:56,326 - INFO - ReaderEZNetDataset - Reading testing data directory /Users/adam2392/Downloads/eznet_traindata/testpats/ \n",
      "2018-07-02 17:00:56,331 - INFO - ReaderEZNetDataset - Reading training data directory /Users/adam2392/Downloads/eznet_traindata/trainpats/ \n",
      "2018-07-02 17:00:56,331 - INFO - ReaderEZNetDataset - Reading training data directory /Users/adam2392/Downloads/eznet_traindata/trainpats/ \n",
      "2018-07-02 17:00:56,349 - INFO - ReaderEZNetDataset - Found 49 training files and 38 testing files.\n",
      "2018-07-02 17:00:56,349 - INFO - ReaderEZNetDataset - Found 49 training files and 38 testing files.\n",
      "2018-07-02 17:00:56,353 - INFO - ReaderEZNetDataset - Finished reading in data by directories!\n",
      "2018-07-02 17:00:56,353 - INFO - ReaderEZNetDataset - Finished reading in data by directories!\n"
     ]
    }
   ],
   "source": [
    "traindir = '/Users/adam2392/Downloads/eznet_traindata/trainpats/'\n",
    "testdir = '/Users/adam2392/Downloads/eznet_traindata/testpats/'\n",
    "\n",
    "reader.loadbydir(traindir, testdir)\n",
    "# print(reader.trainfilepaths)"
   ]
  },
  {
   "cell_type": "code",
   "execution_count": 16,
   "metadata": {},
   "outputs": [
    {
     "name": "stdout",
     "output_type": "stream",
     "text": [
      "2018-07-02 17:00:56,694 - INFO - ReaderEZNetDataset - Loading files from directory!\n",
      "2018-07-02 17:00:56,694 - INFO - ReaderEZNetDataset - Loading files from directory!\n",
      "(49000, 30, 480)\n",
      "(49000,)\n",
      "(49000, 480)\n",
      "2018-07-02 17:01:03,813 - INFO - ReaderEZNetDataset - Image tensor shape: (3549, 30, 480, 1)\n",
      "2018-07-02 17:01:03,813 - INFO - ReaderEZNetDataset - Image tensor shape: (3549, 30, 480, 1)\n",
      "2018-07-02 17:01:03,875 - INFO - ReaderEZNetDataset - Loading files from directory!\n",
      "2018-07-02 17:01:03,875 - INFO - ReaderEZNetDataset - Loading files from directory!\n",
      "(38000, 30, 480)\n",
      "(38000,)\n",
      "(38000, 480)\n",
      "2018-07-02 17:01:14,732 - INFO - ReaderEZNetDataset - Image tensor shape: (3297, 30, 480, 1)\n",
      "2018-07-02 17:01:14,732 - INFO - ReaderEZNetDataset - Image tensor shape: (3297, 30, 480, 1)\n"
     ]
    }
   ],
   "source": [
    "reader.loadfiles(mode='TRAIN')\n",
    "reader.loadfiles(mode='TEST')"
   ]
  },
  {
   "cell_type": "code",
   "execution_count": 17,
   "metadata": {},
   "outputs": [
    {
     "name": "stdout",
     "output_type": "stream",
     "text": [
      "<dnn.io.dataloaders.baseaux.TrainDataset object at 0x11e635a90>\n",
      "<dnn.io.dataloaders.baseaux.TestDataset object at 0x11e635ac8>\n"
     ]
    }
   ],
   "source": [
    "# print(reader.train_dataset)\n",
    "print(reader.train_dataset)\n",
    "print(reader.test_dataset)"
   ]
  },
  {
   "cell_type": "markdown",
   "metadata": {},
   "source": [
    "# Create Model"
   ]
  },
  {
   "cell_type": "code",
   "execution_count": 18,
   "metadata": {},
   "outputs": [],
   "source": [
    "# define model\n",
    "model_params = {\n",
    "    'length_imsize': 30,\n",
    "    'width_imsize': 480,\n",
    "    'num_classes': 2,\n",
    "    'n_colors': 1,\n",
    "}\n",
    "\n",
    "# initialize object\n",
    "eznet = EZNet(**model_params) \n",
    "model = eznet.buildmodel(output=True)"
   ]
  },
  {
   "cell_type": "markdown",
   "metadata": {},
   "source": [
    "# Create Trainer"
   ]
  },
  {
   "cell_type": "code",
   "execution_count": 19,
   "metadata": {},
   "outputs": [],
   "source": [
    "num_epochs=1\n",
    "batch_size=16\n",
    "outputdir=os.path.join('/Users/adam2392/Downloads/testdnn')\n",
    "learning_rate=5e-2\n",
    "shuffle=True\n",
    "augment=True"
   ]
  },
  {
   "cell_type": "code",
   "execution_count": 20,
   "metadata": {},
   "outputs": [
    {
     "name": "stdout",
     "output_type": "stream",
     "text": [
      "2018-07-02 17:01:18,457 - INFO - EZNetTrainer - Logging output data to: /Users/adam2392/Downloads/testdnn/output\n",
      "2018-07-02 17:01:18,457 - INFO - EZNetTrainer - Logging output data to: /Users/adam2392/Downloads/testdnn/output\n",
      "2018-07-02 17:01:18,461 - INFO - EZNetTrainer - Logging experimental data at: /Users/adam2392/Downloads/testdnn/traininglogs\n",
      "2018-07-02 17:01:18,461 - INFO - EZNetTrainer - Logging experimental data at: /Users/adam2392/Downloads/testdnn/traininglogs\n",
      "2018-07-02 17:01:18,471 - INFO - EZNetTrainer - Logging tensorboard data at: /Users/adam2392/Downloads/testdnn/tensorboard\n",
      "2018-07-02 17:01:18,471 - INFO - EZNetTrainer - Logging tensorboard data at: /Users/adam2392/Downloads/testdnn/tensorboard\n"
     ]
    }
   ],
   "source": [
    "trainer = EZNetTrainer(model,\n",
    "                       num_epochs,\n",
    "                 batch_size,\n",
    "                 outputdir,\n",
    "                 learning_rate,\n",
    "                 shuffle,\n",
    "                 augment)"
   ]
  },
  {
   "cell_type": "code",
   "execution_count": 21,
   "metadata": {},
   "outputs": [
    {
     "name": "stdout",
     "output_type": "stream",
     "text": [
      "2018-07-02 17:01:18,718 - INFO - EZNetTrainer - Each training epoch is 3549 steps and each validation is 3297 steps.\n",
      "2018-07-02 17:01:18,718 - INFO - EZNetTrainer - Each training epoch is 3549 steps and each validation is 3297 steps.\n",
      "2018-07-02 17:01:18,723 - INFO - EZNetTrainer - Setting the datasets for training/testing in trainer object!\n",
      "2018-07-02 17:01:18,723 - INFO - EZNetTrainer - Setting the datasets for training/testing in trainer object!\n",
      "2018-07-02 17:01:18,728 - INFO - EZNetTrainer - Image size is (30, 480) with 1 colors\n",
      "2018-07-02 17:01:18,728 - INFO - EZNetTrainer - Image size is (30, 480) with 1 colors\n"
     ]
    }
   ],
   "source": [
    "trainer.composedatasets(reader.train_dataset, reader.test_dataset)"
   ]
  },
  {
   "cell_type": "code",
   "execution_count": 22,
   "metadata": {},
   "outputs": [
    {
     "name": "stdout",
     "output_type": "stream",
     "text": [
      "(3297, 30, 480, 1)\n",
      "(3297, 480, 1)\n",
      "(3297, 2)\n"
     ]
    }
   ],
   "source": [
    "print(reader.test_dataset.X_aux.shape)\n",
    "print(reader.test_dataset.X_chan.shape)\n",
    "print(reader.test_dataset.ylabels.shape)"
   ]
  },
  {
   "cell_type": "code",
   "execution_count": 23,
   "metadata": {},
   "outputs": [],
   "source": [
    "trainer.configure()"
   ]
  },
  {
   "cell_type": "code",
   "execution_count": 24,
   "metadata": {},
   "outputs": [
    {
     "ename": "TypeError",
     "evalue": "super(type, obj): obj must be an instance or subtype of type",
     "output_type": "error",
     "traceback": [
      "\u001b[0;31m---------------------------------------------------------------------------\u001b[0m",
      "\u001b[0;31mTypeError\u001b[0m                                 Traceback (most recent call last)",
      "\u001b[0;32m<ipython-input-24-3435b262f1ae>\u001b[0m in \u001b[0;36m<module>\u001b[0;34m()\u001b[0m\n\u001b[0;32m----> 1\u001b[0;31m \u001b[0mtrainer\u001b[0m\u001b[0;34m.\u001b[0m\u001b[0mtrain\u001b[0m\u001b[0;34m(\u001b[0m\u001b[0;34m)\u001b[0m\u001b[0;34m\u001b[0m\u001b[0m\n\u001b[0m",
      "\u001b[0;32m~/Documents/dnn-unsupervised/dnn/keras_models/trainers/eznet.py\u001b[0m in \u001b[0;36mtrain\u001b[0;34m(self)\u001b[0m\n\u001b[1;32m    203\u001b[0m \u001b[0;34m\u001b[0m\u001b[0m\n\u001b[1;32m    204\u001b[0m     \u001b[0;32mdef\u001b[0m \u001b[0mtrain\u001b[0m\u001b[0;34m(\u001b[0m\u001b[0mself\u001b[0m\u001b[0;34m)\u001b[0m\u001b[0;34m:\u001b[0m\u001b[0;34m\u001b[0m\u001b[0m\n\u001b[0;32m--> 205\u001b[0;31m         \u001b[0mself\u001b[0m\u001b[0;34m.\u001b[0m\u001b[0m_loadgenerator\u001b[0m\u001b[0;34m(\u001b[0m\u001b[0;34m)\u001b[0m\u001b[0;34m\u001b[0m\u001b[0m\n\u001b[0m\u001b[1;32m    206\u001b[0m         \u001b[0mprint\u001b[0m\u001b[0;34m(\u001b[0m\u001b[0;34m\"Training data: \"\u001b[0m\u001b[0;34m,\u001b[0m \u001b[0mself\u001b[0m\u001b[0;34m.\u001b[0m\u001b[0mtrain_dataset\u001b[0m\u001b[0;34m.\u001b[0m\u001b[0mX_aux\u001b[0m\u001b[0;34m.\u001b[0m\u001b[0mshape\u001b[0m\u001b[0;34m,\u001b[0m  \u001b[0mself\u001b[0m\u001b[0;34m.\u001b[0m\u001b[0mtrain_dataset\u001b[0m\u001b[0;34m.\u001b[0m\u001b[0mylabels\u001b[0m\u001b[0;34m.\u001b[0m\u001b[0mshape\u001b[0m\u001b[0;34m)\u001b[0m\u001b[0;34m\u001b[0m\u001b[0m\n\u001b[1;32m    207\u001b[0m         \u001b[0mprint\u001b[0m\u001b[0;34m(\u001b[0m\u001b[0;34m\"Testing data: \"\u001b[0m\u001b[0;34m,\u001b[0m  \u001b[0mself\u001b[0m\u001b[0;34m.\u001b[0m\u001b[0mtest_dataset\u001b[0m\u001b[0;34m.\u001b[0m\u001b[0mX_aux\u001b[0m\u001b[0;34m.\u001b[0m\u001b[0mshape\u001b[0m\u001b[0;34m,\u001b[0m  \u001b[0mself\u001b[0m\u001b[0;34m.\u001b[0m\u001b[0mtest_dataset\u001b[0m\u001b[0;34m.\u001b[0m\u001b[0mylabels\u001b[0m\u001b[0;34m.\u001b[0m\u001b[0mshape\u001b[0m\u001b[0;34m)\u001b[0m\u001b[0;34m\u001b[0m\u001b[0m\n",
      "\u001b[0;32m~/Documents/dnn-unsupervised/dnn/keras_models/trainers/eznet.py\u001b[0m in \u001b[0;36m_loadgenerator\u001b[0;34m(self)\u001b[0m\n\u001b[1;32m    258\u001b[0m \u001b[0;34m\u001b[0m\u001b[0m\n\u001b[1;32m    259\u001b[0m         \u001b[0;31m# This will do preprocessing and realtime data augmentation:\u001b[0m\u001b[0;34m\u001b[0m\u001b[0;34m\u001b[0m\u001b[0m\n\u001b[0;32m--> 260\u001b[0;31m         \u001b[0mself\u001b[0m\u001b[0;34m.\u001b[0m\u001b[0mgenerator\u001b[0m \u001b[0;34m=\u001b[0m \u001b[0mAuxImgDataGenerator\u001b[0m\u001b[0;34m(\u001b[0m\u001b[0;34m**\u001b[0m\u001b[0mimagedatagen_args\u001b[0m\u001b[0;34m)\u001b[0m\u001b[0;34m\u001b[0m\u001b[0m\n\u001b[0m",
      "\u001b[0;32m~/Documents/dnn-unsupervised/dnn/util/generators/auxseq/generator.py\u001b[0m in \u001b[0;36m__init__\u001b[0;34m(self, *args, **kwargs)\u001b[0m\n\u001b[1;32m      8\u001b[0m \u001b[0;32mclass\u001b[0m \u001b[0mAuxImgDataGenerator\u001b[0m\u001b[0;34m(\u001b[0m\u001b[0mImageDataGenerator\u001b[0m\u001b[0;34m)\u001b[0m\u001b[0;34m:\u001b[0m\u001b[0;34m\u001b[0m\u001b[0m\n\u001b[1;32m      9\u001b[0m     \u001b[0;32mdef\u001b[0m \u001b[0m__init__\u001b[0m\u001b[0;34m(\u001b[0m\u001b[0mself\u001b[0m\u001b[0;34m,\u001b[0m \u001b[0;34m*\u001b[0m\u001b[0margs\u001b[0m\u001b[0;34m,\u001b[0m \u001b[0;34m**\u001b[0m\u001b[0mkwargs\u001b[0m\u001b[0;34m)\u001b[0m\u001b[0;34m:\u001b[0m\u001b[0;34m\u001b[0m\u001b[0m\n\u001b[0;32m---> 10\u001b[0;31m         \u001b[0msuper\u001b[0m\u001b[0;34m(\u001b[0m\u001b[0mAuxImgDataGenerator\u001b[0m\u001b[0;34m,\u001b[0m \u001b[0mself\u001b[0m\u001b[0;34m)\u001b[0m\u001b[0;34m.\u001b[0m\u001b[0m__init__\u001b[0m\u001b[0;34m(\u001b[0m\u001b[0;34m*\u001b[0m\u001b[0margs\u001b[0m\u001b[0;34m,\u001b[0m \u001b[0;34m**\u001b[0m\u001b[0mkwargs\u001b[0m\u001b[0;34m)\u001b[0m\u001b[0;34m\u001b[0m\u001b[0m\n\u001b[0m\u001b[1;32m     11\u001b[0m         \u001b[0mself\u001b[0m\u001b[0;34m.\u001b[0m\u001b[0miterator\u001b[0m\u001b[0;34m=\u001b[0m\u001b[0;32mNone\u001b[0m\u001b[0;34m\u001b[0m\u001b[0m\n\u001b[1;32m     12\u001b[0m \u001b[0;34m\u001b[0m\u001b[0m\n",
      "\u001b[0;31mTypeError\u001b[0m: super(type, obj): obj must be an instance or subtype of type"
     ]
    }
   ],
   "source": [
    "trainer.train()"
   ]
  },
  {
   "cell_type": "code",
   "execution_count": null,
   "metadata": {},
   "outputs": [],
   "source": [
    "print(trainer.batch_size)"
   ]
  },
  {
   "cell_type": "code",
   "execution_count": null,
   "metadata": {},
   "outputs": [],
   "source": []
  }
 ],
 "metadata": {
  "kernelspec": {
   "display_name": "dnn",
   "language": "python",
   "name": "dnn"
  },
  "language_info": {
   "codemirror_mode": {
    "name": "ipython",
    "version": 3
   },
   "file_extension": ".py",
   "mimetype": "text/x-python",
   "name": "python",
   "nbconvert_exporter": "python",
   "pygments_lexer": "ipython3",
   "version": "3.6.5"
  }
 },
 "nbformat": 4,
 "nbformat_minor": 2
}
