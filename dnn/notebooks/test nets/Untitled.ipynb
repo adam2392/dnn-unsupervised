{
 "cells": [
  {
   "cell_type": "markdown",
   "metadata": {},
   "source": [
    "# Test Through Loss Functions\n",
    "\n",
    "7/3/18: I should understand what the input/output for each of the loss functions looks like. To make sure we have an understanding of the inner workings of our nn."
   ]
  },
  {
   "cell_type": "code",
   "execution_count": 2,
   "metadata": {},
   "outputs": [],
   "source": [
    "from itertools import product\n",
    "import functools\n",
    "import keras\n",
    "import keras.backend as K\n",
    "\n",
    "import numpy as np"
   ]
  },
  {
   "cell_type": "code",
   "execution_count": 13,
   "metadata": {},
   "outputs": [
    {
     "name": "stdout",
     "output_type": "stream",
     "text": [
      "Tensor(\"Cast_3:0\", shape=(5, 1), dtype=float32)\n",
      "Tensor(\"Cast_2:0\", shape=(5, 1), dtype=float32)\n"
     ]
    }
   ],
   "source": [
    "test = np.random.random((5, 1))\n",
    "labels = np.random.randint(0, size=(5,1), high=2)\n",
    "\n",
    "test = K.cast(test,'float32') \n",
    "labels = K.cast(labels,'float32') \n",
    "print(labels)\n",
    "print(test)"
   ]
  },
  {
   "cell_type": "code",
   "execution_count": 28,
   "metadata": {},
   "outputs": [
    {
     "name": "stdout",
     "output_type": "stream",
     "text": [
      "Tensor(\"strided_slice:0\", shape=(), dtype=float32)\n",
      "<bound method Tensor.eval of <tf.Tensor 'Mean_11:0' shape=(5,) dtype=float32>>\n",
      "Tensor(\"Mean_11:0\", shape=(5,), dtype=float32)\n"
     ]
    }
   ],
   "source": [
    "loss = keras.losses.binary_crossentropy(test, labels)\n",
    "print(loss[0])\n",
    "print(loss.eval)\n",
    "print(loss)"
   ]
  },
  {
   "cell_type": "code",
   "execution_count": null,
   "metadata": {},
   "outputs": [],
   "source": []
  }
 ],
 "metadata": {
  "kernelspec": {
   "display_name": "dnn",
   "language": "python",
   "name": "dnn"
  },
  "language_info": {
   "codemirror_mode": {
    "name": "ipython",
    "version": 3
   },
   "file_extension": ".py",
   "mimetype": "text/x-python",
   "name": "python",
   "nbconvert_exporter": "python",
   "pygments_lexer": "ipython3",
   "version": "3.6.5"
  }
 },
 "nbformat": 4,
 "nbformat_minor": 2
}
