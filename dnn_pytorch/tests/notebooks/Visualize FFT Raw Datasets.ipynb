{
 "cells": [
  {
   "cell_type": "markdown",
   "metadata": {},
   "source": [
    "# Visualizing The Raw FFT Computations\n",
    "\n",
    "From our data pipeline, each raw SEEG/ECoG dataset will compute FFT and Morlet transformations with some specified window size and step size. \n",
    "\n",
    "It would be nice to visualize the distributions and heatmaps of the datasets computed to ensure that the scale and variance are confined."
   ]
  },
  {
   "cell_type": "code",
   "execution_count": 1,
   "metadata": {},
   "outputs": [],
   "source": [
    "import os\n",
    "import numpy as np\n",
    "import sys\n",
    "sys.path.append('../../')\n",
    "import sklearn\n",
    "\n",
    "import matplotlib\n",
    "import matplotlib.pyplot as plt\n",
    "import seaborn as sns\n",
    "\n",
    "expname = 'visualize_fft'\n",
    "figpath = os.path.join('/Users/adam2392/Documents/figures/', expname)\n",
    "if not os.path.exists(figpath):\n",
    "    os.makedirs(figpath)\n",
    "\n",
    "# import statistical distance measures\n",
    "from sklearn.preprocessing import scale\n",
    "from sklearn.metrics import mutual_info_score\n",
    "from sklearn.metrics import normalized_mutual_info_score\n",
    "# from sklearn.metrics import adjusted_mutual_info_score\n",
    "from scipy.stats import chisquare\n",
    "from scipy.stats import ks_2samp\n",
    "from scipy.stats import entropy\n",
    "from scipy.linalg import norm\n",
    "from scipy.spatial.distance import euclidean\n",
    "def hellinger(p, q):\n",
    "    return np.sqrt(np.sum((np.sqrt(p) - np.sqrt(q)) ** 2)) / _SQRT2\n",
    "\n",
    "%load_ext autoreload\n",
    "%autoreload 2"
   ]
  },
  {
   "cell_type": "code",
   "execution_count": 2,
   "metadata": {},
   "outputs": [],
   "source": [
    "def subset_labels(chanlabels1, chanlabels2):\n",
    "    chanlabels1 = [label.lower() for label in chanlabels1]\n",
    "    chanlabels2 = [label.lower() for label in chanlabels2]\n",
    "    \n",
    "    set1inds = []\n",
    "    for label in chanlabels2:\n",
    "        try:\n",
    "            set1inds.append(chanlabels1.index(label))\n",
    "        except ValueError as e:\n",
    "            continue\n",
    "#             print(e)\n",
    "\n",
    "    chanlabels1 = np.array(chanlabels1)[set1inds]\n",
    "    set2inds = []\n",
    "    for label in chanlabels1:\n",
    "        try:\n",
    "            set2inds.append(chanlabels2.index(label))\n",
    "        except ValueError as e:\n",
    "            continue\n",
    "#             print(e)\n",
    "    chanlabels2 = np.array(chanlabels2)[set2inds]\n",
    "    return set1inds, set2inds\n",
    "\n",
    "def converttimestowindow(timepoints, time):\n",
    "    winindices = np.where(np.logical_and(\n",
    "        timepoints[:, 0] < time, timepoints[:, 1] > time))[0][0]\n",
    "    return winindices\n",
    "\n",
    "def sync_data(realdata, simdata, typedata='all'):\n",
    "    # match up data based on the channel labels\n",
    "    metadata = realdata['metadata'].item()\n",
    "    realchanlabels = metadata['chanlabels']\n",
    "    real_onsetind = metadata['onsetind'].astype(int)\n",
    "    real_offsetind = metadata['offsetind'].astype(int)\n",
    "    real_timepoints = realdata['timepoints']\n",
    "    \n",
    "    metadata = simdata['metadata'].item()\n",
    "    chanlabels = metadata['chanlabels']\n",
    "    sim_onsets = metadata['onsettimes']\n",
    "    sim_offsets = metadata['offsettimes']\n",
    "    sim_timepoints = simdata['timepoints']\n",
    "    \n",
    "    numsamps = len(sim_timepoints)\n",
    "    iiwins = get_interictal(sim_onsets, sim_offsets, numsamps)\n",
    "    \n",
    "    set1, set2 = subset_labels(realchanlabels, chanlabels)\n",
    "    \n",
    "    real_onsetind = converttimestowindow(real_timepoints, real_onsetind)\n",
    "    real_offsetind = converttimestowindow(real_timepoints, real_offsetind)\n",
    "    sim_onsetind = converttimestowindow(sim_timepoints, sim_onsets[0])\n",
    "    sim_offsetind = converttimestowindow(sim_timepoints, sim_offsets[0])\n",
    "    \n",
    "    # get the power spectrum at the mutual set of channels\n",
    "    realpower = realdata['power'][set1, ...]\n",
    "    simpower = simdata['power'][set2, ...]\n",
    "    \n",
    "    print(real_onsetind, real_offsetind)\n",
    "    print(sim_onsetind, sim_offsetind)\n",
    "    \n",
    "    if typedata == 'ictal':\n",
    "        realpower = clip_interictal(realpower, real_onsetind, real_offsetind)\n",
    "        simpower = clip_interictal(simpower, sim_onsetind, sim_offsetind)\n",
    "    elif typedata == 'interictal':\n",
    "        realpower = clip_ictal(realpower, real_onsetind)\n",
    "#         simpower = clip_ictal(simpower, sim_onsetind)\n",
    "        simpower = simpower[...,iiwins]\n",
    "    \n",
    "    return realpower, simpower\n",
    "\n",
    "def clip_ictal(power, onsetind):\n",
    "    return power[..., 0:onsetind]\n",
    "\n",
    "def clip_interictal(power, onsetind, offsetind):\n",
    "    return power[..., onsetind:offsetind]"
   ]
  },
  {
   "cell_type": "code",
   "execution_count": 3,
   "metadata": {},
   "outputs": [],
   "source": [
    "def get_interictal(onsets, offsets, numsamps):\n",
    "    allwins = np.arange(0, numsamps).astype(int)\n",
    "    print(onsets, offsets)\n",
    "    print(allwins.shape)\n",
    "    for idx, onset in enumerate(onsets):\n",
    "        if idx < len(offsets):\n",
    "            offset = offsets[idx]\n",
    "            allwins[int(onset):int(offset)] = -1\n",
    "        \n",
    "    allwins[allwins==-1] = []\n",
    "    print(allwins.shape)\n",
    "    return allwins"
   ]
  },
  {
   "cell_type": "markdown",
   "metadata": {},
   "source": [
    "# Load in Real SEEG FFT Data"
   ]
  },
  {
   "cell_type": "code",
   "execution_count": 4,
   "metadata": {},
   "outputs": [],
   "source": [
    "patient = 'id001_bt'\n",
    "# patient = ''"
   ]
  },
  {
   "cell_type": "code",
   "execution_count": 5,
   "metadata": {},
   "outputs": [
    {
     "name": "stdout",
     "output_type": "stream",
     "text": [
      "['/Volumes/ADAM LI/pydata/output_fft/tngcenter/fft/id001_bt/BTcrisePavecGeneralisation_0007_fftmodel.npz', '/Volumes/ADAM LI/pydata/output_fft/tngcenter/fft/id001_bt/BTcrise2appportable_0013_fftmodel.npz', '/Volumes/ADAM LI/pydata/output_fft/tngcenter/fft/id001_bt/BTcrise1appportable_0006_fftmodel.npz', '/Volumes/ADAM LI/pydata/output_fft/tngcenter/fft/id001_bt/BTcrisepartielle+preictalspiking_0009_fftmodel.npz']\n"
     ]
    }
   ],
   "source": [
    "realseeg_fftdir = '/Volumes/ADAM LI/pydata/output_fft/tngcenter/fft/'\n",
    "patdir = os.path.join(realseeg_fftdir, patient)\n",
    "\n",
    "# get a list of all the datasets for this patient\n",
    "filepaths = []\n",
    "for root, dirs, files in os.walk(patdir):\n",
    "    for file in files:\n",
    "        if '.npz' in file:\n",
    "            filepaths.append(os.path.join(root, file))\n",
    "print(filepaths)\n"
   ]
  },
  {
   "cell_type": "code",
   "execution_count": 6,
   "metadata": {},
   "outputs": [
    {
     "name": "stdout",
     "output_type": "stream",
     "text": [
      "['phase', 'timepoints', 'freqs', 'power', 'metadata']\n",
      "dict_keys(['offsetsec', 'samplefreq', 'onsetind', 'onsetsec', 'offsetind', 'stepsize', 'winsize', 'mtbandwidth', 'rawfilename', 'chanlabels'])\n",
      "(92, 2561, 298)\n",
      "1024.0\n"
     ]
    }
   ],
   "source": [
    "for resultfile in filepaths:\n",
    "    realdata = np.load(resultfile, encoding='latin1')\n",
    "    power = realdata['power']\n",
    "    freqs = realdata['freqs']\n",
    "    metadata = realdata['metadata'].item()\n",
    "    timepoints = realdata['timepoints']\n",
    "    onsetind = metadata['onsetind']\n",
    "    offsetind = metadata['offsetind']\n",
    "    realchanlabels = metadata['chanlabels']\n",
    "\n",
    "    print(realdata.keys())\n",
    "    print(metadata.keys())\n",
    "    print(power.shape)\n",
    "    print(metadata['samplefreq'])\n",
    "    break"
   ]
  },
  {
   "cell_type": "markdown",
   "metadata": {},
   "source": [
    "# Load in Simulated SEEG FFT Data"
   ]
  },
  {
   "cell_type": "code",
   "execution_count": 7,
   "metadata": {},
   "outputs": [
    {
     "name": "stdout",
     "output_type": "stream",
     "text": [
      "['/Volumes/ADAM LI/pydata/output_sim/tvbsim/exp014/freq/fft/id001_bt/id001_bt_dist-1_fftmodel.npz']\n"
     ]
    }
   ],
   "source": [
    "simseeg_fftdir = '/Volumes/ADAM LI/pydata/output_sim/tvbsim/exp014/freq/fft/'\n",
    "patdir = os.path.join(simseeg_fftdir, patient)\n",
    "\n",
    "# get a list of all the datasets for this patient\n",
    "filepaths = []\n",
    "for root, dirs, files in os.walk(patdir):\n",
    "    for file in files:\n",
    "        if '.npz' in file:\n",
    "            filepaths.append(os.path.join(root, file))\n",
    "print(filepaths)\n"
   ]
  },
  {
   "cell_type": "code",
   "execution_count": 8,
   "metadata": {},
   "outputs": [
    {
     "name": "stdout",
     "output_type": "stream",
     "text": [
      "['phase', 'timepoints', 'freqs', 'power', 'metadata']\n",
      "dict_keys(['ezregs', 'samplefreq', 'x0pz', 'epiparams', 'pzindices', 'patient', 'samplerate', 'ezindices', 'chanlabels', 'regions', 'offsettimes', 'onsettimes', 'gainmat', 'x0norm', 'stepsize', 'x0ez', 'pzregs', 'seeg_xyz', 'regions_centers', 'winsize', 'mtbandwidth', 'rawfilename'])\n",
      "(161, 2501, 15)\n",
      "[2664.0, 29311.0] [14146.0]\n",
      "1000\n"
     ]
    }
   ],
   "source": [
    "for resultfile in filepaths:\n",
    "    simdata = np.load(resultfile, encoding='latin1')\n",
    "    metadata = simdata['metadata'].item()\n",
    "    power = simdata['power']\n",
    "    freqs = simdata['freqs']\n",
    "    timepoints = simdata['timepoints']\n",
    "    onsetind = metadata['onsettimes']\n",
    "    offsetind = metadata['offsettimes']\n",
    "    chanlabels = metadata['chanlabels']\n",
    "\n",
    "    print(simdata.keys())\n",
    "    print(metadata.keys())\n",
    "    print(power.shape)\n",
    "    print(onsetind, offsetind)\n",
    "    print(metadata['samplerate'])\n",
    "    break"
   ]
  },
  {
   "cell_type": "code",
   "execution_count": 9,
   "metadata": {},
   "outputs": [
    {
     "name": "stdout",
     "output_type": "stream",
     "text": [
      "[2664.0, 29311.0] [14146.0]\n",
      "(15,)\n",
      "(15,)\n",
      "85 200\n",
      "0 4\n",
      "(92, 2561, 298)\n",
      "(92, 2501, 15)\n"
     ]
    }
   ],
   "source": [
    "realpower, simpower = sync_data(realdata, simdata)\n",
    "\n",
    "realpower = np.abs(realpower)\n",
    "simpower = np.abs(simpower)\n",
    "\n",
    "print(realpower.shape)\n",
    "print(simpower.shape)"
   ]
  },
  {
   "cell_type": "markdown",
   "metadata": {},
   "source": [
    "# Plot Real Vs Sim Power Spectrum Distribution"
   ]
  },
  {
   "cell_type": "code",
   "execution_count": 10,
   "metadata": {},
   "outputs": [
    {
     "name": "stdout",
     "output_type": "stream",
     "text": [
      "[2664.0, 29311.0] [14146.0]\n",
      "(15,)\n",
      "(15,)\n",
      "85 200\n",
      "0 4\n",
      "(92, 2561, 85)\n",
      "(92, 2501, 15)\n",
      "[2664.0, 29311.0] [14146.0]\n",
      "(15,)\n",
      "(15,)\n",
      "85 200\n",
      "0 4\n",
      "(92, 2561, 115)\n",
      "(92, 2501, 4)\n"
     ]
    },
    {
     "data": {
      "image/png": "[encoded data removed]",
      "text/plain": [
       "<matplotlib.figure.Figure at 0x11045ff98>"
      ]
     },
     "metadata": {},
     "output_type": "display_data"
    }
   ],
   "source": [
    "realpower, simpower = sync_data(realdata, simdata, 'interictal')\n",
    "\n",
    "realpower = np.abs(realpower)\n",
    "simpower = np.abs(simpower)\n",
    "\n",
    "print(realpower.shape)\n",
    "print(simpower.shape)\n",
    "\n",
    "plt.figure() # hist_kws=dict(alpha=1)\n",
    "ax = sns.distplot(realpower.ravel(), kde=False, label='real ii', hist_kws=dict(alpha=0.3))\n",
    "ax = sns.distplot(simpower.ravel(), kde=False, label='sim ii', hist_kws=dict(alpha=0.3))\n",
    "ax.set(title='Comparing Real and TVB Sim FFT Power', xlabel='Multitaper FFT Power', ylabel='Frequency (N)')\n",
    "# ax.set(title='Comparing Real and TVB Sim Morlet Power', xlabel='Morlet Wavelet Power', ylabel='Frequency (N)')\n",
    "\n",
    "realpower, simpower = sync_data(realdata, simdata, typedata='ictal')\n",
    "realpower = np.abs(realpower)\n",
    "simpower = np.abs(simpower)\n",
    "print(realpower.shape)\n",
    "print(simpower.shape)\n",
    "\n",
    "ax = sns.distplot(realpower.ravel(), kde=False, label='real ictal', hist_kws=dict(alpha=0.3))\n",
    "ax = sns.distplot(simpower.ravel(), kde=False, label='sim ictal', hist_kws=dict(alpha=0.3))\n",
    "ax.set(title='Comparing Real and TVB Sim FFT Power', xlabel='Multitaper FFT Power', ylabel='Frequency (N)')\n",
    "# ax.set(title='Comparing Real and TVB Sim Morlet Power', xlabel='Morlet Wavelet Power', ylabel='Frequency (N)')\n",
    "\n",
    "plt.legend()\n",
    "plt.savefig(os.path.join(figpath,'{}_unnormalized_fftpower.svg'.format(patient)), \n",
    "            format='svg', \n",
    "#             transparent=False,\n",
    "            dpi=1200)\n",
    "plt.show()"
   ]
  },
  {
   "cell_type": "code",
   "execution_count": 11,
   "metadata": {},
   "outputs": [],
   "source": [
    "from sklearn.preprocessing import StandardScaler\n",
    "from sklearn.preprocessing import scale\n",
    "\n",
    "def standardize_power(power):\n",
    "    scaler = StandardScaler()\n",
    "    \n",
    "    for i in range(0, power.shape[0]):\n",
    "        temp = power[i,...].squeeze()\n",
    "        temp = scale(temp, axis=1)\n",
    "        power[i,...] = temp\n",
    "    return power"
   ]
  },
  {
   "cell_type": "code",
   "execution_count": 12,
   "metadata": {},
   "outputs": [
    {
     "name": "stdout",
     "output_type": "stream",
     "text": [
      "[2664.0, 29311.0] [14146.0]\n",
      "(15,)\n",
      "(15,)\n",
      "85 200\n",
      "0 4\n",
      "(92, 2561, 85)\n",
      "(92, 2501, 15)\n",
      "[2664.0, 29311.0] [14146.0]\n",
      "(15,)\n",
      "(15,)\n",
      "85 200\n",
      "0 4\n",
      "(92, 2561, 115)\n",
      "(92, 2501, 4)\n"
     ]
    },
    {
     "data": {
      "image/png": "[encoded data removed]",
      "text/plain": [
       "<matplotlib.figure.Figure at 0x11486d588>"
      ]
     },
     "metadata": {},
     "output_type": "display_data"
    }
   ],
   "source": [
    "# show how to normalize data\n",
    "realpower, simpower = sync_data(realdata, simdata, 'interictal')\n",
    "\n",
    "realpower = np.abs(realpower)\n",
    "simpower = np.abs(simpower)\n",
    "\n",
    "print(realpower.shape)\n",
    "print(simpower.shape)\n",
    "simpower = standardize_power(simpower)\n",
    "realpower = standardize_power(realpower)\n",
    "\n",
    "plt.figure() # hist_kws=dict(alpha=1)\n",
    "ax = sns.distplot(realpower.ravel(), kde=False, label='real ii', hist_kws=dict(alpha=0.4))\n",
    "ax = sns.distplot(simpower.ravel(), kde=False, label='sim ii', hist_kws=dict(alpha=0.4))\n",
    "ax.set(title='Comparing Real and TVB Sim FFT Power', xlabel='Multitaper FFT Power', ylabel='Frequency (N)')\n",
    "# ax.set(title='Comparing Real and TVB Sim Morlet Power', xlabel='Morlet Wavelet Power', ylabel='Frequency (N)')\n",
    "\n",
    "realpower, simpower = sync_data(realdata, simdata, typedata='ictal')\n",
    "realpower = np.abs(realpower)\n",
    "simpower = np.abs(simpower)\n",
    "\n",
    "simpower = standardize_power(simpower)\n",
    "realpower = standardize_power(realpower)\n",
    "\n",
    "print(realpower.shape)\n",
    "print(simpower.shape)\n",
    "\n",
    "ax = sns.distplot(realpower.ravel(), kde=False, label='real ictal', hist_kws=dict(alpha=0.4))\n",
    "ax = sns.distplot(simpower.ravel(), kde=False, label='sim ictal', hist_kws=dict(alpha=0.4))\n",
    "ax.set(title='Comparing Real and TVB Sim FFT Power', xlabel='Multitaper FFT Power', ylabel='Frequency (N)')\n",
    "# ax.set(title='Comparing Real and TVB Sim Morlet Power', xlabel='Morlet Wavelet Power', ylabel='Frequency (N)')\n",
    "\n",
    "plt.legend()\n",
    "plt.grid('off')\n",
    "plt.savefig(os.path.join(figpath,'{}_normalized_fftpower.svg'.format(patient)), \n",
    "            format='svg', \n",
    "#             transparent=True,\n",
    "            dpi=1200)\n",
    "plt.show()"
   ]
  },
  {
   "cell_type": "code",
   "execution_count": 123,
   "metadata": {},
   "outputs": [
    {
     "name": "stdout",
     "output_type": "stream",
     "text": [
      "0.5249174591095209 10.340663174959\n",
      "1.7095966442084288e-07 7.468443253890768\n",
      "4.63440646785127 2.1726889566753207\n",
      "0.6593634038475552 0.9711387581312458\n"
     ]
    }
   ],
   "source": [
    "print(np.min(simpower.ravel()), np.max(simpower.ravel()))\n",
    "print(np.min(realpower.ravel()), np.max(realpower.ravel()))\n",
    "print(np.mean(simpower.ravel()), np.mean(realpower.ravel()))\n",
    "print(np.std(simpower.ravel()), np.std(realpower.ravel()))"
   ]
  },
  {
   "cell_type": "markdown",
   "metadata": {},
   "source": [
    "## General Notes\n",
    "Looks like the simulated power decomposition is a biased towards higher powers and also has less variability then the real power spectrum.\n",
    "\n",
    "## Interictal\n",
    "Also, overestimates mean and underestimates the variance\n",
    "\n",
    "## Ictal\n",
    "Also, overestimates mean and underestimates the variance"
   ]
  },
  {
   "cell_type": "code",
   "execution_count": 14,
   "metadata": {},
   "outputs": [
    {
     "name": "stdout",
     "output_type": "stream",
     "text": [
      "[2664.0, 29311.0] [14146.0]\n",
      "(15,)\n",
      "(15,)\n",
      "85 200\n",
      "0 4\n",
      "(92, 2561, 115)\n",
      "(92, 2501, 4)\n",
      "0.056573865206897334 0.0\n"
     ]
    }
   ],
   "source": [
    "# compare using KS test\n",
    "# show how to normalize data\n",
    "realpower, simpower = sync_data(realdata, simdata, 'ictal')\n",
    "realpower = np.abs(realpower)\n",
    "simpower = np.abs(simpower)\n",
    "print(realpower.shape)\n",
    "print(simpower.shape)\n",
    "simpower = standardize_power(simpower)\n",
    "realpower = standardize_power(realpower)\n",
    "\n",
    "simpower = simpower.ravel()\n",
    "realpower = realpower.ravel()\n",
    "# compare using KS\n",
    "stat, pval = ks_2samp(simpower.ravel(), realpower.ravel())\n",
    "print(stat, pval)"
   ]
  },
  {
   "cell_type": "markdown",
   "metadata": {},
   "source": [
    "# Perform Sampling and Using KL Divergence"
   ]
  },
  {
   "cell_type": "code",
   "execution_count": 15,
   "metadata": {},
   "outputs": [],
   "source": [
    "realpower = np.random.choice(realpower, size=simpower.shape, replace=False)"
   ]
  },
  {
   "cell_type": "code",
   "execution_count": 16,
   "metadata": {},
   "outputs": [
    {
     "name": "stdout",
     "output_type": "stream",
     "text": [
      "inf\n"
     ]
    }
   ],
   "source": [
    "print(entropy(realpower, simpower))"
   ]
  },
  {
   "cell_type": "code",
   "execution_count": 17,
   "metadata": {},
   "outputs": [
    {
     "name": "stdout",
     "output_type": "stream",
     "text": [
      "1.0\n"
     ]
    }
   ],
   "source": [
    "print(normalized_mutual_info_score(realpower, simpower))"
   ]
  },
  {
   "cell_type": "markdown",
   "metadata": {},
   "source": [
    "# Load in Real SEEG FFT Image Transformed Data"
   ]
  },
  {
   "cell_type": "code",
   "execution_count": 148,
   "metadata": {},
   "outputs": [
    {
     "name": "stdout",
     "output_type": "stream",
     "text": [
      "['/Volumes/ADAM LI/pydata/output_fft/freqimg/fft/id001_bt/BTcrisePavecGeneralisation_0007_fftmodel.npz', '/Volumes/ADAM LI/pydata/output_fft/freqimg/fft/id001_bt/BTcrise2appportable_0013_fftmodel.npz', '/Volumes/ADAM LI/pydata/output_fft/freqimg/fft/id001_bt/BTcrise1appportable_0006_fftmodel.npz', '/Volumes/ADAM LI/pydata/output_fft/freqimg/fft/id001_bt/BTcrisepartielle+preictalspiking_0009_fftmodel.npz']\n"
     ]
    }
   ],
   "source": [
    "realseeg_imgdir = '/Volumes/ADAM LI/pydata/output_fft/freqimg/fft/'\n",
    "pat_imgdir = os.path.join(realseeg_imgdir, patient)\n",
    "\n",
    "# get a list of all the datasets for this patient\n",
    "filepaths = []\n",
    "for root, dirs, files in os.walk(pat_imgdir):\n",
    "    for file in files:\n",
    "        if '.npz' in file:\n",
    "            filepaths.append(os.path.join(root, file))\n",
    "print(filepaths)"
   ]
  },
  {
   "cell_type": "code",
   "execution_count": 152,
   "metadata": {},
   "outputs": [
    {
     "name": "stdout",
     "output_type": "stream",
     "text": [
      "dict_keys(['ezregs', 'samplefreq', 'x0pz', 'epiparams', 'pzindices', 'patient', 'samplerate', 'ezindices', 'chanlabels', 'regions', 'offsettimes', 'onsettimes', 'gainmat', 'x0norm', 'stepsize', 'x0ez', 'pzregs', 'seeg_xyz', 'regions_centers', 'winsize', 'mtbandwidth', 'rawfilename'])\n",
      "['image_tensor', 'metadata']\n"
     ]
    }
   ],
   "source": [
    "for resultfile in filepaths:\n",
    "    realdata = np.load(resultfile, encoding='latin1')\n",
    "    metadata = simdata['metadata'].item()\n",
    "    imagetensor = realdata['image_tensor']\n",
    "    ylabels = \n",
    "    print(metadata.keys())\n",
    "    print(realdata.keys())\n",
    "    break"
   ]
  },
  {
   "cell_type": "code",
   "execution_count": null,
   "metadata": {},
   "outputs": [],
   "source": [
    "print(image_tensor.shape)"
   ]
  },
  {
   "cell_type": "markdown",
   "metadata": {},
   "source": [
    "# Load in Simulated SEEG FFT Image Transformed Data"
   ]
  },
  {
   "cell_type": "code",
   "execution_count": 5,
   "metadata": {},
   "outputs": [],
   "source": [
    "simseeg_imgdir = '/Volumes/ADAM LI/'"
   ]
  },
  {
   "cell_type": "code",
   "execution_count": null,
   "metadata": {},
   "outputs": [],
   "source": []
  }
 ],
 "metadata": {
  "kernelspec": {
   "display_name": "dnn",
   "language": "python",
   "name": "dnn"
  },
  "language_info": {
   "codemirror_mode": {
    "name": "ipython",
    "version": 3
   },
   "file_extension": ".py",
   "mimetype": "text/x-python",
   "name": "python",
   "nbconvert_exporter": "python",
   "pygments_lexer": "ipython3",
   "version": "3.6.5"
  }
 },
 "nbformat": 4,
 "nbformat_minor": 2
}
