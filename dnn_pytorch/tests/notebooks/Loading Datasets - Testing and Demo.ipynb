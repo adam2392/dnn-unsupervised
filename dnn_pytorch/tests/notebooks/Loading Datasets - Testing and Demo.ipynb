{
 "cells": [
  {
   "cell_type": "code",
   "execution_count": 1,
   "metadata": {},
   "outputs": [],
   "source": [
    "import torch\n",
    "from torch.utils.data import Dataset, DataLoader\n",
    "import torchvision\n",
    "from torchvision import transforms, utils\n",
    "import sklearn\n",
    "import numpy as np\n",
    "\n",
    "import sys\n",
    "sys.path.append('../../')\n",
    "\n",
    "from processing.fftdataset import FFT2DImageDataset\n",
    "from util.augment import *\n",
    "from util import augmentations\n",
    "\n",
    "from PIL import Image\n",
    "\n",
    "from skimage import io, transform\n",
    "import matplotlib.pyplot as plt\n",
    "import seaborn as sns\n",
    "\n",
    "%load_ext autoreload\n",
    "%autoreload 2"
   ]
  },
  {
   "cell_type": "code",
   "execution_count": 2,
   "metadata": {},
   "outputs": [],
   "source": [
    "root_dir = '/Volumes/ADAM LI/pydata/output_fft/tngcenter/win500_step250/'\n",
    "root_dir = '/Volumes/ADAM LI/pydata/output_fft/asimages/realtng/'\n",
    "datasetnames = []\n",
    "\n",
    "chanmeans = [0.485, 0.456, 0.406]\n",
    "chanstd = [0.229, 0.224, 0.225]\n",
    "imsize = 32"
   ]
  },
  {
   "cell_type": "code",
   "execution_count": 94,
   "metadata": {},
   "outputs": [
    {
     "name": "stdout",
     "output_type": "stream",
     "text": [
      "<torch.utils.data.dataloader.DataLoader object at 0x10dc3fd68>\n",
      "<processing.fftdataset.FFT2DImageDataset object at 0x10dc576d8>\n"
     ]
    }
   ],
   "source": [
    "data_transform = transforms.Compose([\n",
    "    transforms.ToPILImage(mode='RGBA'),\n",
    "#     transforms.RandomApply(transforms, p=0.5),\n",
    "#     augmentations.RandomLightingNoise(),\n",
    "#     transforms.RandomSizedCrop(2),  \n",
    "#     transforms.CenterCrop(3),\n",
    "    transforms.RandomHorizontalFlip(p=0.5),\n",
    "    transforms.RandomVerticalFlip(p=0.5),\n",
    "    transforms.RandomRotation(degrees=5, \n",
    "                            resample=False, \n",
    "                            expand=False, \n",
    "                            center=None),\n",
    "    transforms.RandomAffine(degrees=5, \n",
    "                            translate=(0.1,0.1), \n",
    "                            scale=None, \n",
    "                            shear=5, \n",
    "                            resample=False, \n",
    "                            fillcolor=0),\n",
    "    transforms.ToTensor(),\n",
    "    transforms.Normalize(mean=chanmeans,    # apply normalization along channel axis\n",
    "                         std=chanstd),\n",
    "    augmentations.InjectNoise(),\n",
    "])\n",
    "\n",
    "\n",
    "dataset = FFT2DImageDataset(root_dir, datasetnames, transform=data_transform)\n",
    "dataloader = DataLoader(dataset, \n",
    "                    batch_size=1,\n",
    "                    shuffle=True, \n",
    "                    num_workers=1)\n",
    "\n",
    "print(dataloader)\n",
    "print(dataloader.dataset)"
   ]
  },
  {
   "cell_type": "code",
   "execution_count": 95,
   "metadata": {},
   "outputs": [
    {
     "name": "stdout",
     "output_type": "stream",
     "text": [
      "0\n",
      "torch.Size([1, 4, 32, 32])\n",
      "torch.Size([1, 2])\n"
     ]
    }
   ],
   "source": [
    "for i_batch, sample_batched in enumerate(dataloader):\n",
    "    images_batch, ylabels = sample_batched[0], sample_batched[1]\n",
    "    print(i_batch)\n",
    "    print(images_batch.shape)\n",
    "    print(ylabels.shape)\n",
    "    break"
   ]
  },
  {
   "cell_type": "code",
   "execution_count": 79,
   "metadata": {},
   "outputs": [
    {
     "name": "stdout",
     "output_type": "stream",
     "text": [
      "torch.Size([32, 32, 4])\n",
      "(32, 32, 4)\n",
      "(32, 32)\n",
      "(32, 32, 4)\n"
     ]
    },
    {
     "data": {
      "text/plain": [
       "<matplotlib.image.AxesImage at 0x122673e80>"
      ]
     },
     "execution_count": 79,
     "metadata": {},
     "output_type": "execute_result"
    },
    {
     "data": {
      "image/png": "[encoded data removed]",
      "text/plain": [
       "<matplotlib.figure.Figure at 0x12efe81d0>"
      ]
     },
     "metadata": {},
     "output_type": "display_data"
    }
   ],
   "source": [
    "# Get the color map by name:\n",
    "cm = plt.get_cmap('jet')\n",
    "image = np.swapaxes(images_batch.squeeze(),0,2)\n",
    "print(image.shape)\n",
    "# Apply the colormap like a function to any array:\n",
    "# image = cm(image)\n",
    "\n",
    "# image *= 255.0/image.max()\n",
    "image = image.numpy()\n",
    "\n",
    "plt.figure()\n",
    "plt.imshow(image[...,0])\n",
    "plt.colorbar()\n",
    "\n",
    "# Obtain a 4-channel image (R,G,B,A) in float [0, 1]\n",
    "# But we want to convert to RGB in uint8 and save it:\n",
    "print(image.shape)\n",
    "img = Image.fromarray((image[:, :, :]).astype(np.uint8))\n",
    "print(img.size)\n",
    "print(np.array(img).shape)\n",
    "# print(img.getchannel(0))\n",
    "plt.imshow(img)"
   ]
  },
  {
   "cell_type": "code",
   "execution_count": 27,
   "metadata": {},
   "outputs": [],
   "source": [
    "# Helper function to show a batch\n",
    "def show_landmarks_batch(sample_batched):\n",
    "    \"\"\"Show image with landmarks for a batch of samples.\"\"\"\n",
    "    images_batch, ylabels = sample_batched[0], sample_batched[1]\n",
    "    \n",
    "    # get the batch size and imsize\n",
    "    batch_size = len(images_batch)\n",
    "    im_size = images_batch.size(2)\n",
    "    print(\"Batch size and im size are: %s %s\" % (batch_size, im_size))\n",
    "\n",
    "    images_batch = images_batch[0,0,...]\n",
    "    images_batch = np.swapaxes(images_batch, 0,2)\n",
    "    images_batch = images_batch[:,np.newaxis,...]\n",
    "    images_batch = [im for im in images_batch]\n",
    "    grid = utils.make_grid(images_batch, normalize=True)\n",
    "    print(grid.shape)\n",
    "    img = grid.numpy().transpose((1, 2, 0))\n",
    "    print(img.shape)\n",
    "    plt.imshow(img, cmap='jet')\n",
    "    plt.title('Batch from dataloader')"
   ]
  },
  {
   "cell_type": "code",
   "execution_count": null,
   "metadata": {},
   "outputs": [],
   "source": [
    "# %matplotlib qt5\n",
    "\n",
    "for i_batch, sample_batched in enumerate(dataloader):\n",
    "    print(i_batch, sample_batched[0].size(), sample_batched[1].size())\n",
    "\n",
    "    # observe 0th batch and stop.\n",
    "    if i_batch == 0:\n",
    "        plt.figure()\n",
    "        show_landmarks_batch(sample_batched)\n",
    "        plt.axis('off')\n",
    "#         plt.colorbar()\n",
    "#         plt.ioff()\n",
    "        plt.show()\n",
    "        break"
   ]
  },
  {
   "cell_type": "code",
   "execution_count": null,
   "metadata": {},
   "outputs": [],
   "source": [
    "import torch\n",
    "import torchvision.transforms as transforms\n",
    "import torchvision.datasets as datasets\n",
    "from torchvision.utils import make_grid\n",
    "import matplotlib.pyplot as plt\n",
    "import numpy as np\n",
    "import random\n",
    "\n",
    "import scipy.misc\n",
    "lena = scipy.misc.face()\n",
    "img = transforms.ToTensor()(lena)\n",
    "imglist = [img, img, img, img.clone().fill_(-10)]\n",
    "%matplotlib inline\n",
    "def show(img):\n",
    "    print(img.shape)\n",
    "    npimg = img.numpy()\n",
    "    plt.imshow(np.transpose(npimg, (1,2,0)), interpolation='nearest')\n",
    "show(make_grid(imglist, padding=100, normalize=True))\n"
   ]
  },
  {
   "cell_type": "code",
   "execution_count": null,
   "metadata": {},
   "outputs": [],
   "source": []
  }
 ],
 "metadata": {
  "kernelspec": {
   "display_name": "dnn",
   "language": "python",
   "name": "dnn"
  },
  "language_info": {
   "codemirror_mode": {
    "name": "ipython",
    "version": 3
   },
   "file_extension": ".py",
   "mimetype": "text/x-python",
   "name": "python",
   "nbconvert_exporter": "python",
   "pygments_lexer": "ipython3",
   "version": "3.6.5"
  }
 },
 "nbformat": 4,
 "nbformat_minor": 2
}
