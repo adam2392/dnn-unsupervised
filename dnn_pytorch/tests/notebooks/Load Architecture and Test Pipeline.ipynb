{
 "cells": [
  {
   "cell_type": "markdown",
   "metadata": {},
   "source": [
    "# Models with Pytorch Demo\n",
    "\n",
    "5/25/18 - Since, we created the pytorch models, we want to test their architectures and the functions we wrote to make sure they adapt well to our experiments that we want to run.\n",
    "\n",
    "We would like to test\n",
    "- combinations of datasets (exp###)\n",
    "- effect of batch sizes\n",
    "- type of architecture (VGG, customized, etc)\n",
    "- kernel size of convolutions ()\n",
    "\n",
    "Our models should be able to change parameters/code fast to do these."
   ]
  },
  {
   "cell_type": "code",
   "execution_count": 5,
   "metadata": {},
   "outputs": [
    {
     "name": "stdout",
     "output_type": "stream",
     "text": [
      "The autoreload extension is already loaded. To reload it, use:\n",
      "  %reload_ext autoreload\n",
      "The line_profiler extension is already loaded. To reload it, use:\n",
      "  %reload_ext line_profiler\n",
      "The memory_profiler extension is already loaded. To reload it, use:\n",
      "  %reload_ext memory_profiler\n"
     ]
    }
   ],
   "source": [
    "import os\n",
    "import numpy as np\n",
    "import sys\n",
    "sys.path.append('../../../')\n",
    "\n",
    "import torch\n",
    "import torch.nn as nn\n",
    "import torchvision\n",
    "from torchvision import transforms, utils\n",
    "from torchsummary import summary\n",
    "\n",
    "import dnn_pytorch\n",
    "from dnn_pytorch.models.cnn import ConvNet, Train\n",
    "\n",
    "import matplotlib\n",
    "import matplotlib.pyplot as plt\n",
    "import seaborn as sns\n",
    "\n",
    "%load_ext autoreload\n",
    "%autoreload 2\n",
    "%load_ext line_profiler\n",
    "%load_ext memory_profiler"
   ]
  },
  {
   "cell_type": "code",
   "execution_count": 8,
   "metadata": {},
   "outputs": [],
   "source": [
    "def createmodel(num_classes, imsize, n_colors):\n",
    "    # 1) create the model - cnn\n",
    "    model = ConvNet(num_classes=num_classes,\n",
    "                        imsize=imsize,\n",
    "                        n_colors=n_colors)\n",
    "    return model\n",
    "\n",
    "def trainmodel(model):\n",
    "    # training parameters \n",
    "    num_epochs = 100\n",
    "    batch_size = 64\n",
    "\n",
    "    # 1) create the trainer\n",
    "    trainer = Train(model, num_epochs, batch_size)\n",
    "    \n",
    "    return trainer\n",
    "def testmodel(model):\n",
    "    pass\n",
    "    # return results"
   ]
  },
  {
   "cell_type": "code",
   "execution_count": 10,
   "metadata": {},
   "outputs": [
    {
     "name": "stdout",
     "output_type": "stream",
     "text": [
      "<dnn_pytorch.models.cnn.Train object at 0x118ec3da0>\n",
      "cpu\n"
     ]
    }
   ],
   "source": [
    "imsize = 32\n",
    "n_colors = 4\n",
    "num_classes = 2\n",
    "\n",
    "# create the output and temporary saving directories\n",
    "# if not os.path.exists(outputdatadir):\n",
    "#     os.makedirs(outputdatadir)\n",
    "# if not os.path.exists(logdatadir):\n",
    "#     os.makedirs(logdatadir)\n",
    "\n",
    "# create model\n",
    "model = createmodel(num_classes, imsize, n_colors)\n",
    "\n",
    "# train model\n",
    "trainer = trainmodel(model)\n",
    "\n",
    "print(trainer)\n",
    "print(trainer.device)\n",
    "# test model\n",
    "# results = testmodel(model)\n"
   ]
  },
  {
   "cell_type": "code",
   "execution_count": null,
   "metadata": {},
   "outputs": [],
   "source": []
  }
 ],
 "metadata": {
  "kernelspec": {
   "display_name": "dnn",
   "language": "python",
   "name": "dnn"
  },
  "language_info": {
   "codemirror_mode": {
    "name": "ipython",
    "version": 3
   },
   "file_extension": ".py",
   "mimetype": "text/x-python",
   "name": "python",
   "nbconvert_exporter": "python",
   "pygments_lexer": "ipython3",
   "version": "3.6.5"
  }
 },
 "nbformat": 4,
 "nbformat_minor": 2
}
