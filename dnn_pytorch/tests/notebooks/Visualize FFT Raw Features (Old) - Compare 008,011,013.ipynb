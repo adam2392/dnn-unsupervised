{
 "cells": [
  {
   "cell_type": "markdown",
   "metadata": {},
   "source": [
    "# Comparing ID011, Id008 and id013 (Real and TVB Sim)\n",
    "In the old simulations, I had trained a CNN using non-augmented datasets for LOO and augmented with additinoal TVB sims of id008 and id013.\n",
    "\n",
    "You would expect id008 and id013 to improve, or at least id013 since it was a succes, and the TVB sims probably captured the variability in the frequency domain, but instead, it improved generalization of the id011 network."
   ]
  },
  {
   "cell_type": "code",
   "execution_count": null,
   "metadata": {},
   "outputs": [],
   "source": []
  }
 ],
 "metadata": {
  "kernelspec": {
   "display_name": "dnn",
   "language": "python",
   "name": "dnn"
  },
  "language_info": {
   "codemirror_mode": {
    "name": "ipython",
    "version": 3
   },
   "file_extension": ".py",
   "mimetype": "text/x-python",
   "name": "python",
   "nbconvert_exporter": "python",
   "pygments_lexer": "ipython3",
   "version": "3.6.5"
  }
 },
 "nbformat": 4,
 "nbformat_minor": 2
}
